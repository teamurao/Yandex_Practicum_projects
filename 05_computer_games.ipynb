{
 "cells": [
  {
   "cell_type": "markdown",
   "metadata": {},
   "source": [
    "# Исследование компьютерных игр"
   ]
  },
  {
   "cell_type": "markdown",
   "metadata": {},
   "source": [
    "В нашем распоряжении данные о продажах игр, оценки пользователей и экспертов, жанры и платформы (например, Xbox или PlayStation). Нам нужно выявить определяющие успешность игры закономерности. Это позволит сделать ставку на потенциально популярный продукт и спланировать рекламные кампании."
   ]
  },
  {
   "cell_type": "markdown",
   "metadata": {},
   "source": [
    "Перед нами данные за 2016 год. Перед нами задача: спланировать кампанию на 2017-й год. (Нужно отработать принцип работы с данными). Данные за 2016 год могут быть неполными."
   ]
  },
  {
   "cell_type": "markdown",
   "metadata": {},
   "source": [
    "***Важно:*** В наборе данных попадается аббревиатура ESRB (Entertainment Software Rating Board) — это ассоциация, определяющая возрастной рейтинг компьютерных игр. ESRB оценивает игровой контент и присваивает ему подходящую возрастную категорию, например, «Для взрослых», «Для детей младшего возраста» или «Для подростков»."
   ]
  },
  {
   "cell_type": "markdown",
   "metadata": {},
   "source": [
    "### Откроем файл с данными и изучим общую информацию "
   ]
  },
  {
   "cell_type": "code",
   "execution_count": 2,
   "metadata": {},
   "outputs": [],
   "source": [
    "import pandas as pd\n",
    "import matplotlib.pyplot as plt\n",
    "import numpy as np\n",
    "import seaborn as sns\n",
    "from scipy import stats as st"
   ]
  },
  {
   "cell_type": "code",
   "execution_count": 3,
   "metadata": {},
   "outputs": [],
   "source": [
    "data = pd.read_csv('/datasets/games.csv', sep=',')"
   ]
  },
  {
   "cell_type": "code",
   "execution_count": 4,
   "metadata": {},
   "outputs": [],
   "source": [
    "pd.set_option('display.max_columns', None)"
   ]
  },
  {
   "cell_type": "code",
   "execution_count": 5,
   "metadata": {},
   "outputs": [
    {
     "data": {
      "text/html": [
       "<div>\n",
       "<style scoped>\n",
       "    .dataframe tbody tr th:only-of-type {\n",
       "        vertical-align: middle;\n",
       "    }\n",
       "\n",
       "    .dataframe tbody tr th {\n",
       "        vertical-align: top;\n",
       "    }\n",
       "\n",
       "    .dataframe thead th {\n",
       "        text-align: right;\n",
       "    }\n",
       "</style>\n",
       "<table border=\"1\" class=\"dataframe\">\n",
       "  <thead>\n",
       "    <tr style=\"text-align: right;\">\n",
       "      <th></th>\n",
       "      <th>Name</th>\n",
       "      <th>Platform</th>\n",
       "      <th>Year_of_Release</th>\n",
       "      <th>Genre</th>\n",
       "      <th>NA_sales</th>\n",
       "      <th>EU_sales</th>\n",
       "      <th>JP_sales</th>\n",
       "      <th>Other_sales</th>\n",
       "      <th>Critic_Score</th>\n",
       "      <th>User_Score</th>\n",
       "      <th>Rating</th>\n",
       "    </tr>\n",
       "  </thead>\n",
       "  <tbody>\n",
       "    <tr>\n",
       "      <th>0</th>\n",
       "      <td>Wii Sports</td>\n",
       "      <td>Wii</td>\n",
       "      <td>2006.0</td>\n",
       "      <td>Sports</td>\n",
       "      <td>41.36</td>\n",
       "      <td>28.96</td>\n",
       "      <td>3.77</td>\n",
       "      <td>8.45</td>\n",
       "      <td>76.0</td>\n",
       "      <td>8</td>\n",
       "      <td>E</td>\n",
       "    </tr>\n",
       "    <tr>\n",
       "      <th>1</th>\n",
       "      <td>Super Mario Bros.</td>\n",
       "      <td>NES</td>\n",
       "      <td>1985.0</td>\n",
       "      <td>Platform</td>\n",
       "      <td>29.08</td>\n",
       "      <td>3.58</td>\n",
       "      <td>6.81</td>\n",
       "      <td>0.77</td>\n",
       "      <td>NaN</td>\n",
       "      <td>NaN</td>\n",
       "      <td>NaN</td>\n",
       "    </tr>\n",
       "    <tr>\n",
       "      <th>2</th>\n",
       "      <td>Mario Kart Wii</td>\n",
       "      <td>Wii</td>\n",
       "      <td>2008.0</td>\n",
       "      <td>Racing</td>\n",
       "      <td>15.68</td>\n",
       "      <td>12.76</td>\n",
       "      <td>3.79</td>\n",
       "      <td>3.29</td>\n",
       "      <td>82.0</td>\n",
       "      <td>8.3</td>\n",
       "      <td>E</td>\n",
       "    </tr>\n",
       "    <tr>\n",
       "      <th>3</th>\n",
       "      <td>Wii Sports Resort</td>\n",
       "      <td>Wii</td>\n",
       "      <td>2009.0</td>\n",
       "      <td>Sports</td>\n",
       "      <td>15.61</td>\n",
       "      <td>10.93</td>\n",
       "      <td>3.28</td>\n",
       "      <td>2.95</td>\n",
       "      <td>80.0</td>\n",
       "      <td>8</td>\n",
       "      <td>E</td>\n",
       "    </tr>\n",
       "    <tr>\n",
       "      <th>4</th>\n",
       "      <td>Pokemon Red/Pokemon Blue</td>\n",
       "      <td>GB</td>\n",
       "      <td>1996.0</td>\n",
       "      <td>Role-Playing</td>\n",
       "      <td>11.27</td>\n",
       "      <td>8.89</td>\n",
       "      <td>10.22</td>\n",
       "      <td>1.00</td>\n",
       "      <td>NaN</td>\n",
       "      <td>NaN</td>\n",
       "      <td>NaN</td>\n",
       "    </tr>\n",
       "    <tr>\n",
       "      <th>5</th>\n",
       "      <td>Tetris</td>\n",
       "      <td>GB</td>\n",
       "      <td>1989.0</td>\n",
       "      <td>Puzzle</td>\n",
       "      <td>23.20</td>\n",
       "      <td>2.26</td>\n",
       "      <td>4.22</td>\n",
       "      <td>0.58</td>\n",
       "      <td>NaN</td>\n",
       "      <td>NaN</td>\n",
       "      <td>NaN</td>\n",
       "    </tr>\n",
       "    <tr>\n",
       "      <th>6</th>\n",
       "      <td>New Super Mario Bros.</td>\n",
       "      <td>DS</td>\n",
       "      <td>2006.0</td>\n",
       "      <td>Platform</td>\n",
       "      <td>11.28</td>\n",
       "      <td>9.14</td>\n",
       "      <td>6.50</td>\n",
       "      <td>2.88</td>\n",
       "      <td>89.0</td>\n",
       "      <td>8.5</td>\n",
       "      <td>E</td>\n",
       "    </tr>\n",
       "    <tr>\n",
       "      <th>7</th>\n",
       "      <td>Wii Play</td>\n",
       "      <td>Wii</td>\n",
       "      <td>2006.0</td>\n",
       "      <td>Misc</td>\n",
       "      <td>13.96</td>\n",
       "      <td>9.18</td>\n",
       "      <td>2.93</td>\n",
       "      <td>2.84</td>\n",
       "      <td>58.0</td>\n",
       "      <td>6.6</td>\n",
       "      <td>E</td>\n",
       "    </tr>\n",
       "    <tr>\n",
       "      <th>8</th>\n",
       "      <td>New Super Mario Bros. Wii</td>\n",
       "      <td>Wii</td>\n",
       "      <td>2009.0</td>\n",
       "      <td>Platform</td>\n",
       "      <td>14.44</td>\n",
       "      <td>6.94</td>\n",
       "      <td>4.70</td>\n",
       "      <td>2.24</td>\n",
       "      <td>87.0</td>\n",
       "      <td>8.4</td>\n",
       "      <td>E</td>\n",
       "    </tr>\n",
       "    <tr>\n",
       "      <th>9</th>\n",
       "      <td>Duck Hunt</td>\n",
       "      <td>NES</td>\n",
       "      <td>1984.0</td>\n",
       "      <td>Shooter</td>\n",
       "      <td>26.93</td>\n",
       "      <td>0.63</td>\n",
       "      <td>0.28</td>\n",
       "      <td>0.47</td>\n",
       "      <td>NaN</td>\n",
       "      <td>NaN</td>\n",
       "      <td>NaN</td>\n",
       "    </tr>\n",
       "  </tbody>\n",
       "</table>\n",
       "</div>"
      ],
      "text/plain": [
       "                        Name Platform  Year_of_Release         Genre  \\\n",
       "0                 Wii Sports      Wii           2006.0        Sports   \n",
       "1          Super Mario Bros.      NES           1985.0      Platform   \n",
       "2             Mario Kart Wii      Wii           2008.0        Racing   \n",
       "3          Wii Sports Resort      Wii           2009.0        Sports   \n",
       "4   Pokemon Red/Pokemon Blue       GB           1996.0  Role-Playing   \n",
       "5                     Tetris       GB           1989.0        Puzzle   \n",
       "6      New Super Mario Bros.       DS           2006.0      Platform   \n",
       "7                   Wii Play      Wii           2006.0          Misc   \n",
       "8  New Super Mario Bros. Wii      Wii           2009.0      Platform   \n",
       "9                  Duck Hunt      NES           1984.0       Shooter   \n",
       "\n",
       "   NA_sales  EU_sales  JP_sales  Other_sales  Critic_Score User_Score Rating  \n",
       "0     41.36     28.96      3.77         8.45          76.0          8      E  \n",
       "1     29.08      3.58      6.81         0.77           NaN        NaN    NaN  \n",
       "2     15.68     12.76      3.79         3.29          82.0        8.3      E  \n",
       "3     15.61     10.93      3.28         2.95          80.0          8      E  \n",
       "4     11.27      8.89     10.22         1.00           NaN        NaN    NaN  \n",
       "5     23.20      2.26      4.22         0.58           NaN        NaN    NaN  \n",
       "6     11.28      9.14      6.50         2.88          89.0        8.5      E  \n",
       "7     13.96      9.18      2.93         2.84          58.0        6.6      E  \n",
       "8     14.44      6.94      4.70         2.24          87.0        8.4      E  \n",
       "9     26.93      0.63      0.28         0.47           NaN        NaN    NaN  "
      ]
     },
     "execution_count": 5,
     "metadata": {},
     "output_type": "execute_result"
    }
   ],
   "source": [
    "data.head(10)"
   ]
  },
  {
   "cell_type": "code",
   "execution_count": 6,
   "metadata": {},
   "outputs": [
    {
     "name": "stdout",
     "output_type": "stream",
     "text": [
      "<class 'pandas.core.frame.DataFrame'>\n",
      "RangeIndex: 16715 entries, 0 to 16714\n",
      "Data columns (total 11 columns):\n",
      " #   Column           Non-Null Count  Dtype  \n",
      "---  ------           --------------  -----  \n",
      " 0   Name             16713 non-null  object \n",
      " 1   Platform         16715 non-null  object \n",
      " 2   Year_of_Release  16446 non-null  float64\n",
      " 3   Genre            16713 non-null  object \n",
      " 4   NA_sales         16715 non-null  float64\n",
      " 5   EU_sales         16715 non-null  float64\n",
      " 6   JP_sales         16715 non-null  float64\n",
      " 7   Other_sales      16715 non-null  float64\n",
      " 8   Critic_Score     8137 non-null   float64\n",
      " 9   User_Score       10014 non-null  object \n",
      " 10  Rating           9949 non-null   object \n",
      "dtypes: float64(6), object(5)\n",
      "memory usage: 1.4+ MB\n"
     ]
    }
   ],
   "source": [
    "data.info()"
   ]
  },
  {
   "cell_type": "code",
   "execution_count": 7,
   "metadata": {},
   "outputs": [
    {
     "data": {
      "text/html": [
       "<div>\n",
       "<style scoped>\n",
       "    .dataframe tbody tr th:only-of-type {\n",
       "        vertical-align: middle;\n",
       "    }\n",
       "\n",
       "    .dataframe tbody tr th {\n",
       "        vertical-align: top;\n",
       "    }\n",
       "\n",
       "    .dataframe thead th {\n",
       "        text-align: right;\n",
       "    }\n",
       "</style>\n",
       "<table border=\"1\" class=\"dataframe\">\n",
       "  <thead>\n",
       "    <tr style=\"text-align: right;\">\n",
       "      <th></th>\n",
       "      <th>Year_of_Release</th>\n",
       "      <th>NA_sales</th>\n",
       "      <th>EU_sales</th>\n",
       "      <th>JP_sales</th>\n",
       "      <th>Other_sales</th>\n",
       "      <th>Critic_Score</th>\n",
       "    </tr>\n",
       "  </thead>\n",
       "  <tbody>\n",
       "    <tr>\n",
       "      <th>count</th>\n",
       "      <td>16446.000000</td>\n",
       "      <td>16715.000000</td>\n",
       "      <td>16715.000000</td>\n",
       "      <td>16715.000000</td>\n",
       "      <td>16715.000000</td>\n",
       "      <td>8137.000000</td>\n",
       "    </tr>\n",
       "    <tr>\n",
       "      <th>mean</th>\n",
       "      <td>2006.484616</td>\n",
       "      <td>0.263377</td>\n",
       "      <td>0.145060</td>\n",
       "      <td>0.077617</td>\n",
       "      <td>0.047342</td>\n",
       "      <td>68.967679</td>\n",
       "    </tr>\n",
       "    <tr>\n",
       "      <th>std</th>\n",
       "      <td>5.877050</td>\n",
       "      <td>0.813604</td>\n",
       "      <td>0.503339</td>\n",
       "      <td>0.308853</td>\n",
       "      <td>0.186731</td>\n",
       "      <td>13.938165</td>\n",
       "    </tr>\n",
       "    <tr>\n",
       "      <th>min</th>\n",
       "      <td>1980.000000</td>\n",
       "      <td>0.000000</td>\n",
       "      <td>0.000000</td>\n",
       "      <td>0.000000</td>\n",
       "      <td>0.000000</td>\n",
       "      <td>13.000000</td>\n",
       "    </tr>\n",
       "    <tr>\n",
       "      <th>25%</th>\n",
       "      <td>2003.000000</td>\n",
       "      <td>0.000000</td>\n",
       "      <td>0.000000</td>\n",
       "      <td>0.000000</td>\n",
       "      <td>0.000000</td>\n",
       "      <td>60.000000</td>\n",
       "    </tr>\n",
       "    <tr>\n",
       "      <th>50%</th>\n",
       "      <td>2007.000000</td>\n",
       "      <td>0.080000</td>\n",
       "      <td>0.020000</td>\n",
       "      <td>0.000000</td>\n",
       "      <td>0.010000</td>\n",
       "      <td>71.000000</td>\n",
       "    </tr>\n",
       "    <tr>\n",
       "      <th>75%</th>\n",
       "      <td>2010.000000</td>\n",
       "      <td>0.240000</td>\n",
       "      <td>0.110000</td>\n",
       "      <td>0.040000</td>\n",
       "      <td>0.030000</td>\n",
       "      <td>79.000000</td>\n",
       "    </tr>\n",
       "    <tr>\n",
       "      <th>max</th>\n",
       "      <td>2016.000000</td>\n",
       "      <td>41.360000</td>\n",
       "      <td>28.960000</td>\n",
       "      <td>10.220000</td>\n",
       "      <td>10.570000</td>\n",
       "      <td>98.000000</td>\n",
       "    </tr>\n",
       "  </tbody>\n",
       "</table>\n",
       "</div>"
      ],
      "text/plain": [
       "       Year_of_Release      NA_sales      EU_sales      JP_sales  \\\n",
       "count     16446.000000  16715.000000  16715.000000  16715.000000   \n",
       "mean       2006.484616      0.263377      0.145060      0.077617   \n",
       "std           5.877050      0.813604      0.503339      0.308853   \n",
       "min        1980.000000      0.000000      0.000000      0.000000   \n",
       "25%        2003.000000      0.000000      0.000000      0.000000   \n",
       "50%        2007.000000      0.080000      0.020000      0.000000   \n",
       "75%        2010.000000      0.240000      0.110000      0.040000   \n",
       "max        2016.000000     41.360000     28.960000     10.220000   \n",
       "\n",
       "        Other_sales  Critic_Score  \n",
       "count  16715.000000   8137.000000  \n",
       "mean       0.047342     68.967679  \n",
       "std        0.186731     13.938165  \n",
       "min        0.000000     13.000000  \n",
       "25%        0.000000     60.000000  \n",
       "50%        0.010000     71.000000  \n",
       "75%        0.030000     79.000000  \n",
       "max       10.570000     98.000000  "
      ]
     },
     "execution_count": 7,
     "metadata": {},
     "output_type": "execute_result"
    }
   ],
   "source": [
    "data.describe()"
   ]
  },
  {
   "cell_type": "code",
   "execution_count": 8,
   "metadata": {},
   "outputs": [
    {
     "data": {
      "text/plain": [
       "Name                  2\n",
       "Platform              0\n",
       "Year_of_Release     269\n",
       "Genre                 2\n",
       "NA_sales              0\n",
       "EU_sales              0\n",
       "JP_sales              0\n",
       "Other_sales           0\n",
       "Critic_Score       8578\n",
       "User_Score         6701\n",
       "Rating             6766\n",
       "dtype: int64"
      ]
     },
     "execution_count": 8,
     "metadata": {},
     "output_type": "execute_result"
    }
   ],
   "source": [
    "# ищем пропуски\n",
    "data.isna().sum()"
   ]
  },
  {
   "cell_type": "code",
   "execution_count": 9,
   "metadata": {},
   "outputs": [
    {
     "data": {
      "image/png": "[encoded data removed]",
      "text/plain": [
       "<Figure size 1080x1440 with 6 Axes>"
      ]
     },
     "metadata": {
      "needs_background": "light"
     },
     "output_type": "display_data"
    }
   ],
   "source": [
    "data.hist(figsize=(15, 20))\n",
    "plt.show()"
   ]
  },
  {
   "cell_type": "markdown",
   "metadata": {},
   "source": [
    "**Вывод** В данных есть пропуски, некоторые столбцы имеют неправильное название (не по правилам snake_case),  указаны неправильные типы данных в столбцах.\n",
    "\n",
    "Всего в таблице 16715 записей. Нужно изучить данные на выбросы, явные и неявные дубликаты.\n",
    "\n",
    "    Name — название игры, есть 2 пропуска, object\n",
    "    Platform — платформа, object\n",
    "    Year_of_Release — год выпуска, 269 пропусков, float (лучше поменять на int)\n",
    "    Genre — жанр игры, 2 пропуска, object\n",
    "    NA_sales — продажи в Северной Америке (миллионы проданных копий), float\n",
    "    EU_sales — продажи в Европе (миллионы проданных копий), float\n",
    "    JP_sales — продажи в Японии (миллионы проданных копий), float\n",
    "    Other_sales — продажи в других странах (миллионы проданных копий), float\n",
    "    Critic_Score — оценка критиков (максимум 100), 8578 пропусков (больше половины, посмотрим далее на характер пропусков), float\n",
    "    User_Score — оценка пользователей (максимум 10), 6701 пропусков (тоже большое количество пропусков), object (лучше поменять на float)\n",
    "    Rating — рейтинг от организации ESRB (англ. Entertainment Software Rating Board). Эта ассоциация определяет рейтинг компьютерных игр и присваивает им подходящую возрастную категорию. Пропусков 6766 (большое количество пропусков), object."
   ]
  },
  {
   "cell_type": "markdown",
   "metadata": {},
   "source": [
    "### Предобработка данных"
   ]
  },
  {
   "cell_type": "markdown",
   "metadata": {},
   "source": [
    "#### Заменим названия столбцов (приведем их к нижнему регистру), приведем к нижнему регистру значения в столбцах name, platform, genre, rating."
   ]
  },
  {
   "cell_type": "code",
   "execution_count": 10,
   "metadata": {},
   "outputs": [
    {
     "data": {
      "text/html": [
       "<div>\n",
       "<style scoped>\n",
       "    .dataframe tbody tr th:only-of-type {\n",
       "        vertical-align: middle;\n",
       "    }\n",
       "\n",
       "    .dataframe tbody tr th {\n",
       "        vertical-align: top;\n",
       "    }\n",
       "\n",
       "    .dataframe thead th {\n",
       "        text-align: right;\n",
       "    }\n",
       "</style>\n",
       "<table border=\"1\" class=\"dataframe\">\n",
       "  <thead>\n",
       "    <tr style=\"text-align: right;\">\n",
       "      <th></th>\n",
       "      <th>name</th>\n",
       "      <th>platform</th>\n",
       "      <th>year_of_release</th>\n",
       "      <th>genre</th>\n",
       "      <th>na_sales</th>\n",
       "      <th>eu_sales</th>\n",
       "      <th>jp_sales</th>\n",
       "      <th>other_sales</th>\n",
       "      <th>critic_score</th>\n",
       "      <th>user_score</th>\n",
       "      <th>rating</th>\n",
       "    </tr>\n",
       "  </thead>\n",
       "  <tbody>\n",
       "    <tr>\n",
       "      <th>0</th>\n",
       "      <td>wii sports</td>\n",
       "      <td>wii</td>\n",
       "      <td>2006.0</td>\n",
       "      <td>sports</td>\n",
       "      <td>41.36</td>\n",
       "      <td>28.96</td>\n",
       "      <td>3.77</td>\n",
       "      <td>8.45</td>\n",
       "      <td>76.0</td>\n",
       "      <td>8</td>\n",
       "      <td>e</td>\n",
       "    </tr>\n",
       "    <tr>\n",
       "      <th>1</th>\n",
       "      <td>super mario bros.</td>\n",
       "      <td>nes</td>\n",
       "      <td>1985.0</td>\n",
       "      <td>platform</td>\n",
       "      <td>29.08</td>\n",
       "      <td>3.58</td>\n",
       "      <td>6.81</td>\n",
       "      <td>0.77</td>\n",
       "      <td>NaN</td>\n",
       "      <td>NaN</td>\n",
       "      <td>NaN</td>\n",
       "    </tr>\n",
       "    <tr>\n",
       "      <th>2</th>\n",
       "      <td>mario kart wii</td>\n",
       "      <td>wii</td>\n",
       "      <td>2008.0</td>\n",
       "      <td>racing</td>\n",
       "      <td>15.68</td>\n",
       "      <td>12.76</td>\n",
       "      <td>3.79</td>\n",
       "      <td>3.29</td>\n",
       "      <td>82.0</td>\n",
       "      <td>8.3</td>\n",
       "      <td>e</td>\n",
       "    </tr>\n",
       "    <tr>\n",
       "      <th>3</th>\n",
       "      <td>wii sports resort</td>\n",
       "      <td>wii</td>\n",
       "      <td>2009.0</td>\n",
       "      <td>sports</td>\n",
       "      <td>15.61</td>\n",
       "      <td>10.93</td>\n",
       "      <td>3.28</td>\n",
       "      <td>2.95</td>\n",
       "      <td>80.0</td>\n",
       "      <td>8</td>\n",
       "      <td>e</td>\n",
       "    </tr>\n",
       "    <tr>\n",
       "      <th>4</th>\n",
       "      <td>pokemon red/pokemon blue</td>\n",
       "      <td>gb</td>\n",
       "      <td>1996.0</td>\n",
       "      <td>role-playing</td>\n",
       "      <td>11.27</td>\n",
       "      <td>8.89</td>\n",
       "      <td>10.22</td>\n",
       "      <td>1.00</td>\n",
       "      <td>NaN</td>\n",
       "      <td>NaN</td>\n",
       "      <td>NaN</td>\n",
       "    </tr>\n",
       "  </tbody>\n",
       "</table>\n",
       "</div>"
      ],
      "text/plain": [
       "                       name platform  year_of_release         genre  na_sales  \\\n",
       "0                wii sports      wii           2006.0        sports     41.36   \n",
       "1         super mario bros.      nes           1985.0      platform     29.08   \n",
       "2            mario kart wii      wii           2008.0        racing     15.68   \n",
       "3         wii sports resort      wii           2009.0        sports     15.61   \n",
       "4  pokemon red/pokemon blue       gb           1996.0  role-playing     11.27   \n",
       "\n",
       "   eu_sales  jp_sales  other_sales  critic_score user_score rating  \n",
       "0     28.96      3.77         8.45          76.0          8      e  \n",
       "1      3.58      6.81         0.77           NaN        NaN    NaN  \n",
       "2     12.76      3.79         3.29          82.0        8.3      e  \n",
       "3     10.93      3.28         2.95          80.0          8      e  \n",
       "4      8.89     10.22         1.00           NaN        NaN    NaN  "
      ]
     },
     "metadata": {},
     "output_type": "display_data"
    }
   ],
   "source": [
    "data.columns = data.columns.str.lower()\n",
    "\n",
    "list_of_names = ['name', 'platform', 'genre', 'rating']\n",
    "\n",
    "for one_name in list_of_names:\n",
    "    data[one_name] = data[one_name].str.lower()\n",
    "\n",
    "display(data.head())"
   ]
  },
  {
   "cell_type": "markdown",
   "metadata": {},
   "source": [
    "Привели в нижний регистр для удобства и поиска дубликатов."
   ]
  },
  {
   "cell_type": "markdown",
   "metadata": {},
   "source": [
    "#### Преобразуем данные в нужные типы, но перед этим обработаем пропуски."
   ]
  },
  {
   "cell_type": "markdown",
   "metadata": {},
   "source": [
    "Значения в столбце year_of_release (год выпуска, 269 пропусков, float) поменяем на int, т.к. год не может быть не целым числом.\n",
    "Также заменим значения в столбике user_score на float из object, потому что оценка - это число, возможно не целое, поэтому float."
   ]
  },
  {
   "cell_type": "markdown",
   "metadata": {},
   "source": [
    "Будем изучать столбцы с пропущенными значениями по очереди. Начнем со столбца name."
   ]
  },
  {
   "cell_type": "code",
   "execution_count": 11,
   "metadata": {},
   "outputs": [
    {
     "data": {
      "text/plain": [
       "2"
      ]
     },
     "execution_count": 11,
     "metadata": {},
     "output_type": "execute_result"
    }
   ],
   "source": [
    "data['name'].isna().sum()"
   ]
  },
  {
   "cell_type": "code",
   "execution_count": 12,
   "metadata": {},
   "outputs": [
    {
     "data": {
      "text/html": [
       "<div>\n",
       "<style scoped>\n",
       "    .dataframe tbody tr th:only-of-type {\n",
       "        vertical-align: middle;\n",
       "    }\n",
       "\n",
       "    .dataframe tbody tr th {\n",
       "        vertical-align: top;\n",
       "    }\n",
       "\n",
       "    .dataframe thead th {\n",
       "        text-align: right;\n",
       "    }\n",
       "</style>\n",
       "<table border=\"1\" class=\"dataframe\">\n",
       "  <thead>\n",
       "    <tr style=\"text-align: right;\">\n",
       "      <th></th>\n",
       "      <th>name</th>\n",
       "      <th>platform</th>\n",
       "      <th>year_of_release</th>\n",
       "      <th>genre</th>\n",
       "      <th>na_sales</th>\n",
       "      <th>eu_sales</th>\n",
       "      <th>jp_sales</th>\n",
       "      <th>other_sales</th>\n",
       "      <th>critic_score</th>\n",
       "      <th>user_score</th>\n",
       "      <th>rating</th>\n",
       "    </tr>\n",
       "  </thead>\n",
       "  <tbody>\n",
       "    <tr>\n",
       "      <th>659</th>\n",
       "      <td>NaN</td>\n",
       "      <td>gen</td>\n",
       "      <td>1993.0</td>\n",
       "      <td>NaN</td>\n",
       "      <td>1.78</td>\n",
       "      <td>0.53</td>\n",
       "      <td>0.00</td>\n",
       "      <td>0.08</td>\n",
       "      <td>NaN</td>\n",
       "      <td>NaN</td>\n",
       "      <td>NaN</td>\n",
       "    </tr>\n",
       "    <tr>\n",
       "      <th>14244</th>\n",
       "      <td>NaN</td>\n",
       "      <td>gen</td>\n",
       "      <td>1993.0</td>\n",
       "      <td>NaN</td>\n",
       "      <td>0.00</td>\n",
       "      <td>0.00</td>\n",
       "      <td>0.03</td>\n",
       "      <td>0.00</td>\n",
       "      <td>NaN</td>\n",
       "      <td>NaN</td>\n",
       "      <td>NaN</td>\n",
       "    </tr>\n",
       "  </tbody>\n",
       "</table>\n",
       "</div>"
      ],
      "text/plain": [
       "      name platform  year_of_release genre  na_sales  eu_sales  jp_sales  \\\n",
       "659    NaN      gen           1993.0   NaN      1.78      0.53      0.00   \n",
       "14244  NaN      gen           1993.0   NaN      0.00      0.00      0.03   \n",
       "\n",
       "       other_sales  critic_score user_score rating  \n",
       "659           0.08           NaN        NaN    NaN  \n",
       "14244         0.00           NaN        NaN    NaN  "
      ]
     },
     "execution_count": 12,
     "metadata": {},
     "output_type": "execute_result"
    }
   ],
   "source": [
    "data.loc[data['name'].isna()]"
   ]
  },
  {
   "cell_type": "markdown",
   "metadata": {},
   "source": [
    "У этих двух игр без названия нет также многих других значений. Без названий игр мы не сможем проанализировать данные, поэтому 2 безыменных игры можем удалить."
   ]
  },
  {
   "cell_type": "code",
   "execution_count": 13,
   "metadata": {},
   "outputs": [],
   "source": [
    "data.dropna(subset=['name'], inplace=True)"
   ]
  },
  {
   "cell_type": "code",
   "execution_count": 14,
   "metadata": {},
   "outputs": [
    {
     "data": {
      "text/plain": [
       "0"
      ]
     },
     "execution_count": 14,
     "metadata": {},
     "output_type": "execute_result"
    }
   ],
   "source": [
    "data['name'].isna().sum()"
   ]
  },
  {
   "cell_type": "markdown",
   "metadata": {},
   "source": [
    "Перейдем к столбцу genre."
   ]
  },
  {
   "cell_type": "code",
   "execution_count": 15,
   "metadata": {},
   "outputs": [
    {
     "data": {
      "text/plain": [
       "0"
      ]
     },
     "execution_count": 15,
     "metadata": {},
     "output_type": "execute_result"
    }
   ],
   "source": [
    "data['genre'].isna().sum()"
   ]
  },
  {
   "cell_type": "markdown",
   "metadata": {},
   "source": [
    "Кажется, что 2 игры без названия не имели еще и жанров. Игры без названий мы удалили еще в предыдущем шаге. Можем двигаться дальше. Посмотрим на столбец с годом релиза игры year_of_release."
   ]
  },
  {
   "cell_type": "code",
   "execution_count": 16,
   "metadata": {},
   "outputs": [
    {
     "data": {
      "text/plain": [
       "269"
      ]
     },
     "execution_count": 16,
     "metadata": {},
     "output_type": "execute_result"
    }
   ],
   "source": [
    "data['year_of_release'].isna().sum()"
   ]
  },
  {
   "cell_type": "code",
   "execution_count": 17,
   "metadata": {},
   "outputs": [
    {
     "data": {
      "text/html": [
       "<div>\n",
       "<style scoped>\n",
       "    .dataframe tbody tr th:only-of-type {\n",
       "        vertical-align: middle;\n",
       "    }\n",
       "\n",
       "    .dataframe tbody tr th {\n",
       "        vertical-align: top;\n",
       "    }\n",
       "\n",
       "    .dataframe thead th {\n",
       "        text-align: right;\n",
       "    }\n",
       "</style>\n",
       "<table border=\"1\" class=\"dataframe\">\n",
       "  <thead>\n",
       "    <tr style=\"text-align: right;\">\n",
       "      <th></th>\n",
       "      <th>name</th>\n",
       "      <th>platform</th>\n",
       "      <th>year_of_release</th>\n",
       "      <th>genre</th>\n",
       "      <th>na_sales</th>\n",
       "      <th>eu_sales</th>\n",
       "      <th>jp_sales</th>\n",
       "      <th>other_sales</th>\n",
       "      <th>critic_score</th>\n",
       "      <th>user_score</th>\n",
       "      <th>rating</th>\n",
       "    </tr>\n",
       "  </thead>\n",
       "  <tbody>\n",
       "    <tr>\n",
       "      <th>183</th>\n",
       "      <td>madden nfl 2004</td>\n",
       "      <td>ps2</td>\n",
       "      <td>NaN</td>\n",
       "      <td>sports</td>\n",
       "      <td>4.26</td>\n",
       "      <td>0.26</td>\n",
       "      <td>0.01</td>\n",
       "      <td>0.71</td>\n",
       "      <td>94.0</td>\n",
       "      <td>8.5</td>\n",
       "      <td>e</td>\n",
       "    </tr>\n",
       "    <tr>\n",
       "      <th>377</th>\n",
       "      <td>fifa soccer 2004</td>\n",
       "      <td>ps2</td>\n",
       "      <td>NaN</td>\n",
       "      <td>sports</td>\n",
       "      <td>0.59</td>\n",
       "      <td>2.36</td>\n",
       "      <td>0.04</td>\n",
       "      <td>0.51</td>\n",
       "      <td>84.0</td>\n",
       "      <td>6.4</td>\n",
       "      <td>e</td>\n",
       "    </tr>\n",
       "    <tr>\n",
       "      <th>456</th>\n",
       "      <td>lego batman: the videogame</td>\n",
       "      <td>wii</td>\n",
       "      <td>NaN</td>\n",
       "      <td>action</td>\n",
       "      <td>1.80</td>\n",
       "      <td>0.97</td>\n",
       "      <td>0.00</td>\n",
       "      <td>0.29</td>\n",
       "      <td>74.0</td>\n",
       "      <td>7.9</td>\n",
       "      <td>e10+</td>\n",
       "    </tr>\n",
       "    <tr>\n",
       "      <th>475</th>\n",
       "      <td>wwe smackdown vs. raw 2006</td>\n",
       "      <td>ps2</td>\n",
       "      <td>NaN</td>\n",
       "      <td>fighting</td>\n",
       "      <td>1.57</td>\n",
       "      <td>1.02</td>\n",
       "      <td>0.00</td>\n",
       "      <td>0.41</td>\n",
       "      <td>NaN</td>\n",
       "      <td>NaN</td>\n",
       "      <td>NaN</td>\n",
       "    </tr>\n",
       "    <tr>\n",
       "      <th>609</th>\n",
       "      <td>space invaders</td>\n",
       "      <td>2600</td>\n",
       "      <td>NaN</td>\n",
       "      <td>shooter</td>\n",
       "      <td>2.36</td>\n",
       "      <td>0.14</td>\n",
       "      <td>0.00</td>\n",
       "      <td>0.03</td>\n",
       "      <td>NaN</td>\n",
       "      <td>NaN</td>\n",
       "      <td>NaN</td>\n",
       "    </tr>\n",
       "    <tr>\n",
       "      <th>...</th>\n",
       "      <td>...</td>\n",
       "      <td>...</td>\n",
       "      <td>...</td>\n",
       "      <td>...</td>\n",
       "      <td>...</td>\n",
       "      <td>...</td>\n",
       "      <td>...</td>\n",
       "      <td>...</td>\n",
       "      <td>...</td>\n",
       "      <td>...</td>\n",
       "      <td>...</td>\n",
       "    </tr>\n",
       "    <tr>\n",
       "      <th>16373</th>\n",
       "      <td>pdc world championship darts 2008</td>\n",
       "      <td>psp</td>\n",
       "      <td>NaN</td>\n",
       "      <td>sports</td>\n",
       "      <td>0.01</td>\n",
       "      <td>0.00</td>\n",
       "      <td>0.00</td>\n",
       "      <td>0.00</td>\n",
       "      <td>43.0</td>\n",
       "      <td>tbd</td>\n",
       "      <td>e10+</td>\n",
       "    </tr>\n",
       "    <tr>\n",
       "      <th>16405</th>\n",
       "      <td>freaky flyers</td>\n",
       "      <td>gc</td>\n",
       "      <td>NaN</td>\n",
       "      <td>racing</td>\n",
       "      <td>0.01</td>\n",
       "      <td>0.00</td>\n",
       "      <td>0.00</td>\n",
       "      <td>0.00</td>\n",
       "      <td>69.0</td>\n",
       "      <td>6.5</td>\n",
       "      <td>t</td>\n",
       "    </tr>\n",
       "    <tr>\n",
       "      <th>16448</th>\n",
       "      <td>inversion</td>\n",
       "      <td>pc</td>\n",
       "      <td>NaN</td>\n",
       "      <td>shooter</td>\n",
       "      <td>0.01</td>\n",
       "      <td>0.00</td>\n",
       "      <td>0.00</td>\n",
       "      <td>0.00</td>\n",
       "      <td>59.0</td>\n",
       "      <td>6.7</td>\n",
       "      <td>m</td>\n",
       "    </tr>\n",
       "    <tr>\n",
       "      <th>16458</th>\n",
       "      <td>hakuouki: shinsengumi kitan</td>\n",
       "      <td>ps3</td>\n",
       "      <td>NaN</td>\n",
       "      <td>adventure</td>\n",
       "      <td>0.01</td>\n",
       "      <td>0.00</td>\n",
       "      <td>0.00</td>\n",
       "      <td>0.00</td>\n",
       "      <td>NaN</td>\n",
       "      <td>NaN</td>\n",
       "      <td>NaN</td>\n",
       "    </tr>\n",
       "    <tr>\n",
       "      <th>16522</th>\n",
       "      <td>virtua quest</td>\n",
       "      <td>gc</td>\n",
       "      <td>NaN</td>\n",
       "      <td>role-playing</td>\n",
       "      <td>0.01</td>\n",
       "      <td>0.00</td>\n",
       "      <td>0.00</td>\n",
       "      <td>0.00</td>\n",
       "      <td>55.0</td>\n",
       "      <td>5.5</td>\n",
       "      <td>t</td>\n",
       "    </tr>\n",
       "  </tbody>\n",
       "</table>\n",
       "<p>269 rows × 11 columns</p>\n",
       "</div>"
      ],
      "text/plain": [
       "                                    name platform  year_of_release  \\\n",
       "183                      madden nfl 2004      ps2              NaN   \n",
       "377                     fifa soccer 2004      ps2              NaN   \n",
       "456           lego batman: the videogame      wii              NaN   \n",
       "475           wwe smackdown vs. raw 2006      ps2              NaN   \n",
       "609                       space invaders     2600              NaN   \n",
       "...                                  ...      ...              ...   \n",
       "16373  pdc world championship darts 2008      psp              NaN   \n",
       "16405                      freaky flyers       gc              NaN   \n",
       "16448                          inversion       pc              NaN   \n",
       "16458        hakuouki: shinsengumi kitan      ps3              NaN   \n",
       "16522                       virtua quest       gc              NaN   \n",
       "\n",
       "              genre  na_sales  eu_sales  jp_sales  other_sales  critic_score  \\\n",
       "183          sports      4.26      0.26      0.01         0.71          94.0   \n",
       "377          sports      0.59      2.36      0.04         0.51          84.0   \n",
       "456          action      1.80      0.97      0.00         0.29          74.0   \n",
       "475        fighting      1.57      1.02      0.00         0.41           NaN   \n",
       "609         shooter      2.36      0.14      0.00         0.03           NaN   \n",
       "...             ...       ...       ...       ...          ...           ...   \n",
       "16373        sports      0.01      0.00      0.00         0.00          43.0   \n",
       "16405        racing      0.01      0.00      0.00         0.00          69.0   \n",
       "16448       shooter      0.01      0.00      0.00         0.00          59.0   \n",
       "16458     adventure      0.01      0.00      0.00         0.00           NaN   \n",
       "16522  role-playing      0.01      0.00      0.00         0.00          55.0   \n",
       "\n",
       "      user_score rating  \n",
       "183          8.5      e  \n",
       "377          6.4      e  \n",
       "456          7.9   e10+  \n",
       "475          NaN    NaN  \n",
       "609          NaN    NaN  \n",
       "...          ...    ...  \n",
       "16373        tbd   e10+  \n",
       "16405        6.5      t  \n",
       "16448        6.7      m  \n",
       "16458        NaN    NaN  \n",
       "16522        5.5      t  \n",
       "\n",
       "[269 rows x 11 columns]"
      ]
     },
     "execution_count": 17,
     "metadata": {},
     "output_type": "execute_result"
    }
   ],
   "source": [
    "data.loc[data['year_of_release'].isna()]"
   ]
  },
  {
   "cell_type": "markdown",
   "metadata": {},
   "source": [
    "В названиях некоторых фильмов есть года. Можно попробовать выделить эти года из названий, но есть проблема. Например, игра Madden NFL 2004 выпущена не в 2004, а в 2003 году. Получается, что не обязательно число, которое есть в названии игры является фактическим годом выпуска. Разница между указанным годом в названии и фактическим годом выпуска игры может быть небольшая, которая не повлияет на итоговое решение. Мы попробуем сделать по-другому.\n",
    "В нашем dataframe возможно есть игры с аналогичными названиями, которые выпущены под другую платформу. Такие игры часто выпускаются в один год. "
   ]
  },
  {
   "cell_type": "code",
   "execution_count": 18,
   "metadata": {},
   "outputs": [],
   "source": [
    "data['year_of_release'] = data['year_of_release'].fillna(data.groupby('name')['year_of_release'].transform('first'))"
   ]
  },
  {
   "cell_type": "code",
   "execution_count": 19,
   "metadata": {},
   "outputs": [
    {
     "data": {
      "text/plain": [
       "146"
      ]
     },
     "execution_count": 19,
     "metadata": {},
     "output_type": "execute_result"
    }
   ],
   "source": [
    "data['year_of_release'].isna().sum()"
   ]
  },
  {
   "cell_type": "markdown",
   "metadata": {},
   "source": [
    "Мы спасли часть данных. Остальные пропуски, к сожалению, никак не заполнить. 146 - не так много, придется удалить, чтобы не заполнять 0."
   ]
  },
  {
   "cell_type": "code",
   "execution_count": 20,
   "metadata": {},
   "outputs": [],
   "source": [
    "data = data.dropna(subset=['year_of_release'])"
   ]
  },
  {
   "cell_type": "code",
   "execution_count": 21,
   "metadata": {},
   "outputs": [
    {
     "data": {
      "text/plain": [
       "0"
      ]
     },
     "execution_count": 21,
     "metadata": {},
     "output_type": "execute_result"
    }
   ],
   "source": [
    "data['year_of_release'].isna().sum()"
   ]
  },
  {
   "cell_type": "markdown",
   "metadata": {},
   "source": [
    "Переведем данные из столбца year_of_release в тип данных int, т.к. год не может быть не целым."
   ]
  },
  {
   "cell_type": "code",
   "execution_count": 22,
   "metadata": {},
   "outputs": [
    {
     "data": {
      "text/plain": [
       "0        2006\n",
       "1        1985\n",
       "2        2008\n",
       "3        2009\n",
       "4        1996\n",
       "         ... \n",
       "16710    2016\n",
       "16711    2006\n",
       "16712    2016\n",
       "16713    2003\n",
       "16714    2016\n",
       "Name: year_of_release, Length: 16567, dtype: int64"
      ]
     },
     "execution_count": 22,
     "metadata": {},
     "output_type": "execute_result"
    }
   ],
   "source": [
    "data['year_of_release'] = data['year_of_release'].astype(int)\n",
    "data['year_of_release']"
   ]
  },
  {
   "cell_type": "markdown",
   "metadata": {},
   "source": [
    "Обратим внимание на столбец critic_score, посмотрим пропуски в этом столбце."
   ]
  },
  {
   "cell_type": "code",
   "execution_count": 23,
   "metadata": {},
   "outputs": [
    {
     "data": {
      "text/plain": [
       "8492"
      ]
     },
     "execution_count": 23,
     "metadata": {},
     "output_type": "execute_result"
    }
   ],
   "source": [
    "data['critic_score'].isna().sum()"
   ]
  },
  {
   "cell_type": "code",
   "execution_count": 24,
   "metadata": {},
   "outputs": [
    {
     "data": {
      "text/plain": [
       "count    8075.000000\n",
       "mean       68.991950\n",
       "std        13.923383\n",
       "min        13.000000\n",
       "25%        60.000000\n",
       "50%        71.000000\n",
       "75%        79.000000\n",
       "max        98.000000\n",
       "Name: critic_score, dtype: float64"
      ]
     },
     "execution_count": 24,
     "metadata": {},
     "output_type": "execute_result"
    }
   ],
   "source": [
    "data['critic_score'].describe()"
   ]
  },
  {
   "cell_type": "markdown",
   "metadata": {},
   "source": [
    "Если мы будем заполнять пропущенные значения медианой, то это может исказить данные. Заполним данные -1, но будем помнить, что -1 обозначает отсутствие данных. (Имеем право заменить на -1, т.к. других нулей в столбце нет, минимальное значение - 13)."
   ]
  },
  {
   "cell_type": "code",
   "execution_count": 25,
   "metadata": {},
   "outputs": [],
   "source": [
    "data['critic_score'] = data['critic_score'].fillna(-1)"
   ]
  },
  {
   "cell_type": "code",
   "execution_count": 26,
   "metadata": {},
   "outputs": [
    {
     "data": {
      "text/plain": [
       "0"
      ]
     },
     "execution_count": 26,
     "metadata": {},
     "output_type": "execute_result"
    }
   ],
   "source": [
    "data['critic_score'].isna().sum()"
   ]
  },
  {
   "cell_type": "markdown",
   "metadata": {},
   "source": [
    "Обратим внимание на столбец user_score."
   ]
  },
  {
   "cell_type": "code",
   "execution_count": 27,
   "metadata": {},
   "outputs": [
    {
     "data": {
      "text/plain": [
       "6633"
      ]
     },
     "execution_count": 27,
     "metadata": {},
     "output_type": "execute_result"
    }
   ],
   "source": [
    "data['user_score'].isna().sum()"
   ]
  },
  {
   "cell_type": "markdown",
   "metadata": {},
   "source": [
    "Пропущенных значений так же много, как и в столбце critic_score."
   ]
  },
  {
   "cell_type": "code",
   "execution_count": 28,
   "metadata": {},
   "outputs": [
    {
     "data": {
      "text/plain": [
       "tbd    2394\n",
       "7.8     324\n",
       "8       288\n",
       "8.2     279\n",
       "8.3     253\n",
       "       ... \n",
       "0.2       2\n",
       "1.3       2\n",
       "1.5       2\n",
       "0         1\n",
       "9.7       1\n",
       "Name: user_score, Length: 96, dtype: int64"
      ]
     },
     "execution_count": 28,
     "metadata": {},
     "output_type": "execute_result"
    }
   ],
   "source": [
    "data['user_score'].sort_values(ascending = False).value_counts()"
   ]
  },
  {
   "cell_type": "markdown",
   "metadata": {},
   "source": [
    "Очень много значений \"tbd\". Аббревиатура \"tbd\" означает \"to be defined\" (=предстоит определить), то есть на данный момент это пропуск в данных. Заменим на их на NaN."
   ]
  },
  {
   "cell_type": "code",
   "execution_count": 29,
   "metadata": {},
   "outputs": [],
   "source": [
    "data['user_score'] = data['user_score'].replace('tbd', np.nan)"
   ]
  },
  {
   "cell_type": "code",
   "execution_count": 30,
   "metadata": {},
   "outputs": [
    {
     "data": {
      "text/plain": [
       "9027"
      ]
     },
     "execution_count": 30,
     "metadata": {},
     "output_type": "execute_result"
    }
   ],
   "source": [
    "data['user_score'].isna().sum()"
   ]
  },
  {
   "cell_type": "markdown",
   "metadata": {},
   "source": [
    "Пропусков стало еще больше. Заменим их так же -1, чтобы не потерять так много значений."
   ]
  },
  {
   "cell_type": "code",
   "execution_count": 31,
   "metadata": {},
   "outputs": [],
   "source": [
    "data['user_score'] = data['user_score'].fillna(-1)"
   ]
  },
  {
   "cell_type": "code",
   "execution_count": 32,
   "metadata": {},
   "outputs": [
    {
     "data": {
      "text/plain": [
       "0"
      ]
     },
     "execution_count": 32,
     "metadata": {},
     "output_type": "execute_result"
    }
   ],
   "source": [
    "data['user_score'].isna().sum()"
   ]
  },
  {
   "cell_type": "markdown",
   "metadata": {},
   "source": [
    "Не забудем перевести данные из столбца user_score в тип данных float (из object)."
   ]
  },
  {
   "cell_type": "code",
   "execution_count": 33,
   "metadata": {},
   "outputs": [
    {
     "data": {
      "text/plain": [
       "0        8.0\n",
       "1       -1.0\n",
       "2        8.3\n",
       "3        8.0\n",
       "4       -1.0\n",
       "        ... \n",
       "16710   -1.0\n",
       "16711   -1.0\n",
       "16712   -1.0\n",
       "16713   -1.0\n",
       "16714   -1.0\n",
       "Name: user_score, Length: 16567, dtype: float64"
      ]
     },
     "execution_count": 33,
     "metadata": {},
     "output_type": "execute_result"
    }
   ],
   "source": [
    "data['user_score'] = data['user_score'].astype('float', errors='ignore')\n",
    "data['user_score']"
   ]
  },
  {
   "cell_type": "markdown",
   "metadata": {},
   "source": [
    "Теперь посмотрим на столбик rating."
   ]
  },
  {
   "cell_type": "code",
   "execution_count": 34,
   "metadata": {},
   "outputs": [
    {
     "data": {
      "text/plain": [
       "6699"
      ]
     },
     "execution_count": 34,
     "metadata": {},
     "output_type": "execute_result"
    }
   ],
   "source": [
    "data['rating'].isna().sum()"
   ]
  },
  {
   "cell_type": "markdown",
   "metadata": {},
   "source": [
    "Опять куча пропусков... Посмотрим на значения, которые есть в этом столбике."
   ]
  },
  {
   "cell_type": "code",
   "execution_count": 35,
   "metadata": {},
   "outputs": [
    {
     "data": {
      "text/plain": [
       "e       3958\n",
       "t       2930\n",
       "m       1554\n",
       "e10+    1412\n",
       "ec         8\n",
       "k-a        3\n",
       "rp         2\n",
       "ao         1\n",
       "Name: rating, dtype: int64"
      ]
     },
     "execution_count": 35,
     "metadata": {},
     "output_type": "execute_result"
    }
   ],
   "source": [
    "data['rating'].value_counts()"
   ]
  },
  {
   "cell_type": "markdown",
   "metadata": {},
   "source": [
    "Все значения, которые могут быть в Entertainment Software Rating Board (ESRB).\n",
    "\n",
    "- «EC» («Early childhood») — «Для детей младшего возраста»\n",
    "- «E» («Everyone») — «Для всех» ИЛИ \"K-A\" (\"Kids to Adults\")\n",
    "- «E10+» («Everyone 10 and older») — «Для всех от 10 лет и старше»\n",
    "- «T» («Teen») — «Подросткам»\n",
    "- «M» («Mature») — «Для взрослых»\n",
    "- «AO» («Adults Only 18+») — «Только для взрослых»\n",
    "- «RP» («Rating Pending») — «Рейтинг ожидается»\n",
    "- «RP 17+» («Rating Pending») — «Рейтинг ожидается - примерно 17+»"
   ]
  },
  {
   "cell_type": "markdown",
   "metadata": {},
   "source": [
    "\"k-a\" и \"e\" - это одно и то же. Изменим \"k-a\" на \"e\"."
   ]
  },
  {
   "cell_type": "code",
   "execution_count": 36,
   "metadata": {},
   "outputs": [],
   "source": [
    "data['rating'] = data['rating'].replace('k-a', 'e')"
   ]
  },
  {
   "cell_type": "code",
   "execution_count": 37,
   "metadata": {},
   "outputs": [
    {
     "data": {
      "text/plain": [
       "e       3961\n",
       "t       2930\n",
       "m       1554\n",
       "e10+    1412\n",
       "ec         8\n",
       "rp         2\n",
       "ao         1\n",
       "Name: rating, dtype: int64"
      ]
     },
     "execution_count": 37,
     "metadata": {},
     "output_type": "execute_result"
    }
   ],
   "source": [
    "data['rating'].value_counts()"
   ]
  },
  {
   "cell_type": "markdown",
   "metadata": {},
   "source": [
    "Заменим NaN на \"rp\" (\"рейтинг ожидается\"), т.к. получается, что rp - неустановленный рейтинг для игры."
   ]
  },
  {
   "cell_type": "code",
   "execution_count": 38,
   "metadata": {},
   "outputs": [],
   "source": [
    "data['rating'] = data['rating'].replace(np.nan, 'rp')"
   ]
  },
  {
   "cell_type": "code",
   "execution_count": 39,
   "metadata": {},
   "outputs": [
    {
     "data": {
      "text/plain": [
       "0"
      ]
     },
     "execution_count": 39,
     "metadata": {},
     "output_type": "execute_result"
    }
   ],
   "source": [
    "data['rating'].isna().sum()"
   ]
  },
  {
   "cell_type": "markdown",
   "metadata": {},
   "source": [
    "Проверим DataFrame на явные дубликаты."
   ]
  },
  {
   "cell_type": "code",
   "execution_count": 40,
   "metadata": {},
   "outputs": [
    {
     "data": {
      "text/plain": [
       "0"
      ]
     },
     "execution_count": 40,
     "metadata": {},
     "output_type": "execute_result"
    }
   ],
   "source": [
    "data.duplicated().sum()"
   ]
  },
  {
   "cell_type": "markdown",
   "metadata": {},
   "source": [
    "Посчитаем суммарные продажи во всех регионах и запишим их в отдельный столбец."
   ]
  },
  {
   "cell_type": "code",
   "execution_count": 41,
   "metadata": {},
   "outputs": [],
   "source": [
    "data['total_sales'] = data[['na_sales','eu_sales','jp_sales','other_sales']].sum(axis=1)"
   ]
  },
  {
   "cell_type": "code",
   "execution_count": 42,
   "metadata": {},
   "outputs": [
    {
     "data": {
      "text/html": [
       "<div>\n",
       "<style scoped>\n",
       "    .dataframe tbody tr th:only-of-type {\n",
       "        vertical-align: middle;\n",
       "    }\n",
       "\n",
       "    .dataframe tbody tr th {\n",
       "        vertical-align: top;\n",
       "    }\n",
       "\n",
       "    .dataframe thead th {\n",
       "        text-align: right;\n",
       "    }\n",
       "</style>\n",
       "<table border=\"1\" class=\"dataframe\">\n",
       "  <thead>\n",
       "    <tr style=\"text-align: right;\">\n",
       "      <th></th>\n",
       "      <th>name</th>\n",
       "      <th>platform</th>\n",
       "      <th>year_of_release</th>\n",
       "      <th>genre</th>\n",
       "      <th>na_sales</th>\n",
       "      <th>eu_sales</th>\n",
       "      <th>jp_sales</th>\n",
       "      <th>other_sales</th>\n",
       "      <th>critic_score</th>\n",
       "      <th>user_score</th>\n",
       "      <th>rating</th>\n",
       "      <th>total_sales</th>\n",
       "    </tr>\n",
       "  </thead>\n",
       "  <tbody>\n",
       "    <tr>\n",
       "      <th>0</th>\n",
       "      <td>wii sports</td>\n",
       "      <td>wii</td>\n",
       "      <td>2006</td>\n",
       "      <td>sports</td>\n",
       "      <td>41.36</td>\n",
       "      <td>28.96</td>\n",
       "      <td>3.77</td>\n",
       "      <td>8.45</td>\n",
       "      <td>76.0</td>\n",
       "      <td>8.0</td>\n",
       "      <td>e</td>\n",
       "      <td>82.54</td>\n",
       "    </tr>\n",
       "    <tr>\n",
       "      <th>1</th>\n",
       "      <td>super mario bros.</td>\n",
       "      <td>nes</td>\n",
       "      <td>1985</td>\n",
       "      <td>platform</td>\n",
       "      <td>29.08</td>\n",
       "      <td>3.58</td>\n",
       "      <td>6.81</td>\n",
       "      <td>0.77</td>\n",
       "      <td>-1.0</td>\n",
       "      <td>-1.0</td>\n",
       "      <td>rp</td>\n",
       "      <td>40.24</td>\n",
       "    </tr>\n",
       "    <tr>\n",
       "      <th>2</th>\n",
       "      <td>mario kart wii</td>\n",
       "      <td>wii</td>\n",
       "      <td>2008</td>\n",
       "      <td>racing</td>\n",
       "      <td>15.68</td>\n",
       "      <td>12.76</td>\n",
       "      <td>3.79</td>\n",
       "      <td>3.29</td>\n",
       "      <td>82.0</td>\n",
       "      <td>8.3</td>\n",
       "      <td>e</td>\n",
       "      <td>35.52</td>\n",
       "    </tr>\n",
       "    <tr>\n",
       "      <th>3</th>\n",
       "      <td>wii sports resort</td>\n",
       "      <td>wii</td>\n",
       "      <td>2009</td>\n",
       "      <td>sports</td>\n",
       "      <td>15.61</td>\n",
       "      <td>10.93</td>\n",
       "      <td>3.28</td>\n",
       "      <td>2.95</td>\n",
       "      <td>80.0</td>\n",
       "      <td>8.0</td>\n",
       "      <td>e</td>\n",
       "      <td>32.77</td>\n",
       "    </tr>\n",
       "    <tr>\n",
       "      <th>4</th>\n",
       "      <td>pokemon red/pokemon blue</td>\n",
       "      <td>gb</td>\n",
       "      <td>1996</td>\n",
       "      <td>role-playing</td>\n",
       "      <td>11.27</td>\n",
       "      <td>8.89</td>\n",
       "      <td>10.22</td>\n",
       "      <td>1.00</td>\n",
       "      <td>-1.0</td>\n",
       "      <td>-1.0</td>\n",
       "      <td>rp</td>\n",
       "      <td>31.38</td>\n",
       "    </tr>\n",
       "    <tr>\n",
       "      <th>...</th>\n",
       "      <td>...</td>\n",
       "      <td>...</td>\n",
       "      <td>...</td>\n",
       "      <td>...</td>\n",
       "      <td>...</td>\n",
       "      <td>...</td>\n",
       "      <td>...</td>\n",
       "      <td>...</td>\n",
       "      <td>...</td>\n",
       "      <td>...</td>\n",
       "      <td>...</td>\n",
       "      <td>...</td>\n",
       "    </tr>\n",
       "    <tr>\n",
       "      <th>16710</th>\n",
       "      <td>samurai warriors: sanada maru</td>\n",
       "      <td>ps3</td>\n",
       "      <td>2016</td>\n",
       "      <td>action</td>\n",
       "      <td>0.00</td>\n",
       "      <td>0.00</td>\n",
       "      <td>0.01</td>\n",
       "      <td>0.00</td>\n",
       "      <td>-1.0</td>\n",
       "      <td>-1.0</td>\n",
       "      <td>rp</td>\n",
       "      <td>0.01</td>\n",
       "    </tr>\n",
       "    <tr>\n",
       "      <th>16711</th>\n",
       "      <td>lma manager 2007</td>\n",
       "      <td>x360</td>\n",
       "      <td>2006</td>\n",
       "      <td>sports</td>\n",
       "      <td>0.00</td>\n",
       "      <td>0.01</td>\n",
       "      <td>0.00</td>\n",
       "      <td>0.00</td>\n",
       "      <td>-1.0</td>\n",
       "      <td>-1.0</td>\n",
       "      <td>rp</td>\n",
       "      <td>0.01</td>\n",
       "    </tr>\n",
       "    <tr>\n",
       "      <th>16712</th>\n",
       "      <td>haitaka no psychedelica</td>\n",
       "      <td>psv</td>\n",
       "      <td>2016</td>\n",
       "      <td>adventure</td>\n",
       "      <td>0.00</td>\n",
       "      <td>0.00</td>\n",
       "      <td>0.01</td>\n",
       "      <td>0.00</td>\n",
       "      <td>-1.0</td>\n",
       "      <td>-1.0</td>\n",
       "      <td>rp</td>\n",
       "      <td>0.01</td>\n",
       "    </tr>\n",
       "    <tr>\n",
       "      <th>16713</th>\n",
       "      <td>spirits &amp; spells</td>\n",
       "      <td>gba</td>\n",
       "      <td>2003</td>\n",
       "      <td>platform</td>\n",
       "      <td>0.01</td>\n",
       "      <td>0.00</td>\n",
       "      <td>0.00</td>\n",
       "      <td>0.00</td>\n",
       "      <td>-1.0</td>\n",
       "      <td>-1.0</td>\n",
       "      <td>rp</td>\n",
       "      <td>0.01</td>\n",
       "    </tr>\n",
       "    <tr>\n",
       "      <th>16714</th>\n",
       "      <td>winning post 8 2016</td>\n",
       "      <td>psv</td>\n",
       "      <td>2016</td>\n",
       "      <td>simulation</td>\n",
       "      <td>0.00</td>\n",
       "      <td>0.00</td>\n",
       "      <td>0.01</td>\n",
       "      <td>0.00</td>\n",
       "      <td>-1.0</td>\n",
       "      <td>-1.0</td>\n",
       "      <td>rp</td>\n",
       "      <td>0.01</td>\n",
       "    </tr>\n",
       "  </tbody>\n",
       "</table>\n",
       "<p>16567 rows × 12 columns</p>\n",
       "</div>"
      ],
      "text/plain": [
       "                                name platform  year_of_release         genre  \\\n",
       "0                         wii sports      wii             2006        sports   \n",
       "1                  super mario bros.      nes             1985      platform   \n",
       "2                     mario kart wii      wii             2008        racing   \n",
       "3                  wii sports resort      wii             2009        sports   \n",
       "4           pokemon red/pokemon blue       gb             1996  role-playing   \n",
       "...                              ...      ...              ...           ...   \n",
       "16710  samurai warriors: sanada maru      ps3             2016        action   \n",
       "16711               lma manager 2007     x360             2006        sports   \n",
       "16712        haitaka no psychedelica      psv             2016     adventure   \n",
       "16713               spirits & spells      gba             2003      platform   \n",
       "16714            winning post 8 2016      psv             2016    simulation   \n",
       "\n",
       "       na_sales  eu_sales  jp_sales  other_sales  critic_score  user_score  \\\n",
       "0         41.36     28.96      3.77         8.45          76.0         8.0   \n",
       "1         29.08      3.58      6.81         0.77          -1.0        -1.0   \n",
       "2         15.68     12.76      3.79         3.29          82.0         8.3   \n",
       "3         15.61     10.93      3.28         2.95          80.0         8.0   \n",
       "4         11.27      8.89     10.22         1.00          -1.0        -1.0   \n",
       "...         ...       ...       ...          ...           ...         ...   \n",
       "16710      0.00      0.00      0.01         0.00          -1.0        -1.0   \n",
       "16711      0.00      0.01      0.00         0.00          -1.0        -1.0   \n",
       "16712      0.00      0.00      0.01         0.00          -1.0        -1.0   \n",
       "16713      0.01      0.00      0.00         0.00          -1.0        -1.0   \n",
       "16714      0.00      0.00      0.01         0.00          -1.0        -1.0   \n",
       "\n",
       "      rating  total_sales  \n",
       "0          e        82.54  \n",
       "1         rp        40.24  \n",
       "2          e        35.52  \n",
       "3          e        32.77  \n",
       "4         rp        31.38  \n",
       "...      ...          ...  \n",
       "16710     rp         0.01  \n",
       "16711     rp         0.01  \n",
       "16712     rp         0.01  \n",
       "16713     rp         0.01  \n",
       "16714     rp         0.01  \n",
       "\n",
       "[16567 rows x 12 columns]"
      ]
     },
     "execution_count": 42,
     "metadata": {},
     "output_type": "execute_result"
    }
   ],
   "source": [
    "data"
   ]
  },
  {
   "cell_type": "code",
   "execution_count": 43,
   "metadata": {},
   "outputs": [
    {
     "data": {
      "text/html": [
       "<div>\n",
       "<style scoped>\n",
       "    .dataframe tbody tr th:only-of-type {\n",
       "        vertical-align: middle;\n",
       "    }\n",
       "\n",
       "    .dataframe tbody tr th {\n",
       "        vertical-align: top;\n",
       "    }\n",
       "\n",
       "    .dataframe thead th {\n",
       "        text-align: right;\n",
       "    }\n",
       "</style>\n",
       "<table border=\"1\" class=\"dataframe\">\n",
       "  <thead>\n",
       "    <tr style=\"text-align: right;\">\n",
       "      <th></th>\n",
       "      <th>year_of_release</th>\n",
       "      <th>na_sales</th>\n",
       "      <th>eu_sales</th>\n",
       "      <th>jp_sales</th>\n",
       "      <th>other_sales</th>\n",
       "      <th>critic_score</th>\n",
       "      <th>user_score</th>\n",
       "      <th>total_sales</th>\n",
       "    </tr>\n",
       "  </thead>\n",
       "  <tbody>\n",
       "    <tr>\n",
       "      <th>count</th>\n",
       "      <td>16567.000000</td>\n",
       "      <td>16567.000000</td>\n",
       "      <td>16567.000000</td>\n",
       "      <td>16567.000000</td>\n",
       "      <td>16567.000000</td>\n",
       "      <td>16567.000000</td>\n",
       "      <td>16567.000000</td>\n",
       "      <td>16567.000000</td>\n",
       "    </tr>\n",
       "    <tr>\n",
       "      <th>mean</th>\n",
       "      <td>2006.488682</td>\n",
       "      <td>0.263975</td>\n",
       "      <td>0.145814</td>\n",
       "      <td>0.078020</td>\n",
       "      <td>0.047567</td>\n",
       "      <td>33.115108</td>\n",
       "      <td>2.697875</td>\n",
       "      <td>0.535376</td>\n",
       "    </tr>\n",
       "    <tr>\n",
       "      <th>std</th>\n",
       "      <td>5.864797</td>\n",
       "      <td>0.816474</td>\n",
       "      <td>0.505364</td>\n",
       "      <td>0.310068</td>\n",
       "      <td>0.187476</td>\n",
       "      <td>36.311166</td>\n",
       "      <td>4.170565</td>\n",
       "      <td>1.554281</td>\n",
       "    </tr>\n",
       "    <tr>\n",
       "      <th>min</th>\n",
       "      <td>1980.000000</td>\n",
       "      <td>0.000000</td>\n",
       "      <td>0.000000</td>\n",
       "      <td>0.000000</td>\n",
       "      <td>0.000000</td>\n",
       "      <td>-1.000000</td>\n",
       "      <td>-1.000000</td>\n",
       "      <td>0.000000</td>\n",
       "    </tr>\n",
       "    <tr>\n",
       "      <th>25%</th>\n",
       "      <td>2003.000000</td>\n",
       "      <td>0.000000</td>\n",
       "      <td>0.000000</td>\n",
       "      <td>0.000000</td>\n",
       "      <td>0.000000</td>\n",
       "      <td>-1.000000</td>\n",
       "      <td>-1.000000</td>\n",
       "      <td>0.060000</td>\n",
       "    </tr>\n",
       "    <tr>\n",
       "      <th>50%</th>\n",
       "      <td>2007.000000</td>\n",
       "      <td>0.080000</td>\n",
       "      <td>0.020000</td>\n",
       "      <td>0.000000</td>\n",
       "      <td>0.010000</td>\n",
       "      <td>-1.000000</td>\n",
       "      <td>-1.000000</td>\n",
       "      <td>0.170000</td>\n",
       "    </tr>\n",
       "    <tr>\n",
       "      <th>75%</th>\n",
       "      <td>2010.000000</td>\n",
       "      <td>0.240000</td>\n",
       "      <td>0.110000</td>\n",
       "      <td>0.040000</td>\n",
       "      <td>0.030000</td>\n",
       "      <td>70.000000</td>\n",
       "      <td>7.300000</td>\n",
       "      <td>0.470000</td>\n",
       "    </tr>\n",
       "    <tr>\n",
       "      <th>max</th>\n",
       "      <td>2016.000000</td>\n",
       "      <td>41.360000</td>\n",
       "      <td>28.960000</td>\n",
       "      <td>10.220000</td>\n",
       "      <td>10.570000</td>\n",
       "      <td>98.000000</td>\n",
       "      <td>9.700000</td>\n",
       "      <td>82.540000</td>\n",
       "    </tr>\n",
       "  </tbody>\n",
       "</table>\n",
       "</div>"
      ],
      "text/plain": [
       "       year_of_release      na_sales      eu_sales      jp_sales  \\\n",
       "count     16567.000000  16567.000000  16567.000000  16567.000000   \n",
       "mean       2006.488682      0.263975      0.145814      0.078020   \n",
       "std           5.864797      0.816474      0.505364      0.310068   \n",
       "min        1980.000000      0.000000      0.000000      0.000000   \n",
       "25%        2003.000000      0.000000      0.000000      0.000000   \n",
       "50%        2007.000000      0.080000      0.020000      0.000000   \n",
       "75%        2010.000000      0.240000      0.110000      0.040000   \n",
       "max        2016.000000     41.360000     28.960000     10.220000   \n",
       "\n",
       "        other_sales  critic_score    user_score   total_sales  \n",
       "count  16567.000000  16567.000000  16567.000000  16567.000000  \n",
       "mean       0.047567     33.115108      2.697875      0.535376  \n",
       "std        0.187476     36.311166      4.170565      1.554281  \n",
       "min        0.000000     -1.000000     -1.000000      0.000000  \n",
       "25%        0.000000     -1.000000     -1.000000      0.060000  \n",
       "50%        0.010000     -1.000000     -1.000000      0.170000  \n",
       "75%        0.030000     70.000000      7.300000      0.470000  \n",
       "max       10.570000     98.000000      9.700000     82.540000  "
      ]
     },
     "execution_count": 43,
     "metadata": {},
     "output_type": "execute_result"
    }
   ],
   "source": [
    "data.describe()"
   ]
  },
  {
   "cell_type": "code",
   "execution_count": 44,
   "metadata": {},
   "outputs": [
    {
     "name": "stdout",
     "output_type": "stream",
     "text": [
      "<class 'pandas.core.frame.DataFrame'>\n",
      "Int64Index: 16567 entries, 0 to 16714\n",
      "Data columns (total 12 columns):\n",
      " #   Column           Non-Null Count  Dtype  \n",
      "---  ------           --------------  -----  \n",
      " 0   name             16567 non-null  object \n",
      " 1   platform         16567 non-null  object \n",
      " 2   year_of_release  16567 non-null  int64  \n",
      " 3   genre            16567 non-null  object \n",
      " 4   na_sales         16567 non-null  float64\n",
      " 5   eu_sales         16567 non-null  float64\n",
      " 6   jp_sales         16567 non-null  float64\n",
      " 7   other_sales      16567 non-null  float64\n",
      " 8   critic_score     16567 non-null  float64\n",
      " 9   user_score       16567 non-null  float64\n",
      " 10  rating           16567 non-null  object \n",
      " 11  total_sales      16567 non-null  float64\n",
      "dtypes: float64(7), int64(1), object(4)\n",
      "memory usage: 1.6+ MB\n"
     ]
    }
   ],
   "source": [
    "data.info()"
   ]
  },
  {
   "cell_type": "markdown",
   "metadata": {},
   "source": [
    "***Вывод:*** В ходе предобработки данных были проведены следующие действия: \n",
    "1. Названия столбцов приведены к нижнему регистру. Также к нижнему регистру были приведены значения столбиков name, platform, genre, rating.\n",
    "2. В столбиках 'name' и 'genre' были удалены пропущенные значения (всего их было 2 и в двух столбцах они совпадали).\n",
    "3. В столбце year_of_release некоторые пропущенные значения были заменены на значения аналогичных игр, т.к. часто игра выпускается в один год на разных платформах. Остальные данные с пропущенными значениямы были удалены, т.к. их было не так много. Изменили тип данных на int (года должны быть целыми).\n",
    "4. В столбцах critic_score и user_score было много пропущенных значений (количество приближалось к половине от общего количества). Такое могло получиться, потому что игры не были замечены для широкой публики, либо это могла быть ошибка в выгрузке данных. Значения в этих столбцах были заменены на -1, чтобы все данные в столбце были числовыми. В колонке user_score присутсвует абривиатура TBD (To Be Discussed) - подлежит обсуждению, то есть значит,что оценка не определена. Заменили абривиатуру на NaN, а потом на -1. Для user_score зменили тип данных на float, т.к. значение рейтинга это число, а не object.\n",
    "5. В столбце rating тоже было много пропущенных значений. Пропуски заполнили значением 'rp' (рейтинг ожидается), т.к. такое значение есть у ESRB. Значение \"k-a\" и \"e\" - это одно и то же, поэтому заменили \"k-a\" на \"e\".\n",
    "6. Посчитали суммарные продажи во всех регионах и записали их в отдельный столбец total_sales.\n",
    "7. Явных дубликатов в данных нет."
   ]
  },
  {
   "cell_type": "markdown",
   "metadata": {},
   "source": [
    "### Исследовательский анализ данных"
   ]
  },
  {
   "cell_type": "markdown",
   "metadata": {},
   "source": [
    "Посмотрим, сколько игр выпускалось в разные годы. Ответим на вопрос: \"Важны ли данные за все периоды?\""
   ]
  },
  {
   "cell_type": "code",
   "execution_count": 45,
   "metadata": {},
   "outputs": [
    {
     "data": {
      "text/plain": [
       "2008    1441\n",
       "2009    1430\n",
       "2010    1269\n",
       "2007    1202\n",
       "2011    1153\n",
       "2006    1019\n",
       "2005     947\n",
       "2002     845\n",
       "2003     783\n",
       "2004     764\n",
       "2012     662\n",
       "2015     606\n",
       "2014     581\n",
       "2013     548\n",
       "2016     502\n",
       "2001     486\n",
       "1998     380\n",
       "2000     351\n",
       "1999     339\n",
       "1997     289\n",
       "1996     263\n",
       "1995     219\n",
       "1994     122\n",
       "1993      60\n",
       "1981      46\n",
       "1992      43\n",
       "1991      42\n",
       "1982      36\n",
       "1986      21\n",
       "1983      17\n",
       "1989      17\n",
       "1990      16\n",
       "1987      16\n",
       "1988      15\n",
       "1985      14\n",
       "1984      14\n",
       "1980       9\n",
       "Name: year_of_release, dtype: int64"
      ]
     },
     "execution_count": 45,
     "metadata": {},
     "output_type": "execute_result"
    }
   ],
   "source": [
    "data['year_of_release'].sort_values(ascending=False).value_counts()"
   ]
  },
  {
   "cell_type": "code",
   "execution_count": 46,
   "metadata": {},
   "outputs": [
    {
     "data": {
      "text/plain": [
       "count      37.000000\n",
       "mean      447.756757\n",
       "std       455.716920\n",
       "min         9.000000\n",
       "25%        36.000000\n",
       "50%       339.000000\n",
       "75%       764.000000\n",
       "max      1441.000000\n",
       "Name: year_of_release, dtype: float64"
      ]
     },
     "execution_count": 46,
     "metadata": {},
     "output_type": "execute_result"
    }
   ],
   "source": [
    "data['year_of_release'].sort_values(ascending=False).value_counts().describe()"
   ]
  },
  {
   "cell_type": "markdown",
   "metadata": {},
   "source": [
    "Построим гистограмму для наглядности. Посмотрим распределение по годам."
   ]
  },
  {
   "cell_type": "code",
   "execution_count": 47,
   "metadata": {},
   "outputs": [
    {
     "data": {
      "text/plain": [
       "37"
      ]
     },
     "execution_count": 47,
     "metadata": {},
     "output_type": "execute_result"
    }
   ],
   "source": [
    "# считаем bins\n",
    "data['year_of_release'].sort_values(ascending=False).value_counts().count()"
   ]
  },
  {
   "cell_type": "code",
   "execution_count": 48,
   "metadata": {},
   "outputs": [
    {
     "data": {
      "text/plain": [
       "Text(0.5, 1.0, 'Количество игр по годам \\n')"
      ]
     },
     "execution_count": 48,
     "metadata": {},
     "output_type": "execute_result"
    },
    {
     "data": {
      "image/png": "[encoded data removed]",
      "text/plain": [
       "<Figure size 432x288 with 1 Axes>"
      ]
     },
     "metadata": {
      "needs_background": "light"
     },
     "output_type": "display_data"
    }
   ],
   "source": [
    "data.hist('year_of_release', bins=37, range=(1980, 2017))\n",
    "plt.xlabel(\"Год выпуска\")\n",
    "plt.ylabel(\"Количество выпущенных игр\")\n",
    "plt.title('Количество игр по годам \\n')"
   ]
  },
  {
   "cell_type": "code",
   "execution_count": 49,
   "metadata": {},
   "outputs": [
    {
     "data": {
      "text/plain": [
       "Text(0.5, 1.0, 'Количество игр по годам \\n')"
      ]
     },
     "execution_count": 49,
     "metadata": {},
     "output_type": "execute_result"
    },
    {
     "data": {
      "image/png": "[encoded data removed]",
      "text/plain": [
       "<Figure size 432x288 with 1 Axes>"
      ]
     },
     "metadata": {
      "needs_background": "light"
     },
     "output_type": "display_data"
    }
   ],
   "source": [
    "data.hist('year_of_release', bins=26, range=(1991, 2017))\n",
    "plt.xlabel(\"Год выпуска\")\n",
    "plt.ylabel(\"Количество выпущенных игр\")\n",
    "plt.title('Количество игр по годам \\n')"
   ]
  },
  {
   "cell_type": "markdown",
   "metadata": {},
   "source": [
    "Подтвердим наши выводы, построим более наглядный график."
   ]
  },
  {
   "cell_type": "code",
   "execution_count": 50,
   "metadata": {},
   "outputs": [
    {
     "data": {
      "text/plain": [
       "<matplotlib.legend.Legend at 0x7f28b964d340>"
      ]
     },
     "execution_count": 50,
     "metadata": {},
     "output_type": "execute_result"
    },
    {
     "data": {
      "image/png": "[encoded data removed]",
      "text/plain": [
       "<Figure size 1440x360 with 1 Axes>"
      ]
     },
     "metadata": {
      "needs_background": "light"
     },
     "output_type": "display_data"
    }
   ],
   "source": [
    "plt.figure(figsize=(20, 5))\n",
    "plt.title('Количество игр по годам', fontsize=20)\n",
    "plt.ylabel('Количество игр')\n",
    "plt.xlabel('Год выпуска')\n",
    "plt.plot(data.groupby('year_of_release')['name'].count(), 'o-', label='количество игр', alpha=1)\n",
    "plt.axvspan(1991, 2008, color='yellow', label='период роста', alpha=0.3)\n",
    "plt.grid(True)\n",
    "plt.legend()"
   ]
  },
  {
   "cell_type": "markdown",
   "metadata": {},
   "source": [
    "До 1991 года количество игр было примерно одинаковым, после 1991 увеличилось количество выпускаемых игр. В 2008-2009 годaх был пик, потом количество выпускаемых игр пошло на спад. Скорее всего повлиял мировой кризис, который начался в 2008 году. Нам важны данные про игры, начиная с 1991 года."
   ]
  },
  {
   "cell_type": "markdown",
   "metadata": {},
   "source": [
    "Посмотрим, как менялись продажи по платформам. Выберим платформы с наибольшими суммарными продажами и построим распределение по годам. Ответим на вопрос: \"За какой характерный срок появляются новые и исчезают старые платформы?\""
   ]
  },
  {
   "cell_type": "code",
   "execution_count": 51,
   "metadata": {},
   "outputs": [
    {
     "data": {
      "text/html": [
       "<div>\n",
       "<style scoped>\n",
       "    .dataframe tbody tr th:only-of-type {\n",
       "        vertical-align: middle;\n",
       "    }\n",
       "\n",
       "    .dataframe tbody tr th {\n",
       "        vertical-align: top;\n",
       "    }\n",
       "\n",
       "    .dataframe thead th {\n",
       "        text-align: right;\n",
       "    }\n",
       "</style>\n",
       "<table border=\"1\" class=\"dataframe\">\n",
       "  <thead>\n",
       "    <tr style=\"text-align: right;\">\n",
       "      <th></th>\n",
       "      <th>platform</th>\n",
       "      <th>total_sales</th>\n",
       "    </tr>\n",
       "  </thead>\n",
       "  <tbody>\n",
       "    <tr>\n",
       "      <th>0</th>\n",
       "      <td>ps2</td>\n",
       "      <td>1247.16</td>\n",
       "    </tr>\n",
       "    <tr>\n",
       "      <th>1</th>\n",
       "      <td>x360</td>\n",
       "      <td>966.61</td>\n",
       "    </tr>\n",
       "    <tr>\n",
       "      <th>2</th>\n",
       "      <td>ps3</td>\n",
       "      <td>935.19</td>\n",
       "    </tr>\n",
       "    <tr>\n",
       "      <th>3</th>\n",
       "      <td>wii</td>\n",
       "      <td>903.31</td>\n",
       "    </tr>\n",
       "    <tr>\n",
       "      <th>4</th>\n",
       "      <td>ds</td>\n",
       "      <td>804.28</td>\n",
       "    </tr>\n",
       "    <tr>\n",
       "      <th>5</th>\n",
       "      <td>ps</td>\n",
       "      <td>727.58</td>\n",
       "    </tr>\n",
       "    <tr>\n",
       "      <th>6</th>\n",
       "      <td>ps4</td>\n",
       "      <td>314.14</td>\n",
       "    </tr>\n",
       "    <tr>\n",
       "      <th>7</th>\n",
       "      <td>gba</td>\n",
       "      <td>313.73</td>\n",
       "    </tr>\n",
       "    <tr>\n",
       "      <th>8</th>\n",
       "      <td>psp</td>\n",
       "      <td>293.57</td>\n",
       "    </tr>\n",
       "    <tr>\n",
       "      <th>9</th>\n",
       "      <td>pc</td>\n",
       "      <td>258.86</td>\n",
       "    </tr>\n",
       "  </tbody>\n",
       "</table>\n",
       "</div>"
      ],
      "text/plain": [
       "  platform  total_sales\n",
       "0      ps2      1247.16\n",
       "1     x360       966.61\n",
       "2      ps3       935.19\n",
       "3      wii       903.31\n",
       "4       ds       804.28\n",
       "5       ps       727.58\n",
       "6      ps4       314.14\n",
       "7      gba       313.73\n",
       "8      psp       293.57\n",
       "9       pc       258.86"
      ]
     },
     "execution_count": 51,
     "metadata": {},
     "output_type": "execute_result"
    }
   ],
   "source": [
    "#Посчитаем суммарные продажи по платформам и возьмем первые 10 платформ с максимальными продажами\n",
    "platform_sales = (data\n",
    "                  .pivot_table(index='platform', values='total_sales', aggfunc='sum')\n",
    "                  .sort_values(by='total_sales', ascending=False)\n",
    "                  .head(10)\n",
    "                  .reset_index()\n",
    "                 )\n",
    "platform_sales"
   ]
  },
  {
   "cell_type": "code",
   "execution_count": 52,
   "metadata": {},
   "outputs": [
    {
     "data": {
      "text/plain": [
       "array(['ps2', 'x360', 'ps3', 'wii', 'ds', 'ps', 'ps4', 'gba', 'psp', 'pc'],\n",
       "      dtype=object)"
      ]
     },
     "execution_count": 52,
     "metadata": {},
     "output_type": "execute_result"
    }
   ],
   "source": [
    "platform_sales['platform'].unique()"
   ]
  },
  {
   "cell_type": "markdown",
   "metadata": {},
   "source": [
    "Посмотрим, сколько игр выпускалось в разные годы."
   ]
  },
  {
   "cell_type": "code",
   "execution_count": 53,
   "metadata": {},
   "outputs": [
    {
     "data": {
      "image/png": "[encoded data removed]",
      "text/plain": [
       "<Figure size 1080x360 with 1 Axes>"
      ]
     },
     "metadata": {
      "needs_background": "light"
     },
     "output_type": "display_data"
    },
    {
     "data": {
      "image/png": "[encoded data removed]",
      "text/plain": [
       "<Figure size 1080x360 with 1 Axes>"
      ]
     },
     "metadata": {
      "needs_background": "light"
     },
     "output_type": "display_data"
    },
    {
     "data": {
      "image/png": "[encoded data removed]",
      "text/plain": [
       "<Figure size 1080x360 with 1 Axes>"
      ]
     },
     "metadata": {
      "needs_background": "light"
     },
     "output_type": "display_data"
    },
    {
     "data": {
      "image/png": "[encoded data removed]",
      "text/plain": [
       "<Figure size 1080x360 with 1 Axes>"
      ]
     },
     "metadata": {
      "needs_background": "light"
     },
     "output_type": "display_data"
    },
    {
     "data": {
      "image/png": "[encoded data removed]",
      "text/plain": [
       "<Figure size 1080x360 with 1 Axes>"
      ]
     },
     "metadata": {
      "needs_background": "light"
     },
     "output_type": "display_data"
    },
    {
     "data": {
      "image/png": "[encoded data removed]",
      "text/plain": [
       "<Figure size 1080x360 with 1 Axes>"
      ]
     },
     "metadata": {
      "needs_background": "light"
     },
     "output_type": "display_data"
    },
    {
     "data": {
      "image/png": "[encoded data removed]",
      "text/plain": [
       "<Figure size 1080x360 with 1 Axes>"
      ]
     },
     "metadata": {
      "needs_background": "light"
     },
     "output_type": "display_data"
    },
    {
     "data": {
      "image/png": "[encoded data removed]",
      "text/plain": [
       "<Figure size 1080x360 with 1 Axes>"
      ]
     },
     "metadata": {
      "needs_background": "light"
     },
     "output_type": "display_data"
    },
    {
     "data": {
      "image/png": "[encoded data removed]",
      "text/plain": [
       "<Figure size 1080x360 with 1 Axes>"
      ]
     },
     "metadata": {
      "needs_background": "light"
     },
     "output_type": "display_data"
    },
    {
     "data": {
      "image/png": "[encoded data removed]",
      "text/plain": [
       "<Figure size 1080x360 with 1 Axes>"
      ]
     },
     "metadata": {
      "needs_background": "light"
     },
     "output_type": "display_data"
    }
   ],
   "source": [
    "#построим распределение по годам для 10 самых больших платформ\n",
    "for platform in platform_sales['platform'].unique():\n",
    "    (data[data['platform'] == platform]\n",
    "         .pivot_table(index='year_of_release', values='total_sales', aggfunc='sum')\n",
    "         .plot(kind='bar', figsize=(15,5))\n",
    "    )\n",
    "    plt.title(platform)"
   ]
  },
  {
   "cell_type": "code",
   "execution_count": 58,
   "metadata": {},
   "outputs": [
    {
     "data": {
      "image/png": "[encoded data removed]",
      "text/plain": [
       "<Figure size 1440x504 with 1 Axes>"
      ]
     },
     "metadata": {
      "needs_background": "light"
     },
     "output_type": "display_data"
    }
   ],
   "source": [
    "# код ревьюера\n",
    "\n",
    "# выделили топ8 платформ\n",
    "test_top = (data.pivot_table(index = 'platform', values = 'total_sales', aggfunc = 'sum').reset_index()\n",
    "                .sort_values(by = 'total_sales', ascending = False).head(8))['platform']\n",
    "\n",
    "(data\n",
    "    .query('platform in @test_top')\n",
    "    .pivot_table(index=['year_of_release'], columns='platform', values=['total_sales'], aggfunc='sum')\n",
    "    .reset_index()\n",
    "    .plot(x='year_of_release', y='total_sales', kind='line', grid=True, figsize=(20, 7))\n",
    ")\n",
    "\n",
    "plt.title('Распределение продаж игр по платформам по годам', fontweight=\"bold\")\n",
    "plt.xlabel('Годы выпуска')\n",
    "plt.ylabel('Колличество проданных копий')\n",
    "plt.show()"
   ]
  },
  {
   "cell_type": "markdown",
   "metadata": {},
   "source": [
    "Средний возраст платформ, входящих в топ-10 - 10 лет. Чтобы сделать прогноз для 2017 года возьмем актуальный период - с 2009 (начало спада) по 2016 года."
   ]
  },
  {
   "cell_type": "markdown",
   "metadata": {},
   "source": [
    "Сделаем срез из актуальных данных, начиная с 2009 года. Определим, какие платформы лидируют по продажам или наоборот испытывают трудности с продажами. Посмотрим на 10 акутальных платформ."
   ]
  },
  {
   "cell_type": "code",
   "execution_count": 53,
   "metadata": {
    "scrolled": true
   },
   "outputs": [
    {
     "data": {
      "text/html": [
       "<div>\n",
       "<style scoped>\n",
       "    .dataframe tbody tr th:only-of-type {\n",
       "        vertical-align: middle;\n",
       "    }\n",
       "\n",
       "    .dataframe tbody tr th {\n",
       "        vertical-align: top;\n",
       "    }\n",
       "\n",
       "    .dataframe thead th {\n",
       "        text-align: right;\n",
       "    }\n",
       "</style>\n",
       "<table border=\"1\" class=\"dataframe\">\n",
       "  <thead>\n",
       "    <tr style=\"text-align: right;\">\n",
       "      <th></th>\n",
       "      <th>platform</th>\n",
       "      <th>total_sales</th>\n",
       "    </tr>\n",
       "  </thead>\n",
       "  <tbody>\n",
       "    <tr>\n",
       "      <th>0</th>\n",
       "      <td>ps3</td>\n",
       "      <td>721.58</td>\n",
       "    </tr>\n",
       "    <tr>\n",
       "      <th>1</th>\n",
       "      <td>x360</td>\n",
       "      <td>674.12</td>\n",
       "    </tr>\n",
       "    <tr>\n",
       "      <th>2</th>\n",
       "      <td>wii</td>\n",
       "      <td>432.03</td>\n",
       "    </tr>\n",
       "    <tr>\n",
       "      <th>3</th>\n",
       "      <td>ps4</td>\n",
       "      <td>314.14</td>\n",
       "    </tr>\n",
       "    <tr>\n",
       "      <th>4</th>\n",
       "      <td>3ds</td>\n",
       "      <td>258.51</td>\n",
       "    </tr>\n",
       "    <tr>\n",
       "      <th>5</th>\n",
       "      <td>ds</td>\n",
       "      <td>244.45</td>\n",
       "    </tr>\n",
       "    <tr>\n",
       "      <th>6</th>\n",
       "      <td>xone</td>\n",
       "      <td>159.32</td>\n",
       "    </tr>\n",
       "    <tr>\n",
       "      <th>7</th>\n",
       "      <td>pc</td>\n",
       "      <td>141.87</td>\n",
       "    </tr>\n",
       "    <tr>\n",
       "      <th>8</th>\n",
       "      <td>psp</td>\n",
       "      <td>102.33</td>\n",
       "    </tr>\n",
       "    <tr>\n",
       "      <th>9</th>\n",
       "      <td>wiiu</td>\n",
       "      <td>82.19</td>\n",
       "    </tr>\n",
       "  </tbody>\n",
       "</table>\n",
       "</div>"
      ],
      "text/plain": [
       "  platform  total_sales\n",
       "0      ps3       721.58\n",
       "1     x360       674.12\n",
       "2      wii       432.03\n",
       "3      ps4       314.14\n",
       "4      3ds       258.51\n",
       "5       ds       244.45\n",
       "6     xone       159.32\n",
       "7       pc       141.87\n",
       "8      psp       102.33\n",
       "9     wiiu        82.19"
      ]
     },
     "execution_count": 53,
     "metadata": {},
     "output_type": "execute_result"
    }
   ],
   "source": [
    "data_actual = data.query('year_of_release >= 2009')\n",
    "actual_data_sales = (data_actual\n",
    "               .pivot_table(index='platform', values='total_sales', aggfunc='sum')\n",
    "               .sort_values(by='total_sales', ascending=False)\n",
    "               .head(10)\n",
    "               .reset_index()\n",
    "              )\n",
    "actual_data_sales"
   ]
  },
  {
   "cell_type": "code",
   "execution_count": 54,
   "metadata": {},
   "outputs": [
    {
     "data": {
      "image/png": "[encoded data removed]",
      "text/plain": [
       "<Figure size 1080x360 with 1 Axes>"
      ]
     },
     "metadata": {
      "needs_background": "light"
     },
     "output_type": "display_data"
    },
    {
     "data": {
      "image/png": "[encoded data removed]",
      "text/plain": [
       "<Figure size 1080x360 with 1 Axes>"
      ]
     },
     "metadata": {
      "needs_background": "light"
     },
     "output_type": "display_data"
    },
    {
     "data": {
      "image/png": "[encoded data removed]",
      "text/plain": [
       "<Figure size 1080x360 with 1 Axes>"
      ]
     },
     "metadata": {
      "needs_background": "light"
     },
     "output_type": "display_data"
    },
    {
     "data": {
      "image/png": "[encoded data removed]",
      "text/plain": [
       "<Figure size 1080x360 with 1 Axes>"
      ]
     },
     "metadata": {
      "needs_background": "light"
     },
     "output_type": "display_data"
    },
    {
     "data": {
      "image/png": "[encoded data removed]",
      "text/plain": [
       "<Figure size 1080x360 with 1 Axes>"
      ]
     },
     "metadata": {
      "needs_background": "light"
     },
     "output_type": "display_data"
    },
    {
     "data": {
      "image/png": "[encoded data removed]",
      "text/plain": [
       "<Figure size 1080x360 with 1 Axes>"
      ]
     },
     "metadata": {
      "needs_background": "light"
     },
     "output_type": "display_data"
    },
    {
     "data": {
      "image/png": "[encoded data removed]",
      "text/plain": [
       "<Figure size 1080x360 with 1 Axes>"
      ]
     },
     "metadata": {
      "needs_background": "light"
     },
     "output_type": "display_data"
    },
    {
     "data": {
      "image/png": "[encoded data removed]",
      "text/plain": [
       "<Figure size 1080x360 with 1 Axes>"
      ]
     },
     "metadata": {
      "needs_background": "light"
     },
     "output_type": "display_data"
    },
    {
     "data": {
      "image/png": "[encoded data removed]",
      "text/plain": [
       "<Figure size 1080x360 with 1 Axes>"
      ]
     },
     "metadata": {
      "needs_background": "light"
     },
     "output_type": "display_data"
    },
    {
     "data": {
      "image/png": "[encoded data removed]",
      "text/plain": [
       "<Figure size 1080x360 with 1 Axes>"
      ]
     },
     "metadata": {
      "needs_background": "light"
     },
     "output_type": "display_data"
    }
   ],
   "source": [
    "actual_data_top = actual_data_sales['platform'].unique()\n",
    "for platform in actual_data_top:\n",
    "    data[data['platform'] == platform].pivot_table(index='year_of_release', values='total_sales', aggfunc='sum').plot(kind='bar', figsize=(15,5))\n",
    "    plt.title(platform)"
   ]
  },
  {
   "cell_type": "markdown",
   "metadata": {},
   "source": [
    "По всем платформам продажи падают. Это подтверждается еще общим графиком по всем периодам (с 2008-2009 годов начался спад). По продажам лидируют: ps3, x360, wii, ps4, 3ds. Самым стабильным и долгоживущим устройством, как ни странно, является компьютер (pc). Хоть pc и занимает 7 место, но является стабильной платформой, на которую можно выпускать игры. Лидером является ps3. На 4 месте расположился ps4. Можно считать, что ps4 - наследник ps3, который перетягивает на себя потенциальных покупателей ps3. Похоже на стабильность."
   ]
  },
  {
   "cell_type": "markdown",
   "metadata": {},
   "source": [
    "Построим график «ящик с усами» по глобальным продажам игр в разбивке по платформам."
   ]
  },
  {
   "cell_type": "code",
   "execution_count": 55,
   "metadata": {},
   "outputs": [
    {
     "data": {
      "image/png": "[encoded data removed]",
      "text/plain": [
       "<Figure size 1080x144 with 1 Axes>"
      ]
     },
     "metadata": {
      "needs_background": "light"
     },
     "output_type": "display_data"
    },
    {
     "data": {
      "image/png": "[encoded data removed]",
      "text/plain": [
       "<Figure size 1080x144 with 1 Axes>"
      ]
     },
     "metadata": {
      "needs_background": "light"
     },
     "output_type": "display_data"
    },
    {
     "data": {
      "image/png": "[encoded data removed]",
      "text/plain": [
       "<Figure size 1080x144 with 1 Axes>"
      ]
     },
     "metadata": {
      "needs_background": "light"
     },
     "output_type": "display_data"
    },
    {
     "data": {
      "image/png": "[encoded data removed]",
      "text/plain": [
       "<Figure size 1080x144 with 1 Axes>"
      ]
     },
     "metadata": {
      "needs_background": "light"
     },
     "output_type": "display_data"
    },
    {
     "data": {
      "image/png": "[encoded data removed]",
      "text/plain": [
       "<Figure size 1080x144 with 1 Axes>"
      ]
     },
     "metadata": {
      "needs_background": "light"
     },
     "output_type": "display_data"
    },
    {
     "data": {
      "image/png": "[encoded data removed]",
      "text/plain": [
       "<Figure size 1080x144 with 1 Axes>"
      ]
     },
     "metadata": {
      "needs_background": "light"
     },
     "output_type": "display_data"
    },
    {
     "data": {
      "image/png": "[encoded data removed]",
      "text/plain": [
       "<Figure size 1080x144 with 1 Axes>"
      ]
     },
     "metadata": {
      "needs_background": "light"
     },
     "output_type": "display_data"
    },
    {
     "data": {
      "image/png": "[encoded data removed]",
      "text/plain": [
       "<Figure size 1080x144 with 1 Axes>"
      ]
     },
     "metadata": {
      "needs_background": "light"
     },
     "output_type": "display_data"
    },
    {
     "data": {
      "image/png": "[encoded data removed]",
      "text/plain": [
       "<Figure size 1080x144 with 1 Axes>"
      ]
     },
     "metadata": {
      "needs_background": "light"
     },
     "output_type": "display_data"
    },
    {
     "data": {
      "image/png": "[encoded data removed]",
      "text/plain": [
       "<Figure size 1080x144 with 1 Axes>"
      ]
     },
     "metadata": {
      "needs_background": "light"
     },
     "output_type": "display_data"
    }
   ],
   "source": [
    "for platform in actual_data_top:\n",
    "    data_actual[data_actual['platform'] == platform].plot(y='total_sales', kind='box', vert=False, figsize=(15,2))\n",
    "    plt.xlim(0, 3) \n",
    "    plt.title(platform)"
   ]
  },
  {
   "cell_type": "markdown",
   "metadata": {},
   "source": [
    "Выбросы могут говорить, что у топовых платформ были игры, которые выстреливали. Выбросы находятся за пределами усов. На диаграммах выше видно, что таких выбрасов достаточно много. Такие выбросы могли компенсировать убытки от выпуска неудачных игр. У ps3, ps4, x360, xone и wiiu длинные усы, что может говорить о большом количестве продаж. Медиана так же находится дальше, чем у остальных платформ. Это значит, что средняя и медиана у этих платформ тоже больше."
   ]
  },
  {
   "cell_type": "markdown",
   "metadata": {},
   "source": [
    "Посмотрим, как влияют на продажи внутри ps3 отзывы пользователей и критиков."
   ]
  },
  {
   "cell_type": "code",
   "execution_count": 56,
   "metadata": {},
   "outputs": [],
   "source": [
    "data_ps3 = (data_actual\n",
    "            .query('platform == \"ps3\"')\n",
    "            .filter(['total_sales', 'critic_score', 'user_score'])\n",
    "           )"
   ]
  },
  {
   "cell_type": "markdown",
   "metadata": {},
   "source": [
    "Посмотрим корреляцию для ps3."
   ]
  },
  {
   "cell_type": "code",
   "execution_count": 57,
   "metadata": {},
   "outputs": [
    {
     "data": {
      "text/html": [
       "<div>\n",
       "<style scoped>\n",
       "    .dataframe tbody tr th:only-of-type {\n",
       "        vertical-align: middle;\n",
       "    }\n",
       "\n",
       "    .dataframe tbody tr th {\n",
       "        vertical-align: top;\n",
       "    }\n",
       "\n",
       "    .dataframe thead th {\n",
       "        text-align: right;\n",
       "    }\n",
       "</style>\n",
       "<table border=\"1\" class=\"dataframe\">\n",
       "  <thead>\n",
       "    <tr style=\"text-align: right;\">\n",
       "      <th></th>\n",
       "      <th>total_sales</th>\n",
       "      <th>critic_score</th>\n",
       "      <th>user_score</th>\n",
       "    </tr>\n",
       "  </thead>\n",
       "  <tbody>\n",
       "    <tr>\n",
       "      <th>total_sales</th>\n",
       "      <td>1.000000</td>\n",
       "      <td>0.347256</td>\n",
       "      <td>0.264105</td>\n",
       "    </tr>\n",
       "    <tr>\n",
       "      <th>critic_score</th>\n",
       "      <td>0.347256</td>\n",
       "      <td>1.000000</td>\n",
       "      <td>0.815791</td>\n",
       "    </tr>\n",
       "    <tr>\n",
       "      <th>user_score</th>\n",
       "      <td>0.264105</td>\n",
       "      <td>0.815791</td>\n",
       "      <td>1.000000</td>\n",
       "    </tr>\n",
       "  </tbody>\n",
       "</table>\n",
       "</div>"
      ],
      "text/plain": [
       "              total_sales  critic_score  user_score\n",
       "total_sales      1.000000      0.347256    0.264105\n",
       "critic_score     0.347256      1.000000    0.815791\n",
       "user_score       0.264105      0.815791    1.000000"
      ]
     },
     "execution_count": 57,
     "metadata": {},
     "output_type": "execute_result"
    }
   ],
   "source": [
    "data_ps3.corr()"
   ]
  },
  {
   "cell_type": "markdown",
   "metadata": {},
   "source": [
    "Визуализируем нашу корреляцию."
   ]
  },
  {
   "cell_type": "code",
   "execution_count": 58,
   "metadata": {},
   "outputs": [
    {
     "data": {
      "text/plain": [
       "<AxesSubplot:>"
      ]
     },
     "execution_count": 58,
     "metadata": {},
     "output_type": "execute_result"
    },
    {
     "data": {
      "image/png": "[encoded data removed]",
      "text/plain": [
       "<Figure size 432x288 with 2 Axes>"
      ]
     },
     "metadata": {
      "needs_background": "light"
     },
     "output_type": "display_data"
    }
   ],
   "source": [
    "sns.heatmap(data_ps3[['total_sales', 'critic_score', 'user_score']].corr(), annot=True, cmap= 'coolwarm')"
   ]
  },
  {
   "cell_type": "markdown",
   "metadata": {},
   "source": [
    "Положительная корреляция для платформы ps3 есть между critic_score и user_score. Практически нет связи между продажами и оценками критиков или пользователей. Однако даже если сравнивать, что больше влияет на продажи, то это будут оценки критиков, а не пользователей. Не стоит забывать, что у нас было большое количество пропусков (около половины). Отстуствие такого большого количества данных могло повлиять на результат."
   ]
  },
  {
   "cell_type": "markdown",
   "metadata": {},
   "source": [
    "Для второго лидера по продажам наблюдается такая же тенденция, как и для ps3."
   ]
  },
  {
   "cell_type": "code",
   "execution_count": 59,
   "metadata": {},
   "outputs": [],
   "source": [
    "data_x360 = (data_actual\n",
    "            .query('platform == \"x360\"')\n",
    "            .filter(['total_sales', 'critic_score', 'user_score'])\n",
    "           )"
   ]
  },
  {
   "cell_type": "code",
   "execution_count": 60,
   "metadata": {},
   "outputs": [
    {
     "data": {
      "text/html": [
       "<div>\n",
       "<style scoped>\n",
       "    .dataframe tbody tr th:only-of-type {\n",
       "        vertical-align: middle;\n",
       "    }\n",
       "\n",
       "    .dataframe tbody tr th {\n",
       "        vertical-align: top;\n",
       "    }\n",
       "\n",
       "    .dataframe thead th {\n",
       "        text-align: right;\n",
       "    }\n",
       "</style>\n",
       "<table border=\"1\" class=\"dataframe\">\n",
       "  <thead>\n",
       "    <tr style=\"text-align: right;\">\n",
       "      <th></th>\n",
       "      <th>total_sales</th>\n",
       "      <th>critic_score</th>\n",
       "      <th>user_score</th>\n",
       "    </tr>\n",
       "  </thead>\n",
       "  <tbody>\n",
       "    <tr>\n",
       "      <th>total_sales</th>\n",
       "      <td>1.000000</td>\n",
       "      <td>0.307641</td>\n",
       "      <td>0.201945</td>\n",
       "    </tr>\n",
       "    <tr>\n",
       "      <th>critic_score</th>\n",
       "      <td>0.307641</td>\n",
       "      <td>1.000000</td>\n",
       "      <td>0.763421</td>\n",
       "    </tr>\n",
       "    <tr>\n",
       "      <th>user_score</th>\n",
       "      <td>0.201945</td>\n",
       "      <td>0.763421</td>\n",
       "      <td>1.000000</td>\n",
       "    </tr>\n",
       "  </tbody>\n",
       "</table>\n",
       "</div>"
      ],
      "text/plain": [
       "              total_sales  critic_score  user_score\n",
       "total_sales      1.000000      0.307641    0.201945\n",
       "critic_score     0.307641      1.000000    0.763421\n",
       "user_score       0.201945      0.763421    1.000000"
      ]
     },
     "execution_count": 60,
     "metadata": {},
     "output_type": "execute_result"
    }
   ],
   "source": [
    "data_x360.corr()"
   ]
  },
  {
   "cell_type": "code",
   "execution_count": 61,
   "metadata": {},
   "outputs": [
    {
     "data": {
      "text/plain": [
       "<AxesSubplot:>"
      ]
     },
     "execution_count": 61,
     "metadata": {},
     "output_type": "execute_result"
    },
    {
     "data": {
      "image/png": "[encoded data removed]",
      "text/plain": [
       "<Figure size 432x288 with 2 Axes>"
      ]
     },
     "metadata": {
      "needs_background": "light"
     },
     "output_type": "display_data"
    }
   ],
   "source": [
    "sns.heatmap(data_x360[['total_sales', 'critic_score', 'user_score']].corr(), annot=True, cmap= 'coolwarm')"
   ]
  },
  {
   "cell_type": "markdown",
   "metadata": {},
   "source": [
    "Посмотрим на общее распределение игр по жанрам."
   ]
  },
  {
   "cell_type": "code",
   "execution_count": 62,
   "metadata": {},
   "outputs": [
    {
     "data": {
      "text/html": [
       "<div>\n",
       "<style scoped>\n",
       "    .dataframe tbody tr th:only-of-type {\n",
       "        vertical-align: middle;\n",
       "    }\n",
       "\n",
       "    .dataframe tbody tr th {\n",
       "        vertical-align: top;\n",
       "    }\n",
       "\n",
       "    .dataframe thead th {\n",
       "        text-align: right;\n",
       "    }\n",
       "</style>\n",
       "<table border=\"1\" class=\"dataframe\">\n",
       "  <thead>\n",
       "    <tr style=\"text-align: right;\">\n",
       "      <th></th>\n",
       "      <th>total_sales</th>\n",
       "    </tr>\n",
       "    <tr>\n",
       "      <th>genre</th>\n",
       "      <th></th>\n",
       "    </tr>\n",
       "  </thead>\n",
       "  <tbody>\n",
       "    <tr>\n",
       "      <th>action</th>\n",
       "      <td>818.37</td>\n",
       "    </tr>\n",
       "    <tr>\n",
       "      <th>shooter</th>\n",
       "      <td>552.01</td>\n",
       "    </tr>\n",
       "    <tr>\n",
       "      <th>sports</th>\n",
       "      <td>466.80</td>\n",
       "    </tr>\n",
       "    <tr>\n",
       "      <th>role-playing</th>\n",
       "      <td>362.64</td>\n",
       "    </tr>\n",
       "    <tr>\n",
       "      <th>misc</th>\n",
       "      <td>310.86</td>\n",
       "    </tr>\n",
       "    <tr>\n",
       "      <th>platform</th>\n",
       "      <td>160.25</td>\n",
       "    </tr>\n",
       "    <tr>\n",
       "      <th>racing</th>\n",
       "      <td>156.37</td>\n",
       "    </tr>\n",
       "    <tr>\n",
       "      <th>fighting</th>\n",
       "      <td>113.63</td>\n",
       "    </tr>\n",
       "    <tr>\n",
       "      <th>simulation</th>\n",
       "      <td>105.00</td>\n",
       "    </tr>\n",
       "    <tr>\n",
       "      <th>adventure</th>\n",
       "      <td>81.25</td>\n",
       "    </tr>\n",
       "    <tr>\n",
       "      <th>strategy</th>\n",
       "      <td>48.65</td>\n",
       "    </tr>\n",
       "    <tr>\n",
       "      <th>puzzle</th>\n",
       "      <td>41.01</td>\n",
       "    </tr>\n",
       "  </tbody>\n",
       "</table>\n",
       "</div>"
      ],
      "text/plain": [
       "              total_sales\n",
       "genre                    \n",
       "action             818.37\n",
       "shooter            552.01\n",
       "sports             466.80\n",
       "role-playing       362.64\n",
       "misc               310.86\n",
       "platform           160.25\n",
       "racing             156.37\n",
       "fighting           113.63\n",
       "simulation         105.00\n",
       "adventure           81.25\n",
       "strategy            48.65\n",
       "puzzle              41.01"
      ]
     },
     "execution_count": 62,
     "metadata": {},
     "output_type": "execute_result"
    }
   ],
   "source": [
    "genre_actual = (data_actual\n",
    "                .pivot_table(index='genre', values='total_sales', aggfunc='sum')\n",
    "                .sort_values(by='total_sales', ascending=False)\n",
    "               )\n",
    "genre_actual"
   ]
  },
  {
   "cell_type": "code",
   "execution_count": 63,
   "metadata": {},
   "outputs": [
    {
     "data": {
      "text/plain": [
       "<AxesSubplot:xlabel='genre'>"
      ]
     },
     "execution_count": 63,
     "metadata": {},
     "output_type": "execute_result"
    },
    {
     "data": {
      "image/png": "[encoded data removed]",
      "text/plain": [
       "<Figure size 360x360 with 1 Axes>"
      ]
     },
     "metadata": {
      "needs_background": "light"
     },
     "output_type": "display_data"
    }
   ],
   "source": [
    "genre_actual.plot(y='total_sales', kind='bar', legend = False, figsize = (5,5))"
   ]
  },
  {
   "cell_type": "markdown",
   "metadata": {},
   "source": [
    "Самые популярные жанры - action, shooter, sports. Именно эти жанры приносят больше всего прибыли компаниям. Самые непопулярные - strategy, puzzle. "
   ]
  },
  {
   "cell_type": "markdown",
   "metadata": {},
   "source": [
    "***Вывод:*** По всем данным можно сделать следующие выводы:\n",
    "1. Средний срок жизни платформы - 10 лет.\n",
    "2. До 1991 года была стагнация по выходу игр, далее до 2008-2009 годов был рост по количеству выпущенных игр в год. После 2009 года начался спад. Скорее всего на спад повлиял мировой кризис.\n",
    "3. Количество выпускаемых игр продолжает падать. Чтобы сделать актуальный прогноз для 2017 года необходимо брать данные с 2009 года. Именно тогда начался спад в релизах.\n",
    "4. PC - самая постоянная платформа, т.е. существет дольше всех, хотя и имеет непостоянные данные (то рост, то спад). Компьютеры покупают не только для игр, поэтому для выпускать игры для компьютеров выгоднее.\n",
    "5. PS, PS3 и PS4 переманивают пользователей с более старых версий платформ на более новые, что позволяет находиться в топе и PS3, и PS4.\n",
    "6. Мнения критиков и пользователей не влияют на продажи. Однако, если сравнивать между отзывами критиков и отзывами пользователей, то отзывы критиков имеют больший вес.\n",
    "7. Самые популярные жанры - action, shooter, sports. Именно эти жанры приносят больше всего прибыли компаниям. Самые непопулярные - strategy, puzzle. "
   ]
  },
  {
   "cell_type": "markdown",
   "metadata": {},
   "source": [
    "### Составим портрет пользователя каждого региона"
   ]
  },
  {
   "cell_type": "markdown",
   "metadata": {},
   "source": [
    "Самые популярные платформы (топ-5) для каждого региона."
   ]
  },
  {
   "cell_type": "code",
   "execution_count": 64,
   "metadata": {},
   "outputs": [
    {
     "data": {
      "text/html": [
       "<div>\n",
       "<style scoped>\n",
       "    .dataframe tbody tr th:only-of-type {\n",
       "        vertical-align: middle;\n",
       "    }\n",
       "\n",
       "    .dataframe tbody tr th {\n",
       "        vertical-align: top;\n",
       "    }\n",
       "\n",
       "    .dataframe thead th {\n",
       "        text-align: right;\n",
       "    }\n",
       "</style>\n",
       "<table border=\"1\" class=\"dataframe\">\n",
       "  <thead>\n",
       "    <tr style=\"text-align: right;\">\n",
       "      <th></th>\n",
       "      <th>na_sales</th>\n",
       "    </tr>\n",
       "    <tr>\n",
       "      <th>platform</th>\n",
       "      <th></th>\n",
       "    </tr>\n",
       "  </thead>\n",
       "  <tbody>\n",
       "    <tr>\n",
       "      <th>x360</th>\n",
       "      <td>410.19</td>\n",
       "    </tr>\n",
       "    <tr>\n",
       "      <th>ps3</th>\n",
       "      <td>293.12</td>\n",
       "    </tr>\n",
       "    <tr>\n",
       "      <th>wii</th>\n",
       "      <td>237.23</td>\n",
       "    </tr>\n",
       "    <tr>\n",
       "      <th>ds</th>\n",
       "      <td>121.37</td>\n",
       "    </tr>\n",
       "    <tr>\n",
       "      <th>ps4</th>\n",
       "      <td>108.74</td>\n",
       "    </tr>\n",
       "  </tbody>\n",
       "</table>\n",
       "</div>"
      ],
      "text/plain": [
       "          na_sales\n",
       "platform          \n",
       "x360        410.19\n",
       "ps3         293.12\n",
       "wii         237.23\n",
       "ds          121.37\n",
       "ps4         108.74"
      ]
     },
     "metadata": {},
     "output_type": "display_data"
    },
    {
     "data": {
      "text/html": [
       "<div>\n",
       "<style scoped>\n",
       "    .dataframe tbody tr th:only-of-type {\n",
       "        vertical-align: middle;\n",
       "    }\n",
       "\n",
       "    .dataframe tbody tr th {\n",
       "        vertical-align: top;\n",
       "    }\n",
       "\n",
       "    .dataframe thead th {\n",
       "        text-align: right;\n",
       "    }\n",
       "</style>\n",
       "<table border=\"1\" class=\"dataframe\">\n",
       "  <thead>\n",
       "    <tr style=\"text-align: right;\">\n",
       "      <th></th>\n",
       "      <th>eu_sales</th>\n",
       "    </tr>\n",
       "    <tr>\n",
       "      <th>platform</th>\n",
       "      <th></th>\n",
       "    </tr>\n",
       "  </thead>\n",
       "  <tbody>\n",
       "    <tr>\n",
       "      <th>ps3</th>\n",
       "      <td>256.14</td>\n",
       "    </tr>\n",
       "    <tr>\n",
       "      <th>x360</th>\n",
       "      <td>197.81</td>\n",
       "    </tr>\n",
       "    <tr>\n",
       "      <th>ps4</th>\n",
       "      <td>141.09</td>\n",
       "    </tr>\n",
       "    <tr>\n",
       "      <th>wii</th>\n",
       "      <td>124.66</td>\n",
       "    </tr>\n",
       "    <tr>\n",
       "      <th>pc</th>\n",
       "      <td>84.05</td>\n",
       "    </tr>\n",
       "  </tbody>\n",
       "</table>\n",
       "</div>"
      ],
      "text/plain": [
       "          eu_sales\n",
       "platform          \n",
       "ps3         256.14\n",
       "x360        197.81\n",
       "ps4         141.09\n",
       "wii         124.66\n",
       "pc           84.05"
      ]
     },
     "metadata": {},
     "output_type": "display_data"
    },
    {
     "data": {
      "text/html": [
       "<div>\n",
       "<style scoped>\n",
       "    .dataframe tbody tr th:only-of-type {\n",
       "        vertical-align: middle;\n",
       "    }\n",
       "\n",
       "    .dataframe tbody tr th {\n",
       "        vertical-align: top;\n",
       "    }\n",
       "\n",
       "    .dataframe thead th {\n",
       "        text-align: right;\n",
       "    }\n",
       "</style>\n",
       "<table border=\"1\" class=\"dataframe\">\n",
       "  <thead>\n",
       "    <tr style=\"text-align: right;\">\n",
       "      <th></th>\n",
       "      <th>jp_sales</th>\n",
       "    </tr>\n",
       "    <tr>\n",
       "      <th>platform</th>\n",
       "      <th></th>\n",
       "    </tr>\n",
       "  </thead>\n",
       "  <tbody>\n",
       "    <tr>\n",
       "      <th>3ds</th>\n",
       "      <td>100.62</td>\n",
       "    </tr>\n",
       "    <tr>\n",
       "      <th>ps3</th>\n",
       "      <td>68.39</td>\n",
       "    </tr>\n",
       "    <tr>\n",
       "      <th>ds</th>\n",
       "      <td>52.11</td>\n",
       "    </tr>\n",
       "    <tr>\n",
       "      <th>psp</th>\n",
       "      <td>50.63</td>\n",
       "    </tr>\n",
       "    <tr>\n",
       "      <th>wii</th>\n",
       "      <td>34.32</td>\n",
       "    </tr>\n",
       "  </tbody>\n",
       "</table>\n",
       "</div>"
      ],
      "text/plain": [
       "          jp_sales\n",
       "platform          \n",
       "3ds         100.62\n",
       "ps3          68.39\n",
       "ds           52.11\n",
       "psp          50.63\n",
       "wii          34.32"
      ]
     },
     "metadata": {},
     "output_type": "display_data"
    }
   ],
   "source": [
    "top_platform_na = data_actual.pivot_table(index='platform', values='na_sales', aggfunc='sum').sort_values(by='na_sales', ascending=False)\n",
    "display(top_platform_na.head(5))\n",
    "\n",
    "top_platform_eu = data_actual.pivot_table(index='platform', values='eu_sales', aggfunc='sum').sort_values(by='eu_sales', ascending=False)\n",
    "display(top_platform_eu.head(5))\n",
    "\n",
    "top_platform_jp = data_actual.pivot_table(index='platform', values='jp_sales', aggfunc='sum').sort_values(by='jp_sales', ascending=False)\n",
    "display(top_platform_jp.head(5))"
   ]
  },
  {
   "cell_type": "markdown",
   "metadata": {},
   "source": [
    "В Америке и Европе первые места делят ps3 и x360. В Японии другой рынок. На первом месте 3ds (от японской компании Nintendo), а уже на 2м месте - ps3."
   ]
  },
  {
   "cell_type": "markdown",
   "metadata": {},
   "source": [
    "Посмотрим топ жанров по регионам."
   ]
  },
  {
   "cell_type": "code",
   "execution_count": 65,
   "metadata": {},
   "outputs": [
    {
     "data": {
      "text/html": [
       "<div>\n",
       "<style scoped>\n",
       "    .dataframe tbody tr th:only-of-type {\n",
       "        vertical-align: middle;\n",
       "    }\n",
       "\n",
       "    .dataframe tbody tr th {\n",
       "        vertical-align: top;\n",
       "    }\n",
       "\n",
       "    .dataframe thead th {\n",
       "        text-align: right;\n",
       "    }\n",
       "</style>\n",
       "<table border=\"1\" class=\"dataframe\">\n",
       "  <thead>\n",
       "    <tr style=\"text-align: right;\">\n",
       "      <th></th>\n",
       "      <th>na_sales</th>\n",
       "    </tr>\n",
       "    <tr>\n",
       "      <th>genre</th>\n",
       "      <th></th>\n",
       "    </tr>\n",
       "  </thead>\n",
       "  <tbody>\n",
       "    <tr>\n",
       "      <th>action</th>\n",
       "      <td>365.34</td>\n",
       "    </tr>\n",
       "    <tr>\n",
       "      <th>shooter</th>\n",
       "      <td>277.63</td>\n",
       "    </tr>\n",
       "    <tr>\n",
       "      <th>sports</th>\n",
       "      <td>228.34</td>\n",
       "    </tr>\n",
       "    <tr>\n",
       "      <th>misc</th>\n",
       "      <td>164.52</td>\n",
       "    </tr>\n",
       "    <tr>\n",
       "      <th>role-playing</th>\n",
       "      <td>130.83</td>\n",
       "    </tr>\n",
       "  </tbody>\n",
       "</table>\n",
       "</div>"
      ],
      "text/plain": [
       "              na_sales\n",
       "genre                 \n",
       "action          365.34\n",
       "shooter         277.63\n",
       "sports          228.34\n",
       "misc            164.52\n",
       "role-playing    130.83"
      ]
     },
     "metadata": {},
     "output_type": "display_data"
    },
    {
     "data": {
      "text/html": [
       "<div>\n",
       "<style scoped>\n",
       "    .dataframe tbody tr th:only-of-type {\n",
       "        vertical-align: middle;\n",
       "    }\n",
       "\n",
       "    .dataframe tbody tr th {\n",
       "        vertical-align: top;\n",
       "    }\n",
       "\n",
       "    .dataframe thead th {\n",
       "        text-align: right;\n",
       "    }\n",
       "</style>\n",
       "<table border=\"1\" class=\"dataframe\">\n",
       "  <thead>\n",
       "    <tr style=\"text-align: right;\">\n",
       "      <th></th>\n",
       "      <th>eu_sales</th>\n",
       "    </tr>\n",
       "    <tr>\n",
       "      <th>genre</th>\n",
       "      <th></th>\n",
       "    </tr>\n",
       "  </thead>\n",
       "  <tbody>\n",
       "    <tr>\n",
       "      <th>action</th>\n",
       "      <td>274.98</td>\n",
       "    </tr>\n",
       "    <tr>\n",
       "      <th>shooter</th>\n",
       "      <td>193.63</td>\n",
       "    </tr>\n",
       "    <tr>\n",
       "      <th>sports</th>\n",
       "      <td>158.76</td>\n",
       "    </tr>\n",
       "    <tr>\n",
       "      <th>misc</th>\n",
       "      <td>86.37</td>\n",
       "    </tr>\n",
       "    <tr>\n",
       "      <th>role-playing</th>\n",
       "      <td>83.56</td>\n",
       "    </tr>\n",
       "  </tbody>\n",
       "</table>\n",
       "</div>"
      ],
      "text/plain": [
       "              eu_sales\n",
       "genre                 \n",
       "action          274.98\n",
       "shooter         193.63\n",
       "sports          158.76\n",
       "misc             86.37\n",
       "role-playing     83.56"
      ]
     },
     "metadata": {},
     "output_type": "display_data"
    },
    {
     "data": {
      "text/html": [
       "<div>\n",
       "<style scoped>\n",
       "    .dataframe tbody tr th:only-of-type {\n",
       "        vertical-align: middle;\n",
       "    }\n",
       "\n",
       "    .dataframe tbody tr th {\n",
       "        vertical-align: top;\n",
       "    }\n",
       "\n",
       "    .dataframe thead th {\n",
       "        text-align: right;\n",
       "    }\n",
       "</style>\n",
       "<table border=\"1\" class=\"dataframe\">\n",
       "  <thead>\n",
       "    <tr style=\"text-align: right;\">\n",
       "      <th></th>\n",
       "      <th>jp_sales</th>\n",
       "    </tr>\n",
       "    <tr>\n",
       "      <th>genre</th>\n",
       "      <th></th>\n",
       "    </tr>\n",
       "  </thead>\n",
       "  <tbody>\n",
       "    <tr>\n",
       "      <th>role-playing</th>\n",
       "      <td>120.66</td>\n",
       "    </tr>\n",
       "    <tr>\n",
       "      <th>action</th>\n",
       "      <td>84.17</td>\n",
       "    </tr>\n",
       "    <tr>\n",
       "      <th>misc</th>\n",
       "      <td>30.34</td>\n",
       "    </tr>\n",
       "    <tr>\n",
       "      <th>sports</th>\n",
       "      <td>25.32</td>\n",
       "    </tr>\n",
       "    <tr>\n",
       "      <th>platform</th>\n",
       "      <td>20.65</td>\n",
       "    </tr>\n",
       "  </tbody>\n",
       "</table>\n",
       "</div>"
      ],
      "text/plain": [
       "              jp_sales\n",
       "genre                 \n",
       "role-playing    120.66\n",
       "action           84.17\n",
       "misc             30.34\n",
       "sports           25.32\n",
       "platform         20.65"
      ]
     },
     "metadata": {},
     "output_type": "display_data"
    }
   ],
   "source": [
    "top_genre_na = data_actual.pivot_table(index='genre', values='na_sales', aggfunc='sum').sort_values(by='na_sales', ascending=False)\n",
    "display(top_genre_na.head(5))\n",
    "\n",
    "top_genre_eu = data_actual.pivot_table(index='genre', values='eu_sales', aggfunc='sum').sort_values(by='eu_sales', ascending=False)\n",
    "display(top_genre_eu.head(5))\n",
    "\n",
    "top_genre_jp = data_actual.pivot_table(index='genre', values='jp_sales', aggfunc='sum').sort_values(by='jp_sales', ascending=False)\n",
    "display(top_genre_jp.head(5))"
   ]
  },
  {
   "cell_type": "markdown",
   "metadata": {},
   "source": [
    "Самые популярные жанры в Америке и Европе - это action и shooter. В Японии опять обстоят дела по-другому. Shooter вообще не входит в топ-5, а первое место занимает не action, а role-playing."
   ]
  },
  {
   "cell_type": "markdown",
   "metadata": {},
   "source": [
    "Узнаем, влияет ли рейтинг ESRB на продажи в отдельном регионе."
   ]
  },
  {
   "cell_type": "code",
   "execution_count": 66,
   "metadata": {},
   "outputs": [
    {
     "data": {
      "text/html": [
       "<div>\n",
       "<style scoped>\n",
       "    .dataframe tbody tr th:only-of-type {\n",
       "        vertical-align: middle;\n",
       "    }\n",
       "\n",
       "    .dataframe tbody tr th {\n",
       "        vertical-align: top;\n",
       "    }\n",
       "\n",
       "    .dataframe thead th {\n",
       "        text-align: right;\n",
       "    }\n",
       "</style>\n",
       "<table border=\"1\" class=\"dataframe\">\n",
       "  <thead>\n",
       "    <tr style=\"text-align: right;\">\n",
       "      <th></th>\n",
       "      <th>na_sales</th>\n",
       "    </tr>\n",
       "    <tr>\n",
       "      <th>rating</th>\n",
       "      <th></th>\n",
       "    </tr>\n",
       "  </thead>\n",
       "  <tbody>\n",
       "    <tr>\n",
       "      <th>m</th>\n",
       "      <td>443.10</td>\n",
       "    </tr>\n",
       "    <tr>\n",
       "      <th>e</th>\n",
       "      <td>404.47</td>\n",
       "    </tr>\n",
       "    <tr>\n",
       "      <th>t</th>\n",
       "      <td>227.58</td>\n",
       "    </tr>\n",
       "    <tr>\n",
       "      <th>e10+</th>\n",
       "      <td>205.17</td>\n",
       "    </tr>\n",
       "    <tr>\n",
       "      <th>rp</th>\n",
       "      <td>191.22</td>\n",
       "    </tr>\n",
       "    <tr>\n",
       "      <th>ec</th>\n",
       "      <td>1.32</td>\n",
       "    </tr>\n",
       "  </tbody>\n",
       "</table>\n",
       "</div>"
      ],
      "text/plain": [
       "        na_sales\n",
       "rating          \n",
       "m         443.10\n",
       "e         404.47\n",
       "t         227.58\n",
       "e10+      205.17\n",
       "rp        191.22\n",
       "ec          1.32"
      ]
     },
     "metadata": {},
     "output_type": "display_data"
    },
    {
     "data": {
      "text/html": [
       "<div>\n",
       "<style scoped>\n",
       "    .dataframe tbody tr th:only-of-type {\n",
       "        vertical-align: middle;\n",
       "    }\n",
       "\n",
       "    .dataframe tbody tr th {\n",
       "        vertical-align: top;\n",
       "    }\n",
       "\n",
       "    .dataframe thead th {\n",
       "        text-align: right;\n",
       "    }\n",
       "</style>\n",
       "<table border=\"1\" class=\"dataframe\">\n",
       "  <thead>\n",
       "    <tr style=\"text-align: right;\">\n",
       "      <th></th>\n",
       "      <th>eu_sales</th>\n",
       "    </tr>\n",
       "    <tr>\n",
       "      <th>rating</th>\n",
       "      <th></th>\n",
       "    </tr>\n",
       "  </thead>\n",
       "  <tbody>\n",
       "    <tr>\n",
       "      <th>m</th>\n",
       "      <td>328.96</td>\n",
       "    </tr>\n",
       "    <tr>\n",
       "      <th>e</th>\n",
       "      <td>261.78</td>\n",
       "    </tr>\n",
       "    <tr>\n",
       "      <th>rp</th>\n",
       "      <td>166.33</td>\n",
       "    </tr>\n",
       "    <tr>\n",
       "      <th>t</th>\n",
       "      <td>153.56</td>\n",
       "    </tr>\n",
       "    <tr>\n",
       "      <th>e10+</th>\n",
       "      <td>123.51</td>\n",
       "    </tr>\n",
       "    <tr>\n",
       "      <th>ec</th>\n",
       "      <td>0.00</td>\n",
       "    </tr>\n",
       "  </tbody>\n",
       "</table>\n",
       "</div>"
      ],
      "text/plain": [
       "        eu_sales\n",
       "rating          \n",
       "m         328.96\n",
       "e         261.78\n",
       "rp        166.33\n",
       "t         153.56\n",
       "e10+      123.51\n",
       "ec          0.00"
      ]
     },
     "metadata": {},
     "output_type": "display_data"
    },
    {
     "data": {
      "text/html": [
       "<div>\n",
       "<style scoped>\n",
       "    .dataframe tbody tr th:only-of-type {\n",
       "        vertical-align: middle;\n",
       "    }\n",
       "\n",
       "    .dataframe tbody tr th {\n",
       "        vertical-align: top;\n",
       "    }\n",
       "\n",
       "    .dataframe thead th {\n",
       "        text-align: right;\n",
       "    }\n",
       "</style>\n",
       "<table border=\"1\" class=\"dataframe\">\n",
       "  <thead>\n",
       "    <tr style=\"text-align: right;\">\n",
       "      <th></th>\n",
       "      <th>jp_sales</th>\n",
       "    </tr>\n",
       "    <tr>\n",
       "      <th>rating</th>\n",
       "      <th></th>\n",
       "    </tr>\n",
       "  </thead>\n",
       "  <tbody>\n",
       "    <tr>\n",
       "      <th>rp</th>\n",
       "      <td>198.80</td>\n",
       "    </tr>\n",
       "    <tr>\n",
       "      <th>e</th>\n",
       "      <td>61.49</td>\n",
       "    </tr>\n",
       "    <tr>\n",
       "      <th>t</th>\n",
       "      <td>50.62</td>\n",
       "    </tr>\n",
       "    <tr>\n",
       "      <th>m</th>\n",
       "      <td>35.66</td>\n",
       "    </tr>\n",
       "    <tr>\n",
       "      <th>e10+</th>\n",
       "      <td>20.82</td>\n",
       "    </tr>\n",
       "    <tr>\n",
       "      <th>ec</th>\n",
       "      <td>0.00</td>\n",
       "    </tr>\n",
       "  </tbody>\n",
       "</table>\n",
       "</div>"
      ],
      "text/plain": [
       "        jp_sales\n",
       "rating          \n",
       "rp        198.80\n",
       "e          61.49\n",
       "t          50.62\n",
       "m          35.66\n",
       "e10+       20.82\n",
       "ec          0.00"
      ]
     },
     "metadata": {},
     "output_type": "display_data"
    }
   ],
   "source": [
    "rating_sale_na = data_actual.pivot_table(index='rating', values='na_sales', aggfunc='sum').sort_values(by='na_sales', ascending=False)\n",
    "display(rating_sale_na)\n",
    "\n",
    "rating_sale_eu = data_actual.pivot_table(index='rating', values='eu_sales', aggfunc='sum').sort_values(by='eu_sales', ascending=False)\n",
    "display(rating_sale_eu)\n",
    "\n",
    "rating_sale_jp = data_actual.pivot_table(index='rating', values='jp_sales', aggfunc='sum').sort_values(by='jp_sales', ascending=False)\n",
    "display(rating_sale_jp)"
   ]
  },
  {
   "cell_type": "markdown",
   "metadata": {},
   "source": [
    "В Америке и Европе на первых и вторых местах - «M» («Mature») и «E» («Everyone»). Жанры для взрослых и для всех имеют большую аудиторию (что логично). В Японии много rp (рэйтинг уточняется). Как мы поним, пробелы мы заполняли rp. Возможно японцы не говорят жанры, которые им нравятся, но скорее всего произошла ошибка в выгрузке данных. На вторых и третьих местах стоят «E» («Everyone») и «T» («Teen»). Похоже для разработчиков из Японии важно захватить большую аудиторию."
   ]
  },
  {
   "cell_type": "markdown",
   "metadata": {},
   "source": [
    "***Вывод:*** Рынок Америки и Европы не сильно отличается друг от друга. В Америке и Европе первые места делят ps3 и x360. В Японии другой рынок. На первом месте 3ds (от японской компании Nintendo), а уже на 2м месте - ps3. Самые популярные жанры в Америке и Европе - это action и shooter. В Японии опять обстоят дела по-другому. Shooter вообще не входит в топ-5, а первое место занимает не action, а role-playing. Что касается рейтинга, то в Америки и Европе популярны жанры «M» («Mature») и «E» («Everyone»). На первом месте по рейтингу стоит неопределенный жанр (мы меняли пропуски на неопределенный жанр rp). На втором месте в Японии игры для всех, и для тинейджеров, которые покрывают большую аудиторию."
   ]
  },
  {
   "cell_type": "markdown",
   "metadata": {},
   "source": [
    "### Проверим гипотезы"
   ]
  },
  {
   "cell_type": "markdown",
   "metadata": {},
   "source": [
    "Проверим первую гипотезу."
   ]
  },
  {
   "cell_type": "markdown",
   "metadata": {},
   "source": [
    "- Н0: Средние пользовательские рейтинги платформ Xbox One и PC одинаковые.\n",
    "- Н1: Средние пользовательские рейтинги платформ Xbox One и PC **НЕ** одинаковые\n",
    "\n",
    "Пороговое значение будет 0.05."
   ]
  },
  {
   "cell_type": "markdown",
   "metadata": {},
   "source": [
    "Ещё в предобработке данных мы заменили пропуски значением -1."
   ]
  },
  {
   "cell_type": "markdown",
   "metadata": {},
   "source": [
    "Выборки оценок по платформам XOne и PC не связаны друг с другом. Для расчёта статистики разности и p-value воспользуемся критерием Стьюдента (st.ttest_ind)."
   ]
  },
  {
   "cell_type": "code",
   "execution_count": 89,
   "metadata": {},
   "outputs": [],
   "source": [
    "# удалим пропуски, сохраним данные в новых переменных\n",
    "xone = data_actual.query('platform == \"xone\" and user_score != -1')['user_score']\n",
    "pc = data_actual.query('platform == \"pc\" and user_score != -1')['user_score']"
   ]
  },
  {
   "cell_type": "code",
   "execution_count": 90,
   "metadata": {},
   "outputs": [
    {
     "name": "stdout",
     "output_type": "stream",
     "text": [
      "Нулевая гипотеза не может быть отвергнута\n"
     ]
    }
   ],
   "source": [
    "alpha = 0.05\n",
    "\n",
    "results = st.ttest_ind(\n",
    "            xone, pc)\n",
    "\n",
    "if results.pvalue < alpha:\n",
    "    print('Отвергаем нулевую гипотезу')\n",
    "else:\n",
    "    print('Нулевая гипотеза не может быть отвергнута')"
   ]
  },
  {
   "cell_type": "markdown",
   "metadata": {},
   "source": [
    "Сравним средние, если не можем отвергнуть нулевую гипотезу."
   ]
  },
  {
   "cell_type": "code",
   "execution_count": 91,
   "metadata": {},
   "outputs": [
    {
     "data": {
      "text/plain": [
       "'6.521428571428572 и 6.661456102783726'"
      ]
     },
     "metadata": {},
     "output_type": "display_data"
    }
   ],
   "source": [
    "display(f'{xone.mean()} и {pc.mean()}')"
   ]
  },
  {
   "cell_type": "markdown",
   "metadata": {},
   "source": [
    "**Вывод:** Средние пользовательские рейтинги платформ Xbox One и PC одинаковые."
   ]
  },
  {
   "cell_type": "markdown",
   "metadata": {},
   "source": [
    "Проверим ещё одну гипотезу."
   ]
  },
  {
   "cell_type": "markdown",
   "metadata": {},
   "source": [
    "- H0: Средние пользовательские рейтинги жанров Action (англ. «действие», экшен-игры) и Sports (англ. «спортивные соревнования») разные.\n",
    "- H1: Средние пользовательские рейтинги жанров Action (англ. «действие», экшен-игры) и Sports (англ. «спортивные соревнования») одинаковые."
   ]
  },
  {
   "cell_type": "code",
   "execution_count": 92,
   "metadata": {},
   "outputs": [],
   "source": [
    "# удалим пропуски, сохраним данные в новых переменных\n",
    "action = data_actual.query('genre == \"action\" and user_score != -1')['user_score']\n",
    "sports = data_actual.query('genre == \"sports\" and user_score != -1')['user_score']"
   ]
  },
  {
   "cell_type": "code",
   "execution_count": 93,
   "metadata": {},
   "outputs": [
    {
     "name": "stdout",
     "output_type": "stream",
     "text": [
      "Отвергаем нулевую гипотезу\n"
     ]
    }
   ],
   "source": [
    "alpha = 0.05\n",
    "\n",
    "results = st.ttest_ind(\n",
    "            action, sports)\n",
    "\n",
    "if results.pvalue < alpha:\n",
    "    print(\"Отвергаем нулевую гипотезу\")\n",
    "else:\n",
    "    print(\"Нулевая гипотеза не может быть отвергнута\")"
   ]
  },
  {
   "cell_type": "markdown",
   "metadata": {},
   "source": [
    "Проверим средние, чтобы точно отвергнуть нудевую гипотезу."
   ]
  },
  {
   "cell_type": "code",
   "execution_count": 94,
   "metadata": {},
   "outputs": [
    {
     "data": {
      "text/plain": [
       "'6.823523206751054 и 6.103491271820449'"
      ]
     },
     "metadata": {},
     "output_type": "display_data"
    }
   ],
   "source": [
    "display(f'{action.mean()} и {sports.mean()}')"
   ]
  },
  {
   "cell_type": "markdown",
   "metadata": {},
   "source": [
    "**Вывод:** Средние пользовательские рейтинги платформ Xbox One и PC одинаковые. Средние пользовательские рейтинги жанров Action (англ. «действие», экшен-игры) и Sports (англ. «спортивные соревнования») тоже одинаковые. Гипотезы проверяли с помощью распределения Стьюдента."
   ]
  },
  {
   "cell_type": "markdown",
   "metadata": {},
   "source": [
    "### Общий вывод"
   ]
  },
  {
   "cell_type": "markdown",
   "metadata": {},
   "source": [
    "Были изучены исторические данные о продажах игр, оценки пользователей и экспертов, жанры и платформы (например, Xbox или PlayStation). Нам нужно было выявить определяющие успешность игры закономерности. Это позволит сделать ставку на потенциально популярный продукт и спланировать рекламные кампании в 2017 году.\n",
    "\n",
    "Какие этапы были пройдены:\n",
    "1. Предобработка данных.\n",
    "- Названия столбцов, а так же данные типа object были приведены к нижнему регистру. Данные в столбце year_of_release были переведены из типа данных float в тип данных int. Данные в столбце user_score были переведены из типа object в тип данных float. \n",
    "- В столбцах name и genre были благополучно удалены 2 строки, с пропущенными данными, т.к. без названия делать с этими строками нечего.\n",
    "- В столбце year_of_release было 269 пропусков. Их можно было удалить, т.к. они составляли малую часть от общей выборки. Однако часть данных мы смогли восстановить, т.к. часто игры выходят в один год для разных платформ. Остальные строки с пропусками пришлось удалить.\n",
    "- Большое количество пропусков было в столбцах critic_score, user_score и rating (около половины от всего объема данных). В critic_score и user_score пропуски были заменены на -1, чтобы не потерять бОльшую часть данных и продолжать с ними работать. В столбце rating пропуски были заменены на значение 'rp' (=рейтинг уточняется), т.к. в таблице было уже такое значение (всего 2 строки, в которые мы добавили пропуски). В столбце user_score было много значений 'tbc', что значит \"уточняется\". По факту - тоже пропуск. Заменили это значение на -1.\n",
    "\n",
    "2. Исследовательский анализ данных.\n",
    "- Средний срок жизни платформы - 10 лет.\n",
    "- До 1991 года была стагнация по выходу игр, далее до 2008-2009 годов был рост по количеству выпущенных игр в год. После 2009 года начался спад. Скорее всего на спад повлиял мировой кризис.\n",
    "- Количество выпускаемых игр продолжает падать. Чтобы сделать актуальный прогноз для 2017 года необходимо брать данные с 2009 года. Именно тогда начался спад в релизах.\n",
    "- PC - самая постоянная платформа, т.е. существет дольше всех, хотя и имеет непостоянные данные (то рост, то спад). Компьютеры покупают не только для игр, поэтому для выпускать игры для компьютеров выгоднее.\n",
    "- PS, PS3 и PS4 переманивают пользователей с более старых версий платформ на более новые, что позволяет находиться в топе и PS3, и PS4.\n",
    "- Мнения критиков и пользователей не влияют на продажи. Однако, если сравнивать между отзывами критиков и отзывами пользователей, то отзывы критиков имеют больший вес.\n",
    "- Самые популярные жанры - action, shooter, sports. Именно эти жанры приносят больше всего прибыли компаниям. Самые непопулярные - strategy, puzzle.\n",
    "\n",
    "3. Портрет пользователя каждого региона.\n",
    " \n",
    " В столбцах было всего 3 региона: Америка, Европа и Япония. Рынок Америки и Европы не сильно отличается друг от друга. В Америке и Европе первые места делят ps3 и x360. В Японии другой рынок. На первом месте 3ds (от японской компании Nintendo), а уже на 2м месте - ps3. Самые популярные жанры в Америке и Европе - это action и shooter. В Японии опять обстоят дела по-другому. Shooter вообще не входит в топ-5, а первое место занимает не action, а role-playing. Что касается рейтинга, то в Америки и Европе популярны жанры «M» («Mature») и «E» («Everyone»). На первом месте по рейтингу стоит неопределенный жанр (мы меняли пропуски на неопределенный жанр rp). На втором месте в Японии игры для всех, и для тинейджеров, которые покрывают большую аудиторию. Можно сделать вывод, что игроки в Америке и Европе практически идентичны, а пользователи в Японии отдают предпочтения японскому производителю (Nintendo -> 3ds) и любят классический для Японии жанр role-playing.\n",
    "\n",
    "\n",
    "4. Проверка гипотез.\n",
    "\n",
    " Средние пользовательские рейтинги платформ Xbox One и PC одинаковые. Средние пользовательские рейтинги жанров Action (англ. «действие», экшен-игры) и Sports (англ. «спортивные соревнования») тоже одинаковые. Гипотезы проверяли с помощью распределения Стьюдента, т.к. выборки не были связаны между собой. Пороговое значение было 0.05."
   ]
  }
 ],
 "metadata": {
  "ExecuteTimeLog": [
   {
    "duration": 908,
    "start_time": "2022-12-09T23:11:42.232Z"
   },
   {
    "duration": 190,
    "start_time": "2022-12-09T23:12:02.699Z"
   },
   {
    "duration": 66,
    "start_time": "2022-12-09T23:12:11.746Z"
   },
   {
    "duration": 76,
    "start_time": "2022-12-09T23:12:17.567Z"
   },
   {
    "duration": 54,
    "start_time": "2022-12-09T23:12:42.601Z"
   },
   {
    "duration": 3,
    "start_time": "2022-12-09T23:12:47.485Z"
   },
   {
    "duration": 18,
    "start_time": "2022-12-09T23:12:55.928Z"
   },
   {
    "duration": 17,
    "start_time": "2022-12-09T23:13:09.077Z"
   },
   {
    "duration": 11,
    "start_time": "2022-12-09T23:13:43.442Z"
   },
   {
    "duration": 870,
    "start_time": "2022-12-09T23:14:17.207Z"
   },
   {
    "duration": 865,
    "start_time": "2022-12-09T23:14:47.693Z"
   },
   {
    "duration": 76,
    "start_time": "2022-12-09T23:15:29.064Z"
   },
   {
    "duration": 78,
    "start_time": "2022-12-09T23:32:08.298Z"
   },
   {
    "duration": 9,
    "start_time": "2022-12-09T23:32:23.801Z"
   },
   {
    "duration": 22,
    "start_time": "2022-12-09T23:32:28.882Z"
   },
   {
    "duration": 71,
    "start_time": "2022-12-09T23:37:05.416Z"
   },
   {
    "duration": 15,
    "start_time": "2022-12-09T23:41:49.442Z"
   },
   {
    "duration": 4,
    "start_time": "2022-12-09T23:42:55.685Z"
   },
   {
    "duration": 6,
    "start_time": "2022-12-09T23:44:20.174Z"
   },
   {
    "duration": 6,
    "start_time": "2022-12-09T23:44:29.993Z"
   },
   {
    "duration": 8,
    "start_time": "2022-12-09T23:44:55.072Z"
   },
   {
    "duration": 15,
    "start_time": "2022-12-09T23:45:05.661Z"
   },
   {
    "duration": 9,
    "start_time": "2022-12-09T23:47:53.947Z"
   },
   {
    "duration": 6,
    "start_time": "2022-12-09T23:48:00.951Z"
   },
   {
    "duration": 5,
    "start_time": "2022-12-09T23:49:28.599Z"
   },
   {
    "duration": 88,
    "start_time": "2022-12-09T23:50:46.629Z"
   },
   {
    "duration": 34,
    "start_time": "2022-12-09T23:51:23.618Z"
   },
   {
    "duration": 6,
    "start_time": "2022-12-09T23:56:16.730Z"
   },
   {
    "duration": 24,
    "start_time": "2022-12-09T23:56:36.323Z"
   },
   {
    "duration": 47,
    "start_time": "2022-12-10T21:57:19.633Z"
   },
   {
    "duration": 810,
    "start_time": "2022-12-10T21:57:34.605Z"
   },
   {
    "duration": 204,
    "start_time": "2022-12-10T21:57:35.418Z"
   },
   {
    "duration": 3,
    "start_time": "2022-12-10T21:57:35.624Z"
   },
   {
    "duration": 32,
    "start_time": "2022-12-10T21:57:35.629Z"
   },
   {
    "duration": 15,
    "start_time": "2022-12-10T21:57:35.662Z"
   },
   {
    "duration": 35,
    "start_time": "2022-12-10T21:57:35.678Z"
   },
   {
    "duration": 16,
    "start_time": "2022-12-10T21:57:35.714Z"
   },
   {
    "duration": 781,
    "start_time": "2022-12-10T21:57:35.732Z"
   },
   {
    "duration": 37,
    "start_time": "2022-12-10T21:57:36.514Z"
   },
   {
    "duration": 53,
    "start_time": "2022-12-10T21:57:36.554Z"
   },
   {
    "duration": 37,
    "start_time": "2022-12-10T21:57:36.609Z"
   },
   {
    "duration": 41,
    "start_time": "2022-12-10T21:57:36.647Z"
   },
   {
    "duration": 24,
    "start_time": "2022-12-10T21:57:36.690Z"
   },
   {
    "duration": 28,
    "start_time": "2022-12-10T21:57:36.716Z"
   },
   {
    "duration": 22,
    "start_time": "2022-12-10T21:57:36.745Z"
   },
   {
    "duration": 35,
    "start_time": "2022-12-10T21:57:36.769Z"
   },
   {
    "duration": 6,
    "start_time": "2022-12-10T22:26:23.500Z"
   },
   {
    "duration": 24,
    "start_time": "2022-12-10T22:28:19.169Z"
   },
   {
    "duration": 21,
    "start_time": "2022-12-10T22:28:29.623Z"
   },
   {
    "duration": 104,
    "start_time": "2022-12-10T22:35:44.107Z"
   },
   {
    "duration": 26,
    "start_time": "2022-12-10T22:35:51.459Z"
   },
   {
    "duration": 607,
    "start_time": "2022-12-10T22:36:00.060Z"
   },
   {
    "duration": 51,
    "start_time": "2022-12-10T22:36:00.669Z"
   },
   {
    "duration": 3,
    "start_time": "2022-12-10T22:36:00.722Z"
   },
   {
    "duration": 46,
    "start_time": "2022-12-10T22:36:00.726Z"
   },
   {
    "duration": 61,
    "start_time": "2022-12-10T22:36:00.775Z"
   },
   {
    "duration": 49,
    "start_time": "2022-12-10T22:36:00.838Z"
   },
   {
    "duration": 8,
    "start_time": "2022-12-10T22:36:00.889Z"
   },
   {
    "duration": 799,
    "start_time": "2022-12-10T22:36:00.899Z"
   },
   {
    "duration": 44,
    "start_time": "2022-12-10T22:36:01.700Z"
   },
   {
    "duration": 30,
    "start_time": "2022-12-10T22:36:01.746Z"
   },
   {
    "duration": 35,
    "start_time": "2022-12-10T22:36:01.778Z"
   },
   {
    "duration": 26,
    "start_time": "2022-12-10T22:36:01.816Z"
   },
   {
    "duration": 18,
    "start_time": "2022-12-10T22:36:01.844Z"
   },
   {
    "duration": 34,
    "start_time": "2022-12-10T22:36:01.865Z"
   },
   {
    "duration": 39,
    "start_time": "2022-12-10T22:36:01.900Z"
   },
   {
    "duration": 38,
    "start_time": "2022-12-10T22:36:01.941Z"
   },
   {
    "duration": 190,
    "start_time": "2022-12-10T22:36:01.981Z"
   },
   {
    "duration": 19,
    "start_time": "2022-12-10T22:36:19.666Z"
   },
   {
    "duration": 5,
    "start_time": "2022-12-10T22:36:29.288Z"
   },
   {
    "duration": 22,
    "start_time": "2022-12-10T22:37:22.571Z"
   },
   {
    "duration": 7,
    "start_time": "2022-12-10T22:38:28.432Z"
   },
   {
    "duration": 5,
    "start_time": "2022-12-10T22:38:36.233Z"
   },
   {
    "duration": 8,
    "start_time": "2022-12-10T22:41:18.390Z"
   },
   {
    "duration": 5,
    "start_time": "2022-12-10T22:42:31.113Z"
   },
   {
    "duration": 5,
    "start_time": "2022-12-10T22:42:33.675Z"
   },
   {
    "duration": 5,
    "start_time": "2022-12-10T22:45:37.825Z"
   },
   {
    "duration": 4,
    "start_time": "2022-12-10T22:46:01.375Z"
   },
   {
    "duration": 734,
    "start_time": "2022-12-10T22:46:14.997Z"
   },
   {
    "duration": 51,
    "start_time": "2022-12-10T22:46:15.733Z"
   },
   {
    "duration": 4,
    "start_time": "2022-12-10T22:46:15.786Z"
   },
   {
    "duration": 32,
    "start_time": "2022-12-10T22:46:15.793Z"
   },
   {
    "duration": 19,
    "start_time": "2022-12-10T22:46:15.827Z"
   },
   {
    "duration": 40,
    "start_time": "2022-12-10T22:46:15.848Z"
   },
   {
    "duration": 9,
    "start_time": "2022-12-10T22:46:15.890Z"
   },
   {
    "duration": 777,
    "start_time": "2022-12-10T22:46:15.926Z"
   },
   {
    "duration": 39,
    "start_time": "2022-12-10T22:46:16.705Z"
   },
   {
    "duration": 6,
    "start_time": "2022-12-10T22:46:16.747Z"
   },
   {
    "duration": 20,
    "start_time": "2022-12-10T22:46:16.755Z"
   },
   {
    "duration": 16,
    "start_time": "2022-12-10T22:46:16.777Z"
   },
   {
    "duration": 10,
    "start_time": "2022-12-10T22:46:16.795Z"
   },
   {
    "duration": 26,
    "start_time": "2022-12-10T22:46:16.807Z"
   },
   {
    "duration": 10,
    "start_time": "2022-12-10T22:46:16.835Z"
   },
   {
    "duration": 91,
    "start_time": "2022-12-10T22:46:16.846Z"
   },
   {
    "duration": 16,
    "start_time": "2022-12-10T22:46:16.940Z"
   },
   {
    "duration": 5,
    "start_time": "2022-12-10T22:46:16.957Z"
   },
   {
    "duration": 34,
    "start_time": "2022-12-10T22:46:16.963Z"
   },
   {
    "duration": 17,
    "start_time": "2022-12-10T22:46:17.000Z"
   },
   {
    "duration": 7,
    "start_time": "2022-12-10T22:46:17.019Z"
   },
   {
    "duration": 8,
    "start_time": "2022-12-10T22:46:25.592Z"
   },
   {
    "duration": 6,
    "start_time": "2022-12-10T22:46:33.236Z"
   },
   {
    "duration": 5,
    "start_time": "2022-12-10T22:48:00.587Z"
   },
   {
    "duration": 77,
    "start_time": "2022-12-10T22:58:04.831Z"
   },
   {
    "duration": 11,
    "start_time": "2022-12-10T22:58:16.999Z"
   },
   {
    "duration": 6,
    "start_time": "2022-12-10T22:58:31.306Z"
   },
   {
    "duration": 9,
    "start_time": "2022-12-10T22:58:48.488Z"
   },
   {
    "duration": 3,
    "start_time": "2022-12-10T23:00:35.043Z"
   },
   {
    "duration": 5,
    "start_time": "2022-12-10T23:00:45.221Z"
   },
   {
    "duration": 79,
    "start_time": "2022-12-10T23:01:24.095Z"
   },
   {
    "duration": 5,
    "start_time": "2022-12-10T23:01:41.517Z"
   },
   {
    "duration": 12,
    "start_time": "2022-12-10T23:02:58.271Z"
   },
   {
    "duration": 3,
    "start_time": "2022-12-10T23:03:40.565Z"
   },
   {
    "duration": 5,
    "start_time": "2022-12-10T23:03:42.136Z"
   },
   {
    "duration": 5,
    "start_time": "2022-12-10T23:03:44.624Z"
   },
   {
    "duration": 5,
    "start_time": "2022-12-10T23:05:31.854Z"
   },
   {
    "duration": 6,
    "start_time": "2022-12-10T23:05:38.732Z"
   },
   {
    "duration": 4,
    "start_time": "2022-12-10T23:06:31.998Z"
   },
   {
    "duration": 7,
    "start_time": "2022-12-10T23:06:43.826Z"
   },
   {
    "duration": 5,
    "start_time": "2022-12-10T23:08:05.254Z"
   },
   {
    "duration": 7,
    "start_time": "2022-12-10T23:08:12.623Z"
   },
   {
    "duration": 7,
    "start_time": "2022-12-10T23:08:22.112Z"
   },
   {
    "duration": 5,
    "start_time": "2022-12-10T23:09:20.577Z"
   },
   {
    "duration": 8,
    "start_time": "2022-12-10T23:19:14.582Z"
   },
   {
    "duration": 5,
    "start_time": "2022-12-10T23:26:02.088Z"
   },
   {
    "duration": 9,
    "start_time": "2022-12-10T23:26:11.529Z"
   },
   {
    "duration": 5,
    "start_time": "2022-12-10T23:29:36.542Z"
   },
   {
    "duration": 6,
    "start_time": "2022-12-10T23:29:46.112Z"
   },
   {
    "duration": 6,
    "start_time": "2022-12-10T23:30:23.271Z"
   },
   {
    "duration": 23,
    "start_time": "2022-12-10T23:30:54.615Z"
   },
   {
    "duration": 6,
    "start_time": "2022-12-10T23:31:45.709Z"
   },
   {
    "duration": 36,
    "start_time": "2022-12-10T23:32:48.127Z"
   },
   {
    "duration": 13,
    "start_time": "2022-12-10T23:38:33.663Z"
   },
   {
    "duration": 16,
    "start_time": "2022-12-10T23:40:51.459Z"
   },
   {
    "duration": 629,
    "start_time": "2022-12-10T23:41:02.508Z"
   },
   {
    "duration": 51,
    "start_time": "2022-12-10T23:41:03.138Z"
   },
   {
    "duration": 3,
    "start_time": "2022-12-10T23:41:03.190Z"
   },
   {
    "duration": 22,
    "start_time": "2022-12-10T23:41:03.195Z"
   },
   {
    "duration": 21,
    "start_time": "2022-12-10T23:41:03.219Z"
   },
   {
    "duration": 28,
    "start_time": "2022-12-10T23:41:03.241Z"
   },
   {
    "duration": 8,
    "start_time": "2022-12-10T23:41:03.270Z"
   },
   {
    "duration": 754,
    "start_time": "2022-12-10T23:41:03.279Z"
   },
   {
    "duration": 31,
    "start_time": "2022-12-10T23:41:04.035Z"
   },
   {
    "duration": 5,
    "start_time": "2022-12-10T23:41:04.069Z"
   },
   {
    "duration": 14,
    "start_time": "2022-12-10T23:41:04.076Z"
   },
   {
    "duration": 13,
    "start_time": "2022-12-10T23:41:04.091Z"
   },
   {
    "duration": 5,
    "start_time": "2022-12-10T23:41:04.126Z"
   },
   {
    "duration": 8,
    "start_time": "2022-12-10T23:41:04.133Z"
   },
   {
    "duration": 61,
    "start_time": "2022-12-10T23:41:04.143Z"
   },
   {
    "duration": 35,
    "start_time": "2022-12-10T23:41:04.206Z"
   },
   {
    "duration": 16,
    "start_time": "2022-12-10T23:41:04.243Z"
   },
   {
    "duration": 5,
    "start_time": "2022-12-10T23:41:04.261Z"
   },
   {
    "duration": 11,
    "start_time": "2022-12-10T23:41:04.268Z"
   },
   {
    "duration": 5,
    "start_time": "2022-12-10T23:41:04.281Z"
   },
   {
    "duration": 27,
    "start_time": "2022-12-10T23:41:04.288Z"
   },
   {
    "duration": 22,
    "start_time": "2022-12-10T23:41:04.327Z"
   },
   {
    "duration": 11,
    "start_time": "2022-12-10T23:41:04.351Z"
   },
   {
    "duration": 4,
    "start_time": "2022-12-10T23:41:04.364Z"
   },
   {
    "duration": 17,
    "start_time": "2022-12-10T23:41:04.369Z"
   },
   {
    "duration": 13,
    "start_time": "2022-12-10T23:41:04.388Z"
   },
   {
    "duration": 19,
    "start_time": "2022-12-10T23:41:04.403Z"
   },
   {
    "duration": 5,
    "start_time": "2022-12-10T23:41:04.427Z"
   },
   {
    "duration": 26,
    "start_time": "2022-12-10T23:41:04.433Z"
   },
   {
    "duration": 8,
    "start_time": "2022-12-10T23:41:04.460Z"
   },
   {
    "duration": 6,
    "start_time": "2022-12-10T23:41:04.469Z"
   },
   {
    "duration": 11,
    "start_time": "2022-12-10T23:41:04.477Z"
   },
   {
    "duration": 6,
    "start_time": "2022-12-10T23:41:04.489Z"
   },
   {
    "duration": 11,
    "start_time": "2022-12-10T23:41:04.497Z"
   },
   {
    "duration": 5,
    "start_time": "2022-12-10T23:41:04.509Z"
   },
   {
    "duration": 16,
    "start_time": "2022-12-10T23:41:04.516Z"
   },
   {
    "duration": 8,
    "start_time": "2022-12-10T23:41:04.533Z"
   },
   {
    "duration": 8,
    "start_time": "2022-12-10T23:41:04.542Z"
   },
   {
    "duration": 21,
    "start_time": "2022-12-10T23:41:04.552Z"
   },
   {
    "duration": 4,
    "start_time": "2022-12-10T23:41:04.574Z"
   },
   {
    "duration": 22,
    "start_time": "2022-12-10T23:41:04.580Z"
   },
   {
    "duration": 44,
    "start_time": "2022-12-10T23:41:04.603Z"
   },
   {
    "duration": 12,
    "start_time": "2022-12-10T23:41:04.649Z"
   },
   {
    "duration": 7,
    "start_time": "2022-12-10T23:57:31.135Z"
   },
   {
    "duration": 9,
    "start_time": "2022-12-10T23:58:08.016Z"
   },
   {
    "duration": 7,
    "start_time": "2022-12-10T23:58:16.807Z"
   },
   {
    "duration": 9,
    "start_time": "2022-12-10T23:58:23.795Z"
   },
   {
    "duration": 7,
    "start_time": "2022-12-11T00:00:23.158Z"
   },
   {
    "duration": 7,
    "start_time": "2022-12-11T00:00:27.669Z"
   },
   {
    "duration": 6,
    "start_time": "2022-12-11T00:00:33.790Z"
   },
   {
    "duration": 7,
    "start_time": "2022-12-11T00:01:11.013Z"
   },
   {
    "duration": 69,
    "start_time": "2022-12-11T00:01:23.926Z"
   },
   {
    "duration": 192,
    "start_time": "2022-12-11T00:01:29.840Z"
   },
   {
    "duration": 168,
    "start_time": "2022-12-11T00:05:43.004Z"
   },
   {
    "duration": 162,
    "start_time": "2022-12-11T00:05:53.640Z"
   },
   {
    "duration": 166,
    "start_time": "2022-12-11T00:06:32.607Z"
   },
   {
    "duration": 11,
    "start_time": "2022-12-11T00:11:56.982Z"
   },
   {
    "duration": 10,
    "start_time": "2022-12-11T00:12:11.064Z"
   },
   {
    "duration": 15,
    "start_time": "2022-12-11T00:12:18.220Z"
   },
   {
    "duration": 11,
    "start_time": "2022-12-11T00:12:34.502Z"
   },
   {
    "duration": 12,
    "start_time": "2022-12-11T00:12:51.910Z"
   },
   {
    "duration": 15,
    "start_time": "2022-12-11T00:12:58.924Z"
   },
   {
    "duration": 1114,
    "start_time": "2022-12-11T00:13:18.134Z"
   },
   {
    "duration": 18,
    "start_time": "2022-12-11T00:13:55.973Z"
   },
   {
    "duration": 5,
    "start_time": "2022-12-11T00:13:58.651Z"
   },
   {
    "duration": 20,
    "start_time": "2022-12-11T00:14:28.458Z"
   },
   {
    "duration": 13,
    "start_time": "2022-12-11T00:17:05.651Z"
   },
   {
    "duration": 2006,
    "start_time": "2022-12-11T00:17:14.802Z"
   },
   {
    "duration": 8,
    "start_time": "2022-12-11T00:22:24.674Z"
   },
   {
    "duration": 11,
    "start_time": "2022-12-11T00:22:33.815Z"
   },
   {
    "duration": 222,
    "start_time": "2022-12-11T00:23:09.718Z"
   },
   {
    "duration": 1893,
    "start_time": "2022-12-11T00:25:58.244Z"
   },
   {
    "duration": 891,
    "start_time": "2022-12-11T16:43:30.996Z"
   },
   {
    "duration": 227,
    "start_time": "2022-12-11T16:43:31.889Z"
   },
   {
    "duration": 3,
    "start_time": "2022-12-11T16:43:32.118Z"
   },
   {
    "duration": 72,
    "start_time": "2022-12-11T16:43:32.122Z"
   },
   {
    "duration": 18,
    "start_time": "2022-12-11T16:43:32.196Z"
   },
   {
    "duration": 83,
    "start_time": "2022-12-11T16:43:32.216Z"
   },
   {
    "duration": 9,
    "start_time": "2022-12-11T16:43:32.301Z"
   },
   {
    "duration": 874,
    "start_time": "2022-12-11T16:43:32.313Z"
   },
   {
    "duration": 42,
    "start_time": "2022-12-11T16:43:33.189Z"
   },
   {
    "duration": 7,
    "start_time": "2022-12-11T16:43:33.232Z"
   },
   {
    "duration": 36,
    "start_time": "2022-12-11T16:43:33.240Z"
   },
   {
    "duration": 11,
    "start_time": "2022-12-11T16:43:33.277Z"
   },
   {
    "duration": 5,
    "start_time": "2022-12-11T16:43:33.289Z"
   },
   {
    "duration": 63,
    "start_time": "2022-12-11T16:43:33.297Z"
   },
   {
    "duration": 6,
    "start_time": "2022-12-11T16:43:33.362Z"
   },
   {
    "duration": 23,
    "start_time": "2022-12-11T16:43:33.370Z"
   },
   {
    "duration": 14,
    "start_time": "2022-12-11T16:43:33.394Z"
   },
   {
    "duration": 4,
    "start_time": "2022-12-11T16:43:33.409Z"
   },
   {
    "duration": 22,
    "start_time": "2022-12-11T16:43:33.429Z"
   },
   {
    "duration": 7,
    "start_time": "2022-12-11T16:43:33.457Z"
   },
   {
    "duration": 6,
    "start_time": "2022-12-11T16:43:33.466Z"
   },
   {
    "duration": 3,
    "start_time": "2022-12-11T16:43:33.474Z"
   },
   {
    "duration": 11,
    "start_time": "2022-12-11T16:43:33.478Z"
   },
   {
    "duration": 3,
    "start_time": "2022-12-11T16:43:33.490Z"
   },
   {
    "duration": 5,
    "start_time": "2022-12-11T16:43:33.495Z"
   },
   {
    "duration": 5,
    "start_time": "2022-12-11T16:43:33.502Z"
   },
   {
    "duration": 41,
    "start_time": "2022-12-11T16:43:33.508Z"
   },
   {
    "duration": 14,
    "start_time": "2022-12-11T16:43:33.551Z"
   },
   {
    "duration": 8,
    "start_time": "2022-12-11T16:43:33.566Z"
   },
   {
    "duration": 5,
    "start_time": "2022-12-11T16:43:33.576Z"
   },
   {
    "duration": 6,
    "start_time": "2022-12-11T16:43:33.583Z"
   },
   {
    "duration": 12,
    "start_time": "2022-12-11T16:43:33.590Z"
   },
   {
    "duration": 4,
    "start_time": "2022-12-11T16:43:33.604Z"
   },
   {
    "duration": 11,
    "start_time": "2022-12-11T16:43:33.609Z"
   },
   {
    "duration": 10,
    "start_time": "2022-12-11T16:43:33.621Z"
   },
   {
    "duration": 47,
    "start_time": "2022-12-11T16:43:33.632Z"
   },
   {
    "duration": 9,
    "start_time": "2022-12-11T16:43:33.680Z"
   },
   {
    "duration": 10,
    "start_time": "2022-12-11T16:43:33.691Z"
   },
   {
    "duration": 21,
    "start_time": "2022-12-11T16:43:33.702Z"
   },
   {
    "duration": 41,
    "start_time": "2022-12-11T16:43:33.725Z"
   },
   {
    "duration": 30,
    "start_time": "2022-12-11T16:43:33.770Z"
   },
   {
    "duration": 53,
    "start_time": "2022-12-11T16:43:33.801Z"
   },
   {
    "duration": 21,
    "start_time": "2022-12-11T16:43:33.857Z"
   },
   {
    "duration": 9,
    "start_time": "2022-12-11T16:43:33.880Z"
   },
   {
    "duration": 21,
    "start_time": "2022-12-11T16:43:33.890Z"
   },
   {
    "duration": 6,
    "start_time": "2022-12-11T16:43:33.913Z"
   },
   {
    "duration": 231,
    "start_time": "2022-12-11T16:43:33.928Z"
   },
   {
    "duration": 196,
    "start_time": "2022-12-11T16:43:34.170Z"
   },
   {
    "duration": 19,
    "start_time": "2022-12-11T16:43:34.367Z"
   },
   {
    "duration": 4,
    "start_time": "2022-12-11T16:43:34.388Z"
   },
   {
    "duration": 389,
    "start_time": "2022-12-11T16:43:34.394Z"
   },
   {
    "duration": 2246,
    "start_time": "2022-12-11T16:43:34.788Z"
   },
   {
    "duration": 396,
    "start_time": "2022-12-11T16:43:53.515Z"
   },
   {
    "duration": 303,
    "start_time": "2022-12-11T16:44:17.002Z"
   },
   {
    "duration": 324,
    "start_time": "2022-12-11T16:44:47.658Z"
   },
   {
    "duration": 330,
    "start_time": "2022-12-11T16:45:00.761Z"
   },
   {
    "duration": 289,
    "start_time": "2022-12-11T16:45:16.689Z"
   },
   {
    "duration": 390,
    "start_time": "2022-12-11T16:45:22.698Z"
   },
   {
    "duration": 373,
    "start_time": "2022-12-11T16:45:30.305Z"
   },
   {
    "duration": 352,
    "start_time": "2022-12-11T16:45:35.565Z"
   },
   {
    "duration": 330,
    "start_time": "2022-12-11T16:45:41.857Z"
   },
   {
    "duration": 20,
    "start_time": "2022-12-11T17:09:31.051Z"
   },
   {
    "duration": 21,
    "start_time": "2022-12-11T17:12:37.556Z"
   },
   {
    "duration": 666,
    "start_time": "2022-12-11T17:14:32.315Z"
   },
   {
    "duration": 59,
    "start_time": "2022-12-11T17:14:32.983Z"
   },
   {
    "duration": 6,
    "start_time": "2022-12-11T17:14:33.052Z"
   },
   {
    "duration": 22,
    "start_time": "2022-12-11T17:14:33.060Z"
   },
   {
    "duration": 13,
    "start_time": "2022-12-11T17:14:33.084Z"
   },
   {
    "duration": 28,
    "start_time": "2022-12-11T17:14:33.099Z"
   },
   {
    "duration": 11,
    "start_time": "2022-12-11T17:14:33.128Z"
   },
   {
    "duration": 812,
    "start_time": "2022-12-11T17:14:33.140Z"
   },
   {
    "duration": 32,
    "start_time": "2022-12-11T17:14:33.960Z"
   },
   {
    "duration": 6,
    "start_time": "2022-12-11T17:14:33.995Z"
   },
   {
    "duration": 27,
    "start_time": "2022-12-11T17:14:34.002Z"
   },
   {
    "duration": 35,
    "start_time": "2022-12-11T17:14:34.031Z"
   },
   {
    "duration": 6,
    "start_time": "2022-12-11T17:14:34.067Z"
   },
   {
    "duration": 11,
    "start_time": "2022-12-11T17:14:34.075Z"
   },
   {
    "duration": 71,
    "start_time": "2022-12-11T17:14:34.088Z"
   },
   {
    "duration": 21,
    "start_time": "2022-12-11T17:14:34.161Z"
   },
   {
    "duration": 16,
    "start_time": "2022-12-11T17:14:34.184Z"
   },
   {
    "duration": 6,
    "start_time": "2022-12-11T17:14:34.202Z"
   },
   {
    "duration": 37,
    "start_time": "2022-12-11T17:14:34.210Z"
   },
   {
    "duration": 15,
    "start_time": "2022-12-11T17:14:34.249Z"
   },
   {
    "duration": 8,
    "start_time": "2022-12-11T17:14:34.265Z"
   },
   {
    "duration": 5,
    "start_time": "2022-12-11T17:14:34.275Z"
   },
   {
    "duration": 11,
    "start_time": "2022-12-11T17:14:34.281Z"
   },
   {
    "duration": 5,
    "start_time": "2022-12-11T17:14:34.293Z"
   },
   {
    "duration": 7,
    "start_time": "2022-12-11T17:14:34.299Z"
   },
   {
    "duration": 14,
    "start_time": "2022-12-11T17:14:34.307Z"
   },
   {
    "duration": 48,
    "start_time": "2022-12-11T17:14:34.322Z"
   },
   {
    "duration": 32,
    "start_time": "2022-12-11T17:14:34.375Z"
   },
   {
    "duration": 9,
    "start_time": "2022-12-11T17:14:34.408Z"
   },
   {
    "duration": 51,
    "start_time": "2022-12-11T17:14:34.419Z"
   },
   {
    "duration": 28,
    "start_time": "2022-12-11T17:14:34.472Z"
   },
   {
    "duration": 27,
    "start_time": "2022-12-11T17:14:34.502Z"
   },
   {
    "duration": 50,
    "start_time": "2022-12-11T17:14:34.530Z"
   },
   {
    "duration": 11,
    "start_time": "2022-12-11T17:14:34.582Z"
   },
   {
    "duration": 12,
    "start_time": "2022-12-11T17:14:34.595Z"
   },
   {
    "duration": 22,
    "start_time": "2022-12-11T17:14:34.609Z"
   },
   {
    "duration": 40,
    "start_time": "2022-12-11T17:14:34.632Z"
   },
   {
    "duration": 15,
    "start_time": "2022-12-11T17:14:34.674Z"
   },
   {
    "duration": 20,
    "start_time": "2022-12-11T17:14:34.691Z"
   },
   {
    "duration": 5,
    "start_time": "2022-12-11T17:14:34.713Z"
   },
   {
    "duration": 44,
    "start_time": "2022-12-11T17:14:34.719Z"
   },
   {
    "duration": 44,
    "start_time": "2022-12-11T17:14:34.765Z"
   },
   {
    "duration": 12,
    "start_time": "2022-12-11T17:14:34.811Z"
   },
   {
    "duration": 15,
    "start_time": "2022-12-11T17:14:34.825Z"
   },
   {
    "duration": 31,
    "start_time": "2022-12-11T17:14:34.841Z"
   },
   {
    "duration": 7,
    "start_time": "2022-12-11T17:14:34.874Z"
   },
   {
    "duration": 202,
    "start_time": "2022-12-11T17:14:34.882Z"
   },
   {
    "duration": 187,
    "start_time": "2022-12-11T17:14:35.086Z"
   },
   {
    "duration": 309,
    "start_time": "2022-12-11T17:14:35.275Z"
   },
   {
    "duration": 86,
    "start_time": "2022-12-11T17:14:35.585Z"
   },
   {
    "duration": 0,
    "start_time": "2022-12-11T17:14:35.672Z"
   },
   {
    "duration": 0,
    "start_time": "2022-12-11T17:14:35.673Z"
   },
   {
    "duration": 0,
    "start_time": "2022-12-11T17:14:35.674Z"
   },
   {
    "duration": 659,
    "start_time": "2022-12-11T17:17:55.260Z"
   },
   {
    "duration": 59,
    "start_time": "2022-12-11T17:17:55.921Z"
   },
   {
    "duration": 3,
    "start_time": "2022-12-11T17:17:55.982Z"
   },
   {
    "duration": 23,
    "start_time": "2022-12-11T17:17:55.987Z"
   },
   {
    "duration": 20,
    "start_time": "2022-12-11T17:17:56.013Z"
   },
   {
    "duration": 46,
    "start_time": "2022-12-11T17:17:56.037Z"
   },
   {
    "duration": 9,
    "start_time": "2022-12-11T17:17:56.085Z"
   },
   {
    "duration": 771,
    "start_time": "2022-12-11T17:17:56.096Z"
   },
   {
    "duration": 31,
    "start_time": "2022-12-11T17:17:56.868Z"
   },
   {
    "duration": 5,
    "start_time": "2022-12-11T17:17:56.901Z"
   },
   {
    "duration": 36,
    "start_time": "2022-12-11T17:17:56.907Z"
   },
   {
    "duration": 36,
    "start_time": "2022-12-11T17:17:56.945Z"
   },
   {
    "duration": 6,
    "start_time": "2022-12-11T17:17:56.983Z"
   },
   {
    "duration": 67,
    "start_time": "2022-12-11T17:17:56.993Z"
   },
   {
    "duration": 7,
    "start_time": "2022-12-11T17:17:57.062Z"
   },
   {
    "duration": 31,
    "start_time": "2022-12-11T17:17:57.070Z"
   },
   {
    "duration": 36,
    "start_time": "2022-12-11T17:17:57.103Z"
   },
   {
    "duration": 7,
    "start_time": "2022-12-11T17:17:57.148Z"
   },
   {
    "duration": 11,
    "start_time": "2022-12-11T17:17:57.157Z"
   },
   {
    "duration": 4,
    "start_time": "2022-12-11T17:17:57.169Z"
   },
   {
    "duration": 8,
    "start_time": "2022-12-11T17:17:57.175Z"
   },
   {
    "duration": 4,
    "start_time": "2022-12-11T17:17:57.185Z"
   },
   {
    "duration": 10,
    "start_time": "2022-12-11T17:17:57.190Z"
   },
   {
    "duration": 7,
    "start_time": "2022-12-11T17:17:57.201Z"
   },
   {
    "duration": 13,
    "start_time": "2022-12-11T17:17:57.209Z"
   },
   {
    "duration": 8,
    "start_time": "2022-12-11T17:17:57.229Z"
   },
   {
    "duration": 29,
    "start_time": "2022-12-11T17:17:57.239Z"
   },
   {
    "duration": 4,
    "start_time": "2022-12-11T17:17:57.270Z"
   },
   {
    "duration": 6,
    "start_time": "2022-12-11T17:17:57.276Z"
   },
   {
    "duration": 5,
    "start_time": "2022-12-11T17:17:57.284Z"
   },
   {
    "duration": 8,
    "start_time": "2022-12-11T17:17:57.291Z"
   },
   {
    "duration": 13,
    "start_time": "2022-12-11T17:17:57.300Z"
   },
   {
    "duration": 5,
    "start_time": "2022-12-11T17:17:57.314Z"
   },
   {
    "duration": 46,
    "start_time": "2022-12-11T17:17:57.320Z"
   },
   {
    "duration": 7,
    "start_time": "2022-12-11T17:17:57.368Z"
   },
   {
    "duration": 9,
    "start_time": "2022-12-11T17:17:57.376Z"
   },
   {
    "duration": 8,
    "start_time": "2022-12-11T17:17:57.386Z"
   },
   {
    "duration": 7,
    "start_time": "2022-12-11T17:17:57.395Z"
   },
   {
    "duration": 17,
    "start_time": "2022-12-11T17:17:57.403Z"
   },
   {
    "duration": 10,
    "start_time": "2022-12-11T17:17:57.421Z"
   },
   {
    "duration": 45,
    "start_time": "2022-12-11T17:17:57.435Z"
   },
   {
    "duration": 35,
    "start_time": "2022-12-11T17:17:57.481Z"
   },
   {
    "duration": 22,
    "start_time": "2022-12-11T17:17:57.517Z"
   },
   {
    "duration": 17,
    "start_time": "2022-12-11T17:17:57.544Z"
   },
   {
    "duration": 7,
    "start_time": "2022-12-11T17:17:57.563Z"
   },
   {
    "duration": 5,
    "start_time": "2022-12-11T17:17:57.572Z"
   },
   {
    "duration": 194,
    "start_time": "2022-12-11T17:17:57.579Z"
   },
   {
    "duration": 186,
    "start_time": "2022-12-11T17:17:57.775Z"
   },
   {
    "duration": 301,
    "start_time": "2022-12-11T17:17:57.964Z"
   },
   {
    "duration": 18,
    "start_time": "2022-12-11T17:17:58.266Z"
   },
   {
    "duration": 9,
    "start_time": "2022-12-11T17:17:58.286Z"
   },
   {
    "duration": 7,
    "start_time": "2022-12-11T17:17:58.297Z"
   },
   {
    "duration": 5470,
    "start_time": "2022-12-11T17:17:58.305Z"
   },
   {
    "duration": 19,
    "start_time": "2022-12-11T17:20:36.253Z"
   },
   {
    "duration": 2230,
    "start_time": "2022-12-11T17:21:02.681Z"
   },
   {
    "duration": 32,
    "start_time": "2022-12-11T17:30:45.220Z"
   },
   {
    "duration": 17,
    "start_time": "2022-12-11T17:35:28.253Z"
   },
   {
    "duration": 1545,
    "start_time": "2022-12-11T17:38:06.746Z"
   },
   {
    "duration": 1322,
    "start_time": "2022-12-11T17:38:37.091Z"
   },
   {
    "duration": 650,
    "start_time": "2022-12-11T17:39:03.915Z"
   },
   {
    "duration": 60,
    "start_time": "2022-12-11T17:39:04.567Z"
   },
   {
    "duration": 7,
    "start_time": "2022-12-11T17:39:04.630Z"
   },
   {
    "duration": 47,
    "start_time": "2022-12-11T17:39:04.638Z"
   },
   {
    "duration": 31,
    "start_time": "2022-12-11T17:39:04.689Z"
   },
   {
    "duration": 49,
    "start_time": "2022-12-11T17:39:04.722Z"
   },
   {
    "duration": 8,
    "start_time": "2022-12-11T17:39:04.774Z"
   },
   {
    "duration": 815,
    "start_time": "2022-12-11T17:39:04.784Z"
   },
   {
    "duration": 65,
    "start_time": "2022-12-11T17:39:05.601Z"
   },
   {
    "duration": 11,
    "start_time": "2022-12-11T17:39:05.674Z"
   },
   {
    "duration": 34,
    "start_time": "2022-12-11T17:39:05.686Z"
   },
   {
    "duration": 64,
    "start_time": "2022-12-11T17:39:05.723Z"
   },
   {
    "duration": 27,
    "start_time": "2022-12-11T17:39:05.789Z"
   },
   {
    "duration": 77,
    "start_time": "2022-12-11T17:39:05.821Z"
   },
   {
    "duration": 19,
    "start_time": "2022-12-11T17:39:05.900Z"
   },
   {
    "duration": 83,
    "start_time": "2022-12-11T17:39:05.921Z"
   },
   {
    "duration": 28,
    "start_time": "2022-12-11T17:39:06.006Z"
   },
   {
    "duration": 15,
    "start_time": "2022-12-11T17:39:06.036Z"
   },
   {
    "duration": 41,
    "start_time": "2022-12-11T17:39:06.053Z"
   },
   {
    "duration": 5,
    "start_time": "2022-12-11T17:39:06.096Z"
   },
   {
    "duration": 10,
    "start_time": "2022-12-11T17:39:06.103Z"
   },
   {
    "duration": 7,
    "start_time": "2022-12-11T17:39:06.115Z"
   },
   {
    "duration": 47,
    "start_time": "2022-12-11T17:39:06.123Z"
   },
   {
    "duration": 3,
    "start_time": "2022-12-11T17:39:06.172Z"
   },
   {
    "duration": 17,
    "start_time": "2022-12-11T17:39:06.176Z"
   },
   {
    "duration": 11,
    "start_time": "2022-12-11T17:39:06.194Z"
   },
   {
    "duration": 15,
    "start_time": "2022-12-11T17:39:06.207Z"
   },
   {
    "duration": 38,
    "start_time": "2022-12-11T17:39:06.223Z"
   },
   {
    "duration": 9,
    "start_time": "2022-12-11T17:39:06.263Z"
   },
   {
    "duration": 15,
    "start_time": "2022-12-11T17:39:06.274Z"
   },
   {
    "duration": 9,
    "start_time": "2022-12-11T17:39:06.291Z"
   },
   {
    "duration": 17,
    "start_time": "2022-12-11T17:39:06.301Z"
   },
   {
    "duration": 9,
    "start_time": "2022-12-11T17:39:06.320Z"
   },
   {
    "duration": 47,
    "start_time": "2022-12-11T17:39:06.331Z"
   },
   {
    "duration": 6,
    "start_time": "2022-12-11T17:39:06.380Z"
   },
   {
    "duration": 10,
    "start_time": "2022-12-11T17:39:06.387Z"
   },
   {
    "duration": 10,
    "start_time": "2022-12-11T17:39:06.398Z"
   },
   {
    "duration": 8,
    "start_time": "2022-12-11T17:39:06.410Z"
   },
   {
    "duration": 36,
    "start_time": "2022-12-11T17:39:06.419Z"
   },
   {
    "duration": 12,
    "start_time": "2022-12-11T17:39:06.462Z"
   },
   {
    "duration": 29,
    "start_time": "2022-12-11T17:39:06.478Z"
   },
   {
    "duration": 91,
    "start_time": "2022-12-11T17:39:06.509Z"
   },
   {
    "duration": 14,
    "start_time": "2022-12-11T17:39:06.602Z"
   },
   {
    "duration": 7,
    "start_time": "2022-12-11T17:39:06.618Z"
   },
   {
    "duration": 46,
    "start_time": "2022-12-11T17:39:06.626Z"
   },
   {
    "duration": 8,
    "start_time": "2022-12-11T17:39:06.674Z"
   },
   {
    "duration": 221,
    "start_time": "2022-12-11T17:39:06.684Z"
   },
   {
    "duration": 193,
    "start_time": "2022-12-11T17:39:06.907Z"
   },
   {
    "duration": 345,
    "start_time": "2022-12-11T17:39:07.101Z"
   },
   {
    "duration": 17,
    "start_time": "2022-12-11T17:39:07.453Z"
   },
   {
    "duration": 10,
    "start_time": "2022-12-11T17:39:07.473Z"
   },
   {
    "duration": 2101,
    "start_time": "2022-12-11T17:39:07.485Z"
   },
   {
    "duration": 18,
    "start_time": "2022-12-11T17:39:09.588Z"
   },
   {
    "duration": 1596,
    "start_time": "2022-12-11T17:39:09.608Z"
   },
   {
    "duration": 13,
    "start_time": "2022-12-11T17:45:42.763Z"
   },
   {
    "duration": 20,
    "start_time": "2022-12-11T17:45:50.047Z"
   },
   {
    "duration": 1855,
    "start_time": "2022-12-11T17:45:52.968Z"
   },
   {
    "duration": 18,
    "start_time": "2022-12-11T17:46:39.403Z"
   },
   {
    "duration": 20,
    "start_time": "2022-12-11T17:46:51.585Z"
   },
   {
    "duration": 1263,
    "start_time": "2022-12-11T18:03:10.153Z"
   },
   {
    "duration": 1211,
    "start_time": "2022-12-11T18:03:29.244Z"
   },
   {
    "duration": 1087,
    "start_time": "2022-12-11T18:03:46.212Z"
   },
   {
    "duration": 1718,
    "start_time": "2022-12-11T18:15:33.488Z"
   },
   {
    "duration": 9,
    "start_time": "2022-12-11T18:15:48.508Z"
   },
   {
    "duration": 18,
    "start_time": "2022-12-11T18:28:52.171Z"
   },
   {
    "duration": 19,
    "start_time": "2022-12-11T18:30:40.422Z"
   },
   {
    "duration": 1781,
    "start_time": "2022-12-11T18:34:41.253Z"
   },
   {
    "duration": 8,
    "start_time": "2022-12-11T18:35:41.734Z"
   },
   {
    "duration": 8,
    "start_time": "2022-12-11T18:36:03.032Z"
   },
   {
    "duration": 19,
    "start_time": "2022-12-11T18:36:22.389Z"
   },
   {
    "duration": 1058,
    "start_time": "2022-12-11T18:36:27.015Z"
   },
   {
    "duration": 1043,
    "start_time": "2022-12-11T18:44:50.943Z"
   },
   {
    "duration": 7,
    "start_time": "2022-12-11T18:53:24.881Z"
   },
   {
    "duration": 8,
    "start_time": "2022-12-11T18:53:51.646Z"
   },
   {
    "duration": 5,
    "start_time": "2022-12-11T18:53:58.303Z"
   },
   {
    "duration": 8,
    "start_time": "2022-12-11T18:54:01.809Z"
   },
   {
    "duration": 567,
    "start_time": "2022-12-11T18:54:11.776Z"
   },
   {
    "duration": 51,
    "start_time": "2022-12-11T18:54:12.345Z"
   },
   {
    "duration": 3,
    "start_time": "2022-12-11T18:54:12.397Z"
   },
   {
    "duration": 20,
    "start_time": "2022-12-11T18:54:12.402Z"
   },
   {
    "duration": 13,
    "start_time": "2022-12-11T18:54:12.424Z"
   },
   {
    "duration": 26,
    "start_time": "2022-12-11T18:54:12.439Z"
   },
   {
    "duration": 8,
    "start_time": "2022-12-11T18:54:12.467Z"
   },
   {
    "duration": 721,
    "start_time": "2022-12-11T18:54:12.476Z"
   },
   {
    "duration": 33,
    "start_time": "2022-12-11T18:54:13.199Z"
   },
   {
    "duration": 5,
    "start_time": "2022-12-11T18:54:13.234Z"
   },
   {
    "duration": 15,
    "start_time": "2022-12-11T18:54:13.240Z"
   },
   {
    "duration": 10,
    "start_time": "2022-12-11T18:54:13.257Z"
   },
   {
    "duration": 4,
    "start_time": "2022-12-11T18:54:13.268Z"
   },
   {
    "duration": 6,
    "start_time": "2022-12-11T18:54:13.273Z"
   },
   {
    "duration": 92,
    "start_time": "2022-12-11T18:54:13.280Z"
   },
   {
    "duration": 59,
    "start_time": "2022-12-11T18:54:13.374Z"
   },
   {
    "duration": 15,
    "start_time": "2022-12-11T18:54:13.435Z"
   },
   {
    "duration": 5,
    "start_time": "2022-12-11T18:54:13.452Z"
   },
   {
    "duration": 12,
    "start_time": "2022-12-11T18:54:13.459Z"
   },
   {
    "duration": 8,
    "start_time": "2022-12-11T18:54:13.473Z"
   },
   {
    "duration": 6,
    "start_time": "2022-12-11T18:54:13.482Z"
   },
   {
    "duration": 37,
    "start_time": "2022-12-11T18:54:13.490Z"
   },
   {
    "duration": 9,
    "start_time": "2022-12-11T18:54:13.529Z"
   },
   {
    "duration": 4,
    "start_time": "2022-12-11T18:54:13.539Z"
   },
   {
    "duration": 5,
    "start_time": "2022-12-11T18:54:13.544Z"
   },
   {
    "duration": 6,
    "start_time": "2022-12-11T18:54:13.551Z"
   },
   {
    "duration": 12,
    "start_time": "2022-12-11T18:54:13.558Z"
   },
   {
    "duration": 4,
    "start_time": "2022-12-11T18:54:13.574Z"
   },
   {
    "duration": 6,
    "start_time": "2022-12-11T18:54:13.579Z"
   },
   {
    "duration": 40,
    "start_time": "2022-12-11T18:54:13.586Z"
   },
   {
    "duration": 4,
    "start_time": "2022-12-11T18:54:13.628Z"
   },
   {
    "duration": 9,
    "start_time": "2022-12-11T18:54:13.633Z"
   },
   {
    "duration": 6,
    "start_time": "2022-12-11T18:54:13.644Z"
   },
   {
    "duration": 8,
    "start_time": "2022-12-11T18:54:13.652Z"
   },
   {
    "duration": 7,
    "start_time": "2022-12-11T18:54:13.661Z"
   },
   {
    "duration": 8,
    "start_time": "2022-12-11T18:54:13.669Z"
   },
   {
    "duration": 7,
    "start_time": "2022-12-11T18:54:13.679Z"
   },
   {
    "duration": 6,
    "start_time": "2022-12-11T18:54:13.687Z"
   },
   {
    "duration": 45,
    "start_time": "2022-12-11T18:54:13.695Z"
   },
   {
    "duration": 6,
    "start_time": "2022-12-11T18:54:13.741Z"
   },
   {
    "duration": 29,
    "start_time": "2022-12-11T18:54:13.748Z"
   },
   {
    "duration": 34,
    "start_time": "2022-12-11T18:54:13.779Z"
   },
   {
    "duration": 21,
    "start_time": "2022-12-11T18:54:13.814Z"
   },
   {
    "duration": 7,
    "start_time": "2022-12-11T18:54:13.837Z"
   },
   {
    "duration": 9,
    "start_time": "2022-12-11T18:54:13.846Z"
   },
   {
    "duration": 6,
    "start_time": "2022-12-11T18:54:13.856Z"
   },
   {
    "duration": 207,
    "start_time": "2022-12-11T18:54:13.864Z"
   },
   {
    "duration": 173,
    "start_time": "2022-12-11T18:54:14.073Z"
   },
   {
    "duration": 303,
    "start_time": "2022-12-11T18:54:14.248Z"
   },
   {
    "duration": 17,
    "start_time": "2022-12-11T18:54:14.553Z"
   },
   {
    "duration": 4,
    "start_time": "2022-12-11T18:54:14.572Z"
   },
   {
    "duration": 1907,
    "start_time": "2022-12-11T18:54:14.578Z"
   },
   {
    "duration": 17,
    "start_time": "2022-12-11T18:54:16.487Z"
   },
   {
    "duration": 1795,
    "start_time": "2022-12-11T18:54:16.506Z"
   },
   {
    "duration": 932,
    "start_time": "2022-12-11T18:54:18.303Z"
   },
   {
    "duration": 6,
    "start_time": "2022-12-11T18:54:19.237Z"
   },
   {
    "duration": 26,
    "start_time": "2022-12-11T18:54:19.245Z"
   },
   {
    "duration": 10,
    "start_time": "2022-12-11T18:54:28.882Z"
   },
   {
    "duration": 6,
    "start_time": "2022-12-11T18:55:14.701Z"
   },
   {
    "duration": 6,
    "start_time": "2022-12-11T18:55:16.488Z"
   },
   {
    "duration": 11,
    "start_time": "2022-12-11T18:55:22.485Z"
   },
   {
    "duration": 15,
    "start_time": "2022-12-11T18:55:33.351Z"
   },
   {
    "duration": 6,
    "start_time": "2022-12-11T18:55:41.045Z"
   },
   {
    "duration": 8,
    "start_time": "2022-12-11T18:55:43.272Z"
   },
   {
    "duration": 1139,
    "start_time": "2022-12-11T18:57:51.179Z"
   },
   {
    "duration": 49,
    "start_time": "2022-12-11T18:57:52.321Z"
   },
   {
    "duration": 3,
    "start_time": "2022-12-11T18:57:52.372Z"
   },
   {
    "duration": 39,
    "start_time": "2022-12-11T18:57:52.378Z"
   },
   {
    "duration": 21,
    "start_time": "2022-12-11T18:57:52.419Z"
   },
   {
    "duration": 26,
    "start_time": "2022-12-11T18:57:52.441Z"
   },
   {
    "duration": 8,
    "start_time": "2022-12-11T18:57:52.468Z"
   },
   {
    "duration": 732,
    "start_time": "2022-12-11T18:57:52.478Z"
   },
   {
    "duration": 35,
    "start_time": "2022-12-11T18:57:53.212Z"
   },
   {
    "duration": 4,
    "start_time": "2022-12-11T18:57:53.250Z"
   },
   {
    "duration": 17,
    "start_time": "2022-12-11T18:57:53.256Z"
   },
   {
    "duration": 10,
    "start_time": "2022-12-11T18:57:53.274Z"
   },
   {
    "duration": 6,
    "start_time": "2022-12-11T18:57:53.286Z"
   },
   {
    "duration": 7,
    "start_time": "2022-12-11T18:57:53.293Z"
   },
   {
    "duration": 28,
    "start_time": "2022-12-11T18:57:53.302Z"
   },
   {
    "duration": 28,
    "start_time": "2022-12-11T18:57:53.332Z"
   },
   {
    "duration": 19,
    "start_time": "2022-12-11T18:57:53.362Z"
   },
   {
    "duration": 5,
    "start_time": "2022-12-11T18:57:53.383Z"
   },
   {
    "duration": 16,
    "start_time": "2022-12-11T18:57:53.389Z"
   },
   {
    "duration": 21,
    "start_time": "2022-12-11T18:57:53.407Z"
   },
   {
    "duration": 8,
    "start_time": "2022-12-11T18:57:53.430Z"
   },
   {
    "duration": 4,
    "start_time": "2022-12-11T18:57:53.440Z"
   },
   {
    "duration": 10,
    "start_time": "2022-12-11T18:57:53.446Z"
   },
   {
    "duration": 3,
    "start_time": "2022-12-11T18:57:53.457Z"
   },
   {
    "duration": 5,
    "start_time": "2022-12-11T18:57:53.462Z"
   },
   {
    "duration": 6,
    "start_time": "2022-12-11T18:57:53.469Z"
   },
   {
    "duration": 11,
    "start_time": "2022-12-11T18:57:53.476Z"
   },
   {
    "duration": 4,
    "start_time": "2022-12-11T18:57:53.526Z"
   },
   {
    "duration": 7,
    "start_time": "2022-12-11T18:57:53.532Z"
   },
   {
    "duration": 6,
    "start_time": "2022-12-11T18:57:53.540Z"
   },
   {
    "duration": 6,
    "start_time": "2022-12-11T18:57:53.547Z"
   },
   {
    "duration": 9,
    "start_time": "2022-12-11T18:57:53.555Z"
   },
   {
    "duration": 4,
    "start_time": "2022-12-11T18:57:53.565Z"
   },
   {
    "duration": 8,
    "start_time": "2022-12-11T18:57:53.571Z"
   },
   {
    "duration": 7,
    "start_time": "2022-12-11T18:57:53.581Z"
   },
   {
    "duration": 7,
    "start_time": "2022-12-11T18:57:53.626Z"
   },
   {
    "duration": 6,
    "start_time": "2022-12-11T18:57:53.635Z"
   },
   {
    "duration": 7,
    "start_time": "2022-12-11T18:57:53.642Z"
   },
   {
    "duration": 16,
    "start_time": "2022-12-11T18:57:53.650Z"
   },
   {
    "duration": 6,
    "start_time": "2022-12-11T18:57:53.668Z"
   },
   {
    "duration": 51,
    "start_time": "2022-12-11T18:57:53.675Z"
   },
   {
    "duration": 33,
    "start_time": "2022-12-11T18:57:53.728Z"
   },
   {
    "duration": 12,
    "start_time": "2022-12-11T18:57:53.763Z"
   },
   {
    "duration": 6,
    "start_time": "2022-12-11T18:57:53.777Z"
   },
   {
    "duration": 8,
    "start_time": "2022-12-11T18:57:53.785Z"
   },
   {
    "duration": 38,
    "start_time": "2022-12-11T18:57:53.794Z"
   },
   {
    "duration": 196,
    "start_time": "2022-12-11T18:57:53.833Z"
   },
   {
    "duration": 179,
    "start_time": "2022-12-11T18:57:54.030Z"
   },
   {
    "duration": 360,
    "start_time": "2022-12-11T18:57:54.210Z"
   },
   {
    "duration": 16,
    "start_time": "2022-12-11T18:57:54.572Z"
   },
   {
    "duration": 4,
    "start_time": "2022-12-11T18:57:54.590Z"
   },
   {
    "duration": 1931,
    "start_time": "2022-12-11T18:57:54.595Z"
   },
   {
    "duration": 19,
    "start_time": "2022-12-11T18:57:56.528Z"
   },
   {
    "duration": 1893,
    "start_time": "2022-12-11T18:57:56.548Z"
   },
   {
    "duration": 952,
    "start_time": "2022-12-11T18:57:58.443Z"
   },
   {
    "duration": 6,
    "start_time": "2022-12-11T18:57:59.397Z"
   },
   {
    "duration": 12,
    "start_time": "2022-12-11T18:57:59.405Z"
   },
   {
    "duration": 115,
    "start_time": "2022-12-11T18:57:59.425Z"
   },
   {
    "duration": 278,
    "start_time": "2022-12-11T18:58:28.425Z"
   },
   {
    "duration": 299,
    "start_time": "2022-12-11T18:59:45.829Z"
   },
   {
    "duration": 75,
    "start_time": "2022-12-11T19:00:32.171Z"
   },
   {
    "duration": 255,
    "start_time": "2022-12-11T19:00:38.746Z"
   },
   {
    "duration": 281,
    "start_time": "2022-12-11T19:00:45.036Z"
   },
   {
    "duration": 7,
    "start_time": "2022-12-11T19:06:17.330Z"
   },
   {
    "duration": 6,
    "start_time": "2022-12-11T19:06:30.449Z"
   },
   {
    "duration": 9,
    "start_time": "2022-12-11T19:06:42.977Z"
   },
   {
    "duration": 306,
    "start_time": "2022-12-11T19:07:06.090Z"
   },
   {
    "duration": 73,
    "start_time": "2022-12-11T19:07:42.444Z"
   },
   {
    "duration": 10,
    "start_time": "2022-12-11T19:09:55.881Z"
   },
   {
    "duration": 10,
    "start_time": "2022-12-11T19:10:11.066Z"
   },
   {
    "duration": 14,
    "start_time": "2022-12-11T19:10:25.380Z"
   },
   {
    "duration": 318,
    "start_time": "2022-12-11T19:11:21.743Z"
   },
   {
    "duration": 63,
    "start_time": "2022-12-11T19:15:13.722Z"
   },
   {
    "duration": 32,
    "start_time": "2022-12-11T19:39:06.645Z"
   },
   {
    "duration": 17,
    "start_time": "2022-12-11T19:53:23.340Z"
   },
   {
    "duration": 36,
    "start_time": "2022-12-11T19:53:33.648Z"
   },
   {
    "duration": 32,
    "start_time": "2022-12-11T19:53:48.818Z"
   },
   {
    "duration": 31,
    "start_time": "2022-12-11T19:57:20.368Z"
   },
   {
    "duration": 9,
    "start_time": "2022-12-11T20:13:16.139Z"
   },
   {
    "duration": 10,
    "start_time": "2022-12-11T20:14:09.987Z"
   },
   {
    "duration": 1067,
    "start_time": "2022-12-11T20:14:36.543Z"
   },
   {
    "duration": 51,
    "start_time": "2022-12-11T20:14:37.611Z"
   },
   {
    "duration": 3,
    "start_time": "2022-12-11T20:14:37.663Z"
   },
   {
    "duration": 22,
    "start_time": "2022-12-11T20:14:37.667Z"
   },
   {
    "duration": 13,
    "start_time": "2022-12-11T20:14:37.691Z"
   },
   {
    "duration": 29,
    "start_time": "2022-12-11T20:14:37.705Z"
   },
   {
    "duration": 8,
    "start_time": "2022-12-11T20:14:37.735Z"
   },
   {
    "duration": 705,
    "start_time": "2022-12-11T20:14:37.744Z"
   },
   {
    "duration": 31,
    "start_time": "2022-12-11T20:14:38.451Z"
   },
   {
    "duration": 4,
    "start_time": "2022-12-11T20:14:38.484Z"
   },
   {
    "duration": 15,
    "start_time": "2022-12-11T20:14:38.490Z"
   },
   {
    "duration": 28,
    "start_time": "2022-12-11T20:14:38.506Z"
   },
   {
    "duration": 5,
    "start_time": "2022-12-11T20:14:38.535Z"
   },
   {
    "duration": 9,
    "start_time": "2022-12-11T20:14:38.543Z"
   },
   {
    "duration": 22,
    "start_time": "2022-12-11T20:14:38.554Z"
   },
   {
    "duration": 30,
    "start_time": "2022-12-11T20:14:38.578Z"
   },
   {
    "duration": 24,
    "start_time": "2022-12-11T20:14:38.610Z"
   },
   {
    "duration": 4,
    "start_time": "2022-12-11T20:14:38.635Z"
   },
   {
    "duration": 13,
    "start_time": "2022-12-11T20:14:38.641Z"
   },
   {
    "duration": 4,
    "start_time": "2022-12-11T20:14:38.655Z"
   },
   {
    "duration": 5,
    "start_time": "2022-12-11T20:14:38.661Z"
   },
   {
    "duration": 6,
    "start_time": "2022-12-11T20:14:38.668Z"
   },
   {
    "duration": 10,
    "start_time": "2022-12-11T20:14:38.675Z"
   },
   {
    "duration": 3,
    "start_time": "2022-12-11T20:14:38.686Z"
   },
   {
    "duration": 9,
    "start_time": "2022-12-11T20:14:38.690Z"
   },
   {
    "duration": 26,
    "start_time": "2022-12-11T20:14:38.700Z"
   },
   {
    "duration": 10,
    "start_time": "2022-12-11T20:14:38.728Z"
   },
   {
    "duration": 4,
    "start_time": "2022-12-11T20:14:38.740Z"
   },
   {
    "duration": 7,
    "start_time": "2022-12-11T20:14:38.746Z"
   },
   {
    "duration": 6,
    "start_time": "2022-12-11T20:14:38.755Z"
   },
   {
    "duration": 17,
    "start_time": "2022-12-11T20:14:38.762Z"
   },
   {
    "duration": 11,
    "start_time": "2022-12-11T20:14:38.780Z"
   },
   {
    "duration": 10,
    "start_time": "2022-12-11T20:14:38.792Z"
   },
   {
    "duration": 10,
    "start_time": "2022-12-11T20:14:38.803Z"
   },
   {
    "duration": 15,
    "start_time": "2022-12-11T20:14:38.814Z"
   },
   {
    "duration": 8,
    "start_time": "2022-12-11T20:14:38.831Z"
   },
   {
    "duration": 7,
    "start_time": "2022-12-11T20:14:38.840Z"
   },
   {
    "duration": 10,
    "start_time": "2022-12-11T20:14:38.848Z"
   },
   {
    "duration": 18,
    "start_time": "2022-12-11T20:14:38.859Z"
   },
   {
    "duration": 5,
    "start_time": "2022-12-11T20:14:38.879Z"
   },
   {
    "duration": 22,
    "start_time": "2022-12-11T20:14:38.888Z"
   },
   {
    "duration": 31,
    "start_time": "2022-12-11T20:14:38.925Z"
   },
   {
    "duration": 11,
    "start_time": "2022-12-11T20:14:38.957Z"
   },
   {
    "duration": 6,
    "start_time": "2022-12-11T20:14:38.970Z"
   },
   {
    "duration": 8,
    "start_time": "2022-12-11T20:14:38.978Z"
   },
   {
    "duration": 5,
    "start_time": "2022-12-11T20:14:38.988Z"
   },
   {
    "duration": 206,
    "start_time": "2022-12-11T20:14:38.994Z"
   },
   {
    "duration": 169,
    "start_time": "2022-12-11T20:14:39.202Z"
   },
   {
    "duration": 288,
    "start_time": "2022-12-11T20:14:39.372Z"
   },
   {
    "duration": 17,
    "start_time": "2022-12-11T20:14:39.661Z"
   },
   {
    "duration": 4,
    "start_time": "2022-12-11T20:14:39.679Z"
   },
   {
    "duration": 1888,
    "start_time": "2022-12-11T20:14:39.684Z"
   },
   {
    "duration": 23,
    "start_time": "2022-12-11T20:14:41.573Z"
   },
   {
    "duration": 1767,
    "start_time": "2022-12-11T20:14:41.597Z"
   },
   {
    "duration": 896,
    "start_time": "2022-12-11T20:14:43.366Z"
   },
   {
    "duration": 6,
    "start_time": "2022-12-11T20:14:44.264Z"
   },
   {
    "duration": 12,
    "start_time": "2022-12-11T20:14:44.271Z"
   },
   {
    "duration": 316,
    "start_time": "2022-12-11T20:14:44.284Z"
   },
   {
    "duration": 6,
    "start_time": "2022-12-11T20:14:44.602Z"
   },
   {
    "duration": 20,
    "start_time": "2022-12-11T20:14:44.610Z"
   },
   {
    "duration": 282,
    "start_time": "2022-12-11T20:14:44.632Z"
   },
   {
    "duration": 21,
    "start_time": "2022-12-11T20:14:44.916Z"
   },
   {
    "duration": 167,
    "start_time": "2022-12-11T20:14:44.939Z"
   },
   {
    "duration": 41,
    "start_time": "2022-12-11T20:14:45.108Z"
   },
   {
    "duration": 30,
    "start_time": "2022-12-11T20:14:45.151Z"
   },
   {
    "duration": 57,
    "start_time": "2022-12-11T20:14:45.182Z"
   },
   {
    "duration": 8,
    "start_time": "2022-12-11T20:14:45.240Z"
   },
   {
    "duration": 101,
    "start_time": "2022-12-11T20:14:45.249Z"
   },
   {
    "duration": 4,
    "start_time": "2022-12-11T20:14:55.885Z"
   },
   {
    "duration": 72,
    "start_time": "2022-12-11T20:17:04.321Z"
   },
   {
    "duration": 5,
    "start_time": "2022-12-11T20:17:10.940Z"
   },
   {
    "duration": 6,
    "start_time": "2022-12-11T20:18:33.304Z"
   },
   {
    "duration": 5,
    "start_time": "2022-12-11T20:19:00.590Z"
   },
   {
    "duration": 4,
    "start_time": "2022-12-11T20:19:02.518Z"
   },
   {
    "duration": 74,
    "start_time": "2022-12-11T20:20:51.416Z"
   },
   {
    "duration": 10,
    "start_time": "2022-12-11T20:21:44.043Z"
   },
   {
    "duration": 14,
    "start_time": "2022-12-11T20:26:47.347Z"
   },
   {
    "duration": 91,
    "start_time": "2022-12-11T20:26:57.368Z"
   },
   {
    "duration": 10,
    "start_time": "2022-12-11T20:27:03.076Z"
   },
   {
    "duration": 19,
    "start_time": "2022-12-11T20:27:19.339Z"
   },
   {
    "duration": 21,
    "start_time": "2022-12-11T20:27:28.485Z"
   },
   {
    "duration": 7,
    "start_time": "2022-12-11T20:27:49.484Z"
   },
   {
    "duration": 5,
    "start_time": "2022-12-11T20:28:01.667Z"
   },
   {
    "duration": 5,
    "start_time": "2022-12-11T20:28:17.582Z"
   },
   {
    "duration": 7,
    "start_time": "2022-12-11T20:28:59.270Z"
   },
   {
    "duration": 7,
    "start_time": "2022-12-11T20:29:06.194Z"
   },
   {
    "duration": 8,
    "start_time": "2022-12-11T20:29:45.117Z"
   },
   {
    "duration": 18,
    "start_time": "2022-12-11T20:29:47.229Z"
   },
   {
    "duration": 14,
    "start_time": "2022-12-11T20:30:46.021Z"
   },
   {
    "duration": 5,
    "start_time": "2022-12-11T20:30:48.180Z"
   },
   {
    "duration": 5,
    "start_time": "2022-12-11T20:30:51.582Z"
   },
   {
    "duration": 10,
    "start_time": "2022-12-11T20:30:54.875Z"
   },
   {
    "duration": 5,
    "start_time": "2022-12-11T20:32:29.148Z"
   },
   {
    "duration": 5,
    "start_time": "2022-12-11T20:33:18.011Z"
   },
   {
    "duration": 50,
    "start_time": "2022-12-12T08:06:40.216Z"
   },
   {
    "duration": 1118,
    "start_time": "2022-12-12T08:06:46.185Z"
   },
   {
    "duration": 104,
    "start_time": "2022-12-12T08:06:47.305Z"
   },
   {
    "duration": 3,
    "start_time": "2022-12-12T08:06:47.411Z"
   },
   {
    "duration": 45,
    "start_time": "2022-12-12T08:06:47.416Z"
   },
   {
    "duration": 29,
    "start_time": "2022-12-12T08:06:47.464Z"
   },
   {
    "duration": 39,
    "start_time": "2022-12-12T08:06:47.495Z"
   },
   {
    "duration": 10,
    "start_time": "2022-12-12T08:06:47.536Z"
   },
   {
    "duration": 733,
    "start_time": "2022-12-12T08:06:47.547Z"
   },
   {
    "duration": 33,
    "start_time": "2022-12-12T08:06:48.282Z"
   },
   {
    "duration": 25,
    "start_time": "2022-12-12T08:06:48.316Z"
   },
   {
    "duration": 33,
    "start_time": "2022-12-12T08:06:48.343Z"
   },
   {
    "duration": 37,
    "start_time": "2022-12-12T08:06:48.378Z"
   },
   {
    "duration": 20,
    "start_time": "2022-12-12T08:06:48.417Z"
   },
   {
    "duration": 35,
    "start_time": "2022-12-12T08:06:48.440Z"
   },
   {
    "duration": 35,
    "start_time": "2022-12-12T08:06:48.477Z"
   },
   {
    "duration": 55,
    "start_time": "2022-12-12T08:06:48.514Z"
   },
   {
    "duration": 58,
    "start_time": "2022-12-12T08:06:48.570Z"
   },
   {
    "duration": 12,
    "start_time": "2022-12-12T08:06:48.630Z"
   },
   {
    "duration": 39,
    "start_time": "2022-12-12T08:06:48.643Z"
   },
   {
    "duration": 29,
    "start_time": "2022-12-12T08:06:48.684Z"
   },
   {
    "duration": 38,
    "start_time": "2022-12-12T08:06:48.714Z"
   },
   {
    "duration": 15,
    "start_time": "2022-12-12T08:06:48.753Z"
   },
   {
    "duration": 25,
    "start_time": "2022-12-12T08:06:48.769Z"
   },
   {
    "duration": 26,
    "start_time": "2022-12-12T08:06:48.795Z"
   },
   {
    "duration": 15,
    "start_time": "2022-12-12T08:06:48.823Z"
   },
   {
    "duration": 40,
    "start_time": "2022-12-12T08:06:48.840Z"
   },
   {
    "duration": 29,
    "start_time": "2022-12-12T08:06:48.882Z"
   },
   {
    "duration": 14,
    "start_time": "2022-12-12T08:06:48.912Z"
   },
   {
    "duration": 37,
    "start_time": "2022-12-12T08:06:48.927Z"
   },
   {
    "duration": 25,
    "start_time": "2022-12-12T08:06:48.966Z"
   },
   {
    "duration": 45,
    "start_time": "2022-12-12T08:06:48.993Z"
   },
   {
    "duration": 37,
    "start_time": "2022-12-12T08:06:49.040Z"
   },
   {
    "duration": 40,
    "start_time": "2022-12-12T08:06:49.079Z"
   },
   {
    "duration": 32,
    "start_time": "2022-12-12T08:06:49.121Z"
   },
   {
    "duration": 43,
    "start_time": "2022-12-12T08:06:49.155Z"
   },
   {
    "duration": 17,
    "start_time": "2022-12-12T08:06:49.200Z"
   },
   {
    "duration": 9,
    "start_time": "2022-12-12T08:06:49.219Z"
   },
   {
    "duration": 9,
    "start_time": "2022-12-12T08:06:49.230Z"
   },
   {
    "duration": 23,
    "start_time": "2022-12-12T08:06:49.241Z"
   },
   {
    "duration": 5,
    "start_time": "2022-12-12T08:06:49.266Z"
   },
   {
    "duration": 21,
    "start_time": "2022-12-12T08:06:49.275Z"
   },
   {
    "duration": 37,
    "start_time": "2022-12-12T08:06:49.297Z"
   },
   {
    "duration": 27,
    "start_time": "2022-12-12T08:06:49.335Z"
   },
   {
    "duration": 6,
    "start_time": "2022-12-12T08:06:49.364Z"
   },
   {
    "duration": 9,
    "start_time": "2022-12-12T08:06:49.371Z"
   },
   {
    "duration": 5,
    "start_time": "2022-12-12T08:06:49.382Z"
   },
   {
    "duration": 222,
    "start_time": "2022-12-12T08:06:49.389Z"
   },
   {
    "duration": 180,
    "start_time": "2022-12-12T08:06:49.613Z"
   },
   {
    "duration": 310,
    "start_time": "2022-12-12T08:06:49.794Z"
   },
   {
    "duration": 16,
    "start_time": "2022-12-12T08:06:50.106Z"
   },
   {
    "duration": 3,
    "start_time": "2022-12-12T08:06:50.124Z"
   },
   {
    "duration": 2052,
    "start_time": "2022-12-12T08:06:50.129Z"
   },
   {
    "duration": 73,
    "start_time": "2022-12-12T08:06:52.183Z"
   },
   {
    "duration": 0,
    "start_time": "2022-12-12T08:06:52.258Z"
   },
   {
    "duration": 22,
    "start_time": "2022-12-12T08:06:54.715Z"
   },
   {
    "duration": 337,
    "start_time": "2022-12-12T08:07:08.549Z"
   },
   {
    "duration": 338,
    "start_time": "2022-12-12T08:07:27.095Z"
   },
   {
    "duration": 314,
    "start_time": "2022-12-12T08:07:56.475Z"
   }
  ],
  "kernelspec": {
   "display_name": "Python 3 (ipykernel)",
   "language": "python",
   "name": "python3"
  },
  "language_info": {
   "codemirror_mode": {
    "name": "ipython",
    "version": 3
   },
   "file_extension": ".py",
   "mimetype": "text/x-python",
   "name": "python",
   "nbconvert_exporter": "python",
   "pygments_lexer": "ipython3",
   "version": "3.9.5"
  },
  "toc": {
   "base_numbering": 1,
   "nav_menu": {},
   "number_sections": false,
   "sideBar": true,
   "skip_h1_title": false,
   "title_cell": "Table of Contents",
   "title_sidebar": "Contents",
   "toc_cell": false,
   "toc_position": {},
   "toc_section_display": true,
   "toc_window_display": true
  }
 },
 "nbformat": 4,
 "nbformat_minor": 2
}
