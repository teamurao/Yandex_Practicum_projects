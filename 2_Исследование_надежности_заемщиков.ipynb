{
 "cells": [
  {
   "cell_type": "markdown",
   "id": "b95a52fb",
   "metadata": {
    "deletable": false,
    "editable": false,
    "id": "c81daeeb"
   },
   "source": [
    "# Исследование надежности заемщиков\n"
   ]
  },
  {
   "cell_type": "markdown",
   "id": "804e266d",
   "metadata": {
    "deletable": false,
    "editable": false,
    "id": "827c20bf"
   },
   "source": [
    "Во второй части проекта вы выполните шаги 3 и 4. Их вручную проверит ревьюер.\n",
    "Чтобы вам не пришлось писать код заново для шагов 1 и 2, мы добавили авторские решения в ячейки с кодом. \n",
    "\n"
   ]
  },
  {
   "cell_type": "markdown",
   "id": "14d80cc9",
   "metadata": {
    "deletable": false,
    "editable": false,
    "id": "744d7639"
   },
   "source": [
    "## Откройте таблицу и изучите общую информацию о данных"
   ]
  },
  {
   "cell_type": "markdown",
   "id": "692c1640",
   "metadata": {
    "deletable": false,
    "editable": false,
    "id": "e7a14c31"
   },
   "source": [
    "**Задание 1. Импортируйте библиотеку pandas. Считайте данные из csv-файла в датафрейм и сохраните в переменную `data`. Путь к файлу:**\n",
    "\n",
    "`/datasets/data.csv`"
   ]
  },
  {
   "cell_type": "code",
   "execution_count": 1,
   "id": "f43d5ce0",
   "metadata": {
    "deletable": false,
    "id": "7bcf75c9"
   },
   "outputs": [],
   "source": [
    "import pandas as pd\n",
    "\n",
    "try:\n",
    "    data = pd.read_csv('/datasets/data.csv')\n",
    "except:\n",
    "    data = pd.read_csv('https://code.s3.yandex.net/datasets/data.csv')"
   ]
  },
  {
   "cell_type": "markdown",
   "id": "65507a41",
   "metadata": {
    "deletable": false,
    "editable": false,
    "id": "b8038fe3"
   },
   "source": [
    "**Задание 2. Выведите первые 20 строчек датафрейма `data` на экран.**"
   ]
  },
  {
   "cell_type": "code",
   "execution_count": 2,
   "id": "1fd45398",
   "metadata": {
    "deletable": false,
    "id": "2a7cab99",
    "outputId": "1a8f3ef2-d323-4ec2-ddf7-89670b5944c4"
   },
   "outputs": [
    {
     "data": {
      "text/html": [
       "<div>\n",
       "<style scoped>\n",
       "    .dataframe tbody tr th:only-of-type {\n",
       "        vertical-align: middle;\n",
       "    }\n",
       "\n",
       "    .dataframe tbody tr th {\n",
       "        vertical-align: top;\n",
       "    }\n",
       "\n",
       "    .dataframe thead th {\n",
       "        text-align: right;\n",
       "    }\n",
       "</style>\n",
       "<table border=\"1\" class=\"dataframe\">\n",
       "  <thead>\n",
       "    <tr style=\"text-align: right;\">\n",
       "      <th></th>\n",
       "      <th>children</th>\n",
       "      <th>days_employed</th>\n",
       "      <th>dob_years</th>\n",
       "      <th>education</th>\n",
       "      <th>education_id</th>\n",
       "      <th>family_status</th>\n",
       "      <th>family_status_id</th>\n",
       "      <th>gender</th>\n",
       "      <th>income_type</th>\n",
       "      <th>debt</th>\n",
       "      <th>total_income</th>\n",
       "      <th>purpose</th>\n",
       "    </tr>\n",
       "  </thead>\n",
       "  <tbody>\n",
       "    <tr>\n",
       "      <th>0</th>\n",
       "      <td>1</td>\n",
       "      <td>-8437.673028</td>\n",
       "      <td>42</td>\n",
       "      <td>высшее</td>\n",
       "      <td>0</td>\n",
       "      <td>женат / замужем</td>\n",
       "      <td>0</td>\n",
       "      <td>F</td>\n",
       "      <td>сотрудник</td>\n",
       "      <td>0</td>\n",
       "      <td>253875.639453</td>\n",
       "      <td>покупка жилья</td>\n",
       "    </tr>\n",
       "    <tr>\n",
       "      <th>1</th>\n",
       "      <td>1</td>\n",
       "      <td>-4024.803754</td>\n",
       "      <td>36</td>\n",
       "      <td>среднее</td>\n",
       "      <td>1</td>\n",
       "      <td>женат / замужем</td>\n",
       "      <td>0</td>\n",
       "      <td>F</td>\n",
       "      <td>сотрудник</td>\n",
       "      <td>0</td>\n",
       "      <td>112080.014102</td>\n",
       "      <td>приобретение автомобиля</td>\n",
       "    </tr>\n",
       "    <tr>\n",
       "      <th>2</th>\n",
       "      <td>0</td>\n",
       "      <td>-5623.422610</td>\n",
       "      <td>33</td>\n",
       "      <td>Среднее</td>\n",
       "      <td>1</td>\n",
       "      <td>женат / замужем</td>\n",
       "      <td>0</td>\n",
       "      <td>M</td>\n",
       "      <td>сотрудник</td>\n",
       "      <td>0</td>\n",
       "      <td>145885.952297</td>\n",
       "      <td>покупка жилья</td>\n",
       "    </tr>\n",
       "    <tr>\n",
       "      <th>3</th>\n",
       "      <td>3</td>\n",
       "      <td>-4124.747207</td>\n",
       "      <td>32</td>\n",
       "      <td>среднее</td>\n",
       "      <td>1</td>\n",
       "      <td>женат / замужем</td>\n",
       "      <td>0</td>\n",
       "      <td>M</td>\n",
       "      <td>сотрудник</td>\n",
       "      <td>0</td>\n",
       "      <td>267628.550329</td>\n",
       "      <td>дополнительное образование</td>\n",
       "    </tr>\n",
       "    <tr>\n",
       "      <th>4</th>\n",
       "      <td>0</td>\n",
       "      <td>340266.072047</td>\n",
       "      <td>53</td>\n",
       "      <td>среднее</td>\n",
       "      <td>1</td>\n",
       "      <td>гражданский брак</td>\n",
       "      <td>1</td>\n",
       "      <td>F</td>\n",
       "      <td>пенсионер</td>\n",
       "      <td>0</td>\n",
       "      <td>158616.077870</td>\n",
       "      <td>сыграть свадьбу</td>\n",
       "    </tr>\n",
       "    <tr>\n",
       "      <th>5</th>\n",
       "      <td>0</td>\n",
       "      <td>-926.185831</td>\n",
       "      <td>27</td>\n",
       "      <td>высшее</td>\n",
       "      <td>0</td>\n",
       "      <td>гражданский брак</td>\n",
       "      <td>1</td>\n",
       "      <td>M</td>\n",
       "      <td>компаньон</td>\n",
       "      <td>0</td>\n",
       "      <td>255763.565419</td>\n",
       "      <td>покупка жилья</td>\n",
       "    </tr>\n",
       "    <tr>\n",
       "      <th>6</th>\n",
       "      <td>0</td>\n",
       "      <td>-2879.202052</td>\n",
       "      <td>43</td>\n",
       "      <td>высшее</td>\n",
       "      <td>0</td>\n",
       "      <td>женат / замужем</td>\n",
       "      <td>0</td>\n",
       "      <td>F</td>\n",
       "      <td>компаньон</td>\n",
       "      <td>0</td>\n",
       "      <td>240525.971920</td>\n",
       "      <td>операции с жильем</td>\n",
       "    </tr>\n",
       "    <tr>\n",
       "      <th>7</th>\n",
       "      <td>0</td>\n",
       "      <td>-152.779569</td>\n",
       "      <td>50</td>\n",
       "      <td>СРЕДНЕЕ</td>\n",
       "      <td>1</td>\n",
       "      <td>женат / замужем</td>\n",
       "      <td>0</td>\n",
       "      <td>M</td>\n",
       "      <td>сотрудник</td>\n",
       "      <td>0</td>\n",
       "      <td>135823.934197</td>\n",
       "      <td>образование</td>\n",
       "    </tr>\n",
       "    <tr>\n",
       "      <th>8</th>\n",
       "      <td>2</td>\n",
       "      <td>-6929.865299</td>\n",
       "      <td>35</td>\n",
       "      <td>ВЫСШЕЕ</td>\n",
       "      <td>0</td>\n",
       "      <td>гражданский брак</td>\n",
       "      <td>1</td>\n",
       "      <td>F</td>\n",
       "      <td>сотрудник</td>\n",
       "      <td>0</td>\n",
       "      <td>95856.832424</td>\n",
       "      <td>на проведение свадьбы</td>\n",
       "    </tr>\n",
       "    <tr>\n",
       "      <th>9</th>\n",
       "      <td>0</td>\n",
       "      <td>-2188.756445</td>\n",
       "      <td>41</td>\n",
       "      <td>среднее</td>\n",
       "      <td>1</td>\n",
       "      <td>женат / замужем</td>\n",
       "      <td>0</td>\n",
       "      <td>M</td>\n",
       "      <td>сотрудник</td>\n",
       "      <td>0</td>\n",
       "      <td>144425.938277</td>\n",
       "      <td>покупка жилья для семьи</td>\n",
       "    </tr>\n",
       "    <tr>\n",
       "      <th>10</th>\n",
       "      <td>2</td>\n",
       "      <td>-4171.483647</td>\n",
       "      <td>36</td>\n",
       "      <td>высшее</td>\n",
       "      <td>0</td>\n",
       "      <td>женат / замужем</td>\n",
       "      <td>0</td>\n",
       "      <td>M</td>\n",
       "      <td>компаньон</td>\n",
       "      <td>0</td>\n",
       "      <td>113943.491460</td>\n",
       "      <td>покупка недвижимости</td>\n",
       "    </tr>\n",
       "    <tr>\n",
       "      <th>11</th>\n",
       "      <td>0</td>\n",
       "      <td>-792.701887</td>\n",
       "      <td>40</td>\n",
       "      <td>среднее</td>\n",
       "      <td>1</td>\n",
       "      <td>женат / замужем</td>\n",
       "      <td>0</td>\n",
       "      <td>F</td>\n",
       "      <td>сотрудник</td>\n",
       "      <td>0</td>\n",
       "      <td>77069.234271</td>\n",
       "      <td>покупка коммерческой недвижимости</td>\n",
       "    </tr>\n",
       "    <tr>\n",
       "      <th>12</th>\n",
       "      <td>0</td>\n",
       "      <td>NaN</td>\n",
       "      <td>65</td>\n",
       "      <td>среднее</td>\n",
       "      <td>1</td>\n",
       "      <td>гражданский брак</td>\n",
       "      <td>1</td>\n",
       "      <td>M</td>\n",
       "      <td>пенсионер</td>\n",
       "      <td>0</td>\n",
       "      <td>NaN</td>\n",
       "      <td>сыграть свадьбу</td>\n",
       "    </tr>\n",
       "    <tr>\n",
       "      <th>13</th>\n",
       "      <td>0</td>\n",
       "      <td>-1846.641941</td>\n",
       "      <td>54</td>\n",
       "      <td>неоконченное высшее</td>\n",
       "      <td>2</td>\n",
       "      <td>женат / замужем</td>\n",
       "      <td>0</td>\n",
       "      <td>F</td>\n",
       "      <td>сотрудник</td>\n",
       "      <td>0</td>\n",
       "      <td>130458.228857</td>\n",
       "      <td>приобретение автомобиля</td>\n",
       "    </tr>\n",
       "    <tr>\n",
       "      <th>14</th>\n",
       "      <td>0</td>\n",
       "      <td>-1844.956182</td>\n",
       "      <td>56</td>\n",
       "      <td>высшее</td>\n",
       "      <td>0</td>\n",
       "      <td>гражданский брак</td>\n",
       "      <td>1</td>\n",
       "      <td>F</td>\n",
       "      <td>компаньон</td>\n",
       "      <td>1</td>\n",
       "      <td>165127.911772</td>\n",
       "      <td>покупка жилой недвижимости</td>\n",
       "    </tr>\n",
       "    <tr>\n",
       "      <th>15</th>\n",
       "      <td>1</td>\n",
       "      <td>-972.364419</td>\n",
       "      <td>26</td>\n",
       "      <td>среднее</td>\n",
       "      <td>1</td>\n",
       "      <td>женат / замужем</td>\n",
       "      <td>0</td>\n",
       "      <td>F</td>\n",
       "      <td>сотрудник</td>\n",
       "      <td>0</td>\n",
       "      <td>116820.904450</td>\n",
       "      <td>строительство собственной недвижимости</td>\n",
       "    </tr>\n",
       "    <tr>\n",
       "      <th>16</th>\n",
       "      <td>0</td>\n",
       "      <td>-1719.934226</td>\n",
       "      <td>35</td>\n",
       "      <td>среднее</td>\n",
       "      <td>1</td>\n",
       "      <td>женат / замужем</td>\n",
       "      <td>0</td>\n",
       "      <td>F</td>\n",
       "      <td>сотрудник</td>\n",
       "      <td>0</td>\n",
       "      <td>289202.704229</td>\n",
       "      <td>недвижимость</td>\n",
       "    </tr>\n",
       "    <tr>\n",
       "      <th>17</th>\n",
       "      <td>0</td>\n",
       "      <td>-2369.999720</td>\n",
       "      <td>33</td>\n",
       "      <td>высшее</td>\n",
       "      <td>0</td>\n",
       "      <td>гражданский брак</td>\n",
       "      <td>1</td>\n",
       "      <td>M</td>\n",
       "      <td>сотрудник</td>\n",
       "      <td>0</td>\n",
       "      <td>90410.586745</td>\n",
       "      <td>строительство недвижимости</td>\n",
       "    </tr>\n",
       "    <tr>\n",
       "      <th>18</th>\n",
       "      <td>0</td>\n",
       "      <td>400281.136913</td>\n",
       "      <td>53</td>\n",
       "      <td>среднее</td>\n",
       "      <td>1</td>\n",
       "      <td>вдовец / вдова</td>\n",
       "      <td>2</td>\n",
       "      <td>F</td>\n",
       "      <td>пенсионер</td>\n",
       "      <td>0</td>\n",
       "      <td>56823.777243</td>\n",
       "      <td>на покупку подержанного автомобиля</td>\n",
       "    </tr>\n",
       "    <tr>\n",
       "      <th>19</th>\n",
       "      <td>0</td>\n",
       "      <td>-10038.818549</td>\n",
       "      <td>48</td>\n",
       "      <td>СРЕДНЕЕ</td>\n",
       "      <td>1</td>\n",
       "      <td>в разводе</td>\n",
       "      <td>3</td>\n",
       "      <td>F</td>\n",
       "      <td>сотрудник</td>\n",
       "      <td>0</td>\n",
       "      <td>242831.107982</td>\n",
       "      <td>на покупку своего автомобиля</td>\n",
       "    </tr>\n",
       "  </tbody>\n",
       "</table>\n",
       "</div>"
      ],
      "text/plain": [
       "    children  days_employed  dob_years            education  education_id  \\\n",
       "0          1   -8437.673028         42               высшее             0   \n",
       "1          1   -4024.803754         36              среднее             1   \n",
       "2          0   -5623.422610         33              Среднее             1   \n",
       "3          3   -4124.747207         32              среднее             1   \n",
       "4          0  340266.072047         53              среднее             1   \n",
       "5          0    -926.185831         27               высшее             0   \n",
       "6          0   -2879.202052         43               высшее             0   \n",
       "7          0    -152.779569         50              СРЕДНЕЕ             1   \n",
       "8          2   -6929.865299         35               ВЫСШЕЕ             0   \n",
       "9          0   -2188.756445         41              среднее             1   \n",
       "10         2   -4171.483647         36               высшее             0   \n",
       "11         0    -792.701887         40              среднее             1   \n",
       "12         0            NaN         65              среднее             1   \n",
       "13         0   -1846.641941         54  неоконченное высшее             2   \n",
       "14         0   -1844.956182         56               высшее             0   \n",
       "15         1    -972.364419         26              среднее             1   \n",
       "16         0   -1719.934226         35              среднее             1   \n",
       "17         0   -2369.999720         33               высшее             0   \n",
       "18         0  400281.136913         53              среднее             1   \n",
       "19         0  -10038.818549         48              СРЕДНЕЕ             1   \n",
       "\n",
       "       family_status  family_status_id gender income_type  debt  \\\n",
       "0    женат / замужем                 0      F   сотрудник     0   \n",
       "1    женат / замужем                 0      F   сотрудник     0   \n",
       "2    женат / замужем                 0      M   сотрудник     0   \n",
       "3    женат / замужем                 0      M   сотрудник     0   \n",
       "4   гражданский брак                 1      F   пенсионер     0   \n",
       "5   гражданский брак                 1      M   компаньон     0   \n",
       "6    женат / замужем                 0      F   компаньон     0   \n",
       "7    женат / замужем                 0      M   сотрудник     0   \n",
       "8   гражданский брак                 1      F   сотрудник     0   \n",
       "9    женат / замужем                 0      M   сотрудник     0   \n",
       "10   женат / замужем                 0      M   компаньон     0   \n",
       "11   женат / замужем                 0      F   сотрудник     0   \n",
       "12  гражданский брак                 1      M   пенсионер     0   \n",
       "13   женат / замужем                 0      F   сотрудник     0   \n",
       "14  гражданский брак                 1      F   компаньон     1   \n",
       "15   женат / замужем                 0      F   сотрудник     0   \n",
       "16   женат / замужем                 0      F   сотрудник     0   \n",
       "17  гражданский брак                 1      M   сотрудник     0   \n",
       "18    вдовец / вдова                 2      F   пенсионер     0   \n",
       "19         в разводе                 3      F   сотрудник     0   \n",
       "\n",
       "     total_income                                 purpose  \n",
       "0   253875.639453                           покупка жилья  \n",
       "1   112080.014102                 приобретение автомобиля  \n",
       "2   145885.952297                           покупка жилья  \n",
       "3   267628.550329              дополнительное образование  \n",
       "4   158616.077870                         сыграть свадьбу  \n",
       "5   255763.565419                           покупка жилья  \n",
       "6   240525.971920                       операции с жильем  \n",
       "7   135823.934197                             образование  \n",
       "8    95856.832424                   на проведение свадьбы  \n",
       "9   144425.938277                 покупка жилья для семьи  \n",
       "10  113943.491460                    покупка недвижимости  \n",
       "11   77069.234271       покупка коммерческой недвижимости  \n",
       "12            NaN                         сыграть свадьбу  \n",
       "13  130458.228857                 приобретение автомобиля  \n",
       "14  165127.911772              покупка жилой недвижимости  \n",
       "15  116820.904450  строительство собственной недвижимости  \n",
       "16  289202.704229                            недвижимость  \n",
       "17   90410.586745              строительство недвижимости  \n",
       "18   56823.777243      на покупку подержанного автомобиля  \n",
       "19  242831.107982            на покупку своего автомобиля  "
      ]
     },
     "execution_count": 2,
     "metadata": {},
     "output_type": "execute_result"
    }
   ],
   "source": [
    "data.head(20)"
   ]
  },
  {
   "cell_type": "markdown",
   "id": "d8de6c25",
   "metadata": {
    "deletable": false,
    "editable": false,
    "id": "1c12e233"
   },
   "source": [
    "**Задание 3. Выведите основную информацию о датафрейме с помощью метода `info()`.**"
   ]
  },
  {
   "cell_type": "code",
   "execution_count": 3,
   "id": "fe81521c",
   "metadata": {
    "deletable": false,
    "id": "2b757bca",
    "outputId": "15376089-8dad-46c9-b520-c05248d43158"
   },
   "outputs": [
    {
     "name": "stdout",
     "output_type": "stream",
     "text": [
      "<class 'pandas.core.frame.DataFrame'>\n",
      "RangeIndex: 21525 entries, 0 to 21524\n",
      "Data columns (total 12 columns):\n",
      " #   Column            Non-Null Count  Dtype  \n",
      "---  ------            --------------  -----  \n",
      " 0   children          21525 non-null  int64  \n",
      " 1   days_employed     19351 non-null  float64\n",
      " 2   dob_years         21525 non-null  int64  \n",
      " 3   education         21525 non-null  object \n",
      " 4   education_id      21525 non-null  int64  \n",
      " 5   family_status     21525 non-null  object \n",
      " 6   family_status_id  21525 non-null  int64  \n",
      " 7   gender            21525 non-null  object \n",
      " 8   income_type       21525 non-null  object \n",
      " 9   debt              21525 non-null  int64  \n",
      " 10  total_income      19351 non-null  float64\n",
      " 11  purpose           21525 non-null  object \n",
      "dtypes: float64(2), int64(5), object(5)\n",
      "memory usage: 2.0+ MB\n"
     ]
    }
   ],
   "source": [
    "data.info()"
   ]
  },
  {
   "cell_type": "markdown",
   "id": "6b6587b8",
   "metadata": {
    "deletable": false,
    "editable": false,
    "id": "333ec665"
   },
   "source": [
    "## Предобработка данных"
   ]
  },
  {
   "cell_type": "markdown",
   "id": "86e61759",
   "metadata": {
    "deletable": false,
    "editable": false,
    "id": "02d92d53"
   },
   "source": [
    "### Удаление пропусков"
   ]
  },
  {
   "cell_type": "markdown",
   "id": "1524b4da",
   "metadata": {
    "deletable": false,
    "editable": false,
    "id": "cd84967c"
   },
   "source": [
    "**Задание 4. Выведите количество пропущенных значений для каждого столбца. Используйте комбинацию двух методов.**"
   ]
  },
  {
   "cell_type": "code",
   "execution_count": 4,
   "id": "8260977f",
   "metadata": {
    "deletable": false,
    "id": "7f9b2309",
    "outputId": "81f4d817-781c-465c-ed15-91ce4446810d"
   },
   "outputs": [
    {
     "data": {
      "text/plain": [
       "children               0\n",
       "days_employed       2174\n",
       "dob_years              0\n",
       "education              0\n",
       "education_id           0\n",
       "family_status          0\n",
       "family_status_id       0\n",
       "gender                 0\n",
       "income_type            0\n",
       "debt                   0\n",
       "total_income        2174\n",
       "purpose                0\n",
       "dtype: int64"
      ]
     },
     "execution_count": 4,
     "metadata": {},
     "output_type": "execute_result"
    }
   ],
   "source": [
    "data.isna().sum()"
   ]
  },
  {
   "cell_type": "markdown",
   "id": "aef3dc4c",
   "metadata": {
    "deletable": false,
    "editable": false,
    "id": "db86e27b"
   },
   "source": [
    "**Задание 5. В двух столбцах есть пропущенные значения. Один из них — `days_employed`. Пропуски в этом столбце вы обработаете на следующем этапе. Другой столбец с пропущенными значениями — `total_income` — хранит данные о доходах. На сумму дохода сильнее всего влияет тип занятости, поэтому заполнить пропуски в этом столбце нужно медианным значением по каждому типу из столбца `income_type`. Например, у человека с типом занятости `сотрудник` пропуск в столбце `total_income` должен быть заполнен медианным доходом среди всех записей с тем же типом.**"
   ]
  },
  {
   "cell_type": "code",
   "execution_count": 5,
   "id": "55ac00f1",
   "metadata": {
    "deletable": false,
    "id": "42006a93"
   },
   "outputs": [],
   "source": [
    "for t in data['income_type'].unique():\n",
    "    data.loc[(data['income_type'] == t) & (data['total_income'].isna()), 'total_income'] = \\\n",
    "    data.loc[(data['income_type'] == t), 'total_income'].median()"
   ]
  },
  {
   "cell_type": "markdown",
   "id": "e611446a",
   "metadata": {
    "deletable": false,
    "editable": false,
    "id": "89da5ece"
   },
   "source": [
    "### Обработка аномальных значений"
   ]
  },
  {
   "cell_type": "markdown",
   "id": "6ff4ed97",
   "metadata": {
    "deletable": false,
    "editable": false,
    "id": "57964554"
   },
   "source": [
    "**Задание 6. В данных могут встречаться артефакты (аномалии) — значения, которые не отражают действительность и появились по какой-то ошибке. таким артефактом будет отрицательное количество дней трудового стажа в столбце `days_employed`. Для реальных данных это нормально. Обработайте значения в этом столбце: замените все отрицательные значения положительными с помощью метода `abs()`.**"
   ]
  },
  {
   "cell_type": "code",
   "execution_count": 6,
   "id": "63318a84",
   "metadata": {
    "deletable": false,
    "id": "f6f055bf"
   },
   "outputs": [],
   "source": [
    "data['days_employed'] = data['days_employed'].abs()"
   ]
  },
  {
   "cell_type": "markdown",
   "id": "f8030499",
   "metadata": {
    "deletable": false,
    "editable": false,
    "id": "6107dd2f"
   },
   "source": [
    "**Задание 7. Для каждого типа занятости выведите медианное значение трудового стажа `days_employed` в днях.**"
   ]
  },
  {
   "cell_type": "code",
   "execution_count": 7,
   "id": "110fe2af",
   "metadata": {
    "deletable": false,
    "id": "85a5faf6",
    "outputId": "801ef80e-522b-4668-f34e-565af7432bcf"
   },
   "outputs": [
    {
     "data": {
      "text/plain": [
       "income_type\n",
       "безработный        366413.652744\n",
       "в декрете            3296.759962\n",
       "госслужащий          2689.368353\n",
       "компаньон            1547.382223\n",
       "пенсионер          365213.306266\n",
       "предприниматель       520.848083\n",
       "сотрудник            1574.202821\n",
       "студент               578.751554\n",
       "Name: days_employed, dtype: float64"
      ]
     },
     "execution_count": 7,
     "metadata": {},
     "output_type": "execute_result"
    }
   ],
   "source": [
    "data.groupby('income_type')['days_employed'].agg('median')"
   ]
  },
  {
   "cell_type": "markdown",
   "id": "f09e2354",
   "metadata": {
    "deletable": false,
    "editable": false,
    "id": "38d1a030"
   },
   "source": [
    "У двух типов (безработные и пенсионеры) получатся аномально большие значения. Исправить такие значения сложно, поэтому оставьте их как есть. Тем более этот столбец не понадобится вам для исследования."
   ]
  },
  {
   "cell_type": "markdown",
   "id": "21e18223",
   "metadata": {
    "deletable": false,
    "editable": false,
    "id": "d8a9f147"
   },
   "source": [
    "**Задание 8. Выведите перечень уникальных значений столбца `children`.**"
   ]
  },
  {
   "cell_type": "code",
   "execution_count": 8,
   "id": "7818ad48",
   "metadata": {
    "deletable": false,
    "id": "ef5056eb",
    "outputId": "6975b15c-7f95-4697-d16d-a0c79b657b03"
   },
   "outputs": [
    {
     "data": {
      "text/plain": [
       "array([ 1,  0,  3,  2, -1,  4, 20,  5])"
      ]
     },
     "execution_count": 8,
     "metadata": {},
     "output_type": "execute_result"
    }
   ],
   "source": [
    "data['children'].unique()"
   ]
  },
  {
   "cell_type": "markdown",
   "id": "67cfe39b",
   "metadata": {
    "deletable": false,
    "editable": false,
    "id": "40b9ebf2"
   },
   "source": [
    "**Задание 9. В столбце `children` есть два аномальных значения. Удалите строки, в которых встречаются такие аномальные значения из датафрейма `data`.**"
   ]
  },
  {
   "cell_type": "code",
   "execution_count": 9,
   "id": "480ea300",
   "metadata": {
    "deletable": false,
    "id": "3ff9801d"
   },
   "outputs": [],
   "source": [
    "data = data[(data['children'] != -1) & (data['children'] != 20)]"
   ]
  },
  {
   "cell_type": "markdown",
   "id": "e63c385d",
   "metadata": {
    "deletable": false,
    "editable": false,
    "id": "bbc4d0ce"
   },
   "source": [
    "**Задание 10. Ещё раз выведите перечень уникальных значений столбца `children`, чтобы убедиться, что артефакты удалены.**"
   ]
  },
  {
   "cell_type": "code",
   "execution_count": 10,
   "id": "0d9de923",
   "metadata": {
    "deletable": false,
    "id": "ad4fa8b7",
    "outputId": "b2097101-d49d-44d9-901b-32a65c9463d1"
   },
   "outputs": [
    {
     "data": {
      "text/plain": [
       "array([1, 0, 3, 2, 4, 5])"
      ]
     },
     "execution_count": 10,
     "metadata": {},
     "output_type": "execute_result"
    }
   ],
   "source": [
    "data['children'].unique()"
   ]
  },
  {
   "cell_type": "markdown",
   "id": "874a11d7",
   "metadata": {
    "deletable": false,
    "editable": false,
    "id": "75440b63"
   },
   "source": [
    "### Удаление пропусков (продолжение)"
   ]
  },
  {
   "cell_type": "markdown",
   "id": "7c244c55",
   "metadata": {
    "deletable": false,
    "editable": false,
    "id": "f4ea573f"
   },
   "source": [
    "**Задание 11. Заполните пропуски в столбце `days_employed` медианными значениями по каждого типа занятости `income_type`.**"
   ]
  },
  {
   "cell_type": "code",
   "execution_count": 11,
   "id": "ca4a28fa",
   "metadata": {
    "deletable": false,
    "id": "af6b1a7e"
   },
   "outputs": [],
   "source": [
    "for t in data['income_type'].unique():\n",
    "    data.loc[(data['income_type'] == t) & (data['days_employed'].isna()), 'days_employed'] = \\\n",
    "    data.loc[(data['income_type'] == t), 'days_employed'].median()"
   ]
  },
  {
   "cell_type": "markdown",
   "id": "cec30c91",
   "metadata": {
    "deletable": false,
    "editable": false,
    "id": "2753f40d"
   },
   "source": [
    "**Задание 12. Убедитесь, что все пропуски заполнены. Проверьте себя и ещё раз выведите количество пропущенных значений для каждого столбца с помощью двух методов.**"
   ]
  },
  {
   "cell_type": "code",
   "execution_count": 12,
   "id": "c28ac300",
   "metadata": {
    "deletable": false,
    "id": "55f78bc2",
    "outputId": "8da1e4e1-358e-4e87-98c9-f261bce0a7b2"
   },
   "outputs": [
    {
     "data": {
      "text/plain": [
       "children            0\n",
       "days_employed       0\n",
       "dob_years           0\n",
       "education           0\n",
       "education_id        0\n",
       "family_status       0\n",
       "family_status_id    0\n",
       "gender              0\n",
       "income_type         0\n",
       "debt                0\n",
       "total_income        0\n",
       "purpose             0\n",
       "dtype: int64"
      ]
     },
     "execution_count": 12,
     "metadata": {},
     "output_type": "execute_result"
    }
   ],
   "source": [
    "data.isna().sum()"
   ]
  },
  {
   "cell_type": "markdown",
   "id": "9522f7ed",
   "metadata": {
    "deletable": false,
    "editable": false,
    "id": "ddc81e43"
   },
   "source": [
    "### Изменение типов данных"
   ]
  },
  {
   "cell_type": "markdown",
   "id": "049d5abf",
   "metadata": {
    "deletable": false,
    "editable": false,
    "id": "42d19d24"
   },
   "source": [
    "**Задание 13. Замените вещественный тип данных в столбце `total_income` на целочисленный с помощью метода `astype()`.**"
   ]
  },
  {
   "cell_type": "code",
   "execution_count": 13,
   "id": "dbe3de3b",
   "metadata": {
    "deletable": false,
    "id": "920b65ad"
   },
   "outputs": [],
   "source": [
    "data['total_income'] = data['total_income'].astype(int)"
   ]
  },
  {
   "cell_type": "markdown",
   "id": "62d41493",
   "metadata": {
    "deletable": false,
    "editable": false,
    "id": "80c420ba"
   },
   "source": [
    "### Обработка дубликатов"
   ]
  },
  {
   "cell_type": "markdown",
   "id": "ed8afd4c",
   "metadata": {
    "deletable": false,
    "editable": false
   },
   "source": [
    "**Задание 14. Обработайте неявные дубликаты в столбце `education`. В этом столбце есть одни и те же значения, но записанные по-разному: с использованием заглавных и строчных букв. Приведите их к нижнему регистру. Проверьте остальные столбцы.**"
   ]
  },
  {
   "cell_type": "code",
   "execution_count": 14,
   "id": "06c77a68",
   "metadata": {
    "deletable": false
   },
   "outputs": [],
   "source": [
    "data['education'] = data['education'].str.lower()"
   ]
  },
  {
   "cell_type": "markdown",
   "id": "8809a6ce",
   "metadata": {
    "deletable": false,
    "editable": false,
    "id": "dc587695"
   },
   "source": [
    "**Задание 15. Выведите на экран количество строк-дубликатов в данных. Если такие строки присутствуют, удалите их.**"
   ]
  },
  {
   "cell_type": "code",
   "execution_count": 15,
   "id": "42784dc9",
   "metadata": {
    "deletable": false,
    "id": "3ee445e4",
    "outputId": "9684deba-1934-42d1-99e1-cda61740f822"
   },
   "outputs": [
    {
     "data": {
      "text/plain": [
       "71"
      ]
     },
     "execution_count": 15,
     "metadata": {},
     "output_type": "execute_result"
    }
   ],
   "source": [
    "data.duplicated().sum()"
   ]
  },
  {
   "cell_type": "code",
   "execution_count": 16,
   "id": "8a6f4172",
   "metadata": {
    "deletable": false,
    "id": "8575fe05"
   },
   "outputs": [],
   "source": [
    "data = data.drop_duplicates()"
   ]
  },
  {
   "cell_type": "markdown",
   "id": "e8b74efd",
   "metadata": {
    "deletable": false,
    "editable": false,
    "id": "9904cf55"
   },
   "source": [
    "### Категоризация данных"
   ]
  },
  {
   "cell_type": "markdown",
   "id": "f1ba3756",
   "metadata": {
    "deletable": false,
    "editable": false,
    "id": "72fcc8a2"
   },
   "source": [
    "**Задание 16. На основании диапазонов, указанных ниже, создайте в датафрейме `data` столбец `total_income_category` с категориями:**\n",
    "\n",
    "- 0–30000 — `'E'`;\n",
    "- 30001–50000 — `'D'`;\n",
    "- 50001–200000 — `'C'`;\n",
    "- 200001–1000000 — `'B'`;\n",
    "- 1000001 и выше — `'A'`.\n",
    "\n",
    "\n",
    "**Например, кредитополучателю с доходом 25000 нужно назначить категорию `'E'`, а клиенту, получающему 235000, — `'B'`. Используйте собственную функцию с именем `categorize_income()` и метод `apply()`.**"
   ]
  },
  {
   "cell_type": "code",
   "execution_count": 17,
   "id": "ac361b13",
   "metadata": {
    "deletable": false,
    "id": "e1771346"
   },
   "outputs": [],
   "source": [
    "def categorize_income(income):\n",
    "    try:\n",
    "        if 0 <= income <= 30000:\n",
    "            return 'E'\n",
    "        elif 30001 <= income <= 50000:\n",
    "            return 'D'\n",
    "        elif 50001 <= income <= 200000:\n",
    "            return 'C'\n",
    "        elif 200001 <= income <= 1000000:\n",
    "            return 'B'\n",
    "        elif income >= 1000001:\n",
    "            return 'A'\n",
    "    except:\n",
    "        pass"
   ]
  },
  {
   "cell_type": "code",
   "execution_count": 18,
   "id": "483de70a",
   "metadata": {
    "deletable": false,
    "id": "d5f3586d"
   },
   "outputs": [],
   "source": [
    "data['total_income_category'] = data['total_income'].apply(categorize_income)"
   ]
  },
  {
   "cell_type": "markdown",
   "id": "6dde7107",
   "metadata": {
    "deletable": false,
    "editable": false,
    "id": "dde49b5c"
   },
   "source": [
    "**Задание 17. Выведите на экран перечень уникальных целей взятия кредита из столбца `purpose`.**"
   ]
  },
  {
   "cell_type": "code",
   "execution_count": 19,
   "id": "830bd5a9",
   "metadata": {
    "deletable": false,
    "id": "f67ce9b3",
    "outputId": "673c12d9-7d7e-4ae0-9812-c622c89dd244"
   },
   "outputs": [
    {
     "data": {
      "text/plain": [
       "array(['покупка жилья', 'приобретение автомобиля',\n",
       "       'дополнительное образование', 'сыграть свадьбу',\n",
       "       'операции с жильем', 'образование', 'на проведение свадьбы',\n",
       "       'покупка жилья для семьи', 'покупка недвижимости',\n",
       "       'покупка коммерческой недвижимости', 'покупка жилой недвижимости',\n",
       "       'строительство собственной недвижимости', 'недвижимость',\n",
       "       'строительство недвижимости', 'на покупку подержанного автомобиля',\n",
       "       'на покупку своего автомобиля',\n",
       "       'операции с коммерческой недвижимостью',\n",
       "       'строительство жилой недвижимости', 'жилье',\n",
       "       'операции со своей недвижимостью', 'автомобили',\n",
       "       'заняться образованием', 'сделка с подержанным автомобилем',\n",
       "       'получение образования', 'автомобиль', 'свадьба',\n",
       "       'получение дополнительного образования', 'покупка своего жилья',\n",
       "       'операции с недвижимостью', 'получение высшего образования',\n",
       "       'свой автомобиль', 'сделка с автомобилем',\n",
       "       'профильное образование', 'высшее образование',\n",
       "       'покупка жилья для сдачи', 'на покупку автомобиля', 'ремонт жилью',\n",
       "       'заняться высшим образованием'], dtype=object)"
      ]
     },
     "execution_count": 19,
     "metadata": {},
     "output_type": "execute_result"
    }
   ],
   "source": [
    "data['purpose'].unique()"
   ]
  },
  {
   "cell_type": "markdown",
   "id": "97187f2a",
   "metadata": {
    "deletable": false,
    "editable": false,
    "id": "85d0aef0"
   },
   "source": [
    "**Задание 18. Создайте функцию, которая на основании данных из столбца `purpose` сформирует новый столбец `purpose_category`, в который войдут следующие категории:**\n",
    "\n",
    "- `'операции с автомобилем'`,\n",
    "- `'операции с недвижимостью'`,\n",
    "- `'проведение свадьбы'`,\n",
    "- `'получение образования'`.\n",
    "\n",
    "**Например, если в столбце `purpose` находится подстрока `'на покупку автомобиля'`, то в столбце `purpose_category` должна появиться строка `'операции с автомобилем'`.**\n",
    "\n",
    "**Используйте собственную функцию с именем `categorize_purpose()` и метод `apply()`. Изучите данные в столбце `purpose` и определите, какие подстроки помогут вам правильно определить категорию.**"
   ]
  },
  {
   "cell_type": "code",
   "execution_count": 20,
   "id": "a4393c31",
   "metadata": {
    "deletable": false,
    "id": "e149fab4"
   },
   "outputs": [],
   "source": [
    "def categorize_purpose(row):\n",
    "    try:\n",
    "        if 'автом' in row:\n",
    "            return 'операции с автомобилем'\n",
    "        elif 'жил' in row or 'недвиж' in row:\n",
    "            return 'операции с недвижимостью'\n",
    "        elif 'свад' in row:\n",
    "            return 'проведение свадьбы'\n",
    "        elif 'образов' in row:\n",
    "            return 'получение образования'\n",
    "    except:\n",
    "        return 'нет категории'"
   ]
  },
  {
   "cell_type": "code",
   "execution_count": 21,
   "id": "69de1d43",
   "metadata": {
    "deletable": false,
    "id": "bf36e69b"
   },
   "outputs": [],
   "source": [
    "data['purpose_category'] = data['purpose'].apply(categorize_purpose)"
   ]
  },
  {
   "cell_type": "markdown",
   "id": "7228eff5",
   "metadata": {
    "deletable": false,
    "editable": false,
    "id": "09b242bf"
   },
   "source": [
    "### Шаг 3. Исследуйте данные и ответьте на вопросы"
   ]
  },
  {
   "cell_type": "markdown",
   "id": "0ead34d6",
   "metadata": {
    "deletable": false,
    "editable": false,
    "id": "c5d66278"
   },
   "source": [
    "#### 3.1 Есть ли зависимость между количеством детей и возвратом кредита в срок?"
   ]
  },
  {
   "cell_type": "markdown",
   "id": "95bfeebb",
   "metadata": {},
   "source": [
    "Выведем новую таблицу после всех изменений и получим информацию о столбцах."
   ]
  },
  {
   "cell_type": "code",
   "execution_count": 22,
   "id": "be960ddd",
   "metadata": {
    "deletable": false,
    "id": "2cacfc4a"
   },
   "outputs": [
    {
     "data": {
      "text/html": [
       "<div>\n",
       "<style scoped>\n",
       "    .dataframe tbody tr th:only-of-type {\n",
       "        vertical-align: middle;\n",
       "    }\n",
       "\n",
       "    .dataframe tbody tr th {\n",
       "        vertical-align: top;\n",
       "    }\n",
       "\n",
       "    .dataframe thead th {\n",
       "        text-align: right;\n",
       "    }\n",
       "</style>\n",
       "<table border=\"1\" class=\"dataframe\">\n",
       "  <thead>\n",
       "    <tr style=\"text-align: right;\">\n",
       "      <th></th>\n",
       "      <th>children</th>\n",
       "      <th>days_employed</th>\n",
       "      <th>dob_years</th>\n",
       "      <th>education</th>\n",
       "      <th>education_id</th>\n",
       "      <th>family_status</th>\n",
       "      <th>family_status_id</th>\n",
       "      <th>gender</th>\n",
       "      <th>income_type</th>\n",
       "      <th>debt</th>\n",
       "      <th>total_income</th>\n",
       "      <th>purpose</th>\n",
       "      <th>total_income_category</th>\n",
       "      <th>purpose_category</th>\n",
       "    </tr>\n",
       "  </thead>\n",
       "  <tbody>\n",
       "    <tr>\n",
       "      <th>0</th>\n",
       "      <td>1</td>\n",
       "      <td>8437.673028</td>\n",
       "      <td>42</td>\n",
       "      <td>высшее</td>\n",
       "      <td>0</td>\n",
       "      <td>женат / замужем</td>\n",
       "      <td>0</td>\n",
       "      <td>F</td>\n",
       "      <td>сотрудник</td>\n",
       "      <td>0</td>\n",
       "      <td>253875</td>\n",
       "      <td>покупка жилья</td>\n",
       "      <td>B</td>\n",
       "      <td>операции с недвижимостью</td>\n",
       "    </tr>\n",
       "    <tr>\n",
       "      <th>1</th>\n",
       "      <td>1</td>\n",
       "      <td>4024.803754</td>\n",
       "      <td>36</td>\n",
       "      <td>среднее</td>\n",
       "      <td>1</td>\n",
       "      <td>женат / замужем</td>\n",
       "      <td>0</td>\n",
       "      <td>F</td>\n",
       "      <td>сотрудник</td>\n",
       "      <td>0</td>\n",
       "      <td>112080</td>\n",
       "      <td>приобретение автомобиля</td>\n",
       "      <td>C</td>\n",
       "      <td>операции с автомобилем</td>\n",
       "    </tr>\n",
       "    <tr>\n",
       "      <th>2</th>\n",
       "      <td>0</td>\n",
       "      <td>5623.422610</td>\n",
       "      <td>33</td>\n",
       "      <td>среднее</td>\n",
       "      <td>1</td>\n",
       "      <td>женат / замужем</td>\n",
       "      <td>0</td>\n",
       "      <td>M</td>\n",
       "      <td>сотрудник</td>\n",
       "      <td>0</td>\n",
       "      <td>145885</td>\n",
       "      <td>покупка жилья</td>\n",
       "      <td>C</td>\n",
       "      <td>операции с недвижимостью</td>\n",
       "    </tr>\n",
       "    <tr>\n",
       "      <th>3</th>\n",
       "      <td>3</td>\n",
       "      <td>4124.747207</td>\n",
       "      <td>32</td>\n",
       "      <td>среднее</td>\n",
       "      <td>1</td>\n",
       "      <td>женат / замужем</td>\n",
       "      <td>0</td>\n",
       "      <td>M</td>\n",
       "      <td>сотрудник</td>\n",
       "      <td>0</td>\n",
       "      <td>267628</td>\n",
       "      <td>дополнительное образование</td>\n",
       "      <td>B</td>\n",
       "      <td>получение образования</td>\n",
       "    </tr>\n",
       "    <tr>\n",
       "      <th>4</th>\n",
       "      <td>0</td>\n",
       "      <td>340266.072047</td>\n",
       "      <td>53</td>\n",
       "      <td>среднее</td>\n",
       "      <td>1</td>\n",
       "      <td>гражданский брак</td>\n",
       "      <td>1</td>\n",
       "      <td>F</td>\n",
       "      <td>пенсионер</td>\n",
       "      <td>0</td>\n",
       "      <td>158616</td>\n",
       "      <td>сыграть свадьбу</td>\n",
       "      <td>C</td>\n",
       "      <td>проведение свадьбы</td>\n",
       "    </tr>\n",
       "    <tr>\n",
       "      <th>5</th>\n",
       "      <td>0</td>\n",
       "      <td>926.185831</td>\n",
       "      <td>27</td>\n",
       "      <td>высшее</td>\n",
       "      <td>0</td>\n",
       "      <td>гражданский брак</td>\n",
       "      <td>1</td>\n",
       "      <td>M</td>\n",
       "      <td>компаньон</td>\n",
       "      <td>0</td>\n",
       "      <td>255763</td>\n",
       "      <td>покупка жилья</td>\n",
       "      <td>B</td>\n",
       "      <td>операции с недвижимостью</td>\n",
       "    </tr>\n",
       "    <tr>\n",
       "      <th>6</th>\n",
       "      <td>0</td>\n",
       "      <td>2879.202052</td>\n",
       "      <td>43</td>\n",
       "      <td>высшее</td>\n",
       "      <td>0</td>\n",
       "      <td>женат / замужем</td>\n",
       "      <td>0</td>\n",
       "      <td>F</td>\n",
       "      <td>компаньон</td>\n",
       "      <td>0</td>\n",
       "      <td>240525</td>\n",
       "      <td>операции с жильем</td>\n",
       "      <td>B</td>\n",
       "      <td>операции с недвижимостью</td>\n",
       "    </tr>\n",
       "    <tr>\n",
       "      <th>7</th>\n",
       "      <td>0</td>\n",
       "      <td>152.779569</td>\n",
       "      <td>50</td>\n",
       "      <td>среднее</td>\n",
       "      <td>1</td>\n",
       "      <td>женат / замужем</td>\n",
       "      <td>0</td>\n",
       "      <td>M</td>\n",
       "      <td>сотрудник</td>\n",
       "      <td>0</td>\n",
       "      <td>135823</td>\n",
       "      <td>образование</td>\n",
       "      <td>C</td>\n",
       "      <td>получение образования</td>\n",
       "    </tr>\n",
       "    <tr>\n",
       "      <th>8</th>\n",
       "      <td>2</td>\n",
       "      <td>6929.865299</td>\n",
       "      <td>35</td>\n",
       "      <td>высшее</td>\n",
       "      <td>0</td>\n",
       "      <td>гражданский брак</td>\n",
       "      <td>1</td>\n",
       "      <td>F</td>\n",
       "      <td>сотрудник</td>\n",
       "      <td>0</td>\n",
       "      <td>95856</td>\n",
       "      <td>на проведение свадьбы</td>\n",
       "      <td>C</td>\n",
       "      <td>проведение свадьбы</td>\n",
       "    </tr>\n",
       "    <tr>\n",
       "      <th>9</th>\n",
       "      <td>0</td>\n",
       "      <td>2188.756445</td>\n",
       "      <td>41</td>\n",
       "      <td>среднее</td>\n",
       "      <td>1</td>\n",
       "      <td>женат / замужем</td>\n",
       "      <td>0</td>\n",
       "      <td>M</td>\n",
       "      <td>сотрудник</td>\n",
       "      <td>0</td>\n",
       "      <td>144425</td>\n",
       "      <td>покупка жилья для семьи</td>\n",
       "      <td>C</td>\n",
       "      <td>операции с недвижимостью</td>\n",
       "    </tr>\n",
       "  </tbody>\n",
       "</table>\n",
       "</div>"
      ],
      "text/plain": [
       "   children  days_employed  dob_years education  education_id  \\\n",
       "0         1    8437.673028         42    высшее             0   \n",
       "1         1    4024.803754         36   среднее             1   \n",
       "2         0    5623.422610         33   среднее             1   \n",
       "3         3    4124.747207         32   среднее             1   \n",
       "4         0  340266.072047         53   среднее             1   \n",
       "5         0     926.185831         27    высшее             0   \n",
       "6         0    2879.202052         43    высшее             0   \n",
       "7         0     152.779569         50   среднее             1   \n",
       "8         2    6929.865299         35    высшее             0   \n",
       "9         0    2188.756445         41   среднее             1   \n",
       "\n",
       "      family_status  family_status_id gender income_type  debt  total_income  \\\n",
       "0   женат / замужем                 0      F   сотрудник     0        253875   \n",
       "1   женат / замужем                 0      F   сотрудник     0        112080   \n",
       "2   женат / замужем                 0      M   сотрудник     0        145885   \n",
       "3   женат / замужем                 0      M   сотрудник     0        267628   \n",
       "4  гражданский брак                 1      F   пенсионер     0        158616   \n",
       "5  гражданский брак                 1      M   компаньон     0        255763   \n",
       "6   женат / замужем                 0      F   компаньон     0        240525   \n",
       "7   женат / замужем                 0      M   сотрудник     0        135823   \n",
       "8  гражданский брак                 1      F   сотрудник     0         95856   \n",
       "9   женат / замужем                 0      M   сотрудник     0        144425   \n",
       "\n",
       "                      purpose total_income_category          purpose_category  \n",
       "0               покупка жилья                     B  операции с недвижимостью  \n",
       "1     приобретение автомобиля                     C    операции с автомобилем  \n",
       "2               покупка жилья                     C  операции с недвижимостью  \n",
       "3  дополнительное образование                     B     получение образования  \n",
       "4             сыграть свадьбу                     C        проведение свадьбы  \n",
       "5               покупка жилья                     B  операции с недвижимостью  \n",
       "6           операции с жильем                     B  операции с недвижимостью  \n",
       "7                 образование                     C     получение образования  \n",
       "8       на проведение свадьбы                     C        проведение свадьбы  \n",
       "9     покупка жилья для семьи                     C  операции с недвижимостью  "
      ]
     },
     "execution_count": 22,
     "metadata": {},
     "output_type": "execute_result"
    }
   ],
   "source": [
    "data.head(10)"
   ]
  },
  {
   "cell_type": "code",
   "execution_count": 23,
   "id": "fa6de34a",
   "metadata": {},
   "outputs": [
    {
     "name": "stdout",
     "output_type": "stream",
     "text": [
      "<class 'pandas.core.frame.DataFrame'>\n",
      "Int64Index: 21331 entries, 0 to 21524\n",
      "Data columns (total 14 columns):\n",
      " #   Column                 Non-Null Count  Dtype  \n",
      "---  ------                 --------------  -----  \n",
      " 0   children               21331 non-null  int64  \n",
      " 1   days_employed          21331 non-null  float64\n",
      " 2   dob_years              21331 non-null  int64  \n",
      " 3   education              21331 non-null  object \n",
      " 4   education_id           21331 non-null  int64  \n",
      " 5   family_status          21331 non-null  object \n",
      " 6   family_status_id       21331 non-null  int64  \n",
      " 7   gender                 21331 non-null  object \n",
      " 8   income_type            21331 non-null  object \n",
      " 9   debt                   21331 non-null  int64  \n",
      " 10  total_income           21331 non-null  int64  \n",
      " 11  purpose                21331 non-null  object \n",
      " 12  total_income_category  21331 non-null  object \n",
      " 13  purpose_category       21331 non-null  object \n",
      "dtypes: float64(1), int64(6), object(7)\n",
      "memory usage: 2.4+ MB\n"
     ]
    }
   ],
   "source": [
    "data.info()"
   ]
  },
  {
   "cell_type": "markdown",
   "id": "82d4e781",
   "metadata": {},
   "source": [
    "Информация количестве детей хранится в столбце 'children', а в таблице 'debt' - имел ли задолженность по возврату кредитов (известно из документации). Сделаем таблицу, в которой сгруппируем 'children' и 'debt' для наглядности."
   ]
  },
  {
   "cell_type": "code",
   "execution_count": 24,
   "id": "fc871b6f",
   "metadata": {},
   "outputs": [
    {
     "data": {
      "text/html": [
       "<div>\n",
       "<style scoped>\n",
       "    .dataframe tbody tr th:only-of-type {\n",
       "        vertical-align: middle;\n",
       "    }\n",
       "\n",
       "    .dataframe tbody tr th {\n",
       "        vertical-align: top;\n",
       "    }\n",
       "\n",
       "    .dataframe thead th {\n",
       "        text-align: right;\n",
       "    }\n",
       "</style>\n",
       "<table border=\"1\" class=\"dataframe\">\n",
       "  <thead>\n",
       "    <tr style=\"text-align: right;\">\n",
       "      <th></th>\n",
       "      <th>count_children</th>\n",
       "      <th>sum_children</th>\n",
       "      <th>result_children</th>\n",
       "    </tr>\n",
       "    <tr>\n",
       "      <th>children</th>\n",
       "      <th></th>\n",
       "      <th></th>\n",
       "      <th></th>\n",
       "    </tr>\n",
       "  </thead>\n",
       "  <tbody>\n",
       "    <tr>\n",
       "      <th>4</th>\n",
       "      <td>41</td>\n",
       "      <td>4</td>\n",
       "      <td>0.097561</td>\n",
       "    </tr>\n",
       "    <tr>\n",
       "      <th>2</th>\n",
       "      <td>2052</td>\n",
       "      <td>194</td>\n",
       "      <td>0.094542</td>\n",
       "    </tr>\n",
       "    <tr>\n",
       "      <th>1</th>\n",
       "      <td>4808</td>\n",
       "      <td>444</td>\n",
       "      <td>0.092346</td>\n",
       "    </tr>\n",
       "    <tr>\n",
       "      <th>3</th>\n",
       "      <td>330</td>\n",
       "      <td>27</td>\n",
       "      <td>0.081818</td>\n",
       "    </tr>\n",
       "    <tr>\n",
       "      <th>0</th>\n",
       "      <td>14091</td>\n",
       "      <td>1063</td>\n",
       "      <td>0.075438</td>\n",
       "    </tr>\n",
       "    <tr>\n",
       "      <th>5</th>\n",
       "      <td>9</td>\n",
       "      <td>0</td>\n",
       "      <td>0.000000</td>\n",
       "    </tr>\n",
       "  </tbody>\n",
       "</table>\n",
       "</div>"
      ],
      "text/plain": [
       "          count_children  sum_children  result_children\n",
       "children                                               \n",
       "4                     41             4         0.097561\n",
       "2                   2052           194         0.094542\n",
       "1                   4808           444         0.092346\n",
       "3                    330            27         0.081818\n",
       "0                  14091          1063         0.075438\n",
       "5                      9             0         0.000000"
      ]
     },
     "execution_count": 24,
     "metadata": {},
     "output_type": "execute_result"
    }
   ],
   "source": [
    "child_debt = pd.DataFrame()\n",
    "child_debt['count_children'] = data.groupby('children')['debt'].count()\n",
    "child_debt['sum_children'] = data.groupby('children')['debt'].sum()\n",
    "child_debt['result_children'] = child_debt['sum_children'] / child_debt['count_children'] \n",
    "child_debt.sort_values('result_children', ascending=False)"
   ]
  },
  {
   "cell_type": "markdown",
   "id": "98127160",
   "metadata": {
    "deletable": false,
    "id": "3a6b99ec"
   },
   "source": [
    "**Вывод:** Создав новую таблицу, сгруппированную по столбцу 'children', мы можем увидеть, что люди у которых детей больше, становятся должниками чаще, чем люди без детей. Из выборки выбивается значения невозвратов людей с 5-ю и 4-мя детьми, т.к. мало данных про эти две группы (столбец count_children). Зависимость между количеством детей и возвратом кредита в срок есть: чем больше детей, тем выше степень невозврата кредита в срок."
   ]
  },
  {
   "cell_type": "markdown",
   "id": "109a8873",
   "metadata": {
    "deletable": false,
    "editable": false,
    "id": "97be82ca"
   },
   "source": [
    "#### 3.2 Есть ли зависимость между семейным положением и возвратом кредита в срок?"
   ]
  },
  {
   "cell_type": "markdown",
   "id": "b3c64729",
   "metadata": {
    "deletable": false,
    "id": "dc3f7ee8"
   },
   "source": [
    " Сделаем таблицу с корреляцией, в которой сгруппируем 'family_status' и 'debt' для наглядности."
   ]
  },
  {
   "cell_type": "code",
   "execution_count": 25,
   "id": "b32c60fd",
   "metadata": {},
   "outputs": [
    {
     "data": {
      "text/html": [
       "<div>\n",
       "<style scoped>\n",
       "    .dataframe tbody tr th:only-of-type {\n",
       "        vertical-align: middle;\n",
       "    }\n",
       "\n",
       "    .dataframe tbody tr th {\n",
       "        vertical-align: top;\n",
       "    }\n",
       "\n",
       "    .dataframe thead th {\n",
       "        text-align: right;\n",
       "    }\n",
       "</style>\n",
       "<table border=\"1\" class=\"dataframe\">\n",
       "  <thead>\n",
       "    <tr style=\"text-align: right;\">\n",
       "      <th></th>\n",
       "      <th>status_sum</th>\n",
       "      <th>status_count</th>\n",
       "      <th>result_status</th>\n",
       "    </tr>\n",
       "    <tr>\n",
       "      <th>family_status</th>\n",
       "      <th></th>\n",
       "      <th></th>\n",
       "      <th></th>\n",
       "    </tr>\n",
       "  </thead>\n",
       "  <tbody>\n",
       "    <tr>\n",
       "      <th>Не женат / не замужем</th>\n",
       "      <td>273</td>\n",
       "      <td>2796</td>\n",
       "      <td>0.097639</td>\n",
       "    </tr>\n",
       "    <tr>\n",
       "      <th>гражданский брак</th>\n",
       "      <td>385</td>\n",
       "      <td>4134</td>\n",
       "      <td>0.093130</td>\n",
       "    </tr>\n",
       "    <tr>\n",
       "      <th>женат / замужем</th>\n",
       "      <td>927</td>\n",
       "      <td>12261</td>\n",
       "      <td>0.075606</td>\n",
       "    </tr>\n",
       "    <tr>\n",
       "      <th>в разводе</th>\n",
       "      <td>84</td>\n",
       "      <td>1189</td>\n",
       "      <td>0.070648</td>\n",
       "    </tr>\n",
       "    <tr>\n",
       "      <th>вдовец / вдова</th>\n",
       "      <td>63</td>\n",
       "      <td>951</td>\n",
       "      <td>0.066246</td>\n",
       "    </tr>\n",
       "  </tbody>\n",
       "</table>\n",
       "</div>"
      ],
      "text/plain": [
       "                       status_sum  status_count  result_status\n",
       "family_status                                                 \n",
       "Не женат / не замужем         273          2796       0.097639\n",
       "гражданский брак              385          4134       0.093130\n",
       "женат / замужем               927         12261       0.075606\n",
       "в разводе                      84          1189       0.070648\n",
       "вдовец / вдова                 63           951       0.066246"
      ]
     },
     "execution_count": 25,
     "metadata": {},
     "output_type": "execute_result"
    }
   ],
   "source": [
    "status_debt = pd.DataFrame()\n",
    "status_debt['status_sum'] = data.groupby('family_status')['debt'].sum()\n",
    "status_debt['status_count'] = data.groupby('family_status')['debt'].count()\n",
    "status_debt['result_status'] = status_debt['status_sum'] / status_debt['status_count'] \n",
    "status_debt.sort_values('result_status', ascending=False)"
   ]
  },
  {
   "cell_type": "markdown",
   "id": "3baa203b",
   "metadata": {
    "deletable": false,
    "id": "1cef7837"
   },
   "source": [
    "**Вывод:** Хотелось бы получить больше данных про разницу между 'гражданским браком' и 'женат/замужем'. Если считать, что 'гражданский брак' в таблице имеет значение 'сожительство', то можно сделать такие выводы: люди, которые официально не подтвердили свои взаимоотношения чаще имеют просрочки по кредитам, чем люди, которые в браке. Однако разведенные и вдовцы чаще платят в срок, чем женатые и замужние. "
   ]
  },
  {
   "cell_type": "markdown",
   "id": "c7ad3dba",
   "metadata": {
    "deletable": false,
    "editable": false,
    "id": "1e8b2fca"
   },
   "source": [
    "#### 3.3 Есть ли зависимость между уровнем дохода и возвратом кредита в срок?"
   ]
  },
  {
   "cell_type": "markdown",
   "id": "1a980f89",
   "metadata": {},
   "source": [
    "Посмотрим корреляцию между уровнем дохода и возвратом кредита в срок."
   ]
  },
  {
   "cell_type": "code",
   "execution_count": 26,
   "id": "6b73e062",
   "metadata": {
    "deletable": false,
    "id": "cd7e3720"
   },
   "outputs": [
    {
     "data": {
      "text/html": [
       "<div>\n",
       "<style scoped>\n",
       "    .dataframe tbody tr th:only-of-type {\n",
       "        vertical-align: middle;\n",
       "    }\n",
       "\n",
       "    .dataframe tbody tr th {\n",
       "        vertical-align: top;\n",
       "    }\n",
       "\n",
       "    .dataframe thead th {\n",
       "        text-align: right;\n",
       "    }\n",
       "</style>\n",
       "<table border=\"1\" class=\"dataframe\">\n",
       "  <thead>\n",
       "    <tr style=\"text-align: right;\">\n",
       "      <th></th>\n",
       "      <th>income_sum</th>\n",
       "      <th>income_count</th>\n",
       "      <th>result_income</th>\n",
       "    </tr>\n",
       "    <tr>\n",
       "      <th>total_income_category</th>\n",
       "      <th></th>\n",
       "      <th></th>\n",
       "      <th></th>\n",
       "    </tr>\n",
       "  </thead>\n",
       "  <tbody>\n",
       "    <tr>\n",
       "      <th>E</th>\n",
       "      <td>2</td>\n",
       "      <td>22</td>\n",
       "      <td>0.090909</td>\n",
       "    </tr>\n",
       "    <tr>\n",
       "      <th>C</th>\n",
       "      <td>1353</td>\n",
       "      <td>15921</td>\n",
       "      <td>0.084982</td>\n",
       "    </tr>\n",
       "    <tr>\n",
       "      <th>A</th>\n",
       "      <td>2</td>\n",
       "      <td>25</td>\n",
       "      <td>0.080000</td>\n",
       "    </tr>\n",
       "    <tr>\n",
       "      <th>B</th>\n",
       "      <td>354</td>\n",
       "      <td>5014</td>\n",
       "      <td>0.070602</td>\n",
       "    </tr>\n",
       "    <tr>\n",
       "      <th>D</th>\n",
       "      <td>21</td>\n",
       "      <td>349</td>\n",
       "      <td>0.060172</td>\n",
       "    </tr>\n",
       "  </tbody>\n",
       "</table>\n",
       "</div>"
      ],
      "text/plain": [
       "                       income_sum  income_count  result_income\n",
       "total_income_category                                         \n",
       "E                               2            22       0.090909\n",
       "C                            1353         15921       0.084982\n",
       "A                               2            25       0.080000\n",
       "B                             354          5014       0.070602\n",
       "D                              21           349       0.060172"
      ]
     },
     "execution_count": 26,
     "metadata": {},
     "output_type": "execute_result"
    }
   ],
   "source": [
    "status_debt = pd.DataFrame()\n",
    "status_debt['income_sum'] = data.groupby('total_income_category')['debt'].sum()\n",
    "status_debt['income_count'] = data.groupby('total_income_category')['debt'].count()\n",
    "status_debt['result_income'] = status_debt['income_sum'] / status_debt['income_count'] \n",
    "status_debt.sort_values('result_income', ascending=False)"
   ]
  },
  {
   "cell_type": "markdown",
   "id": "e83f4405",
   "metadata": {
    "deletable": false,
    "id": "e8593def"
   },
   "source": [
    "**Вывод:** \n",
    "Распределение дохода по группам:\n",
    "- 0–30000 — `'E'`;\n",
    "- 30001–50000 — `'D'`;\n",
    "- 50001–200000 — `'C'`;\n",
    "- 200001–1000000 — `'B'`;\n",
    "- 1000001 и выше — `'A'`.\n",
    "\n",
    "Выборки из групп 'A' (максимальный доход) и 'E' (минимальный доход) мало для анализа по сравнению с данными из других групп. \n",
    "\n",
    "Берём группы 'C', 'B', 'D'. По этим группам нельзя сделать вывод, что между уровнем дохода и возвратом кредита в срок есть зависимость. "
   ]
  },
  {
   "cell_type": "markdown",
   "id": "b9ef5636",
   "metadata": {
    "deletable": false,
    "editable": false,
    "id": "99ecbd1f"
   },
   "source": [
    "#### 3.4 Как разные цели кредита влияют на его возврат в срок?"
   ]
  },
  {
   "cell_type": "code",
   "execution_count": 27,
   "id": "577fcf90",
   "metadata": {
    "deletable": false,
    "id": "2b687290"
   },
   "outputs": [
    {
     "data": {
      "text/html": [
       "<div>\n",
       "<style scoped>\n",
       "    .dataframe tbody tr th:only-of-type {\n",
       "        vertical-align: middle;\n",
       "    }\n",
       "\n",
       "    .dataframe tbody tr th {\n",
       "        vertical-align: top;\n",
       "    }\n",
       "\n",
       "    .dataframe thead th {\n",
       "        text-align: right;\n",
       "    }\n",
       "</style>\n",
       "<table border=\"1\" class=\"dataframe\">\n",
       "  <thead>\n",
       "    <tr style=\"text-align: right;\">\n",
       "      <th></th>\n",
       "      <th>purpose_sum</th>\n",
       "      <th>purpose_count</th>\n",
       "      <th>result_purpose</th>\n",
       "    </tr>\n",
       "    <tr>\n",
       "      <th>purpose_category</th>\n",
       "      <th></th>\n",
       "      <th></th>\n",
       "      <th></th>\n",
       "    </tr>\n",
       "  </thead>\n",
       "  <tbody>\n",
       "    <tr>\n",
       "      <th>операции с автомобилем</th>\n",
       "      <td>400</td>\n",
       "      <td>4279</td>\n",
       "      <td>0.093480</td>\n",
       "    </tr>\n",
       "    <tr>\n",
       "      <th>получение образования</th>\n",
       "      <td>369</td>\n",
       "      <td>3988</td>\n",
       "      <td>0.092528</td>\n",
       "    </tr>\n",
       "    <tr>\n",
       "      <th>проведение свадьбы</th>\n",
       "      <td>183</td>\n",
       "      <td>2313</td>\n",
       "      <td>0.079118</td>\n",
       "    </tr>\n",
       "    <tr>\n",
       "      <th>операции с недвижимостью</th>\n",
       "      <td>780</td>\n",
       "      <td>10751</td>\n",
       "      <td>0.072551</td>\n",
       "    </tr>\n",
       "  </tbody>\n",
       "</table>\n",
       "</div>"
      ],
      "text/plain": [
       "                          purpose_sum  purpose_count  result_purpose\n",
       "purpose_category                                                    \n",
       "операции с автомобилем            400           4279        0.093480\n",
       "получение образования             369           3988        0.092528\n",
       "проведение свадьбы                183           2313        0.079118\n",
       "операции с недвижимостью          780          10751        0.072551"
      ]
     },
     "execution_count": 27,
     "metadata": {},
     "output_type": "execute_result"
    }
   ],
   "source": [
    "purpose_debt = pd.DataFrame()\n",
    "purpose_debt['purpose_sum'] = data.groupby('purpose_category')['debt'].sum()\n",
    "purpose_debt['purpose_count'] = data.groupby('purpose_category')['debt'].count()\n",
    "purpose_debt['result_purpose'] = purpose_debt['purpose_sum'] / purpose_debt['purpose_count'] \n",
    "purpose_debt.sort_values('result_purpose', ascending=False)"
   ]
  },
  {
   "cell_type": "markdown",
   "id": "a6254964",
   "metadata": {
    "deletable": false,
    "id": "b4bb2ce6"
   },
   "source": [
    "**Вывод:** Люди, берущие кредит на автомобиль или на образование, чаще имеют задолжность по кредиту, чем те, кто берет кредит на проведение свадьбы и операции с недвижимостью."
   ]
  },
  {
   "cell_type": "markdown",
   "id": "eb0cb1fb",
   "metadata": {
    "deletable": false,
    "editable": false,
    "id": "09c3ac4c"
   },
   "source": [
    "#### 3.5 Приведите возможные причины появления пропусков в исходных данных."
   ]
  },
  {
   "cell_type": "markdown",
   "id": "ed6b26c4",
   "metadata": {
    "deletable": false,
    "id": "9da2ceda"
   },
   "source": [
    "*Ответ:* Пропуски были в столбце days_employed и total_income. Они могли появиться, если человек работал \"в черную\", является пенсионером или безработным (домохозяйки тоже входят в список безработных). "
   ]
  },
  {
   "cell_type": "markdown",
   "id": "76d6b9b5",
   "metadata": {
    "deletable": false,
    "editable": false,
    "id": "7b0487d6"
   },
   "source": [
    "#### 3.6 Объясните, почему заполнить пропуски медианным значением — лучшее решение для количественных переменных."
   ]
  },
  {
   "cell_type": "markdown",
   "id": "9d000981",
   "metadata": {
    "deletable": false,
    "id": "7ecf2b8e"
   },
   "source": [
    "*Ответ:* Игнорирование или удаление данных возможно, если эти данные не влияют на результат. Заранее предуагадать, повлияют данные на результат или нет, невозможно. Количественные значения необходимо заполнять медианным значением, тк при заполнении средним значением учитываются и аномальные значения (слишком большие или, наоборот, слишком маленькие количественные значения), которые искажают результаты исследований."
   ]
  },
  {
   "cell_type": "markdown",
   "id": "1abadf2d",
   "metadata": {
    "deletable": false,
    "editable": false,
    "id": "6db5255a"
   },
   "source": [
    "### Шаг 4: общий вывод."
   ]
  },
  {
   "cell_type": "markdown",
   "id": "9ec1e037",
   "metadata": {
    "deletable": false,
    "id": "bad65432"
   },
   "source": [
    "**Общий вывод:** Для анализа платежеспособности клиентов были проанализированы следующие факторы:\n",
    "1. количество детей\n",
    "2. семейное положение\n",
    "3. уровень дохода\n",
    "4. цель взятия кредита\n",
    "\n",
    "Необходимо было найти корреляцию между наличием задолжности и вышеперечисленными факторами.\n",
    "\n",
    "1. Влияет ли **количество детей** на кредитоспособность?\n",
    "\n",
    "Да, влияет. Клиенты, у которых нет детей, более ответственны, чем клиенты с детьми.\n",
    "\n",
    "2. Влияет ли **семейное положение** на возврат кредита в срок?\n",
    "\n",
    "Да, влияет. Люди, которые никогда не были в браке, чаще отдают кредит в срок, чем люди в браке.\n",
    "\n",
    "3. Влияет ли **уровень дохода** на возврат кредита в срок?\n",
    "\n",
    "Нет, не влияет. Нельзя провести корреляцию между уровнем дохода и кредитоспособностью.\n",
    "\n",
    "4. Влияет ли **цель взятия кредита** на кредитоспособность?\n",
    "\n",
    "Да, влияет. Люди, которые берут кредит на проведение свадьбы или на операции с недвижимостью, отдают кредит в срок чаще, чем люди, которые берут кредит на операции с автомобилем или на оплату обучения. \n",
    "\n",
    "Таким образом, \"идеальный\" кредитополучатель для банка — человек, который **никогда не был в браке**, **без детей**, а цель его кредита — **операции с недвижимостью** или **проведение свадьбы**. "
   ]
  }
 ],
 "metadata": {
  "ExecuteTimeLog": [
   {
    "duration": 3,
    "start_time": "2022-11-11T08:21:39.520Z"
   },
   {
    "duration": 53,
    "start_time": "2022-11-11T08:52:44.896Z"
   },
   {
    "duration": 534,
    "start_time": "2022-11-11T08:52:55.027Z"
   },
   {
    "duration": 23,
    "start_time": "2022-11-11T08:52:55.563Z"
   },
   {
    "duration": 19,
    "start_time": "2022-11-11T08:52:55.587Z"
   },
   {
    "duration": 14,
    "start_time": "2022-11-11T08:52:55.609Z"
   },
   {
    "duration": 36,
    "start_time": "2022-11-11T08:52:55.625Z"
   },
   {
    "duration": 4,
    "start_time": "2022-11-11T08:52:55.663Z"
   },
   {
    "duration": 15,
    "start_time": "2022-11-11T08:52:55.669Z"
   },
   {
    "duration": 5,
    "start_time": "2022-11-11T08:52:55.686Z"
   },
   {
    "duration": 36,
    "start_time": "2022-11-11T08:52:55.693Z"
   },
   {
    "duration": 7,
    "start_time": "2022-11-11T08:52:55.732Z"
   },
   {
    "duration": 41,
    "start_time": "2022-11-11T08:52:55.741Z"
   },
   {
    "duration": 10,
    "start_time": "2022-11-11T08:52:55.783Z"
   },
   {
    "duration": 7,
    "start_time": "2022-11-11T08:52:55.795Z"
   },
   {
    "duration": 17,
    "start_time": "2022-11-11T08:52:55.823Z"
   },
   {
    "duration": 42,
    "start_time": "2022-11-11T08:52:55.842Z"
   },
   {
    "duration": 25,
    "start_time": "2022-11-11T08:52:55.887Z"
   },
   {
    "duration": 4,
    "start_time": "2022-11-11T08:52:55.914Z"
   },
   {
    "duration": 15,
    "start_time": "2022-11-11T08:52:55.919Z"
   },
   {
    "duration": 9,
    "start_time": "2022-11-11T08:52:55.936Z"
   },
   {
    "duration": 10,
    "start_time": "2022-11-11T08:52:55.947Z"
   },
   {
    "duration": 26,
    "start_time": "2022-11-11T08:52:55.959Z"
   },
   {
    "duration": 18,
    "start_time": "2022-11-11T08:52:55.987Z"
   },
   {
    "duration": 5,
    "start_time": "2022-11-11T08:52:56.006Z"
   },
   {
    "duration": 7,
    "start_time": "2022-11-11T08:52:56.023Z"
   },
   {
    "duration": 16,
    "start_time": "2022-11-11T11:07:27.640Z"
   },
   {
    "duration": 17,
    "start_time": "2022-11-11T11:08:29.847Z"
   },
   {
    "duration": 20,
    "start_time": "2022-11-11T11:14:44.107Z"
   },
   {
    "duration": 8,
    "start_time": "2022-11-11T11:16:36.495Z"
   },
   {
    "duration": 13,
    "start_time": "2022-11-11T11:16:48.186Z"
   },
   {
    "duration": 28,
    "start_time": "2022-11-11T11:17:30.668Z"
   },
   {
    "duration": 25,
    "start_time": "2022-11-11T11:17:35.760Z"
   },
   {
    "duration": 451,
    "start_time": "2022-11-11T11:17:45.482Z"
   },
   {
    "duration": 25,
    "start_time": "2022-11-11T11:17:45.936Z"
   },
   {
    "duration": 21,
    "start_time": "2022-11-11T11:17:45.963Z"
   },
   {
    "duration": 11,
    "start_time": "2022-11-11T11:17:45.987Z"
   },
   {
    "duration": 54,
    "start_time": "2022-11-11T11:17:46.000Z"
   },
   {
    "duration": 3,
    "start_time": "2022-11-11T11:17:46.056Z"
   },
   {
    "duration": 13,
    "start_time": "2022-11-11T11:17:46.061Z"
   },
   {
    "duration": 5,
    "start_time": "2022-11-11T11:17:46.076Z"
   },
   {
    "duration": 21,
    "start_time": "2022-11-11T11:17:46.083Z"
   },
   {
    "duration": 5,
    "start_time": "2022-11-11T11:17:46.123Z"
   },
   {
    "duration": 61,
    "start_time": "2022-11-11T11:17:46.130Z"
   },
   {
    "duration": 11,
    "start_time": "2022-11-11T11:17:46.193Z"
   },
   {
    "duration": 6,
    "start_time": "2022-11-11T11:17:46.206Z"
   },
   {
    "duration": 42,
    "start_time": "2022-11-11T11:17:46.214Z"
   },
   {
    "duration": 28,
    "start_time": "2022-11-11T11:17:46.257Z"
   },
   {
    "duration": 19,
    "start_time": "2022-11-11T11:17:46.287Z"
   },
   {
    "duration": 4,
    "start_time": "2022-11-11T11:17:46.308Z"
   },
   {
    "duration": 14,
    "start_time": "2022-11-11T11:17:46.314Z"
   },
   {
    "duration": 10,
    "start_time": "2022-11-11T11:17:46.330Z"
   },
   {
    "duration": 5,
    "start_time": "2022-11-11T11:17:46.342Z"
   },
   {
    "duration": 13,
    "start_time": "2022-11-11T11:17:46.348Z"
   },
   {
    "duration": 17,
    "start_time": "2022-11-11T11:17:46.363Z"
   },
   {
    "duration": 18,
    "start_time": "2022-11-11T11:17:46.382Z"
   },
   {
    "duration": 13,
    "start_time": "2022-11-11T11:17:46.422Z"
   },
   {
    "duration": 3,
    "start_time": "2022-11-11T11:17:46.436Z"
   },
   {
    "duration": 7,
    "start_time": "2022-11-11T11:17:46.440Z"
   },
   {
    "duration": 14,
    "start_time": "2022-11-11T11:18:56.193Z"
   },
   {
    "duration": 14,
    "start_time": "2022-11-11T11:18:58.162Z"
   },
   {
    "duration": 65,
    "start_time": "2022-11-11T11:20:09.963Z"
   },
   {
    "duration": 9,
    "start_time": "2022-11-11T11:20:15.942Z"
   },
   {
    "duration": 14,
    "start_time": "2022-11-11T11:20:30.223Z"
   },
   {
    "duration": 15,
    "start_time": "2022-11-11T11:32:29.473Z"
   },
   {
    "duration": 50,
    "start_time": "2022-11-11T22:00:17.215Z"
   },
   {
    "duration": 1113,
    "start_time": "2022-11-11T22:00:33.726Z"
   },
   {
    "duration": 30,
    "start_time": "2022-11-11T22:00:34.844Z"
   },
   {
    "duration": 24,
    "start_time": "2022-11-11T22:00:34.877Z"
   },
   {
    "duration": 22,
    "start_time": "2022-11-11T22:00:34.904Z"
   },
   {
    "duration": 76,
    "start_time": "2022-11-11T22:00:34.929Z"
   },
   {
    "duration": 5,
    "start_time": "2022-11-11T22:00:35.007Z"
   },
   {
    "duration": 60,
    "start_time": "2022-11-11T22:00:35.013Z"
   },
   {
    "duration": 31,
    "start_time": "2022-11-11T22:00:35.076Z"
   },
   {
    "duration": 46,
    "start_time": "2022-11-11T22:00:35.109Z"
   },
   {
    "duration": 33,
    "start_time": "2022-11-11T22:00:35.157Z"
   },
   {
    "duration": 65,
    "start_time": "2022-11-11T22:00:35.192Z"
   },
   {
    "duration": 12,
    "start_time": "2022-11-11T22:00:35.259Z"
   },
   {
    "duration": 15,
    "start_time": "2022-11-11T22:00:35.273Z"
   },
   {
    "duration": 30,
    "start_time": "2022-11-11T22:00:35.291Z"
   },
   {
    "duration": 37,
    "start_time": "2022-11-11T22:00:35.322Z"
   },
   {
    "duration": 17,
    "start_time": "2022-11-11T22:00:35.360Z"
   },
   {
    "duration": 9,
    "start_time": "2022-11-11T22:00:35.379Z"
   },
   {
    "duration": 21,
    "start_time": "2022-11-11T22:00:35.389Z"
   },
   {
    "duration": 15,
    "start_time": "2022-11-11T22:00:35.411Z"
   },
   {
    "duration": 22,
    "start_time": "2022-11-11T22:00:35.427Z"
   },
   {
    "duration": 43,
    "start_time": "2022-11-11T22:00:35.451Z"
   },
   {
    "duration": 40,
    "start_time": "2022-11-11T22:00:35.496Z"
   },
   {
    "duration": 40,
    "start_time": "2022-11-11T22:00:35.538Z"
   },
   {
    "duration": 42,
    "start_time": "2022-11-11T22:00:35.580Z"
   },
   {
    "duration": 780,
    "start_time": "2022-11-11T22:00:35.623Z"
   },
   {
    "duration": 0,
    "start_time": "2022-11-11T22:00:36.404Z"
   },
   {
    "duration": 0,
    "start_time": "2022-11-11T22:00:36.406Z"
   },
   {
    "duration": 757,
    "start_time": "2022-11-11T22:00:41.016Z"
   },
   {
    "duration": 975,
    "start_time": "2022-11-11T22:01:16.783Z"
   },
   {
    "duration": 18,
    "start_time": "2022-11-11T22:01:54.350Z"
   },
   {
    "duration": 8,
    "start_time": "2022-11-11T22:11:41.278Z"
   },
   {
    "duration": 10,
    "start_time": "2022-11-11T22:11:59.455Z"
   },
   {
    "duration": 459,
    "start_time": "2022-11-11T22:12:19.422Z"
   },
   {
    "duration": 20,
    "start_time": "2022-11-11T22:12:19.883Z"
   },
   {
    "duration": 21,
    "start_time": "2022-11-11T22:12:19.904Z"
   },
   {
    "duration": 11,
    "start_time": "2022-11-11T22:12:19.926Z"
   },
   {
    "duration": 36,
    "start_time": "2022-11-11T22:12:19.939Z"
   },
   {
    "duration": 3,
    "start_time": "2022-11-11T22:12:19.976Z"
   },
   {
    "duration": 10,
    "start_time": "2022-11-11T22:12:19.980Z"
   },
   {
    "duration": 3,
    "start_time": "2022-11-11T22:12:19.992Z"
   },
   {
    "duration": 8,
    "start_time": "2022-11-11T22:12:19.997Z"
   },
   {
    "duration": 20,
    "start_time": "2022-11-11T22:12:20.007Z"
   },
   {
    "duration": 51,
    "start_time": "2022-11-11T22:12:20.028Z"
   },
   {
    "duration": 9,
    "start_time": "2022-11-11T22:12:20.080Z"
   },
   {
    "duration": 32,
    "start_time": "2022-11-11T22:12:20.091Z"
   },
   {
    "duration": 13,
    "start_time": "2022-11-11T22:12:20.124Z"
   },
   {
    "duration": 20,
    "start_time": "2022-11-11T22:12:20.138Z"
   },
   {
    "duration": 15,
    "start_time": "2022-11-11T22:12:20.159Z"
   },
   {
    "duration": 8,
    "start_time": "2022-11-11T22:12:20.175Z"
   },
   {
    "duration": 13,
    "start_time": "2022-11-11T22:12:20.184Z"
   },
   {
    "duration": 8,
    "start_time": "2022-11-11T22:12:20.198Z"
   },
   {
    "duration": 5,
    "start_time": "2022-11-11T22:12:20.207Z"
   },
   {
    "duration": 32,
    "start_time": "2022-11-11T22:12:20.213Z"
   },
   {
    "duration": 13,
    "start_time": "2022-11-11T22:12:20.246Z"
   },
   {
    "duration": 23,
    "start_time": "2022-11-11T22:12:20.261Z"
   },
   {
    "duration": 13,
    "start_time": "2022-11-11T22:12:20.286Z"
   },
   {
    "duration": 71,
    "start_time": "2022-11-11T22:12:20.301Z"
   },
   {
    "duration": 0,
    "start_time": "2022-11-11T22:12:20.373Z"
   },
   {
    "duration": 0,
    "start_time": "2022-11-11T22:12:20.375Z"
   },
   {
    "duration": 15,
    "start_time": "2022-11-11T22:12:55.159Z"
   },
   {
    "duration": 43,
    "start_time": "2022-11-12T14:43:40.119Z"
   },
   {
    "duration": 462,
    "start_time": "2022-11-12T14:43:47.612Z"
   },
   {
    "duration": 19,
    "start_time": "2022-11-12T14:43:48.076Z"
   },
   {
    "duration": 16,
    "start_time": "2022-11-12T14:43:48.097Z"
   },
   {
    "duration": 15,
    "start_time": "2022-11-12T14:43:48.115Z"
   },
   {
    "duration": 50,
    "start_time": "2022-11-12T14:43:48.131Z"
   },
   {
    "duration": 4,
    "start_time": "2022-11-12T14:43:48.183Z"
   },
   {
    "duration": 9,
    "start_time": "2022-11-12T14:43:48.189Z"
   },
   {
    "duration": 4,
    "start_time": "2022-11-12T14:43:48.200Z"
   },
   {
    "duration": 9,
    "start_time": "2022-11-12T14:43:48.206Z"
   },
   {
    "duration": 4,
    "start_time": "2022-11-12T14:43:48.219Z"
   },
   {
    "duration": 56,
    "start_time": "2022-11-12T14:43:48.225Z"
   },
   {
    "duration": 9,
    "start_time": "2022-11-12T14:43:48.282Z"
   },
   {
    "duration": 6,
    "start_time": "2022-11-12T14:43:48.292Z"
   },
   {
    "duration": 12,
    "start_time": "2022-11-12T14:43:48.299Z"
   },
   {
    "duration": 20,
    "start_time": "2022-11-12T14:43:48.313Z"
   },
   {
    "duration": 15,
    "start_time": "2022-11-12T14:43:48.335Z"
   },
   {
    "duration": 3,
    "start_time": "2022-11-12T14:43:48.351Z"
   },
   {
    "duration": 30,
    "start_time": "2022-11-12T14:43:48.355Z"
   },
   {
    "duration": 11,
    "start_time": "2022-11-12T14:43:48.387Z"
   },
   {
    "duration": 4,
    "start_time": "2022-11-12T14:43:48.399Z"
   },
   {
    "duration": 14,
    "start_time": "2022-11-12T14:43:48.405Z"
   },
   {
    "duration": 14,
    "start_time": "2022-11-12T14:43:48.420Z"
   },
   {
    "duration": 19,
    "start_time": "2022-11-12T14:43:48.436Z"
   },
   {
    "duration": 27,
    "start_time": "2022-11-12T14:43:48.456Z"
   },
   {
    "duration": 68,
    "start_time": "2022-11-12T14:43:48.484Z"
   },
   {
    "duration": 0,
    "start_time": "2022-11-12T14:43:48.554Z"
   },
   {
    "duration": 0,
    "start_time": "2022-11-12T14:43:48.555Z"
   },
   {
    "duration": 16,
    "start_time": "2022-11-12T14:44:28.978Z"
   },
   {
    "duration": 14,
    "start_time": "2022-11-12T14:44:42.305Z"
   },
   {
    "duration": 14,
    "start_time": "2022-11-12T14:45:29.108Z"
   },
   {
    "duration": 14,
    "start_time": "2022-11-12T14:45:41.810Z"
   },
   {
    "duration": 16,
    "start_time": "2022-11-12T14:45:46.344Z"
   },
   {
    "duration": 29,
    "start_time": "2022-11-12T14:58:49.068Z"
   },
   {
    "duration": 12,
    "start_time": "2022-11-12T14:58:55.843Z"
   },
   {
    "duration": 16,
    "start_time": "2022-11-12T15:12:57.609Z"
   },
   {
    "duration": 8,
    "start_time": "2022-11-12T15:22:47.245Z"
   },
   {
    "duration": 18,
    "start_time": "2022-11-12T15:23:28.824Z"
   },
   {
    "duration": 22,
    "start_time": "2022-11-12T15:23:41.361Z"
   },
   {
    "duration": 15,
    "start_time": "2022-11-12T15:44:05.416Z"
   },
   {
    "duration": 16,
    "start_time": "2022-11-12T15:44:39.134Z"
   },
   {
    "duration": 16,
    "start_time": "2022-11-12T15:45:56.662Z"
   },
   {
    "duration": 15,
    "start_time": "2022-11-12T15:49:41.165Z"
   },
   {
    "duration": 17,
    "start_time": "2022-11-12T15:49:59.524Z"
   },
   {
    "duration": 13,
    "start_time": "2022-11-12T15:50:17.595Z"
   },
   {
    "duration": 17,
    "start_time": "2022-11-12T15:50:36.813Z"
   },
   {
    "duration": 15,
    "start_time": "2022-11-12T15:50:39.722Z"
   },
   {
    "duration": 18,
    "start_time": "2022-11-12T15:55:37.162Z"
   },
   {
    "duration": 14,
    "start_time": "2022-11-12T15:55:41.382Z"
   },
   {
    "duration": 1097,
    "start_time": "2022-11-12T16:43:23.849Z"
   },
   {
    "duration": 17,
    "start_time": "2022-11-12T16:43:43.599Z"
   },
   {
    "duration": 17,
    "start_time": "2022-11-12T16:44:25.900Z"
   },
   {
    "duration": 70,
    "start_time": "2022-11-12T16:46:08.720Z"
   },
   {
    "duration": 427,
    "start_time": "2022-11-12T16:54:37.024Z"
   },
   {
    "duration": 23,
    "start_time": "2022-11-12T16:54:37.453Z"
   },
   {
    "duration": 17,
    "start_time": "2022-11-12T16:54:37.478Z"
   },
   {
    "duration": 13,
    "start_time": "2022-11-12T16:54:37.497Z"
   },
   {
    "duration": 44,
    "start_time": "2022-11-12T16:54:37.512Z"
   },
   {
    "duration": 20,
    "start_time": "2022-11-12T16:54:37.558Z"
   },
   {
    "duration": 13,
    "start_time": "2022-11-12T16:54:37.580Z"
   },
   {
    "duration": 6,
    "start_time": "2022-11-12T16:54:37.595Z"
   },
   {
    "duration": 14,
    "start_time": "2022-11-12T16:54:37.602Z"
   },
   {
    "duration": 5,
    "start_time": "2022-11-12T16:54:37.618Z"
   },
   {
    "duration": 80,
    "start_time": "2022-11-12T16:54:37.625Z"
   },
   {
    "duration": 10,
    "start_time": "2022-11-12T16:54:37.707Z"
   },
   {
    "duration": 7,
    "start_time": "2022-11-12T16:54:37.718Z"
   },
   {
    "duration": 18,
    "start_time": "2022-11-12T16:54:37.727Z"
   },
   {
    "duration": 31,
    "start_time": "2022-11-12T16:54:37.747Z"
   },
   {
    "duration": 15,
    "start_time": "2022-11-12T16:54:37.779Z"
   },
   {
    "duration": 3,
    "start_time": "2022-11-12T16:54:37.796Z"
   },
   {
    "duration": 15,
    "start_time": "2022-11-12T16:54:37.801Z"
   },
   {
    "duration": 8,
    "start_time": "2022-11-12T16:54:37.818Z"
   },
   {
    "duration": 4,
    "start_time": "2022-11-12T16:54:37.828Z"
   },
   {
    "duration": 11,
    "start_time": "2022-11-12T16:54:37.833Z"
   },
   {
    "duration": 37,
    "start_time": "2022-11-12T16:54:37.845Z"
   },
   {
    "duration": 17,
    "start_time": "2022-11-12T16:54:37.884Z"
   },
   {
    "duration": 15,
    "start_time": "2022-11-12T16:54:37.903Z"
   },
   {
    "duration": 17,
    "start_time": "2022-11-12T16:54:37.920Z"
   },
   {
    "duration": 47,
    "start_time": "2022-11-12T16:54:37.938Z"
   },
   {
    "duration": 16,
    "start_time": "2022-11-12T16:54:37.987Z"
   },
   {
    "duration": 48,
    "start_time": "2022-11-12T19:38:16.822Z"
   },
   {
    "duration": 467,
    "start_time": "2022-11-12T19:38:25.469Z"
   },
   {
    "duration": 22,
    "start_time": "2022-11-12T19:38:25.938Z"
   },
   {
    "duration": 15,
    "start_time": "2022-11-12T19:38:25.961Z"
   },
   {
    "duration": 9,
    "start_time": "2022-11-12T19:38:25.978Z"
   },
   {
    "duration": 59,
    "start_time": "2022-11-12T19:38:25.989Z"
   },
   {
    "duration": 3,
    "start_time": "2022-11-12T19:38:26.050Z"
   },
   {
    "duration": 13,
    "start_time": "2022-11-12T19:38:26.055Z"
   },
   {
    "duration": 4,
    "start_time": "2022-11-12T19:38:26.071Z"
   },
   {
    "duration": 12,
    "start_time": "2022-11-12T19:38:26.077Z"
   },
   {
    "duration": 4,
    "start_time": "2022-11-12T19:38:26.091Z"
   },
   {
    "duration": 70,
    "start_time": "2022-11-12T19:38:26.096Z"
   },
   {
    "duration": 10,
    "start_time": "2022-11-12T19:38:26.169Z"
   },
   {
    "duration": 22,
    "start_time": "2022-11-12T19:38:26.180Z"
   },
   {
    "duration": 22,
    "start_time": "2022-11-12T19:38:26.207Z"
   },
   {
    "duration": 36,
    "start_time": "2022-11-12T19:38:26.232Z"
   },
   {
    "duration": 21,
    "start_time": "2022-11-12T19:38:26.271Z"
   },
   {
    "duration": 6,
    "start_time": "2022-11-12T19:38:26.294Z"
   },
   {
    "duration": 21,
    "start_time": "2022-11-12T19:38:26.302Z"
   },
   {
    "duration": 10,
    "start_time": "2022-11-12T19:38:26.325Z"
   },
   {
    "duration": 20,
    "start_time": "2022-11-12T19:38:26.337Z"
   },
   {
    "duration": 22,
    "start_time": "2022-11-12T19:38:26.359Z"
   },
   {
    "duration": 51,
    "start_time": "2022-11-12T19:38:26.383Z"
   },
   {
    "duration": 31,
    "start_time": "2022-11-12T19:38:26.435Z"
   },
   {
    "duration": 26,
    "start_time": "2022-11-12T19:38:26.468Z"
   },
   {
    "duration": 15,
    "start_time": "2022-11-12T19:38:26.495Z"
   },
   {
    "duration": 32,
    "start_time": "2022-11-12T19:38:26.513Z"
   },
   {
    "duration": 14,
    "start_time": "2022-11-12T19:38:26.547Z"
   },
   {
    "duration": 15,
    "start_time": "2022-11-12T19:38:26.563Z"
   },
   {
    "duration": 721,
    "start_time": "2022-11-14T10:12:08.475Z"
   },
   {
    "duration": 26,
    "start_time": "2022-11-14T10:12:09.198Z"
   },
   {
    "duration": 17,
    "start_time": "2022-11-14T10:12:09.225Z"
   },
   {
    "duration": 9,
    "start_time": "2022-11-14T10:12:09.244Z"
   },
   {
    "duration": 34,
    "start_time": "2022-11-14T10:12:09.255Z"
   },
   {
    "duration": 3,
    "start_time": "2022-11-14T10:12:09.291Z"
   },
   {
    "duration": 9,
    "start_time": "2022-11-14T10:12:09.295Z"
   },
   {
    "duration": 27,
    "start_time": "2022-11-14T10:12:09.305Z"
   },
   {
    "duration": 10,
    "start_time": "2022-11-14T10:12:09.333Z"
   },
   {
    "duration": 5,
    "start_time": "2022-11-14T10:12:09.345Z"
   },
   {
    "duration": 34,
    "start_time": "2022-11-14T10:12:09.351Z"
   },
   {
    "duration": 9,
    "start_time": "2022-11-14T10:12:09.386Z"
   },
   {
    "duration": 3,
    "start_time": "2022-11-14T10:12:09.397Z"
   },
   {
    "duration": 33,
    "start_time": "2022-11-14T10:12:09.403Z"
   },
   {
    "duration": 18,
    "start_time": "2022-11-14T10:12:09.438Z"
   },
   {
    "duration": 15,
    "start_time": "2022-11-14T10:12:09.457Z"
   },
   {
    "duration": 3,
    "start_time": "2022-11-14T10:12:09.473Z"
   },
   {
    "duration": 17,
    "start_time": "2022-11-14T10:12:09.478Z"
   },
   {
    "duration": 8,
    "start_time": "2022-11-14T10:12:09.497Z"
   },
   {
    "duration": 23,
    "start_time": "2022-11-14T10:12:09.506Z"
   },
   {
    "duration": 18,
    "start_time": "2022-11-14T10:12:09.531Z"
   },
   {
    "duration": 14,
    "start_time": "2022-11-14T10:12:09.551Z"
   },
   {
    "duration": 16,
    "start_time": "2022-11-14T10:12:09.566Z"
   },
   {
    "duration": 11,
    "start_time": "2022-11-14T10:12:09.584Z"
   },
   {
    "duration": 14,
    "start_time": "2022-11-14T10:12:09.596Z"
   },
   {
    "duration": 28,
    "start_time": "2022-11-14T10:12:09.611Z"
   },
   {
    "duration": 15,
    "start_time": "2022-11-14T10:12:09.641Z"
   }
  ],
  "colab": {
   "name": "dpp_template_part2.ipynb",
   "provenance": []
  },
  "kernelspec": {
   "display_name": "Python 3 (ipykernel)",
   "language": "python",
   "name": "python3"
  },
  "language_info": {
   "codemirror_mode": {
    "name": "ipython",
    "version": 3
   },
   "file_extension": ".py",
   "mimetype": "text/x-python",
   "name": "python",
   "nbconvert_exporter": "python",
   "pygments_lexer": "ipython3",
   "version": "3.9.5"
  },
  "toc": {
   "base_numbering": 1,
   "nav_menu": {},
   "number_sections": true,
   "sideBar": true,
   "skip_h1_title": true,
   "title_cell": "Table of Contents",
   "title_sidebar": "Contents",
   "toc_cell": false,
   "toc_position": {
    "height": "calc(100% - 180px)",
    "left": "10px",
    "top": "150px",
    "width": "284.933px"
   },
   "toc_section_display": true,
   "toc_window_display": true
  }
 },
 "nbformat": 4,
 "nbformat_minor": 5
}
