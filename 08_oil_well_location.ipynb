{
 "cells": [
  {
   "cell_type": "markdown",
   "metadata": {},
   "source": [
    "# Выбор локации для скважины"
   ]
  },
  {
   "cell_type": "markdown",
   "metadata": {},
   "source": [
    "Допустим, вы работаете в добывающей компании «ГлавРосГосНефть». Нужно решить, где бурить новую скважину.\n",
    "\n",
    "Вам предоставлены пробы нефти в трёх регионах: в каждом 10 000 месторождений, где измерили качество нефти и объём её запасов. Постройте модель машинного обучения, которая поможет определить регион, где добыча принесёт наибольшую прибыль. Проанализируйте возможную прибыль и риски техникой *Bootstrap.*\n",
    "\n",
    "Шаги для выбора локации:\n",
    "\n",
    "- В избранном регионе ищут месторождения, для каждого определяют значения признаков;\n",
    "- Строят модель и оценивают объём запасов;\n",
    "- Выбирают месторождения с самым высокими оценками значений. Количество месторождений зависит от бюджета компании и стоимости разработки одной скважины;\n",
    "- Прибыль равна суммарной прибыли отобранных месторождений."
   ]
  },
  {
   "cell_type": "markdown",
   "metadata": {},
   "source": [
    "## Описание данных"
   ]
  },
  {
   "cell_type": "markdown",
   "metadata": {},
   "source": [
    "Данные геологоразведки трёх регионов находятся в файлах: \n",
    "\n",
    "- geo_data_0.csv\n",
    "- geo_data_1.csv\n",
    "- geo_data_2.csv \n",
    "\n",
    "Что хранится в столбцах:\n",
    " - id — уникальный идентификатор скважины;\n",
    " - f0, f1, f2 — три признака точек (неважно, что они означают, но сами признаки значимы);\n",
    " - product — объём запасов в скважине (тыс. баррелей)."
   ]
  },
  {
   "cell_type": "markdown",
   "metadata": {},
   "source": [
    "## Загрузка и подготовка данных"
   ]
  },
  {
   "cell_type": "code",
   "execution_count": 1,
   "metadata": {},
   "outputs": [],
   "source": [
    "import matplotlib.pyplot as plt\n",
    "import numpy as np\n",
    "import pandas as pd\n",
    "import seaborn as sns\n",
    "from sklearn.model_selection import train_test_split\n",
    "from sklearn.linear_model import LinearRegression\n",
    "from sklearn.metrics import mean_squared_error\n",
    "from sklearn.preprocessing import StandardScaler\n",
    "from sklearn.utils import shuffle\n",
    "import warnings\n",
    "warnings.filterwarnings('ignore')"
   ]
  },
  {
   "cell_type": "markdown",
   "metadata": {},
   "source": [
    "<div class=\"alert alert-info\"> Спасибо большое!! Полезно, а то как раз думала, как можно побольше сделать</div>"
   ]
  },
  {
   "cell_type": "code",
   "execution_count": 2,
   "metadata": {},
   "outputs": [
    {
     "name": "stdout",
     "output_type": "stream",
     "text": [
      "ДАТАСЕТ 0\n",
      "<class 'pandas.core.frame.DataFrame'>\n",
      "RangeIndex: 100000 entries, 0 to 99999\n",
      "Data columns (total 5 columns):\n",
      " #   Column   Non-Null Count   Dtype  \n",
      "---  ------   --------------   -----  \n",
      " 0   id       100000 non-null  object \n",
      " 1   f0       100000 non-null  float64\n",
      " 2   f1       100000 non-null  float64\n",
      " 3   f2       100000 non-null  float64\n",
      " 4   product  100000 non-null  float64\n",
      "dtypes: float64(4), object(1)\n",
      "memory usage: 3.8+ MB\n"
     ]
    },
    {
     "data": {
      "text/plain": [
       "None"
      ]
     },
     "metadata": {},
     "output_type": "display_data"
    },
    {
     "name": "stdout",
     "output_type": "stream",
     "text": [
      "ДАТАСЕТ 1\n",
      "<class 'pandas.core.frame.DataFrame'>\n",
      "RangeIndex: 100000 entries, 0 to 99999\n",
      "Data columns (total 5 columns):\n",
      " #   Column   Non-Null Count   Dtype  \n",
      "---  ------   --------------   -----  \n",
      " 0   id       100000 non-null  object \n",
      " 1   f0       100000 non-null  float64\n",
      " 2   f1       100000 non-null  float64\n",
      " 3   f2       100000 non-null  float64\n",
      " 4   product  100000 non-null  float64\n",
      "dtypes: float64(4), object(1)\n",
      "memory usage: 3.8+ MB\n"
     ]
    },
    {
     "data": {
      "text/plain": [
       "None"
      ]
     },
     "metadata": {},
     "output_type": "display_data"
    },
    {
     "name": "stdout",
     "output_type": "stream",
     "text": [
      "ДАТАСЕТ 2\n",
      "<class 'pandas.core.frame.DataFrame'>\n",
      "RangeIndex: 100000 entries, 0 to 99999\n",
      "Data columns (total 5 columns):\n",
      " #   Column   Non-Null Count   Dtype  \n",
      "---  ------   --------------   -----  \n",
      " 0   id       100000 non-null  object \n",
      " 1   f0       100000 non-null  float64\n",
      " 2   f1       100000 non-null  float64\n",
      " 3   f2       100000 non-null  float64\n",
      " 4   product  100000 non-null  float64\n",
      "dtypes: float64(4), object(1)\n",
      "memory usage: 3.8+ MB\n"
     ]
    },
    {
     "data": {
      "text/plain": [
       "None"
      ]
     },
     "metadata": {},
     "output_type": "display_data"
    }
   ],
   "source": [
    "df0 = pd.read_csv('/datasets/geo_data_0.csv')\n",
    "df1 = pd.read_csv('/datasets/geo_data_1.csv')\n",
    "df2 = pd.read_csv('/datasets/geo_data_2.csv')\n",
    "\n",
    "datasets = [df0, df1, df2]\n",
    "\n",
    "for dataset in range(len(datasets)):\n",
    "    print(f'ДАТАСЕТ {dataset}')\n",
    "    display(datasets[dataset].info())"
   ]
  },
  {
   "cell_type": "code",
   "execution_count": 3,
   "metadata": {},
   "outputs": [
    {
     "data": {
      "text/plain": [
       "'Количество явных дубликатов в 0: 0'"
      ]
     },
     "metadata": {},
     "output_type": "display_data"
    },
    {
     "data": {
      "text/plain": [
       "'Количество явных дубликатов в 1: 0'"
      ]
     },
     "metadata": {},
     "output_type": "display_data"
    },
    {
     "data": {
      "text/plain": [
       "'Количество явных дубликатов в 2: 0'"
      ]
     },
     "metadata": {},
     "output_type": "display_data"
    }
   ],
   "source": [
    "for dataset in range(len(datasets)):\n",
    "    display(f'Количество явных дубликатов в {dataset}: {datasets[dataset].duplicated().sum()}')"
   ]
  },
  {
   "cell_type": "code",
   "execution_count": 4,
   "metadata": {},
   "outputs": [
    {
     "name": "stdout",
     "output_type": "stream",
     "text": [
      "ДАТАСЕТ 0\n"
     ]
    },
    {
     "data": {
      "text/html": [
       "<div>\n",
       "<style scoped>\n",
       "    .dataframe tbody tr th:only-of-type {\n",
       "        vertical-align: middle;\n",
       "    }\n",
       "\n",
       "    .dataframe tbody tr th {\n",
       "        vertical-align: top;\n",
       "    }\n",
       "\n",
       "    .dataframe thead th {\n",
       "        text-align: right;\n",
       "    }\n",
       "</style>\n",
       "<table border=\"1\" class=\"dataframe\">\n",
       "  <thead>\n",
       "    <tr style=\"text-align: right;\">\n",
       "      <th></th>\n",
       "      <th>f0</th>\n",
       "      <th>f1</th>\n",
       "      <th>f2</th>\n",
       "      <th>product</th>\n",
       "    </tr>\n",
       "  </thead>\n",
       "  <tbody>\n",
       "    <tr>\n",
       "      <th>count</th>\n",
       "      <td>100000.000000</td>\n",
       "      <td>100000.000000</td>\n",
       "      <td>100000.000000</td>\n",
       "      <td>100000.000000</td>\n",
       "    </tr>\n",
       "    <tr>\n",
       "      <th>mean</th>\n",
       "      <td>0.500419</td>\n",
       "      <td>0.250143</td>\n",
       "      <td>2.502647</td>\n",
       "      <td>92.500000</td>\n",
       "    </tr>\n",
       "    <tr>\n",
       "      <th>std</th>\n",
       "      <td>0.871832</td>\n",
       "      <td>0.504433</td>\n",
       "      <td>3.248248</td>\n",
       "      <td>44.288691</td>\n",
       "    </tr>\n",
       "    <tr>\n",
       "      <th>min</th>\n",
       "      <td>-1.408605</td>\n",
       "      <td>-0.848218</td>\n",
       "      <td>-12.088328</td>\n",
       "      <td>0.000000</td>\n",
       "    </tr>\n",
       "    <tr>\n",
       "      <th>25%</th>\n",
       "      <td>-0.072580</td>\n",
       "      <td>-0.200881</td>\n",
       "      <td>0.287748</td>\n",
       "      <td>56.497507</td>\n",
       "    </tr>\n",
       "    <tr>\n",
       "      <th>50%</th>\n",
       "      <td>0.502360</td>\n",
       "      <td>0.250252</td>\n",
       "      <td>2.515969</td>\n",
       "      <td>91.849972</td>\n",
       "    </tr>\n",
       "    <tr>\n",
       "      <th>75%</th>\n",
       "      <td>1.073581</td>\n",
       "      <td>0.700646</td>\n",
       "      <td>4.715088</td>\n",
       "      <td>128.564089</td>\n",
       "    </tr>\n",
       "    <tr>\n",
       "      <th>max</th>\n",
       "      <td>2.362331</td>\n",
       "      <td>1.343769</td>\n",
       "      <td>16.003790</td>\n",
       "      <td>185.364347</td>\n",
       "    </tr>\n",
       "  </tbody>\n",
       "</table>\n",
       "</div>"
      ],
      "text/plain": [
       "                  f0             f1             f2        product\n",
       "count  100000.000000  100000.000000  100000.000000  100000.000000\n",
       "mean        0.500419       0.250143       2.502647      92.500000\n",
       "std         0.871832       0.504433       3.248248      44.288691\n",
       "min        -1.408605      -0.848218     -12.088328       0.000000\n",
       "25%        -0.072580      -0.200881       0.287748      56.497507\n",
       "50%         0.502360       0.250252       2.515969      91.849972\n",
       "75%         1.073581       0.700646       4.715088     128.564089\n",
       "max         2.362331       1.343769      16.003790     185.364347"
      ]
     },
     "metadata": {},
     "output_type": "display_data"
    },
    {
     "name": "stdout",
     "output_type": "stream",
     "text": [
      "ДАТАСЕТ 1\n"
     ]
    },
    {
     "data": {
      "text/html": [
       "<div>\n",
       "<style scoped>\n",
       "    .dataframe tbody tr th:only-of-type {\n",
       "        vertical-align: middle;\n",
       "    }\n",
       "\n",
       "    .dataframe tbody tr th {\n",
       "        vertical-align: top;\n",
       "    }\n",
       "\n",
       "    .dataframe thead th {\n",
       "        text-align: right;\n",
       "    }\n",
       "</style>\n",
       "<table border=\"1\" class=\"dataframe\">\n",
       "  <thead>\n",
       "    <tr style=\"text-align: right;\">\n",
       "      <th></th>\n",
       "      <th>f0</th>\n",
       "      <th>f1</th>\n",
       "      <th>f2</th>\n",
       "      <th>product</th>\n",
       "    </tr>\n",
       "  </thead>\n",
       "  <tbody>\n",
       "    <tr>\n",
       "      <th>count</th>\n",
       "      <td>100000.000000</td>\n",
       "      <td>100000.000000</td>\n",
       "      <td>100000.000000</td>\n",
       "      <td>100000.000000</td>\n",
       "    </tr>\n",
       "    <tr>\n",
       "      <th>mean</th>\n",
       "      <td>1.141296</td>\n",
       "      <td>-4.796579</td>\n",
       "      <td>2.494541</td>\n",
       "      <td>68.825000</td>\n",
       "    </tr>\n",
       "    <tr>\n",
       "      <th>std</th>\n",
       "      <td>8.965932</td>\n",
       "      <td>5.119872</td>\n",
       "      <td>1.703572</td>\n",
       "      <td>45.944423</td>\n",
       "    </tr>\n",
       "    <tr>\n",
       "      <th>min</th>\n",
       "      <td>-31.609576</td>\n",
       "      <td>-26.358598</td>\n",
       "      <td>-0.018144</td>\n",
       "      <td>0.000000</td>\n",
       "    </tr>\n",
       "    <tr>\n",
       "      <th>25%</th>\n",
       "      <td>-6.298551</td>\n",
       "      <td>-8.267985</td>\n",
       "      <td>1.000021</td>\n",
       "      <td>26.953261</td>\n",
       "    </tr>\n",
       "    <tr>\n",
       "      <th>50%</th>\n",
       "      <td>1.153055</td>\n",
       "      <td>-4.813172</td>\n",
       "      <td>2.011479</td>\n",
       "      <td>57.085625</td>\n",
       "    </tr>\n",
       "    <tr>\n",
       "      <th>75%</th>\n",
       "      <td>8.621015</td>\n",
       "      <td>-1.332816</td>\n",
       "      <td>3.999904</td>\n",
       "      <td>107.813044</td>\n",
       "    </tr>\n",
       "    <tr>\n",
       "      <th>max</th>\n",
       "      <td>29.421755</td>\n",
       "      <td>18.734063</td>\n",
       "      <td>5.019721</td>\n",
       "      <td>137.945408</td>\n",
       "    </tr>\n",
       "  </tbody>\n",
       "</table>\n",
       "</div>"
      ],
      "text/plain": [
       "                  f0             f1             f2        product\n",
       "count  100000.000000  100000.000000  100000.000000  100000.000000\n",
       "mean        1.141296      -4.796579       2.494541      68.825000\n",
       "std         8.965932       5.119872       1.703572      45.944423\n",
       "min       -31.609576     -26.358598      -0.018144       0.000000\n",
       "25%        -6.298551      -8.267985       1.000021      26.953261\n",
       "50%         1.153055      -4.813172       2.011479      57.085625\n",
       "75%         8.621015      -1.332816       3.999904     107.813044\n",
       "max        29.421755      18.734063       5.019721     137.945408"
      ]
     },
     "metadata": {},
     "output_type": "display_data"
    },
    {
     "name": "stdout",
     "output_type": "stream",
     "text": [
      "ДАТАСЕТ 2\n"
     ]
    },
    {
     "data": {
      "text/html": [
       "<div>\n",
       "<style scoped>\n",
       "    .dataframe tbody tr th:only-of-type {\n",
       "        vertical-align: middle;\n",
       "    }\n",
       "\n",
       "    .dataframe tbody tr th {\n",
       "        vertical-align: top;\n",
       "    }\n",
       "\n",
       "    .dataframe thead th {\n",
       "        text-align: right;\n",
       "    }\n",
       "</style>\n",
       "<table border=\"1\" class=\"dataframe\">\n",
       "  <thead>\n",
       "    <tr style=\"text-align: right;\">\n",
       "      <th></th>\n",
       "      <th>f0</th>\n",
       "      <th>f1</th>\n",
       "      <th>f2</th>\n",
       "      <th>product</th>\n",
       "    </tr>\n",
       "  </thead>\n",
       "  <tbody>\n",
       "    <tr>\n",
       "      <th>count</th>\n",
       "      <td>100000.000000</td>\n",
       "      <td>100000.000000</td>\n",
       "      <td>100000.000000</td>\n",
       "      <td>100000.000000</td>\n",
       "    </tr>\n",
       "    <tr>\n",
       "      <th>mean</th>\n",
       "      <td>0.002023</td>\n",
       "      <td>-0.002081</td>\n",
       "      <td>2.495128</td>\n",
       "      <td>95.000000</td>\n",
       "    </tr>\n",
       "    <tr>\n",
       "      <th>std</th>\n",
       "      <td>1.732045</td>\n",
       "      <td>1.730417</td>\n",
       "      <td>3.473445</td>\n",
       "      <td>44.749921</td>\n",
       "    </tr>\n",
       "    <tr>\n",
       "      <th>min</th>\n",
       "      <td>-8.760004</td>\n",
       "      <td>-7.084020</td>\n",
       "      <td>-11.970335</td>\n",
       "      <td>0.000000</td>\n",
       "    </tr>\n",
       "    <tr>\n",
       "      <th>25%</th>\n",
       "      <td>-1.162288</td>\n",
       "      <td>-1.174820</td>\n",
       "      <td>0.130359</td>\n",
       "      <td>59.450441</td>\n",
       "    </tr>\n",
       "    <tr>\n",
       "      <th>50%</th>\n",
       "      <td>0.009424</td>\n",
       "      <td>-0.009482</td>\n",
       "      <td>2.484236</td>\n",
       "      <td>94.925613</td>\n",
       "    </tr>\n",
       "    <tr>\n",
       "      <th>75%</th>\n",
       "      <td>1.158535</td>\n",
       "      <td>1.163678</td>\n",
       "      <td>4.858794</td>\n",
       "      <td>130.595027</td>\n",
       "    </tr>\n",
       "    <tr>\n",
       "      <th>max</th>\n",
       "      <td>7.238262</td>\n",
       "      <td>7.844801</td>\n",
       "      <td>16.739402</td>\n",
       "      <td>190.029838</td>\n",
       "    </tr>\n",
       "  </tbody>\n",
       "</table>\n",
       "</div>"
      ],
      "text/plain": [
       "                  f0             f1             f2        product\n",
       "count  100000.000000  100000.000000  100000.000000  100000.000000\n",
       "mean        0.002023      -0.002081       2.495128      95.000000\n",
       "std         1.732045       1.730417       3.473445      44.749921\n",
       "min        -8.760004      -7.084020     -11.970335       0.000000\n",
       "25%        -1.162288      -1.174820       0.130359      59.450441\n",
       "50%         0.009424      -0.009482       2.484236      94.925613\n",
       "75%         1.158535       1.163678       4.858794     130.595027\n",
       "max         7.238262       7.844801      16.739402     190.029838"
      ]
     },
     "metadata": {},
     "output_type": "display_data"
    }
   ],
   "source": [
    "for dataset in range(len(datasets)):\n",
    "    print(f'ДАТАСЕТ {dataset}')\n",
    "    display(datasets[dataset].describe())"
   ]
  },
  {
   "cell_type": "markdown",
   "metadata": {},
   "source": [
    "В данных нет пропусков и явных дубликатов, но зато есть столбик id, который ни на что не влияет. Его удалим."
   ]
  },
  {
   "cell_type": "code",
   "execution_count": 5,
   "metadata": {},
   "outputs": [],
   "source": [
    "for dataset in datasets:\n",
    "    dataset = dataset.drop('id', axis=1, inplace=True)"
   ]
  },
  {
   "cell_type": "markdown",
   "metadata": {},
   "source": [
    "Построим графики для каждого датасета, чтобы взглянуть на данные поближе."
   ]
  },
  {
   "cell_type": "code",
   "execution_count": 6,
   "metadata": {},
   "outputs": [],
   "source": [
    "def grafics(df):    \n",
    "    plt.figure(figsize=(12, 4))\n",
    "\n",
    "    plt.subplot(1, 2, 1) \n",
    "    plt.title('Ящик с усами')\n",
    "    \n",
    "    plt.ylabel('Объём')\n",
    "    plt.boxplot (x=df['product'])\n",
    "    plt.subplot(1, 2, 2)\n",
    "    plt.title('Гистограмма распределения объёма')\n",
    "    plt.xlabel('Объём')\n",
    "    plt.ylabel('Количество')\n",
    "    plt.hist(x = df['product'], bins=35, range = (0, 200))\n",
    "    plt.show()"
   ]
  },
  {
   "cell_type": "code",
   "execution_count": 7,
   "metadata": {},
   "outputs": [
    {
     "name": "stdout",
     "output_type": "stream",
     "text": [
      "График для датасета №0\n"
     ]
    },
    {
     "data": {
      "image/png": "[encoded data removed]",
      "text/plain": [
       "<Figure size 864x288 with 2 Axes>"
      ]
     },
     "metadata": {
      "needs_background": "light"
     },
     "output_type": "display_data"
    },
    {
     "name": "stdout",
     "output_type": "stream",
     "text": [
      "График для датасета №1\n"
     ]
    },
    {
     "data": {
      "image/png": "[encoded data removed]",
      "text/plain": [
       "<Figure size 864x288 with 2 Axes>"
      ]
     },
     "metadata": {
      "needs_background": "light"
     },
     "output_type": "display_data"
    },
    {
     "name": "stdout",
     "output_type": "stream",
     "text": [
      "График для датасета №2\n"
     ]
    },
    {
     "data": {
      "image/png": "[encoded data removed]",
      "text/plain": [
       "<Figure size 864x288 with 2 Axes>"
      ]
     },
     "metadata": {
      "needs_background": "light"
     },
     "output_type": "display_data"
    }
   ],
   "source": [
    "for dataset in range(len(datasets)):\n",
    "    print(f'График для датасета №{dataset}')\n",
    "    grafics(datasets[dataset])"
   ]
  },
  {
   "cell_type": "markdown",
   "metadata": {},
   "source": [
    "Если сравнивать графики трех датасетов, то видно, что с датасетом №1 что-то не так: много пропусков. Стоит посмотреть на нули и процент от всего количества данных в датасете."
   ]
  },
  {
   "cell_type": "code",
   "execution_count": 8,
   "metadata": {},
   "outputs": [],
   "source": [
    "def zero(data):\n",
    "    zero = data[data['product'] == 0]['product'].count()\n",
    "    percent = zero / data.shape[0]\n",
    "    print(f'Количество нулевых значений: {zero}')\n",
    "    print(f'Процент нулевых значений: {percent}')"
   ]
  },
  {
   "cell_type": "code",
   "execution_count": 9,
   "metadata": {},
   "outputs": [
    {
     "name": "stdout",
     "output_type": "stream",
     "text": [
      "Датасет №0\n",
      "Количество нулевых значений: 1\n",
      "Процент нулевых значений: 1e-05\n",
      "\n",
      "Датасет №1\n",
      "Количество нулевых значений: 8235\n",
      "Процент нулевых значений: 0.08235\n",
      "\n",
      "Датасет №2\n",
      "Количество нулевых значений: 1\n",
      "Процент нулевых значений: 1e-05\n",
      "\n"
     ]
    }
   ],
   "source": [
    "for dataset in range(len(datasets)):\n",
    "    print(f'Датасет №{dataset}')\n",
    "    zero(datasets[dataset])\n",
    "    print()"
   ]
  },
  {
   "cell_type": "code",
   "execution_count": 10,
   "metadata": {},
   "outputs": [
    {
     "data": {
      "image/png": "[encoded data removed]",
      "text/plain": [
       "<Figure size 864x648 with 1 Axes>"
      ]
     },
     "metadata": {
      "needs_background": "light"
     },
     "output_type": "display_data"
    }
   ],
   "source": [
    "plt.figure(figsize=[12,9])\n",
    "plt.title('Гистограмма распределения объёма для датасета №1')\n",
    "plt.xlabel('Объём')\n",
    "plt.ylabel('Количество')\n",
    "plt.hist(x=df1['product'], bins=50)\n",
    "plt.xlim([0, 150])\n",
    "plt.ylim([0, 10000])\n",
    "plt.show()"
   ]
  },
  {
   "cell_type": "markdown",
   "metadata": {},
   "source": [
    "В датасете №1 видно, что есть 8,2% нулевых значений. Если сравнивать с другими датасетами (№0 и №2), то можно предположить, что данные утеряны или их реально нет. \n",
    "\n",
    "Можно сказать, что всю нефть выкачали? :) Не знаю. А вот по ЗБЧ: 10000 данных распределены с +-одинаковым шагом, нет нормального распределения. "
   ]
  },
  {
   "cell_type": "markdown",
   "metadata": {},
   "source": [
    "Посмотрим на корреляцию между признаками."
   ]
  },
  {
   "cell_type": "code",
   "execution_count": 11,
   "metadata": {},
   "outputs": [],
   "source": [
    "def cor(data):\n",
    "    plt.figure(figsize=(8,8), dpi= 80)\n",
    "    sns.heatmap(data.corr(), cmap='summer', center=0, annot=True)"
   ]
  },
  {
   "cell_type": "code",
   "execution_count": 12,
   "metadata": {},
   "outputs": [
    {
     "name": "stdout",
     "output_type": "stream",
     "text": [
      "\n",
      "\n",
      "\n"
     ]
    },
    {
     "data": {
      "image/png": "[encoded data removed]",
      "text/plain": [
       "<Figure size 640x640 with 2 Axes>"
      ]
     },
     "metadata": {
      "needs_background": "light"
     },
     "output_type": "display_data"
    },
    {
     "data": {
      "image/png": "[encoded data removed]",
      "text/plain": [
       "<Figure size 640x640 with 2 Axes>"
      ]
     },
     "metadata": {
      "needs_background": "light"
     },
     "output_type": "display_data"
    },
    {
     "data": {
      "image/png": "[encoded data removed]",
      "text/plain": [
       "<Figure size 640x640 with 2 Axes>"
      ]
     },
     "metadata": {
      "needs_background": "light"
     },
     "output_type": "display_data"
    }
   ],
   "source": [
    "for dataset in range(len(datasets)):\n",
    "    cor(datasets[dataset])\n",
    "    print()"
   ]
  },
  {
   "cell_type": "markdown",
   "metadata": {},
   "source": [
    "В датасете №1 есть высокая линейная зависимость между признаком в колонке 'f2' и целевым признаком product. В датасетах №0 и №2 зависимость так же есть, но меньше (0.42 и 0.45)"
   ]
  },
  {
   "cell_type": "markdown",
   "metadata": {},
   "source": [
    "**Вывод:**\n",
    "\n",
    "1. Удален столбец id из всех датасетов. Он ни на что не влияет.\n",
    "2. Явных дубликотов и пропусков в данных нет.\n",
    "3. В датасете №0 и №2 всего по 1 нулевому значению. В датасете №1 пропущенных значений - 8235 (8,2% от 10 тысяч)\n",
    "4. Целевой признак products. Признаки: f0, f1 и f2. (Нам не сказали, за что они отвечают, но они важные).\n",
    "\n",
    "Данные хорошего качества, дальнейшей обработки не требуют, поэтому приступим к обучению модели."
   ]
  },
  {
   "cell_type": "markdown",
   "metadata": {},
   "source": [
    "## Обучение и проверка модели"
   ]
  },
  {
   "cell_type": "markdown",
   "metadata": {},
   "source": [
    "Разделим наши датасеты на выборки."
   ]
  },
  {
   "cell_type": "code",
   "execution_count": 13,
   "metadata": {},
   "outputs": [],
   "source": [
    "def train_check(data):\n",
    "    #деление на целевой признак и признаки\n",
    "    features = data.drop(\"product\", axis=1)\n",
    "    target = data[\"product\"]\n",
    "    #деление на обучающую и валидационную выборки\n",
    "    features_train, features_valid, target_train, target_valid = train_test_split(features, \n",
    "                                                                                  target, \n",
    "                                                                                  test_size=0.25, \n",
    "                                                                                  random_state=12345)\n",
    "    #масштабирование\n",
    "    scaler = StandardScaler()\n",
    "    features_train = scaler.fit_transform(features_train)\n",
    "    features_valid = scaler.transform(features_valid)\n",
    "    \n",
    "    #обучение модели\n",
    "    lr = LinearRegression(normalize=False)\n",
    "    lr.fit(features_train, target_train)\n",
    "    predictions = lr.predict(features_valid)\n",
    "    predictions = pd.Series(predictions)\n",
    "    \n",
    "    #вычисление метрик\n",
    "    rmse = (mean_squared_error(predictions, target_valid))**(0.5)\n",
    "    average_product = sum(predictions) / len(predictions)\n",
    "    \n",
    "    print(\"RMSE: {0:.2f}\".format(rmse))\n",
    "    print(\"Средний запас: {0:.2f}\".format(average_product))\n",
    "    print()\n",
    "    \n",
    "    return (predictions, target_valid.reset_index(drop=True), rmse, average_product)"
   ]
  },
  {
   "cell_type": "code",
   "execution_count": 14,
   "metadata": {},
   "outputs": [
    {
     "name": "stdout",
     "output_type": "stream",
     "text": [
      "Датасет №0\n",
      "RMSE: 37.58\n",
      "Средний запас: 92.59\n",
      "\n",
      "Датасет №1\n",
      "RMSE: 0.89\n",
      "Средний запас: 68.73\n",
      "\n",
      "Датасет №2\n",
      "RMSE: 40.03\n",
      "Средний запас: 94.97\n",
      "\n"
     ]
    }
   ],
   "source": [
    "print('Датасет №0')\n",
    "predictions_0, target_0, rmse_0, avg_0 = train_check(df0)\n",
    "print('Датасет №1')\n",
    "predictions_1, target_1, rmse_1, avg_1 = train_check(df1)\n",
    "print('Датасет №2')\n",
    "predictions_2, target_2, rmse_2, avg_2 = train_check(df2)"
   ]
  },
  {
   "cell_type": "markdown",
   "metadata": {},
   "source": [
    "У региона №0 и №2 высокий запас нефти, метрика RMSE выше. У региона №1 метрика RMSE ниже (а значит модель лучше соответствует набору данных). Это возможно связано с высокой корреляцией между признаком f2 и целевым признаком product. Однако у региона №1 маленький запас нефти и, как выяснилось на этапе предобработки, утеряны/пропущены данные."
   ]
  },
  {
   "cell_type": "markdown",
   "metadata": {},
   "source": [
    "**Вывод:**\n",
    "\n",
    "Написали функцию, в которой:\n",
    "1. Выделили целевой признак и признаки для обучения: product - целевой.\n",
    "2. Разделили датасеты на обучающую и валидационную выборки.\n",
    "3. Применили масштабирование к признакам.\n",
    "4. Обучили модель линейной регрессии.\n",
    "5. Вычислили метрики RMSE (среднеквадратическое отклонение) и средний запас нефти по каждому региону.\n",
    "\n",
    "Метрики дали такие результаты:\n",
    "1. RMSE у региона №0 и №2 выше (и примерно одинаковы), но запас нефти больше (так же примерно одинаков). \n",
    "2. RMSE у региона №1 ниже, но запас нефти ниже из-за нулевых значений в данных. Возможно данные были утеряны и восстановлены некорректно.\n",
    "\n",
    "Необходимо рассчитать прибыль для каждого региона, но выбирать будем скорее между регионами №0 и №2, т.к. №1 имеет мало запасов."
   ]
  },
  {
   "cell_type": "markdown",
   "metadata": {},
   "source": [
    "## Подготовка к расчёту прибыли"
   ]
  },
  {
   "cell_type": "code",
   "execution_count": 15,
   "metadata": {},
   "outputs": [],
   "source": [
    "number_bores = 500 \n",
    "bores_needed = 200\n",
    "budget = 10_000_000_000 \n",
    "barrel_price = 450_000 \n",
    "risk = 2.5"
   ]
  },
  {
   "cell_type": "code",
   "execution_count": 16,
   "metadata": {},
   "outputs": [
    {
     "name": "stdout",
     "output_type": "stream",
     "text": [
      "Средняя прибыль на лучшую точку: 50000000.0 тыс.руб.\n",
      "Средний объем нефти на точку: 111.11111111111111 тыс. баррелей\n",
      "Средний объем нефти на регион: 22222.222222222223 тыс. баррелей\n"
     ]
    }
   ],
   "source": [
    "profit_per_point = budget / bores_needed\n",
    "print(f'Средняя прибыль на лучшую точку: {profit_per_point} тыс.руб.')\n",
    "\n",
    "barrels_per_point = profit_per_point / barrel_price\n",
    "print(f'Средний объем нефти на точку: {barrels_per_point} тыс. баррелей')\n",
    "\n",
    "barrels = budget / barrel_price\n",
    "print(f'Средний объем нефти на регион: {barrels} тыс. баррелей')"
   ]
  },
  {
   "cell_type": "markdown",
   "metadata": {},
   "source": [
    "Посчитаем фактические запасы."
   ]
  },
  {
   "cell_type": "code",
   "execution_count": 17,
   "metadata": {},
   "outputs": [
    {
     "name": "stdout",
     "output_type": "stream",
     "text": [
      "Средний запас фактичекой нефти на скважину в регионе №0 92.5\n",
      "Средний запас фактичекой нефти на скважину в регионе №1 68.825\n",
      "Средний запас фактичекой нефти на скважину в регионе №2 95.0\n"
     ]
    }
   ],
   "source": [
    "print('Средний запас фактичекой нефти на скважину в регионе №0', round(df0['product'].mean(), 3))\n",
    "print('Средний запас фактичекой нефти на скважину в регионе №1', round(df1['product'].mean(), 3))\n",
    "print('Средний запас фактичекой нефти на скважину в регионе №2', round(df2['product'].mean(), 3))"
   ]
  },
  {
   "cell_type": "markdown",
   "metadata": {},
   "source": [
    "**Вывод:**\n",
    "\n",
    "Посчитаны средние значения:\n",
    "1. Средняя прибыль на лучшую точку: 50000000.0 тыс.руб.\n",
    "2. Средний объем нефти на точку: 111.111 тыс. баррелей\n",
    "3. Средний объем нефти на регион: 22222.222 тыс. баррелей\n",
    "\n",
    "Получается, что средний объем нефти на точку должен составлять 111.111 тыс. баррелей, в то время как фактический средний запас на точку в 3-х регионах ниже: 92.5, 68.825 и 95.0.\n",
    "Получается, что каждый их регионов убыточный. Рассчитаем прибыль и риски."
   ]
  },
  {
   "cell_type": "markdown",
   "metadata": {},
   "source": [
    "## Расчёт прибыли и рисков "
   ]
  },
  {
   "cell_type": "markdown",
   "metadata": {},
   "source": [
    "Применим технику Bootstrap для 1000 выборок, чтобы найти распределение прибыли. Убыток - отрицательные значения. Нужно найти: среднюю прибыль, 95%-й доверительный интервал и риск убытков."
   ]
  },
  {
   "cell_type": "code",
   "execution_count": 18,
   "metadata": {},
   "outputs": [],
   "source": [
    "predictions_0 = pd.Series(predictions_0)\n",
    "predictions_1 = pd.Series(predictions_1)\n",
    "predictions_2 = pd.Series(predictions_2)"
   ]
  },
  {
   "cell_type": "code",
   "execution_count": 19,
   "metadata": {},
   "outputs": [],
   "source": [
    "# функция для нахождения прибыли\n",
    "def income(target, bores, count, budget):\n",
    "    bores_sorted = bores.sort_values(ascending=False) # сортировка по предсказанию\n",
    "    selected = target[bores_sorted.index][:count] # лучшие скваэены по фактическим индексам\n",
    "    income = barrel_price * selected.sum() # прибыль с выбранных скважин\n",
    "    profit = income - budget # считаем прибыль\n",
    "    return profit"
   ]
  },
  {
   "cell_type": "code",
   "execution_count": 20,
   "metadata": {},
   "outputs": [],
   "source": [
    "def bootstrap(target, predictions):\n",
    "    values = []\n",
    "\n",
    "    # Bootstrap\n",
    "    state = np.random.RandomState(12345)\n",
    "    for i in range(1000):\n",
    "        target_subsample = target.reset_index(drop=True).sample(n=number_bores, replace=True, random_state=state)\n",
    "        pred_subsample = predictions[target_subsample.index]\n",
    "        value = income(target_subsample, pred_subsample, bores_needed, budget)\n",
    "        values.append(value)\n",
    "\n",
    "    # убытки\n",
    "    values = pd.Series(values)\n",
    "    risk = (values < 0).mean()\n",
    "\n",
    "    # 95%-й доверительный интервал \n",
    "    lower = values.quantile(0.025)\n",
    "    upper = values.quantile(0.975)\n",
    "\n",
    "    print('Средняя прибыль:', round(values.mean() / 1000000, 2), 'млн. руб')\n",
    "    print(f'95% доверительный интервал: ({round(lower, 3)}, {round(upper, 3)})')\n",
    "    print('Риск убытков: {:.1%}'.format((values < 0).mean()))\n",
    "\n",
    "    # сравниваем результат с крайним значением рисков\n",
    "    if (risk * 100) <= 2.5:\n",
    "          print('Риск убытков меньше 2.5%')\n",
    "    else:\n",
    "          print('Риск убытков больше 2.5%')    "
   ]
  },
  {
   "cell_type": "code",
   "execution_count": 21,
   "metadata": {},
   "outputs": [
    {
     "name": "stdout",
     "output_type": "stream",
     "text": [
      "Регион №0\n",
      "Средняя прибыль: 425.94 млн. руб\n",
      "95% доверительный интервал: (-102090094.838, 947976353.358)\n",
      "Риск убытков: 6.0%\n",
      "Риск убытков больше 2.5%\n"
     ]
    }
   ],
   "source": [
    "print('Регион №0')\n",
    "bootstrap(target_0, predictions_0)"
   ]
  },
  {
   "cell_type": "code",
   "execution_count": 22,
   "metadata": {},
   "outputs": [
    {
     "name": "stdout",
     "output_type": "stream",
     "text": [
      "Регион №1\n",
      "Средняя прибыль: 515.22 млн. руб\n",
      "95% доверительный интервал: (68873225.371, 931547591.257)\n",
      "Риск убытков: 1.0%\n",
      "Риск убытков меньше 2.5%\n"
     ]
    }
   ],
   "source": [
    "print('Регион №1')\n",
    "bootstrap(target_1, predictions_1)"
   ]
  },
  {
   "cell_type": "code",
   "execution_count": 23,
   "metadata": {},
   "outputs": [
    {
     "name": "stdout",
     "output_type": "stream",
     "text": [
      "Регион №2\n",
      "Средняя прибыль: 435.01 млн. руб\n",
      "95% доверительный интервал: (-128880547.33, 969706954.18)\n",
      "Риск убытков: 6.4%\n",
      "Риск убытков больше 2.5%\n"
     ]
    }
   ],
   "source": [
    "print('Регион №2')\n",
    "bootstrap(target_2, predictions_2)"
   ]
  },
  {
   "cell_type": "markdown",
   "metadata": {},
   "source": [
    "**Вывод:**\n",
    "\n",
    "1. Создали фунцию для нахождения прибыли и функцию для бутстрапа.\n",
    "2. Посчитали среднюю прибыль, 95% доверительный интервал и риск убытков для каждого датасета (региона).\n",
    "\n",
    "*Регион №0*\n",
    "- Средняя прибыль: 425.94 млн. руб\n",
    "- 95% доверительный интервал: (-102090094.838, 947976353.358)\n",
    "- Риск убытков: 6.0%\n",
    "\n",
    "*Регион №2*\n",
    "- Средняя прибыль: 435.01 млн. руб\n",
    "- 95% доверительный интервал: (-128880547.33, 969706954.18)\n",
    "- Риск убытков: 6.4%\n",
    "\n",
    "\n",
    "*Регион №2*\n",
    "- Средняя прибыль: 435.01 млн. руб\n",
    "- 95% доверительный интервал: (-128880547.33, 969706954.18)\n",
    "- Риск убытков: 6.4%\n",
    "\n",
    "Получилось, что регион №1 хоть и имеет меньшие запасы сырья, но тем не менее средняя прибыль выше, а риск убытков составляет 1% (что меньше нашей границы в 2.5%)"
   ]
  },
  {
   "cell_type": "markdown",
   "metadata": {},
   "source": [
    "## Вывод"
   ]
  },
  {
   "cell_type": "markdown",
   "metadata": {},
   "source": [
    "Задача состояла в **выборе локации для скважины**.\n",
    "\n",
    "Данные геологоразведки трёх регионов находились в 3-х файлах.\n",
    "Что хранилось в столбцах:\n",
    " - id — уникальный идентификатор скважины;\n",
    " - f0, f1, f2 — три признака точек (неважно, что они означают, но сами признаки значимы);\n",
    " - product — объём запасов в скважине (тыс. баррелей).\n",
    "\n",
    "Данные хорошего качества. Сильной обработки не потребовалось. Что потребовалось сделать с данными:\n",
    "1. Удален столбец id из всех датасетов. Он ни на что не влияет.\n",
    "2. Явных дубликотов и пропусков в данных нет.\n",
    "3. В датасете №0 и №2 всего по 1 нулевому значению. В датасете №1 пропущенных значений - 8235 (8,2% от 10 тысяч)\n",
    "4. Целевой признак products. Признаки: f0, f1 и f2. (Нам не сказали, за что они отвечают, но они важные).\n",
    "\n",
    "Обучили модель линейной регрессии. Посчитали RMSE (среднеквадратическое отклонение) и средний запас нефти для каждого датасета.\n",
    "\n",
    "1. У региона №0 и №2 высокий запас нефти, метрика RMSE выше. \n",
    "2. У региона №1 метрика RMSE ниже (а значит модель лучше соответствует набору данных). Это возможно связано с высокой корреляцией между признаком f2 и целевым признаком product. Однако у региона №1 маленький запас нефти и, как выяснилось на этапе предобработки, утеряны/пропущены данные.\n",
    "\n",
    "Посчитаны средние значения на этапе подготовки к расчету прибыли:\n",
    "1. Средняя прибыль на лучшую точку: 50000000.0 тыс.руб.\n",
    "2. Средний объем нефти на точку: 111.111 тыс. баррелей\n",
    "3. Средний объем нефти на регион: 22222.222 тыс. баррелей\n",
    "\n",
    "Получается, что средний объем нефти на точку должен составлять 111.111 тыс. баррелей, в то время как фактический средний запас на точку в 3-х регионах ниже: 92.5, 68.825 и 95.0.\n",
    "Получалось, что каждый их регионов убыточный, НО мы посчиьали расчет прибыли и рисков для каждого датасета. \n",
    "\n",
    "Риск убытков у датасета №1 оказался ниже границы в 2.5% и равнялся 1%. В то время как рис убытков у регионов с большим количеством нефти (но высоким RMSE) соответственно 6 и 6.4%\n",
    "\n",
    "\n",
    "Получается, что мы убираем регионы №0 и №2, так как риски относительно велики (6% и 6.4%). Остается **регион №1 (geo_data_1.csv)**, чей риск ниже установленной границы (1%). Доверительный интервал показывает, что даже при не очень удачном выборе места разработка скважин окупится."
   ]
  }
 ],
 "metadata": {
  "ExecuteTimeLog": [
   {
    "duration": 1586,
    "start_time": "2023-04-02T14:56:19.337Z"
   },
   {
    "duration": 1455,
    "start_time": "2023-04-02T15:25:01.096Z"
   },
   {
    "duration": 1089,
    "start_time": "2023-04-02T15:25:02.553Z"
   },
   {
    "duration": 138,
    "start_time": "2023-04-02T15:26:19.937Z"
   },
   {
    "duration": 168,
    "start_time": "2023-04-02T15:26:34.027Z"
   },
   {
    "duration": 1515,
    "start_time": "2023-04-02T15:26:39.129Z"
   },
   {
    "duration": 418,
    "start_time": "2023-04-02T15:26:40.646Z"
   },
   {
    "duration": 181,
    "start_time": "2023-04-02T15:26:41.066Z"
   },
   {
    "duration": 196,
    "start_time": "2023-04-02T15:26:51.196Z"
   },
   {
    "duration": 160,
    "start_time": "2023-04-02T15:28:04.815Z"
   },
   {
    "duration": 108,
    "start_time": "2023-04-02T15:28:55.699Z"
   },
   {
    "duration": 175,
    "start_time": "2023-04-02T15:29:14.164Z"
   },
   {
    "duration": 146,
    "start_time": "2023-04-02T15:29:39.092Z"
   },
   {
    "duration": 439,
    "start_time": "2023-04-02T15:30:04.317Z"
   },
   {
    "duration": 459,
    "start_time": "2023-04-02T15:30:35.848Z"
   },
   {
    "duration": 469,
    "start_time": "2023-04-02T15:31:38.122Z"
   },
   {
    "duration": 484,
    "start_time": "2023-04-02T15:32:19.905Z"
   },
   {
    "duration": 425,
    "start_time": "2023-04-02T15:32:25.158Z"
   },
   {
    "duration": 491,
    "start_time": "2023-04-02T15:33:07.201Z"
   },
   {
    "duration": 497,
    "start_time": "2023-04-02T15:33:26.133Z"
   },
   {
    "duration": 1460,
    "start_time": "2023-04-02T15:33:39.592Z"
   },
   {
    "duration": 450,
    "start_time": "2023-04-02T15:33:41.054Z"
   },
   {
    "duration": 175,
    "start_time": "2023-04-02T15:33:41.506Z"
   },
   {
    "duration": 109,
    "start_time": "2023-04-02T15:34:09.497Z"
   },
   {
    "duration": 7,
    "start_time": "2023-04-02T15:51:48.902Z"
   },
   {
    "duration": 122,
    "start_time": "2023-04-02T15:52:32.504Z"
   },
   {
    "duration": 19,
    "start_time": "2023-04-02T15:52:37.924Z"
   },
   {
    "duration": 18,
    "start_time": "2023-04-02T15:52:45.692Z"
   },
   {
    "duration": 13,
    "start_time": "2023-04-02T15:53:39.107Z"
   },
   {
    "duration": 14,
    "start_time": "2023-04-02T15:53:56.048Z"
   },
   {
    "duration": 20,
    "start_time": "2023-04-02T15:56:01.328Z"
   },
   {
    "duration": 14,
    "start_time": "2023-04-02T16:23:56.140Z"
   },
   {
    "duration": 1404,
    "start_time": "2023-04-02T16:24:06.732Z"
   },
   {
    "duration": 460,
    "start_time": "2023-04-02T16:24:08.138Z"
   },
   {
    "duration": 150,
    "start_time": "2023-04-02T16:24:08.601Z"
   },
   {
    "duration": 129,
    "start_time": "2023-04-02T16:24:08.753Z"
   },
   {
    "duration": 15,
    "start_time": "2023-04-02T16:24:08.885Z"
   },
   {
    "duration": 1376,
    "start_time": "2023-04-02T16:26:14.634Z"
   },
   {
    "duration": 429,
    "start_time": "2023-04-02T16:26:16.012Z"
   },
   {
    "duration": 208,
    "start_time": "2023-04-02T16:26:16.443Z"
   },
   {
    "duration": 142,
    "start_time": "2023-04-02T16:26:16.653Z"
   },
   {
    "duration": 15,
    "start_time": "2023-04-02T16:26:16.797Z"
   },
   {
    "duration": 263,
    "start_time": "2023-04-02T17:00:06.164Z"
   },
   {
    "duration": 4,
    "start_time": "2023-04-02T17:01:47.837Z"
   },
   {
    "duration": 3,
    "start_time": "2023-04-02T17:48:06.614Z"
   },
   {
    "duration": 938,
    "start_time": "2023-04-02T17:48:12.692Z"
   },
   {
    "duration": 6,
    "start_time": "2023-04-02T17:49:24.190Z"
   },
   {
    "duration": 851,
    "start_time": "2023-04-02T17:49:25.725Z"
   },
   {
    "duration": 936,
    "start_time": "2023-04-02T17:50:42.825Z"
   },
   {
    "duration": 849,
    "start_time": "2023-04-02T17:51:01.713Z"
   },
   {
    "duration": 74,
    "start_time": "2023-04-02T17:56:25.398Z"
   },
   {
    "duration": 4,
    "start_time": "2023-04-02T17:56:28.156Z"
   },
   {
    "duration": 30,
    "start_time": "2023-04-02T17:57:08.690Z"
   },
   {
    "duration": 4,
    "start_time": "2023-04-02T17:57:19.153Z"
   },
   {
    "duration": 23,
    "start_time": "2023-04-02T17:57:20.668Z"
   },
   {
    "duration": 15,
    "start_time": "2023-04-02T18:03:45.616Z"
   },
   {
    "duration": 9,
    "start_time": "2023-04-02T18:03:58.847Z"
   },
   {
    "duration": 15,
    "start_time": "2023-04-02T18:04:08.080Z"
   },
   {
    "duration": 1628,
    "start_time": "2023-04-02T18:23:52.401Z"
   },
   {
    "duration": 1016,
    "start_time": "2023-04-02T18:23:54.032Z"
   },
   {
    "duration": 218,
    "start_time": "2023-04-02T18:23:55.050Z"
   },
   {
    "duration": 180,
    "start_time": "2023-04-02T18:23:55.270Z"
   },
   {
    "duration": 13,
    "start_time": "2023-04-02T18:23:55.452Z"
   },
   {
    "duration": 21,
    "start_time": "2023-04-02T18:23:55.467Z"
   },
   {
    "duration": 1282,
    "start_time": "2023-04-02T18:23:55.498Z"
   },
   {
    "duration": 7,
    "start_time": "2023-04-02T18:23:56.787Z"
   },
   {
    "duration": 23,
    "start_time": "2023-04-02T18:23:56.800Z"
   },
   {
    "duration": 326,
    "start_time": "2023-04-02T18:23:56.829Z"
   },
   {
    "duration": 203,
    "start_time": "2023-04-02T18:54:26.219Z"
   },
   {
    "duration": 404,
    "start_time": "2023-04-02T18:54:51.500Z"
   },
   {
    "duration": 396,
    "start_time": "2023-04-02T18:55:30.770Z"
   },
   {
    "duration": 211,
    "start_time": "2023-04-02T18:55:38.454Z"
   },
   {
    "duration": 339,
    "start_time": "2023-04-02T18:56:36.713Z"
   },
   {
    "duration": 372,
    "start_time": "2023-04-02T19:00:04.396Z"
   },
   {
    "duration": 466,
    "start_time": "2023-04-02T19:00:29.148Z"
   },
   {
    "duration": 262,
    "start_time": "2023-04-02T19:00:35.100Z"
   },
   {
    "duration": 104,
    "start_time": "2023-04-02T19:04:08.043Z"
   },
   {
    "duration": 5,
    "start_time": "2023-04-02T20:09:44.174Z"
   },
   {
    "duration": 126,
    "start_time": "2023-04-02T20:10:23.713Z"
   },
   {
    "duration": 1479,
    "start_time": "2023-04-02T20:11:00.552Z"
   },
   {
    "duration": 432,
    "start_time": "2023-04-02T20:11:02.033Z"
   },
   {
    "duration": 178,
    "start_time": "2023-04-02T20:11:02.475Z"
   },
   {
    "duration": 154,
    "start_time": "2023-04-02T20:11:02.655Z"
   },
   {
    "duration": 22,
    "start_time": "2023-04-02T20:11:02.812Z"
   },
   {
    "duration": 8,
    "start_time": "2023-04-02T20:11:02.837Z"
   },
   {
    "duration": 1641,
    "start_time": "2023-04-02T20:11:02.847Z"
   },
   {
    "duration": 5,
    "start_time": "2023-04-02T20:11:04.490Z"
   },
   {
    "duration": 15,
    "start_time": "2023-04-02T20:11:04.497Z"
   },
   {
    "duration": 771,
    "start_time": "2023-04-02T20:11:04.515Z"
   },
   {
    "duration": 4,
    "start_time": "2023-04-02T20:11:05.288Z"
   },
   {
    "duration": 2428,
    "start_time": "2023-04-02T20:11:05.293Z"
   },
   {
    "duration": 5,
    "start_time": "2023-04-02T20:11:07.776Z"
   },
   {
    "duration": 1446,
    "start_time": "2023-04-02T20:12:01.299Z"
   },
   {
    "duration": 444,
    "start_time": "2023-04-02T20:12:02.747Z"
   },
   {
    "duration": 172,
    "start_time": "2023-04-02T20:12:03.193Z"
   },
   {
    "duration": 158,
    "start_time": "2023-04-02T20:12:03.375Z"
   },
   {
    "duration": 12,
    "start_time": "2023-04-02T20:12:03.535Z"
   },
   {
    "duration": 78,
    "start_time": "2023-04-02T20:12:03.548Z"
   },
   {
    "duration": 1036,
    "start_time": "2023-04-02T20:12:03.627Z"
   },
   {
    "duration": 3,
    "start_time": "2023-04-02T20:12:04.665Z"
   },
   {
    "duration": 36,
    "start_time": "2023-04-02T20:12:04.670Z"
   },
   {
    "duration": 264,
    "start_time": "2023-04-02T20:12:04.709Z"
   },
   {
    "duration": 5,
    "start_time": "2023-04-02T20:12:04.975Z"
   },
   {
    "duration": 1046,
    "start_time": "2023-04-02T20:12:04.982Z"
   },
   {
    "duration": 4,
    "start_time": "2023-04-02T20:12:06.030Z"
   },
   {
    "duration": 1510,
    "start_time": "2023-04-02T20:12:53.998Z"
   },
   {
    "duration": 501,
    "start_time": "2023-04-02T20:12:55.511Z"
   },
   {
    "duration": 405,
    "start_time": "2023-04-02T20:12:56.013Z"
   },
   {
    "duration": 291,
    "start_time": "2023-04-02T20:12:56.422Z"
   },
   {
    "duration": 67,
    "start_time": "2023-04-02T20:12:56.715Z"
   },
   {
    "duration": 6,
    "start_time": "2023-04-02T20:12:56.784Z"
   },
   {
    "duration": 2293,
    "start_time": "2023-04-02T20:12:56.792Z"
   },
   {
    "duration": 4,
    "start_time": "2023-04-02T20:12:59.087Z"
   },
   {
    "duration": 24,
    "start_time": "2023-04-02T20:12:59.092Z"
   },
   {
    "duration": 586,
    "start_time": "2023-04-02T20:12:59.121Z"
   },
   {
    "duration": 3,
    "start_time": "2023-04-02T20:12:59.709Z"
   },
   {
    "duration": 1969,
    "start_time": "2023-04-02T20:12:59.714Z"
   },
   {
    "duration": 5,
    "start_time": "2023-04-02T20:13:01.685Z"
   },
   {
    "duration": 1639,
    "start_time": "2023-04-02T20:14:33.436Z"
   },
   {
    "duration": 1276,
    "start_time": "2023-04-02T20:14:59.617Z"
   },
   {
    "duration": 1398,
    "start_time": "2023-04-02T20:15:23.214Z"
   },
   {
    "duration": 7,
    "start_time": "2023-04-02T20:44:04.214Z"
   },
   {
    "duration": 6,
    "start_time": "2023-04-02T20:59:03.695Z"
   },
   {
    "duration": 154,
    "start_time": "2023-04-02T21:02:57.993Z"
   },
   {
    "duration": 1411,
    "start_time": "2023-04-02T21:03:34.948Z"
   },
   {
    "duration": 450,
    "start_time": "2023-04-02T21:03:36.361Z"
   },
   {
    "duration": 178,
    "start_time": "2023-04-02T21:03:36.812Z"
   },
   {
    "duration": 136,
    "start_time": "2023-04-02T21:03:36.992Z"
   },
   {
    "duration": 11,
    "start_time": "2023-04-02T21:03:37.130Z"
   },
   {
    "duration": 16,
    "start_time": "2023-04-02T21:03:37.142Z"
   },
   {
    "duration": 1008,
    "start_time": "2023-04-02T21:03:37.159Z"
   },
   {
    "duration": 13,
    "start_time": "2023-04-02T21:03:38.169Z"
   },
   {
    "duration": 22,
    "start_time": "2023-04-02T21:03:38.189Z"
   },
   {
    "duration": 482,
    "start_time": "2023-04-02T21:03:38.212Z"
   },
   {
    "duration": 4,
    "start_time": "2023-04-02T21:03:38.699Z"
   },
   {
    "duration": 2219,
    "start_time": "2023-04-02T21:03:38.705Z"
   },
   {
    "duration": 6,
    "start_time": "2023-04-02T21:03:40.926Z"
   },
   {
    "duration": 199,
    "start_time": "2023-04-02T21:03:40.934Z"
   },
   {
    "duration": 1406,
    "start_time": "2023-04-02T21:06:39.709Z"
   },
   {
    "duration": 426,
    "start_time": "2023-04-02T21:06:41.117Z"
   },
   {
    "duration": 151,
    "start_time": "2023-04-02T21:06:41.545Z"
   },
   {
    "duration": 124,
    "start_time": "2023-04-02T21:06:41.698Z"
   },
   {
    "duration": 12,
    "start_time": "2023-04-02T21:06:41.824Z"
   },
   {
    "duration": 55,
    "start_time": "2023-04-02T21:06:41.838Z"
   },
   {
    "duration": 5,
    "start_time": "2023-04-02T21:06:41.894Z"
   },
   {
    "duration": 969,
    "start_time": "2023-04-02T21:06:41.900Z"
   },
   {
    "duration": 8,
    "start_time": "2023-04-02T21:06:42.871Z"
   },
   {
    "duration": 30,
    "start_time": "2023-04-02T21:06:42.885Z"
   },
   {
    "duration": 490,
    "start_time": "2023-04-02T21:06:42.917Z"
   },
   {
    "duration": 4,
    "start_time": "2023-04-02T21:06:43.409Z"
   },
   {
    "duration": 1676,
    "start_time": "2023-04-02T21:06:43.415Z"
   },
   {
    "duration": 5,
    "start_time": "2023-04-02T21:06:45.093Z"
   },
   {
    "duration": 182,
    "start_time": "2023-04-02T21:06:45.100Z"
   },
   {
    "duration": 14,
    "start_time": "2023-04-02T21:09:11.151Z"
   },
   {
    "duration": 14,
    "start_time": "2023-04-02T21:09:48.398Z"
   },
   {
    "duration": 21,
    "start_time": "2023-04-02T21:10:20.891Z"
   },
   {
    "duration": 16,
    "start_time": "2023-04-02T21:10:54.846Z"
   },
   {
    "duration": 14,
    "start_time": "2023-04-02T21:11:02.540Z"
   },
   {
    "duration": 32,
    "start_time": "2023-04-02T21:12:06.859Z"
   },
   {
    "duration": 1443,
    "start_time": "2023-04-02T21:12:55.286Z"
   },
   {
    "duration": 428,
    "start_time": "2023-04-02T21:12:56.731Z"
   },
   {
    "duration": 160,
    "start_time": "2023-04-02T21:12:57.177Z"
   },
   {
    "duration": 164,
    "start_time": "2023-04-02T21:12:57.339Z"
   },
   {
    "duration": 284,
    "start_time": "2023-04-02T21:12:57.504Z"
   },
   {
    "duration": 0,
    "start_time": "2023-04-02T21:12:57.798Z"
   },
   {
    "duration": 0,
    "start_time": "2023-04-02T21:12:57.799Z"
   },
   {
    "duration": 0,
    "start_time": "2023-04-02T21:12:57.800Z"
   },
   {
    "duration": 0,
    "start_time": "2023-04-02T21:12:57.802Z"
   },
   {
    "duration": 1,
    "start_time": "2023-04-02T21:12:57.803Z"
   },
   {
    "duration": 0,
    "start_time": "2023-04-02T21:12:57.805Z"
   },
   {
    "duration": 0,
    "start_time": "2023-04-02T21:12:57.807Z"
   },
   {
    "duration": 0,
    "start_time": "2023-04-02T21:12:57.808Z"
   },
   {
    "duration": 0,
    "start_time": "2023-04-02T21:12:57.809Z"
   },
   {
    "duration": 15,
    "start_time": "2023-04-02T21:13:10.725Z"
   },
   {
    "duration": 21,
    "start_time": "2023-04-02T21:13:29.844Z"
   },
   {
    "duration": 1450,
    "start_time": "2023-04-02T21:13:40.237Z"
   },
   {
    "duration": 448,
    "start_time": "2023-04-02T21:13:41.690Z"
   },
   {
    "duration": 186,
    "start_time": "2023-04-02T21:13:42.139Z"
   },
   {
    "duration": 133,
    "start_time": "2023-04-02T21:13:42.327Z"
   },
   {
    "duration": 168,
    "start_time": "2023-04-02T21:13:42.462Z"
   },
   {
    "duration": 0,
    "start_time": "2023-04-02T21:13:42.632Z"
   },
   {
    "duration": 0,
    "start_time": "2023-04-02T21:13:42.633Z"
   },
   {
    "duration": 0,
    "start_time": "2023-04-02T21:13:42.634Z"
   },
   {
    "duration": 0,
    "start_time": "2023-04-02T21:13:42.635Z"
   },
   {
    "duration": 0,
    "start_time": "2023-04-02T21:13:42.636Z"
   },
   {
    "duration": 0,
    "start_time": "2023-04-02T21:13:42.637Z"
   },
   {
    "duration": 0,
    "start_time": "2023-04-02T21:13:42.638Z"
   },
   {
    "duration": 0,
    "start_time": "2023-04-02T21:13:42.639Z"
   },
   {
    "duration": 0,
    "start_time": "2023-04-02T21:13:42.640Z"
   },
   {
    "duration": 1417,
    "start_time": "2023-04-02T21:14:48.545Z"
   },
   {
    "duration": 474,
    "start_time": "2023-04-02T21:14:49.964Z"
   },
   {
    "duration": 17,
    "start_time": "2023-04-02T21:14:50.440Z"
   },
   {
    "duration": 190,
    "start_time": "2023-04-02T21:14:50.460Z"
   },
   {
    "duration": 141,
    "start_time": "2023-04-02T21:14:50.651Z"
   },
   {
    "duration": 123,
    "start_time": "2023-04-02T21:14:50.794Z"
   },
   {
    "duration": 0,
    "start_time": "2023-04-02T21:14:50.919Z"
   },
   {
    "duration": 0,
    "start_time": "2023-04-02T21:14:50.921Z"
   },
   {
    "duration": 0,
    "start_time": "2023-04-02T21:14:50.922Z"
   },
   {
    "duration": 0,
    "start_time": "2023-04-02T21:14:50.924Z"
   },
   {
    "duration": 0,
    "start_time": "2023-04-02T21:14:50.925Z"
   },
   {
    "duration": 0,
    "start_time": "2023-04-02T21:14:50.927Z"
   },
   {
    "duration": 0,
    "start_time": "2023-04-02T21:14:50.928Z"
   },
   {
    "duration": 0,
    "start_time": "2023-04-02T21:14:50.928Z"
   },
   {
    "duration": 0,
    "start_time": "2023-04-02T21:14:50.930Z"
   },
   {
    "duration": 20,
    "start_time": "2023-04-02T21:25:09.047Z"
   },
   {
    "duration": 11,
    "start_time": "2023-04-02T21:25:18.950Z"
   },
   {
    "duration": 1410,
    "start_time": "2023-04-02T21:26:21.194Z"
   },
   {
    "duration": 428,
    "start_time": "2023-04-02T21:26:22.605Z"
   },
   {
    "duration": 159,
    "start_time": "2023-04-02T21:26:23.035Z"
   },
   {
    "duration": 127,
    "start_time": "2023-04-02T21:26:23.196Z"
   },
   {
    "duration": 6,
    "start_time": "2023-04-02T21:26:23.325Z"
   },
   {
    "duration": 4,
    "start_time": "2023-04-02T21:26:23.332Z"
   },
   {
    "duration": 1149,
    "start_time": "2023-04-02T21:26:23.338Z"
   },
   {
    "duration": 3,
    "start_time": "2023-04-02T21:26:24.489Z"
   },
   {
    "duration": 18,
    "start_time": "2023-04-02T21:26:24.494Z"
   },
   {
    "duration": 483,
    "start_time": "2023-04-02T21:26:24.514Z"
   },
   {
    "duration": 3,
    "start_time": "2023-04-02T21:26:24.999Z"
   },
   {
    "duration": 1629,
    "start_time": "2023-04-02T21:26:25.003Z"
   },
   {
    "duration": 6,
    "start_time": "2023-04-02T21:26:26.634Z"
   },
   {
    "duration": 169,
    "start_time": "2023-04-02T21:26:26.641Z"
   },
   {
    "duration": 13,
    "start_time": "2023-04-02T21:27:50.506Z"
   },
   {
    "duration": 16,
    "start_time": "2023-04-02T21:29:09.810Z"
   },
   {
    "duration": 14,
    "start_time": "2023-04-02T21:29:11.727Z"
   },
   {
    "duration": 1545,
    "start_time": "2023-04-02T21:29:23.155Z"
   },
   {
    "duration": 421,
    "start_time": "2023-04-02T21:29:24.702Z"
   },
   {
    "duration": 178,
    "start_time": "2023-04-02T21:29:25.124Z"
   },
   {
    "duration": 282,
    "start_time": "2023-04-02T21:29:25.304Z"
   },
   {
    "duration": 20,
    "start_time": "2023-04-02T21:29:25.588Z"
   },
   {
    "duration": 5,
    "start_time": "2023-04-02T21:29:25.610Z"
   },
   {
    "duration": 1854,
    "start_time": "2023-04-02T21:29:25.617Z"
   },
   {
    "duration": 13,
    "start_time": "2023-04-02T21:29:27.477Z"
   },
   {
    "duration": 10,
    "start_time": "2023-04-02T21:29:27.492Z"
   },
   {
    "duration": 230,
    "start_time": "2023-04-02T21:29:27.505Z"
   },
   {
    "duration": 3,
    "start_time": "2023-04-02T21:29:27.736Z"
   },
   {
    "duration": 1064,
    "start_time": "2023-04-02T21:29:27.741Z"
   },
   {
    "duration": 5,
    "start_time": "2023-04-02T21:29:28.807Z"
   },
   {
    "duration": 374,
    "start_time": "2023-04-02T21:29:28.814Z"
   },
   {
    "duration": 1701,
    "start_time": "2023-04-03T08:39:50.491Z"
   },
   {
    "duration": 1479,
    "start_time": "2023-04-03T08:39:52.194Z"
   },
   {
    "duration": 138,
    "start_time": "2023-04-03T08:39:53.675Z"
   },
   {
    "duration": 127,
    "start_time": "2023-04-03T08:39:53.815Z"
   },
   {
    "duration": 28,
    "start_time": "2023-04-03T08:39:53.945Z"
   },
   {
    "duration": 14,
    "start_time": "2023-04-03T08:39:53.975Z"
   },
   {
    "duration": 979,
    "start_time": "2023-04-03T08:39:53.990Z"
   },
   {
    "duration": 4,
    "start_time": "2023-04-03T08:39:54.972Z"
   },
   {
    "duration": 31,
    "start_time": "2023-04-03T08:39:54.977Z"
   },
   {
    "duration": 223,
    "start_time": "2023-04-03T08:39:55.010Z"
   },
   {
    "duration": 3,
    "start_time": "2023-04-03T08:39:55.235Z"
   },
   {
    "duration": 1104,
    "start_time": "2023-04-03T08:39:55.239Z"
   },
   {
    "duration": 8,
    "start_time": "2023-04-03T08:39:56.345Z"
   },
   {
    "duration": 421,
    "start_time": "2023-04-03T08:39:56.356Z"
   },
   {
    "duration": 3,
    "start_time": "2023-04-03T09:16:15.902Z"
   },
   {
    "duration": 4,
    "start_time": "2023-04-03T09:16:25.410Z"
   },
   {
    "duration": 3,
    "start_time": "2023-04-03T09:28:55.603Z"
   },
   {
    "duration": 4,
    "start_time": "2023-04-03T09:29:34.374Z"
   },
   {
    "duration": 4,
    "start_time": "2023-04-03T09:29:41.183Z"
   },
   {
    "duration": 5,
    "start_time": "2023-04-03T09:32:18.004Z"
   },
   {
    "duration": 5,
    "start_time": "2023-04-03T09:34:17.763Z"
   },
   {
    "duration": 372,
    "start_time": "2023-04-03T09:34:19.917Z"
   },
   {
    "duration": 3,
    "start_time": "2023-04-03T09:36:00.227Z"
   },
   {
    "duration": 4,
    "start_time": "2023-04-03T09:37:34.282Z"
   },
   {
    "duration": 123,
    "start_time": "2023-04-03T09:39:04.980Z"
   },
   {
    "duration": 7,
    "start_time": "2023-04-03T09:39:22.923Z"
   },
   {
    "duration": 7,
    "start_time": "2023-04-03T09:40:19.629Z"
   },
   {
    "duration": 6,
    "start_time": "2023-04-03T09:42:41.320Z"
   },
   {
    "duration": 1237,
    "start_time": "2023-04-03T10:27:34.510Z"
   },
   {
    "duration": 364,
    "start_time": "2023-04-03T10:27:35.751Z"
   },
   {
    "duration": 109,
    "start_time": "2023-04-03T10:27:36.117Z"
   },
   {
    "duration": 193,
    "start_time": "2023-04-03T10:27:36.228Z"
   },
   {
    "duration": 13,
    "start_time": "2023-04-03T10:27:36.472Z"
   },
   {
    "duration": 22,
    "start_time": "2023-04-03T10:27:36.487Z"
   },
   {
    "duration": 1469,
    "start_time": "2023-04-03T10:27:36.510Z"
   },
   {
    "duration": 3,
    "start_time": "2023-04-03T10:27:37.980Z"
   },
   {
    "duration": 11,
    "start_time": "2023-04-03T10:27:37.985Z"
   },
   {
    "duration": 199,
    "start_time": "2023-04-03T10:27:37.998Z"
   },
   {
    "duration": 2,
    "start_time": "2023-04-03T10:27:38.199Z"
   },
   {
    "duration": 927,
    "start_time": "2023-04-03T10:27:38.203Z"
   },
   {
    "duration": 4,
    "start_time": "2023-04-03T10:27:39.132Z"
   },
   {
    "duration": 351,
    "start_time": "2023-04-03T10:27:39.138Z"
   },
   {
    "duration": 85,
    "start_time": "2023-04-03T10:27:39.491Z"
   },
   {
    "duration": 210,
    "start_time": "2023-04-03T10:27:39.578Z"
   },
   {
    "duration": 0,
    "start_time": "2023-04-03T10:27:39.789Z"
   },
   {
    "duration": 5,
    "start_time": "2023-04-03T10:28:15.939Z"
   },
   {
    "duration": 5,
    "start_time": "2023-04-03T10:28:20.176Z"
   },
   {
    "duration": 3,
    "start_time": "2023-04-03T10:36:13.481Z"
   },
   {
    "duration": 3,
    "start_time": "2023-04-03T10:41:18.516Z"
   },
   {
    "duration": 1231,
    "start_time": "2023-04-03T10:57:37.337Z"
   },
   {
    "duration": 346,
    "start_time": "2023-04-03T10:57:38.570Z"
   },
   {
    "duration": 117,
    "start_time": "2023-04-03T10:57:38.917Z"
   },
   {
    "duration": 107,
    "start_time": "2023-04-03T10:57:39.036Z"
   },
   {
    "duration": 29,
    "start_time": "2023-04-03T10:57:39.144Z"
   },
   {
    "duration": 8,
    "start_time": "2023-04-03T10:57:39.174Z"
   },
   {
    "duration": 740,
    "start_time": "2023-04-03T10:57:39.184Z"
   },
   {
    "duration": 4,
    "start_time": "2023-04-03T10:57:39.926Z"
   },
   {
    "duration": 16,
    "start_time": "2023-04-03T10:57:39.932Z"
   },
   {
    "duration": 208,
    "start_time": "2023-04-03T10:57:39.951Z"
   },
   {
    "duration": 3,
    "start_time": "2023-04-03T10:57:40.160Z"
   },
   {
    "duration": 931,
    "start_time": "2023-04-03T10:57:40.172Z"
   },
   {
    "duration": 5,
    "start_time": "2023-04-03T10:57:41.104Z"
   },
   {
    "duration": 462,
    "start_time": "2023-04-03T10:57:41.111Z"
   },
   {
    "duration": 3,
    "start_time": "2023-04-03T10:57:41.575Z"
   },
   {
    "duration": 109,
    "start_time": "2023-04-03T10:57:41.580Z"
   },
   {
    "duration": 17,
    "start_time": "2023-04-03T10:57:41.690Z"
   },
   {
    "duration": 20,
    "start_time": "2023-04-03T10:57:41.709Z"
   },
   {
    "duration": 18,
    "start_time": "2023-04-03T10:57:41.730Z"
   },
   {
    "duration": 25,
    "start_time": "2023-04-03T10:57:41.749Z"
   },
   {
    "duration": 120,
    "start_time": "2023-04-03T10:59:49.883Z"
   },
   {
    "duration": 5,
    "start_time": "2023-04-03T11:00:10.174Z"
   },
   {
    "duration": 16,
    "start_time": "2023-04-03T11:00:15.581Z"
   },
   {
    "duration": 3,
    "start_time": "2023-04-03T11:01:16.741Z"
   },
   {
    "duration": 6,
    "start_time": "2023-04-03T11:01:18.490Z"
   },
   {
    "duration": 1316,
    "start_time": "2023-04-03T11:01:20.756Z"
   },
   {
    "duration": 1446,
    "start_time": "2023-04-03T11:02:45.652Z"
   },
   {
    "duration": 384,
    "start_time": "2023-04-03T11:02:47.100Z"
   },
   {
    "duration": 130,
    "start_time": "2023-04-03T11:02:47.485Z"
   },
   {
    "duration": 109,
    "start_time": "2023-04-03T11:02:47.616Z"
   },
   {
    "duration": 13,
    "start_time": "2023-04-03T11:02:47.726Z"
   },
   {
    "duration": 7,
    "start_time": "2023-04-03T11:02:47.740Z"
   },
   {
    "duration": 768,
    "start_time": "2023-04-03T11:02:47.748Z"
   },
   {
    "duration": 3,
    "start_time": "2023-04-03T11:02:48.517Z"
   },
   {
    "duration": 33,
    "start_time": "2023-04-03T11:02:48.522Z"
   },
   {
    "duration": 188,
    "start_time": "2023-04-03T11:02:48.558Z"
   },
   {
    "duration": 3,
    "start_time": "2023-04-03T11:02:48.748Z"
   },
   {
    "duration": 1138,
    "start_time": "2023-04-03T11:02:48.753Z"
   },
   {
    "duration": 7,
    "start_time": "2023-04-03T11:02:49.893Z"
   },
   {
    "duration": 485,
    "start_time": "2023-04-03T11:02:49.901Z"
   },
   {
    "duration": 84,
    "start_time": "2023-04-03T11:02:50.387Z"
   },
   {
    "duration": 107,
    "start_time": "2023-04-03T11:02:50.474Z"
   },
   {
    "duration": 7,
    "start_time": "2023-04-03T11:02:50.583Z"
   },
   {
    "duration": 9,
    "start_time": "2023-04-03T11:02:50.591Z"
   },
   {
    "duration": 17,
    "start_time": "2023-04-03T11:02:50.601Z"
   },
   {
    "duration": 5,
    "start_time": "2023-04-03T11:02:50.620Z"
   },
   {
    "duration": 1756,
    "start_time": "2023-04-03T11:02:50.626Z"
   },
   {
    "duration": 2299,
    "start_time": "2023-04-03T11:03:58.680Z"
   },
   {
    "duration": 405,
    "start_time": "2023-04-03T11:04:00.982Z"
   },
   {
    "duration": 138,
    "start_time": "2023-04-03T11:04:01.388Z"
   },
   {
    "duration": 112,
    "start_time": "2023-04-03T11:04:01.528Z"
   },
   {
    "duration": 13,
    "start_time": "2023-04-03T11:04:01.641Z"
   },
   {
    "duration": 43,
    "start_time": "2023-04-03T11:04:01.656Z"
   },
   {
    "duration": 1011,
    "start_time": "2023-04-03T11:04:01.700Z"
   },
   {
    "duration": 3,
    "start_time": "2023-04-03T11:04:02.713Z"
   },
   {
    "duration": 25,
    "start_time": "2023-04-03T11:04:02.717Z"
   },
   {
    "duration": 273,
    "start_time": "2023-04-03T11:04:02.745Z"
   },
   {
    "duration": 3,
    "start_time": "2023-04-03T11:04:03.020Z"
   },
   {
    "duration": 1013,
    "start_time": "2023-04-03T11:04:03.024Z"
   },
   {
    "duration": 5,
    "start_time": "2023-04-03T11:04:04.039Z"
   },
   {
    "duration": 430,
    "start_time": "2023-04-03T11:04:04.045Z"
   },
   {
    "duration": 3,
    "start_time": "2023-04-03T11:04:04.477Z"
   },
   {
    "duration": 110,
    "start_time": "2023-04-03T11:04:04.481Z"
   },
   {
    "duration": 10,
    "start_time": "2023-04-03T11:04:04.592Z"
   },
   {
    "duration": 6,
    "start_time": "2023-04-03T11:04:04.604Z"
   },
   {
    "duration": 5,
    "start_time": "2023-04-03T11:04:04.612Z"
   },
   {
    "duration": 7,
    "start_time": "2023-04-03T11:04:04.618Z"
   },
   {
    "duration": 2601,
    "start_time": "2023-04-03T11:04:04.672Z"
   },
   {
    "duration": 124,
    "start_time": "2023-04-03T11:06:34.993Z"
   },
   {
    "duration": 3,
    "start_time": "2023-04-03T11:06:36.762Z"
   },
   {
    "duration": 4,
    "start_time": "2023-04-03T11:06:37.931Z"
   },
   {
    "duration": 2,
    "start_time": "2023-04-03T11:07:07.506Z"
   },
   {
    "duration": 1335,
    "start_time": "2023-04-03T11:07:13.597Z"
   },
   {
    "duration": 447,
    "start_time": "2023-04-03T11:07:14.933Z"
   },
   {
    "duration": 225,
    "start_time": "2023-04-03T11:07:15.381Z"
   },
   {
    "duration": 276,
    "start_time": "2023-04-03T11:07:15.608Z"
   },
   {
    "duration": 16,
    "start_time": "2023-04-03T11:07:15.887Z"
   },
   {
    "duration": 17,
    "start_time": "2023-04-03T11:07:15.905Z"
   },
   {
    "duration": 1585,
    "start_time": "2023-04-03T11:07:15.972Z"
   },
   {
    "duration": 4,
    "start_time": "2023-04-03T11:07:17.558Z"
   },
   {
    "duration": 21,
    "start_time": "2023-04-03T11:07:17.571Z"
   },
   {
    "duration": 211,
    "start_time": "2023-04-03T11:07:17.595Z"
   },
   {
    "duration": 3,
    "start_time": "2023-04-03T11:07:17.807Z"
   },
   {
    "duration": 957,
    "start_time": "2023-04-03T11:07:17.811Z"
   },
   {
    "duration": 10,
    "start_time": "2023-04-03T11:07:18.773Z"
   },
   {
    "duration": 400,
    "start_time": "2023-04-03T11:07:18.786Z"
   },
   {
    "duration": 6,
    "start_time": "2023-04-03T11:07:19.192Z"
   },
   {
    "duration": 80,
    "start_time": "2023-04-03T11:07:19.200Z"
   },
   {
    "duration": 122,
    "start_time": "2023-04-03T11:07:19.282Z"
   },
   {
    "duration": 15,
    "start_time": "2023-04-03T11:07:19.406Z"
   },
   {
    "duration": 5,
    "start_time": "2023-04-03T11:07:19.422Z"
   },
   {
    "duration": 13,
    "start_time": "2023-04-03T11:07:19.428Z"
   },
   {
    "duration": 118,
    "start_time": "2023-04-03T11:07:19.442Z"
   },
   {
    "duration": 3,
    "start_time": "2023-04-03T11:08:27.878Z"
   },
   {
    "duration": 5,
    "start_time": "2023-04-03T11:09:01.327Z"
   },
   {
    "duration": 17,
    "start_time": "2023-04-03T11:09:03.508Z"
   },
   {
    "duration": 10,
    "start_time": "2023-04-03T11:09:18.990Z"
   },
   {
    "duration": 24,
    "start_time": "2023-04-03T11:09:21.167Z"
   },
   {
    "duration": 4,
    "start_time": "2023-04-03T11:10:19.229Z"
   },
   {
    "duration": 6,
    "start_time": "2023-04-03T11:10:21.340Z"
   },
   {
    "duration": 1425,
    "start_time": "2023-04-03T11:10:23.615Z"
   },
   {
    "duration": 26,
    "start_time": "2023-04-03T11:36:58.769Z"
   },
   {
    "duration": 7,
    "start_time": "2023-04-03T12:21:39.164Z"
   },
   {
    "duration": 1357,
    "start_time": "2023-04-03T12:21:54.460Z"
   },
   {
    "duration": 5,
    "start_time": "2023-04-03T12:22:28.752Z"
   },
   {
    "duration": 1344,
    "start_time": "2023-04-03T12:22:30.201Z"
   },
   {
    "duration": 1344,
    "start_time": "2023-04-03T12:23:00.325Z"
   },
   {
    "duration": 1333,
    "start_time": "2023-04-03T12:23:03.183Z"
   },
   {
    "duration": 7,
    "start_time": "2023-04-03T12:23:56.286Z"
   },
   {
    "duration": 1242,
    "start_time": "2023-04-03T12:23:57.930Z"
   },
   {
    "duration": 1269,
    "start_time": "2023-04-03T12:24:00.266Z"
   },
   {
    "duration": 1230,
    "start_time": "2023-04-03T12:24:02.689Z"
   },
   {
    "duration": 1654,
    "start_time": "2023-04-03T13:51:46.790Z"
   },
   {
    "duration": 510,
    "start_time": "2023-04-03T13:51:48.446Z"
   },
   {
    "duration": 175,
    "start_time": "2023-04-03T13:51:48.958Z"
   },
   {
    "duration": 115,
    "start_time": "2023-04-03T13:51:49.135Z"
   },
   {
    "duration": 13,
    "start_time": "2023-04-03T13:51:49.252Z"
   },
   {
    "duration": 70,
    "start_time": "2023-04-03T13:51:49.267Z"
   },
   {
    "duration": 906,
    "start_time": "2023-04-03T13:51:49.339Z"
   },
   {
    "duration": 4,
    "start_time": "2023-04-03T13:51:50.247Z"
   },
   {
    "duration": 44,
    "start_time": "2023-04-03T13:51:50.253Z"
   },
   {
    "duration": 282,
    "start_time": "2023-04-03T13:51:50.298Z"
   },
   {
    "duration": 4,
    "start_time": "2023-04-03T13:51:50.581Z"
   },
   {
    "duration": 972,
    "start_time": "2023-04-03T13:51:50.587Z"
   },
   {
    "duration": 5,
    "start_time": "2023-04-03T13:51:51.560Z"
   },
   {
    "duration": 364,
    "start_time": "2023-04-03T13:51:51.579Z"
   },
   {
    "duration": 6,
    "start_time": "2023-04-03T13:51:51.978Z"
   },
   {
    "duration": 141,
    "start_time": "2023-04-03T13:51:51.989Z"
   },
   {
    "duration": 13,
    "start_time": "2023-04-03T13:51:52.133Z"
   },
   {
    "duration": 14,
    "start_time": "2023-04-03T13:51:52.148Z"
   },
   {
    "duration": 11,
    "start_time": "2023-04-03T13:51:52.163Z"
   },
   {
    "duration": 29,
    "start_time": "2023-04-03T13:51:52.175Z"
   },
   {
    "duration": 1440,
    "start_time": "2023-04-03T13:51:52.207Z"
   },
   {
    "duration": 1387,
    "start_time": "2023-04-03T13:51:53.649Z"
   },
   {
    "duration": 1406,
    "start_time": "2023-04-03T13:51:55.038Z"
   },
   {
    "duration": 1953,
    "start_time": "2023-04-04T09:59:09.019Z"
   },
   {
    "duration": 477,
    "start_time": "2023-04-04T09:59:10.974Z"
   },
   {
    "duration": 169,
    "start_time": "2023-04-04T09:59:11.453Z"
   },
   {
    "duration": 139,
    "start_time": "2023-04-04T09:59:11.624Z"
   },
   {
    "duration": 20,
    "start_time": "2023-04-04T09:59:11.765Z"
   },
   {
    "duration": 33,
    "start_time": "2023-04-04T09:59:11.787Z"
   },
   {
    "duration": 1051,
    "start_time": "2023-04-04T09:59:11.823Z"
   },
   {
    "duration": 5,
    "start_time": "2023-04-04T09:59:12.876Z"
   },
   {
    "duration": 25,
    "start_time": "2023-04-04T09:59:12.883Z"
   },
   {
    "duration": 256,
    "start_time": "2023-04-04T09:59:12.914Z"
   },
   {
    "duration": 3,
    "start_time": "2023-04-04T09:59:13.172Z"
   },
   {
    "duration": 1111,
    "start_time": "2023-04-04T09:59:13.177Z"
   },
   {
    "duration": 5,
    "start_time": "2023-04-04T09:59:14.291Z"
   },
   {
    "duration": 431,
    "start_time": "2023-04-04T09:59:14.303Z"
   },
   {
    "duration": 68,
    "start_time": "2023-04-04T09:59:14.737Z"
   },
   {
    "duration": 7,
    "start_time": "2023-04-04T09:59:14.807Z"
   },
   {
    "duration": 16,
    "start_time": "2023-04-04T09:59:14.816Z"
   },
   {
    "duration": 5,
    "start_time": "2023-04-04T09:59:14.902Z"
   },
   {
    "duration": 7,
    "start_time": "2023-04-04T09:59:14.909Z"
   },
   {
    "duration": 6,
    "start_time": "2023-04-04T09:59:14.926Z"
   },
   {
    "duration": 1665,
    "start_time": "2023-04-04T09:59:14.935Z"
   },
   {
    "duration": 1670,
    "start_time": "2023-04-04T09:59:16.603Z"
   },
   {
    "duration": 1660,
    "start_time": "2023-04-04T09:59:18.275Z"
   },
   {
    "duration": 904,
    "start_time": "2023-04-04T10:00:07.144Z"
   },
   {
    "duration": 1729,
    "start_time": "2023-04-04T13:58:04.711Z"
   },
   {
    "duration": 1189,
    "start_time": "2023-04-04T13:58:06.443Z"
   },
   {
    "duration": 157,
    "start_time": "2023-04-04T13:58:07.633Z"
   },
   {
    "duration": 144,
    "start_time": "2023-04-04T13:58:07.792Z"
   },
   {
    "duration": 16,
    "start_time": "2023-04-04T13:58:07.938Z"
   },
   {
    "duration": 11,
    "start_time": "2023-04-04T13:58:07.956Z"
   },
   {
    "duration": 1001,
    "start_time": "2023-04-04T13:58:07.969Z"
   },
   {
    "duration": 4,
    "start_time": "2023-04-04T13:58:08.972Z"
   },
   {
    "duration": 27,
    "start_time": "2023-04-04T13:58:08.978Z"
   },
   {
    "duration": 255,
    "start_time": "2023-04-04T13:58:09.007Z"
   },
   {
    "duration": 3,
    "start_time": "2023-04-04T13:58:09.264Z"
   },
   {
    "duration": 1172,
    "start_time": "2023-04-04T13:58:09.269Z"
   },
   {
    "duration": 5,
    "start_time": "2023-04-04T13:58:10.444Z"
   },
   {
    "duration": 392,
    "start_time": "2023-04-04T13:58:10.451Z"
   },
   {
    "duration": 80,
    "start_time": "2023-04-04T13:58:10.845Z"
   },
   {
    "duration": 95,
    "start_time": "2023-04-04T13:58:10.931Z"
   },
   {
    "duration": 13,
    "start_time": "2023-04-04T13:58:11.028Z"
   },
   {
    "duration": 7,
    "start_time": "2023-04-04T13:58:11.043Z"
   },
   {
    "duration": 13,
    "start_time": "2023-04-04T13:58:11.052Z"
   },
   {
    "duration": 6,
    "start_time": "2023-04-04T13:58:11.067Z"
   },
   {
    "duration": 1606,
    "start_time": "2023-04-04T13:58:11.075Z"
   },
   {
    "duration": 1562,
    "start_time": "2023-04-04T13:58:12.683Z"
   },
   {
    "duration": 1988,
    "start_time": "2023-04-04T13:58:14.247Z"
   }
  ],
  "kernelspec": {
   "display_name": "Python 3 (ipykernel)",
   "language": "python",
   "name": "python3"
  },
  "language_info": {
   "codemirror_mode": {
    "name": "ipython",
    "version": 3
   },
   "file_extension": ".py",
   "mimetype": "text/x-python",
   "name": "python",
   "nbconvert_exporter": "python",
   "pygments_lexer": "ipython3",
   "version": "3.9.5"
  },
  "toc": {
   "base_numbering": 1,
   "nav_menu": {},
   "number_sections": true,
   "sideBar": true,
   "skip_h1_title": true,
   "title_cell": "Table of Contents",
   "title_sidebar": "Contents",
   "toc_cell": false,
   "toc_position": {
    "height": "calc(100% - 180px)",
    "left": "10px",
    "top": "150px",
    "width": "238.267px"
   },
   "toc_section_display": true,
   "toc_window_display": false
  }
 },
 "nbformat": 4,
 "nbformat_minor": 2
}
