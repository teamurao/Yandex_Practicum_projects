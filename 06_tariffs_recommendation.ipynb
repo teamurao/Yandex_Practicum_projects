{
 "cells": [
  {
   "cell_type": "markdown",
   "metadata": {},
   "source": [
    "# Рекомендация тарифов"
   ]
  },
  {
   "cell_type": "markdown",
   "metadata": {},
   "source": [
    "В вашем распоряжении данные о поведении клиентов, которые уже перешли на эти тарифы (из проекта курса «Статистический анализ данных»). Нужно построить модель для задачи классификации, которая выберет подходящий тариф. Предобработка данных не понадобится — вы её уже сделали.\n",
    "\n",
    "Постройте модель с максимально большим значением *accuracy*. Чтобы сдать проект успешно, нужно довести долю правильных ответов по крайней мере до 0.75. Проверьте *accuracy* на тестовой выборке самостоятельно."
   ]
  },
  {
   "cell_type": "markdown",
   "metadata": {},
   "source": [
    "## Откройте и изучите файл"
   ]
  },
  {
   "cell_type": "code",
   "execution_count": 1,
   "metadata": {},
   "outputs": [],
   "source": [
    "import pandas as pd\n",
    "from sklearn.model_selection import train_test_split\n",
    "from sklearn.linear_model import LogisticRegression \n",
    "from sklearn.ensemble import RandomForestClassifier \n",
    "from sklearn.tree import DecisionTreeClassifier\n",
    "from sklearn.metrics import accuracy_score\n",
    "from sklearn.dummy import DummyClassifier\n",
    "from tqdm import tqdm"
   ]
  },
  {
   "cell_type": "code",
   "execution_count": 2,
   "metadata": {},
   "outputs": [],
   "source": [
    "data = pd.read_csv('/datasets/users_behavior.csv')"
   ]
  },
  {
   "cell_type": "code",
   "execution_count": 3,
   "metadata": {},
   "outputs": [
    {
     "data": {
      "text/html": [
       "<div>\n",
       "<style scoped>\n",
       "    .dataframe tbody tr th:only-of-type {\n",
       "        vertical-align: middle;\n",
       "    }\n",
       "\n",
       "    .dataframe tbody tr th {\n",
       "        vertical-align: top;\n",
       "    }\n",
       "\n",
       "    .dataframe thead th {\n",
       "        text-align: right;\n",
       "    }\n",
       "</style>\n",
       "<table border=\"1\" class=\"dataframe\">\n",
       "  <thead>\n",
       "    <tr style=\"text-align: right;\">\n",
       "      <th></th>\n",
       "      <th>calls</th>\n",
       "      <th>minutes</th>\n",
       "      <th>messages</th>\n",
       "      <th>mb_used</th>\n",
       "      <th>is_ultra</th>\n",
       "    </tr>\n",
       "  </thead>\n",
       "  <tbody>\n",
       "    <tr>\n",
       "      <th>0</th>\n",
       "      <td>40.0</td>\n",
       "      <td>311.90</td>\n",
       "      <td>83.0</td>\n",
       "      <td>19915.42</td>\n",
       "      <td>0</td>\n",
       "    </tr>\n",
       "    <tr>\n",
       "      <th>1</th>\n",
       "      <td>85.0</td>\n",
       "      <td>516.75</td>\n",
       "      <td>56.0</td>\n",
       "      <td>22696.96</td>\n",
       "      <td>0</td>\n",
       "    </tr>\n",
       "    <tr>\n",
       "      <th>2</th>\n",
       "      <td>77.0</td>\n",
       "      <td>467.66</td>\n",
       "      <td>86.0</td>\n",
       "      <td>21060.45</td>\n",
       "      <td>0</td>\n",
       "    </tr>\n",
       "    <tr>\n",
       "      <th>3</th>\n",
       "      <td>106.0</td>\n",
       "      <td>745.53</td>\n",
       "      <td>81.0</td>\n",
       "      <td>8437.39</td>\n",
       "      <td>1</td>\n",
       "    </tr>\n",
       "    <tr>\n",
       "      <th>4</th>\n",
       "      <td>66.0</td>\n",
       "      <td>418.74</td>\n",
       "      <td>1.0</td>\n",
       "      <td>14502.75</td>\n",
       "      <td>0</td>\n",
       "    </tr>\n",
       "    <tr>\n",
       "      <th>5</th>\n",
       "      <td>58.0</td>\n",
       "      <td>344.56</td>\n",
       "      <td>21.0</td>\n",
       "      <td>15823.37</td>\n",
       "      <td>0</td>\n",
       "    </tr>\n",
       "    <tr>\n",
       "      <th>6</th>\n",
       "      <td>57.0</td>\n",
       "      <td>431.64</td>\n",
       "      <td>20.0</td>\n",
       "      <td>3738.90</td>\n",
       "      <td>1</td>\n",
       "    </tr>\n",
       "    <tr>\n",
       "      <th>7</th>\n",
       "      <td>15.0</td>\n",
       "      <td>132.40</td>\n",
       "      <td>6.0</td>\n",
       "      <td>21911.60</td>\n",
       "      <td>0</td>\n",
       "    </tr>\n",
       "    <tr>\n",
       "      <th>8</th>\n",
       "      <td>7.0</td>\n",
       "      <td>43.39</td>\n",
       "      <td>3.0</td>\n",
       "      <td>2538.67</td>\n",
       "      <td>1</td>\n",
       "    </tr>\n",
       "    <tr>\n",
       "      <th>9</th>\n",
       "      <td>90.0</td>\n",
       "      <td>665.41</td>\n",
       "      <td>38.0</td>\n",
       "      <td>17358.61</td>\n",
       "      <td>0</td>\n",
       "    </tr>\n",
       "  </tbody>\n",
       "</table>\n",
       "</div>"
      ],
      "text/plain": [
       "   calls  minutes  messages   mb_used  is_ultra\n",
       "0   40.0   311.90      83.0  19915.42         0\n",
       "1   85.0   516.75      56.0  22696.96         0\n",
       "2   77.0   467.66      86.0  21060.45         0\n",
       "3  106.0   745.53      81.0   8437.39         1\n",
       "4   66.0   418.74       1.0  14502.75         0\n",
       "5   58.0   344.56      21.0  15823.37         0\n",
       "6   57.0   431.64      20.0   3738.90         1\n",
       "7   15.0   132.40       6.0  21911.60         0\n",
       "8    7.0    43.39       3.0   2538.67         1\n",
       "9   90.0   665.41      38.0  17358.61         0"
      ]
     },
     "execution_count": 3,
     "metadata": {},
     "output_type": "execute_result"
    }
   ],
   "source": [
    "data.head(10)"
   ]
  },
  {
   "cell_type": "code",
   "execution_count": 4,
   "metadata": {},
   "outputs": [
    {
     "name": "stdout",
     "output_type": "stream",
     "text": [
      "<class 'pandas.core.frame.DataFrame'>\n",
      "RangeIndex: 3214 entries, 0 to 3213\n",
      "Data columns (total 5 columns):\n",
      " #   Column    Non-Null Count  Dtype  \n",
      "---  ------    --------------  -----  \n",
      " 0   calls     3214 non-null   float64\n",
      " 1   minutes   3214 non-null   float64\n",
      " 2   messages  3214 non-null   float64\n",
      " 3   mb_used   3214 non-null   float64\n",
      " 4   is_ultra  3214 non-null   int64  \n",
      "dtypes: float64(4), int64(1)\n",
      "memory usage: 125.7 KB\n"
     ]
    }
   ],
   "source": [
    "data.info()"
   ]
  },
  {
   "cell_type": "code",
   "execution_count": 5,
   "metadata": {},
   "outputs": [
    {
     "data": {
      "text/html": [
       "<div>\n",
       "<style scoped>\n",
       "    .dataframe tbody tr th:only-of-type {\n",
       "        vertical-align: middle;\n",
       "    }\n",
       "\n",
       "    .dataframe tbody tr th {\n",
       "        vertical-align: top;\n",
       "    }\n",
       "\n",
       "    .dataframe thead th {\n",
       "        text-align: right;\n",
       "    }\n",
       "</style>\n",
       "<table border=\"1\" class=\"dataframe\">\n",
       "  <thead>\n",
       "    <tr style=\"text-align: right;\">\n",
       "      <th></th>\n",
       "      <th>calls</th>\n",
       "      <th>minutes</th>\n",
       "      <th>messages</th>\n",
       "      <th>mb_used</th>\n",
       "      <th>is_ultra</th>\n",
       "    </tr>\n",
       "  </thead>\n",
       "  <tbody>\n",
       "    <tr>\n",
       "      <th>count</th>\n",
       "      <td>3214.000000</td>\n",
       "      <td>3214.000000</td>\n",
       "      <td>3214.000000</td>\n",
       "      <td>3214.000000</td>\n",
       "      <td>3214.000000</td>\n",
       "    </tr>\n",
       "    <tr>\n",
       "      <th>mean</th>\n",
       "      <td>63.038892</td>\n",
       "      <td>438.208787</td>\n",
       "      <td>38.281269</td>\n",
       "      <td>17207.673836</td>\n",
       "      <td>0.306472</td>\n",
       "    </tr>\n",
       "    <tr>\n",
       "      <th>std</th>\n",
       "      <td>33.236368</td>\n",
       "      <td>234.569872</td>\n",
       "      <td>36.148326</td>\n",
       "      <td>7570.968246</td>\n",
       "      <td>0.461100</td>\n",
       "    </tr>\n",
       "    <tr>\n",
       "      <th>min</th>\n",
       "      <td>0.000000</td>\n",
       "      <td>0.000000</td>\n",
       "      <td>0.000000</td>\n",
       "      <td>0.000000</td>\n",
       "      <td>0.000000</td>\n",
       "    </tr>\n",
       "    <tr>\n",
       "      <th>25%</th>\n",
       "      <td>40.000000</td>\n",
       "      <td>274.575000</td>\n",
       "      <td>9.000000</td>\n",
       "      <td>12491.902500</td>\n",
       "      <td>0.000000</td>\n",
       "    </tr>\n",
       "    <tr>\n",
       "      <th>50%</th>\n",
       "      <td>62.000000</td>\n",
       "      <td>430.600000</td>\n",
       "      <td>30.000000</td>\n",
       "      <td>16943.235000</td>\n",
       "      <td>0.000000</td>\n",
       "    </tr>\n",
       "    <tr>\n",
       "      <th>75%</th>\n",
       "      <td>82.000000</td>\n",
       "      <td>571.927500</td>\n",
       "      <td>57.000000</td>\n",
       "      <td>21424.700000</td>\n",
       "      <td>1.000000</td>\n",
       "    </tr>\n",
       "    <tr>\n",
       "      <th>max</th>\n",
       "      <td>244.000000</td>\n",
       "      <td>1632.060000</td>\n",
       "      <td>224.000000</td>\n",
       "      <td>49745.730000</td>\n",
       "      <td>1.000000</td>\n",
       "    </tr>\n",
       "  </tbody>\n",
       "</table>\n",
       "</div>"
      ],
      "text/plain": [
       "             calls      minutes     messages       mb_used     is_ultra\n",
       "count  3214.000000  3214.000000  3214.000000   3214.000000  3214.000000\n",
       "mean     63.038892   438.208787    38.281269  17207.673836     0.306472\n",
       "std      33.236368   234.569872    36.148326   7570.968246     0.461100\n",
       "min       0.000000     0.000000     0.000000      0.000000     0.000000\n",
       "25%      40.000000   274.575000     9.000000  12491.902500     0.000000\n",
       "50%      62.000000   430.600000    30.000000  16943.235000     0.000000\n",
       "75%      82.000000   571.927500    57.000000  21424.700000     1.000000\n",
       "max     244.000000  1632.060000   224.000000  49745.730000     1.000000"
      ]
     },
     "execution_count": 5,
     "metadata": {},
     "output_type": "execute_result"
    }
   ],
   "source": [
    "data.describe()"
   ]
  },
  {
   "cell_type": "markdown",
   "metadata": {},
   "source": [
    "***Вывод:***\n",
    "- Всего 3214 данных. Пропущенных значений нет.\n",
    "- Все 5 столбцов представлены в числовых значениях. Целевой столбик is_ultra имеет тип данных int. Изменение типов данных не требуется"
   ]
  },
  {
   "cell_type": "markdown",
   "metadata": {},
   "source": [
    "## Разбейте данные на выборки"
   ]
  },
  {
   "cell_type": "code",
   "execution_count": 6,
   "metadata": {},
   "outputs": [],
   "source": [
    "#признаки\n",
    "target = data['is_ultra']\n",
    "#целевой признак\n",
    "features = data.drop('is_ultra', axis=1)\n",
    "\n",
    "#разбиение выборки на тестовую, валидационную и тренировочную\n",
    "features, features_train, target, target_train = train_test_split(\n",
    "    features, target, test_size=0.4, random_state=12345, stratify=target)\n",
    "features_test, features_valid, target_test, target_valid = train_test_split(\n",
    "    features, target, train_size=0.5, random_state=12345, stratify=target)"
   ]
  },
  {
   "cell_type": "markdown",
   "metadata": {},
   "source": [
    "Посмотрим на размеры тестовой, валидационной и тренировочной выборок. Тестовая и валидационная по 20%, а тренировочная - 60%."
   ]
  },
  {
   "cell_type": "code",
   "execution_count": 7,
   "metadata": {},
   "outputs": [
    {
     "data": {
      "text/plain": [
       "((964, 4), (964,))"
      ]
     },
     "execution_count": 7,
     "metadata": {},
     "output_type": "execute_result"
    }
   ],
   "source": [
    "features_test.shape, target_test.shape"
   ]
  },
  {
   "cell_type": "code",
   "execution_count": 8,
   "metadata": {},
   "outputs": [
    {
     "data": {
      "text/plain": [
       "((1286, 4), (1286,))"
      ]
     },
     "execution_count": 8,
     "metadata": {},
     "output_type": "execute_result"
    }
   ],
   "source": [
    "features_train.shape, target_train.shape"
   ]
  },
  {
   "cell_type": "code",
   "execution_count": 9,
   "metadata": {},
   "outputs": [
    {
     "data": {
      "text/plain": [
       "((964, 4), (964,))"
      ]
     },
     "execution_count": 9,
     "metadata": {},
     "output_type": "execute_result"
    }
   ],
   "source": [
    "features_valid.shape, target_valid.shape"
   ]
  },
  {
   "cell_type": "markdown",
   "metadata": {},
   "source": [
    "## Исследуйте модели"
   ]
  },
  {
   "cell_type": "markdown",
   "metadata": {},
   "source": [
    "Остановимся на трех моделях, изученных в курсе: решающее дерево, случайный лес и логистическая регрессия. Начнем с решающего дерева и попробуем найти лучший вариант набора гипперпараметров для каждой модели."
   ]
  },
  {
   "cell_type": "code",
   "execution_count": 10,
   "metadata": {},
   "outputs": [
    {
     "name": "stderr",
     "output_type": "stream",
     "text": [
      "100%|██████████| 12/12 [01:23<00:00,  6.93s/it]"
     ]
    },
    {
     "name": "stdout",
     "output_type": "stream",
     "text": [
      "Лучший результат: 0.8029045643153527\n",
      "Гиперпараметры: \n",
      "      max_depth: 8 \n",
      "      min_samples_leaf: 10\n",
      "      min_samples_split: 28\n",
      "CPU times: user 1min 22s, sys: 256 ms, total: 1min 23s\n",
      "Wall time: 1min 23s\n"
     ]
    },
    {
     "name": "stderr",
     "output_type": "stream",
     "text": [
      "\n"
     ]
    }
   ],
   "source": [
    "%%time\n",
    "best_model_dt = None\n",
    "best_model_dt_depth = 0\n",
    "best_model_dt_leaf = 0\n",
    "best_model_dt_split = 0\n",
    "best_result_dt = 0\n",
    "for depth in tqdm(range(1, 13)):\n",
    "    for i in range(1, 50):\n",
    "        for j in range(2, 30):\n",
    "            model_dt = DecisionTreeClassifier(random_state=12345, max_depth=depth, min_samples_leaf=i, min_samples_split=j) \n",
    "            model_dt.fit(features_train, target_train) \n",
    "            predictions_dt = model_dt.predict(features_valid) \n",
    "            result_dt = accuracy_score(target_valid, predictions_dt)\n",
    "            if result_dt > best_result_dt:\n",
    "                best_model_dt = model_dt\n",
    "                best_model_dt_depth = depth\n",
    "                best_model_dt_leaf = i\n",
    "                best_model_dt_split = j\n",
    "                best_result_dt = result_dt\n",
    "print(f'Лучший результат: {best_result_dt}') \n",
    "print(f'''Гиперпараметры: \n",
    "      max_depth: {best_model_dt_depth} \n",
    "      min_samples_leaf: {best_model_dt_leaf}\n",
    "      min_samples_split: {best_model_dt_split}''')"
   ]
  },
  {
   "cell_type": "markdown",
   "metadata": {},
   "source": [
    "Случайный лес."
   ]
  },
  {
   "cell_type": "code",
   "execution_count": 11,
   "metadata": {},
   "outputs": [
    {
     "name": "stderr",
     "output_type": "stream",
     "text": [
      "100%|██████████| 59/59 [02:38<00:00,  2.68s/it]"
     ]
    },
    {
     "name": "stdout",
     "output_type": "stream",
     "text": [
      "Лучший результат: 0.8122406639004149\n",
      "Гиперпараметры: \n",
      "        n_estimators: 53 \n",
      "        max_depth: 11\n",
      "CPU times: user 2min 36s, sys: 899 ms, total: 2min 37s\n",
      "Wall time: 2min 38s\n"
     ]
    },
    {
     "name": "stderr",
     "output_type": "stream",
     "text": [
      "\n"
     ]
    }
   ],
   "source": [
    "%%time\n",
    "best_model_rf = None\n",
    "best_model_rf_est = 0\n",
    "best_model_rf_depth = 0\n",
    "best_result_rf = 0\n",
    "rf_score_list = []\n",
    "rf_est = []\n",
    "rf_depth = []\n",
    "for est in tqdm(range(1, 60)):\n",
    "    for dpth in range(1, 30):\n",
    "        model_rf = RandomForestClassifier(random_state=12345, n_estimators=est, max_depth = dpth) \n",
    "        model_rf.fit(features_train, target_train) \n",
    "        predictions_rf = model_rf.predict(features_valid) \n",
    "        result_rf = model_rf.score(features_valid, target_valid)\n",
    "        rf_est.append(est)\n",
    "        rf_score_list.append(result_rf)\n",
    "        rf_depth.append(dpth)\n",
    "        if result_rf > best_result_rf:\n",
    "            best_model_rf = model_rf\n",
    "            best_result_rf = result_rf\n",
    "            best_model_rf_est = est\n",
    "            best_model_rf_depth = dpth\n",
    "print(f'Лучший результат: {best_result_rf}') \n",
    "print(f'''Гиперпараметры: \n",
    "        n_estimators: {best_model_rf_est} \n",
    "        max_depth: {best_model_rf_depth}''')"
   ]
  },
  {
   "cell_type": "markdown",
   "metadata": {},
   "source": [
    "Логистическая регрессия."
   ]
  },
  {
   "cell_type": "code",
   "execution_count": 12,
   "metadata": {},
   "outputs": [
    {
     "name": "stderr",
     "output_type": "stream",
     "text": [
      "100%|██████████| 99/99 [00:02<00:00, 34.02it/s]"
     ]
    },
    {
     "name": "stdout",
     "output_type": "stream",
     "text": [
      "Лучший результат: 0.7354771784232366\n",
      "Гиперпараметры: \n",
      "        n_estimators: 100\n",
      "CPU times: user 2.82 s, sys: 31.8 ms, total: 2.86 s\n",
      "Wall time: 2.91 s\n"
     ]
    },
    {
     "name": "stderr",
     "output_type": "stream",
     "text": [
      "\n"
     ]
    }
   ],
   "source": [
    "%%time\n",
    "best_model_lg = None\n",
    "best_model_lg_it = 0\n",
    "best_result_lg = 0\n",
    "lg_score_list = []\n",
    "lg_it = []\n",
    "for it in tqdm(range(100, 10000, 100)):\n",
    "    model_lg = LogisticRegression(random_state=12345, solver='lbfgs', max_iter = it) \n",
    "    model_lg.fit(features_train, target_train) \n",
    "    predictions_lg = model_lg.predict(features_valid) \n",
    "    result_lg = model_lg.score(features_valid, target_valid)\n",
    "    lg_it.append(it)\n",
    "    lg_score_list.append(result_lg)\n",
    "    if result_lg > best_result_lg:\n",
    "        best_model_lg = model_lg\n",
    "        best_result_lg = result_lg\n",
    "        best_model_lg_it = it\n",
    "print(f'Лучший результат: {best_result_lg}') \n",
    "print(f'''Гиперпараметры: \n",
    "        n_estimators: {best_model_lg_it}''')"
   ]
  },
  {
   "cell_type": "markdown",
   "metadata": {},
   "source": [
    "***Вывод***\n",
    "\n",
    "1. DecisionTree \n",
    "Лучший результат: 0.8029045643153527\n",
    "Гиперпараметры: max_depth: 8, min_samples_leaf: 10, min_samples_split: 28\n",
    "2. RandomForestClassifier \n",
    "Лучший результат: 0.8122406639004149 \n",
    "Гиперпараметры: n_estimators: 53, max_depth: 11\n",
    "3. LogisticRegression\n",
    "Лучший результат: 0.7354771784232366 \n",
    "Гиперпараметры: n_estimators: 100\n",
    "\n",
    "Среди трех разных моделей: решающее дерево, случайный лес и логистиеская регрессия лучше себя показал случайный лес. Параметры у случайного леса такие: \n",
    "- количество деревьев: 53\n",
    "- глубина: 11"
   ]
  },
  {
   "cell_type": "markdown",
   "metadata": {},
   "source": [
    "## Проверьте модель на тестовой выборке"
   ]
  },
  {
   "cell_type": "markdown",
   "metadata": {},
   "source": [
    "Проверим модель случайного леса на тестовой выборке."
   ]
  },
  {
   "cell_type": "code",
   "execution_count": 13,
   "metadata": {},
   "outputs": [
    {
     "name": "stdout",
     "output_type": "stream",
     "text": [
      "Точность: 0.7873443983402489\n"
     ]
    }
   ],
   "source": [
    "predictions_rf_test = best_model_rf.predict(features_test)\n",
    "result_rf_test = accuracy_score(target_test, predictions_rf_test)\n",
    "print(\"Точность:\", result_rf_test)"
   ]
  },
  {
   "cell_type": "code",
   "execution_count": 16,
   "metadata": {},
   "outputs": [
    {
     "name": "stdout",
     "output_type": "stream",
     "text": [
      "Accuracy на тестовой выборке: 0.7842323651452282\n"
     ]
    }
   ],
   "source": [
    "model = RandomForestClassifier(\n",
    "    random_state=12345, max_depth = 11,  n_estimators = 53)\n",
    "model.fit(pd.concat([features_train, features_valid]), pd.concat([target_train, target_valid])) \n",
    "predictions = model.predict(features_test)\n",
    "result = accuracy_score(target_test, predictions)\n",
    "\n",
    "print(\"Accuracy на тестовой выборке:\", result)"
   ]
  },
  {
   "cell_type": "markdown",
   "metadata": {},
   "source": [
    "На тренировочной + валидационной выборке точность стала чу-чуть пониже."
   ]
  },
  {
   "cell_type": "markdown",
   "metadata": {},
   "source": [
    "***Вывод***\n",
    "Точность все так же высока. Оставляем модель случайного леса."
   ]
  },
  {
   "cell_type": "markdown",
   "metadata": {},
   "source": [
    "## (бонус) Проверьте модели на адекватность"
   ]
  },
  {
   "cell_type": "markdown",
   "metadata": {},
   "source": [
    "Проверим модели на адекватность, т.е. сравним наши модели со случайной (фиктивной)."
   ]
  },
  {
   "cell_type": "code",
   "execution_count": 14,
   "metadata": {},
   "outputs": [
    {
     "name": "stdout",
     "output_type": "stream",
     "text": [
      "Точность Dummy: 0.6929460580912863\n"
     ]
    }
   ],
   "source": [
    "classifier = DummyClassifier(strategy='most_frequent', random_state=0)\n",
    "classifier.fit(features_train, target_train)\n",
    "DummyClassifier(random_state=0, strategy='most_frequent')\n",
    "score = classifier.score(features_test, target_test)\n",
    "print('Точность Dummy:', score)"
   ]
  },
  {
   "cell_type": "markdown",
   "metadata": {},
   "source": [
    "***Вывод***\n",
    "При рандомном распределении DummyClassifier шанс угадать значительно ниже чем предсказания нашей модели рандомного леса."
   ]
  },
  {
   "cell_type": "markdown",
   "metadata": {},
   "source": [
    "## Вывод"
   ]
  },
  {
   "cell_type": "markdown",
   "metadata": {},
   "source": [
    "1. Сравнили несколько моделей: решающее дерево, случайный лес и логистическую регрессию. Лучшим вариантом оказался случайный лес. На нашей моели случайного леса точность - 0.78. Проверка на адекватность пройдена: при случайном распределении точность гораздо ниже, чем на обученной модели случайного леса (0.69). \n",
    "2. Возможно при большем количестве информации о пользователях модель сможет показать лучше результат. "
   ]
  }
 ],
 "metadata": {
  "ExecuteTimeLog": [
   {
    "duration": 44,
    "start_time": "2023-02-07T22:35:48.395Z"
   },
   {
    "duration": 400,
    "start_time": "2023-02-07T22:35:54.724Z"
   },
   {
    "duration": 123,
    "start_time": "2023-02-07T22:35:55.126Z"
   },
   {
    "duration": 16,
    "start_time": "2023-02-07T22:35:55.250Z"
   },
   {
    "duration": 20,
    "start_time": "2023-02-07T22:35:55.267Z"
   },
   {
    "duration": 14,
    "start_time": "2023-02-07T22:39:03.151Z"
   },
   {
    "duration": 46,
    "start_time": "2023-02-09T21:30:45.730Z"
   },
   {
    "duration": 1077,
    "start_time": "2023-02-09T21:30:53.060Z"
   },
   {
    "duration": 129,
    "start_time": "2023-02-09T21:30:54.139Z"
   },
   {
    "duration": 17,
    "start_time": "2023-02-09T21:30:54.270Z"
   },
   {
    "duration": 10,
    "start_time": "2023-02-09T21:30:54.289Z"
   },
   {
    "duration": 23,
    "start_time": "2023-02-09T21:30:54.300Z"
   },
   {
    "duration": 104,
    "start_time": "2023-02-09T21:30:54.324Z"
   },
   {
    "duration": 0,
    "start_time": "2023-02-09T21:30:54.429Z"
   },
   {
    "duration": 1086,
    "start_time": "2023-02-09T21:31:16.122Z"
   },
   {
    "duration": 35,
    "start_time": "2023-02-09T21:31:17.210Z"
   },
   {
    "duration": 15,
    "start_time": "2023-02-09T21:31:17.247Z"
   },
   {
    "duration": 9,
    "start_time": "2023-02-09T21:31:17.263Z"
   },
   {
    "duration": 20,
    "start_time": "2023-02-09T21:31:17.274Z"
   },
   {
    "duration": 9,
    "start_time": "2023-02-09T21:31:17.295Z"
   },
   {
    "duration": 4,
    "start_time": "2023-02-09T21:31:17.306Z"
   },
   {
    "duration": 4,
    "start_time": "2023-02-09T21:32:00.141Z"
   },
   {
    "duration": 4,
    "start_time": "2023-02-09T21:42:01.501Z"
   },
   {
    "duration": 3,
    "start_time": "2023-02-09T21:42:31.044Z"
   },
   {
    "duration": 4,
    "start_time": "2023-02-09T21:42:49.462Z"
   },
   {
    "duration": 4,
    "start_time": "2023-02-09T21:44:05.400Z"
   },
   {
    "duration": 4,
    "start_time": "2023-02-09T21:44:37.424Z"
   },
   {
    "duration": 3,
    "start_time": "2023-02-09T21:45:08.123Z"
   },
   {
    "duration": 1060,
    "start_time": "2023-02-09T21:45:26.663Z"
   },
   {
    "duration": 30,
    "start_time": "2023-02-09T21:45:27.725Z"
   },
   {
    "duration": 16,
    "start_time": "2023-02-09T21:45:27.756Z"
   },
   {
    "duration": 10,
    "start_time": "2023-02-09T21:45:27.774Z"
   },
   {
    "duration": 23,
    "start_time": "2023-02-09T21:45:27.786Z"
   },
   {
    "duration": 8,
    "start_time": "2023-02-09T21:45:27.811Z"
   },
   {
    "duration": 4,
    "start_time": "2023-02-09T21:45:27.821Z"
   },
   {
    "duration": 4,
    "start_time": "2023-02-09T21:45:27.849Z"
   },
   {
    "duration": 5,
    "start_time": "2023-02-09T21:45:27.854Z"
   },
   {
    "duration": 1058,
    "start_time": "2023-02-09T21:50:24.952Z"
   },
   {
    "duration": 31,
    "start_time": "2023-02-09T21:50:26.014Z"
   },
   {
    "duration": 16,
    "start_time": "2023-02-09T21:50:26.046Z"
   },
   {
    "duration": 17,
    "start_time": "2023-02-09T21:50:26.063Z"
   },
   {
    "duration": 25,
    "start_time": "2023-02-09T21:50:26.081Z"
   },
   {
    "duration": 10,
    "start_time": "2023-02-09T21:50:26.108Z"
   },
   {
    "duration": 5,
    "start_time": "2023-02-09T21:50:26.119Z"
   },
   {
    "duration": 12,
    "start_time": "2023-02-09T21:50:26.125Z"
   },
   {
    "duration": 13,
    "start_time": "2023-02-09T21:50:26.138Z"
   },
   {
    "duration": 95,
    "start_time": "2023-02-09T22:00:56.841Z"
   },
   {
    "duration": 1022,
    "start_time": "2023-02-09T22:02:00.192Z"
   },
   {
    "duration": 30,
    "start_time": "2023-02-09T22:02:01.216Z"
   },
   {
    "duration": 16,
    "start_time": "2023-02-09T22:02:01.247Z"
   },
   {
    "duration": 27,
    "start_time": "2023-02-09T22:02:01.265Z"
   },
   {
    "duration": 48,
    "start_time": "2023-02-09T22:02:01.293Z"
   },
   {
    "duration": 23,
    "start_time": "2023-02-09T22:02:01.342Z"
   },
   {
    "duration": 21,
    "start_time": "2023-02-09T22:02:01.367Z"
   },
   {
    "duration": 38,
    "start_time": "2023-02-09T22:02:01.389Z"
   },
   {
    "duration": 25,
    "start_time": "2023-02-09T22:02:01.428Z"
   },
   {
    "duration": 118,
    "start_time": "2023-02-09T22:02:01.455Z"
   },
   {
    "duration": 1055,
    "start_time": "2023-02-09T22:02:28.163Z"
   },
   {
    "duration": 30,
    "start_time": "2023-02-09T22:02:29.220Z"
   },
   {
    "duration": 16,
    "start_time": "2023-02-09T22:02:29.252Z"
   },
   {
    "duration": 12,
    "start_time": "2023-02-09T22:02:29.269Z"
   },
   {
    "duration": 23,
    "start_time": "2023-02-09T22:02:29.282Z"
   },
   {
    "duration": 8,
    "start_time": "2023-02-09T22:02:29.307Z"
   },
   {
    "duration": 6,
    "start_time": "2023-02-09T22:02:29.317Z"
   },
   {
    "duration": 17,
    "start_time": "2023-02-09T22:02:29.325Z"
   },
   {
    "duration": 6,
    "start_time": "2023-02-09T22:02:29.349Z"
   },
   {
    "duration": 1015,
    "start_time": "2023-02-09T22:02:42.289Z"
   },
   {
    "duration": 31,
    "start_time": "2023-02-09T22:02:43.306Z"
   },
   {
    "duration": 16,
    "start_time": "2023-02-09T22:02:43.339Z"
   },
   {
    "duration": 10,
    "start_time": "2023-02-09T22:02:43.356Z"
   },
   {
    "duration": 21,
    "start_time": "2023-02-09T22:02:43.368Z"
   },
   {
    "duration": 10,
    "start_time": "2023-02-09T22:02:43.390Z"
   },
   {
    "duration": 6,
    "start_time": "2023-02-09T22:02:43.401Z"
   },
   {
    "duration": 18,
    "start_time": "2023-02-09T22:02:43.408Z"
   },
   {
    "duration": 7,
    "start_time": "2023-02-09T22:02:43.431Z"
   },
   {
    "duration": 76394,
    "start_time": "2023-02-09T22:02:43.440Z"
   },
   {
    "duration": 81344,
    "start_time": "2023-02-09T22:23:26.175Z"
   },
   {
    "duration": 83087,
    "start_time": "2023-02-09T22:26:18.077Z"
   },
   {
    "duration": 1158,
    "start_time": "2023-02-09T22:32:54.132Z"
   },
   {
    "duration": 32,
    "start_time": "2023-02-09T22:32:55.292Z"
   },
   {
    "duration": 16,
    "start_time": "2023-02-09T22:32:55.325Z"
   },
   {
    "duration": 23,
    "start_time": "2023-02-09T22:32:55.343Z"
   },
   {
    "duration": 34,
    "start_time": "2023-02-09T22:32:55.369Z"
   },
   {
    "duration": 12,
    "start_time": "2023-02-09T22:32:55.404Z"
   },
   {
    "duration": 4,
    "start_time": "2023-02-09T22:32:55.417Z"
   },
   {
    "duration": 7,
    "start_time": "2023-02-09T22:32:55.422Z"
   },
   {
    "duration": 14,
    "start_time": "2023-02-09T22:32:55.430Z"
   },
   {
    "duration": 79868,
    "start_time": "2023-02-09T22:32:55.445Z"
   },
   {
    "duration": 1053,
    "start_time": "2023-02-09T22:34:32.088Z"
   },
   {
    "duration": 32,
    "start_time": "2023-02-09T22:34:33.143Z"
   },
   {
    "duration": 18,
    "start_time": "2023-02-09T22:34:33.176Z"
   },
   {
    "duration": 10,
    "start_time": "2023-02-09T22:34:33.196Z"
   },
   {
    "duration": 20,
    "start_time": "2023-02-09T22:34:33.207Z"
   },
   {
    "duration": 7,
    "start_time": "2023-02-09T22:34:33.229Z"
   },
   {
    "duration": 11,
    "start_time": "2023-02-09T22:34:33.238Z"
   },
   {
    "duration": 4,
    "start_time": "2023-02-09T22:34:33.251Z"
   },
   {
    "duration": 15,
    "start_time": "2023-02-09T22:34:33.256Z"
   },
   {
    "duration": 80427,
    "start_time": "2023-02-09T22:34:33.273Z"
   },
   {
    "duration": 148999,
    "start_time": "2023-02-09T22:35:53.702Z"
   },
   {
    "duration": 2645,
    "start_time": "2023-02-09T22:47:22.682Z"
   },
   {
    "duration": 6,
    "start_time": "2023-02-09T23:16:11.703Z"
   },
   {
    "duration": 17,
    "start_time": "2023-02-09T23:16:13.970Z"
   },
   {
    "duration": 6,
    "start_time": "2023-02-09T23:16:15.817Z"
   },
   {
    "duration": 99,
    "start_time": "2023-02-09T23:25:26.383Z"
   },
   {
    "duration": 1275,
    "start_time": "2023-02-09T23:26:17.356Z"
   },
   {
    "duration": 30,
    "start_time": "2023-02-09T23:26:18.633Z"
   },
   {
    "duration": 16,
    "start_time": "2023-02-09T23:26:18.665Z"
   },
   {
    "duration": 10,
    "start_time": "2023-02-09T23:26:18.684Z"
   },
   {
    "duration": 21,
    "start_time": "2023-02-09T23:26:18.696Z"
   },
   {
    "duration": 8,
    "start_time": "2023-02-09T23:26:18.719Z"
   },
   {
    "duration": 21,
    "start_time": "2023-02-09T23:26:18.728Z"
   },
   {
    "duration": 6,
    "start_time": "2023-02-09T23:26:18.750Z"
   },
   {
    "duration": 5,
    "start_time": "2023-02-09T23:26:18.758Z"
   },
   {
    "duration": 76954,
    "start_time": "2023-02-09T23:26:18.765Z"
   },
   {
    "duration": 147306,
    "start_time": "2023-02-09T23:27:35.720Z"
   },
   {
    "duration": 2795,
    "start_time": "2023-02-09T23:30:03.028Z"
   },
   {
    "duration": 5,
    "start_time": "2023-02-09T23:30:05.825Z"
   },
   {
    "duration": 32,
    "start_time": "2023-02-09T23:30:05.832Z"
   },
   {
    "duration": 5,
    "start_time": "2023-02-09T23:30:05.866Z"
   },
   {
    "duration": 12,
    "start_time": "2023-02-09T23:30:05.872Z"
   },
   {
    "duration": 1745,
    "start_time": "2023-02-10T07:06:39.155Z"
   },
   {
    "duration": 28,
    "start_time": "2023-02-10T07:06:40.903Z"
   },
   {
    "duration": 18,
    "start_time": "2023-02-10T07:06:40.933Z"
   },
   {
    "duration": 11,
    "start_time": "2023-02-10T07:06:40.953Z"
   },
   {
    "duration": 24,
    "start_time": "2023-02-10T07:06:40.966Z"
   },
   {
    "duration": 9,
    "start_time": "2023-02-10T07:06:40.992Z"
   },
   {
    "duration": 33,
    "start_time": "2023-02-10T07:06:41.003Z"
   },
   {
    "duration": 5,
    "start_time": "2023-02-10T07:06:41.038Z"
   },
   {
    "duration": 8,
    "start_time": "2023-02-10T07:06:41.044Z"
   },
   {
    "duration": 81947,
    "start_time": "2023-02-10T07:06:41.055Z"
   },
   {
    "duration": 1243,
    "start_time": "2023-02-10T22:39:46.778Z"
   },
   {
    "duration": 155,
    "start_time": "2023-02-10T22:39:48.023Z"
   },
   {
    "duration": 28,
    "start_time": "2023-02-10T22:39:48.180Z"
   },
   {
    "duration": 17,
    "start_time": "2023-02-10T22:39:48.210Z"
   },
   {
    "duration": 137,
    "start_time": "2023-02-10T22:39:48.229Z"
   },
   {
    "duration": 65,
    "start_time": "2023-02-10T22:39:48.368Z"
   },
   {
    "duration": 45,
    "start_time": "2023-02-10T22:39:48.435Z"
   },
   {
    "duration": 36,
    "start_time": "2023-02-10T22:39:48.483Z"
   },
   {
    "duration": 92,
    "start_time": "2023-02-10T22:39:48.521Z"
   },
   {
    "duration": 1153,
    "start_time": "2023-02-10T22:40:47.092Z"
   },
   {
    "duration": 48,
    "start_time": "2023-02-10T22:40:48.248Z"
   },
   {
    "duration": 25,
    "start_time": "2023-02-10T22:40:48.298Z"
   },
   {
    "duration": 18,
    "start_time": "2023-02-10T22:40:48.326Z"
   },
   {
    "duration": 67,
    "start_time": "2023-02-10T22:40:48.347Z"
   },
   {
    "duration": 10,
    "start_time": "2023-02-10T22:40:48.416Z"
   },
   {
    "duration": 8,
    "start_time": "2023-02-10T22:40:48.428Z"
   },
   {
    "duration": 56,
    "start_time": "2023-02-10T22:40:48.439Z"
   },
   {
    "duration": 17,
    "start_time": "2023-02-10T22:40:48.498Z"
   },
   {
    "duration": 1122,
    "start_time": "2023-02-10T22:41:23.693Z"
   },
   {
    "duration": 51,
    "start_time": "2023-02-10T22:41:24.818Z"
   },
   {
    "duration": 26,
    "start_time": "2023-02-10T22:41:24.878Z"
   },
   {
    "duration": 14,
    "start_time": "2023-02-10T22:41:24.906Z"
   },
   {
    "duration": 39,
    "start_time": "2023-02-10T22:41:24.922Z"
   },
   {
    "duration": 27,
    "start_time": "2023-02-10T22:41:24.964Z"
   },
   {
    "duration": 4,
    "start_time": "2023-02-10T22:41:24.993Z"
   },
   {
    "duration": 9,
    "start_time": "2023-02-10T22:41:24.999Z"
   },
   {
    "duration": 14,
    "start_time": "2023-02-10T22:41:25.010Z"
   },
   {
    "duration": 1162,
    "start_time": "2023-02-10T22:42:12.014Z"
   },
   {
    "duration": 30,
    "start_time": "2023-02-10T22:42:13.179Z"
   },
   {
    "duration": 18,
    "start_time": "2023-02-10T22:42:13.211Z"
   },
   {
    "duration": 19,
    "start_time": "2023-02-10T22:42:13.231Z"
   },
   {
    "duration": 51,
    "start_time": "2023-02-10T22:42:13.259Z"
   },
   {
    "duration": 12,
    "start_time": "2023-02-10T22:42:13.313Z"
   },
   {
    "duration": 28,
    "start_time": "2023-02-10T22:42:13.326Z"
   },
   {
    "duration": 36,
    "start_time": "2023-02-10T22:42:13.356Z"
   },
   {
    "duration": 13,
    "start_time": "2023-02-10T22:42:13.394Z"
   },
   {
    "duration": 92909,
    "start_time": "2023-02-10T22:42:13.410Z"
   },
   {
    "duration": 184968,
    "start_time": "2023-02-10T22:43:46.322Z"
   },
   {
    "duration": 3341,
    "start_time": "2023-02-10T22:46:51.293Z"
   },
   {
    "duration": 14,
    "start_time": "2023-02-10T22:46:54.645Z"
   },
   {
    "duration": 35,
    "start_time": "2023-02-10T22:46:54.662Z"
   },
   {
    "duration": 6,
    "start_time": "2023-02-10T22:46:54.699Z"
   },
   {
    "duration": 9,
    "start_time": "2023-02-10T22:46:54.707Z"
   },
   {
    "duration": 1209,
    "start_time": "2023-02-10T23:20:45.948Z"
   },
   {
    "duration": 32,
    "start_time": "2023-02-10T23:20:47.159Z"
   },
   {
    "duration": 18,
    "start_time": "2023-02-10T23:20:47.193Z"
   },
   {
    "duration": 12,
    "start_time": "2023-02-10T23:20:47.213Z"
   },
   {
    "duration": 30,
    "start_time": "2023-02-10T23:20:47.227Z"
   },
   {
    "duration": 10,
    "start_time": "2023-02-10T23:20:47.259Z"
   },
   {
    "duration": 5,
    "start_time": "2023-02-10T23:20:47.271Z"
   },
   {
    "duration": 5,
    "start_time": "2023-02-10T23:20:47.277Z"
   },
   {
    "duration": 6,
    "start_time": "2023-02-10T23:20:47.284Z"
   },
   {
    "duration": 83129,
    "start_time": "2023-02-10T23:20:47.291Z"
   },
   {
    "duration": 158174,
    "start_time": "2023-02-10T23:22:10.422Z"
   },
   {
    "duration": 2919,
    "start_time": "2023-02-10T23:24:48.597Z"
   },
   {
    "duration": 33,
    "start_time": "2023-02-10T23:24:51.518Z"
   },
   {
    "duration": 6,
    "start_time": "2023-02-10T23:24:51.553Z"
   },
   {
    "duration": 205,
    "start_time": "2023-02-10T23:30:21.513Z"
   },
   {
    "duration": 207,
    "start_time": "2023-02-10T23:32:13.991Z"
   }
  ],
  "kernelspec": {
   "display_name": "Python 3 (ipykernel)",
   "language": "python",
   "name": "python3"
  },
  "language_info": {
   "codemirror_mode": {
    "name": "ipython",
    "version": 3
   },
   "file_extension": ".py",
   "mimetype": "text/x-python",
   "name": "python",
   "nbconvert_exporter": "python",
   "pygments_lexer": "ipython3",
   "version": "3.9.5"
  },
  "toc": {
   "base_numbering": 1,
   "nav_menu": {},
   "number_sections": true,
   "sideBar": true,
   "skip_h1_title": true,
   "title_cell": "Table of Contents",
   "title_sidebar": "Contents",
   "toc_cell": false,
   "toc_position": {},
   "toc_section_display": true,
   "toc_window_display": false
  }
 },
 "nbformat": 4,
 "nbformat_minor": 2
}
