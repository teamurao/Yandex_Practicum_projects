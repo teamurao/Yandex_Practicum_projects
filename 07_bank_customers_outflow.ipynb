{
 "cells": [
  {
   "cell_type": "markdown",
   "metadata": {
    "toc": true
   },
   "source": [
    "<h1>Содержание<span class=\"tocSkip\"></span></h1>\n",
    "<div class=\"toc\"><ul class=\"toc-item\"><li><span><a href=\"#Подготовка-данных\" data-toc-modified-id=\"Подготовка-данных-1\"><span class=\"toc-item-num\">1&nbsp;&nbsp;</span>Подготовка данных</a></span></li><li><span><a href=\"#Исследование-задачи\" data-toc-modified-id=\"Исследование-задачи-2\"><span class=\"toc-item-num\">2&nbsp;&nbsp;</span>Исследование задачи</a></span></li><li><span><a href=\"#Борьба-с-дисбалансом\" data-toc-modified-id=\"Борьба-с-дисбалансом-3\"><span class=\"toc-item-num\">3&nbsp;&nbsp;</span>Борьба с дисбалансом</a></span></li><li><span><a href=\"#Тестирование-модели\" data-toc-modified-id=\"Тестирование-модели-4\"><span class=\"toc-item-num\">4&nbsp;&nbsp;</span>Тестирование модели</a></span></li><li><span><a href=\"#Вывод\" data-toc-modified-id=\"Вывод-5\"><span class=\"toc-item-num\">5&nbsp;&nbsp;</span>Вывод</a></span></li><li><span><a href=\"#Чек-лист-готовности-проекта\" data-toc-modified-id=\"Чек-лист-готовности-проекта-6\"><span class=\"toc-item-num\">6&nbsp;&nbsp;</span>Чек-лист готовности проекта</a></span></li></ul></div>"
   ]
  },
  {
   "cell_type": "markdown",
   "metadata": {},
   "source": [
    "# Отток клиентов"
   ]
  },
  {
   "cell_type": "markdown",
   "metadata": {},
   "source": [
    "Из «Бета-Банка» стали уходить клиенты. Каждый месяц. Немного, но заметно. Банковские маркетологи посчитали: сохранять текущих клиентов дешевле, чем привлекать новых.\n",
    "\n",
    "Нужно спрогнозировать, уйдёт клиент из банка в ближайшее время или нет. Вам предоставлены исторические данные о поведении клиентов и расторжении договоров с банком. \n",
    "\n",
    "Постройте модель с предельно большим значением *F1*-меры. Чтобы сдать проект успешно, нужно довести метрику до 0.59. Проверьте *F1*-меру на тестовой выборке самостоятельно.\n",
    "\n",
    "Дополнительно измеряйте *AUC-ROC*, сравнивайте её значение с *F1*-мерой.\n",
    "\n",
    "Источник данных: [https://www.kaggle.com/barelydedicated/bank-customer-churn-modeling](https://www.kaggle.com/barelydedicated/bank-customer-churn-modeling)"
   ]
  },
  {
   "cell_type": "markdown",
   "metadata": {},
   "source": [
    "## Подготовка данных"
   ]
  },
  {
   "cell_type": "markdown",
   "metadata": {},
   "source": [
    "Какие данные у нас есть:\n",
    "\n",
    "Признаки\n",
    "\n",
    "    RowNumber — индекс строки в данных\n",
    "    CustomerId — уникальный идентификатор клиента\n",
    "    Surname — фамилия\n",
    "    CreditScore — кредитный рейтинг\n",
    "    Geography — страна проживания\n",
    "    Gender — пол\n",
    "    Age — возраст\n",
    "    Tenure — сколько лет человек является клиентом банка\n",
    "    Balance — баланс на счёте\n",
    "    NumOfProducts — количество продуктов банка, используемых клиентом\n",
    "    HasCrCard — наличие кредитной карты\n",
    "    IsActiveMember — активность клиента\n",
    "    EstimatedSalary — предполагаемая зарплата\n",
    "\n",
    "Целевой признак\n",
    "\n",
    "    Exited — факт ухода клиента"
   ]
  },
  {
   "cell_type": "code",
   "execution_count": 1,
   "metadata": {},
   "outputs": [
    {
     "name": "stdout",
     "output_type": "stream",
     "text": [
      "Collecting scikit-learn==1.1.3\n",
      "  Downloading scikit_learn-1.1.3-cp39-cp39-manylinux_2_17_x86_64.manylinux2014_x86_64.whl (30.8 MB)\n",
      "\u001b[K     |████████████████████████████████| 30.8 MB 1.7 MB/s eta 0:00:01\n",
      "\u001b[?25hRequirement already satisfied: numpy>=1.17.3 in /opt/conda/lib/python3.9/site-packages (from scikit-learn==1.1.3) (1.21.1)\n",
      "Requirement already satisfied: joblib>=1.0.0 in /opt/conda/lib/python3.9/site-packages (from scikit-learn==1.1.3) (1.1.0)\n",
      "Requirement already satisfied: threadpoolctl>=2.0.0 in /opt/conda/lib/python3.9/site-packages (from scikit-learn==1.1.3) (3.1.0)\n",
      "Requirement already satisfied: scipy>=1.3.2 in /opt/conda/lib/python3.9/site-packages (from scikit-learn==1.1.3) (1.9.1)\n",
      "Installing collected packages: scikit-learn\n",
      "  Attempting uninstall: scikit-learn\n",
      "    Found existing installation: scikit-learn 0.24.1\n",
      "    Uninstalling scikit-learn-0.24.1:\n",
      "      Successfully uninstalled scikit-learn-0.24.1\n",
      "Successfully installed scikit-learn-1.1.3\n"
     ]
    }
   ],
   "source": [
    "!pip install scikit-learn==1.1.3"
   ]
  },
  {
   "cell_type": "code",
   "execution_count": 2,
   "metadata": {},
   "outputs": [],
   "source": [
    "import pandas as pd\n",
    "import numpy as np\n",
    "from sklearn.preprocessing import StandardScaler\n",
    "from sklearn.preprocessing import OneHotEncoder\n",
    "from sklearn.utils import shuffle\n",
    "from sklearn.model_selection import train_test_split\n",
    "from sklearn.linear_model import LogisticRegression\n",
    "from sklearn.ensemble import RandomForestClassifier\n",
    "from sklearn.tree import DecisionTreeClassifier\n",
    "from sklearn.metrics import accuracy_score, confusion_matrix, f1_score, roc_curve, roc_auc_score\n",
    "import matplotlib.pyplot as plt\n",
    "from sklearn.dummy import DummyClassifier\n",
    "import seaborn as sns\n",
    "import warnings\n",
    "from tqdm import tqdm\n",
    "#чтобы не отображалось предупреждение\n",
    "warnings.filterwarnings(\"ignore\")"
   ]
  },
  {
   "cell_type": "code",
   "execution_count": 3,
   "metadata": {},
   "outputs": [],
   "source": [
    "data = pd.read_csv('/datasets/Churn.csv')"
   ]
  },
  {
   "cell_type": "code",
   "execution_count": 4,
   "metadata": {},
   "outputs": [
    {
     "data": {
      "text/html": [
       "<div>\n",
       "<style scoped>\n",
       "    .dataframe tbody tr th:only-of-type {\n",
       "        vertical-align: middle;\n",
       "    }\n",
       "\n",
       "    .dataframe tbody tr th {\n",
       "        vertical-align: top;\n",
       "    }\n",
       "\n",
       "    .dataframe thead th {\n",
       "        text-align: right;\n",
       "    }\n",
       "</style>\n",
       "<table border=\"1\" class=\"dataframe\">\n",
       "  <thead>\n",
       "    <tr style=\"text-align: right;\">\n",
       "      <th></th>\n",
       "      <th>RowNumber</th>\n",
       "      <th>CustomerId</th>\n",
       "      <th>Surname</th>\n",
       "      <th>CreditScore</th>\n",
       "      <th>Geography</th>\n",
       "      <th>Gender</th>\n",
       "      <th>Age</th>\n",
       "      <th>Tenure</th>\n",
       "      <th>Balance</th>\n",
       "      <th>NumOfProducts</th>\n",
       "      <th>HasCrCard</th>\n",
       "      <th>IsActiveMember</th>\n",
       "      <th>EstimatedSalary</th>\n",
       "      <th>Exited</th>\n",
       "    </tr>\n",
       "  </thead>\n",
       "  <tbody>\n",
       "    <tr>\n",
       "      <th>0</th>\n",
       "      <td>1</td>\n",
       "      <td>15634602</td>\n",
       "      <td>Hargrave</td>\n",
       "      <td>619</td>\n",
       "      <td>France</td>\n",
       "      <td>Female</td>\n",
       "      <td>42</td>\n",
       "      <td>2.0</td>\n",
       "      <td>0.00</td>\n",
       "      <td>1</td>\n",
       "      <td>1</td>\n",
       "      <td>1</td>\n",
       "      <td>101348.88</td>\n",
       "      <td>1</td>\n",
       "    </tr>\n",
       "    <tr>\n",
       "      <th>1</th>\n",
       "      <td>2</td>\n",
       "      <td>15647311</td>\n",
       "      <td>Hill</td>\n",
       "      <td>608</td>\n",
       "      <td>Spain</td>\n",
       "      <td>Female</td>\n",
       "      <td>41</td>\n",
       "      <td>1.0</td>\n",
       "      <td>83807.86</td>\n",
       "      <td>1</td>\n",
       "      <td>0</td>\n",
       "      <td>1</td>\n",
       "      <td>112542.58</td>\n",
       "      <td>0</td>\n",
       "    </tr>\n",
       "    <tr>\n",
       "      <th>2</th>\n",
       "      <td>3</td>\n",
       "      <td>15619304</td>\n",
       "      <td>Onio</td>\n",
       "      <td>502</td>\n",
       "      <td>France</td>\n",
       "      <td>Female</td>\n",
       "      <td>42</td>\n",
       "      <td>8.0</td>\n",
       "      <td>159660.80</td>\n",
       "      <td>3</td>\n",
       "      <td>1</td>\n",
       "      <td>0</td>\n",
       "      <td>113931.57</td>\n",
       "      <td>1</td>\n",
       "    </tr>\n",
       "    <tr>\n",
       "      <th>3</th>\n",
       "      <td>4</td>\n",
       "      <td>15701354</td>\n",
       "      <td>Boni</td>\n",
       "      <td>699</td>\n",
       "      <td>France</td>\n",
       "      <td>Female</td>\n",
       "      <td>39</td>\n",
       "      <td>1.0</td>\n",
       "      <td>0.00</td>\n",
       "      <td>2</td>\n",
       "      <td>0</td>\n",
       "      <td>0</td>\n",
       "      <td>93826.63</td>\n",
       "      <td>0</td>\n",
       "    </tr>\n",
       "    <tr>\n",
       "      <th>4</th>\n",
       "      <td>5</td>\n",
       "      <td>15737888</td>\n",
       "      <td>Mitchell</td>\n",
       "      <td>850</td>\n",
       "      <td>Spain</td>\n",
       "      <td>Female</td>\n",
       "      <td>43</td>\n",
       "      <td>2.0</td>\n",
       "      <td>125510.82</td>\n",
       "      <td>1</td>\n",
       "      <td>1</td>\n",
       "      <td>1</td>\n",
       "      <td>79084.10</td>\n",
       "      <td>0</td>\n",
       "    </tr>\n",
       "  </tbody>\n",
       "</table>\n",
       "</div>"
      ],
      "text/plain": [
       "   RowNumber  CustomerId   Surname  CreditScore Geography  Gender  Age  \\\n",
       "0          1    15634602  Hargrave          619    France  Female   42   \n",
       "1          2    15647311      Hill          608     Spain  Female   41   \n",
       "2          3    15619304      Onio          502    France  Female   42   \n",
       "3          4    15701354      Boni          699    France  Female   39   \n",
       "4          5    15737888  Mitchell          850     Spain  Female   43   \n",
       "\n",
       "   Tenure    Balance  NumOfProducts  HasCrCard  IsActiveMember  \\\n",
       "0     2.0       0.00              1          1               1   \n",
       "1     1.0   83807.86              1          0               1   \n",
       "2     8.0  159660.80              3          1               0   \n",
       "3     1.0       0.00              2          0               0   \n",
       "4     2.0  125510.82              1          1               1   \n",
       "\n",
       "   EstimatedSalary  Exited  \n",
       "0        101348.88       1  \n",
       "1        112542.58       0  \n",
       "2        113931.57       1  \n",
       "3         93826.63       0  \n",
       "4         79084.10       0  "
      ]
     },
     "execution_count": 4,
     "metadata": {},
     "output_type": "execute_result"
    }
   ],
   "source": [
    "data.head()"
   ]
  },
  {
   "cell_type": "markdown",
   "metadata": {},
   "source": [
    "Избавимся от капса в названиях столбцов."
   ]
  },
  {
   "cell_type": "code",
   "execution_count": 5,
   "metadata": {},
   "outputs": [
    {
     "data": {
      "text/plain": [
       "Index(['rownumber', 'customerid', 'surname', 'creditscore', 'geography',\n",
       "       'gender', 'age', 'tenure', 'balance', 'numofproducts', 'hascrcard',\n",
       "       'isactivemember', 'estimatedsalary', 'exited'],\n",
       "      dtype='object')"
      ]
     },
     "execution_count": 5,
     "metadata": {},
     "output_type": "execute_result"
    }
   ],
   "source": [
    "data.columns = data.columns.str.lower()\n",
    "data.columns"
   ]
  },
  {
   "cell_type": "code",
   "execution_count": 6,
   "metadata": {},
   "outputs": [
    {
     "data": {
      "text/html": [
       "<div>\n",
       "<style scoped>\n",
       "    .dataframe tbody tr th:only-of-type {\n",
       "        vertical-align: middle;\n",
       "    }\n",
       "\n",
       "    .dataframe tbody tr th {\n",
       "        vertical-align: top;\n",
       "    }\n",
       "\n",
       "    .dataframe thead th {\n",
       "        text-align: right;\n",
       "    }\n",
       "</style>\n",
       "<table border=\"1\" class=\"dataframe\">\n",
       "  <thead>\n",
       "    <tr style=\"text-align: right;\">\n",
       "      <th></th>\n",
       "      <th>rownumber</th>\n",
       "      <th>customerid</th>\n",
       "      <th>creditscore</th>\n",
       "      <th>age</th>\n",
       "      <th>tenure</th>\n",
       "      <th>balance</th>\n",
       "      <th>numofproducts</th>\n",
       "      <th>hascrcard</th>\n",
       "      <th>isactivemember</th>\n",
       "      <th>estimatedsalary</th>\n",
       "      <th>exited</th>\n",
       "    </tr>\n",
       "  </thead>\n",
       "  <tbody>\n",
       "    <tr>\n",
       "      <th>count</th>\n",
       "      <td>10000.00000</td>\n",
       "      <td>1.000000e+04</td>\n",
       "      <td>10000.000000</td>\n",
       "      <td>10000.000000</td>\n",
       "      <td>9091.000000</td>\n",
       "      <td>10000.000000</td>\n",
       "      <td>10000.000000</td>\n",
       "      <td>10000.00000</td>\n",
       "      <td>10000.000000</td>\n",
       "      <td>10000.000000</td>\n",
       "      <td>10000.000000</td>\n",
       "    </tr>\n",
       "    <tr>\n",
       "      <th>mean</th>\n",
       "      <td>5000.50000</td>\n",
       "      <td>1.569094e+07</td>\n",
       "      <td>650.528800</td>\n",
       "      <td>38.921800</td>\n",
       "      <td>4.997690</td>\n",
       "      <td>76485.889288</td>\n",
       "      <td>1.530200</td>\n",
       "      <td>0.70550</td>\n",
       "      <td>0.515100</td>\n",
       "      <td>100090.239881</td>\n",
       "      <td>0.203700</td>\n",
       "    </tr>\n",
       "    <tr>\n",
       "      <th>std</th>\n",
       "      <td>2886.89568</td>\n",
       "      <td>7.193619e+04</td>\n",
       "      <td>96.653299</td>\n",
       "      <td>10.487806</td>\n",
       "      <td>2.894723</td>\n",
       "      <td>62397.405202</td>\n",
       "      <td>0.581654</td>\n",
       "      <td>0.45584</td>\n",
       "      <td>0.499797</td>\n",
       "      <td>57510.492818</td>\n",
       "      <td>0.402769</td>\n",
       "    </tr>\n",
       "    <tr>\n",
       "      <th>min</th>\n",
       "      <td>1.00000</td>\n",
       "      <td>1.556570e+07</td>\n",
       "      <td>350.000000</td>\n",
       "      <td>18.000000</td>\n",
       "      <td>0.000000</td>\n",
       "      <td>0.000000</td>\n",
       "      <td>1.000000</td>\n",
       "      <td>0.00000</td>\n",
       "      <td>0.000000</td>\n",
       "      <td>11.580000</td>\n",
       "      <td>0.000000</td>\n",
       "    </tr>\n",
       "    <tr>\n",
       "      <th>25%</th>\n",
       "      <td>2500.75000</td>\n",
       "      <td>1.562853e+07</td>\n",
       "      <td>584.000000</td>\n",
       "      <td>32.000000</td>\n",
       "      <td>2.000000</td>\n",
       "      <td>0.000000</td>\n",
       "      <td>1.000000</td>\n",
       "      <td>0.00000</td>\n",
       "      <td>0.000000</td>\n",
       "      <td>51002.110000</td>\n",
       "      <td>0.000000</td>\n",
       "    </tr>\n",
       "    <tr>\n",
       "      <th>50%</th>\n",
       "      <td>5000.50000</td>\n",
       "      <td>1.569074e+07</td>\n",
       "      <td>652.000000</td>\n",
       "      <td>37.000000</td>\n",
       "      <td>5.000000</td>\n",
       "      <td>97198.540000</td>\n",
       "      <td>1.000000</td>\n",
       "      <td>1.00000</td>\n",
       "      <td>1.000000</td>\n",
       "      <td>100193.915000</td>\n",
       "      <td>0.000000</td>\n",
       "    </tr>\n",
       "    <tr>\n",
       "      <th>75%</th>\n",
       "      <td>7500.25000</td>\n",
       "      <td>1.575323e+07</td>\n",
       "      <td>718.000000</td>\n",
       "      <td>44.000000</td>\n",
       "      <td>7.000000</td>\n",
       "      <td>127644.240000</td>\n",
       "      <td>2.000000</td>\n",
       "      <td>1.00000</td>\n",
       "      <td>1.000000</td>\n",
       "      <td>149388.247500</td>\n",
       "      <td>0.000000</td>\n",
       "    </tr>\n",
       "    <tr>\n",
       "      <th>max</th>\n",
       "      <td>10000.00000</td>\n",
       "      <td>1.581569e+07</td>\n",
       "      <td>850.000000</td>\n",
       "      <td>92.000000</td>\n",
       "      <td>10.000000</td>\n",
       "      <td>250898.090000</td>\n",
       "      <td>4.000000</td>\n",
       "      <td>1.00000</td>\n",
       "      <td>1.000000</td>\n",
       "      <td>199992.480000</td>\n",
       "      <td>1.000000</td>\n",
       "    </tr>\n",
       "  </tbody>\n",
       "</table>\n",
       "</div>"
      ],
      "text/plain": [
       "         rownumber    customerid   creditscore           age       tenure  \\\n",
       "count  10000.00000  1.000000e+04  10000.000000  10000.000000  9091.000000   \n",
       "mean    5000.50000  1.569094e+07    650.528800     38.921800     4.997690   \n",
       "std     2886.89568  7.193619e+04     96.653299     10.487806     2.894723   \n",
       "min        1.00000  1.556570e+07    350.000000     18.000000     0.000000   \n",
       "25%     2500.75000  1.562853e+07    584.000000     32.000000     2.000000   \n",
       "50%     5000.50000  1.569074e+07    652.000000     37.000000     5.000000   \n",
       "75%     7500.25000  1.575323e+07    718.000000     44.000000     7.000000   \n",
       "max    10000.00000  1.581569e+07    850.000000     92.000000    10.000000   \n",
       "\n",
       "             balance  numofproducts    hascrcard  isactivemember  \\\n",
       "count   10000.000000   10000.000000  10000.00000    10000.000000   \n",
       "mean    76485.889288       1.530200      0.70550        0.515100   \n",
       "std     62397.405202       0.581654      0.45584        0.499797   \n",
       "min         0.000000       1.000000      0.00000        0.000000   \n",
       "25%         0.000000       1.000000      0.00000        0.000000   \n",
       "50%     97198.540000       1.000000      1.00000        1.000000   \n",
       "75%    127644.240000       2.000000      1.00000        1.000000   \n",
       "max    250898.090000       4.000000      1.00000        1.000000   \n",
       "\n",
       "       estimatedsalary        exited  \n",
       "count     10000.000000  10000.000000  \n",
       "mean     100090.239881      0.203700  \n",
       "std       57510.492818      0.402769  \n",
       "min          11.580000      0.000000  \n",
       "25%       51002.110000      0.000000  \n",
       "50%      100193.915000      0.000000  \n",
       "75%      149388.247500      0.000000  \n",
       "max      199992.480000      1.000000  "
      ]
     },
     "execution_count": 6,
     "metadata": {},
     "output_type": "execute_result"
    }
   ],
   "source": [
    "data.describe()"
   ]
  },
  {
   "cell_type": "code",
   "execution_count": 7,
   "metadata": {},
   "outputs": [
    {
     "name": "stdout",
     "output_type": "stream",
     "text": [
      "<class 'pandas.core.frame.DataFrame'>\n",
      "RangeIndex: 10000 entries, 0 to 9999\n",
      "Data columns (total 14 columns):\n",
      " #   Column           Non-Null Count  Dtype  \n",
      "---  ------           --------------  -----  \n",
      " 0   rownumber        10000 non-null  int64  \n",
      " 1   customerid       10000 non-null  int64  \n",
      " 2   surname          10000 non-null  object \n",
      " 3   creditscore      10000 non-null  int64  \n",
      " 4   geography        10000 non-null  object \n",
      " 5   gender           10000 non-null  object \n",
      " 6   age              10000 non-null  int64  \n",
      " 7   tenure           9091 non-null   float64\n",
      " 8   balance          10000 non-null  float64\n",
      " 9   numofproducts    10000 non-null  int64  \n",
      " 10  hascrcard        10000 non-null  int64  \n",
      " 11  isactivemember   10000 non-null  int64  \n",
      " 12  estimatedsalary  10000 non-null  float64\n",
      " 13  exited           10000 non-null  int64  \n",
      "dtypes: float64(3), int64(8), object(3)\n",
      "memory usage: 1.1+ MB\n"
     ]
    }
   ],
   "source": [
    "data.info()"
   ]
  },
  {
   "cell_type": "markdown",
   "metadata": {},
   "source": [
    "Кажется не хватает данных в столбце tenure (сколько лет человек является клиентом банка?). Посмотрим на данные поближе."
   ]
  },
  {
   "cell_type": "code",
   "execution_count": 8,
   "metadata": {},
   "outputs": [
    {
     "data": {
      "text/plain": [
       "rownumber            0\n",
       "customerid           0\n",
       "surname              0\n",
       "creditscore          0\n",
       "geography            0\n",
       "gender               0\n",
       "age                  0\n",
       "tenure             909\n",
       "balance              0\n",
       "numofproducts        0\n",
       "hascrcard            0\n",
       "isactivemember       0\n",
       "estimatedsalary      0\n",
       "exited               0\n",
       "dtype: int64"
      ]
     },
     "execution_count": 8,
     "metadata": {},
     "output_type": "execute_result"
    }
   ],
   "source": [
    "data.isnull().sum()"
   ]
  },
  {
   "cell_type": "code",
   "execution_count": 9,
   "metadata": {},
   "outputs": [
    {
     "data": {
      "text/html": [
       "<div>\n",
       "<style scoped>\n",
       "    .dataframe tbody tr th:only-of-type {\n",
       "        vertical-align: middle;\n",
       "    }\n",
       "\n",
       "    .dataframe tbody tr th {\n",
       "        vertical-align: top;\n",
       "    }\n",
       "\n",
       "    .dataframe thead th {\n",
       "        text-align: right;\n",
       "    }\n",
       "</style>\n",
       "<table border=\"1\" class=\"dataframe\">\n",
       "  <thead>\n",
       "    <tr style=\"text-align: right;\">\n",
       "      <th></th>\n",
       "      <th>rownumber</th>\n",
       "      <th>customerid</th>\n",
       "      <th>surname</th>\n",
       "      <th>creditscore</th>\n",
       "      <th>geography</th>\n",
       "      <th>gender</th>\n",
       "      <th>age</th>\n",
       "      <th>tenure</th>\n",
       "      <th>balance</th>\n",
       "      <th>numofproducts</th>\n",
       "      <th>hascrcard</th>\n",
       "      <th>isactivemember</th>\n",
       "      <th>estimatedsalary</th>\n",
       "      <th>exited</th>\n",
       "    </tr>\n",
       "  </thead>\n",
       "  <tbody>\n",
       "    <tr>\n",
       "      <th>2927</th>\n",
       "      <td>2928</td>\n",
       "      <td>15669656</td>\n",
       "      <td>Macdonald</td>\n",
       "      <td>632</td>\n",
       "      <td>France</td>\n",
       "      <td>Male</td>\n",
       "      <td>32</td>\n",
       "      <td>NaN</td>\n",
       "      <td>111589.33</td>\n",
       "      <td>1</td>\n",
       "      <td>1</td>\n",
       "      <td>1</td>\n",
       "      <td>170382.99</td>\n",
       "      <td>0</td>\n",
       "    </tr>\n",
       "    <tr>\n",
       "      <th>9864</th>\n",
       "      <td>9865</td>\n",
       "      <td>15652999</td>\n",
       "      <td>Milne</td>\n",
       "      <td>742</td>\n",
       "      <td>Germany</td>\n",
       "      <td>Male</td>\n",
       "      <td>33</td>\n",
       "      <td>NaN</td>\n",
       "      <td>137937.95</td>\n",
       "      <td>1</td>\n",
       "      <td>1</td>\n",
       "      <td>1</td>\n",
       "      <td>51387.10</td>\n",
       "      <td>0</td>\n",
       "    </tr>\n",
       "    <tr>\n",
       "      <th>329</th>\n",
       "      <td>330</td>\n",
       "      <td>15624528</td>\n",
       "      <td>L?</td>\n",
       "      <td>664</td>\n",
       "      <td>Germany</td>\n",
       "      <td>Male</td>\n",
       "      <td>26</td>\n",
       "      <td>NaN</td>\n",
       "      <td>116244.14</td>\n",
       "      <td>2</td>\n",
       "      <td>1</td>\n",
       "      <td>1</td>\n",
       "      <td>95145.14</td>\n",
       "      <td>0</td>\n",
       "    </tr>\n",
       "    <tr>\n",
       "      <th>2577</th>\n",
       "      <td>2578</td>\n",
       "      <td>15724145</td>\n",
       "      <td>William</td>\n",
       "      <td>616</td>\n",
       "      <td>Germany</td>\n",
       "      <td>Male</td>\n",
       "      <td>29</td>\n",
       "      <td>NaN</td>\n",
       "      <td>149318.55</td>\n",
       "      <td>1</td>\n",
       "      <td>1</td>\n",
       "      <td>0</td>\n",
       "      <td>140746.13</td>\n",
       "      <td>0</td>\n",
       "    </tr>\n",
       "    <tr>\n",
       "      <th>6794</th>\n",
       "      <td>6795</td>\n",
       "      <td>15694098</td>\n",
       "      <td>Jackson</td>\n",
       "      <td>575</td>\n",
       "      <td>France</td>\n",
       "      <td>Female</td>\n",
       "      <td>54</td>\n",
       "      <td>NaN</td>\n",
       "      <td>68332.96</td>\n",
       "      <td>1</td>\n",
       "      <td>1</td>\n",
       "      <td>1</td>\n",
       "      <td>144390.75</td>\n",
       "      <td>0</td>\n",
       "    </tr>\n",
       "    <tr>\n",
       "      <th>9931</th>\n",
       "      <td>9932</td>\n",
       "      <td>15647800</td>\n",
       "      <td>Greco</td>\n",
       "      <td>850</td>\n",
       "      <td>France</td>\n",
       "      <td>Female</td>\n",
       "      <td>34</td>\n",
       "      <td>NaN</td>\n",
       "      <td>101266.51</td>\n",
       "      <td>1</td>\n",
       "      <td>1</td>\n",
       "      <td>0</td>\n",
       "      <td>33501.98</td>\n",
       "      <td>0</td>\n",
       "    </tr>\n",
       "    <tr>\n",
       "      <th>7295</th>\n",
       "      <td>7296</td>\n",
       "      <td>15696361</td>\n",
       "      <td>Chung</td>\n",
       "      <td>648</td>\n",
       "      <td>Germany</td>\n",
       "      <td>Male</td>\n",
       "      <td>31</td>\n",
       "      <td>NaN</td>\n",
       "      <td>125681.51</td>\n",
       "      <td>1</td>\n",
       "      <td>0</td>\n",
       "      <td>1</td>\n",
       "      <td>129980.93</td>\n",
       "      <td>0</td>\n",
       "    </tr>\n",
       "    <tr>\n",
       "      <th>9619</th>\n",
       "      <td>9620</td>\n",
       "      <td>15779973</td>\n",
       "      <td>Gibbons</td>\n",
       "      <td>684</td>\n",
       "      <td>Germany</td>\n",
       "      <td>Male</td>\n",
       "      <td>35</td>\n",
       "      <td>NaN</td>\n",
       "      <td>99967.76</td>\n",
       "      <td>1</td>\n",
       "      <td>1</td>\n",
       "      <td>1</td>\n",
       "      <td>176882.08</td>\n",
       "      <td>0</td>\n",
       "    </tr>\n",
       "    <tr>\n",
       "      <th>4216</th>\n",
       "      <td>4217</td>\n",
       "      <td>15718852</td>\n",
       "      <td>Uren</td>\n",
       "      <td>794</td>\n",
       "      <td>France</td>\n",
       "      <td>Male</td>\n",
       "      <td>56</td>\n",
       "      <td>NaN</td>\n",
       "      <td>96951.21</td>\n",
       "      <td>1</td>\n",
       "      <td>1</td>\n",
       "      <td>1</td>\n",
       "      <td>71776.76</td>\n",
       "      <td>0</td>\n",
       "    </tr>\n",
       "    <tr>\n",
       "      <th>5865</th>\n",
       "      <td>5866</td>\n",
       "      <td>15735339</td>\n",
       "      <td>Lynch</td>\n",
       "      <td>663</td>\n",
       "      <td>France</td>\n",
       "      <td>Male</td>\n",
       "      <td>39</td>\n",
       "      <td>NaN</td>\n",
       "      <td>0.00</td>\n",
       "      <td>1</td>\n",
       "      <td>1</td>\n",
       "      <td>0</td>\n",
       "      <td>76884.05</td>\n",
       "      <td>0</td>\n",
       "    </tr>\n",
       "    <tr>\n",
       "      <th>2565</th>\n",
       "      <td>2566</td>\n",
       "      <td>15596088</td>\n",
       "      <td>Fanucci</td>\n",
       "      <td>705</td>\n",
       "      <td>France</td>\n",
       "      <td>Female</td>\n",
       "      <td>50</td>\n",
       "      <td>NaN</td>\n",
       "      <td>77065.90</td>\n",
       "      <td>2</td>\n",
       "      <td>0</td>\n",
       "      <td>1</td>\n",
       "      <td>145159.26</td>\n",
       "      <td>0</td>\n",
       "    </tr>\n",
       "    <tr>\n",
       "      <th>2120</th>\n",
       "      <td>2121</td>\n",
       "      <td>15651554</td>\n",
       "      <td>Anenechukwu</td>\n",
       "      <td>618</td>\n",
       "      <td>Germany</td>\n",
       "      <td>Female</td>\n",
       "      <td>54</td>\n",
       "      <td>NaN</td>\n",
       "      <td>118449.21</td>\n",
       "      <td>1</td>\n",
       "      <td>1</td>\n",
       "      <td>1</td>\n",
       "      <td>133573.29</td>\n",
       "      <td>1</td>\n",
       "    </tr>\n",
       "    <tr>\n",
       "      <th>1196</th>\n",
       "      <td>1197</td>\n",
       "      <td>15739131</td>\n",
       "      <td>Whitworth</td>\n",
       "      <td>718</td>\n",
       "      <td>Germany</td>\n",
       "      <td>Male</td>\n",
       "      <td>28</td>\n",
       "      <td>NaN</td>\n",
       "      <td>65643.30</td>\n",
       "      <td>1</td>\n",
       "      <td>1</td>\n",
       "      <td>0</td>\n",
       "      <td>28760.99</td>\n",
       "      <td>0</td>\n",
       "    </tr>\n",
       "    <tr>\n",
       "      <th>3675</th>\n",
       "      <td>3676</td>\n",
       "      <td>15791743</td>\n",
       "      <td>Corbett</td>\n",
       "      <td>727</td>\n",
       "      <td>France</td>\n",
       "      <td>Male</td>\n",
       "      <td>32</td>\n",
       "      <td>NaN</td>\n",
       "      <td>59271.82</td>\n",
       "      <td>1</td>\n",
       "      <td>1</td>\n",
       "      <td>1</td>\n",
       "      <td>46019.43</td>\n",
       "      <td>0</td>\n",
       "    </tr>\n",
       "    <tr>\n",
       "      <th>8657</th>\n",
       "      <td>8658</td>\n",
       "      <td>15684316</td>\n",
       "      <td>Udokamma</td>\n",
       "      <td>532</td>\n",
       "      <td>France</td>\n",
       "      <td>Male</td>\n",
       "      <td>43</td>\n",
       "      <td>NaN</td>\n",
       "      <td>0.00</td>\n",
       "      <td>2</td>\n",
       "      <td>0</td>\n",
       "      <td>0</td>\n",
       "      <td>190573.91</td>\n",
       "      <td>1</td>\n",
       "    </tr>\n",
       "  </tbody>\n",
       "</table>\n",
       "</div>"
      ],
      "text/plain": [
       "      rownumber  customerid      surname  creditscore geography  gender  age  \\\n",
       "2927       2928    15669656    Macdonald          632    France    Male   32   \n",
       "9864       9865    15652999        Milne          742   Germany    Male   33   \n",
       "329         330    15624528           L?          664   Germany    Male   26   \n",
       "2577       2578    15724145      William          616   Germany    Male   29   \n",
       "6794       6795    15694098      Jackson          575    France  Female   54   \n",
       "9931       9932    15647800        Greco          850    France  Female   34   \n",
       "7295       7296    15696361        Chung          648   Germany    Male   31   \n",
       "9619       9620    15779973      Gibbons          684   Germany    Male   35   \n",
       "4216       4217    15718852         Uren          794    France    Male   56   \n",
       "5865       5866    15735339        Lynch          663    France    Male   39   \n",
       "2565       2566    15596088      Fanucci          705    France  Female   50   \n",
       "2120       2121    15651554  Anenechukwu          618   Germany  Female   54   \n",
       "1196       1197    15739131    Whitworth          718   Germany    Male   28   \n",
       "3675       3676    15791743      Corbett          727    France    Male   32   \n",
       "8657       8658    15684316     Udokamma          532    France    Male   43   \n",
       "\n",
       "      tenure    balance  numofproducts  hascrcard  isactivemember  \\\n",
       "2927     NaN  111589.33              1          1               1   \n",
       "9864     NaN  137937.95              1          1               1   \n",
       "329      NaN  116244.14              2          1               1   \n",
       "2577     NaN  149318.55              1          1               0   \n",
       "6794     NaN   68332.96              1          1               1   \n",
       "9931     NaN  101266.51              1          1               0   \n",
       "7295     NaN  125681.51              1          0               1   \n",
       "9619     NaN   99967.76              1          1               1   \n",
       "4216     NaN   96951.21              1          1               1   \n",
       "5865     NaN       0.00              1          1               0   \n",
       "2565     NaN   77065.90              2          0               1   \n",
       "2120     NaN  118449.21              1          1               1   \n",
       "1196     NaN   65643.30              1          1               0   \n",
       "3675     NaN   59271.82              1          1               1   \n",
       "8657     NaN       0.00              2          0               0   \n",
       "\n",
       "      estimatedsalary  exited  \n",
       "2927        170382.99       0  \n",
       "9864         51387.10       0  \n",
       "329          95145.14       0  \n",
       "2577        140746.13       0  \n",
       "6794        144390.75       0  \n",
       "9931         33501.98       0  \n",
       "7295        129980.93       0  \n",
       "9619        176882.08       0  \n",
       "4216         71776.76       0  \n",
       "5865         76884.05       0  \n",
       "2565        145159.26       0  \n",
       "2120        133573.29       1  \n",
       "1196         28760.99       0  \n",
       "3675         46019.43       0  \n",
       "8657        190573.91       1  "
      ]
     },
     "execution_count": 9,
     "metadata": {},
     "output_type": "execute_result"
    }
   ],
   "source": [
    "data[data['tenure'].isnull() == True].sample(15)"
   ]
  },
  {
   "cell_type": "markdown",
   "metadata": {},
   "source": [
    "С первого взгляда, данные с пропусками в столбце tenure, кажутся обычными. Можно попробовать удалить, но данных и так не очень много - 10000. Если удалим 909 строк, то это будет около 10% от общего количества данных, поэтому заполним пропущенные значения медианой."
   ]
  },
  {
   "cell_type": "code",
   "execution_count": 10,
   "metadata": {},
   "outputs": [],
   "source": [
    "data['tenure'].fillna(data['tenure'].median(), inplace=True)"
   ]
  },
  {
   "cell_type": "code",
   "execution_count": 11,
   "metadata": {},
   "outputs": [
    {
     "data": {
      "text/plain": [
       "rownumber          0\n",
       "customerid         0\n",
       "surname            0\n",
       "creditscore        0\n",
       "geography          0\n",
       "gender             0\n",
       "age                0\n",
       "tenure             0\n",
       "balance            0\n",
       "numofproducts      0\n",
       "hascrcard          0\n",
       "isactivemember     0\n",
       "estimatedsalary    0\n",
       "exited             0\n",
       "dtype: int64"
      ]
     },
     "execution_count": 11,
     "metadata": {},
     "output_type": "execute_result"
    }
   ],
   "source": [
    "data.isnull().sum()"
   ]
  },
  {
   "cell_type": "code",
   "execution_count": 12,
   "metadata": {},
   "outputs": [
    {
     "data": {
      "text/plain": [
       "<AxesSubplot:>"
      ]
     },
     "execution_count": 12,
     "metadata": {},
     "output_type": "execute_result"
    },
    {
     "data": {
      "image/png": "[encoded data removed]",
      "text/plain": [
       "<Figure size 432x288 with 1 Axes>"
      ]
     },
     "metadata": {
      "needs_background": "light"
     },
     "output_type": "display_data"
    }
   ],
   "source": [
    "data['tenure'].hist(bins=50)"
   ]
  },
  {
   "cell_type": "code",
   "execution_count": 13,
   "metadata": {},
   "outputs": [
    {
     "data": {
      "text/plain": [
       "0"
      ]
     },
     "execution_count": 13,
     "metadata": {},
     "output_type": "execute_result"
    }
   ],
   "source": [
    "data.duplicated().sum()"
   ]
  },
  {
   "cell_type": "markdown",
   "metadata": {},
   "source": [
    "Узнаем, есть ли корреляция между объектами."
   ]
  },
  {
   "cell_type": "code",
   "execution_count": 14,
   "metadata": {},
   "outputs": [
    {
     "data": {
      "text/html": [
       "<div>\n",
       "<style scoped>\n",
       "    .dataframe tbody tr th:only-of-type {\n",
       "        vertical-align: middle;\n",
       "    }\n",
       "\n",
       "    .dataframe tbody tr th {\n",
       "        vertical-align: top;\n",
       "    }\n",
       "\n",
       "    .dataframe thead th {\n",
       "        text-align: right;\n",
       "    }\n",
       "</style>\n",
       "<table border=\"1\" class=\"dataframe\">\n",
       "  <thead>\n",
       "    <tr style=\"text-align: right;\">\n",
       "      <th></th>\n",
       "      <th>rownumber</th>\n",
       "      <th>customerid</th>\n",
       "      <th>creditscore</th>\n",
       "      <th>age</th>\n",
       "      <th>tenure</th>\n",
       "      <th>balance</th>\n",
       "      <th>numofproducts</th>\n",
       "      <th>hascrcard</th>\n",
       "      <th>isactivemember</th>\n",
       "      <th>estimatedsalary</th>\n",
       "      <th>exited</th>\n",
       "    </tr>\n",
       "  </thead>\n",
       "  <tbody>\n",
       "    <tr>\n",
       "      <th>rownumber</th>\n",
       "      <td>1.000000</td>\n",
       "      <td>0.004202</td>\n",
       "      <td>0.005840</td>\n",
       "      <td>0.000783</td>\n",
       "      <td>-0.006979</td>\n",
       "      <td>-0.009067</td>\n",
       "      <td>0.007246</td>\n",
       "      <td>0.000599</td>\n",
       "      <td>0.012044</td>\n",
       "      <td>-0.005988</td>\n",
       "      <td>-0.016571</td>\n",
       "    </tr>\n",
       "    <tr>\n",
       "      <th>customerid</th>\n",
       "      <td>0.004202</td>\n",
       "      <td>1.000000</td>\n",
       "      <td>0.005308</td>\n",
       "      <td>0.009497</td>\n",
       "      <td>-0.020331</td>\n",
       "      <td>-0.012419</td>\n",
       "      <td>0.016972</td>\n",
       "      <td>-0.014025</td>\n",
       "      <td>0.001665</td>\n",
       "      <td>0.015271</td>\n",
       "      <td>-0.006248</td>\n",
       "    </tr>\n",
       "    <tr>\n",
       "      <th>creditscore</th>\n",
       "      <td>0.005840</td>\n",
       "      <td>0.005308</td>\n",
       "      <td>1.000000</td>\n",
       "      <td>-0.003965</td>\n",
       "      <td>-0.000060</td>\n",
       "      <td>0.006268</td>\n",
       "      <td>0.012238</td>\n",
       "      <td>-0.005458</td>\n",
       "      <td>0.025651</td>\n",
       "      <td>-0.001384</td>\n",
       "      <td>-0.027094</td>\n",
       "    </tr>\n",
       "    <tr>\n",
       "      <th>age</th>\n",
       "      <td>0.000783</td>\n",
       "      <td>0.009497</td>\n",
       "      <td>-0.003965</td>\n",
       "      <td>1.000000</td>\n",
       "      <td>-0.012606</td>\n",
       "      <td>0.028308</td>\n",
       "      <td>-0.030680</td>\n",
       "      <td>-0.011721</td>\n",
       "      <td>0.085472</td>\n",
       "      <td>-0.007201</td>\n",
       "      <td>0.285323</td>\n",
       "    </tr>\n",
       "    <tr>\n",
       "      <th>tenure</th>\n",
       "      <td>-0.006979</td>\n",
       "      <td>-0.020331</td>\n",
       "      <td>-0.000060</td>\n",
       "      <td>-0.012606</td>\n",
       "      <td>1.000000</td>\n",
       "      <td>-0.007535</td>\n",
       "      <td>0.011409</td>\n",
       "      <td>0.025979</td>\n",
       "      <td>-0.030681</td>\n",
       "      <td>0.010049</td>\n",
       "      <td>-0.015989</td>\n",
       "    </tr>\n",
       "    <tr>\n",
       "      <th>balance</th>\n",
       "      <td>-0.009067</td>\n",
       "      <td>-0.012419</td>\n",
       "      <td>0.006268</td>\n",
       "      <td>0.028308</td>\n",
       "      <td>-0.007535</td>\n",
       "      <td>1.000000</td>\n",
       "      <td>-0.304180</td>\n",
       "      <td>-0.014858</td>\n",
       "      <td>-0.010084</td>\n",
       "      <td>0.012797</td>\n",
       "      <td>0.118533</td>\n",
       "    </tr>\n",
       "    <tr>\n",
       "      <th>numofproducts</th>\n",
       "      <td>0.007246</td>\n",
       "      <td>0.016972</td>\n",
       "      <td>0.012238</td>\n",
       "      <td>-0.030680</td>\n",
       "      <td>0.011409</td>\n",
       "      <td>-0.304180</td>\n",
       "      <td>1.000000</td>\n",
       "      <td>0.003183</td>\n",
       "      <td>0.009612</td>\n",
       "      <td>0.014204</td>\n",
       "      <td>-0.047820</td>\n",
       "    </tr>\n",
       "    <tr>\n",
       "      <th>hascrcard</th>\n",
       "      <td>0.000599</td>\n",
       "      <td>-0.014025</td>\n",
       "      <td>-0.005458</td>\n",
       "      <td>-0.011721</td>\n",
       "      <td>0.025979</td>\n",
       "      <td>-0.014858</td>\n",
       "      <td>0.003183</td>\n",
       "      <td>1.000000</td>\n",
       "      <td>-0.011866</td>\n",
       "      <td>-0.009933</td>\n",
       "      <td>-0.007138</td>\n",
       "    </tr>\n",
       "    <tr>\n",
       "      <th>isactivemember</th>\n",
       "      <td>0.012044</td>\n",
       "      <td>0.001665</td>\n",
       "      <td>0.025651</td>\n",
       "      <td>0.085472</td>\n",
       "      <td>-0.030681</td>\n",
       "      <td>-0.010084</td>\n",
       "      <td>0.009612</td>\n",
       "      <td>-0.011866</td>\n",
       "      <td>1.000000</td>\n",
       "      <td>-0.011421</td>\n",
       "      <td>-0.156128</td>\n",
       "    </tr>\n",
       "    <tr>\n",
       "      <th>estimatedsalary</th>\n",
       "      <td>-0.005988</td>\n",
       "      <td>0.015271</td>\n",
       "      <td>-0.001384</td>\n",
       "      <td>-0.007201</td>\n",
       "      <td>0.010049</td>\n",
       "      <td>0.012797</td>\n",
       "      <td>0.014204</td>\n",
       "      <td>-0.009933</td>\n",
       "      <td>-0.011421</td>\n",
       "      <td>1.000000</td>\n",
       "      <td>0.012097</td>\n",
       "    </tr>\n",
       "    <tr>\n",
       "      <th>exited</th>\n",
       "      <td>-0.016571</td>\n",
       "      <td>-0.006248</td>\n",
       "      <td>-0.027094</td>\n",
       "      <td>0.285323</td>\n",
       "      <td>-0.015989</td>\n",
       "      <td>0.118533</td>\n",
       "      <td>-0.047820</td>\n",
       "      <td>-0.007138</td>\n",
       "      <td>-0.156128</td>\n",
       "      <td>0.012097</td>\n",
       "      <td>1.000000</td>\n",
       "    </tr>\n",
       "  </tbody>\n",
       "</table>\n",
       "</div>"
      ],
      "text/plain": [
       "                 rownumber  customerid  creditscore       age    tenure  \\\n",
       "rownumber         1.000000    0.004202     0.005840  0.000783 -0.006979   \n",
       "customerid        0.004202    1.000000     0.005308  0.009497 -0.020331   \n",
       "creditscore       0.005840    0.005308     1.000000 -0.003965 -0.000060   \n",
       "age               0.000783    0.009497    -0.003965  1.000000 -0.012606   \n",
       "tenure           -0.006979   -0.020331    -0.000060 -0.012606  1.000000   \n",
       "balance          -0.009067   -0.012419     0.006268  0.028308 -0.007535   \n",
       "numofproducts     0.007246    0.016972     0.012238 -0.030680  0.011409   \n",
       "hascrcard         0.000599   -0.014025    -0.005458 -0.011721  0.025979   \n",
       "isactivemember    0.012044    0.001665     0.025651  0.085472 -0.030681   \n",
       "estimatedsalary  -0.005988    0.015271    -0.001384 -0.007201  0.010049   \n",
       "exited           -0.016571   -0.006248    -0.027094  0.285323 -0.015989   \n",
       "\n",
       "                  balance  numofproducts  hascrcard  isactivemember  \\\n",
       "rownumber       -0.009067       0.007246   0.000599        0.012044   \n",
       "customerid      -0.012419       0.016972  -0.014025        0.001665   \n",
       "creditscore      0.006268       0.012238  -0.005458        0.025651   \n",
       "age              0.028308      -0.030680  -0.011721        0.085472   \n",
       "tenure          -0.007535       0.011409   0.025979       -0.030681   \n",
       "balance          1.000000      -0.304180  -0.014858       -0.010084   \n",
       "numofproducts   -0.304180       1.000000   0.003183        0.009612   \n",
       "hascrcard       -0.014858       0.003183   1.000000       -0.011866   \n",
       "isactivemember  -0.010084       0.009612  -0.011866        1.000000   \n",
       "estimatedsalary  0.012797       0.014204  -0.009933       -0.011421   \n",
       "exited           0.118533      -0.047820  -0.007138       -0.156128   \n",
       "\n",
       "                 estimatedsalary    exited  \n",
       "rownumber              -0.005988 -0.016571  \n",
       "customerid              0.015271 -0.006248  \n",
       "creditscore            -0.001384 -0.027094  \n",
       "age                    -0.007201  0.285323  \n",
       "tenure                  0.010049 -0.015989  \n",
       "balance                 0.012797  0.118533  \n",
       "numofproducts           0.014204 -0.047820  \n",
       "hascrcard              -0.009933 -0.007138  \n",
       "isactivemember         -0.011421 -0.156128  \n",
       "estimatedsalary         1.000000  0.012097  \n",
       "exited                  0.012097  1.000000  "
      ]
     },
     "execution_count": 14,
     "metadata": {},
     "output_type": "execute_result"
    }
   ],
   "source": [
    "data.corr()"
   ]
  },
  {
   "cell_type": "code",
   "execution_count": 15,
   "metadata": {},
   "outputs": [
    {
     "data": {
      "image/png": "[encoded data removed]",
      "text/plain": [
       "<Figure size 960x800 with 2 Axes>"
      ]
     },
     "metadata": {
      "needs_background": "light"
     },
     "output_type": "display_data"
    }
   ],
   "source": [
    "plt.figure(figsize=(12,10), dpi= 80)\n",
    "sns.heatmap(data.corr(), xticklabels=data.corr().columns, yticklabels=data.corr().columns, cmap='RdYlGn', center=0, annot=True)\n",
    "\n",
    "plt.title('Корреляция признаков', fontsize=22)\n",
    "plt.xticks(fontsize=12)\n",
    "plt.yticks(fontsize=12)\n",
    "plt.show()"
   ]
  },
  {
   "cell_type": "markdown",
   "metadata": {},
   "source": [
    "Корреляции между признаками нет, значит нашей модели мультиколлинеарность не помешает."
   ]
  },
  {
   "cell_type": "markdown",
   "metadata": {},
   "source": [
    "Попробуем повнимательнее посмотреть на столбики. Может какие-то из них нам не нужны? Нашей модели точно не помогут фамилии, уникальный id клиента и индекс строки в данных."
   ]
  },
  {
   "cell_type": "code",
   "execution_count": 16,
   "metadata": {},
   "outputs": [
    {
     "data": {
      "text/html": [
       "<div>\n",
       "<style scoped>\n",
       "    .dataframe tbody tr th:only-of-type {\n",
       "        vertical-align: middle;\n",
       "    }\n",
       "\n",
       "    .dataframe tbody tr th {\n",
       "        vertical-align: top;\n",
       "    }\n",
       "\n",
       "    .dataframe thead th {\n",
       "        text-align: right;\n",
       "    }\n",
       "</style>\n",
       "<table border=\"1\" class=\"dataframe\">\n",
       "  <thead>\n",
       "    <tr style=\"text-align: right;\">\n",
       "      <th></th>\n",
       "      <th>creditscore</th>\n",
       "      <th>geography</th>\n",
       "      <th>gender</th>\n",
       "      <th>age</th>\n",
       "      <th>tenure</th>\n",
       "      <th>balance</th>\n",
       "      <th>numofproducts</th>\n",
       "      <th>hascrcard</th>\n",
       "      <th>isactivemember</th>\n",
       "      <th>estimatedsalary</th>\n",
       "      <th>exited</th>\n",
       "    </tr>\n",
       "  </thead>\n",
       "  <tbody>\n",
       "    <tr>\n",
       "      <th>0</th>\n",
       "      <td>619</td>\n",
       "      <td>France</td>\n",
       "      <td>Female</td>\n",
       "      <td>42</td>\n",
       "      <td>2.0</td>\n",
       "      <td>0.00</td>\n",
       "      <td>1</td>\n",
       "      <td>1</td>\n",
       "      <td>1</td>\n",
       "      <td>101348.88</td>\n",
       "      <td>1</td>\n",
       "    </tr>\n",
       "    <tr>\n",
       "      <th>1</th>\n",
       "      <td>608</td>\n",
       "      <td>Spain</td>\n",
       "      <td>Female</td>\n",
       "      <td>41</td>\n",
       "      <td>1.0</td>\n",
       "      <td>83807.86</td>\n",
       "      <td>1</td>\n",
       "      <td>0</td>\n",
       "      <td>1</td>\n",
       "      <td>112542.58</td>\n",
       "      <td>0</td>\n",
       "    </tr>\n",
       "    <tr>\n",
       "      <th>2</th>\n",
       "      <td>502</td>\n",
       "      <td>France</td>\n",
       "      <td>Female</td>\n",
       "      <td>42</td>\n",
       "      <td>8.0</td>\n",
       "      <td>159660.80</td>\n",
       "      <td>3</td>\n",
       "      <td>1</td>\n",
       "      <td>0</td>\n",
       "      <td>113931.57</td>\n",
       "      <td>1</td>\n",
       "    </tr>\n",
       "    <tr>\n",
       "      <th>3</th>\n",
       "      <td>699</td>\n",
       "      <td>France</td>\n",
       "      <td>Female</td>\n",
       "      <td>39</td>\n",
       "      <td>1.0</td>\n",
       "      <td>0.00</td>\n",
       "      <td>2</td>\n",
       "      <td>0</td>\n",
       "      <td>0</td>\n",
       "      <td>93826.63</td>\n",
       "      <td>0</td>\n",
       "    </tr>\n",
       "    <tr>\n",
       "      <th>4</th>\n",
       "      <td>850</td>\n",
       "      <td>Spain</td>\n",
       "      <td>Female</td>\n",
       "      <td>43</td>\n",
       "      <td>2.0</td>\n",
       "      <td>125510.82</td>\n",
       "      <td>1</td>\n",
       "      <td>1</td>\n",
       "      <td>1</td>\n",
       "      <td>79084.10</td>\n",
       "      <td>0</td>\n",
       "    </tr>\n",
       "  </tbody>\n",
       "</table>\n",
       "</div>"
      ],
      "text/plain": [
       "   creditscore geography  gender  age  tenure    balance  numofproducts  \\\n",
       "0          619    France  Female   42     2.0       0.00              1   \n",
       "1          608     Spain  Female   41     1.0   83807.86              1   \n",
       "2          502    France  Female   42     8.0  159660.80              3   \n",
       "3          699    France  Female   39     1.0       0.00              2   \n",
       "4          850     Spain  Female   43     2.0  125510.82              1   \n",
       "\n",
       "   hascrcard  isactivemember  estimatedsalary  exited  \n",
       "0          1               1        101348.88       1  \n",
       "1          0               1        112542.58       0  \n",
       "2          1               0        113931.57       1  \n",
       "3          0               0         93826.63       0  \n",
       "4          1               1         79084.10       0  "
      ]
     },
     "execution_count": 16,
     "metadata": {},
     "output_type": "execute_result"
    }
   ],
   "source": [
    "data = data.drop(['rownumber', 'customerid', 'surname'], axis=1)\n",
    "data.head()"
   ]
  },
  {
   "cell_type": "markdown",
   "metadata": {},
   "source": [
    "Теперь посмотрим на каждый из столбцов лучше."
   ]
  },
  {
   "cell_type": "code",
   "execution_count": 17,
   "metadata": {},
   "outputs": [
    {
     "data": {
      "text/plain": [
       "Male      0.5457\n",
       "Female    0.4543\n",
       "Name: gender, dtype: float64"
      ]
     },
     "execution_count": 17,
     "metadata": {},
     "output_type": "execute_result"
    }
   ],
   "source": [
    "data['gender'].value_counts(normalize=True)"
   ]
  },
  {
   "cell_type": "code",
   "execution_count": 18,
   "metadata": {},
   "outputs": [
    {
     "data": {
      "text/plain": [
       "France     0.5014\n",
       "Germany    0.2509\n",
       "Spain      0.2477\n",
       "Name: geography, dtype: float64"
      ]
     },
     "execution_count": 18,
     "metadata": {},
     "output_type": "execute_result"
    }
   ],
   "source": [
    "data['geography'].value_counts(normalize=True)"
   ]
  },
  {
   "cell_type": "code",
   "execution_count": 19,
   "metadata": {},
   "outputs": [
    {
     "data": {
      "text/plain": [
       "0    0.7963\n",
       "1    0.2037\n",
       "Name: exited, dtype: float64"
      ]
     },
     "execution_count": 19,
     "metadata": {},
     "output_type": "execute_result"
    }
   ],
   "source": [
    "data['exited'].value_counts(normalize=True)"
   ]
  },
  {
   "cell_type": "markdown",
   "metadata": {},
   "source": [
    "Есть дисбаланс в целевом признаке, остальное вроде бы неплохо. В столбце с указанием стран клиентов из Франции - половина, из Германии и Испании - по 1/4. Мужчин и женщин примерно поровну."
   ]
  },
  {
   "cell_type": "markdown",
   "metadata": {},
   "source": [
    "Теперь преобразуем стобцы с категориальными признаками в численные."
   ]
  },
  {
   "cell_type": "code",
   "execution_count": 21,
   "metadata": {},
   "outputs": [
    {
     "data": {
      "text/html": [
       "<div>\n",
       "<style scoped>\n",
       "    .dataframe tbody tr th:only-of-type {\n",
       "        vertical-align: middle;\n",
       "    }\n",
       "\n",
       "    .dataframe tbody tr th {\n",
       "        vertical-align: top;\n",
       "    }\n",
       "\n",
       "    .dataframe thead th {\n",
       "        text-align: right;\n",
       "    }\n",
       "</style>\n",
       "<table border=\"1\" class=\"dataframe\">\n",
       "  <thead>\n",
       "    <tr style=\"text-align: right;\">\n",
       "      <th></th>\n",
       "      <th>creditscore</th>\n",
       "      <th>geography</th>\n",
       "      <th>gender</th>\n",
       "      <th>age</th>\n",
       "      <th>tenure</th>\n",
       "      <th>balance</th>\n",
       "      <th>numofproducts</th>\n",
       "      <th>hascrcard</th>\n",
       "      <th>isactivemember</th>\n",
       "      <th>estimatedsalary</th>\n",
       "      <th>exited</th>\n",
       "    </tr>\n",
       "  </thead>\n",
       "  <tbody>\n",
       "    <tr>\n",
       "      <th>0</th>\n",
       "      <td>619</td>\n",
       "      <td>France</td>\n",
       "      <td>Female</td>\n",
       "      <td>42</td>\n",
       "      <td>2.0</td>\n",
       "      <td>0.00</td>\n",
       "      <td>1</td>\n",
       "      <td>1</td>\n",
       "      <td>1</td>\n",
       "      <td>101348.88</td>\n",
       "      <td>1</td>\n",
       "    </tr>\n",
       "    <tr>\n",
       "      <th>1</th>\n",
       "      <td>608</td>\n",
       "      <td>Spain</td>\n",
       "      <td>Female</td>\n",
       "      <td>41</td>\n",
       "      <td>1.0</td>\n",
       "      <td>83807.86</td>\n",
       "      <td>1</td>\n",
       "      <td>0</td>\n",
       "      <td>1</td>\n",
       "      <td>112542.58</td>\n",
       "      <td>0</td>\n",
       "    </tr>\n",
       "    <tr>\n",
       "      <th>2</th>\n",
       "      <td>502</td>\n",
       "      <td>France</td>\n",
       "      <td>Female</td>\n",
       "      <td>42</td>\n",
       "      <td>8.0</td>\n",
       "      <td>159660.80</td>\n",
       "      <td>3</td>\n",
       "      <td>1</td>\n",
       "      <td>0</td>\n",
       "      <td>113931.57</td>\n",
       "      <td>1</td>\n",
       "    </tr>\n",
       "    <tr>\n",
       "      <th>3</th>\n",
       "      <td>699</td>\n",
       "      <td>France</td>\n",
       "      <td>Female</td>\n",
       "      <td>39</td>\n",
       "      <td>1.0</td>\n",
       "      <td>0.00</td>\n",
       "      <td>2</td>\n",
       "      <td>0</td>\n",
       "      <td>0</td>\n",
       "      <td>93826.63</td>\n",
       "      <td>0</td>\n",
       "    </tr>\n",
       "    <tr>\n",
       "      <th>4</th>\n",
       "      <td>850</td>\n",
       "      <td>Spain</td>\n",
       "      <td>Female</td>\n",
       "      <td>43</td>\n",
       "      <td>2.0</td>\n",
       "      <td>125510.82</td>\n",
       "      <td>1</td>\n",
       "      <td>1</td>\n",
       "      <td>1</td>\n",
       "      <td>79084.10</td>\n",
       "      <td>0</td>\n",
       "    </tr>\n",
       "  </tbody>\n",
       "</table>\n",
       "</div>"
      ],
      "text/plain": [
       "   creditscore geography  gender  age  tenure    balance  numofproducts  \\\n",
       "0          619    France  Female   42     2.0       0.00              1   \n",
       "1          608     Spain  Female   41     1.0   83807.86              1   \n",
       "2          502    France  Female   42     8.0  159660.80              3   \n",
       "3          699    France  Female   39     1.0       0.00              2   \n",
       "4          850     Spain  Female   43     2.0  125510.82              1   \n",
       "\n",
       "   hascrcard  isactivemember  estimatedsalary  exited  \n",
       "0          1               1        101348.88       1  \n",
       "1          0               1        112542.58       0  \n",
       "2          1               0        113931.57       1  \n",
       "3          0               0         93826.63       0  \n",
       "4          1               1         79084.10       0  "
      ]
     },
     "execution_count": 21,
     "metadata": {},
     "output_type": "execute_result"
    }
   ],
   "source": [
    "data.head()"
   ]
  },
  {
   "cell_type": "markdown",
   "metadata": {},
   "source": [
    "***Вывод***\n",
    "\n",
    "1. Избавились от пропущенных значений в столбце tenure\n",
    "2. Явные дубликаты отсутсвуют\n",
    "3. Корреляции между признаками не выявлено\n",
    "4. Есть дисбаланс в целевом признаке: 0 - 80%, 1 - 20%."
   ]
  },
  {
   "cell_type": "markdown",
   "metadata": {},
   "source": [
    "## Исследование задачи"
   ]
  },
  {
   "cell_type": "markdown",
   "metadata": {},
   "source": [
    "Т.к. у нас один датасет, то делить его будем на 3 части: обучаемая(60%), валидационная (20%) и тестовая (20%)."
   ]
  },
  {
   "cell_type": "code",
   "execution_count": 23,
   "metadata": {},
   "outputs": [],
   "source": [
    "features = data.drop(\"exited\", axis=1)\n",
    "target = data[\"exited\"]"
   ]
  },
  {
   "cell_type": "code",
   "execution_count": 24,
   "metadata": {},
   "outputs": [],
   "source": [
    "# тестовая часть\n",
    "features, features_test, target, target_test = train_test_split(\n",
    "    features, target, test_size=0.2, train_size=0.8\n",
    ")"
   ]
  },
  {
   "cell_type": "code",
   "execution_count": 25,
   "metadata": {},
   "outputs": [],
   "source": [
    "# тренировочная и валидационная части\n",
    "features_train, features_valid, target_train, target_valid = train_test_split(\n",
    "    features, target, test_size = 0.25, train_size =0.75\n",
    ")"
   ]
  },
  {
   "cell_type": "code",
   "execution_count": 26,
   "metadata": {},
   "outputs": [
    {
     "name": "stdout",
     "output_type": "stream",
     "text": [
      "Тренировочная: 6000\n",
      "Валидационная: 2000\n",
      "Тестовая: 2000\n"
     ]
    }
   ],
   "source": [
    "print('Тренировочная:', features_train.shape[0])\n",
    "print('Валидационная:', features_valid.shape[0])\n",
    "print('Тестовая:', features_test.shape[0])"
   ]
  },
  {
   "cell_type": "markdown",
   "metadata": {},
   "source": [
    "Стандартизируем наши данные."
   ]
  },
  {
   "cell_type": "code",
   "execution_count": 27,
   "metadata": {},
   "outputs": [],
   "source": [
    "numeric = ['creditscore', 'age', 'balance', 'estimatedsalary', 'tenure', 'numofproducts']\n",
    "\n",
    "scaler = StandardScaler()\n",
    "\n",
    "scaler.fit(features_train[numeric])\n",
    "\n",
    "features_train[numeric] = scaler.transform(features_train[numeric])\n",
    "features_valid[numeric] = scaler.transform(features_valid[numeric])\n",
    "features_test[numeric] = scaler.transform(features_test[numeric])"
   ]
  },
  {
   "cell_type": "code",
   "execution_count": 28,
   "metadata": {},
   "outputs": [
    {
     "data": {
      "text/html": [
       "<div>\n",
       "<style scoped>\n",
       "    .dataframe tbody tr th:only-of-type {\n",
       "        vertical-align: middle;\n",
       "    }\n",
       "\n",
       "    .dataframe tbody tr th {\n",
       "        vertical-align: top;\n",
       "    }\n",
       "\n",
       "    .dataframe thead th {\n",
       "        text-align: right;\n",
       "    }\n",
       "</style>\n",
       "<table border=\"1\" class=\"dataframe\">\n",
       "  <thead>\n",
       "    <tr style=\"text-align: right;\">\n",
       "      <th></th>\n",
       "      <th>creditscore</th>\n",
       "      <th>geography</th>\n",
       "      <th>gender</th>\n",
       "      <th>age</th>\n",
       "      <th>tenure</th>\n",
       "      <th>balance</th>\n",
       "      <th>numofproducts</th>\n",
       "      <th>hascrcard</th>\n",
       "      <th>isactivemember</th>\n",
       "      <th>estimatedsalary</th>\n",
       "    </tr>\n",
       "  </thead>\n",
       "  <tbody>\n",
       "    <tr>\n",
       "      <th>4333</th>\n",
       "      <td>0.751602</td>\n",
       "      <td>Germany</td>\n",
       "      <td>Male</td>\n",
       "      <td>-0.460125</td>\n",
       "      <td>0.362384</td>\n",
       "      <td>0.667988</td>\n",
       "      <td>0.806357</td>\n",
       "      <td>0</td>\n",
       "      <td>0</td>\n",
       "      <td>1.002732</td>\n",
       "    </tr>\n",
       "    <tr>\n",
       "      <th>9762</th>\n",
       "      <td>0.587129</td>\n",
       "      <td>Germany</td>\n",
       "      <td>Male</td>\n",
       "      <td>-1.692773</td>\n",
       "      <td>1.092383</td>\n",
       "      <td>0.920170</td>\n",
       "      <td>0.806357</td>\n",
       "      <td>1</td>\n",
       "      <td>0</td>\n",
       "      <td>-0.871927</td>\n",
       "    </tr>\n",
       "    <tr>\n",
       "      <th>9220</th>\n",
       "      <td>-0.543623</td>\n",
       "      <td>France</td>\n",
       "      <td>Male</td>\n",
       "      <td>2.005170</td>\n",
       "      <td>-0.367615</td>\n",
       "      <td>-1.226508</td>\n",
       "      <td>-0.915401</td>\n",
       "      <td>1</td>\n",
       "      <td>0</td>\n",
       "      <td>1.714919</td>\n",
       "    </tr>\n",
       "    <tr>\n",
       "      <th>4023</th>\n",
       "      <td>-1.191235</td>\n",
       "      <td>France</td>\n",
       "      <td>Male</td>\n",
       "      <td>-0.080849</td>\n",
       "      <td>1.092383</td>\n",
       "      <td>0.151187</td>\n",
       "      <td>-0.915401</td>\n",
       "      <td>1</td>\n",
       "      <td>0</td>\n",
       "      <td>-1.592287</td>\n",
       "    </tr>\n",
       "    <tr>\n",
       "      <th>3298</th>\n",
       "      <td>-0.954805</td>\n",
       "      <td>Germany</td>\n",
       "      <td>Male</td>\n",
       "      <td>-1.313497</td>\n",
       "      <td>1.822382</td>\n",
       "      <td>0.557868</td>\n",
       "      <td>0.806357</td>\n",
       "      <td>1</td>\n",
       "      <td>0</td>\n",
       "      <td>1.706799</td>\n",
       "    </tr>\n",
       "    <tr>\n",
       "      <th>...</th>\n",
       "      <td>...</td>\n",
       "      <td>...</td>\n",
       "      <td>...</td>\n",
       "      <td>...</td>\n",
       "      <td>...</td>\n",
       "      <td>...</td>\n",
       "      <td>...</td>\n",
       "      <td>...</td>\n",
       "      <td>...</td>\n",
       "      <td>...</td>\n",
       "    </tr>\n",
       "    <tr>\n",
       "      <th>5512</th>\n",
       "      <td>-0.245515</td>\n",
       "      <td>France</td>\n",
       "      <td>Male</td>\n",
       "      <td>-0.175668</td>\n",
       "      <td>-1.097615</td>\n",
       "      <td>0.779431</td>\n",
       "      <td>-0.915401</td>\n",
       "      <td>0</td>\n",
       "      <td>1</td>\n",
       "      <td>-0.270267</td>\n",
       "    </tr>\n",
       "    <tr>\n",
       "      <th>571</th>\n",
       "      <td>0.001194</td>\n",
       "      <td>France</td>\n",
       "      <td>Male</td>\n",
       "      <td>0.582884</td>\n",
       "      <td>-0.002616</td>\n",
       "      <td>-1.226508</td>\n",
       "      <td>-0.915401</td>\n",
       "      <td>1</td>\n",
       "      <td>0</td>\n",
       "      <td>-0.565821</td>\n",
       "    </tr>\n",
       "    <tr>\n",
       "      <th>3302</th>\n",
       "      <td>-0.595021</td>\n",
       "      <td>Spain</td>\n",
       "      <td>Male</td>\n",
       "      <td>-0.365306</td>\n",
       "      <td>-0.367615</td>\n",
       "      <td>1.363421</td>\n",
       "      <td>-0.915401</td>\n",
       "      <td>1</td>\n",
       "      <td>1</td>\n",
       "      <td>-1.403316</td>\n",
       "    </tr>\n",
       "    <tr>\n",
       "      <th>307</th>\n",
       "      <td>-0.224956</td>\n",
       "      <td>Germany</td>\n",
       "      <td>Male</td>\n",
       "      <td>-0.365306</td>\n",
       "      <td>0.727383</td>\n",
       "      <td>1.286664</td>\n",
       "      <td>0.806357</td>\n",
       "      <td>1</td>\n",
       "      <td>0</td>\n",
       "      <td>-1.195996</td>\n",
       "    </tr>\n",
       "    <tr>\n",
       "      <th>2639</th>\n",
       "      <td>0.628248</td>\n",
       "      <td>Germany</td>\n",
       "      <td>Female</td>\n",
       "      <td>0.108789</td>\n",
       "      <td>-0.732615</td>\n",
       "      <td>0.524952</td>\n",
       "      <td>0.806357</td>\n",
       "      <td>1</td>\n",
       "      <td>0</td>\n",
       "      <td>0.353911</td>\n",
       "    </tr>\n",
       "  </tbody>\n",
       "</table>\n",
       "<p>6000 rows × 10 columns</p>\n",
       "</div>"
      ],
      "text/plain": [
       "      creditscore geography  gender       age    tenure   balance  \\\n",
       "4333     0.751602   Germany    Male -0.460125  0.362384  0.667988   \n",
       "9762     0.587129   Germany    Male -1.692773  1.092383  0.920170   \n",
       "9220    -0.543623    France    Male  2.005170 -0.367615 -1.226508   \n",
       "4023    -1.191235    France    Male -0.080849  1.092383  0.151187   \n",
       "3298    -0.954805   Germany    Male -1.313497  1.822382  0.557868   \n",
       "...           ...       ...     ...       ...       ...       ...   \n",
       "5512    -0.245515    France    Male -0.175668 -1.097615  0.779431   \n",
       "571      0.001194    France    Male  0.582884 -0.002616 -1.226508   \n",
       "3302    -0.595021     Spain    Male -0.365306 -0.367615  1.363421   \n",
       "307     -0.224956   Germany    Male -0.365306  0.727383  1.286664   \n",
       "2639     0.628248   Germany  Female  0.108789 -0.732615  0.524952   \n",
       "\n",
       "      numofproducts  hascrcard  isactivemember  estimatedsalary  \n",
       "4333       0.806357          0               0         1.002732  \n",
       "9762       0.806357          1               0        -0.871927  \n",
       "9220      -0.915401          1               0         1.714919  \n",
       "4023      -0.915401          1               0        -1.592287  \n",
       "3298       0.806357          1               0         1.706799  \n",
       "...             ...        ...             ...              ...  \n",
       "5512      -0.915401          0               1        -0.270267  \n",
       "571       -0.915401          1               0        -0.565821  \n",
       "3302      -0.915401          1               1        -1.403316  \n",
       "307        0.806357          1               0        -1.195996  \n",
       "2639       0.806357          1               0         0.353911  \n",
       "\n",
       "[6000 rows x 10 columns]"
      ]
     },
     "execution_count": 28,
     "metadata": {},
     "output_type": "execute_result"
    }
   ],
   "source": [
    "features_train"
   ]
  },
  {
   "cell_type": "code",
   "execution_count": 29,
   "metadata": {},
   "outputs": [],
   "source": [
    "features_train_scaled=pd.get_dummies(features_train, drop_first=True)\n",
    "features_valid_scaled=pd.get_dummies(features_valid, drop_first=True)\n",
    "features_test_scaled=pd.get_dummies(features_test, drop_first=True)"
   ]
  },
  {
   "cell_type": "code",
   "execution_count": 30,
   "metadata": {},
   "outputs": [
    {
     "data": {
      "text/html": [
       "<div>\n",
       "<style scoped>\n",
       "    .dataframe tbody tr th:only-of-type {\n",
       "        vertical-align: middle;\n",
       "    }\n",
       "\n",
       "    .dataframe tbody tr th {\n",
       "        vertical-align: top;\n",
       "    }\n",
       "\n",
       "    .dataframe thead th {\n",
       "        text-align: right;\n",
       "    }\n",
       "</style>\n",
       "<table border=\"1\" class=\"dataframe\">\n",
       "  <thead>\n",
       "    <tr style=\"text-align: right;\">\n",
       "      <th></th>\n",
       "      <th>creditscore</th>\n",
       "      <th>age</th>\n",
       "      <th>tenure</th>\n",
       "      <th>balance</th>\n",
       "      <th>numofproducts</th>\n",
       "      <th>hascrcard</th>\n",
       "      <th>isactivemember</th>\n",
       "      <th>estimatedsalary</th>\n",
       "      <th>geography_Germany</th>\n",
       "      <th>geography_Spain</th>\n",
       "      <th>gender_Male</th>\n",
       "    </tr>\n",
       "  </thead>\n",
       "  <tbody>\n",
       "    <tr>\n",
       "      <th>4333</th>\n",
       "      <td>0.751602</td>\n",
       "      <td>-0.460125</td>\n",
       "      <td>0.362384</td>\n",
       "      <td>0.667988</td>\n",
       "      <td>0.806357</td>\n",
       "      <td>0</td>\n",
       "      <td>0</td>\n",
       "      <td>1.002732</td>\n",
       "      <td>1</td>\n",
       "      <td>0</td>\n",
       "      <td>1</td>\n",
       "    </tr>\n",
       "    <tr>\n",
       "      <th>9762</th>\n",
       "      <td>0.587129</td>\n",
       "      <td>-1.692773</td>\n",
       "      <td>1.092383</td>\n",
       "      <td>0.920170</td>\n",
       "      <td>0.806357</td>\n",
       "      <td>1</td>\n",
       "      <td>0</td>\n",
       "      <td>-0.871927</td>\n",
       "      <td>1</td>\n",
       "      <td>0</td>\n",
       "      <td>1</td>\n",
       "    </tr>\n",
       "    <tr>\n",
       "      <th>9220</th>\n",
       "      <td>-0.543623</td>\n",
       "      <td>2.005170</td>\n",
       "      <td>-0.367615</td>\n",
       "      <td>-1.226508</td>\n",
       "      <td>-0.915401</td>\n",
       "      <td>1</td>\n",
       "      <td>0</td>\n",
       "      <td>1.714919</td>\n",
       "      <td>0</td>\n",
       "      <td>0</td>\n",
       "      <td>1</td>\n",
       "    </tr>\n",
       "    <tr>\n",
       "      <th>4023</th>\n",
       "      <td>-1.191235</td>\n",
       "      <td>-0.080849</td>\n",
       "      <td>1.092383</td>\n",
       "      <td>0.151187</td>\n",
       "      <td>-0.915401</td>\n",
       "      <td>1</td>\n",
       "      <td>0</td>\n",
       "      <td>-1.592287</td>\n",
       "      <td>0</td>\n",
       "      <td>0</td>\n",
       "      <td>1</td>\n",
       "    </tr>\n",
       "    <tr>\n",
       "      <th>3298</th>\n",
       "      <td>-0.954805</td>\n",
       "      <td>-1.313497</td>\n",
       "      <td>1.822382</td>\n",
       "      <td>0.557868</td>\n",
       "      <td>0.806357</td>\n",
       "      <td>1</td>\n",
       "      <td>0</td>\n",
       "      <td>1.706799</td>\n",
       "      <td>1</td>\n",
       "      <td>0</td>\n",
       "      <td>1</td>\n",
       "    </tr>\n",
       "  </tbody>\n",
       "</table>\n",
       "</div>"
      ],
      "text/plain": [
       "      creditscore       age    tenure   balance  numofproducts  hascrcard  \\\n",
       "4333     0.751602 -0.460125  0.362384  0.667988       0.806357          0   \n",
       "9762     0.587129 -1.692773  1.092383  0.920170       0.806357          1   \n",
       "9220    -0.543623  2.005170 -0.367615 -1.226508      -0.915401          1   \n",
       "4023    -1.191235 -0.080849  1.092383  0.151187      -0.915401          1   \n",
       "3298    -0.954805 -1.313497  1.822382  0.557868       0.806357          1   \n",
       "\n",
       "      isactivemember  estimatedsalary  geography_Germany  geography_Spain  \\\n",
       "4333               0         1.002732                  1                0   \n",
       "9762               0        -0.871927                  1                0   \n",
       "9220               0         1.714919                  0                0   \n",
       "4023               0        -1.592287                  0                0   \n",
       "3298               0         1.706799                  1                0   \n",
       "\n",
       "      gender_Male  \n",
       "4333            1  \n",
       "9762            1  \n",
       "9220            1  \n",
       "4023            1  \n",
       "3298            1  "
      ]
     },
     "execution_count": 30,
     "metadata": {},
     "output_type": "execute_result"
    }
   ],
   "source": [
    "features_train_scaled.head()"
   ]
  },
  {
   "cell_type": "code",
   "execution_count": 32,
   "metadata": {},
   "outputs": [
    {
     "name": "stdout",
     "output_type": "stream",
     "text": [
      "Тренировочная: 6000\n",
      "Валидационная: 2000\n",
      "Тестовая: 2000\n"
     ]
    }
   ],
   "source": [
    "print('Тренировочная:', features_train_scaled.shape[0])\n",
    "print('Валидационная:', features_valid_scaled.shape[0])\n",
    "print('Тестовая:', features_test_scaled.shape[0])"
   ]
  },
  {
   "cell_type": "markdown",
   "metadata": {},
   "source": [
    "Посмотрим, как на наших данных работает дерево решений, случайный лес и логистическая регрессия (без учета дисбаланса). Для каждой модели посмотрим метрику f1 и ROC-AUC."
   ]
  },
  {
   "cell_type": "markdown",
   "metadata": {},
   "source": [
    "Дерево решений"
   ]
  },
  {
   "cell_type": "code",
   "execution_count": 33,
   "metadata": {},
   "outputs": [
    {
     "name": "stderr",
     "output_type": "stream",
     "text": [
      "100%|██████████| 12/12 [00:12<00:00,  1.03s/it]"
     ]
    },
    {
     "name": "stdout",
     "output_type": "stream",
     "text": [
      "f1: 0.5706134094151213\n",
      "auc_roc: 0.8298267450809822\n",
      "Гиперпараметры: \n",
      "\tmax_depth: 5 \n",
      "\tmin_samples_leaf: 13\n",
      "CPU times: user 12.3 s, sys: 37.8 ms, total: 12.3 s\n",
      "Wall time: 12.3 s\n"
     ]
    },
    {
     "name": "stderr",
     "output_type": "stream",
     "text": [
      "\n"
     ]
    }
   ],
   "source": [
    "%%time\n",
    "\n",
    "best_model_dt = None\n",
    "best_model_dt_depth = 0\n",
    "best_model_dt_leaf = 0\n",
    "best_result_dt = 0\n",
    "best_auc_dt = 0\n",
    "\n",
    "for depth in tqdm(range(1, 13)):\n",
    "    for i in range(1, 50):\n",
    "            model_dt = DecisionTreeClassifier(random_state=12345, max_depth=depth, min_samples_leaf=i) \n",
    "            model_dt.fit(features_train_scaled, target_train) \n",
    "            predictions_dt = model_dt.predict(features_valid_scaled) \n",
    "            result_dt = f1_score(target_valid, predictions_dt)\n",
    "            \n",
    "            probabilities_valid = model_dt.predict_proba(features_valid_scaled)\n",
    "            probabilities_one_valid = probabilities_valid[:, 1]\n",
    "            auc_roc_dt = roc_auc_score(target_valid, probabilities_one_valid)\n",
    "            if result_dt > best_result_dt:\n",
    "                best_model_dt = model_dt\n",
    "                best_model_dt_depth = depth\n",
    "                best_model_dt_leaf = i\n",
    "                best_result_dt = result_dt\n",
    "                best_auc_dt = auc_roc_dt\n",
    "\n",
    "print('f1:', best_result_dt)\n",
    "print('auc_roc:', best_auc_dt) \n",
    "print(f'Гиперпараметры: \\n\\tmax_depth: {best_model_dt_depth} \\n\\tmin_samples_leaf: {best_model_dt_leaf}')"
   ]
  },
  {
   "cell_type": "markdown",
   "metadata": {},
   "source": [
    "Случайный лес"
   ]
  },
  {
   "cell_type": "code",
   "execution_count": 34,
   "metadata": {},
   "outputs": [
    {
     "name": "stderr",
     "output_type": "stream",
     "text": [
      "100%|██████████| 14/14 [10:49<00:00, 46.38s/it]"
     ]
    },
    {
     "name": "stdout",
     "output_type": "stream",
     "text": [
      "f1: 0.5882352941176472\n",
      "auc_roc: 0.8419151046269691\n",
      "Гиперпараметры: \n",
      "\tn_estimators: 80 \n",
      "\tmax_depth: 25\n",
      "CPU times: user 10min 43s, sys: 4.11 s, total: 10min 47s\n",
      "Wall time: 10min 49s\n"
     ]
    },
    {
     "name": "stderr",
     "output_type": "stream",
     "text": [
      "\n"
     ]
    }
   ],
   "source": [
    "%%time\n",
    "\n",
    "best_model_rf = None\n",
    "best_model_rf_est = 0\n",
    "best_model_rf_depth = 0\n",
    "best_result_rf = 0\n",
    "best_auc_rf = 0\n",
    "\n",
    "for est in tqdm(range(40, 301, 20)):\n",
    "    for dpth in range(1, 40):\n",
    "        model_rf = RandomForestClassifier(random_state=12345, n_estimators=est, max_depth=dpth) \n",
    "        model_rf.fit(features_train_scaled, target_train) \n",
    "        predictions_rf = model_rf.predict(features_valid_scaled) \n",
    "        result_rf = f1_score(target_valid, predictions_rf)\n",
    "        \n",
    "        probabilities_valid = model_rf.predict_proba(features_valid_scaled)\n",
    "        probabilities_one_valid = probabilities_valid[:, 1]\n",
    "        auc_roc_rf = roc_auc_score(target_valid, probabilities_one_valid)\n",
    "        \n",
    "        if result_rf > best_result_rf:\n",
    "            best_model_rf = model_rf\n",
    "            best_result_rf = result_rf\n",
    "            best_model_rf_est = est\n",
    "            best_model_rf_depth = dpth\n",
    "            best_auc_rf = auc_roc_rf\n",
    "\n",
    "print('f1:', best_result_rf) \n",
    "print('auc_roc:', best_auc_rf) \n",
    "print(f'Гиперпараметры: \\n\\tn_estimators: {best_model_rf_est} \\n\\tmax_depth: {best_model_rf_depth}')"
   ]
  },
  {
   "cell_type": "markdown",
   "metadata": {},
   "source": [
    "Посмотрим теперь на логистическую регрессию."
   ]
  },
  {
   "cell_type": "code",
   "execution_count": 35,
   "metadata": {},
   "outputs": [
    {
     "name": "stderr",
     "output_type": "stream",
     "text": [
      "100%|██████████| 99/99 [01:25<00:00,  1.16it/s]"
     ]
    },
    {
     "name": "stdout",
     "output_type": "stream",
     "text": [
      "f1: 0.31444241316270566\n",
      "auc_roc: 0.7755891484705045\n",
      "Гиперпараметры: \n",
      "\tn_estimators: 100\n",
      "CPU times: user 26.5 s, sys: 58.9 s, total: 1min 25s\n",
      "Wall time: 1min 25s\n"
     ]
    },
    {
     "name": "stderr",
     "output_type": "stream",
     "text": [
      "\n"
     ]
    }
   ],
   "source": [
    "%%time\n",
    "\n",
    "best_model_lg = None\n",
    "best_model_lg_it = 0\n",
    "best_result_lg = 0\n",
    "best_auc_lg = 0\n",
    "\n",
    "for it in tqdm(range(100, 10000, 100)):\n",
    "    model_lg = LogisticRegression(random_state=12345, solver='lbfgs', max_iter=it) \n",
    "    model_lg.fit(features_train_scaled, target_train) \n",
    "    predictions_lg = model_lg.predict(features_valid_scaled) \n",
    "    result_lg = f1_score(target_valid, predictions_lg)\n",
    "    \n",
    "    probabilities_valid = model_lg.predict_proba(features_valid_scaled)\n",
    "    probabilities_one_valid = probabilities_valid[:, 1]\n",
    "    auc_roc_lg = roc_auc_score(target_valid, probabilities_one_valid)\n",
    "    \n",
    "    if result_lg > best_result_lg:\n",
    "        best_model_lg = model_lg\n",
    "        best_result_lg = result_lg\n",
    "        best_model_lg_it = it\n",
    "        best_auc_lg = auc_roc_lg\n",
    "\n",
    "print('f1:', best_result_lg) \n",
    "print('auc_roc:', best_auc_lg) \n",
    "print(f'Гиперпараметры: \\n\\tn_estimators: {best_model_lg_it}')"
   ]
  },
  {
   "cell_type": "markdown",
   "metadata": {},
   "source": [
    "***Вывод*** \n",
    "\n",
    "По 3 моделям мы можем сделать выбор в пользу случайного леса, тк случайный лес показывает результаты лучше, чем дерево решений и логистическая регрессия."
   ]
  },
  {
   "cell_type": "markdown",
   "metadata": {},
   "source": [
    "## Борьба с дисбалансом"
   ]
  },
  {
   "cell_type": "markdown",
   "metadata": {},
   "source": [
    "Далее будем работать с моделью случайного леса, тк эта модель показала лучший результат по сравнению с другими моделями. Попробуем добавить встроенный параметр класса весов class_weight='balanced'."
   ]
  },
  {
   "cell_type": "code",
   "execution_count": 36,
   "metadata": {},
   "outputs": [
    {
     "name": "stderr",
     "output_type": "stream",
     "text": [
      "100%|██████████| 14/14 [11:19<00:00, 48.53s/it]"
     ]
    },
    {
     "name": "stdout",
     "output_type": "stream",
     "text": [
      "f1: 0.6232439335887612\n",
      "auc_roc: 0.8588341808680792\n",
      "Гиперпараметры: \n",
      "\tn_estimators: 80 \n",
      "\tmax_depth: 11\n",
      "CPU times: user 11min 14s, sys: 2.98 s, total: 11min 17s\n",
      "Wall time: 11min 19s\n"
     ]
    },
    {
     "name": "stderr",
     "output_type": "stream",
     "text": [
      "\n"
     ]
    }
   ],
   "source": [
    "%%time\n",
    "\n",
    "best_model_rf = None\n",
    "best_model_rf_est = 0\n",
    "best_model_rf_depth = 0\n",
    "best_result_rf = 0\n",
    "best_auc_rf = 0\n",
    "\n",
    "for est in tqdm(range(40, 301, 20)):\n",
    "    for dpth in range(1, 40):\n",
    "        model_rf = RandomForestClassifier(random_state=12345, class_weight='balanced', n_estimators=est, max_depth=dpth) \n",
    "        model_rf.fit(features_train_scaled, target_train) \n",
    "        predictions_rf = model_rf.predict(features_valid_scaled) \n",
    "        result_rf = f1_score(target_valid, predictions_rf)\n",
    "        \n",
    "        probabilities_valid = model_rf.predict_proba(features_valid_scaled)\n",
    "        probabilities_one_valid = probabilities_valid[:, 1]\n",
    "        auc_roc_rf = roc_auc_score(target_valid, probabilities_one_valid)\n",
    "        \n",
    "        if result_rf > best_result_rf:\n",
    "            best_model_rf = model_rf\n",
    "            best_result_rf = result_rf\n",
    "            best_model_rf_est = est\n",
    "            best_model_rf_depth = dpth\n",
    "            best_auc_rf = auc_roc_rf\n",
    "\n",
    "print('f1:', best_result_rf) \n",
    "print('auc_roc:', best_auc_rf) \n",
    "print(f'Гиперпараметры: \\n\\tn_estimators: {best_model_rf_est} \\n\\tmax_depth: {best_model_rf_depth}')"
   ]
  },
  {
   "cell_type": "markdown",
   "metadata": {},
   "source": [
    "При использовании встроенного аргумента class_weight='balanced' метрика f1 улучшилась, но не намного. Поэтому ппробуем вариант с увеличением выборки (upsampling) и вариант с уменьшением выборки (downsampling)."
   ]
  },
  {
   "cell_type": "markdown",
   "metadata": {},
   "source": [
    "Начнем с upsamping. "
   ]
  },
  {
   "cell_type": "code",
   "execution_count": 37,
   "metadata": {},
   "outputs": [],
   "source": [
    "def upsample(features, target, repeat):\n",
    "    features_zeros = features[target == 0]\n",
    "    features_ones = features[target == 1]\n",
    "    target_zeros = target[target == 0]\n",
    "    target_ones = target[target == 1]\n",
    "\n",
    "    features_upsampled = pd.concat([features_zeros] + [features_ones] * repeat)\n",
    "    target_upsampled = pd.concat([target_zeros] + [target_ones] * repeat)\n",
    "    \n",
    "    features_upsampled, target_upsampled = shuffle(\n",
    "        features_upsampled, target_upsampled, random_state=12345)\n",
    "    \n",
    "    return features_upsampled, target_upsampled"
   ]
  },
  {
   "cell_type": "markdown",
   "metadata": {},
   "source": [
    "Выбираем значение repeats=4, чтобы подставить его в новые features и target"
   ]
  },
  {
   "cell_type": "code",
   "execution_count": 38,
   "metadata": {},
   "outputs": [],
   "source": [
    "features_upsampled, target_upsampled = upsample(features_train_scaled, target_train, 4)"
   ]
  },
  {
   "cell_type": "code",
   "execution_count": 39,
   "metadata": {},
   "outputs": [
    {
     "name": "stderr",
     "output_type": "stream",
     "text": [
      "100%|██████████| 14/14 [15:27<00:00, 66.27s/it]"
     ]
    },
    {
     "name": "stdout",
     "output_type": "stream",
     "text": [
      "f1: 0.6182266009852218\n",
      "auc_roc: 0.8531443616189378\n",
      "Гиперпараметры: \n",
      "\tn_estimators: 100 \n",
      "\tmax_depth: 13\n",
      "CPU times: user 15min 20s, sys: 4.69 s, total: 15min 25s\n",
      "Wall time: 15min 27s\n"
     ]
    },
    {
     "name": "stderr",
     "output_type": "stream",
     "text": [
      "\n"
     ]
    }
   ],
   "source": [
    "%%time\n",
    "\n",
    "best_model_rf_up = None\n",
    "best_model_rf_est = 0\n",
    "best_model_rf_depth = 0\n",
    "best_result_rf = 0\n",
    "best_auc_rf = 0\n",
    "\n",
    "for est in tqdm(range(40, 301, 20)):\n",
    "    for dpth in range(1, 40):\n",
    "        model_rf = RandomForestClassifier(random_state=12345, n_estimators=est, max_depth=dpth) \n",
    "        model_rf.fit(features_upsampled, target_upsampled) \n",
    "        predictions_rf = model_rf.predict(features_valid_scaled) \n",
    "        result_rf = f1_score(target_valid, predictions_rf)\n",
    "        \n",
    "        probabilities_valid = model_rf.predict_proba(features_valid_scaled)\n",
    "        probabilities_one_valid = probabilities_valid[:, 1]\n",
    "        auc_roc_rf = roc_auc_score(target_valid, probabilities_one_valid)\n",
    "        \n",
    "        if result_rf > best_result_rf:\n",
    "            best_model_rf_up = model_rf\n",
    "            best_result_rf = result_rf\n",
    "            best_model_rf_est = est\n",
    "            best_model_rf_depth = dpth\n",
    "            best_auc_rf = auc_roc_rf\n",
    "\n",
    "print('f1:', best_result_rf) \n",
    "print('auc_roc:', best_auc_rf) \n",
    "print(f'Гиперпараметры: \\n\\tn_estimators: {best_model_rf_est} \\n\\tmax_depth: {best_model_rf_depth}')"
   ]
  },
  {
   "cell_type": "markdown",
   "metadata": {},
   "source": [
    "При upsampling метрика f1 улучшилась с 0.58 до 0.6. Будем экспирементировать дальше. Теперь попробуем downsampling."
   ]
  },
  {
   "cell_type": "code",
   "execution_count": 40,
   "metadata": {},
   "outputs": [],
   "source": [
    "def downsample(features, target, fraction):\n",
    "    features_zeros = features[target == 0]\n",
    "    features_ones = features[target == 1]\n",
    "    target_zeros = target[target == 0]\n",
    "    target_ones = target[target == 1]\n",
    "\n",
    "    features_downsampled = pd.concat(\n",
    "        [features_zeros.sample(frac=fraction, random_state=12345)] + [features_ones])\n",
    "    target_downsampled = pd.concat(\n",
    "        [target_zeros.sample(frac=fraction, random_state=12345)] + [target_ones])\n",
    "    \n",
    "    features_downsampled, target_downsampled = shuffle(\n",
    "        features_downsampled, target_downsampled, random_state=12345)\n",
    "    \n",
    "    return features_downsampled, target_downsampled"
   ]
  },
  {
   "cell_type": "markdown",
   "metadata": {},
   "source": [
    "Выбираем значение fraction=0.25, тк при нем показывается максимальное значение f1."
   ]
  },
  {
   "cell_type": "code",
   "execution_count": 41,
   "metadata": {},
   "outputs": [],
   "source": [
    "features_downsampled, target_downsampled = downsample(features_train_scaled, target_train, fraction=0.25)"
   ]
  },
  {
   "cell_type": "code",
   "execution_count": 42,
   "metadata": {},
   "outputs": [
    {
     "name": "stderr",
     "output_type": "stream",
     "text": [
      "100%|██████████| 14/14 [06:28<00:00, 27.72s/it]"
     ]
    },
    {
     "name": "stdout",
     "output_type": "stream",
     "text": [
      "f1: 0.5986653956148714\n",
      "auc_roc: 0.8580799597748751\n",
      "Гиперпараметры: \n",
      "\tn_estimators: 80 \n",
      "\tmax_depth: 9\n",
      "CPU times: user 6min 24s, sys: 2.02 s, total: 6min 26s\n",
      "Wall time: 6min 28s\n"
     ]
    },
    {
     "name": "stderr",
     "output_type": "stream",
     "text": [
      "\n"
     ]
    }
   ],
   "source": [
    "%%time\n",
    "\n",
    "best_model_rf_down = None\n",
    "best_model_rf_est = 0\n",
    "best_model_rf_depth = 0\n",
    "best_result_rf = 0\n",
    "best_auc_rf = 0\n",
    "\n",
    "for est in tqdm(range(40, 301, 20)):\n",
    "    for dpth in range(1, 40):\n",
    "        model_rf = RandomForestClassifier(random_state=12345, n_estimators=est, max_depth=dpth) \n",
    "        model_rf.fit(features_downsampled, target_downsampled) \n",
    "        predictions_rf = model_rf.predict(features_valid_scaled) \n",
    "        result_rf = f1_score(target_valid, predictions_rf)\n",
    "        \n",
    "        probabilities_valid = model_rf.predict_proba(features_valid_scaled)\n",
    "        probabilities_one_valid = probabilities_valid[:, 1]\n",
    "        auc_roc_rf = roc_auc_score(target_valid, probabilities_one_valid)\n",
    "        \n",
    "        if result_rf > best_result_rf:\n",
    "            best_model_rf_down = model_rf\n",
    "            best_result_rf = result_rf\n",
    "            best_model_rf_est = est\n",
    "            best_model_rf_depth = dpth\n",
    "            best_auc_rf = auc_roc_rf\n",
    "\n",
    "print('f1:', best_result_rf) \n",
    "print('auc_roc:', best_auc_rf) \n",
    "print(f'Гиперпараметры: \\n\\tn_estimators: {best_model_rf_est} \\n\\tmax_depth: {best_model_rf_depth}')"
   ]
  },
  {
   "cell_type": "markdown",
   "metadata": {},
   "source": [
    "И при увеличении выборки, и при уменьшении выборки f1 улучшилось. Но при upsampling f1 стало равно 0.6, а при downsampling - 0.58."
   ]
  },
  {
   "cell_type": "markdown",
   "metadata": {},
   "source": [
    "Построим ROC-кривые для upsampling и для downsampling."
   ]
  },
  {
   "cell_type": "code",
   "execution_count": 43,
   "metadata": {},
   "outputs": [
    {
     "data": {
      "image/png": "[encoded data removed]",
      "text/plain": [
       "<Figure size 432x288 with 1 Axes>"
      ]
     },
     "metadata": {
      "needs_background": "light"
     },
     "output_type": "display_data"
    },
    {
     "name": "stdout",
     "output_type": "stream",
     "text": [
      "0.8531443616189378\n"
     ]
    }
   ],
   "source": [
    "#для upsampling\n",
    "\n",
    "probabilities_valid = best_model_rf_up.predict_proba(features_valid_scaled)\n",
    "probabilities_one_valid = probabilities_valid[:, 1]\n",
    "fpr, tpr, thresholds = roc_curve(target_valid, probabilities_one_valid)\n",
    "plt.figure()\n",
    "plt.plot(fpr, tpr)\n",
    "plt.xlim([0.0, 1.0])\n",
    "plt.ylim([0.0, 1.0])\n",
    "plt.xlabel('False Positive Rate')\n",
    "plt.ylabel('True Positive Rate')\n",
    "plt.title('ROC-кривая')\n",
    "plt.show() \n",
    "auc_roc = roc_auc_score(target_valid, probabilities_one_valid)\n",
    "print(auc_roc)"
   ]
  },
  {
   "cell_type": "code",
   "execution_count": 44,
   "metadata": {},
   "outputs": [
    {
     "data": {
      "image/png": "[encoded data removed]",
      "text/plain": [
       "<Figure size 432x288 with 1 Axes>"
      ]
     },
     "metadata": {
      "needs_background": "light"
     },
     "output_type": "display_data"
    },
    {
     "name": "stdout",
     "output_type": "stream",
     "text": [
      "0.8580799597748751\n"
     ]
    }
   ],
   "source": [
    "#для downsampling\n",
    "\n",
    "probabilities_valid = best_model_rf_down.predict_proba(features_valid_scaled)\n",
    "probabilities_one_valid = probabilities_valid[:, 1]\n",
    "fpr, tpr, thresholds = roc_curve(target_valid, probabilities_one_valid)\n",
    "plt.figure()\n",
    "plt.plot(fpr, tpr)\n",
    "plt.xlim([0.0, 1.0])\n",
    "plt.ylim([0.0, 1.0])\n",
    "plt.xlabel('False Positive Rate')\n",
    "plt.ylabel('True Positive Rate')\n",
    "plt.title('ROC-кривая')\n",
    "plt.show() \n",
    "auc_roc = roc_auc_score(target_valid, probabilities_one_valid)\n",
    "print(auc_roc)"
   ]
  },
  {
   "cell_type": "markdown",
   "metadata": {},
   "source": [
    "***Вывод***\n",
    "\n",
    "1. До борьбы с дисбалансом метрика f1 для случайного леса была равна 0.58.\n",
    "2. После борьбы с дисбалансом с помощью upsampling f1 достиг 0.629. При downsampling f1=0.596"
   ]
  },
  {
   "cell_type": "markdown",
   "metadata": {},
   "source": [
    "## Тестирование модели"
   ]
  },
  {
   "cell_type": "markdown",
   "metadata": {},
   "source": [
    "Протестируем модель случайного леса и сравним с классификатором DummyClassifier."
   ]
  },
  {
   "cell_type": "code",
   "execution_count": 45,
   "metadata": {},
   "outputs": [
    {
     "name": "stdout",
     "output_type": "stream",
     "text": [
      "Точность Dummy: 0.8045\n"
     ]
    }
   ],
   "source": [
    "clf = DummyClassifier(strategy='most_frequent', random_state=12345)\n",
    "clf.fit(features_train_scaled, target_train)\n",
    "score = clf.score(features_test_scaled, target_test)\n",
    "print('Точность Dummy:', score)"
   ]
  },
  {
   "cell_type": "code",
   "execution_count": 46,
   "metadata": {},
   "outputs": [
    {
     "name": "stdout",
     "output_type": "stream",
     "text": [
      "Accuracy: 0.839\n",
      "f1: 0.5924050632911392\n"
     ]
    }
   ],
   "source": [
    "# для модели с upsampling\n",
    "predictions = best_model_rf_up.predict(features_test_scaled)\n",
    "print(\"Accuracy:\", accuracy_score(target_test, predictions))\n",
    "print(\"f1:\", f1_score(target_test, predictions))"
   ]
  },
  {
   "cell_type": "code",
   "execution_count": 47,
   "metadata": {},
   "outputs": [
    {
     "data": {
      "image/png": "[encoded data removed]",
      "text/plain": [
       "<Figure size 432x288 with 1 Axes>"
      ]
     },
     "metadata": {
      "needs_background": "light"
     },
     "output_type": "display_data"
    },
    {
     "name": "stdout",
     "output_type": "stream",
     "text": [
      "0.8470082766535425\n"
     ]
    }
   ],
   "source": [
    "# натрисуем ROC-кривую\n",
    "\n",
    "probabilities_test = best_model_rf_up.predict_proba(features_test_scaled)\n",
    "probabilities_one_test = probabilities_test[:, 1]\n",
    "fpr, tpr, thresholds = roc_curve(target_test, probabilities_one_test)\n",
    "plt.figure()\n",
    "plt.plot(fpr, tpr)\n",
    "plt.plot([0, 1], [0, 1], linestyle='--')\n",
    "plt.xlim([0.0, 1.0])\n",
    "plt.ylim([0.0, 1.0])\n",
    "plt.xlabel('False Positive Rate')\n",
    "plt.ylabel('True Positive Rate')\n",
    "plt.title('ROC-кривая')\n",
    "plt.show() \n",
    "auc_roc = roc_auc_score(target_test, probabilities_one_test)\n",
    "print(auc_roc)"
   ]
  },
  {
   "cell_type": "markdown",
   "metadata": {},
   "source": [
    "Построим матрицу ошибок."
   ]
  },
  {
   "cell_type": "code",
   "execution_count": 48,
   "metadata": {},
   "outputs": [
    {
     "data": {
      "text/plain": [
       "Text(0.5, 1.05, 'Confusion_matrix')"
      ]
     },
     "execution_count": 48,
     "metadata": {},
     "output_type": "execute_result"
    },
    {
     "data": {
      "image/png": "[encoded data removed]",
      "text/plain": [
       "<Figure size 432x288 with 2 Axes>"
      ]
     },
     "metadata": {
      "needs_background": "light"
     },
     "output_type": "display_data"
    }
   ],
   "source": [
    "sns.heatmap(confusion_matrix(target_test, predictions), annot=True, fmt='3.0f', cmap=\"summer\")\n",
    "plt.title('Confusion_matrix', y=1.05, size=15)"
   ]
  },
  {
   "cell_type": "markdown",
   "metadata": {},
   "source": [
    "***Вывод***\n",
    "\n",
    "Протестировали модель случайного леса на тестовой выборке, сравнили с моделью DummyClassifier, построили ROC-кривую и матрицу ошибок. \n",
    "\n",
    "1. Наша модель показывает лучше результаты, чем DummyClassifier.\n",
    "2. Upsamplig работает чуть лучше, чем Downsampling.\n",
    "3. AUC_ROC = 0.84, f1 = 0.58"
   ]
  },
  {
   "cell_type": "markdown",
   "metadata": {},
   "source": [
    "## Вывод"
   ]
  },
  {
   "cell_type": "markdown",
   "metadata": {},
   "source": [
    "1. Мы подготовили данные к обучению. В ходе подготовки обнаружили пропущенные значения, от которых избавились, заполнив средним значением. Убрали лишние столбцы, которые не помогли бы нашей модели обучаться (например, столбик с фамилией клиента или номером строки в датасете). Избавились от категориальных значений с помощью ohe-кодирования. Выявили дисбаланс целевого признака: 4:1.\n",
    "2. Разделили нашу выборку на тренировочную, валидационную и тестовую (6:2:2). Обучили 3 модели: дерево решений, случайный лес и логистическую регрессию (без учета дисбаланса). Лучшим вариантом оказался случайный лес. \n",
    "3. Чтобы увеличить метрику f1, боролись с дисбалансом встроенными вариантами (class_weight='balanced'), но он не сильно улучшил работу модели. С помощью увеличения выборки (upsampling) и уменьшения выборки (downsampling) смогли улучшить метрику f1. UPsampling увеличил значение f1 с 0.58 до 0.6.\n",
    "4. Протестировали нашу улучшенную модель на тестовой выборке. На тестовой выборке значение f1 = 0.64, значит downsampling помог справиться с дисбалансом классов. Построили матрицу ошибок и отрисовали ROC-кривую и получили roc_auc_score: 0.85 Наша модель работает лучше, чем \"рандомный предсказатель\"."
   ]
  }
 ],
 "metadata": {
  "ExecuteTimeLog": [
   {
    "duration": 1724,
    "start_time": "2023-02-11T15:41:01.115Z"
   },
   {
    "duration": 113,
    "start_time": "2023-02-11T15:41:02.841Z"
   },
   {
    "duration": 26,
    "start_time": "2023-02-11T15:41:02.956Z"
   },
   {
    "duration": 51,
    "start_time": "2023-02-11T15:41:02.985Z"
   },
   {
    "duration": 18,
    "start_time": "2023-02-11T15:41:03.039Z"
   },
   {
    "duration": 2588,
    "start_time": "2023-02-11T22:32:19.595Z"
   },
   {
    "duration": 394,
    "start_time": "2023-02-11T22:32:22.186Z"
   },
   {
    "duration": 52,
    "start_time": "2023-02-11T22:32:22.584Z"
   },
   {
    "duration": 24,
    "start_time": "2023-02-11T22:32:22.642Z"
   },
   {
    "duration": 148,
    "start_time": "2023-02-11T22:32:22.670Z"
   },
   {
    "duration": 32,
    "start_time": "2023-02-11T22:32:22.820Z"
   },
   {
    "duration": 173,
    "start_time": "2023-02-11T22:32:56.334Z"
   },
   {
    "duration": 2080,
    "start_time": "2023-02-11T22:33:04.498Z"
   },
   {
    "duration": 90,
    "start_time": "2023-02-11T22:33:06.580Z"
   },
   {
    "duration": 59,
    "start_time": "2023-02-11T22:33:06.673Z"
   },
   {
    "duration": 167,
    "start_time": "2023-02-11T22:33:06.743Z"
   },
   {
    "duration": 243,
    "start_time": "2023-02-11T22:33:06.916Z"
   },
   {
    "duration": 31,
    "start_time": "2023-02-11T22:33:07.170Z"
   },
   {
    "duration": 147,
    "start_time": "2023-02-11T22:33:07.208Z"
   },
   {
    "duration": 59,
    "start_time": "2023-02-11T22:34:31.111Z"
   },
   {
    "duration": 29,
    "start_time": "2023-02-11T22:38:21.807Z"
   },
   {
    "duration": 2197,
    "start_time": "2023-02-11T22:40:25.573Z"
   },
   {
    "duration": 78,
    "start_time": "2023-02-11T22:40:27.777Z"
   },
   {
    "duration": 30,
    "start_time": "2023-02-11T22:40:27.858Z"
   },
   {
    "duration": 9,
    "start_time": "2023-02-11T22:40:27.894Z"
   },
   {
    "duration": 83,
    "start_time": "2023-02-11T22:40:27.907Z"
   },
   {
    "duration": 22,
    "start_time": "2023-02-11T22:40:27.996Z"
   },
   {
    "duration": 19,
    "start_time": "2023-02-11T22:40:28.022Z"
   },
   {
    "duration": 17,
    "start_time": "2023-02-11T22:40:28.043Z"
   },
   {
    "duration": 37,
    "start_time": "2023-02-11T22:40:28.061Z"
   },
   {
    "duration": 178,
    "start_time": "2023-02-11T22:40:28.108Z"
   },
   {
    "duration": 1656,
    "start_time": "2023-02-11T22:41:02.405Z"
   },
   {
    "duration": 72,
    "start_time": "2023-02-11T22:41:04.067Z"
   },
   {
    "duration": 26,
    "start_time": "2023-02-11T22:41:04.144Z"
   },
   {
    "duration": 37,
    "start_time": "2023-02-11T22:41:04.178Z"
   },
   {
    "duration": 63,
    "start_time": "2023-02-11T22:41:04.217Z"
   },
   {
    "duration": 18,
    "start_time": "2023-02-11T22:41:04.282Z"
   },
   {
    "duration": 22,
    "start_time": "2023-02-11T22:41:04.302Z"
   },
   {
    "duration": 17,
    "start_time": "2023-02-11T22:41:04.329Z"
   },
   {
    "duration": 38,
    "start_time": "2023-02-11T22:41:04.348Z"
   },
   {
    "duration": 1368,
    "start_time": "2023-02-11T22:41:04.396Z"
   },
   {
    "duration": 231,
    "start_time": "2023-02-11T22:45:47.755Z"
   },
   {
    "duration": 996,
    "start_time": "2023-02-11T22:47:47.438Z"
   },
   {
    "duration": 20,
    "start_time": "2023-02-11T22:47:59.018Z"
   },
   {
    "duration": 10,
    "start_time": "2023-02-11T22:52:19.125Z"
   },
   {
    "duration": 4,
    "start_time": "2023-02-11T22:52:32.086Z"
   },
   {
    "duration": 7,
    "start_time": "2023-02-11T22:52:51.740Z"
   },
   {
    "duration": 1356,
    "start_time": "2023-02-11T22:52:57.183Z"
   },
   {
    "duration": 46,
    "start_time": "2023-02-11T22:52:58.541Z"
   },
   {
    "duration": 15,
    "start_time": "2023-02-11T22:52:58.589Z"
   },
   {
    "duration": 4,
    "start_time": "2023-02-11T22:52:58.606Z"
   },
   {
    "duration": 41,
    "start_time": "2023-02-11T22:52:58.612Z"
   },
   {
    "duration": 18,
    "start_time": "2023-02-11T22:52:58.667Z"
   },
   {
    "duration": 20,
    "start_time": "2023-02-11T22:52:58.686Z"
   },
   {
    "duration": 20,
    "start_time": "2023-02-11T22:52:58.707Z"
   },
   {
    "duration": 3,
    "start_time": "2023-02-11T22:52:58.728Z"
   },
   {
    "duration": 22,
    "start_time": "2023-02-11T22:52:58.733Z"
   },
   {
    "duration": 171,
    "start_time": "2023-02-11T22:52:58.757Z"
   },
   {
    "duration": 14,
    "start_time": "2023-02-11T22:52:58.929Z"
   },
   {
    "duration": 40,
    "start_time": "2023-02-11T22:52:58.944Z"
   },
   {
    "duration": 961,
    "start_time": "2023-02-11T22:52:58.986Z"
   },
   {
    "duration": 108,
    "start_time": "2023-02-11T22:59:26.800Z"
   },
   {
    "duration": 4,
    "start_time": "2023-02-11T22:59:53.990Z"
   },
   {
    "duration": 12,
    "start_time": "2023-02-11T22:59:58.736Z"
   },
   {
    "duration": 1378,
    "start_time": "2023-02-11T23:00:14.220Z"
   },
   {
    "duration": 41,
    "start_time": "2023-02-11T23:00:15.600Z"
   },
   {
    "duration": 16,
    "start_time": "2023-02-11T23:00:15.643Z"
   },
   {
    "duration": 7,
    "start_time": "2023-02-11T23:00:15.661Z"
   },
   {
    "duration": 44,
    "start_time": "2023-02-11T23:00:15.669Z"
   },
   {
    "duration": 12,
    "start_time": "2023-02-11T23:00:15.715Z"
   },
   {
    "duration": 12,
    "start_time": "2023-02-11T23:00:15.729Z"
   },
   {
    "duration": 29,
    "start_time": "2023-02-11T23:00:15.742Z"
   },
   {
    "duration": 3,
    "start_time": "2023-02-11T23:00:15.773Z"
   },
   {
    "duration": 7,
    "start_time": "2023-02-11T23:00:15.779Z"
   },
   {
    "duration": 194,
    "start_time": "2023-02-11T23:00:15.788Z"
   },
   {
    "duration": 10,
    "start_time": "2023-02-11T23:00:15.984Z"
   },
   {
    "duration": 24,
    "start_time": "2023-02-11T23:00:15.996Z"
   },
   {
    "duration": 1006,
    "start_time": "2023-02-11T23:00:16.022Z"
   },
   {
    "duration": 4,
    "start_time": "2023-02-11T23:00:17.030Z"
   },
   {
    "duration": 107,
    "start_time": "2023-02-11T23:00:26.112Z"
   },
   {
    "duration": 1372,
    "start_time": "2023-02-11T23:00:49.242Z"
   },
   {
    "duration": 46,
    "start_time": "2023-02-11T23:00:50.616Z"
   },
   {
    "duration": 15,
    "start_time": "2023-02-11T23:00:50.664Z"
   },
   {
    "duration": 4,
    "start_time": "2023-02-11T23:00:50.681Z"
   },
   {
    "duration": 45,
    "start_time": "2023-02-11T23:00:50.687Z"
   },
   {
    "duration": 11,
    "start_time": "2023-02-11T23:00:50.733Z"
   },
   {
    "duration": 28,
    "start_time": "2023-02-11T23:00:50.746Z"
   },
   {
    "duration": 16,
    "start_time": "2023-02-11T23:00:50.776Z"
   },
   {
    "duration": 3,
    "start_time": "2023-02-11T23:00:50.794Z"
   },
   {
    "duration": 11,
    "start_time": "2023-02-11T23:00:50.799Z"
   },
   {
    "duration": 192,
    "start_time": "2023-02-11T23:00:50.812Z"
   },
   {
    "duration": 11,
    "start_time": "2023-02-11T23:00:51.006Z"
   },
   {
    "duration": 18,
    "start_time": "2023-02-11T23:00:51.019Z"
   },
   {
    "duration": 961,
    "start_time": "2023-02-11T23:00:51.039Z"
   },
   {
    "duration": 13,
    "start_time": "2023-02-11T23:00:52.002Z"
   },
   {
    "duration": 48,
    "start_time": "2023-02-11T23:02:48.312Z"
   },
   {
    "duration": 798,
    "start_time": "2023-02-11T23:03:41.212Z"
   },
   {
    "duration": 7,
    "start_time": "2023-02-11T23:03:46.374Z"
   },
   {
    "duration": 7,
    "start_time": "2023-02-11T23:04:24.524Z"
   },
   {
    "duration": 6,
    "start_time": "2023-02-11T23:04:44.301Z"
   },
   {
    "duration": 7,
    "start_time": "2023-02-11T23:05:02.137Z"
   },
   {
    "duration": 5,
    "start_time": "2023-02-11T23:05:50.142Z"
   },
   {
    "duration": 6,
    "start_time": "2023-02-11T23:07:37.207Z"
   },
   {
    "duration": 72,
    "start_time": "2023-02-13T14:40:39.273Z"
   },
   {
    "duration": 1680,
    "start_time": "2023-02-13T14:40:44.900Z"
   },
   {
    "duration": 222,
    "start_time": "2023-02-13T14:40:46.582Z"
   },
   {
    "duration": 18,
    "start_time": "2023-02-13T14:40:46.806Z"
   },
   {
    "duration": 5,
    "start_time": "2023-02-13T14:40:46.826Z"
   },
   {
    "duration": 41,
    "start_time": "2023-02-13T14:40:46.833Z"
   },
   {
    "duration": 25,
    "start_time": "2023-02-13T14:40:46.876Z"
   },
   {
    "duration": 7,
    "start_time": "2023-02-13T14:40:46.902Z"
   },
   {
    "duration": 27,
    "start_time": "2023-02-13T14:40:46.910Z"
   },
   {
    "duration": 5,
    "start_time": "2023-02-13T14:40:46.938Z"
   },
   {
    "duration": 9,
    "start_time": "2023-02-13T14:40:46.944Z"
   },
   {
    "duration": 203,
    "start_time": "2023-02-13T14:40:46.955Z"
   },
   {
    "duration": 13,
    "start_time": "2023-02-13T14:40:47.159Z"
   },
   {
    "duration": 35,
    "start_time": "2023-02-13T14:40:47.174Z"
   },
   {
    "duration": 1053,
    "start_time": "2023-02-13T14:40:47.212Z"
   },
   {
    "duration": 14,
    "start_time": "2023-02-13T14:40:48.267Z"
   },
   {
    "duration": 10,
    "start_time": "2023-02-13T14:40:48.282Z"
   },
   {
    "duration": 8,
    "start_time": "2023-02-13T14:40:48.293Z"
   },
   {
    "duration": 13,
    "start_time": "2023-02-13T14:40:48.303Z"
   },
   {
    "duration": 147,
    "start_time": "2023-02-13T14:40:48.318Z"
   },
   {
    "duration": 25,
    "start_time": "2023-02-13T14:41:02.775Z"
   },
   {
    "duration": 13,
    "start_time": "2023-02-13T14:41:37.158Z"
   },
   {
    "duration": 19,
    "start_time": "2023-02-13T14:42:26.738Z"
   },
   {
    "duration": 17,
    "start_time": "2023-02-13T14:42:38.057Z"
   },
   {
    "duration": 14,
    "start_time": "2023-02-13T14:42:48.735Z"
   },
   {
    "duration": 5,
    "start_time": "2023-02-13T15:02:36.748Z"
   },
   {
    "duration": 1400,
    "start_time": "2023-02-13T15:06:08.006Z"
   },
   {
    "duration": 42,
    "start_time": "2023-02-13T15:06:09.409Z"
   },
   {
    "duration": 17,
    "start_time": "2023-02-13T15:06:09.453Z"
   },
   {
    "duration": 5,
    "start_time": "2023-02-13T15:06:09.471Z"
   },
   {
    "duration": 45,
    "start_time": "2023-02-13T15:06:09.478Z"
   },
   {
    "duration": 12,
    "start_time": "2023-02-13T15:06:09.525Z"
   },
   {
    "duration": 7,
    "start_time": "2023-02-13T15:06:09.538Z"
   },
   {
    "duration": 17,
    "start_time": "2023-02-13T15:06:09.546Z"
   },
   {
    "duration": 28,
    "start_time": "2023-02-13T15:06:09.565Z"
   },
   {
    "duration": 11,
    "start_time": "2023-02-13T15:06:09.595Z"
   },
   {
    "duration": 201,
    "start_time": "2023-02-13T15:06:09.608Z"
   },
   {
    "duration": 12,
    "start_time": "2023-02-13T15:06:09.811Z"
   },
   {
    "duration": 23,
    "start_time": "2023-02-13T15:06:09.825Z"
   },
   {
    "duration": 1641,
    "start_time": "2023-02-13T15:06:09.851Z"
   },
   {
    "duration": 14,
    "start_time": "2023-02-13T15:06:11.494Z"
   },
   {
    "duration": 12,
    "start_time": "2023-02-13T15:06:11.510Z"
   },
   {
    "duration": 71,
    "start_time": "2023-02-13T15:06:11.524Z"
   },
   {
    "duration": 7,
    "start_time": "2023-02-13T15:06:11.598Z"
   },
   {
    "duration": 87,
    "start_time": "2023-02-13T15:06:11.608Z"
   },
   {
    "duration": 17,
    "start_time": "2023-02-13T15:06:11.697Z"
   },
   {
    "duration": 215,
    "start_time": "2023-02-13T15:06:11.716Z"
   },
   {
    "duration": 5,
    "start_time": "2023-02-13T15:06:11.933Z"
   },
   {
    "duration": 64,
    "start_time": "2023-02-13T15:06:11.944Z"
   },
   {
    "duration": 303,
    "start_time": "2023-02-13T15:06:12.010Z"
   },
   {
    "duration": 1497,
    "start_time": "2023-02-13T15:06:35.858Z"
   },
   {
    "duration": 57,
    "start_time": "2023-02-13T15:06:37.357Z"
   },
   {
    "duration": 17,
    "start_time": "2023-02-13T15:06:37.415Z"
   },
   {
    "duration": 8,
    "start_time": "2023-02-13T15:06:37.434Z"
   },
   {
    "duration": 54,
    "start_time": "2023-02-13T15:06:37.444Z"
   },
   {
    "duration": 14,
    "start_time": "2023-02-13T15:06:37.501Z"
   },
   {
    "duration": 8,
    "start_time": "2023-02-13T15:06:37.517Z"
   },
   {
    "duration": 19,
    "start_time": "2023-02-13T15:06:37.527Z"
   },
   {
    "duration": 4,
    "start_time": "2023-02-13T15:06:37.548Z"
   },
   {
    "duration": 46,
    "start_time": "2023-02-13T15:06:37.554Z"
   },
   {
    "duration": 207,
    "start_time": "2023-02-13T15:06:37.602Z"
   },
   {
    "duration": 11,
    "start_time": "2023-02-13T15:06:37.810Z"
   },
   {
    "duration": 19,
    "start_time": "2023-02-13T15:06:37.822Z"
   },
   {
    "duration": 1058,
    "start_time": "2023-02-13T15:06:37.843Z"
   },
   {
    "duration": 16,
    "start_time": "2023-02-13T15:06:38.903Z"
   },
   {
    "duration": 8,
    "start_time": "2023-02-13T15:06:38.920Z"
   },
   {
    "duration": 9,
    "start_time": "2023-02-13T15:06:38.930Z"
   },
   {
    "duration": 9,
    "start_time": "2023-02-13T15:06:38.940Z"
   },
   {
    "duration": 41,
    "start_time": "2023-02-13T15:06:38.951Z"
   },
   {
    "duration": 13,
    "start_time": "2023-02-13T15:06:38.994Z"
   },
   {
    "duration": 109,
    "start_time": "2023-02-13T15:06:39.009Z"
   },
   {
    "duration": 7,
    "start_time": "2023-02-13T15:06:39.120Z"
   },
   {
    "duration": 7,
    "start_time": "2023-02-13T15:06:39.129Z"
   },
   {
    "duration": 5,
    "start_time": "2023-02-13T15:06:39.139Z"
   },
   {
    "duration": 1419,
    "start_time": "2023-02-13T15:07:02.938Z"
   },
   {
    "duration": 43,
    "start_time": "2023-02-13T15:07:04.360Z"
   },
   {
    "duration": 19,
    "start_time": "2023-02-13T15:07:04.405Z"
   },
   {
    "duration": 6,
    "start_time": "2023-02-13T15:07:04.425Z"
   },
   {
    "duration": 60,
    "start_time": "2023-02-13T15:07:04.434Z"
   },
   {
    "duration": 13,
    "start_time": "2023-02-13T15:07:04.496Z"
   },
   {
    "duration": 7,
    "start_time": "2023-02-13T15:07:04.511Z"
   },
   {
    "duration": 22,
    "start_time": "2023-02-13T15:07:04.519Z"
   },
   {
    "duration": 5,
    "start_time": "2023-02-13T15:07:04.543Z"
   },
   {
    "duration": 28,
    "start_time": "2023-02-13T15:07:04.550Z"
   },
   {
    "duration": 201,
    "start_time": "2023-02-13T15:07:04.592Z"
   },
   {
    "duration": 15,
    "start_time": "2023-02-13T15:07:04.795Z"
   },
   {
    "duration": 28,
    "start_time": "2023-02-13T15:07:04.813Z"
   },
   {
    "duration": 1046,
    "start_time": "2023-02-13T15:07:04.843Z"
   },
   {
    "duration": 13,
    "start_time": "2023-02-13T15:07:05.891Z"
   },
   {
    "duration": 13,
    "start_time": "2023-02-13T15:07:05.905Z"
   },
   {
    "duration": 10,
    "start_time": "2023-02-13T15:07:05.920Z"
   },
   {
    "duration": 14,
    "start_time": "2023-02-13T15:07:05.932Z"
   },
   {
    "duration": 26,
    "start_time": "2023-02-13T15:07:05.947Z"
   },
   {
    "duration": 34,
    "start_time": "2023-02-13T15:07:05.975Z"
   },
   {
    "duration": 143,
    "start_time": "2023-02-13T15:07:06.011Z"
   },
   {
    "duration": 5,
    "start_time": "2023-02-13T15:07:06.156Z"
   },
   {
    "duration": 13,
    "start_time": "2023-02-13T15:07:06.164Z"
   },
   {
    "duration": 18,
    "start_time": "2023-02-13T15:07:06.179Z"
   },
   {
    "duration": 4,
    "start_time": "2023-02-13T15:08:42.445Z"
   },
   {
    "duration": 5,
    "start_time": "2023-02-13T15:09:03.654Z"
   },
   {
    "duration": 858,
    "start_time": "2023-02-13T15:14:16.405Z"
   },
   {
    "duration": 1571,
    "start_time": "2023-02-13T15:15:23.601Z"
   },
   {
    "duration": 43,
    "start_time": "2023-02-13T15:15:25.175Z"
   },
   {
    "duration": 19,
    "start_time": "2023-02-13T15:15:25.220Z"
   },
   {
    "duration": 4,
    "start_time": "2023-02-13T15:15:25.242Z"
   },
   {
    "duration": 58,
    "start_time": "2023-02-13T15:15:25.248Z"
   },
   {
    "duration": 12,
    "start_time": "2023-02-13T15:15:25.308Z"
   },
   {
    "duration": 9,
    "start_time": "2023-02-13T15:15:25.322Z"
   },
   {
    "duration": 36,
    "start_time": "2023-02-13T15:15:25.332Z"
   },
   {
    "duration": 21,
    "start_time": "2023-02-13T15:15:25.370Z"
   },
   {
    "duration": 23,
    "start_time": "2023-02-13T15:15:25.394Z"
   },
   {
    "duration": 233,
    "start_time": "2023-02-13T15:15:25.419Z"
   },
   {
    "duration": 16,
    "start_time": "2023-02-13T15:15:25.655Z"
   },
   {
    "duration": 40,
    "start_time": "2023-02-13T15:15:25.673Z"
   },
   {
    "duration": 1138,
    "start_time": "2023-02-13T15:15:25.715Z"
   },
   {
    "duration": 18,
    "start_time": "2023-02-13T15:15:26.855Z"
   },
   {
    "duration": 13,
    "start_time": "2023-02-13T15:15:26.875Z"
   },
   {
    "duration": 18,
    "start_time": "2023-02-13T15:15:26.889Z"
   },
   {
    "duration": 9,
    "start_time": "2023-02-13T15:15:26.909Z"
   },
   {
    "duration": 39,
    "start_time": "2023-02-13T15:15:26.920Z"
   },
   {
    "duration": 17,
    "start_time": "2023-02-13T15:15:26.961Z"
   },
   {
    "duration": 124,
    "start_time": "2023-02-13T15:15:26.980Z"
   },
   {
    "duration": 8,
    "start_time": "2023-02-13T15:15:27.106Z"
   },
   {
    "duration": 7,
    "start_time": "2023-02-13T15:15:27.117Z"
   },
   {
    "duration": 7,
    "start_time": "2023-02-13T15:15:27.126Z"
   },
   {
    "duration": 13,
    "start_time": "2023-02-13T15:15:27.136Z"
   },
   {
    "duration": 764,
    "start_time": "2023-02-13T15:15:27.151Z"
   },
   {
    "duration": 863,
    "start_time": "2023-02-13T15:15:45.470Z"
   },
   {
    "duration": 250,
    "start_time": "2023-02-13T15:17:55.114Z"
   },
   {
    "duration": 308,
    "start_time": "2023-02-13T15:20:53.958Z"
   },
   {
    "duration": 26,
    "start_time": "2023-02-13T15:21:09.750Z"
   },
   {
    "duration": 263,
    "start_time": "2023-02-13T15:21:23.792Z"
   },
   {
    "duration": 13,
    "start_time": "2023-02-13T15:30:40.624Z"
   },
   {
    "duration": 1645,
    "start_time": "2023-02-13T15:35:18.182Z"
   },
   {
    "duration": 42,
    "start_time": "2023-02-13T15:35:19.830Z"
   },
   {
    "duration": 28,
    "start_time": "2023-02-13T15:35:19.874Z"
   },
   {
    "duration": 5,
    "start_time": "2023-02-13T15:35:19.914Z"
   },
   {
    "duration": 47,
    "start_time": "2023-02-13T15:35:19.924Z"
   },
   {
    "duration": 12,
    "start_time": "2023-02-13T15:35:19.973Z"
   },
   {
    "duration": 12,
    "start_time": "2023-02-13T15:35:19.987Z"
   },
   {
    "duration": 54,
    "start_time": "2023-02-13T15:35:20.001Z"
   },
   {
    "duration": 4,
    "start_time": "2023-02-13T15:35:20.057Z"
   },
   {
    "duration": 16,
    "start_time": "2023-02-13T15:35:20.064Z"
   },
   {
    "duration": 245,
    "start_time": "2023-02-13T15:35:20.081Z"
   },
   {
    "duration": 12,
    "start_time": "2023-02-13T15:35:20.328Z"
   },
   {
    "duration": 20,
    "start_time": "2023-02-13T15:35:20.342Z"
   },
   {
    "duration": 1281,
    "start_time": "2023-02-13T15:35:20.364Z"
   },
   {
    "duration": 17,
    "start_time": "2023-02-13T15:35:21.648Z"
   },
   {
    "duration": 10,
    "start_time": "2023-02-13T15:35:21.666Z"
   },
   {
    "duration": 10,
    "start_time": "2023-02-13T15:35:21.678Z"
   },
   {
    "duration": 37,
    "start_time": "2023-02-13T15:35:21.689Z"
   },
   {
    "duration": 27,
    "start_time": "2023-02-13T15:35:21.728Z"
   },
   {
    "duration": 12,
    "start_time": "2023-02-13T15:35:21.757Z"
   },
   {
    "duration": 12,
    "start_time": "2023-02-13T15:35:21.771Z"
   },
   {
    "duration": 15,
    "start_time": "2023-02-13T15:35:21.785Z"
   },
   {
    "duration": 25,
    "start_time": "2023-02-13T15:35:21.811Z"
   },
   {
    "duration": 6,
    "start_time": "2023-02-13T15:35:21.838Z"
   },
   {
    "duration": 5,
    "start_time": "2023-02-13T15:35:21.846Z"
   },
   {
    "duration": 14,
    "start_time": "2023-02-13T15:35:21.853Z"
   },
   {
    "duration": 5,
    "start_time": "2023-02-13T15:35:21.868Z"
   },
   {
    "duration": 7,
    "start_time": "2023-02-13T15:35:21.877Z"
   },
   {
    "duration": 1543,
    "start_time": "2023-02-13T15:36:22.303Z"
   },
   {
    "duration": 51,
    "start_time": "2023-02-13T15:36:23.848Z"
   },
   {
    "duration": 26,
    "start_time": "2023-02-13T15:36:23.906Z"
   },
   {
    "duration": 9,
    "start_time": "2023-02-13T15:36:23.934Z"
   },
   {
    "duration": 43,
    "start_time": "2023-02-13T15:36:23.945Z"
   },
   {
    "duration": 27,
    "start_time": "2023-02-13T15:36:23.990Z"
   },
   {
    "duration": 17,
    "start_time": "2023-02-13T15:36:24.021Z"
   },
   {
    "duration": 20,
    "start_time": "2023-02-13T15:36:24.040Z"
   },
   {
    "duration": 4,
    "start_time": "2023-02-13T15:36:24.062Z"
   },
   {
    "duration": 11,
    "start_time": "2023-02-13T15:36:24.068Z"
   },
   {
    "duration": 220,
    "start_time": "2023-02-13T15:36:24.081Z"
   },
   {
    "duration": 17,
    "start_time": "2023-02-13T15:36:24.308Z"
   },
   {
    "duration": 19,
    "start_time": "2023-02-13T15:36:24.327Z"
   },
   {
    "duration": 1212,
    "start_time": "2023-02-13T15:36:24.349Z"
   },
   {
    "duration": 14,
    "start_time": "2023-02-13T15:36:25.563Z"
   },
   {
    "duration": 53,
    "start_time": "2023-02-13T15:36:25.578Z"
   },
   {
    "duration": 18,
    "start_time": "2023-02-13T15:36:25.633Z"
   },
   {
    "duration": 7,
    "start_time": "2023-02-13T15:36:25.652Z"
   },
   {
    "duration": 24,
    "start_time": "2023-02-13T15:36:25.661Z"
   },
   {
    "duration": 22,
    "start_time": "2023-02-13T15:36:25.687Z"
   },
   {
    "duration": 33,
    "start_time": "2023-02-13T15:36:25.712Z"
   },
   {
    "duration": 6,
    "start_time": "2023-02-13T15:36:25.747Z"
   },
   {
    "duration": 7,
    "start_time": "2023-02-13T15:36:25.755Z"
   },
   {
    "duration": 13,
    "start_time": "2023-02-13T15:36:25.763Z"
   },
   {
    "duration": 5,
    "start_time": "2023-02-13T15:36:25.778Z"
   },
   {
    "duration": 22,
    "start_time": "2023-02-13T15:36:25.785Z"
   },
   {
    "duration": 31,
    "start_time": "2023-02-13T15:36:25.808Z"
   },
   {
    "duration": 17,
    "start_time": "2023-02-13T15:36:25.841Z"
   },
   {
    "duration": 367056,
    "start_time": "2023-02-13T15:36:25.859Z"
   },
   {
    "duration": 129,
    "start_time": "2023-02-13T15:42:32.924Z"
   },
   {
    "duration": 0,
    "start_time": "2023-02-13T15:42:33.055Z"
   },
   {
    "duration": 0,
    "start_time": "2023-02-13T15:42:33.056Z"
   },
   {
    "duration": 1689,
    "start_time": "2023-02-13T15:57:25.220Z"
   },
   {
    "duration": 47,
    "start_time": "2023-02-13T15:57:26.914Z"
   },
   {
    "duration": 18,
    "start_time": "2023-02-13T15:57:26.962Z"
   },
   {
    "duration": 9,
    "start_time": "2023-02-13T15:57:26.982Z"
   },
   {
    "duration": 71,
    "start_time": "2023-02-13T15:57:26.995Z"
   },
   {
    "duration": 12,
    "start_time": "2023-02-13T15:57:27.067Z"
   },
   {
    "duration": 23,
    "start_time": "2023-02-13T15:57:27.081Z"
   },
   {
    "duration": 39,
    "start_time": "2023-02-13T15:57:27.106Z"
   },
   {
    "duration": 4,
    "start_time": "2023-02-13T15:57:27.147Z"
   },
   {
    "duration": 10,
    "start_time": "2023-02-13T15:57:27.152Z"
   },
   {
    "duration": 218,
    "start_time": "2023-02-13T15:57:27.164Z"
   },
   {
    "duration": 21,
    "start_time": "2023-02-13T15:57:27.384Z"
   },
   {
    "duration": 38,
    "start_time": "2023-02-13T15:57:27.407Z"
   },
   {
    "duration": 1157,
    "start_time": "2023-02-13T15:57:27.450Z"
   },
   {
    "duration": 18,
    "start_time": "2023-02-13T15:57:28.609Z"
   },
   {
    "duration": 10,
    "start_time": "2023-02-13T15:57:28.629Z"
   },
   {
    "duration": 11,
    "start_time": "2023-02-13T15:57:28.641Z"
   },
   {
    "duration": 7,
    "start_time": "2023-02-13T15:57:28.653Z"
   },
   {
    "duration": 36,
    "start_time": "2023-02-13T15:57:28.662Z"
   },
   {
    "duration": 23,
    "start_time": "2023-02-13T15:57:28.701Z"
   },
   {
    "duration": 12,
    "start_time": "2023-02-13T15:57:28.727Z"
   },
   {
    "duration": 4,
    "start_time": "2023-02-13T15:57:28.741Z"
   },
   {
    "duration": 6,
    "start_time": "2023-02-13T15:57:28.747Z"
   },
   {
    "duration": 9,
    "start_time": "2023-02-13T15:57:28.755Z"
   },
   {
    "duration": 7,
    "start_time": "2023-02-13T15:57:28.766Z"
   },
   {
    "duration": 30,
    "start_time": "2023-02-13T15:57:28.774Z"
   },
   {
    "duration": 20,
    "start_time": "2023-02-13T15:57:28.813Z"
   },
   {
    "duration": 7,
    "start_time": "2023-02-13T15:57:28.834Z"
   },
   {
    "duration": 1616,
    "start_time": "2023-02-13T15:58:07.338Z"
   },
   {
    "duration": 49,
    "start_time": "2023-02-13T15:58:08.956Z"
   },
   {
    "duration": 26,
    "start_time": "2023-02-13T15:58:09.007Z"
   },
   {
    "duration": 8,
    "start_time": "2023-02-13T15:58:09.036Z"
   },
   {
    "duration": 67,
    "start_time": "2023-02-13T15:58:09.045Z"
   },
   {
    "duration": 17,
    "start_time": "2023-02-13T15:58:09.121Z"
   },
   {
    "duration": 10,
    "start_time": "2023-02-13T15:58:09.140Z"
   },
   {
    "duration": 25,
    "start_time": "2023-02-13T15:58:09.151Z"
   },
   {
    "duration": 5,
    "start_time": "2023-02-13T15:58:09.178Z"
   },
   {
    "duration": 42,
    "start_time": "2023-02-13T15:58:09.206Z"
   },
   {
    "duration": 222,
    "start_time": "2023-02-13T15:58:09.251Z"
   },
   {
    "duration": 42,
    "start_time": "2023-02-13T15:58:09.475Z"
   },
   {
    "duration": 29,
    "start_time": "2023-02-13T15:58:09.520Z"
   },
   {
    "duration": 1271,
    "start_time": "2023-02-13T15:58:09.552Z"
   },
   {
    "duration": 22,
    "start_time": "2023-02-13T15:58:10.825Z"
   },
   {
    "duration": 10,
    "start_time": "2023-02-13T15:58:10.849Z"
   },
   {
    "duration": 8,
    "start_time": "2023-02-13T15:58:10.861Z"
   },
   {
    "duration": 12,
    "start_time": "2023-02-13T15:58:10.871Z"
   },
   {
    "duration": 37,
    "start_time": "2023-02-13T15:58:10.885Z"
   },
   {
    "duration": 22,
    "start_time": "2023-02-13T15:58:10.925Z"
   },
   {
    "duration": 18,
    "start_time": "2023-02-13T15:58:10.948Z"
   },
   {
    "duration": 10,
    "start_time": "2023-02-13T15:58:10.968Z"
   },
   {
    "duration": 9,
    "start_time": "2023-02-13T15:58:10.980Z"
   },
   {
    "duration": 41,
    "start_time": "2023-02-13T15:58:10.991Z"
   },
   {
    "duration": 7,
    "start_time": "2023-02-13T15:58:11.034Z"
   },
   {
    "duration": 17,
    "start_time": "2023-02-13T15:58:11.043Z"
   },
   {
    "duration": 5,
    "start_time": "2023-02-13T15:58:11.062Z"
   },
   {
    "duration": 7,
    "start_time": "2023-02-13T15:58:11.071Z"
   },
   {
    "duration": 358835,
    "start_time": "2023-02-13T15:58:11.080Z"
   },
   {
    "duration": 95,
    "start_time": "2023-02-13T16:04:09.917Z"
   },
   {
    "duration": 355464,
    "start_time": "2023-02-13T16:04:59.717Z"
   },
   {
    "duration": 34995,
    "start_time": "2023-02-13T16:24:18.105Z"
   },
   {
    "duration": 37181,
    "start_time": "2023-02-13T16:25:27.230Z"
   },
   {
    "duration": 9670,
    "start_time": "2023-02-13T16:28:15.640Z"
   },
   {
    "duration": 1421,
    "start_time": "2023-02-13T16:28:56.863Z"
   },
   {
    "duration": 41,
    "start_time": "2023-02-13T16:28:58.286Z"
   },
   {
    "duration": 16,
    "start_time": "2023-02-13T16:28:58.329Z"
   },
   {
    "duration": 5,
    "start_time": "2023-02-13T16:28:58.347Z"
   },
   {
    "duration": 42,
    "start_time": "2023-02-13T16:28:58.353Z"
   },
   {
    "duration": 13,
    "start_time": "2023-02-13T16:28:58.397Z"
   },
   {
    "duration": 7,
    "start_time": "2023-02-13T16:28:58.411Z"
   },
   {
    "duration": 22,
    "start_time": "2023-02-13T16:28:58.419Z"
   },
   {
    "duration": 6,
    "start_time": "2023-02-13T16:28:58.443Z"
   },
   {
    "duration": 18,
    "start_time": "2023-02-13T16:28:58.451Z"
   },
   {
    "duration": 200,
    "start_time": "2023-02-13T16:28:58.471Z"
   },
   {
    "duration": 21,
    "start_time": "2023-02-13T16:28:58.672Z"
   },
   {
    "duration": 19,
    "start_time": "2023-02-13T16:28:58.694Z"
   },
   {
    "duration": 1098,
    "start_time": "2023-02-13T16:28:58.715Z"
   },
   {
    "duration": 13,
    "start_time": "2023-02-13T16:28:59.815Z"
   },
   {
    "duration": 8,
    "start_time": "2023-02-13T16:28:59.830Z"
   },
   {
    "duration": 8,
    "start_time": "2023-02-13T16:28:59.840Z"
   },
   {
    "duration": 10,
    "start_time": "2023-02-13T16:28:59.849Z"
   },
   {
    "duration": 26,
    "start_time": "2023-02-13T16:28:59.861Z"
   },
   {
    "duration": 11,
    "start_time": "2023-02-13T16:28:59.889Z"
   },
   {
    "duration": 15,
    "start_time": "2023-02-13T16:28:59.902Z"
   },
   {
    "duration": 9,
    "start_time": "2023-02-13T16:28:59.918Z"
   },
   {
    "duration": 8,
    "start_time": "2023-02-13T16:28:59.928Z"
   },
   {
    "duration": 8,
    "start_time": "2023-02-13T16:28:59.938Z"
   },
   {
    "duration": 8,
    "start_time": "2023-02-13T16:28:59.948Z"
   },
   {
    "duration": 36,
    "start_time": "2023-02-13T16:28:59.957Z"
   },
   {
    "duration": 4,
    "start_time": "2023-02-13T16:28:59.994Z"
   },
   {
    "duration": 20,
    "start_time": "2023-02-13T16:29:00.001Z"
   },
   {
    "duration": 10397,
    "start_time": "2023-02-13T16:29:00.023Z"
   },
   {
    "duration": 338543,
    "start_time": "2023-02-13T16:29:10.422Z"
   },
   {
    "duration": 25825,
    "start_time": "2023-02-13T16:34:48.967Z"
   },
   {
    "duration": 217,
    "start_time": "2023-02-13T17:49:15.196Z"
   },
   {
    "duration": 8,
    "start_time": "2023-02-13T17:51:46.406Z"
   },
   {
    "duration": 348626,
    "start_time": "2023-02-13T17:52:07.032Z"
   },
   {
    "duration": 5,
    "start_time": "2023-02-13T18:23:47.367Z"
   },
   {
    "duration": 10,
    "start_time": "2023-02-13T18:26:51.906Z"
   },
   {
    "duration": 27,
    "start_time": "2023-02-13T18:28:08.321Z"
   },
   {
    "duration": 81770,
    "start_time": "2023-02-13T18:28:29.279Z"
   },
   {
    "duration": 5,
    "start_time": "2023-02-13T18:33:05.620Z"
   },
   {
    "duration": 9,
    "start_time": "2023-02-13T18:37:14.378Z"
   },
   {
    "duration": 1589,
    "start_time": "2023-02-13T18:43:03.637Z"
   },
   {
    "duration": 46,
    "start_time": "2023-02-13T18:43:05.232Z"
   },
   {
    "duration": 23,
    "start_time": "2023-02-13T18:43:05.280Z"
   },
   {
    "duration": 16,
    "start_time": "2023-02-13T18:43:05.311Z"
   },
   {
    "duration": 60,
    "start_time": "2023-02-13T18:43:05.331Z"
   },
   {
    "duration": 14,
    "start_time": "2023-02-13T18:43:05.393Z"
   },
   {
    "duration": 27,
    "start_time": "2023-02-13T18:43:05.409Z"
   },
   {
    "duration": 19,
    "start_time": "2023-02-13T18:43:05.438Z"
   },
   {
    "duration": 4,
    "start_time": "2023-02-13T18:43:05.459Z"
   },
   {
    "duration": 13,
    "start_time": "2023-02-13T18:43:05.465Z"
   },
   {
    "duration": 256,
    "start_time": "2023-02-13T18:43:05.480Z"
   },
   {
    "duration": 18,
    "start_time": "2023-02-13T18:43:05.739Z"
   },
   {
    "duration": 44,
    "start_time": "2023-02-13T18:43:05.758Z"
   },
   {
    "duration": 1306,
    "start_time": "2023-02-13T18:43:05.813Z"
   },
   {
    "duration": 14,
    "start_time": "2023-02-13T18:43:07.121Z"
   },
   {
    "duration": 10,
    "start_time": "2023-02-13T18:43:07.136Z"
   },
   {
    "duration": 13,
    "start_time": "2023-02-13T18:43:07.147Z"
   },
   {
    "duration": 15,
    "start_time": "2023-02-13T18:43:07.162Z"
   },
   {
    "duration": 53,
    "start_time": "2023-02-13T18:43:07.179Z"
   },
   {
    "duration": 32,
    "start_time": "2023-02-13T18:43:07.237Z"
   },
   {
    "duration": 27,
    "start_time": "2023-02-13T18:43:07.270Z"
   },
   {
    "duration": 24,
    "start_time": "2023-02-13T18:43:07.303Z"
   },
   {
    "duration": 9,
    "start_time": "2023-02-13T18:43:07.329Z"
   },
   {
    "duration": 6,
    "start_time": "2023-02-13T18:43:07.339Z"
   },
   {
    "duration": 8,
    "start_time": "2023-02-13T18:43:07.346Z"
   },
   {
    "duration": 18,
    "start_time": "2023-02-13T18:43:07.355Z"
   },
   {
    "duration": 4,
    "start_time": "2023-02-13T18:43:07.375Z"
   },
   {
    "duration": 9,
    "start_time": "2023-02-13T18:43:07.381Z"
   },
   {
    "duration": 11723,
    "start_time": "2023-02-13T18:43:07.401Z"
   },
   {
    "duration": 31401,
    "start_time": "2023-02-13T18:49:14.408Z"
   },
   {
    "duration": 352345,
    "start_time": "2023-02-13T18:49:45.813Z"
   },
   {
    "duration": 4,
    "start_time": "2023-02-13T18:55:38.160Z"
   },
   {
    "duration": 11,
    "start_time": "2023-02-13T18:55:38.165Z"
   },
   {
    "duration": 75766,
    "start_time": "2023-02-13T18:55:38.178Z"
   },
   {
    "duration": 4,
    "start_time": "2023-02-13T18:56:53.946Z"
   },
   {
    "duration": 12,
    "start_time": "2023-02-13T18:56:53.952Z"
   },
   {
    "duration": 44957,
    "start_time": "2023-02-13T18:56:53.966Z"
   },
   {
    "duration": 1454,
    "start_time": "2023-02-13T19:02:39.895Z"
   },
   {
    "duration": 71,
    "start_time": "2023-02-13T19:02:41.352Z"
   },
   {
    "duration": 18,
    "start_time": "2023-02-13T19:02:41.425Z"
   },
   {
    "duration": 6,
    "start_time": "2023-02-13T19:02:41.446Z"
   },
   {
    "duration": 55,
    "start_time": "2023-02-13T19:02:41.453Z"
   },
   {
    "duration": 11,
    "start_time": "2023-02-13T19:02:41.510Z"
   },
   {
    "duration": 6,
    "start_time": "2023-02-13T19:02:41.523Z"
   },
   {
    "duration": 19,
    "start_time": "2023-02-13T19:02:41.531Z"
   },
   {
    "duration": 4,
    "start_time": "2023-02-13T19:02:41.551Z"
   },
   {
    "duration": 50,
    "start_time": "2023-02-13T19:02:41.558Z"
   },
   {
    "duration": 201,
    "start_time": "2023-02-13T19:02:41.610Z"
   },
   {
    "duration": 12,
    "start_time": "2023-02-13T19:02:41.813Z"
   },
   {
    "duration": 20,
    "start_time": "2023-02-13T19:02:41.826Z"
   },
   {
    "duration": 1153,
    "start_time": "2023-02-13T19:02:41.848Z"
   },
   {
    "duration": 13,
    "start_time": "2023-02-13T19:02:43.006Z"
   },
   {
    "duration": 9,
    "start_time": "2023-02-13T19:02:43.021Z"
   },
   {
    "duration": 10,
    "start_time": "2023-02-13T19:02:43.032Z"
   },
   {
    "duration": 9,
    "start_time": "2023-02-13T19:02:43.044Z"
   },
   {
    "duration": 46,
    "start_time": "2023-02-13T19:02:43.056Z"
   },
   {
    "duration": 14,
    "start_time": "2023-02-13T19:02:43.103Z"
   },
   {
    "duration": 17,
    "start_time": "2023-02-13T19:02:43.119Z"
   },
   {
    "duration": 7,
    "start_time": "2023-02-13T19:02:43.138Z"
   },
   {
    "duration": 10,
    "start_time": "2023-02-13T19:02:43.147Z"
   },
   {
    "duration": 8,
    "start_time": "2023-02-13T19:02:43.158Z"
   },
   {
    "duration": 5,
    "start_time": "2023-02-13T19:02:43.168Z"
   },
   {
    "duration": 52,
    "start_time": "2023-02-13T19:02:43.175Z"
   },
   {
    "duration": 5,
    "start_time": "2023-02-13T19:02:43.229Z"
   },
   {
    "duration": 7,
    "start_time": "2023-02-13T19:02:43.239Z"
   },
   {
    "duration": 9605,
    "start_time": "2023-02-13T19:02:43.248Z"
   },
   {
    "duration": 347587,
    "start_time": "2023-02-13T19:02:52.854Z"
   },
   {
    "duration": 36679,
    "start_time": "2023-02-13T19:08:40.442Z"
   },
   {
    "duration": 346359,
    "start_time": "2023-02-13T19:09:17.194Z"
   },
   {
    "duration": 5,
    "start_time": "2023-02-13T19:15:03.555Z"
   },
   {
    "duration": 42,
    "start_time": "2023-02-13T19:15:03.561Z"
   },
   {
    "duration": 79471,
    "start_time": "2023-02-13T19:15:03.607Z"
   },
   {
    "duration": 15,
    "start_time": "2023-02-13T19:16:23.080Z"
   },
   {
    "duration": 35,
    "start_time": "2023-02-13T19:16:23.100Z"
   },
   {
    "duration": 43317,
    "start_time": "2023-02-13T19:16:23.137Z"
   },
   {
    "duration": 1418,
    "start_time": "2023-02-13T21:23:09.633Z"
   },
   {
    "duration": 51,
    "start_time": "2023-02-13T21:23:11.053Z"
   },
   {
    "duration": 17,
    "start_time": "2023-02-13T21:23:11.106Z"
   },
   {
    "duration": 6,
    "start_time": "2023-02-13T21:23:11.125Z"
   },
   {
    "duration": 40,
    "start_time": "2023-02-13T21:23:11.133Z"
   },
   {
    "duration": 28,
    "start_time": "2023-02-13T21:23:11.175Z"
   },
   {
    "duration": 9,
    "start_time": "2023-02-13T21:23:11.205Z"
   },
   {
    "duration": 22,
    "start_time": "2023-02-13T21:23:11.216Z"
   },
   {
    "duration": 5,
    "start_time": "2023-02-13T21:23:11.239Z"
   },
   {
    "duration": 9,
    "start_time": "2023-02-13T21:23:11.245Z"
   },
   {
    "duration": 221,
    "start_time": "2023-02-13T21:23:11.255Z"
   },
   {
    "duration": 21,
    "start_time": "2023-02-13T21:23:11.478Z"
   },
   {
    "duration": 20,
    "start_time": "2023-02-13T21:23:11.507Z"
   },
   {
    "duration": 1926,
    "start_time": "2023-02-13T21:23:11.531Z"
   },
   {
    "duration": 17,
    "start_time": "2023-02-13T21:23:13.503Z"
   },
   {
    "duration": 90,
    "start_time": "2023-02-13T21:23:13.522Z"
   },
   {
    "duration": 22,
    "start_time": "2023-02-13T21:23:13.614Z"
   },
   {
    "duration": 57,
    "start_time": "2023-02-13T21:23:13.638Z"
   },
   {
    "duration": 29,
    "start_time": "2023-02-13T21:23:13.697Z"
   },
   {
    "duration": 12,
    "start_time": "2023-02-13T21:23:13.727Z"
   },
   {
    "duration": 16,
    "start_time": "2023-02-13T21:23:13.797Z"
   },
   {
    "duration": 5,
    "start_time": "2023-02-13T21:23:13.814Z"
   },
   {
    "duration": 10,
    "start_time": "2023-02-13T21:23:13.821Z"
   },
   {
    "duration": 5,
    "start_time": "2023-02-13T21:23:13.832Z"
   },
   {
    "duration": 7,
    "start_time": "2023-02-13T21:23:13.839Z"
   },
   {
    "duration": 70,
    "start_time": "2023-02-13T21:23:13.847Z"
   },
   {
    "duration": 4,
    "start_time": "2023-02-13T21:23:13.919Z"
   },
   {
    "duration": 21,
    "start_time": "2023-02-13T21:23:13.924Z"
   },
   {
    "duration": 9162,
    "start_time": "2023-02-13T21:23:13.947Z"
   },
   {
    "duration": 334819,
    "start_time": "2023-02-13T21:23:23.111Z"
   },
   {
    "duration": 29265,
    "start_time": "2023-02-13T21:28:57.932Z"
   },
   {
    "duration": 336609,
    "start_time": "2023-02-13T21:29:27.202Z"
   },
   {
    "duration": 4,
    "start_time": "2023-02-13T21:35:03.813Z"
   },
   {
    "duration": 44,
    "start_time": "2023-02-13T21:35:03.819Z"
   },
   {
    "duration": 74685,
    "start_time": "2023-02-13T21:35:03.865Z"
   },
   {
    "duration": 4,
    "start_time": "2023-02-13T21:36:18.552Z"
   },
   {
    "duration": 11,
    "start_time": "2023-02-13T21:36:18.557Z"
   },
   {
    "duration": 41230,
    "start_time": "2023-02-13T21:36:18.570Z"
   },
   {
    "duration": 141,
    "start_time": "2023-02-13T21:43:47.590Z"
   },
   {
    "duration": 131,
    "start_time": "2023-02-13T21:44:44.823Z"
   },
   {
    "duration": 1377,
    "start_time": "2023-02-13T21:57:17.468Z"
   },
   {
    "duration": 41,
    "start_time": "2023-02-13T21:57:18.847Z"
   },
   {
    "duration": 16,
    "start_time": "2023-02-13T21:57:18.890Z"
   },
   {
    "duration": 7,
    "start_time": "2023-02-13T21:57:18.908Z"
   },
   {
    "duration": 41,
    "start_time": "2023-02-13T21:57:18.916Z"
   },
   {
    "duration": 34,
    "start_time": "2023-02-13T21:57:18.959Z"
   },
   {
    "duration": 7,
    "start_time": "2023-02-13T21:57:18.994Z"
   },
   {
    "duration": 16,
    "start_time": "2023-02-13T21:57:19.003Z"
   },
   {
    "duration": 3,
    "start_time": "2023-02-13T21:57:19.021Z"
   },
   {
    "duration": 7,
    "start_time": "2023-02-13T21:57:19.027Z"
   },
   {
    "duration": 194,
    "start_time": "2023-02-13T21:57:19.036Z"
   },
   {
    "duration": 10,
    "start_time": "2023-02-13T21:57:19.232Z"
   },
   {
    "duration": 19,
    "start_time": "2023-02-13T21:57:19.244Z"
   },
   {
    "duration": 1033,
    "start_time": "2023-02-13T21:57:19.264Z"
   },
   {
    "duration": 14,
    "start_time": "2023-02-13T21:57:20.299Z"
   },
   {
    "duration": 15,
    "start_time": "2023-02-13T21:57:20.315Z"
   },
   {
    "duration": 8,
    "start_time": "2023-02-13T21:57:20.331Z"
   },
   {
    "duration": 10,
    "start_time": "2023-02-13T21:57:20.341Z"
   },
   {
    "duration": 43,
    "start_time": "2023-02-13T21:57:20.353Z"
   },
   {
    "duration": 12,
    "start_time": "2023-02-13T21:57:20.398Z"
   },
   {
    "duration": 16,
    "start_time": "2023-02-13T21:57:20.411Z"
   },
   {
    "duration": 10,
    "start_time": "2023-02-13T21:57:20.428Z"
   },
   {
    "duration": 12,
    "start_time": "2023-02-13T21:57:20.440Z"
   },
   {
    "duration": 18,
    "start_time": "2023-02-13T21:57:20.454Z"
   },
   {
    "duration": 16,
    "start_time": "2023-02-13T21:57:20.474Z"
   },
   {
    "duration": 15,
    "start_time": "2023-02-13T21:57:20.492Z"
   },
   {
    "duration": 4,
    "start_time": "2023-02-13T21:57:20.509Z"
   },
   {
    "duration": 12,
    "start_time": "2023-02-13T21:57:20.516Z"
   },
   {
    "duration": 8677,
    "start_time": "2023-02-13T21:57:20.529Z"
   },
   {
    "duration": 322055,
    "start_time": "2023-02-13T21:57:29.208Z"
   },
   {
    "duration": 17427,
    "start_time": "2023-02-13T22:02:51.264Z"
   },
   {
    "duration": 318547,
    "start_time": "2023-02-13T22:03:08.693Z"
   },
   {
    "duration": 4,
    "start_time": "2023-02-13T22:08:27.241Z"
   },
   {
    "duration": 16,
    "start_time": "2023-02-13T22:08:27.246Z"
   },
   {
    "duration": 69187,
    "start_time": "2023-02-13T22:08:27.263Z"
   },
   {
    "duration": 4,
    "start_time": "2023-02-13T22:09:36.452Z"
   },
   {
    "duration": 30,
    "start_time": "2023-02-13T22:09:36.458Z"
   },
   {
    "duration": 38819,
    "start_time": "2023-02-13T22:09:36.490Z"
   },
   {
    "duration": 147,
    "start_time": "2023-02-13T22:10:15.311Z"
   },
   {
    "duration": 140,
    "start_time": "2023-02-13T22:10:15.460Z"
   },
   {
    "duration": 6,
    "start_time": "2023-02-13T22:23:56.874Z"
   },
   {
    "duration": 21,
    "start_time": "2023-02-13T22:23:58.572Z"
   },
   {
    "duration": 19,
    "start_time": "2023-02-13T22:24:00.808Z"
   },
   {
    "duration": 6,
    "start_time": "2023-02-13T22:30:06.157Z"
   },
   {
    "duration": 23,
    "start_time": "2023-02-13T22:30:07.703Z"
   },
   {
    "duration": 20,
    "start_time": "2023-02-13T22:30:10.703Z"
   },
   {
    "duration": 17,
    "start_time": "2023-02-13T22:30:13.132Z"
   },
   {
    "duration": 18,
    "start_time": "2023-02-13T22:30:15.402Z"
   },
   {
    "duration": 19,
    "start_time": "2023-02-13T22:30:17.119Z"
   },
   {
    "duration": 9246,
    "start_time": "2023-02-13T22:34:51.246Z"
   },
   {
    "duration": 65,
    "start_time": "2023-02-13T22:39:14.577Z"
   },
   {
    "duration": 115,
    "start_time": "2023-02-13T22:39:20.960Z"
   },
   {
    "duration": 1412,
    "start_time": "2023-02-13T22:39:49.117Z"
   },
   {
    "duration": 43,
    "start_time": "2023-02-13T22:39:50.530Z"
   },
   {
    "duration": 18,
    "start_time": "2023-02-13T22:39:50.575Z"
   },
   {
    "duration": 7,
    "start_time": "2023-02-13T22:39:50.595Z"
   },
   {
    "duration": 50,
    "start_time": "2023-02-13T22:39:50.604Z"
   },
   {
    "duration": 12,
    "start_time": "2023-02-13T22:39:50.656Z"
   },
   {
    "duration": 26,
    "start_time": "2023-02-13T22:39:50.670Z"
   },
   {
    "duration": 25,
    "start_time": "2023-02-13T22:39:50.698Z"
   },
   {
    "duration": 9,
    "start_time": "2023-02-13T22:39:50.725Z"
   },
   {
    "duration": 23,
    "start_time": "2023-02-13T22:39:50.737Z"
   },
   {
    "duration": 184,
    "start_time": "2023-02-13T22:39:50.762Z"
   },
   {
    "duration": 12,
    "start_time": "2023-02-13T22:39:50.948Z"
   },
   {
    "duration": 33,
    "start_time": "2023-02-13T22:39:50.963Z"
   },
   {
    "duration": 1063,
    "start_time": "2023-02-13T22:39:50.998Z"
   },
   {
    "duration": 14,
    "start_time": "2023-02-13T22:39:52.064Z"
   },
   {
    "duration": 9,
    "start_time": "2023-02-13T22:39:52.080Z"
   },
   {
    "duration": 14,
    "start_time": "2023-02-13T22:39:52.091Z"
   },
   {
    "duration": 14,
    "start_time": "2023-02-13T22:39:52.107Z"
   },
   {
    "duration": 29,
    "start_time": "2023-02-13T22:39:52.123Z"
   },
   {
    "duration": 11,
    "start_time": "2023-02-13T22:39:52.154Z"
   },
   {
    "duration": 26,
    "start_time": "2023-02-13T22:39:52.167Z"
   },
   {
    "duration": 7,
    "start_time": "2023-02-13T22:39:52.195Z"
   },
   {
    "duration": 8,
    "start_time": "2023-02-13T22:39:52.204Z"
   },
   {
    "duration": 22,
    "start_time": "2023-02-13T22:39:52.214Z"
   },
   {
    "duration": 9,
    "start_time": "2023-02-13T22:39:52.238Z"
   },
   {
    "duration": 18,
    "start_time": "2023-02-13T22:39:52.248Z"
   },
   {
    "duration": 4,
    "start_time": "2023-02-13T22:39:52.268Z"
   },
   {
    "duration": 12,
    "start_time": "2023-02-13T22:39:52.276Z"
   },
   {
    "duration": 9118,
    "start_time": "2023-02-13T22:39:52.292Z"
   },
   {
    "duration": 337098,
    "start_time": "2023-02-13T22:40:01.411Z"
   },
   {
    "duration": 27695,
    "start_time": "2023-02-13T22:45:38.511Z"
   },
   {
    "duration": 340826,
    "start_time": "2023-02-13T22:46:06.210Z"
   },
   {
    "duration": 3,
    "start_time": "2023-02-13T22:51:47.038Z"
   },
   {
    "duration": 9216,
    "start_time": "2023-02-13T22:51:47.043Z"
   },
   {
    "duration": 7,
    "start_time": "2023-02-13T22:51:56.261Z"
   },
   {
    "duration": 0,
    "start_time": "2023-02-13T22:53:15.992Z"
   },
   {
    "duration": 0,
    "start_time": "2023-02-13T22:53:15.993Z"
   },
   {
    "duration": 0,
    "start_time": "2023-02-13T22:53:15.994Z"
   },
   {
    "duration": 0,
    "start_time": "2023-02-13T22:53:15.994Z"
   },
   {
    "duration": 0,
    "start_time": "2023-02-13T22:53:15.995Z"
   },
   {
    "duration": 0,
    "start_time": "2023-02-13T22:53:15.995Z"
   },
   {
    "duration": 0,
    "start_time": "2023-02-13T22:53:15.996Z"
   },
   {
    "duration": 0,
    "start_time": "2023-02-13T22:53:15.997Z"
   },
   {
    "duration": 0,
    "start_time": "2023-02-13T22:53:15.997Z"
   },
   {
    "duration": 0,
    "start_time": "2023-02-13T22:53:15.998Z"
   },
   {
    "duration": 0,
    "start_time": "2023-02-13T22:53:15.998Z"
   },
   {
    "duration": 7,
    "start_time": "2023-02-13T22:53:41.276Z"
   },
   {
    "duration": 74870,
    "start_time": "2023-02-13T22:53:44.204Z"
   },
   {
    "duration": 4,
    "start_time": "2023-02-13T22:56:39.006Z"
   },
   {
    "duration": 10,
    "start_time": "2023-02-13T22:56:43.745Z"
   },
   {
    "duration": 3235,
    "start_time": "2023-02-13T22:57:02.195Z"
   },
   {
    "duration": 5935,
    "start_time": "2023-02-13T22:57:28.459Z"
   },
   {
    "duration": 13364,
    "start_time": "2023-02-13T22:57:43.908Z"
   },
   {
    "duration": 9,
    "start_time": "2023-02-13T22:58:19.425Z"
   },
   {
    "duration": 39634,
    "start_time": "2023-02-13T22:58:22.045Z"
   },
   {
    "duration": 147,
    "start_time": "2023-02-13T23:00:01.465Z"
   },
   {
    "duration": 128,
    "start_time": "2023-02-13T23:00:04.619Z"
   },
   {
    "duration": 6,
    "start_time": "2023-02-13T23:00:08.466Z"
   },
   {
    "duration": 23,
    "start_time": "2023-02-13T23:00:10.416Z"
   },
   {
    "duration": 22,
    "start_time": "2023-02-13T23:00:12.814Z"
   },
   {
    "duration": 6,
    "start_time": "2023-02-13T23:00:42.874Z"
   },
   {
    "duration": 23,
    "start_time": "2023-02-13T23:00:44.817Z"
   },
   {
    "duration": 23,
    "start_time": "2023-02-13T23:00:46.266Z"
   },
   {
    "duration": 59,
    "start_time": "2023-02-13T23:03:32.342Z"
   },
   {
    "duration": 13,
    "start_time": "2023-02-13T23:04:11.682Z"
   },
   {
    "duration": 1454,
    "start_time": "2023-02-13T23:04:32.941Z"
   },
   {
    "duration": 0,
    "start_time": "2023-02-13T23:04:34.397Z"
   },
   {
    "duration": 0,
    "start_time": "2023-02-13T23:04:34.399Z"
   },
   {
    "duration": 0,
    "start_time": "2023-02-13T23:04:34.400Z"
   },
   {
    "duration": 0,
    "start_time": "2023-02-13T23:04:34.400Z"
   },
   {
    "duration": 0,
    "start_time": "2023-02-13T23:04:34.402Z"
   },
   {
    "duration": 0,
    "start_time": "2023-02-13T23:04:34.403Z"
   },
   {
    "duration": 0,
    "start_time": "2023-02-13T23:04:34.404Z"
   },
   {
    "duration": 0,
    "start_time": "2023-02-13T23:04:34.405Z"
   },
   {
    "duration": 0,
    "start_time": "2023-02-13T23:04:34.407Z"
   },
   {
    "duration": 0,
    "start_time": "2023-02-13T23:04:34.407Z"
   },
   {
    "duration": 0,
    "start_time": "2023-02-13T23:04:34.408Z"
   },
   {
    "duration": 0,
    "start_time": "2023-02-13T23:04:34.409Z"
   },
   {
    "duration": 0,
    "start_time": "2023-02-13T23:04:34.422Z"
   },
   {
    "duration": 0,
    "start_time": "2023-02-13T23:04:34.423Z"
   },
   {
    "duration": 0,
    "start_time": "2023-02-13T23:04:34.424Z"
   },
   {
    "duration": 0,
    "start_time": "2023-02-13T23:04:34.426Z"
   },
   {
    "duration": 0,
    "start_time": "2023-02-13T23:04:34.428Z"
   },
   {
    "duration": 0,
    "start_time": "2023-02-13T23:04:34.429Z"
   },
   {
    "duration": 0,
    "start_time": "2023-02-13T23:04:34.430Z"
   },
   {
    "duration": 0,
    "start_time": "2023-02-13T23:04:34.431Z"
   },
   {
    "duration": 0,
    "start_time": "2023-02-13T23:04:34.433Z"
   },
   {
    "duration": 0,
    "start_time": "2023-02-13T23:04:34.434Z"
   },
   {
    "duration": 0,
    "start_time": "2023-02-13T23:04:34.435Z"
   },
   {
    "duration": 1,
    "start_time": "2023-02-13T23:04:34.436Z"
   },
   {
    "duration": 0,
    "start_time": "2023-02-13T23:04:34.437Z"
   },
   {
    "duration": 0,
    "start_time": "2023-02-13T23:04:34.438Z"
   },
   {
    "duration": 0,
    "start_time": "2023-02-13T23:04:34.440Z"
   },
   {
    "duration": 0,
    "start_time": "2023-02-13T23:04:34.492Z"
   },
   {
    "duration": 0,
    "start_time": "2023-02-13T23:04:34.493Z"
   },
   {
    "duration": 0,
    "start_time": "2023-02-13T23:04:34.494Z"
   },
   {
    "duration": 0,
    "start_time": "2023-02-13T23:04:34.495Z"
   },
   {
    "duration": 0,
    "start_time": "2023-02-13T23:04:34.496Z"
   },
   {
    "duration": 0,
    "start_time": "2023-02-13T23:04:34.498Z"
   },
   {
    "duration": 0,
    "start_time": "2023-02-13T23:04:34.498Z"
   },
   {
    "duration": 0,
    "start_time": "2023-02-13T23:04:34.500Z"
   },
   {
    "duration": 0,
    "start_time": "2023-02-13T23:04:34.500Z"
   },
   {
    "duration": 0,
    "start_time": "2023-02-13T23:04:34.501Z"
   },
   {
    "duration": 0,
    "start_time": "2023-02-13T23:04:34.502Z"
   },
   {
    "duration": 0,
    "start_time": "2023-02-13T23:04:34.503Z"
   },
   {
    "duration": 0,
    "start_time": "2023-02-13T23:04:34.504Z"
   },
   {
    "duration": 0,
    "start_time": "2023-02-13T23:04:34.505Z"
   },
   {
    "duration": 0,
    "start_time": "2023-02-13T23:04:34.506Z"
   },
   {
    "duration": 0,
    "start_time": "2023-02-13T23:04:34.507Z"
   },
   {
    "duration": 0,
    "start_time": "2023-02-13T23:04:34.508Z"
   },
   {
    "duration": 0,
    "start_time": "2023-02-13T23:04:34.510Z"
   },
   {
    "duration": 12,
    "start_time": "2023-02-13T23:04:53.781Z"
   },
   {
    "duration": 1415,
    "start_time": "2023-02-13T23:12:07.657Z"
   },
   {
    "duration": 42,
    "start_time": "2023-02-13T23:12:09.074Z"
   },
   {
    "duration": 17,
    "start_time": "2023-02-13T23:12:09.117Z"
   },
   {
    "duration": 5,
    "start_time": "2023-02-13T23:12:09.136Z"
   },
   {
    "duration": 53,
    "start_time": "2023-02-13T23:12:09.143Z"
   },
   {
    "duration": 13,
    "start_time": "2023-02-13T23:12:09.198Z"
   },
   {
    "duration": 7,
    "start_time": "2023-02-13T23:12:09.212Z"
   },
   {
    "duration": 24,
    "start_time": "2023-02-13T23:12:09.221Z"
   },
   {
    "duration": 5,
    "start_time": "2023-02-13T23:12:09.246Z"
   },
   {
    "duration": 9,
    "start_time": "2023-02-13T23:12:09.253Z"
   },
   {
    "duration": 204,
    "start_time": "2023-02-13T23:12:09.264Z"
   },
   {
    "duration": 23,
    "start_time": "2023-02-13T23:12:09.470Z"
   },
   {
    "duration": 20,
    "start_time": "2023-02-13T23:12:09.494Z"
   },
   {
    "duration": 1059,
    "start_time": "2023-02-13T23:12:09.518Z"
   },
   {
    "duration": 14,
    "start_time": "2023-02-13T23:12:10.579Z"
   },
   {
    "duration": 9,
    "start_time": "2023-02-13T23:12:10.595Z"
   },
   {
    "duration": 12,
    "start_time": "2023-02-13T23:12:10.606Z"
   },
   {
    "duration": 11,
    "start_time": "2023-02-13T23:12:10.619Z"
   },
   {
    "duration": 24,
    "start_time": "2023-02-13T23:12:10.631Z"
   },
   {
    "duration": 11,
    "start_time": "2023-02-13T23:12:10.657Z"
   },
   {
    "duration": 29,
    "start_time": "2023-02-13T23:12:10.669Z"
   },
   {
    "duration": 4,
    "start_time": "2023-02-13T23:12:10.700Z"
   },
   {
    "duration": 9,
    "start_time": "2023-02-13T23:12:10.705Z"
   },
   {
    "duration": 7,
    "start_time": "2023-02-13T23:12:10.715Z"
   },
   {
    "duration": 9,
    "start_time": "2023-02-13T23:12:10.723Z"
   },
   {
    "duration": 14,
    "start_time": "2023-02-13T23:12:10.733Z"
   },
   {
    "duration": 4,
    "start_time": "2023-02-13T23:12:10.749Z"
   },
   {
    "duration": 8,
    "start_time": "2023-02-13T23:12:10.754Z"
   },
   {
    "duration": 9419,
    "start_time": "2023-02-13T23:12:10.792Z"
   },
   {
    "duration": 315724,
    "start_time": "2023-02-13T23:12:20.212Z"
   },
   {
    "duration": 16262,
    "start_time": "2023-02-13T23:17:35.938Z"
   },
   {
    "duration": 311933,
    "start_time": "2023-02-13T23:17:52.202Z"
   },
   {
    "duration": 4,
    "start_time": "2023-02-13T23:23:04.137Z"
   },
   {
    "duration": 8710,
    "start_time": "2023-02-13T23:23:04.142Z"
   },
   {
    "duration": 7,
    "start_time": "2023-02-13T23:23:12.854Z"
   },
   {
    "duration": 1371,
    "start_time": "2023-02-13T23:24:15.306Z"
   },
   {
    "duration": 58,
    "start_time": "2023-02-13T23:24:16.679Z"
   },
   {
    "duration": 16,
    "start_time": "2023-02-13T23:24:16.738Z"
   },
   {
    "duration": 4,
    "start_time": "2023-02-13T23:24:16.756Z"
   },
   {
    "duration": 43,
    "start_time": "2023-02-13T23:24:16.762Z"
   },
   {
    "duration": 12,
    "start_time": "2023-02-13T23:24:16.806Z"
   },
   {
    "duration": 6,
    "start_time": "2023-02-13T23:24:16.820Z"
   },
   {
    "duration": 18,
    "start_time": "2023-02-13T23:24:16.828Z"
   },
   {
    "duration": 3,
    "start_time": "2023-02-13T23:24:16.848Z"
   },
   {
    "duration": 6,
    "start_time": "2023-02-13T23:24:16.854Z"
   },
   {
    "duration": 204,
    "start_time": "2023-02-13T23:24:16.862Z"
   },
   {
    "duration": 10,
    "start_time": "2023-02-13T23:24:17.068Z"
   },
   {
    "duration": 30,
    "start_time": "2023-02-13T23:24:17.079Z"
   },
   {
    "duration": 1017,
    "start_time": "2023-02-13T23:24:17.111Z"
   },
   {
    "duration": 14,
    "start_time": "2023-02-13T23:24:18.129Z"
   },
   {
    "duration": 8,
    "start_time": "2023-02-13T23:24:18.144Z"
   },
   {
    "duration": 11,
    "start_time": "2023-02-13T23:24:18.153Z"
   },
   {
    "duration": 8,
    "start_time": "2023-02-13T23:24:18.166Z"
   },
   {
    "duration": 34,
    "start_time": "2023-02-13T23:24:18.176Z"
   },
   {
    "duration": 11,
    "start_time": "2023-02-13T23:24:18.212Z"
   },
   {
    "duration": 13,
    "start_time": "2023-02-13T23:24:18.225Z"
   },
   {
    "duration": 5,
    "start_time": "2023-02-13T23:24:18.240Z"
   },
   {
    "duration": 6,
    "start_time": "2023-02-13T23:24:18.246Z"
   },
   {
    "duration": 4,
    "start_time": "2023-02-13T23:24:18.253Z"
   },
   {
    "duration": 35,
    "start_time": "2023-02-13T23:24:18.259Z"
   },
   {
    "duration": 14,
    "start_time": "2023-02-13T23:24:18.295Z"
   },
   {
    "duration": 3,
    "start_time": "2023-02-13T23:24:18.311Z"
   },
   {
    "duration": 5,
    "start_time": "2023-02-13T23:24:18.317Z"
   },
   {
    "duration": 8544,
    "start_time": "2023-02-13T23:24:18.324Z"
   },
   {
    "duration": 315117,
    "start_time": "2023-02-13T23:24:26.869Z"
   },
   {
    "duration": 17106,
    "start_time": "2023-02-13T23:29:41.987Z"
   },
   {
    "duration": 307269,
    "start_time": "2023-02-13T23:29:59.095Z"
   },
   {
    "duration": 4,
    "start_time": "2023-02-13T23:35:06.365Z"
   },
   {
    "duration": 8614,
    "start_time": "2023-02-13T23:35:06.371Z"
   },
   {
    "duration": 11,
    "start_time": "2023-02-13T23:35:14.987Z"
   },
   {
    "duration": 68627,
    "start_time": "2023-02-13T23:35:15.000Z"
   },
   {
    "duration": 4,
    "start_time": "2023-02-13T23:36:23.629Z"
   },
   {
    "duration": 12796,
    "start_time": "2023-02-13T23:36:23.634Z"
   },
   {
    "duration": 10,
    "start_time": "2023-02-13T23:36:36.432Z"
   },
   {
    "duration": 38290,
    "start_time": "2023-02-13T23:36:36.444Z"
   },
   {
    "duration": 140,
    "start_time": "2023-02-13T23:37:14.735Z"
   },
   {
    "duration": 145,
    "start_time": "2023-02-13T23:37:14.877Z"
   },
   {
    "duration": 6,
    "start_time": "2023-02-13T23:37:15.024Z"
   },
   {
    "duration": 26,
    "start_time": "2023-02-13T23:37:15.032Z"
   },
   {
    "duration": 43,
    "start_time": "2023-02-13T23:37:15.060Z"
   },
   {
    "duration": 154,
    "start_time": "2023-02-13T23:37:15.105Z"
   },
   {
    "duration": 8736,
    "start_time": "2023-02-13T23:39:36.695Z"
   },
   {
    "duration": 1394,
    "start_time": "2023-02-13T23:40:03.693Z"
   },
   {
    "duration": 41,
    "start_time": "2023-02-13T23:40:05.091Z"
   },
   {
    "duration": 18,
    "start_time": "2023-02-13T23:40:05.134Z"
   },
   {
    "duration": 5,
    "start_time": "2023-02-13T23:40:05.154Z"
   },
   {
    "duration": 44,
    "start_time": "2023-02-13T23:40:05.161Z"
   },
   {
    "duration": 13,
    "start_time": "2023-02-13T23:40:05.207Z"
   },
   {
    "duration": 7,
    "start_time": "2023-02-13T23:40:05.222Z"
   },
   {
    "duration": 23,
    "start_time": "2023-02-13T23:40:05.231Z"
   },
   {
    "duration": 4,
    "start_time": "2023-02-13T23:40:05.255Z"
   },
   {
    "duration": 31,
    "start_time": "2023-02-13T23:40:05.262Z"
   },
   {
    "duration": 187,
    "start_time": "2023-02-13T23:40:05.294Z"
   },
   {
    "duration": 19,
    "start_time": "2023-02-13T23:40:05.483Z"
   },
   {
    "duration": 21,
    "start_time": "2023-02-13T23:40:05.503Z"
   },
   {
    "duration": 1111,
    "start_time": "2023-02-13T23:40:05.526Z"
   },
   {
    "duration": 14,
    "start_time": "2023-02-13T23:40:06.639Z"
   },
   {
    "duration": 8,
    "start_time": "2023-02-13T23:40:06.654Z"
   },
   {
    "duration": 7,
    "start_time": "2023-02-13T23:40:06.664Z"
   },
   {
    "duration": 6,
    "start_time": "2023-02-13T23:40:06.673Z"
   },
   {
    "duration": 28,
    "start_time": "2023-02-13T23:40:06.681Z"
   },
   {
    "duration": 11,
    "start_time": "2023-02-13T23:40:06.711Z"
   },
   {
    "duration": 12,
    "start_time": "2023-02-13T23:40:06.724Z"
   },
   {
    "duration": 5,
    "start_time": "2023-02-13T23:40:06.738Z"
   },
   {
    "duration": 10,
    "start_time": "2023-02-13T23:40:06.744Z"
   },
   {
    "duration": 5,
    "start_time": "2023-02-13T23:40:06.755Z"
   },
   {
    "duration": 31,
    "start_time": "2023-02-13T23:40:06.761Z"
   },
   {
    "duration": 11,
    "start_time": "2023-02-13T23:40:06.794Z"
   },
   {
    "duration": 3,
    "start_time": "2023-02-13T23:40:06.807Z"
   },
   {
    "duration": 4,
    "start_time": "2023-02-13T23:40:06.813Z"
   },
   {
    "duration": 8899,
    "start_time": "2023-02-13T23:40:06.819Z"
   },
   {
    "duration": 318351,
    "start_time": "2023-02-13T23:40:15.720Z"
   },
   {
    "duration": 17521,
    "start_time": "2023-02-13T23:45:34.073Z"
   },
   {
    "duration": 322100,
    "start_time": "2023-02-13T23:45:51.596Z"
   },
   {
    "duration": 4,
    "start_time": "2023-02-13T23:51:13.698Z"
   },
   {
    "duration": 8876,
    "start_time": "2023-02-13T23:51:13.703Z"
   },
   {
    "duration": 11,
    "start_time": "2023-02-13T23:51:22.581Z"
   },
   {
    "duration": 70616,
    "start_time": "2023-02-13T23:51:22.593Z"
   },
   {
    "duration": 6,
    "start_time": "2023-02-13T23:52:33.210Z"
   },
   {
    "duration": 11269,
    "start_time": "2023-02-13T23:52:33.227Z"
   },
   {
    "duration": 8,
    "start_time": "2023-02-13T23:52:44.498Z"
   },
   {
    "duration": 38677,
    "start_time": "2023-02-13T23:52:44.507Z"
   },
   {
    "duration": 149,
    "start_time": "2023-02-13T23:53:23.192Z"
   },
   {
    "duration": 141,
    "start_time": "2023-02-13T23:53:23.342Z"
   },
   {
    "duration": 5,
    "start_time": "2023-02-13T23:53:23.491Z"
   },
   {
    "duration": 36,
    "start_time": "2023-02-13T23:53:23.498Z"
   },
   {
    "duration": 22,
    "start_time": "2023-02-13T23:53:23.536Z"
   },
   {
    "duration": 148,
    "start_time": "2023-02-13T23:53:23.559Z"
   },
   {
    "duration": 8,
    "start_time": "2023-02-13T23:53:23.710Z"
   },
   {
    "duration": 9,
    "start_time": "2023-02-13T23:53:30.605Z"
   },
   {
    "duration": 35783,
    "start_time": "2023-02-13T23:53:34.989Z"
   },
   {
    "duration": 130,
    "start_time": "2023-02-13T23:54:24.318Z"
   },
   {
    "duration": 127,
    "start_time": "2023-02-13T23:54:27.967Z"
   },
   {
    "duration": 6,
    "start_time": "2023-02-13T23:54:32.713Z"
   },
   {
    "duration": 27,
    "start_time": "2023-02-13T23:54:35.271Z"
   },
   {
    "duration": 20,
    "start_time": "2023-02-13T23:54:39.412Z"
   },
   {
    "duration": 150,
    "start_time": "2023-02-13T23:54:43.133Z"
   },
   {
    "duration": 105,
    "start_time": "2023-02-13T23:57:41.932Z"
   },
   {
    "duration": 288,
    "start_time": "2023-02-13T23:57:47.856Z"
   },
   {
    "duration": 130,
    "start_time": "2023-02-13T23:58:43.571Z"
   },
   {
    "duration": 126,
    "start_time": "2023-02-13T23:59:11.860Z"
   },
   {
    "duration": 224,
    "start_time": "2023-02-13T23:59:19.124Z"
   },
   {
    "duration": 1681,
    "start_time": "2023-02-14T15:00:14.768Z"
   },
   {
    "duration": 175,
    "start_time": "2023-02-14T15:00:16.452Z"
   },
   {
    "duration": 19,
    "start_time": "2023-02-14T15:00:16.629Z"
   },
   {
    "duration": 23,
    "start_time": "2023-02-14T15:00:16.651Z"
   },
   {
    "duration": 64,
    "start_time": "2023-02-14T15:00:16.676Z"
   },
   {
    "duration": 12,
    "start_time": "2023-02-14T15:00:16.742Z"
   },
   {
    "duration": 12,
    "start_time": "2023-02-14T15:00:16.756Z"
   },
   {
    "duration": 31,
    "start_time": "2023-02-14T15:00:16.770Z"
   },
   {
    "duration": 15,
    "start_time": "2023-02-14T15:00:16.803Z"
   },
   {
    "duration": 29,
    "start_time": "2023-02-14T15:00:16.821Z"
   },
   {
    "duration": 224,
    "start_time": "2023-02-14T15:00:16.852Z"
   },
   {
    "duration": 15,
    "start_time": "2023-02-14T15:00:17.078Z"
   },
   {
    "duration": 42,
    "start_time": "2023-02-14T15:00:17.095Z"
   },
   {
    "duration": 1168,
    "start_time": "2023-02-14T15:00:17.139Z"
   },
   {
    "duration": 18,
    "start_time": "2023-02-14T15:00:18.310Z"
   },
   {
    "duration": 12,
    "start_time": "2023-02-14T15:00:18.330Z"
   },
   {
    "duration": 10,
    "start_time": "2023-02-14T15:00:18.343Z"
   },
   {
    "duration": 9,
    "start_time": "2023-02-14T15:00:18.354Z"
   },
   {
    "duration": 37,
    "start_time": "2023-02-14T15:00:18.365Z"
   },
   {
    "duration": 34,
    "start_time": "2023-02-14T15:00:18.404Z"
   },
   {
    "duration": 17,
    "start_time": "2023-02-14T15:00:18.440Z"
   },
   {
    "duration": 12,
    "start_time": "2023-02-14T15:00:18.459Z"
   },
   {
    "duration": 15,
    "start_time": "2023-02-14T15:00:18.473Z"
   },
   {
    "duration": 12,
    "start_time": "2023-02-14T15:00:18.490Z"
   },
   {
    "duration": 6,
    "start_time": "2023-02-14T15:00:18.503Z"
   },
   {
    "duration": 33,
    "start_time": "2023-02-14T15:00:18.511Z"
   },
   {
    "duration": 4,
    "start_time": "2023-02-14T15:00:18.546Z"
   },
   {
    "duration": 11,
    "start_time": "2023-02-14T15:00:18.554Z"
   },
   {
    "duration": 9438,
    "start_time": "2023-02-14T15:00:18.567Z"
   },
   {
    "duration": 340771,
    "start_time": "2023-02-14T15:00:28.007Z"
   },
   {
    "duration": 19766,
    "start_time": "2023-02-14T15:06:08.779Z"
   },
   {
    "duration": 348942,
    "start_time": "2023-02-14T15:06:28.551Z"
   },
   {
    "duration": 5,
    "start_time": "2023-02-14T15:12:17.495Z"
   },
   {
    "duration": 9416,
    "start_time": "2023-02-14T15:12:17.502Z"
   },
   {
    "duration": 16,
    "start_time": "2023-02-14T15:12:26.920Z"
   },
   {
    "duration": 75556,
    "start_time": "2023-02-14T15:12:26.938Z"
   },
   {
    "duration": 5,
    "start_time": "2023-02-14T15:13:42.496Z"
   },
   {
    "duration": 12984,
    "start_time": "2023-02-14T15:13:42.503Z"
   },
   {
    "duration": 9,
    "start_time": "2023-02-14T15:13:55.489Z"
   },
   {
    "duration": 37582,
    "start_time": "2023-02-14T15:13:55.500Z"
   },
   {
    "duration": 137,
    "start_time": "2023-02-14T15:14:33.084Z"
   },
   {
    "duration": 163,
    "start_time": "2023-02-14T15:14:33.223Z"
   },
   {
    "duration": 6,
    "start_time": "2023-02-14T15:14:33.388Z"
   },
   {
    "duration": 53,
    "start_time": "2023-02-14T15:14:33.395Z"
   },
   {
    "duration": 37,
    "start_time": "2023-02-14T15:14:33.450Z"
   },
   {
    "duration": 151,
    "start_time": "2023-02-14T15:14:33.489Z"
   },
   {
    "duration": 265,
    "start_time": "2023-02-14T15:14:33.642Z"
   },
   {
    "duration": 17,
    "start_time": "2023-02-14T16:17:25.680Z"
   },
   {
    "duration": 72722,
    "start_time": "2023-02-14T16:30:16.556Z"
   },
   {
    "duration": 1691,
    "start_time": "2023-02-14T17:00:06.112Z"
   },
   {
    "duration": 80,
    "start_time": "2023-02-14T17:00:07.806Z"
   },
   {
    "duration": 19,
    "start_time": "2023-02-14T17:00:07.888Z"
   },
   {
    "duration": 5,
    "start_time": "2023-02-14T17:00:07.909Z"
   },
   {
    "duration": 45,
    "start_time": "2023-02-14T17:00:07.916Z"
   },
   {
    "duration": 14,
    "start_time": "2023-02-14T17:00:07.962Z"
   },
   {
    "duration": 7,
    "start_time": "2023-02-14T17:00:07.977Z"
   },
   {
    "duration": 18,
    "start_time": "2023-02-14T17:00:07.986Z"
   },
   {
    "duration": 5,
    "start_time": "2023-02-14T17:00:08.006Z"
   },
   {
    "duration": 40,
    "start_time": "2023-02-14T17:00:08.015Z"
   },
   {
    "duration": 224,
    "start_time": "2023-02-14T17:00:08.058Z"
   },
   {
    "duration": 18,
    "start_time": "2023-02-14T17:00:08.284Z"
   },
   {
    "duration": 27,
    "start_time": "2023-02-14T17:00:08.304Z"
   },
   {
    "duration": 1197,
    "start_time": "2023-02-14T17:00:08.333Z"
   },
   {
    "duration": 18,
    "start_time": "2023-02-14T17:00:09.532Z"
   },
   {
    "duration": 11,
    "start_time": "2023-02-14T17:00:09.552Z"
   },
   {
    "duration": 13,
    "start_time": "2023-02-14T17:00:09.564Z"
   },
   {
    "duration": 9,
    "start_time": "2023-02-14T17:00:09.578Z"
   },
   {
    "duration": 32,
    "start_time": "2023-02-14T17:00:09.589Z"
   },
   {
    "duration": 31,
    "start_time": "2023-02-14T17:00:09.623Z"
   },
   {
    "duration": 14,
    "start_time": "2023-02-14T17:00:09.657Z"
   },
   {
    "duration": 5,
    "start_time": "2023-02-14T17:00:09.673Z"
   },
   {
    "duration": 13,
    "start_time": "2023-02-14T17:00:09.679Z"
   },
   {
    "duration": 6,
    "start_time": "2023-02-14T17:00:09.694Z"
   },
   {
    "duration": 5,
    "start_time": "2023-02-14T17:00:09.702Z"
   },
   {
    "duration": 49,
    "start_time": "2023-02-14T17:00:09.708Z"
   },
   {
    "duration": 5,
    "start_time": "2023-02-14T17:00:09.759Z"
   },
   {
    "duration": 10,
    "start_time": "2023-02-14T17:00:09.767Z"
   },
   {
    "duration": 9458,
    "start_time": "2023-02-14T17:00:09.778Z"
   },
   {
    "duration": 338640,
    "start_time": "2023-02-14T17:00:19.238Z"
   },
   {
    "duration": 28681,
    "start_time": "2023-02-14T17:05:57.880Z"
   },
   {
    "duration": 341270,
    "start_time": "2023-02-14T17:06:26.564Z"
   },
   {
    "duration": 4,
    "start_time": "2023-02-14T17:12:07.836Z"
   },
   {
    "duration": 9140,
    "start_time": "2023-02-14T17:12:07.853Z"
   },
   {
    "duration": 9,
    "start_time": "2023-02-14T17:12:16.995Z"
   },
   {
    "duration": 75082,
    "start_time": "2023-02-14T17:12:17.006Z"
   },
   {
    "duration": 4,
    "start_time": "2023-02-14T17:13:32.090Z"
   },
   {
    "duration": 11605,
    "start_time": "2023-02-14T17:13:32.096Z"
   },
   {
    "duration": 8,
    "start_time": "2023-02-14T17:13:43.703Z"
   },
   {
    "duration": 37229,
    "start_time": "2023-02-14T17:13:43.713Z"
   },
   {
    "duration": 163,
    "start_time": "2023-02-14T17:14:20.943Z"
   },
   {
    "duration": 152,
    "start_time": "2023-02-14T17:14:21.108Z"
   },
   {
    "duration": 6,
    "start_time": "2023-02-14T17:14:21.261Z"
   },
   {
    "duration": 25,
    "start_time": "2023-02-14T17:14:21.269Z"
   },
   {
    "duration": 21,
    "start_time": "2023-02-14T17:14:21.296Z"
   },
   {
    "duration": 179,
    "start_time": "2023-02-14T17:14:21.319Z"
   },
   {
    "duration": 281,
    "start_time": "2023-02-14T17:14:21.501Z"
   },
   {
    "duration": 1410,
    "start_time": "2023-02-14T17:32:48.669Z"
   },
   {
    "duration": 38,
    "start_time": "2023-02-14T17:32:50.081Z"
   },
   {
    "duration": 18,
    "start_time": "2023-02-14T17:32:50.121Z"
   },
   {
    "duration": 7,
    "start_time": "2023-02-14T17:32:50.141Z"
   },
   {
    "duration": 43,
    "start_time": "2023-02-14T17:32:50.155Z"
   },
   {
    "duration": 14,
    "start_time": "2023-02-14T17:32:50.200Z"
   },
   {
    "duration": 8,
    "start_time": "2023-02-14T17:32:50.215Z"
   },
   {
    "duration": 44,
    "start_time": "2023-02-14T17:32:50.224Z"
   },
   {
    "duration": 5,
    "start_time": "2023-02-14T17:32:50.270Z"
   },
   {
    "duration": 7,
    "start_time": "2023-02-14T17:32:50.277Z"
   },
   {
    "duration": 214,
    "start_time": "2023-02-14T17:32:50.286Z"
   },
   {
    "duration": 11,
    "start_time": "2023-02-14T17:32:50.502Z"
   },
   {
    "duration": 18,
    "start_time": "2023-02-14T17:32:50.514Z"
   },
   {
    "duration": 1662,
    "start_time": "2023-02-14T17:32:50.552Z"
   },
   {
    "duration": 50,
    "start_time": "2023-02-14T17:32:52.215Z"
   },
   {
    "duration": 7,
    "start_time": "2023-02-14T17:32:52.267Z"
   },
   {
    "duration": 7,
    "start_time": "2023-02-14T17:32:52.275Z"
   },
   {
    "duration": 6,
    "start_time": "2023-02-14T17:32:52.284Z"
   },
   {
    "duration": 12,
    "start_time": "2023-02-14T17:32:52.291Z"
   },
   {
    "duration": 17,
    "start_time": "2023-02-14T17:32:52.354Z"
   },
   {
    "duration": 4,
    "start_time": "2023-02-14T17:32:52.373Z"
   },
   {
    "duration": 7,
    "start_time": "2023-02-14T17:32:52.379Z"
   },
   {
    "duration": 9,
    "start_time": "2023-02-14T17:32:52.388Z"
   },
   {
    "duration": 57,
    "start_time": "2023-02-14T17:32:52.399Z"
   },
   {
    "duration": 9,
    "start_time": "2023-02-14T17:32:52.458Z"
   },
   {
    "duration": 310,
    "start_time": "2023-02-14T17:32:52.468Z"
   },
   {
    "duration": 0,
    "start_time": "2023-02-14T17:32:52.780Z"
   },
   {
    "duration": 0,
    "start_time": "2023-02-14T17:32:52.781Z"
   },
   {
    "duration": 0,
    "start_time": "2023-02-14T17:32:52.782Z"
   },
   {
    "duration": 0,
    "start_time": "2023-02-14T17:32:52.784Z"
   },
   {
    "duration": 0,
    "start_time": "2023-02-14T17:32:52.785Z"
   },
   {
    "duration": 0,
    "start_time": "2023-02-14T17:32:52.786Z"
   },
   {
    "duration": 0,
    "start_time": "2023-02-14T17:32:52.787Z"
   },
   {
    "duration": 0,
    "start_time": "2023-02-14T17:32:52.788Z"
   },
   {
    "duration": 0,
    "start_time": "2023-02-14T17:32:52.789Z"
   },
   {
    "duration": 0,
    "start_time": "2023-02-14T17:32:52.791Z"
   },
   {
    "duration": 0,
    "start_time": "2023-02-14T17:32:52.792Z"
   },
   {
    "duration": 0,
    "start_time": "2023-02-14T17:32:52.793Z"
   },
   {
    "duration": 0,
    "start_time": "2023-02-14T17:32:52.794Z"
   },
   {
    "duration": 0,
    "start_time": "2023-02-14T17:32:52.795Z"
   },
   {
    "duration": 0,
    "start_time": "2023-02-14T17:32:52.796Z"
   },
   {
    "duration": 0,
    "start_time": "2023-02-14T17:32:52.797Z"
   },
   {
    "duration": 0,
    "start_time": "2023-02-14T17:32:52.798Z"
   },
   {
    "duration": 0,
    "start_time": "2023-02-14T17:32:52.799Z"
   },
   {
    "duration": 0,
    "start_time": "2023-02-14T17:32:52.800Z"
   },
   {
    "duration": 0,
    "start_time": "2023-02-14T17:32:52.801Z"
   },
   {
    "duration": 0,
    "start_time": "2023-02-14T17:32:52.803Z"
   },
   {
    "duration": 0,
    "start_time": "2023-02-14T17:32:52.803Z"
   },
   {
    "duration": 1541,
    "start_time": "2023-02-14T18:04:06.794Z"
   },
   {
    "duration": 37,
    "start_time": "2023-02-14T18:04:08.337Z"
   },
   {
    "duration": 19,
    "start_time": "2023-02-14T18:04:08.376Z"
   },
   {
    "duration": 5,
    "start_time": "2023-02-14T18:04:08.397Z"
   },
   {
    "duration": 50,
    "start_time": "2023-02-14T18:04:08.404Z"
   },
   {
    "duration": 13,
    "start_time": "2023-02-14T18:04:08.456Z"
   },
   {
    "duration": 7,
    "start_time": "2023-02-14T18:04:08.470Z"
   },
   {
    "duration": 18,
    "start_time": "2023-02-14T18:04:08.478Z"
   },
   {
    "duration": 4,
    "start_time": "2023-02-14T18:04:08.498Z"
   },
   {
    "duration": 9,
    "start_time": "2023-02-14T18:04:08.505Z"
   },
   {
    "duration": 217,
    "start_time": "2023-02-14T18:04:08.554Z"
   },
   {
    "duration": 11,
    "start_time": "2023-02-14T18:04:08.773Z"
   },
   {
    "duration": 20,
    "start_time": "2023-02-14T18:04:08.786Z"
   },
   {
    "duration": 1154,
    "start_time": "2023-02-14T18:04:08.808Z"
   },
   {
    "duration": 12,
    "start_time": "2023-02-14T18:04:09.964Z"
   },
   {
    "duration": 11,
    "start_time": "2023-02-14T18:04:09.978Z"
   },
   {
    "duration": 21,
    "start_time": "2023-02-14T18:04:09.991Z"
   },
   {
    "duration": 11,
    "start_time": "2023-02-14T18:04:10.013Z"
   },
   {
    "duration": 8,
    "start_time": "2023-02-14T18:04:10.026Z"
   },
   {
    "duration": 19,
    "start_time": "2023-02-14T18:04:10.036Z"
   },
   {
    "duration": 18,
    "start_time": "2023-02-14T18:04:10.056Z"
   },
   {
    "duration": 14,
    "start_time": "2023-02-14T18:04:10.076Z"
   },
   {
    "duration": 8,
    "start_time": "2023-02-14T18:04:10.091Z"
   },
   {
    "duration": 5,
    "start_time": "2023-02-14T18:04:10.101Z"
   },
   {
    "duration": 8,
    "start_time": "2023-02-14T18:04:10.107Z"
   },
   {
    "duration": 42,
    "start_time": "2023-02-14T18:04:10.117Z"
   },
   {
    "duration": 3,
    "start_time": "2023-02-14T18:04:10.160Z"
   },
   {
    "duration": 9,
    "start_time": "2023-02-14T18:04:10.166Z"
   },
   {
    "duration": 14,
    "start_time": "2023-02-14T18:04:10.177Z"
   },
   {
    "duration": 7,
    "start_time": "2023-02-14T18:04:10.192Z"
   },
   {
    "duration": 7588,
    "start_time": "2023-02-14T18:04:10.200Z"
   },
   {
    "duration": 1612,
    "start_time": "2023-02-14T18:13:16.151Z"
   },
   {
    "duration": 54,
    "start_time": "2023-02-14T18:13:17.766Z"
   },
   {
    "duration": 24,
    "start_time": "2023-02-14T18:13:17.822Z"
   },
   {
    "duration": 14,
    "start_time": "2023-02-14T18:13:17.848Z"
   },
   {
    "duration": 84,
    "start_time": "2023-02-14T18:13:17.864Z"
   },
   {
    "duration": 18,
    "start_time": "2023-02-14T18:13:17.950Z"
   },
   {
    "duration": 51,
    "start_time": "2023-02-14T18:13:17.971Z"
   },
   {
    "duration": 44,
    "start_time": "2023-02-14T18:13:18.025Z"
   },
   {
    "duration": 7,
    "start_time": "2023-02-14T18:13:18.072Z"
   },
   {
    "duration": 74,
    "start_time": "2023-02-14T18:13:18.082Z"
   },
   {
    "duration": 419,
    "start_time": "2023-02-14T18:13:18.158Z"
   },
   {
    "duration": 21,
    "start_time": "2023-02-14T18:13:18.579Z"
   },
   {
    "duration": 36,
    "start_time": "2023-02-14T18:13:18.655Z"
   },
   {
    "duration": 2212,
    "start_time": "2023-02-14T18:13:18.694Z"
   },
   {
    "duration": 57,
    "start_time": "2023-02-14T18:13:20.908Z"
   },
   {
    "duration": 28,
    "start_time": "2023-02-14T18:13:20.966Z"
   },
   {
    "duration": 59,
    "start_time": "2023-02-14T18:13:20.996Z"
   },
   {
    "duration": 11,
    "start_time": "2023-02-14T18:13:21.058Z"
   },
   {
    "duration": 20,
    "start_time": "2023-02-14T18:13:21.072Z"
   },
   {
    "duration": 81,
    "start_time": "2023-02-14T18:13:21.094Z"
   },
   {
    "duration": 7,
    "start_time": "2023-02-14T18:13:21.177Z"
   },
   {
    "duration": 7,
    "start_time": "2023-02-14T18:13:21.187Z"
   },
   {
    "duration": 57,
    "start_time": "2023-02-14T18:13:21.196Z"
   },
   {
    "duration": 6,
    "start_time": "2023-02-14T18:13:21.256Z"
   },
   {
    "duration": 5,
    "start_time": "2023-02-14T18:13:21.264Z"
   },
   {
    "duration": 83,
    "start_time": "2023-02-14T18:13:21.271Z"
   },
   {
    "duration": 234,
    "start_time": "2023-02-14T18:13:21.356Z"
   },
   {
    "duration": 0,
    "start_time": "2023-02-14T18:13:21.593Z"
   },
   {
    "duration": 0,
    "start_time": "2023-02-14T18:13:21.595Z"
   },
   {
    "duration": 0,
    "start_time": "2023-02-14T18:13:21.598Z"
   },
   {
    "duration": 0,
    "start_time": "2023-02-14T18:13:21.599Z"
   },
   {
    "duration": 0,
    "start_time": "2023-02-14T18:13:21.600Z"
   },
   {
    "duration": 0,
    "start_time": "2023-02-14T18:13:21.655Z"
   },
   {
    "duration": 0,
    "start_time": "2023-02-14T18:13:21.657Z"
   },
   {
    "duration": 0,
    "start_time": "2023-02-14T18:13:21.659Z"
   },
   {
    "duration": 0,
    "start_time": "2023-02-14T18:13:21.662Z"
   },
   {
    "duration": 0,
    "start_time": "2023-02-14T18:13:21.663Z"
   },
   {
    "duration": 0,
    "start_time": "2023-02-14T18:13:21.665Z"
   },
   {
    "duration": 0,
    "start_time": "2023-02-14T18:13:21.669Z"
   },
   {
    "duration": 0,
    "start_time": "2023-02-14T18:13:21.671Z"
   },
   {
    "duration": 0,
    "start_time": "2023-02-14T18:13:21.673Z"
   },
   {
    "duration": 0,
    "start_time": "2023-02-14T18:13:21.674Z"
   },
   {
    "duration": 0,
    "start_time": "2023-02-14T18:13:21.675Z"
   },
   {
    "duration": 0,
    "start_time": "2023-02-14T18:13:21.676Z"
   },
   {
    "duration": 0,
    "start_time": "2023-02-14T18:13:21.678Z"
   },
   {
    "duration": 0,
    "start_time": "2023-02-14T18:13:21.679Z"
   },
   {
    "duration": 0,
    "start_time": "2023-02-14T18:13:21.680Z"
   },
   {
    "duration": 1454,
    "start_time": "2023-02-14T18:14:19.947Z"
   },
   {
    "duration": 37,
    "start_time": "2023-02-14T18:14:21.403Z"
   },
   {
    "duration": 17,
    "start_time": "2023-02-14T18:14:21.442Z"
   },
   {
    "duration": 5,
    "start_time": "2023-02-14T18:14:21.461Z"
   },
   {
    "duration": 50,
    "start_time": "2023-02-14T18:14:21.468Z"
   },
   {
    "duration": 13,
    "start_time": "2023-02-14T18:14:21.520Z"
   },
   {
    "duration": 9,
    "start_time": "2023-02-14T18:14:21.553Z"
   },
   {
    "duration": 19,
    "start_time": "2023-02-14T18:14:21.564Z"
   },
   {
    "duration": 5,
    "start_time": "2023-02-14T18:14:21.584Z"
   },
   {
    "duration": 10,
    "start_time": "2023-02-14T18:14:21.591Z"
   },
   {
    "duration": 238,
    "start_time": "2023-02-14T18:14:21.602Z"
   },
   {
    "duration": 21,
    "start_time": "2023-02-14T18:14:21.842Z"
   },
   {
    "duration": 20,
    "start_time": "2023-02-14T18:14:21.865Z"
   },
   {
    "duration": 1118,
    "start_time": "2023-02-14T18:14:21.888Z"
   },
   {
    "duration": 15,
    "start_time": "2023-02-14T18:14:23.008Z"
   },
   {
    "duration": 22,
    "start_time": "2023-02-14T18:14:23.024Z"
   },
   {
    "duration": 11,
    "start_time": "2023-02-14T18:14:23.047Z"
   },
   {
    "duration": 17,
    "start_time": "2023-02-14T18:14:23.059Z"
   },
   {
    "duration": 6,
    "start_time": "2023-02-14T18:14:23.078Z"
   },
   {
    "duration": 17,
    "start_time": "2023-02-14T18:14:23.085Z"
   },
   {
    "duration": 8,
    "start_time": "2023-02-14T18:14:23.103Z"
   },
   {
    "duration": 7,
    "start_time": "2023-02-14T18:14:23.113Z"
   },
   {
    "duration": 12,
    "start_time": "2023-02-14T18:14:23.122Z"
   },
   {
    "duration": 7,
    "start_time": "2023-02-14T18:14:23.136Z"
   },
   {
    "duration": 11,
    "start_time": "2023-02-14T18:14:23.144Z"
   },
   {
    "duration": 23,
    "start_time": "2023-02-14T18:14:23.157Z"
   },
   {
    "duration": 124,
    "start_time": "2023-02-14T18:14:23.182Z"
   },
   {
    "duration": 0,
    "start_time": "2023-02-14T18:14:23.307Z"
   },
   {
    "duration": 0,
    "start_time": "2023-02-14T18:14:23.309Z"
   },
   {
    "duration": 0,
    "start_time": "2023-02-14T18:14:23.310Z"
   },
   {
    "duration": 0,
    "start_time": "2023-02-14T18:14:23.311Z"
   },
   {
    "duration": 0,
    "start_time": "2023-02-14T18:14:23.312Z"
   },
   {
    "duration": 0,
    "start_time": "2023-02-14T18:14:23.313Z"
   },
   {
    "duration": 0,
    "start_time": "2023-02-14T18:14:23.314Z"
   },
   {
    "duration": 0,
    "start_time": "2023-02-14T18:14:23.315Z"
   },
   {
    "duration": 0,
    "start_time": "2023-02-14T18:14:23.316Z"
   },
   {
    "duration": 0,
    "start_time": "2023-02-14T18:14:23.317Z"
   },
   {
    "duration": 0,
    "start_time": "2023-02-14T18:14:23.318Z"
   },
   {
    "duration": 0,
    "start_time": "2023-02-14T18:14:23.319Z"
   },
   {
    "duration": 0,
    "start_time": "2023-02-14T18:14:23.320Z"
   },
   {
    "duration": 0,
    "start_time": "2023-02-14T18:14:23.322Z"
   },
   {
    "duration": 0,
    "start_time": "2023-02-14T18:14:23.322Z"
   },
   {
    "duration": 1,
    "start_time": "2023-02-14T18:14:23.352Z"
   },
   {
    "duration": 0,
    "start_time": "2023-02-14T18:14:23.354Z"
   },
   {
    "duration": 0,
    "start_time": "2023-02-14T18:14:23.355Z"
   },
   {
    "duration": 0,
    "start_time": "2023-02-14T18:14:23.356Z"
   },
   {
    "duration": 0,
    "start_time": "2023-02-14T18:14:23.357Z"
   },
   {
    "duration": 1540,
    "start_time": "2023-02-14T18:15:34.306Z"
   },
   {
    "duration": 38,
    "start_time": "2023-02-14T18:15:35.848Z"
   },
   {
    "duration": 19,
    "start_time": "2023-02-14T18:15:35.888Z"
   },
   {
    "duration": 36,
    "start_time": "2023-02-14T18:15:35.909Z"
   },
   {
    "duration": 75,
    "start_time": "2023-02-14T18:15:35.949Z"
   },
   {
    "duration": 13,
    "start_time": "2023-02-14T18:15:36.026Z"
   },
   {
    "duration": 23,
    "start_time": "2023-02-14T18:15:36.041Z"
   },
   {
    "duration": 29,
    "start_time": "2023-02-14T18:15:36.065Z"
   },
   {
    "duration": 5,
    "start_time": "2023-02-14T18:15:36.095Z"
   },
   {
    "duration": 10,
    "start_time": "2023-02-14T18:15:36.101Z"
   },
   {
    "duration": 216,
    "start_time": "2023-02-14T18:15:36.113Z"
   },
   {
    "duration": 23,
    "start_time": "2023-02-14T18:15:36.331Z"
   },
   {
    "duration": 20,
    "start_time": "2023-02-14T18:15:36.356Z"
   },
   {
    "duration": 1107,
    "start_time": "2023-02-14T18:15:36.379Z"
   },
   {
    "duration": 16,
    "start_time": "2023-02-14T18:15:37.488Z"
   },
   {
    "duration": 75,
    "start_time": "2023-02-14T18:15:37.505Z"
   },
   {
    "duration": 42,
    "start_time": "2023-02-14T18:15:37.582Z"
   },
   {
    "duration": 52,
    "start_time": "2023-02-14T18:15:37.626Z"
   },
   {
    "duration": 32,
    "start_time": "2023-02-14T18:15:37.680Z"
   },
   {
    "duration": 49,
    "start_time": "2023-02-14T18:15:37.714Z"
   },
   {
    "duration": 30,
    "start_time": "2023-02-14T18:15:37.765Z"
   },
   {
    "duration": 64,
    "start_time": "2023-02-14T18:15:37.798Z"
   },
   {
    "duration": 41,
    "start_time": "2023-02-14T18:15:37.865Z"
   },
   {
    "duration": 69,
    "start_time": "2023-02-14T18:15:37.908Z"
   },
   {
    "duration": 63,
    "start_time": "2023-02-14T18:15:37.979Z"
   },
   {
    "duration": 66,
    "start_time": "2023-02-14T18:15:38.044Z"
   },
   {
    "duration": 127,
    "start_time": "2023-02-14T18:15:38.112Z"
   },
   {
    "duration": 0,
    "start_time": "2023-02-14T18:15:38.241Z"
   },
   {
    "duration": 0,
    "start_time": "2023-02-14T18:15:38.242Z"
   },
   {
    "duration": 0,
    "start_time": "2023-02-14T18:15:38.243Z"
   },
   {
    "duration": 0,
    "start_time": "2023-02-14T18:15:38.254Z"
   },
   {
    "duration": 0,
    "start_time": "2023-02-14T18:15:38.255Z"
   },
   {
    "duration": 0,
    "start_time": "2023-02-14T18:15:38.258Z"
   },
   {
    "duration": 0,
    "start_time": "2023-02-14T18:15:38.259Z"
   },
   {
    "duration": 0,
    "start_time": "2023-02-14T18:15:38.260Z"
   },
   {
    "duration": 0,
    "start_time": "2023-02-14T18:15:38.262Z"
   },
   {
    "duration": 0,
    "start_time": "2023-02-14T18:15:38.263Z"
   },
   {
    "duration": 0,
    "start_time": "2023-02-14T18:15:38.264Z"
   },
   {
    "duration": 0,
    "start_time": "2023-02-14T18:15:38.265Z"
   },
   {
    "duration": 0,
    "start_time": "2023-02-14T18:15:38.266Z"
   },
   {
    "duration": 0,
    "start_time": "2023-02-14T18:15:38.267Z"
   },
   {
    "duration": 0,
    "start_time": "2023-02-14T18:15:38.268Z"
   },
   {
    "duration": 0,
    "start_time": "2023-02-14T18:15:38.269Z"
   },
   {
    "duration": 0,
    "start_time": "2023-02-14T18:15:38.270Z"
   },
   {
    "duration": 0,
    "start_time": "2023-02-14T18:15:38.272Z"
   },
   {
    "duration": 0,
    "start_time": "2023-02-14T18:15:38.273Z"
   },
   {
    "duration": 0,
    "start_time": "2023-02-14T18:15:38.275Z"
   },
   {
    "duration": 1512,
    "start_time": "2023-02-14T18:16:20.813Z"
   },
   {
    "duration": 40,
    "start_time": "2023-02-14T18:16:22.327Z"
   },
   {
    "duration": 20,
    "start_time": "2023-02-14T18:16:22.369Z"
   },
   {
    "duration": 6,
    "start_time": "2023-02-14T18:16:22.391Z"
   },
   {
    "duration": 59,
    "start_time": "2023-02-14T18:16:22.400Z"
   },
   {
    "duration": 14,
    "start_time": "2023-02-14T18:16:22.461Z"
   },
   {
    "duration": 8,
    "start_time": "2023-02-14T18:16:22.477Z"
   },
   {
    "duration": 18,
    "start_time": "2023-02-14T18:16:22.487Z"
   },
   {
    "duration": 5,
    "start_time": "2023-02-14T18:16:22.506Z"
   },
   {
    "duration": 46,
    "start_time": "2023-02-14T18:16:22.512Z"
   },
   {
    "duration": 216,
    "start_time": "2023-02-14T18:16:22.559Z"
   },
   {
    "duration": 11,
    "start_time": "2023-02-14T18:16:22.777Z"
   },
   {
    "duration": 19,
    "start_time": "2023-02-14T18:16:22.790Z"
   },
   {
    "duration": 1133,
    "start_time": "2023-02-14T18:16:22.813Z"
   },
   {
    "duration": 15,
    "start_time": "2023-02-14T18:16:23.948Z"
   },
   {
    "duration": 18,
    "start_time": "2023-02-14T18:16:23.965Z"
   },
   {
    "duration": 18,
    "start_time": "2023-02-14T18:16:23.985Z"
   },
   {
    "duration": 13,
    "start_time": "2023-02-14T18:16:24.005Z"
   },
   {
    "duration": 10,
    "start_time": "2023-02-14T18:16:24.019Z"
   },
   {
    "duration": 19,
    "start_time": "2023-02-14T18:16:24.031Z"
   },
   {
    "duration": 5,
    "start_time": "2023-02-14T18:16:24.052Z"
   },
   {
    "duration": 17,
    "start_time": "2023-02-14T18:16:24.058Z"
   },
   {
    "duration": 23,
    "start_time": "2023-02-14T18:16:24.077Z"
   },
   {
    "duration": 14,
    "start_time": "2023-02-14T18:16:24.102Z"
   },
   {
    "duration": 27,
    "start_time": "2023-02-14T18:16:24.118Z"
   },
   {
    "duration": 44,
    "start_time": "2023-02-14T18:16:24.147Z"
   },
   {
    "duration": 5,
    "start_time": "2023-02-14T18:16:24.193Z"
   },
   {
    "duration": 6996,
    "start_time": "2023-02-14T18:16:24.200Z"
   },
   {
    "duration": 438104,
    "start_time": "2023-02-14T18:16:31.198Z"
   },
   {
    "duration": 17151,
    "start_time": "2023-02-14T18:23:49.303Z"
   },
   {
    "duration": 1469,
    "start_time": "2023-02-14T18:29:34.361Z"
   },
   {
    "duration": 40,
    "start_time": "2023-02-14T18:29:35.832Z"
   },
   {
    "duration": 17,
    "start_time": "2023-02-14T18:29:35.873Z"
   },
   {
    "duration": 27,
    "start_time": "2023-02-14T18:29:35.892Z"
   },
   {
    "duration": 126,
    "start_time": "2023-02-14T18:29:35.922Z"
   },
   {
    "duration": 14,
    "start_time": "2023-02-14T18:29:36.049Z"
   },
   {
    "duration": 8,
    "start_time": "2023-02-14T18:29:36.064Z"
   },
   {
    "duration": 25,
    "start_time": "2023-02-14T18:29:36.073Z"
   },
   {
    "duration": 4,
    "start_time": "2023-02-14T18:29:36.100Z"
   },
   {
    "duration": 22,
    "start_time": "2023-02-14T18:29:36.105Z"
   },
   {
    "duration": 219,
    "start_time": "2023-02-14T18:29:36.129Z"
   },
   {
    "duration": 18,
    "start_time": "2023-02-14T18:29:36.350Z"
   },
   {
    "duration": 22,
    "start_time": "2023-02-14T18:29:36.371Z"
   },
   {
    "duration": 1190,
    "start_time": "2023-02-14T18:29:36.396Z"
   },
   {
    "duration": 14,
    "start_time": "2023-02-14T18:29:37.588Z"
   },
   {
    "duration": 10,
    "start_time": "2023-02-14T18:29:37.604Z"
   },
   {
    "duration": 7,
    "start_time": "2023-02-14T18:29:37.616Z"
   },
   {
    "duration": 8,
    "start_time": "2023-02-14T18:29:37.625Z"
   },
   {
    "duration": 5,
    "start_time": "2023-02-14T18:29:37.634Z"
   },
   {
    "duration": 21,
    "start_time": "2023-02-14T18:29:37.641Z"
   },
   {
    "duration": 4,
    "start_time": "2023-02-14T18:29:37.664Z"
   },
   {
    "duration": 8,
    "start_time": "2023-02-14T18:29:37.670Z"
   },
   {
    "duration": 8,
    "start_time": "2023-02-14T18:29:37.680Z"
   },
   {
    "duration": 8,
    "start_time": "2023-02-14T18:29:37.689Z"
   },
   {
    "duration": 7,
    "start_time": "2023-02-14T18:29:37.698Z"
   },
   {
    "duration": 22,
    "start_time": "2023-02-14T18:29:37.707Z"
   },
   {
    "duration": 24,
    "start_time": "2023-02-14T18:29:37.731Z"
   },
   {
    "duration": 7120,
    "start_time": "2023-02-14T18:29:37.757Z"
   },
   {
    "duration": 426042,
    "start_time": "2023-02-14T18:29:44.878Z"
   },
   {
    "duration": 20043,
    "start_time": "2023-02-14T18:36:50.921Z"
   },
   {
    "duration": 1478,
    "start_time": "2023-02-14T18:37:44.567Z"
   },
   {
    "duration": 38,
    "start_time": "2023-02-14T18:37:46.048Z"
   },
   {
    "duration": 16,
    "start_time": "2023-02-14T18:37:46.087Z"
   },
   {
    "duration": 32,
    "start_time": "2023-02-14T18:37:46.105Z"
   },
   {
    "duration": 81,
    "start_time": "2023-02-14T18:37:46.139Z"
   },
   {
    "duration": 20,
    "start_time": "2023-02-14T18:37:46.222Z"
   },
   {
    "duration": 22,
    "start_time": "2023-02-14T18:37:46.244Z"
   },
   {
    "duration": 39,
    "start_time": "2023-02-14T18:37:46.269Z"
   },
   {
    "duration": 5,
    "start_time": "2023-02-14T18:37:46.311Z"
   },
   {
    "duration": 13,
    "start_time": "2023-02-14T18:37:46.318Z"
   },
   {
    "duration": 202,
    "start_time": "2023-02-14T18:37:46.333Z"
   },
   {
    "duration": 19,
    "start_time": "2023-02-14T18:37:46.537Z"
   },
   {
    "duration": 64,
    "start_time": "2023-02-14T18:37:46.557Z"
   },
   {
    "duration": 1133,
    "start_time": "2023-02-14T18:37:46.625Z"
   },
   {
    "duration": 14,
    "start_time": "2023-02-14T18:37:47.761Z"
   },
   {
    "duration": 48,
    "start_time": "2023-02-14T18:37:47.777Z"
   },
   {
    "duration": 36,
    "start_time": "2023-02-14T18:37:47.827Z"
   },
   {
    "duration": 41,
    "start_time": "2023-02-14T18:37:47.866Z"
   },
   {
    "duration": 50,
    "start_time": "2023-02-14T18:37:47.909Z"
   },
   {
    "duration": 34,
    "start_time": "2023-02-14T18:37:47.960Z"
   },
   {
    "duration": 52,
    "start_time": "2023-02-14T18:37:47.997Z"
   },
   {
    "duration": 27,
    "start_time": "2023-02-14T18:37:48.052Z"
   },
   {
    "duration": 54,
    "start_time": "2023-02-14T18:37:48.081Z"
   },
   {
    "duration": 32,
    "start_time": "2023-02-14T18:37:48.137Z"
   },
   {
    "duration": 15,
    "start_time": "2023-02-14T18:37:48.171Z"
   },
   {
    "duration": 31,
    "start_time": "2023-02-14T18:37:48.188Z"
   },
   {
    "duration": 18,
    "start_time": "2023-02-14T18:37:48.220Z"
   },
   {
    "duration": 7044,
    "start_time": "2023-02-14T18:37:48.240Z"
   },
   {
    "duration": 191,
    "start_time": "2023-02-14T18:37:55.286Z"
   },
   {
    "duration": 179,
    "start_time": "2023-02-14T18:37:55.479Z"
   },
   {
    "duration": 88,
    "start_time": "2023-02-14T18:37:55.660Z"
   },
   {
    "duration": 4,
    "start_time": "2023-02-14T18:37:55.750Z"
   },
   {
    "duration": 37,
    "start_time": "2023-02-14T18:37:55.756Z"
   },
   {
    "duration": 0,
    "start_time": "2023-02-14T18:37:55.795Z"
   },
   {
    "duration": 0,
    "start_time": "2023-02-14T18:37:55.796Z"
   },
   {
    "duration": 0,
    "start_time": "2023-02-14T18:37:55.798Z"
   },
   {
    "duration": 0,
    "start_time": "2023-02-14T18:37:55.799Z"
   },
   {
    "duration": 0,
    "start_time": "2023-02-14T18:37:55.799Z"
   },
   {
    "duration": 0,
    "start_time": "2023-02-14T18:37:55.801Z"
   },
   {
    "duration": 0,
    "start_time": "2023-02-14T18:37:55.802Z"
   },
   {
    "duration": 0,
    "start_time": "2023-02-14T18:37:55.803Z"
   },
   {
    "duration": 0,
    "start_time": "2023-02-14T18:37:55.805Z"
   },
   {
    "duration": 0,
    "start_time": "2023-02-14T18:37:55.806Z"
   },
   {
    "duration": 0,
    "start_time": "2023-02-14T18:37:55.808Z"
   },
   {
    "duration": 0,
    "start_time": "2023-02-14T18:37:55.809Z"
   },
   {
    "duration": 0,
    "start_time": "2023-02-14T18:37:55.811Z"
   },
   {
    "duration": 1429,
    "start_time": "2023-02-14T18:49:03.254Z"
   },
   {
    "duration": 36,
    "start_time": "2023-02-14T18:49:04.685Z"
   },
   {
    "duration": 18,
    "start_time": "2023-02-14T18:49:04.723Z"
   },
   {
    "duration": 5,
    "start_time": "2023-02-14T18:49:04.742Z"
   },
   {
    "duration": 41,
    "start_time": "2023-02-14T18:49:04.752Z"
   },
   {
    "duration": 12,
    "start_time": "2023-02-14T18:49:04.795Z"
   },
   {
    "duration": 7,
    "start_time": "2023-02-14T18:49:04.809Z"
   },
   {
    "duration": 40,
    "start_time": "2023-02-14T18:49:04.817Z"
   },
   {
    "duration": 5,
    "start_time": "2023-02-14T18:49:04.858Z"
   },
   {
    "duration": 10,
    "start_time": "2023-02-14T18:49:04.865Z"
   },
   {
    "duration": 213,
    "start_time": "2023-02-14T18:49:04.877Z"
   },
   {
    "duration": 12,
    "start_time": "2023-02-14T18:49:05.093Z"
   },
   {
    "duration": 22,
    "start_time": "2023-02-14T18:49:05.107Z"
   },
   {
    "duration": 1129,
    "start_time": "2023-02-14T18:49:05.153Z"
   },
   {
    "duration": 14,
    "start_time": "2023-02-14T18:49:06.284Z"
   },
   {
    "duration": 71,
    "start_time": "2023-02-14T18:49:06.299Z"
   },
   {
    "duration": 11,
    "start_time": "2023-02-14T18:49:06.372Z"
   },
   {
    "duration": 10,
    "start_time": "2023-02-14T18:49:06.384Z"
   },
   {
    "duration": 7,
    "start_time": "2023-02-14T18:49:06.395Z"
   },
   {
    "duration": 13,
    "start_time": "2023-02-14T18:49:06.404Z"
   },
   {
    "duration": 5,
    "start_time": "2023-02-14T18:49:06.419Z"
   },
   {
    "duration": 8,
    "start_time": "2023-02-14T18:49:06.426Z"
   },
   {
    "duration": 20,
    "start_time": "2023-02-14T18:49:06.436Z"
   },
   {
    "duration": 6,
    "start_time": "2023-02-14T18:49:06.458Z"
   },
   {
    "duration": 6,
    "start_time": "2023-02-14T18:49:06.466Z"
   },
   {
    "duration": 24,
    "start_time": "2023-02-14T18:49:06.473Z"
   },
   {
    "duration": 4,
    "start_time": "2023-02-14T18:49:06.499Z"
   },
   {
    "duration": 7730,
    "start_time": "2023-02-14T18:49:06.504Z"
   },
   {
    "duration": 236,
    "start_time": "2023-02-14T18:49:14.236Z"
   },
   {
    "duration": 290,
    "start_time": "2023-02-14T18:49:14.474Z"
   },
   {
    "duration": 80,
    "start_time": "2023-02-14T18:49:14.766Z"
   },
   {
    "duration": 4,
    "start_time": "2023-02-14T18:49:14.847Z"
   },
   {
    "duration": 54,
    "start_time": "2023-02-14T18:49:14.852Z"
   },
   {
    "duration": 0,
    "start_time": "2023-02-14T18:49:14.908Z"
   },
   {
    "duration": 0,
    "start_time": "2023-02-14T18:49:14.909Z"
   },
   {
    "duration": 0,
    "start_time": "2023-02-14T18:49:14.911Z"
   },
   {
    "duration": 0,
    "start_time": "2023-02-14T18:49:14.912Z"
   },
   {
    "duration": 0,
    "start_time": "2023-02-14T18:49:14.914Z"
   },
   {
    "duration": 0,
    "start_time": "2023-02-14T18:49:14.915Z"
   },
   {
    "duration": 0,
    "start_time": "2023-02-14T18:49:14.916Z"
   },
   {
    "duration": 0,
    "start_time": "2023-02-14T18:49:14.918Z"
   },
   {
    "duration": 0,
    "start_time": "2023-02-14T18:49:14.919Z"
   },
   {
    "duration": 0,
    "start_time": "2023-02-14T18:49:14.919Z"
   },
   {
    "duration": 0,
    "start_time": "2023-02-14T18:49:14.920Z"
   },
   {
    "duration": 0,
    "start_time": "2023-02-14T18:49:14.921Z"
   },
   {
    "duration": 0,
    "start_time": "2023-02-14T18:49:14.922Z"
   },
   {
    "duration": 1560,
    "start_time": "2023-02-14T18:58:12.922Z"
   },
   {
    "duration": 37,
    "start_time": "2023-02-14T18:58:14.483Z"
   },
   {
    "duration": 242,
    "start_time": "2023-02-14T18:58:14.522Z"
   },
   {
    "duration": 4,
    "start_time": "2023-02-14T18:58:14.766Z"
   },
   {
    "duration": 42,
    "start_time": "2023-02-14T18:58:14.772Z"
   },
   {
    "duration": 11,
    "start_time": "2023-02-14T18:58:14.816Z"
   },
   {
    "duration": 25,
    "start_time": "2023-02-14T18:58:14.829Z"
   },
   {
    "duration": 20,
    "start_time": "2023-02-14T18:58:14.856Z"
   },
   {
    "duration": 4,
    "start_time": "2023-02-14T18:58:14.877Z"
   },
   {
    "duration": 12,
    "start_time": "2023-02-14T18:58:14.883Z"
   },
   {
    "duration": 222,
    "start_time": "2023-02-14T18:58:14.896Z"
   },
   {
    "duration": 12,
    "start_time": "2023-02-14T18:58:15.120Z"
   },
   {
    "duration": 32,
    "start_time": "2023-02-14T18:58:15.134Z"
   },
   {
    "duration": 1093,
    "start_time": "2023-02-14T18:58:15.169Z"
   },
   {
    "duration": 19,
    "start_time": "2023-02-14T18:58:16.265Z"
   },
   {
    "duration": 11,
    "start_time": "2023-02-14T18:58:16.286Z"
   },
   {
    "duration": 13,
    "start_time": "2023-02-14T18:58:16.300Z"
   },
   {
    "duration": 19,
    "start_time": "2023-02-14T18:58:16.315Z"
   },
   {
    "duration": 13,
    "start_time": "2023-02-14T18:58:16.336Z"
   },
   {
    "duration": 14,
    "start_time": "2023-02-14T18:58:16.352Z"
   },
   {
    "duration": 7,
    "start_time": "2023-02-14T18:58:16.368Z"
   },
   {
    "duration": 10,
    "start_time": "2023-02-14T18:58:16.377Z"
   },
   {
    "duration": 15,
    "start_time": "2023-02-14T18:58:16.389Z"
   },
   {
    "duration": 8,
    "start_time": "2023-02-14T18:58:16.406Z"
   },
   {
    "duration": 5,
    "start_time": "2023-02-14T18:58:16.415Z"
   },
   {
    "duration": 37,
    "start_time": "2023-02-14T18:58:16.422Z"
   },
   {
    "duration": 4,
    "start_time": "2023-02-14T18:58:16.461Z"
   },
   {
    "duration": 7987,
    "start_time": "2023-02-14T18:58:16.467Z"
   },
   {
    "duration": 187,
    "start_time": "2023-02-14T18:58:24.456Z"
   },
   {
    "duration": 213,
    "start_time": "2023-02-14T18:58:24.645Z"
   },
   {
    "duration": 87,
    "start_time": "2023-02-14T18:58:24.859Z"
   },
   {
    "duration": 3,
    "start_time": "2023-02-14T18:58:24.948Z"
   },
   {
    "duration": 32,
    "start_time": "2023-02-14T18:58:24.953Z"
   },
   {
    "duration": 0,
    "start_time": "2023-02-14T18:58:24.986Z"
   },
   {
    "duration": 0,
    "start_time": "2023-02-14T18:58:24.988Z"
   },
   {
    "duration": 1,
    "start_time": "2023-02-14T18:58:24.988Z"
   },
   {
    "duration": 0,
    "start_time": "2023-02-14T18:58:24.989Z"
   },
   {
    "duration": 0,
    "start_time": "2023-02-14T18:58:24.990Z"
   },
   {
    "duration": 0,
    "start_time": "2023-02-14T18:58:24.991Z"
   },
   {
    "duration": 0,
    "start_time": "2023-02-14T18:58:24.992Z"
   },
   {
    "duration": 0,
    "start_time": "2023-02-14T18:58:24.993Z"
   },
   {
    "duration": 0,
    "start_time": "2023-02-14T18:58:24.994Z"
   },
   {
    "duration": 0,
    "start_time": "2023-02-14T18:58:24.995Z"
   },
   {
    "duration": 0,
    "start_time": "2023-02-14T18:58:24.996Z"
   },
   {
    "duration": 0,
    "start_time": "2023-02-14T18:58:24.997Z"
   },
   {
    "duration": 0,
    "start_time": "2023-02-14T18:58:24.998Z"
   },
   {
    "duration": 1458,
    "start_time": "2023-02-14T19:02:16.121Z"
   },
   {
    "duration": 36,
    "start_time": "2023-02-14T19:02:17.582Z"
   },
   {
    "duration": 16,
    "start_time": "2023-02-14T19:02:17.620Z"
   },
   {
    "duration": 4,
    "start_time": "2023-02-14T19:02:17.638Z"
   },
   {
    "duration": 52,
    "start_time": "2023-02-14T19:02:17.644Z"
   },
   {
    "duration": 65,
    "start_time": "2023-02-14T19:02:17.698Z"
   },
   {
    "duration": 7,
    "start_time": "2023-02-14T19:02:17.765Z"
   },
   {
    "duration": 21,
    "start_time": "2023-02-14T19:02:17.774Z"
   },
   {
    "duration": 4,
    "start_time": "2023-02-14T19:02:17.797Z"
   },
   {
    "duration": 8,
    "start_time": "2023-02-14T19:02:17.803Z"
   },
   {
    "duration": 264,
    "start_time": "2023-02-14T19:02:17.813Z"
   },
   {
    "duration": 14,
    "start_time": "2023-02-14T19:02:18.078Z"
   },
   {
    "duration": 28,
    "start_time": "2023-02-14T19:02:18.094Z"
   },
   {
    "duration": 1138,
    "start_time": "2023-02-14T19:02:18.124Z"
   },
   {
    "duration": 14,
    "start_time": "2023-02-14T19:02:19.264Z"
   },
   {
    "duration": 8,
    "start_time": "2023-02-14T19:02:19.280Z"
   },
   {
    "duration": 10,
    "start_time": "2023-02-14T19:02:19.290Z"
   },
   {
    "duration": 19,
    "start_time": "2023-02-14T19:02:19.302Z"
   },
   {
    "duration": 9,
    "start_time": "2023-02-14T19:02:19.323Z"
   },
   {
    "duration": 20,
    "start_time": "2023-02-14T19:02:19.334Z"
   },
   {
    "duration": 2,
    "start_time": "2023-02-14T19:02:19.356Z"
   },
   {
    "duration": 7,
    "start_time": "2023-02-14T19:02:19.360Z"
   },
   {
    "duration": 8,
    "start_time": "2023-02-14T19:02:19.368Z"
   },
   {
    "duration": 7,
    "start_time": "2023-02-14T19:02:19.378Z"
   },
   {
    "duration": 4,
    "start_time": "2023-02-14T19:02:19.387Z"
   },
   {
    "duration": 20,
    "start_time": "2023-02-14T19:02:19.393Z"
   },
   {
    "duration": 39,
    "start_time": "2023-02-14T19:02:19.415Z"
   },
   {
    "duration": 7876,
    "start_time": "2023-02-14T19:02:19.459Z"
   },
   {
    "duration": 331801,
    "start_time": "2023-02-14T19:02:27.337Z"
   },
   {
    "duration": 17415,
    "start_time": "2023-02-14T19:07:59.140Z"
   },
   {
    "duration": 1511,
    "start_time": "2023-02-14T19:10:01.066Z"
   },
   {
    "duration": 36,
    "start_time": "2023-02-14T19:10:02.579Z"
   },
   {
    "duration": 16,
    "start_time": "2023-02-14T19:10:02.617Z"
   },
   {
    "duration": 14,
    "start_time": "2023-02-14T19:10:02.635Z"
   },
   {
    "duration": 59,
    "start_time": "2023-02-14T19:10:02.651Z"
   },
   {
    "duration": 12,
    "start_time": "2023-02-14T19:10:02.712Z"
   },
   {
    "duration": 8,
    "start_time": "2023-02-14T19:10:02.726Z"
   },
   {
    "duration": 36,
    "start_time": "2023-02-14T19:10:02.735Z"
   },
   {
    "duration": 4,
    "start_time": "2023-02-14T19:10:02.773Z"
   },
   {
    "duration": 15,
    "start_time": "2023-02-14T19:10:02.778Z"
   },
   {
    "duration": 199,
    "start_time": "2023-02-14T19:10:02.795Z"
   },
   {
    "duration": 10,
    "start_time": "2023-02-14T19:10:02.995Z"
   },
   {
    "duration": 18,
    "start_time": "2023-02-14T19:10:03.006Z"
   },
   {
    "duration": 1067,
    "start_time": "2023-02-14T19:10:03.027Z"
   },
   {
    "duration": 14,
    "start_time": "2023-02-14T19:10:04.096Z"
   },
   {
    "duration": 9,
    "start_time": "2023-02-14T19:10:04.112Z"
   },
   {
    "duration": 11,
    "start_time": "2023-02-14T19:10:04.123Z"
   },
   {
    "duration": 10,
    "start_time": "2023-02-14T19:10:04.135Z"
   },
   {
    "duration": 6,
    "start_time": "2023-02-14T19:10:04.146Z"
   },
   {
    "duration": 15,
    "start_time": "2023-02-14T19:10:04.154Z"
   },
   {
    "duration": 4,
    "start_time": "2023-02-14T19:10:04.171Z"
   },
   {
    "duration": 10,
    "start_time": "2023-02-14T19:10:04.176Z"
   },
   {
    "duration": 8,
    "start_time": "2023-02-14T19:10:04.188Z"
   },
   {
    "duration": 5,
    "start_time": "2023-02-14T19:10:04.197Z"
   },
   {
    "duration": 5,
    "start_time": "2023-02-14T19:10:04.204Z"
   },
   {
    "duration": 22,
    "start_time": "2023-02-14T19:10:04.211Z"
   },
   {
    "duration": 20,
    "start_time": "2023-02-14T19:10:04.235Z"
   },
   {
    "duration": 8083,
    "start_time": "2023-02-14T19:10:04.258Z"
   },
   {
    "duration": 341829,
    "start_time": "2023-02-14T19:10:12.353Z"
   },
   {
    "duration": 21877,
    "start_time": "2023-02-14T19:15:54.184Z"
   },
   {
    "duration": 347547,
    "start_time": "2023-02-14T19:16:16.064Z"
   },
   {
    "duration": 4,
    "start_time": "2023-02-14T19:22:03.613Z"
   },
   {
    "duration": 162,
    "start_time": "2023-02-14T19:22:03.619Z"
   },
   {
    "duration": 0,
    "start_time": "2023-02-14T19:22:03.783Z"
   },
   {
    "duration": 0,
    "start_time": "2023-02-14T19:22:03.785Z"
   },
   {
    "duration": 0,
    "start_time": "2023-02-14T19:22:03.787Z"
   },
   {
    "duration": 0,
    "start_time": "2023-02-14T19:22:03.790Z"
   },
   {
    "duration": 0,
    "start_time": "2023-02-14T19:22:03.791Z"
   },
   {
    "duration": 0,
    "start_time": "2023-02-14T19:22:03.793Z"
   },
   {
    "duration": 0,
    "start_time": "2023-02-14T19:22:03.795Z"
   },
   {
    "duration": 0,
    "start_time": "2023-02-14T19:22:03.797Z"
   },
   {
    "duration": 0,
    "start_time": "2023-02-14T19:22:03.798Z"
   },
   {
    "duration": 0,
    "start_time": "2023-02-14T19:22:03.800Z"
   },
   {
    "duration": 0,
    "start_time": "2023-02-14T19:22:03.801Z"
   },
   {
    "duration": 0,
    "start_time": "2023-02-14T19:22:03.803Z"
   },
   {
    "duration": 0,
    "start_time": "2023-02-14T19:22:03.804Z"
   },
   {
    "duration": 1477,
    "start_time": "2023-02-14T19:38:36.866Z"
   },
   {
    "duration": 36,
    "start_time": "2023-02-14T19:38:38.345Z"
   },
   {
    "duration": 16,
    "start_time": "2023-02-14T19:38:38.383Z"
   },
   {
    "duration": 4,
    "start_time": "2023-02-14T19:38:38.400Z"
   },
   {
    "duration": 49,
    "start_time": "2023-02-14T19:38:38.406Z"
   },
   {
    "duration": 14,
    "start_time": "2023-02-14T19:38:38.457Z"
   },
   {
    "duration": 7,
    "start_time": "2023-02-14T19:38:38.473Z"
   },
   {
    "duration": 17,
    "start_time": "2023-02-14T19:38:38.482Z"
   },
   {
    "duration": 4,
    "start_time": "2023-02-14T19:38:38.501Z"
   },
   {
    "duration": 7,
    "start_time": "2023-02-14T19:38:38.508Z"
   },
   {
    "duration": 239,
    "start_time": "2023-02-14T19:38:38.516Z"
   },
   {
    "duration": 11,
    "start_time": "2023-02-14T19:38:38.757Z"
   },
   {
    "duration": 20,
    "start_time": "2023-02-14T19:38:38.769Z"
   },
   {
    "duration": 1112,
    "start_time": "2023-02-14T19:38:38.790Z"
   },
   {
    "duration": 14,
    "start_time": "2023-02-14T19:38:39.905Z"
   },
   {
    "duration": 20,
    "start_time": "2023-02-14T19:38:39.922Z"
   },
   {
    "duration": 8,
    "start_time": "2023-02-14T19:38:39.944Z"
   },
   {
    "duration": 7,
    "start_time": "2023-02-14T19:38:39.954Z"
   },
   {
    "duration": 8,
    "start_time": "2023-02-14T19:38:39.962Z"
   },
   {
    "duration": 25,
    "start_time": "2023-02-14T19:38:39.971Z"
   },
   {
    "duration": 10,
    "start_time": "2023-02-14T19:38:39.998Z"
   },
   {
    "duration": 18,
    "start_time": "2023-02-14T19:38:40.010Z"
   },
   {
    "duration": 20,
    "start_time": "2023-02-14T19:38:40.029Z"
   },
   {
    "duration": 6,
    "start_time": "2023-02-14T19:38:40.051Z"
   },
   {
    "duration": 5,
    "start_time": "2023-02-14T19:38:40.059Z"
   },
   {
    "duration": 25,
    "start_time": "2023-02-14T19:38:40.065Z"
   },
   {
    "duration": 4,
    "start_time": "2023-02-14T19:38:40.091Z"
   },
   {
    "duration": 7874,
    "start_time": "2023-02-14T19:38:40.098Z"
   },
   {
    "duration": 1427,
    "start_time": "2023-02-14T19:40:26.656Z"
   },
   {
    "duration": 42,
    "start_time": "2023-02-14T19:40:28.086Z"
   },
   {
    "duration": 22,
    "start_time": "2023-02-14T19:40:28.131Z"
   },
   {
    "duration": 9,
    "start_time": "2023-02-14T19:40:28.155Z"
   },
   {
    "duration": 62,
    "start_time": "2023-02-14T19:40:28.166Z"
   },
   {
    "duration": 16,
    "start_time": "2023-02-14T19:40:28.231Z"
   },
   {
    "duration": 10,
    "start_time": "2023-02-14T19:40:28.254Z"
   },
   {
    "duration": 33,
    "start_time": "2023-02-14T19:40:28.266Z"
   },
   {
    "duration": 4,
    "start_time": "2023-02-14T19:40:28.301Z"
   },
   {
    "duration": 7,
    "start_time": "2023-02-14T19:40:28.307Z"
   },
   {
    "duration": 204,
    "start_time": "2023-02-14T19:40:28.316Z"
   },
   {
    "duration": 11,
    "start_time": "2023-02-14T19:40:28.522Z"
   },
   {
    "duration": 32,
    "start_time": "2023-02-14T19:40:28.534Z"
   },
   {
    "duration": 1094,
    "start_time": "2023-02-14T19:40:28.568Z"
   },
   {
    "duration": 13,
    "start_time": "2023-02-14T19:40:29.664Z"
   },
   {
    "duration": 9,
    "start_time": "2023-02-14T19:40:29.678Z"
   },
   {
    "duration": 10,
    "start_time": "2023-02-14T19:40:29.688Z"
   },
   {
    "duration": 11,
    "start_time": "2023-02-14T19:40:29.699Z"
   },
   {
    "duration": 7,
    "start_time": "2023-02-14T19:40:29.711Z"
   },
   {
    "duration": 13,
    "start_time": "2023-02-14T19:40:29.720Z"
   },
   {
    "duration": 32,
    "start_time": "2023-02-14T19:40:29.734Z"
   },
   {
    "duration": 24,
    "start_time": "2023-02-14T19:40:29.768Z"
   },
   {
    "duration": 12,
    "start_time": "2023-02-14T19:40:29.794Z"
   },
   {
    "duration": 14,
    "start_time": "2023-02-14T19:40:29.808Z"
   },
   {
    "duration": 14,
    "start_time": "2023-02-14T19:40:29.824Z"
   },
   {
    "duration": 33,
    "start_time": "2023-02-14T19:40:29.840Z"
   },
   {
    "duration": 3,
    "start_time": "2023-02-14T19:40:29.875Z"
   },
   {
    "duration": 7793,
    "start_time": "2023-02-14T19:40:29.881Z"
   },
   {
    "duration": 1461,
    "start_time": "2023-02-14T19:45:58.104Z"
   },
   {
    "duration": 42,
    "start_time": "2023-02-14T19:45:59.567Z"
   },
   {
    "duration": 22,
    "start_time": "2023-02-14T19:45:59.611Z"
   },
   {
    "duration": 5,
    "start_time": "2023-02-14T19:45:59.635Z"
   },
   {
    "duration": 50,
    "start_time": "2023-02-14T19:45:59.641Z"
   },
   {
    "duration": 15,
    "start_time": "2023-02-14T19:45:59.693Z"
   },
   {
    "duration": 8,
    "start_time": "2023-02-14T19:45:59.711Z"
   },
   {
    "duration": 49,
    "start_time": "2023-02-14T19:45:59.720Z"
   },
   {
    "duration": 4,
    "start_time": "2023-02-14T19:45:59.771Z"
   },
   {
    "duration": 11,
    "start_time": "2023-02-14T19:45:59.778Z"
   },
   {
    "duration": 218,
    "start_time": "2023-02-14T19:45:59.791Z"
   },
   {
    "duration": 12,
    "start_time": "2023-02-14T19:46:00.011Z"
   },
   {
    "duration": 32,
    "start_time": "2023-02-14T19:46:00.025Z"
   },
   {
    "duration": 1071,
    "start_time": "2023-02-14T19:46:00.059Z"
   },
   {
    "duration": 15,
    "start_time": "2023-02-14T19:46:01.133Z"
   },
   {
    "duration": 54,
    "start_time": "2023-02-14T19:46:01.150Z"
   },
   {
    "duration": 94,
    "start_time": "2023-02-14T19:46:01.207Z"
   },
   {
    "duration": 108,
    "start_time": "2023-02-14T19:46:01.303Z"
   },
   {
    "duration": 56,
    "start_time": "2023-02-14T19:46:01.413Z"
   },
   {
    "duration": 41,
    "start_time": "2023-02-14T19:46:01.471Z"
   },
   {
    "duration": 43,
    "start_time": "2023-02-14T19:46:01.513Z"
   },
   {
    "duration": 43,
    "start_time": "2023-02-14T19:46:01.557Z"
   },
   {
    "duration": 35,
    "start_time": "2023-02-14T19:46:01.602Z"
   },
   {
    "duration": 72,
    "start_time": "2023-02-14T19:46:01.639Z"
   },
   {
    "duration": 29,
    "start_time": "2023-02-14T19:46:01.712Z"
   },
   {
    "duration": 40,
    "start_time": "2023-02-14T19:46:01.743Z"
   },
   {
    "duration": 5,
    "start_time": "2023-02-14T19:46:01.785Z"
   },
   {
    "duration": 7937,
    "start_time": "2023-02-14T19:46:01.794Z"
   },
   {
    "duration": 347581,
    "start_time": "2023-02-14T19:46:09.733Z"
   },
   {
    "duration": 18538,
    "start_time": "2023-02-14T19:51:57.315Z"
   },
   {
    "duration": 1357,
    "start_time": "2023-02-14T19:52:41.711Z"
   },
   {
    "duration": 38,
    "start_time": "2023-02-14T19:52:43.070Z"
   },
   {
    "duration": 16,
    "start_time": "2023-02-14T19:52:43.110Z"
   },
   {
    "duration": 5,
    "start_time": "2023-02-14T19:52:43.128Z"
   },
   {
    "duration": 43,
    "start_time": "2023-02-14T19:52:43.134Z"
   },
   {
    "duration": 11,
    "start_time": "2023-02-14T19:52:43.179Z"
   },
   {
    "duration": 7,
    "start_time": "2023-02-14T19:52:43.191Z"
   },
   {
    "duration": 18,
    "start_time": "2023-02-14T19:52:43.200Z"
   },
   {
    "duration": 3,
    "start_time": "2023-02-14T19:52:43.220Z"
   },
   {
    "duration": 33,
    "start_time": "2023-02-14T19:52:43.225Z"
   },
   {
    "duration": 207,
    "start_time": "2023-02-14T19:52:43.260Z"
   },
   {
    "duration": 12,
    "start_time": "2023-02-14T19:52:43.468Z"
   },
   {
    "duration": 20,
    "start_time": "2023-02-14T19:52:43.482Z"
   },
   {
    "duration": 1058,
    "start_time": "2023-02-14T19:52:43.504Z"
   },
   {
    "duration": 12,
    "start_time": "2023-02-14T19:52:44.564Z"
   },
   {
    "duration": 20,
    "start_time": "2023-02-14T19:52:44.578Z"
   },
   {
    "duration": 30,
    "start_time": "2023-02-14T19:52:44.599Z"
   },
   {
    "duration": 13,
    "start_time": "2023-02-14T19:52:44.630Z"
   },
   {
    "duration": 7,
    "start_time": "2023-02-14T19:52:44.645Z"
   },
   {
    "duration": 17,
    "start_time": "2023-02-14T19:52:44.653Z"
   },
   {
    "duration": 9,
    "start_time": "2023-02-14T19:52:44.672Z"
   },
   {
    "duration": 7,
    "start_time": "2023-02-14T19:52:44.683Z"
   },
   {
    "duration": 12,
    "start_time": "2023-02-14T19:52:44.692Z"
   },
   {
    "duration": 6,
    "start_time": "2023-02-14T19:52:44.706Z"
   },
   {
    "duration": 5,
    "start_time": "2023-02-14T19:52:44.714Z"
   },
   {
    "duration": 24,
    "start_time": "2023-02-14T19:52:44.720Z"
   },
   {
    "duration": 10,
    "start_time": "2023-02-14T19:52:44.745Z"
   },
   {
    "duration": 7749,
    "start_time": "2023-02-14T19:52:44.759Z"
   },
   {
    "duration": 344519,
    "start_time": "2023-02-14T19:52:52.509Z"
   },
   {
    "duration": 16628,
    "start_time": "2023-02-14T19:58:37.030Z"
   },
   {
    "duration": 1380,
    "start_time": "2023-02-14T20:06:57.686Z"
   },
   {
    "duration": 38,
    "start_time": "2023-02-14T20:06:59.068Z"
   },
   {
    "duration": 22,
    "start_time": "2023-02-14T20:06:59.108Z"
   },
   {
    "duration": 6,
    "start_time": "2023-02-14T20:06:59.132Z"
   },
   {
    "duration": 50,
    "start_time": "2023-02-14T20:06:59.139Z"
   },
   {
    "duration": 14,
    "start_time": "2023-02-14T20:06:59.190Z"
   },
   {
    "duration": 8,
    "start_time": "2023-02-14T20:06:59.205Z"
   },
   {
    "duration": 43,
    "start_time": "2023-02-14T20:06:59.215Z"
   },
   {
    "duration": 4,
    "start_time": "2023-02-14T20:06:59.260Z"
   },
   {
    "duration": 7,
    "start_time": "2023-02-14T20:06:59.266Z"
   },
   {
    "duration": 204,
    "start_time": "2023-02-14T20:06:59.275Z"
   },
   {
    "duration": 13,
    "start_time": "2023-02-14T20:06:59.481Z"
   },
   {
    "duration": 19,
    "start_time": "2023-02-14T20:06:59.496Z"
   },
   {
    "duration": 1089,
    "start_time": "2023-02-14T20:06:59.517Z"
   },
   {
    "duration": 14,
    "start_time": "2023-02-14T20:07:00.608Z"
   },
   {
    "duration": 33,
    "start_time": "2023-02-14T20:07:00.623Z"
   },
   {
    "duration": 49,
    "start_time": "2023-02-14T20:07:00.658Z"
   },
   {
    "duration": 27,
    "start_time": "2023-02-14T20:07:00.709Z"
   },
   {
    "duration": 39,
    "start_time": "2023-02-14T20:07:00.738Z"
   },
   {
    "duration": 53,
    "start_time": "2023-02-14T20:07:00.779Z"
   },
   {
    "duration": 36,
    "start_time": "2023-02-14T20:07:00.833Z"
   },
   {
    "duration": 21,
    "start_time": "2023-02-14T20:07:00.871Z"
   },
   {
    "duration": 38,
    "start_time": "2023-02-14T20:07:00.894Z"
   },
   {
    "duration": 34,
    "start_time": "2023-02-14T20:07:00.934Z"
   },
   {
    "duration": 18,
    "start_time": "2023-02-14T20:07:00.970Z"
   },
   {
    "duration": 59,
    "start_time": "2023-02-14T20:07:00.990Z"
   },
   {
    "duration": 19,
    "start_time": "2023-02-14T20:07:01.051Z"
   },
   {
    "duration": 7890,
    "start_time": "2023-02-14T20:07:01.074Z"
   },
   {
    "duration": 1591,
    "start_time": "2023-02-14T20:11:34.758Z"
   },
   {
    "duration": 42,
    "start_time": "2023-02-14T20:11:36.353Z"
   },
   {
    "duration": 18,
    "start_time": "2023-02-14T20:11:36.396Z"
   },
   {
    "duration": 5,
    "start_time": "2023-02-14T20:11:36.416Z"
   },
   {
    "duration": 50,
    "start_time": "2023-02-14T20:11:36.422Z"
   },
   {
    "duration": 14,
    "start_time": "2023-02-14T20:11:36.474Z"
   },
   {
    "duration": 8,
    "start_time": "2023-02-14T20:11:36.490Z"
   },
   {
    "duration": 19,
    "start_time": "2023-02-14T20:11:36.501Z"
   },
   {
    "duration": 33,
    "start_time": "2023-02-14T20:11:36.523Z"
   },
   {
    "duration": 23,
    "start_time": "2023-02-14T20:11:36.559Z"
   },
   {
    "duration": 202,
    "start_time": "2023-02-14T20:11:36.584Z"
   },
   {
    "duration": 11,
    "start_time": "2023-02-14T20:11:36.787Z"
   },
   {
    "duration": 19,
    "start_time": "2023-02-14T20:11:36.799Z"
   },
   {
    "duration": 1110,
    "start_time": "2023-02-14T20:11:36.820Z"
   },
   {
    "duration": 13,
    "start_time": "2023-02-14T20:11:37.932Z"
   },
   {
    "duration": 58,
    "start_time": "2023-02-14T20:11:37.946Z"
   },
   {
    "duration": 32,
    "start_time": "2023-02-14T20:11:38.005Z"
   },
   {
    "duration": 44,
    "start_time": "2023-02-14T20:11:38.039Z"
   },
   {
    "duration": 18,
    "start_time": "2023-02-14T20:11:38.085Z"
   },
   {
    "duration": 42,
    "start_time": "2023-02-14T20:11:38.105Z"
   },
   {
    "duration": 33,
    "start_time": "2023-02-14T20:11:38.148Z"
   },
   {
    "duration": 33,
    "start_time": "2023-02-14T20:11:38.183Z"
   },
   {
    "duration": 48,
    "start_time": "2023-02-14T20:11:38.218Z"
   },
   {
    "duration": 35,
    "start_time": "2023-02-14T20:11:38.267Z"
   },
   {
    "duration": 22,
    "start_time": "2023-02-14T20:11:38.304Z"
   },
   {
    "duration": 34,
    "start_time": "2023-02-14T20:11:38.328Z"
   },
   {
    "duration": 34,
    "start_time": "2023-02-14T20:11:38.364Z"
   },
   {
    "duration": 7852,
    "start_time": "2023-02-14T20:11:38.402Z"
   },
   {
    "duration": 345498,
    "start_time": "2023-02-14T20:11:46.256Z"
   },
   {
    "duration": 16508,
    "start_time": "2023-02-14T20:17:31.756Z"
   },
   {
    "duration": 318377,
    "start_time": "2023-02-14T20:17:48.355Z"
   },
   {
    "duration": 4,
    "start_time": "2023-02-14T20:23:06.734Z"
   },
   {
    "duration": 158,
    "start_time": "2023-02-14T20:23:06.739Z"
   },
   {
    "duration": 0,
    "start_time": "2023-02-14T20:23:06.898Z"
   },
   {
    "duration": 0,
    "start_time": "2023-02-14T20:23:06.899Z"
   },
   {
    "duration": 0,
    "start_time": "2023-02-14T20:23:06.900Z"
   },
   {
    "duration": 0,
    "start_time": "2023-02-14T20:23:06.901Z"
   },
   {
    "duration": 0,
    "start_time": "2023-02-14T20:23:06.902Z"
   },
   {
    "duration": 0,
    "start_time": "2023-02-14T20:23:06.903Z"
   },
   {
    "duration": 0,
    "start_time": "2023-02-14T20:23:06.904Z"
   },
   {
    "duration": 0,
    "start_time": "2023-02-14T20:23:06.905Z"
   },
   {
    "duration": 0,
    "start_time": "2023-02-14T20:23:06.906Z"
   },
   {
    "duration": 0,
    "start_time": "2023-02-14T20:23:06.906Z"
   },
   {
    "duration": 0,
    "start_time": "2023-02-14T20:23:06.907Z"
   },
   {
    "duration": 1427,
    "start_time": "2023-02-14T20:28:47.626Z"
   },
   {
    "duration": 38,
    "start_time": "2023-02-14T20:28:49.055Z"
   },
   {
    "duration": 17,
    "start_time": "2023-02-14T20:28:49.095Z"
   },
   {
    "duration": 5,
    "start_time": "2023-02-14T20:28:49.114Z"
   },
   {
    "duration": 38,
    "start_time": "2023-02-14T20:28:49.121Z"
   },
   {
    "duration": 11,
    "start_time": "2023-02-14T20:28:49.161Z"
   },
   {
    "duration": 7,
    "start_time": "2023-02-14T20:28:49.174Z"
   },
   {
    "duration": 18,
    "start_time": "2023-02-14T20:28:49.182Z"
   },
   {
    "duration": 4,
    "start_time": "2023-02-14T20:28:49.202Z"
   },
   {
    "duration": 7,
    "start_time": "2023-02-14T20:28:49.208Z"
   },
   {
    "duration": 232,
    "start_time": "2023-02-14T20:28:49.216Z"
   },
   {
    "duration": 12,
    "start_time": "2023-02-14T20:28:49.453Z"
   },
   {
    "duration": 26,
    "start_time": "2023-02-14T20:28:49.466Z"
   },
   {
    "duration": 1124,
    "start_time": "2023-02-14T20:28:49.494Z"
   },
   {
    "duration": 14,
    "start_time": "2023-02-14T20:28:50.620Z"
   },
   {
    "duration": 8,
    "start_time": "2023-02-14T20:28:50.636Z"
   },
   {
    "duration": 7,
    "start_time": "2023-02-14T20:28:50.646Z"
   },
   {
    "duration": 6,
    "start_time": "2023-02-14T20:28:50.655Z"
   },
   {
    "duration": 6,
    "start_time": "2023-02-14T20:28:50.663Z"
   },
   {
    "duration": 13,
    "start_time": "2023-02-14T20:28:50.670Z"
   },
   {
    "duration": 6,
    "start_time": "2023-02-14T20:28:50.685Z"
   },
   {
    "duration": 5,
    "start_time": "2023-02-14T20:28:50.693Z"
   },
   {
    "duration": 9,
    "start_time": "2023-02-14T20:28:50.700Z"
   },
   {
    "duration": 6,
    "start_time": "2023-02-14T20:28:50.710Z"
   },
   {
    "duration": 5,
    "start_time": "2023-02-14T20:28:50.717Z"
   },
   {
    "duration": 23,
    "start_time": "2023-02-14T20:28:50.754Z"
   },
   {
    "duration": 4,
    "start_time": "2023-02-14T20:28:50.779Z"
   },
   {
    "duration": 8733,
    "start_time": "2023-02-14T20:28:50.787Z"
   },
   {
    "duration": 339510,
    "start_time": "2023-02-14T20:28:59.522Z"
   },
   {
    "duration": 19621,
    "start_time": "2023-02-14T20:34:39.034Z"
   },
   {
    "duration": 1413,
    "start_time": "2023-02-14T20:36:12.754Z"
   },
   {
    "duration": 37,
    "start_time": "2023-02-14T20:36:14.169Z"
   },
   {
    "duration": 17,
    "start_time": "2023-02-14T20:36:14.208Z"
   },
   {
    "duration": 5,
    "start_time": "2023-02-14T20:36:14.227Z"
   },
   {
    "duration": 44,
    "start_time": "2023-02-14T20:36:14.234Z"
   },
   {
    "duration": 12,
    "start_time": "2023-02-14T20:36:14.280Z"
   },
   {
    "duration": 7,
    "start_time": "2023-02-14T20:36:14.294Z"
   },
   {
    "duration": 18,
    "start_time": "2023-02-14T20:36:14.303Z"
   },
   {
    "duration": 30,
    "start_time": "2023-02-14T20:36:14.323Z"
   },
   {
    "duration": 7,
    "start_time": "2023-02-14T20:36:14.355Z"
   },
   {
    "duration": 202,
    "start_time": "2023-02-14T20:36:14.364Z"
   },
   {
    "duration": 12,
    "start_time": "2023-02-14T20:36:14.567Z"
   },
   {
    "duration": 21,
    "start_time": "2023-02-14T20:36:14.581Z"
   },
   {
    "duration": 1073,
    "start_time": "2023-02-14T20:36:14.605Z"
   },
   {
    "duration": 13,
    "start_time": "2023-02-14T20:36:15.680Z"
   },
   {
    "duration": 16,
    "start_time": "2023-02-14T20:36:15.694Z"
   },
   {
    "duration": 12,
    "start_time": "2023-02-14T20:36:15.711Z"
   },
   {
    "duration": 21,
    "start_time": "2023-02-14T20:36:15.725Z"
   },
   {
    "duration": 5,
    "start_time": "2023-02-14T20:36:15.749Z"
   },
   {
    "duration": 18,
    "start_time": "2023-02-14T20:36:15.755Z"
   },
   {
    "duration": 4,
    "start_time": "2023-02-14T20:36:15.775Z"
   },
   {
    "duration": 7,
    "start_time": "2023-02-14T20:36:15.780Z"
   },
   {
    "duration": 10,
    "start_time": "2023-02-14T20:36:15.788Z"
   },
   {
    "duration": 6,
    "start_time": "2023-02-14T20:36:15.799Z"
   },
   {
    "duration": 6,
    "start_time": "2023-02-14T20:36:15.806Z"
   },
   {
    "duration": 47,
    "start_time": "2023-02-14T20:36:15.813Z"
   },
   {
    "duration": 5,
    "start_time": "2023-02-14T20:36:15.861Z"
   },
   {
    "duration": 8673,
    "start_time": "2023-02-14T20:36:15.868Z"
   },
   {
    "duration": 340079,
    "start_time": "2023-02-14T20:36:24.553Z"
   },
   {
    "duration": 19820,
    "start_time": "2023-02-14T20:42:04.634Z"
   },
   {
    "duration": 1407,
    "start_time": "2023-02-14T20:44:50.634Z"
   },
   {
    "duration": 37,
    "start_time": "2023-02-14T20:44:52.043Z"
   },
   {
    "duration": 16,
    "start_time": "2023-02-14T20:44:52.082Z"
   },
   {
    "duration": 4,
    "start_time": "2023-02-14T20:44:52.100Z"
   },
   {
    "duration": 49,
    "start_time": "2023-02-14T20:44:52.106Z"
   },
   {
    "duration": 13,
    "start_time": "2023-02-14T20:44:52.158Z"
   },
   {
    "duration": 8,
    "start_time": "2023-02-14T20:44:52.173Z"
   },
   {
    "duration": 17,
    "start_time": "2023-02-14T20:44:52.183Z"
   },
   {
    "duration": 4,
    "start_time": "2023-02-14T20:44:52.202Z"
   },
   {
    "duration": 17,
    "start_time": "2023-02-14T20:44:52.208Z"
   },
   {
    "duration": 219,
    "start_time": "2023-02-14T20:44:52.227Z"
   },
   {
    "duration": 10,
    "start_time": "2023-02-14T20:44:52.453Z"
   },
   {
    "duration": 19,
    "start_time": "2023-02-14T20:44:52.465Z"
   },
   {
    "duration": 1068,
    "start_time": "2023-02-14T20:44:52.486Z"
   },
   {
    "duration": 15,
    "start_time": "2023-02-14T20:44:53.556Z"
   },
   {
    "duration": 15,
    "start_time": "2023-02-14T20:44:53.573Z"
   },
   {
    "duration": 8,
    "start_time": "2023-02-14T20:44:53.590Z"
   },
   {
    "duration": 9,
    "start_time": "2023-02-14T20:44:53.599Z"
   },
   {
    "duration": 11,
    "start_time": "2023-02-14T20:44:53.610Z"
   },
   {
    "duration": 20,
    "start_time": "2023-02-14T20:44:53.623Z"
   },
   {
    "duration": 9,
    "start_time": "2023-02-14T20:44:53.645Z"
   },
   {
    "duration": 9,
    "start_time": "2023-02-14T20:44:53.656Z"
   },
   {
    "duration": 12,
    "start_time": "2023-02-14T20:44:53.666Z"
   },
   {
    "duration": 7,
    "start_time": "2023-02-14T20:44:53.680Z"
   },
   {
    "duration": 14,
    "start_time": "2023-02-14T20:44:53.689Z"
   },
   {
    "duration": 24,
    "start_time": "2023-02-14T20:44:53.705Z"
   },
   {
    "duration": 4,
    "start_time": "2023-02-14T20:44:53.731Z"
   },
   {
    "duration": 8612,
    "start_time": "2023-02-14T20:44:53.753Z"
   },
   {
    "duration": 336632,
    "start_time": "2023-02-14T20:45:02.367Z"
   },
   {
    "duration": 20553,
    "start_time": "2023-02-14T20:50:39.001Z"
   },
   {
    "duration": 308006,
    "start_time": "2023-02-14T20:50:59.556Z"
   },
   {
    "duration": 5,
    "start_time": "2023-02-14T20:56:07.564Z"
   },
   {
    "duration": 146,
    "start_time": "2023-02-14T20:56:07.571Z"
   },
   {
    "duration": 0,
    "start_time": "2023-02-14T20:56:07.719Z"
   },
   {
    "duration": 0,
    "start_time": "2023-02-14T20:56:07.721Z"
   },
   {
    "duration": 0,
    "start_time": "2023-02-14T20:56:07.722Z"
   },
   {
    "duration": 0,
    "start_time": "2023-02-14T20:56:07.723Z"
   },
   {
    "duration": 0,
    "start_time": "2023-02-14T20:56:07.724Z"
   },
   {
    "duration": 0,
    "start_time": "2023-02-14T20:56:07.725Z"
   },
   {
    "duration": 0,
    "start_time": "2023-02-14T20:56:07.726Z"
   },
   {
    "duration": 0,
    "start_time": "2023-02-14T20:56:07.728Z"
   },
   {
    "duration": 0,
    "start_time": "2023-02-14T20:56:07.729Z"
   },
   {
    "duration": 0,
    "start_time": "2023-02-14T20:56:07.730Z"
   },
   {
    "duration": 0,
    "start_time": "2023-02-14T20:56:07.731Z"
   },
   {
    "duration": 1363,
    "start_time": "2023-02-14T21:02:57.573Z"
   },
   {
    "duration": 37,
    "start_time": "2023-02-14T21:02:58.938Z"
   },
   {
    "duration": 16,
    "start_time": "2023-02-14T21:02:58.976Z"
   },
   {
    "duration": 5,
    "start_time": "2023-02-14T21:02:58.999Z"
   },
   {
    "duration": 49,
    "start_time": "2023-02-14T21:02:59.005Z"
   },
   {
    "duration": 12,
    "start_time": "2023-02-14T21:02:59.056Z"
   },
   {
    "duration": 9,
    "start_time": "2023-02-14T21:02:59.070Z"
   },
   {
    "duration": 22,
    "start_time": "2023-02-14T21:02:59.080Z"
   },
   {
    "duration": 8,
    "start_time": "2023-02-14T21:02:59.104Z"
   },
   {
    "duration": 10,
    "start_time": "2023-02-14T21:02:59.114Z"
   },
   {
    "duration": 214,
    "start_time": "2023-02-14T21:02:59.126Z"
   },
   {
    "duration": 15,
    "start_time": "2023-02-14T21:02:59.342Z"
   },
   {
    "duration": 19,
    "start_time": "2023-02-14T21:02:59.359Z"
   },
   {
    "duration": 1078,
    "start_time": "2023-02-14T21:02:59.380Z"
   },
   {
    "duration": 13,
    "start_time": "2023-02-14T21:03:00.461Z"
   },
   {
    "duration": 27,
    "start_time": "2023-02-14T21:03:00.476Z"
   },
   {
    "duration": 23,
    "start_time": "2023-02-14T21:03:00.505Z"
   },
   {
    "duration": 38,
    "start_time": "2023-02-14T21:03:00.530Z"
   },
   {
    "duration": 48,
    "start_time": "2023-02-14T21:03:00.570Z"
   },
   {
    "duration": 34,
    "start_time": "2023-02-14T21:03:00.619Z"
   },
   {
    "duration": 24,
    "start_time": "2023-02-14T21:03:00.655Z"
   },
   {
    "duration": 26,
    "start_time": "2023-02-14T21:03:00.680Z"
   },
   {
    "duration": 46,
    "start_time": "2023-02-14T21:03:00.708Z"
   },
   {
    "duration": 23,
    "start_time": "2023-02-14T21:03:00.756Z"
   },
   {
    "duration": 43,
    "start_time": "2023-02-14T21:03:00.781Z"
   },
   {
    "duration": 50,
    "start_time": "2023-02-14T21:03:00.826Z"
   },
   {
    "duration": 13,
    "start_time": "2023-02-14T21:03:00.878Z"
   },
   {
    "duration": 8750,
    "start_time": "2023-02-14T21:03:00.893Z"
   },
   {
    "duration": 336238,
    "start_time": "2023-02-14T21:03:09.644Z"
   },
   {
    "duration": 19281,
    "start_time": "2023-02-14T21:08:45.883Z"
   },
   {
    "duration": 311032,
    "start_time": "2023-02-14T21:09:05.255Z"
   },
   {
    "duration": 4,
    "start_time": "2023-02-14T21:14:16.289Z"
   },
   {
    "duration": 133,
    "start_time": "2023-02-14T21:14:16.295Z"
   },
   {
    "duration": 0,
    "start_time": "2023-02-14T21:14:16.430Z"
   },
   {
    "duration": 0,
    "start_time": "2023-02-14T21:14:16.431Z"
   },
   {
    "duration": 0,
    "start_time": "2023-02-14T21:14:16.433Z"
   },
   {
    "duration": 0,
    "start_time": "2023-02-14T21:14:16.435Z"
   },
   {
    "duration": 0,
    "start_time": "2023-02-14T21:14:16.436Z"
   },
   {
    "duration": 0,
    "start_time": "2023-02-14T21:14:16.437Z"
   },
   {
    "duration": 0,
    "start_time": "2023-02-14T21:14:16.438Z"
   },
   {
    "duration": 0,
    "start_time": "2023-02-14T21:14:16.439Z"
   },
   {
    "duration": 0,
    "start_time": "2023-02-14T21:14:16.440Z"
   },
   {
    "duration": 0,
    "start_time": "2023-02-14T21:14:16.454Z"
   },
   {
    "duration": 0,
    "start_time": "2023-02-14T21:14:16.455Z"
   },
   {
    "duration": 1400,
    "start_time": "2023-02-14T21:25:27.204Z"
   },
   {
    "duration": 36,
    "start_time": "2023-02-14T21:25:28.606Z"
   },
   {
    "duration": 15,
    "start_time": "2023-02-14T21:25:28.644Z"
   },
   {
    "duration": 11,
    "start_time": "2023-02-14T21:25:28.661Z"
   },
   {
    "duration": 50,
    "start_time": "2023-02-14T21:25:28.674Z"
   },
   {
    "duration": 10,
    "start_time": "2023-02-14T21:25:28.726Z"
   },
   {
    "duration": 6,
    "start_time": "2023-02-14T21:25:28.738Z"
   },
   {
    "duration": 17,
    "start_time": "2023-02-14T21:25:28.745Z"
   },
   {
    "duration": 4,
    "start_time": "2023-02-14T21:25:28.764Z"
   },
   {
    "duration": 12,
    "start_time": "2023-02-14T21:25:28.770Z"
   },
   {
    "duration": 201,
    "start_time": "2023-02-14T21:25:28.784Z"
   },
   {
    "duration": 12,
    "start_time": "2023-02-14T21:25:28.987Z"
   },
   {
    "duration": 18,
    "start_time": "2023-02-14T21:25:29.000Z"
   },
   {
    "duration": 1062,
    "start_time": "2023-02-14T21:25:29.020Z"
   },
   {
    "duration": 13,
    "start_time": "2023-02-14T21:25:30.084Z"
   },
   {
    "duration": 34,
    "start_time": "2023-02-14T21:25:30.098Z"
   },
   {
    "duration": 32,
    "start_time": "2023-02-14T21:25:30.134Z"
   },
   {
    "duration": 10,
    "start_time": "2023-02-14T21:25:30.168Z"
   },
   {
    "duration": 21,
    "start_time": "2023-02-14T21:25:30.180Z"
   },
   {
    "duration": 16,
    "start_time": "2023-02-14T21:25:30.203Z"
   },
   {
    "duration": 19,
    "start_time": "2023-02-14T21:25:30.220Z"
   },
   {
    "duration": 26,
    "start_time": "2023-02-14T21:25:30.241Z"
   },
   {
    "duration": 28,
    "start_time": "2023-02-14T21:25:30.269Z"
   },
   {
    "duration": 37,
    "start_time": "2023-02-14T21:25:30.299Z"
   },
   {
    "duration": 11,
    "start_time": "2023-02-14T21:25:30.338Z"
   },
   {
    "duration": 53,
    "start_time": "2023-02-14T21:25:30.351Z"
   },
   {
    "duration": 25,
    "start_time": "2023-02-14T21:25:30.405Z"
   },
   {
    "duration": 8509,
    "start_time": "2023-02-14T21:25:30.433Z"
   },
   {
    "duration": 202293,
    "start_time": "2023-02-14T21:25:38.944Z"
   },
   {
    "duration": 19116,
    "start_time": "2023-02-14T21:29:01.238Z"
   },
   {
    "duration": 1469,
    "start_time": "2023-02-14T21:31:06.327Z"
   },
   {
    "duration": 37,
    "start_time": "2023-02-14T21:31:07.798Z"
   },
   {
    "duration": 16,
    "start_time": "2023-02-14T21:31:07.836Z"
   },
   {
    "duration": 4,
    "start_time": "2023-02-14T21:31:07.854Z"
   },
   {
    "duration": 45,
    "start_time": "2023-02-14T21:31:07.859Z"
   },
   {
    "duration": 13,
    "start_time": "2023-02-14T21:31:07.905Z"
   },
   {
    "duration": 7,
    "start_time": "2023-02-14T21:31:07.919Z"
   },
   {
    "duration": 39,
    "start_time": "2023-02-14T21:31:07.927Z"
   },
   {
    "duration": 5,
    "start_time": "2023-02-14T21:31:07.967Z"
   },
   {
    "duration": 8,
    "start_time": "2023-02-14T21:31:07.974Z"
   },
   {
    "duration": 216,
    "start_time": "2023-02-14T21:31:07.983Z"
   },
   {
    "duration": 12,
    "start_time": "2023-02-14T21:31:08.200Z"
   },
   {
    "duration": 27,
    "start_time": "2023-02-14T21:31:08.214Z"
   },
   {
    "duration": 1012,
    "start_time": "2023-02-14T21:31:08.242Z"
   },
   {
    "duration": 14,
    "start_time": "2023-02-14T21:31:09.256Z"
   },
   {
    "duration": 12,
    "start_time": "2023-02-14T21:31:09.272Z"
   },
   {
    "duration": 7,
    "start_time": "2023-02-14T21:31:09.286Z"
   },
   {
    "duration": 10,
    "start_time": "2023-02-14T21:31:09.294Z"
   },
   {
    "duration": 6,
    "start_time": "2023-02-14T21:31:09.305Z"
   },
   {
    "duration": 14,
    "start_time": "2023-02-14T21:31:09.313Z"
   },
   {
    "duration": 25,
    "start_time": "2023-02-14T21:31:09.328Z"
   },
   {
    "duration": 5,
    "start_time": "2023-02-14T21:31:09.355Z"
   },
   {
    "duration": 8,
    "start_time": "2023-02-14T21:31:09.361Z"
   },
   {
    "duration": 5,
    "start_time": "2023-02-14T21:31:09.371Z"
   },
   {
    "duration": 5,
    "start_time": "2023-02-14T21:31:09.377Z"
   },
   {
    "duration": 21,
    "start_time": "2023-02-14T21:31:09.383Z"
   },
   {
    "duration": 4,
    "start_time": "2023-02-14T21:31:09.405Z"
   },
   {
    "duration": 8520,
    "start_time": "2023-02-14T21:31:09.412Z"
   },
   {
    "duration": 1410,
    "start_time": "2023-02-14T21:37:02.700Z"
   },
   {
    "duration": 36,
    "start_time": "2023-02-14T21:37:04.112Z"
   },
   {
    "duration": 16,
    "start_time": "2023-02-14T21:37:04.150Z"
   },
   {
    "duration": 4,
    "start_time": "2023-02-14T21:37:04.168Z"
   },
   {
    "duration": 41,
    "start_time": "2023-02-14T21:37:04.174Z"
   },
   {
    "duration": 12,
    "start_time": "2023-02-14T21:37:04.217Z"
   },
   {
    "duration": 29,
    "start_time": "2023-02-14T21:37:04.230Z"
   },
   {
    "duration": 21,
    "start_time": "2023-02-14T21:37:04.260Z"
   },
   {
    "duration": 5,
    "start_time": "2023-02-14T21:37:04.282Z"
   },
   {
    "duration": 14,
    "start_time": "2023-02-14T21:37:04.289Z"
   },
   {
    "duration": 191,
    "start_time": "2023-02-14T21:37:04.305Z"
   },
   {
    "duration": 10,
    "start_time": "2023-02-14T21:37:04.498Z"
   },
   {
    "duration": 17,
    "start_time": "2023-02-14T21:37:04.509Z"
   },
   {
    "duration": 1039,
    "start_time": "2023-02-14T21:37:04.527Z"
   },
   {
    "duration": 14,
    "start_time": "2023-02-14T21:37:05.567Z"
   },
   {
    "duration": 10,
    "start_time": "2023-02-14T21:37:05.582Z"
   },
   {
    "duration": 8,
    "start_time": "2023-02-14T21:37:05.593Z"
   },
   {
    "duration": 8,
    "start_time": "2023-02-14T21:37:05.603Z"
   },
   {
    "duration": 12,
    "start_time": "2023-02-14T21:37:05.612Z"
   },
   {
    "duration": 12,
    "start_time": "2023-02-14T21:37:05.625Z"
   },
   {
    "duration": 4,
    "start_time": "2023-02-14T21:37:05.639Z"
   },
   {
    "duration": 9,
    "start_time": "2023-02-14T21:37:05.644Z"
   },
   {
    "duration": 5,
    "start_time": "2023-02-14T21:37:05.654Z"
   },
   {
    "duration": 5,
    "start_time": "2023-02-14T21:37:05.661Z"
   },
   {
    "duration": 5,
    "start_time": "2023-02-14T21:37:05.667Z"
   },
   {
    "duration": 131,
    "start_time": "2023-02-14T21:37:05.673Z"
   },
   {
    "duration": 0,
    "start_time": "2023-02-14T21:37:05.806Z"
   },
   {
    "duration": 0,
    "start_time": "2023-02-14T21:37:05.807Z"
   },
   {
    "duration": 0,
    "start_time": "2023-02-14T21:37:05.808Z"
   },
   {
    "duration": 0,
    "start_time": "2023-02-14T21:37:05.809Z"
   },
   {
    "duration": 0,
    "start_time": "2023-02-14T21:37:05.810Z"
   },
   {
    "duration": 0,
    "start_time": "2023-02-14T21:37:05.811Z"
   },
   {
    "duration": 0,
    "start_time": "2023-02-14T21:37:05.812Z"
   },
   {
    "duration": 0,
    "start_time": "2023-02-14T21:37:05.813Z"
   },
   {
    "duration": 0,
    "start_time": "2023-02-14T21:37:05.814Z"
   },
   {
    "duration": 0,
    "start_time": "2023-02-14T21:37:05.815Z"
   },
   {
    "duration": 0,
    "start_time": "2023-02-14T21:37:05.816Z"
   },
   {
    "duration": 0,
    "start_time": "2023-02-14T21:37:05.817Z"
   },
   {
    "duration": 0,
    "start_time": "2023-02-14T21:37:05.818Z"
   },
   {
    "duration": 0,
    "start_time": "2023-02-14T21:37:05.819Z"
   },
   {
    "duration": 0,
    "start_time": "2023-02-14T21:37:05.820Z"
   },
   {
    "duration": 0,
    "start_time": "2023-02-14T21:37:05.821Z"
   },
   {
    "duration": 0,
    "start_time": "2023-02-14T21:37:05.822Z"
   },
   {
    "duration": 0,
    "start_time": "2023-02-14T21:37:05.823Z"
   },
   {
    "duration": 1330,
    "start_time": "2023-02-14T21:44:17.709Z"
   },
   {
    "duration": 36,
    "start_time": "2023-02-14T21:44:19.041Z"
   },
   {
    "duration": 15,
    "start_time": "2023-02-14T21:44:19.079Z"
   },
   {
    "duration": 7,
    "start_time": "2023-02-14T21:44:19.095Z"
   },
   {
    "duration": 38,
    "start_time": "2023-02-14T21:44:19.103Z"
   },
   {
    "duration": 19,
    "start_time": "2023-02-14T21:44:19.143Z"
   },
   {
    "duration": 37,
    "start_time": "2023-02-14T21:44:19.164Z"
   },
   {
    "duration": 24,
    "start_time": "2023-02-14T21:44:19.202Z"
   },
   {
    "duration": 4,
    "start_time": "2023-02-14T21:44:19.227Z"
   },
   {
    "duration": 14,
    "start_time": "2023-02-14T21:44:19.234Z"
   },
   {
    "duration": 199,
    "start_time": "2023-02-14T21:44:19.249Z"
   },
   {
    "duration": 17,
    "start_time": "2023-02-14T21:44:19.449Z"
   },
   {
    "duration": 56,
    "start_time": "2023-02-14T21:44:19.469Z"
   },
   {
    "duration": 1127,
    "start_time": "2023-02-14T21:44:19.527Z"
   },
   {
    "duration": 13,
    "start_time": "2023-02-14T21:44:20.656Z"
   },
   {
    "duration": 10,
    "start_time": "2023-02-14T21:44:20.671Z"
   },
   {
    "duration": 7,
    "start_time": "2023-02-14T21:44:20.683Z"
   },
   {
    "duration": 6,
    "start_time": "2023-02-14T21:44:20.692Z"
   },
   {
    "duration": 6,
    "start_time": "2023-02-14T21:44:20.700Z"
   },
   {
    "duration": 18,
    "start_time": "2023-02-14T21:44:20.708Z"
   },
   {
    "duration": 4,
    "start_time": "2023-02-14T21:44:20.728Z"
   },
   {
    "duration": 19,
    "start_time": "2023-02-14T21:44:20.734Z"
   },
   {
    "duration": 6,
    "start_time": "2023-02-14T21:44:20.755Z"
   },
   {
    "duration": 6,
    "start_time": "2023-02-14T21:44:20.762Z"
   },
   {
    "duration": 12,
    "start_time": "2023-02-14T21:44:20.770Z"
   },
   {
    "duration": 32,
    "start_time": "2023-02-14T21:44:20.783Z"
   },
   {
    "duration": 4,
    "start_time": "2023-02-14T21:44:20.817Z"
   },
   {
    "duration": 219,
    "start_time": "2023-02-14T21:44:20.824Z"
   },
   {
    "duration": 95,
    "start_time": "2023-02-14T21:44:21.045Z"
   },
   {
    "duration": 105,
    "start_time": "2023-02-14T21:44:21.142Z"
   },
   {
    "duration": 94,
    "start_time": "2023-02-14T21:44:21.248Z"
   },
   {
    "duration": 4,
    "start_time": "2023-02-14T21:44:21.343Z"
   },
   {
    "duration": 18,
    "start_time": "2023-02-14T21:44:21.348Z"
   },
   {
    "duration": 91,
    "start_time": "2023-02-14T21:44:21.367Z"
   },
   {
    "duration": 4,
    "start_time": "2023-02-14T21:44:21.459Z"
   },
   {
    "duration": 12,
    "start_time": "2023-02-14T21:44:21.465Z"
   },
   {
    "duration": 86,
    "start_time": "2023-02-14T21:44:21.479Z"
   },
   {
    "duration": 10,
    "start_time": "2023-02-14T21:44:21.567Z"
   },
   {
    "duration": 0,
    "start_time": "2023-02-14T21:44:21.579Z"
   },
   {
    "duration": 0,
    "start_time": "2023-02-14T21:44:21.580Z"
   },
   {
    "duration": 0,
    "start_time": "2023-02-14T21:44:21.581Z"
   },
   {
    "duration": 0,
    "start_time": "2023-02-14T21:44:21.582Z"
   },
   {
    "duration": 0,
    "start_time": "2023-02-14T21:44:21.583Z"
   },
   {
    "duration": 0,
    "start_time": "2023-02-14T21:44:21.584Z"
   },
   {
    "duration": 1445,
    "start_time": "2023-02-14T21:52:35.546Z"
   },
   {
    "duration": 36,
    "start_time": "2023-02-14T21:52:36.993Z"
   },
   {
    "duration": 15,
    "start_time": "2023-02-14T21:52:37.031Z"
   },
   {
    "duration": 4,
    "start_time": "2023-02-14T21:52:37.048Z"
   },
   {
    "duration": 39,
    "start_time": "2023-02-14T21:52:37.053Z"
   },
   {
    "duration": 10,
    "start_time": "2023-02-14T21:52:37.093Z"
   },
   {
    "duration": 6,
    "start_time": "2023-02-14T21:52:37.105Z"
   },
   {
    "duration": 17,
    "start_time": "2023-02-14T21:52:37.112Z"
   },
   {
    "duration": 5,
    "start_time": "2023-02-14T21:52:37.153Z"
   },
   {
    "duration": 33,
    "start_time": "2023-02-14T21:52:37.161Z"
   },
   {
    "duration": 219,
    "start_time": "2023-02-14T21:52:37.196Z"
   },
   {
    "duration": 11,
    "start_time": "2023-02-14T21:52:37.417Z"
   },
   {
    "duration": 30,
    "start_time": "2023-02-14T21:52:37.429Z"
   },
   {
    "duration": 1045,
    "start_time": "2023-02-14T21:52:37.461Z"
   },
   {
    "duration": 13,
    "start_time": "2023-02-14T21:52:38.508Z"
   },
   {
    "duration": 17,
    "start_time": "2023-02-14T21:52:38.522Z"
   },
   {
    "duration": 9,
    "start_time": "2023-02-14T21:52:38.540Z"
   },
   {
    "duration": 16,
    "start_time": "2023-02-14T21:52:38.551Z"
   },
   {
    "duration": 6,
    "start_time": "2023-02-14T21:52:38.569Z"
   },
   {
    "duration": 24,
    "start_time": "2023-02-14T21:52:38.576Z"
   },
   {
    "duration": 30,
    "start_time": "2023-02-14T21:52:38.601Z"
   },
   {
    "duration": 20,
    "start_time": "2023-02-14T21:52:38.633Z"
   },
   {
    "duration": 26,
    "start_time": "2023-02-14T21:52:38.655Z"
   },
   {
    "duration": 18,
    "start_time": "2023-02-14T21:52:38.682Z"
   },
   {
    "duration": 10,
    "start_time": "2023-02-14T21:52:38.701Z"
   },
   {
    "duration": 40,
    "start_time": "2023-02-14T21:52:38.712Z"
   },
   {
    "duration": 11,
    "start_time": "2023-02-14T21:52:38.754Z"
   },
   {
    "duration": 7767,
    "start_time": "2023-02-14T21:52:38.768Z"
   },
   {
    "duration": 1368,
    "start_time": "2023-02-14T22:07:05.585Z"
   },
   {
    "duration": 38,
    "start_time": "2023-02-14T22:07:06.955Z"
   },
   {
    "duration": 17,
    "start_time": "2023-02-14T22:07:06.995Z"
   },
   {
    "duration": 15,
    "start_time": "2023-02-14T22:07:07.013Z"
   },
   {
    "duration": 53,
    "start_time": "2023-02-14T22:07:07.030Z"
   },
   {
    "duration": 12,
    "start_time": "2023-02-14T22:07:07.084Z"
   },
   {
    "duration": 7,
    "start_time": "2023-02-14T22:07:07.098Z"
   },
   {
    "duration": 24,
    "start_time": "2023-02-14T22:07:07.106Z"
   },
   {
    "duration": 21,
    "start_time": "2023-02-14T22:07:07.133Z"
   },
   {
    "duration": 8,
    "start_time": "2023-02-14T22:07:07.155Z"
   },
   {
    "duration": 209,
    "start_time": "2023-02-14T22:07:07.164Z"
   },
   {
    "duration": 12,
    "start_time": "2023-02-14T22:07:07.375Z"
   },
   {
    "duration": 20,
    "start_time": "2023-02-14T22:07:07.388Z"
   },
   {
    "duration": 1085,
    "start_time": "2023-02-14T22:07:07.409Z"
   },
   {
    "duration": 13,
    "start_time": "2023-02-14T22:07:08.496Z"
   },
   {
    "duration": 10,
    "start_time": "2023-02-14T22:07:08.510Z"
   },
   {
    "duration": 12,
    "start_time": "2023-02-14T22:07:08.522Z"
   },
   {
    "duration": 8,
    "start_time": "2023-02-14T22:07:08.536Z"
   },
   {
    "duration": 7,
    "start_time": "2023-02-14T22:07:08.546Z"
   },
   {
    "duration": 12,
    "start_time": "2023-02-14T22:07:08.555Z"
   },
   {
    "duration": 4,
    "start_time": "2023-02-14T22:07:08.568Z"
   },
   {
    "duration": 9,
    "start_time": "2023-02-14T22:07:08.573Z"
   },
   {
    "duration": 19,
    "start_time": "2023-02-14T22:07:08.584Z"
   },
   {
    "duration": 11,
    "start_time": "2023-02-14T22:07:08.605Z"
   },
   {
    "duration": 5,
    "start_time": "2023-02-14T22:07:08.618Z"
   },
   {
    "duration": 30,
    "start_time": "2023-02-14T22:07:08.625Z"
   },
   {
    "duration": 4,
    "start_time": "2023-02-14T22:07:08.659Z"
   },
   {
    "duration": 7755,
    "start_time": "2023-02-14T22:07:08.665Z"
   },
   {
    "duration": 1459,
    "start_time": "2023-02-14T22:08:16.122Z"
   },
   {
    "duration": 36,
    "start_time": "2023-02-14T22:08:17.583Z"
   },
   {
    "duration": 17,
    "start_time": "2023-02-14T22:08:17.620Z"
   },
   {
    "duration": 5,
    "start_time": "2023-02-14T22:08:17.639Z"
   },
   {
    "duration": 41,
    "start_time": "2023-02-14T22:08:17.646Z"
   },
   {
    "duration": 12,
    "start_time": "2023-02-14T22:08:17.689Z"
   },
   {
    "duration": 8,
    "start_time": "2023-02-14T22:08:17.703Z"
   },
   {
    "duration": 42,
    "start_time": "2023-02-14T22:08:17.713Z"
   },
   {
    "duration": 5,
    "start_time": "2023-02-14T22:08:17.756Z"
   },
   {
    "duration": 7,
    "start_time": "2023-02-14T22:08:17.765Z"
   },
   {
    "duration": 197,
    "start_time": "2023-02-14T22:08:17.774Z"
   },
   {
    "duration": 11,
    "start_time": "2023-02-14T22:08:17.973Z"
   },
   {
    "duration": 17,
    "start_time": "2023-02-14T22:08:17.985Z"
   },
   {
    "duration": 1014,
    "start_time": "2023-02-14T22:08:18.004Z"
   },
   {
    "duration": 14,
    "start_time": "2023-02-14T22:08:19.021Z"
   },
   {
    "duration": 17,
    "start_time": "2023-02-14T22:08:19.037Z"
   },
   {
    "duration": 7,
    "start_time": "2023-02-14T22:08:19.056Z"
   },
   {
    "duration": 10,
    "start_time": "2023-02-14T22:08:19.064Z"
   },
   {
    "duration": 5,
    "start_time": "2023-02-14T22:08:19.076Z"
   },
   {
    "duration": 16,
    "start_time": "2023-02-14T22:08:19.083Z"
   },
   {
    "duration": 5,
    "start_time": "2023-02-14T22:08:19.100Z"
   },
   {
    "duration": 16,
    "start_time": "2023-02-14T22:08:19.106Z"
   },
   {
    "duration": 8,
    "start_time": "2023-02-14T22:08:19.124Z"
   },
   {
    "duration": 22,
    "start_time": "2023-02-14T22:08:19.134Z"
   },
   {
    "duration": 6,
    "start_time": "2023-02-14T22:08:19.158Z"
   },
   {
    "duration": 30,
    "start_time": "2023-02-14T22:08:19.166Z"
   },
   {
    "duration": 16,
    "start_time": "2023-02-14T22:08:19.198Z"
   },
   {
    "duration": 7665,
    "start_time": "2023-02-14T22:08:19.218Z"
   },
   {
    "duration": 769549,
    "start_time": "2023-02-14T22:08:26.885Z"
   },
   {
    "duration": 17719,
    "start_time": "2023-02-14T22:21:16.435Z"
   },
   {
    "duration": 376033,
    "start_time": "2023-02-14T22:21:34.156Z"
   },
   {
    "duration": 4,
    "start_time": "2023-02-14T22:27:50.191Z"
   },
   {
    "duration": 122,
    "start_time": "2023-02-14T22:27:50.197Z"
   },
   {
    "duration": 0,
    "start_time": "2023-02-14T22:27:50.321Z"
   },
   {
    "duration": 0,
    "start_time": "2023-02-14T22:27:50.322Z"
   },
   {
    "duration": 0,
    "start_time": "2023-02-14T22:27:50.323Z"
   },
   {
    "duration": 0,
    "start_time": "2023-02-14T22:27:50.324Z"
   },
   {
    "duration": 0,
    "start_time": "2023-02-14T22:27:50.325Z"
   },
   {
    "duration": 0,
    "start_time": "2023-02-14T22:27:50.325Z"
   },
   {
    "duration": 0,
    "start_time": "2023-02-14T22:27:50.326Z"
   },
   {
    "duration": 0,
    "start_time": "2023-02-14T22:27:50.327Z"
   },
   {
    "duration": 0,
    "start_time": "2023-02-14T22:27:50.328Z"
   },
   {
    "duration": 0,
    "start_time": "2023-02-14T22:27:50.330Z"
   },
   {
    "duration": 0,
    "start_time": "2023-02-14T22:27:50.330Z"
   },
   {
    "duration": 1381,
    "start_time": "2023-02-14T22:28:07.189Z"
   },
   {
    "duration": 36,
    "start_time": "2023-02-14T22:28:08.572Z"
   },
   {
    "duration": 20,
    "start_time": "2023-02-14T22:28:08.610Z"
   },
   {
    "duration": 9,
    "start_time": "2023-02-14T22:28:08.632Z"
   },
   {
    "duration": 44,
    "start_time": "2023-02-14T22:28:08.642Z"
   },
   {
    "duration": 12,
    "start_time": "2023-02-14T22:28:08.688Z"
   },
   {
    "duration": 9,
    "start_time": "2023-02-14T22:28:08.702Z"
   },
   {
    "duration": 21,
    "start_time": "2023-02-14T22:28:08.713Z"
   },
   {
    "duration": 20,
    "start_time": "2023-02-14T22:28:08.736Z"
   },
   {
    "duration": 8,
    "start_time": "2023-02-14T22:28:08.759Z"
   },
   {
    "duration": 214,
    "start_time": "2023-02-14T22:28:08.769Z"
   },
   {
    "duration": 11,
    "start_time": "2023-02-14T22:28:08.985Z"
   },
   {
    "duration": 18,
    "start_time": "2023-02-14T22:28:08.998Z"
   },
   {
    "duration": 1117,
    "start_time": "2023-02-14T22:28:09.017Z"
   },
   {
    "duration": 12,
    "start_time": "2023-02-14T22:28:10.136Z"
   },
   {
    "duration": 8,
    "start_time": "2023-02-14T22:28:10.149Z"
   },
   {
    "duration": 11,
    "start_time": "2023-02-14T22:28:10.158Z"
   },
   {
    "duration": 6,
    "start_time": "2023-02-14T22:28:10.171Z"
   },
   {
    "duration": 5,
    "start_time": "2023-02-14T22:28:10.179Z"
   },
   {
    "duration": 15,
    "start_time": "2023-02-14T22:28:10.185Z"
   },
   {
    "duration": 5,
    "start_time": "2023-02-14T22:28:10.202Z"
   },
   {
    "duration": 9,
    "start_time": "2023-02-14T22:28:10.208Z"
   },
   {
    "duration": 7,
    "start_time": "2023-02-14T22:28:10.219Z"
   },
   {
    "duration": 12,
    "start_time": "2023-02-14T22:28:10.227Z"
   },
   {
    "duration": 22,
    "start_time": "2023-02-14T22:28:10.241Z"
   },
   {
    "duration": 28,
    "start_time": "2023-02-14T22:28:10.265Z"
   },
   {
    "duration": 4,
    "start_time": "2023-02-14T22:28:10.295Z"
   },
   {
    "duration": 4102,
    "start_time": "2023-02-14T22:28:10.302Z"
   },
   {
    "duration": 320337,
    "start_time": "2023-02-14T22:28:14.405Z"
   },
   {
    "duration": 45711,
    "start_time": "2023-02-14T22:33:34.743Z"
   },
   {
    "duration": 1400,
    "start_time": "2023-02-14T22:35:33.729Z"
   },
   {
    "duration": 36,
    "start_time": "2023-02-14T22:35:35.131Z"
   },
   {
    "duration": 16,
    "start_time": "2023-02-14T22:35:35.169Z"
   },
   {
    "duration": 8,
    "start_time": "2023-02-14T22:35:35.187Z"
   },
   {
    "duration": 46,
    "start_time": "2023-02-14T22:35:35.197Z"
   },
   {
    "duration": 18,
    "start_time": "2023-02-14T22:35:35.245Z"
   },
   {
    "duration": 7,
    "start_time": "2023-02-14T22:35:35.264Z"
   },
   {
    "duration": 17,
    "start_time": "2023-02-14T22:35:35.272Z"
   },
   {
    "duration": 4,
    "start_time": "2023-02-14T22:35:35.291Z"
   },
   {
    "duration": 10,
    "start_time": "2023-02-14T22:35:35.298Z"
   },
   {
    "duration": 224,
    "start_time": "2023-02-14T22:35:35.310Z"
   },
   {
    "duration": 20,
    "start_time": "2023-02-14T22:35:35.535Z"
   },
   {
    "duration": 19,
    "start_time": "2023-02-14T22:35:35.556Z"
   },
   {
    "duration": 1069,
    "start_time": "2023-02-14T22:35:35.577Z"
   },
   {
    "duration": 12,
    "start_time": "2023-02-14T22:35:36.648Z"
   },
   {
    "duration": 11,
    "start_time": "2023-02-14T22:35:36.662Z"
   },
   {
    "duration": 8,
    "start_time": "2023-02-14T22:35:36.675Z"
   },
   {
    "duration": 9,
    "start_time": "2023-02-14T22:35:36.684Z"
   },
   {
    "duration": 5,
    "start_time": "2023-02-14T22:35:36.695Z"
   },
   {
    "duration": 14,
    "start_time": "2023-02-14T22:35:36.702Z"
   },
   {
    "duration": 10,
    "start_time": "2023-02-14T22:35:36.718Z"
   },
   {
    "duration": 7,
    "start_time": "2023-02-14T22:35:36.729Z"
   },
   {
    "duration": 14,
    "start_time": "2023-02-14T22:35:36.737Z"
   },
   {
    "duration": 5,
    "start_time": "2023-02-14T22:35:36.753Z"
   },
   {
    "duration": 4,
    "start_time": "2023-02-14T22:35:36.760Z"
   },
   {
    "duration": 136,
    "start_time": "2023-02-14T22:35:36.766Z"
   },
   {
    "duration": 0,
    "start_time": "2023-02-14T22:35:36.904Z"
   },
   {
    "duration": 0,
    "start_time": "2023-02-14T22:35:36.906Z"
   },
   {
    "duration": 0,
    "start_time": "2023-02-14T22:35:36.908Z"
   },
   {
    "duration": 0,
    "start_time": "2023-02-14T22:35:36.909Z"
   },
   {
    "duration": 0,
    "start_time": "2023-02-14T22:35:36.911Z"
   },
   {
    "duration": 0,
    "start_time": "2023-02-14T22:35:36.912Z"
   },
   {
    "duration": 0,
    "start_time": "2023-02-14T22:35:36.913Z"
   },
   {
    "duration": 0,
    "start_time": "2023-02-14T22:35:36.914Z"
   },
   {
    "duration": 0,
    "start_time": "2023-02-14T22:35:36.915Z"
   },
   {
    "duration": 0,
    "start_time": "2023-02-14T22:35:36.916Z"
   },
   {
    "duration": 0,
    "start_time": "2023-02-14T22:35:36.917Z"
   },
   {
    "duration": 0,
    "start_time": "2023-02-14T22:35:36.918Z"
   },
   {
    "duration": 0,
    "start_time": "2023-02-14T22:35:36.919Z"
   },
   {
    "duration": 0,
    "start_time": "2023-02-14T22:35:36.920Z"
   },
   {
    "duration": 0,
    "start_time": "2023-02-14T22:35:36.921Z"
   },
   {
    "duration": 0,
    "start_time": "2023-02-14T22:35:36.922Z"
   },
   {
    "duration": 0,
    "start_time": "2023-02-14T22:35:36.953Z"
   },
   {
    "duration": 1,
    "start_time": "2023-02-14T22:35:36.954Z"
   },
   {
    "duration": 31,
    "start_time": "2023-02-14T22:38:34.958Z"
   },
   {
    "duration": 1403,
    "start_time": "2023-02-14T22:42:30.265Z"
   },
   {
    "duration": 37,
    "start_time": "2023-02-14T22:42:31.670Z"
   },
   {
    "duration": 16,
    "start_time": "2023-02-14T22:42:31.709Z"
   },
   {
    "duration": 6,
    "start_time": "2023-02-14T22:42:31.727Z"
   },
   {
    "duration": 44,
    "start_time": "2023-02-14T22:42:31.734Z"
   },
   {
    "duration": 12,
    "start_time": "2023-02-14T22:42:31.780Z"
   },
   {
    "duration": 10,
    "start_time": "2023-02-14T22:42:31.794Z"
   },
   {
    "duration": 17,
    "start_time": "2023-02-14T22:42:31.806Z"
   },
   {
    "duration": 29,
    "start_time": "2023-02-14T22:42:31.825Z"
   },
   {
    "duration": 7,
    "start_time": "2023-02-14T22:42:31.858Z"
   },
   {
    "duration": 196,
    "start_time": "2023-02-14T22:42:31.867Z"
   },
   {
    "duration": 11,
    "start_time": "2023-02-14T22:42:32.065Z"
   },
   {
    "duration": 25,
    "start_time": "2023-02-14T22:42:32.078Z"
   },
   {
    "duration": 1058,
    "start_time": "2023-02-14T22:42:32.104Z"
   },
   {
    "duration": 14,
    "start_time": "2023-02-14T22:42:33.164Z"
   },
   {
    "duration": 9,
    "start_time": "2023-02-14T22:42:33.179Z"
   },
   {
    "duration": 18,
    "start_time": "2023-02-14T22:42:33.189Z"
   },
   {
    "duration": 9,
    "start_time": "2023-02-14T22:42:33.208Z"
   },
   {
    "duration": 3,
    "start_time": "2023-02-14T22:42:33.219Z"
   },
   {
    "duration": 15,
    "start_time": "2023-02-14T22:42:33.224Z"
   },
   {
    "duration": 5,
    "start_time": "2023-02-14T22:42:33.240Z"
   },
   {
    "duration": 9,
    "start_time": "2023-02-14T22:42:33.246Z"
   },
   {
    "duration": 6,
    "start_time": "2023-02-14T22:42:33.257Z"
   },
   {
    "duration": 5,
    "start_time": "2023-02-14T22:42:33.265Z"
   },
   {
    "duration": 5,
    "start_time": "2023-02-14T22:42:33.271Z"
   },
   {
    "duration": 137,
    "start_time": "2023-02-14T22:42:33.278Z"
   },
   {
    "duration": 0,
    "start_time": "2023-02-14T22:42:33.417Z"
   },
   {
    "duration": 0,
    "start_time": "2023-02-14T22:42:33.418Z"
   },
   {
    "duration": 0,
    "start_time": "2023-02-14T22:42:33.419Z"
   },
   {
    "duration": 0,
    "start_time": "2023-02-14T22:42:33.420Z"
   },
   {
    "duration": 0,
    "start_time": "2023-02-14T22:42:33.421Z"
   },
   {
    "duration": 0,
    "start_time": "2023-02-14T22:42:33.422Z"
   },
   {
    "duration": 0,
    "start_time": "2023-02-14T22:42:33.423Z"
   },
   {
    "duration": 0,
    "start_time": "2023-02-14T22:42:33.424Z"
   },
   {
    "duration": 0,
    "start_time": "2023-02-14T22:42:33.425Z"
   },
   {
    "duration": 0,
    "start_time": "2023-02-14T22:42:33.426Z"
   },
   {
    "duration": 0,
    "start_time": "2023-02-14T22:42:33.427Z"
   },
   {
    "duration": 0,
    "start_time": "2023-02-14T22:42:33.428Z"
   },
   {
    "duration": 0,
    "start_time": "2023-02-14T22:42:33.429Z"
   },
   {
    "duration": 0,
    "start_time": "2023-02-14T22:42:33.430Z"
   },
   {
    "duration": 0,
    "start_time": "2023-02-14T22:42:33.431Z"
   },
   {
    "duration": 0,
    "start_time": "2023-02-14T22:42:33.432Z"
   },
   {
    "duration": 0,
    "start_time": "2023-02-14T22:42:33.453Z"
   },
   {
    "duration": 0,
    "start_time": "2023-02-14T22:42:33.454Z"
   },
   {
    "duration": 1375,
    "start_time": "2023-02-14T22:43:13.582Z"
   },
   {
    "duration": 36,
    "start_time": "2023-02-14T22:43:14.958Z"
   },
   {
    "duration": 20,
    "start_time": "2023-02-14T22:43:14.996Z"
   },
   {
    "duration": 14,
    "start_time": "2023-02-14T22:43:15.019Z"
   },
   {
    "duration": 43,
    "start_time": "2023-02-14T22:43:15.035Z"
   },
   {
    "duration": 12,
    "start_time": "2023-02-14T22:43:15.079Z"
   },
   {
    "duration": 7,
    "start_time": "2023-02-14T22:43:15.092Z"
   },
   {
    "duration": 19,
    "start_time": "2023-02-14T22:43:15.100Z"
   },
   {
    "duration": 3,
    "start_time": "2023-02-14T22:43:15.121Z"
   },
   {
    "duration": 37,
    "start_time": "2023-02-14T22:43:15.126Z"
   },
   {
    "duration": 209,
    "start_time": "2023-02-14T22:43:15.164Z"
   },
   {
    "duration": 13,
    "start_time": "2023-02-14T22:43:15.375Z"
   },
   {
    "duration": 20,
    "start_time": "2023-02-14T22:43:15.390Z"
   },
   {
    "duration": 1030,
    "start_time": "2023-02-14T22:43:15.412Z"
   },
   {
    "duration": 13,
    "start_time": "2023-02-14T22:43:16.444Z"
   },
   {
    "duration": 7,
    "start_time": "2023-02-14T22:43:16.459Z"
   },
   {
    "duration": 11,
    "start_time": "2023-02-14T22:43:16.468Z"
   },
   {
    "duration": 26,
    "start_time": "2023-02-14T22:43:16.480Z"
   },
   {
    "duration": 86,
    "start_time": "2023-02-14T22:43:16.508Z"
   },
   {
    "duration": 74,
    "start_time": "2023-02-14T22:43:16.596Z"
   },
   {
    "duration": 77,
    "start_time": "2023-02-14T22:43:16.672Z"
   },
   {
    "duration": 94,
    "start_time": "2023-02-14T22:43:16.751Z"
   },
   {
    "duration": 85,
    "start_time": "2023-02-14T22:43:16.847Z"
   },
   {
    "duration": 53,
    "start_time": "2023-02-14T22:43:16.933Z"
   },
   {
    "duration": 58,
    "start_time": "2023-02-14T22:43:16.988Z"
   },
   {
    "duration": 174,
    "start_time": "2023-02-14T22:43:17.047Z"
   },
   {
    "duration": 0,
    "start_time": "2023-02-14T22:43:17.223Z"
   },
   {
    "duration": 0,
    "start_time": "2023-02-14T22:43:17.224Z"
   },
   {
    "duration": 0,
    "start_time": "2023-02-14T22:43:17.225Z"
   },
   {
    "duration": 0,
    "start_time": "2023-02-14T22:43:17.227Z"
   },
   {
    "duration": 0,
    "start_time": "2023-02-14T22:43:17.227Z"
   },
   {
    "duration": 0,
    "start_time": "2023-02-14T22:43:17.229Z"
   },
   {
    "duration": 0,
    "start_time": "2023-02-14T22:43:17.230Z"
   },
   {
    "duration": 0,
    "start_time": "2023-02-14T22:43:17.231Z"
   },
   {
    "duration": 0,
    "start_time": "2023-02-14T22:43:17.232Z"
   },
   {
    "duration": 1,
    "start_time": "2023-02-14T22:43:17.252Z"
   },
   {
    "duration": 0,
    "start_time": "2023-02-14T22:43:17.254Z"
   },
   {
    "duration": 0,
    "start_time": "2023-02-14T22:43:17.255Z"
   },
   {
    "duration": 0,
    "start_time": "2023-02-14T22:43:17.256Z"
   },
   {
    "duration": 0,
    "start_time": "2023-02-14T22:43:17.257Z"
   },
   {
    "duration": 0,
    "start_time": "2023-02-14T22:43:17.259Z"
   },
   {
    "duration": 0,
    "start_time": "2023-02-14T22:43:17.259Z"
   },
   {
    "duration": 1,
    "start_time": "2023-02-14T22:43:17.260Z"
   },
   {
    "duration": 0,
    "start_time": "2023-02-14T22:43:17.262Z"
   },
   {
    "duration": 1410,
    "start_time": "2023-02-14T22:43:37.490Z"
   },
   {
    "duration": 36,
    "start_time": "2023-02-14T22:43:38.902Z"
   },
   {
    "duration": 16,
    "start_time": "2023-02-14T22:43:38.943Z"
   },
   {
    "duration": 5,
    "start_time": "2023-02-14T22:43:38.961Z"
   },
   {
    "duration": 39,
    "start_time": "2023-02-14T22:43:38.968Z"
   },
   {
    "duration": 12,
    "start_time": "2023-02-14T22:43:39.009Z"
   },
   {
    "duration": 37,
    "start_time": "2023-02-14T22:43:39.022Z"
   },
   {
    "duration": 20,
    "start_time": "2023-02-14T22:43:39.060Z"
   },
   {
    "duration": 4,
    "start_time": "2023-02-14T22:43:39.082Z"
   },
   {
    "duration": 9,
    "start_time": "2023-02-14T22:43:39.087Z"
   },
   {
    "duration": 216,
    "start_time": "2023-02-14T22:43:39.098Z"
   },
   {
    "duration": 11,
    "start_time": "2023-02-14T22:43:39.316Z"
   },
   {
    "duration": 31,
    "start_time": "2023-02-14T22:43:39.328Z"
   },
   {
    "duration": 1025,
    "start_time": "2023-02-14T22:43:39.361Z"
   },
   {
    "duration": 12,
    "start_time": "2023-02-14T22:43:40.388Z"
   },
   {
    "duration": 9,
    "start_time": "2023-02-14T22:43:40.402Z"
   },
   {
    "duration": 7,
    "start_time": "2023-02-14T22:43:40.412Z"
   },
   {
    "duration": 6,
    "start_time": "2023-02-14T22:43:40.421Z"
   },
   {
    "duration": 9,
    "start_time": "2023-02-14T22:43:40.428Z"
   },
   {
    "duration": 27,
    "start_time": "2023-02-14T22:43:40.439Z"
   },
   {
    "duration": 7,
    "start_time": "2023-02-14T22:43:40.467Z"
   },
   {
    "duration": 16,
    "start_time": "2023-02-14T22:43:40.475Z"
   },
   {
    "duration": 10,
    "start_time": "2023-02-14T22:43:40.493Z"
   },
   {
    "duration": 8,
    "start_time": "2023-02-14T22:43:40.504Z"
   },
   {
    "duration": 6,
    "start_time": "2023-02-14T22:43:40.513Z"
   },
   {
    "duration": 137,
    "start_time": "2023-02-14T22:43:40.521Z"
   },
   {
    "duration": 0,
    "start_time": "2023-02-14T22:43:40.660Z"
   },
   {
    "duration": 0,
    "start_time": "2023-02-14T22:43:40.661Z"
   },
   {
    "duration": 0,
    "start_time": "2023-02-14T22:43:40.662Z"
   },
   {
    "duration": 0,
    "start_time": "2023-02-14T22:43:40.663Z"
   },
   {
    "duration": 0,
    "start_time": "2023-02-14T22:43:40.664Z"
   },
   {
    "duration": 0,
    "start_time": "2023-02-14T22:43:40.665Z"
   },
   {
    "duration": 0,
    "start_time": "2023-02-14T22:43:40.666Z"
   },
   {
    "duration": 0,
    "start_time": "2023-02-14T22:43:40.667Z"
   },
   {
    "duration": 0,
    "start_time": "2023-02-14T22:43:40.668Z"
   },
   {
    "duration": 0,
    "start_time": "2023-02-14T22:43:40.669Z"
   },
   {
    "duration": 0,
    "start_time": "2023-02-14T22:43:40.670Z"
   },
   {
    "duration": 0,
    "start_time": "2023-02-14T22:43:40.671Z"
   },
   {
    "duration": 0,
    "start_time": "2023-02-14T22:43:40.672Z"
   },
   {
    "duration": 0,
    "start_time": "2023-02-14T22:43:40.673Z"
   },
   {
    "duration": 0,
    "start_time": "2023-02-14T22:43:40.674Z"
   },
   {
    "duration": 0,
    "start_time": "2023-02-14T22:43:40.675Z"
   },
   {
    "duration": 0,
    "start_time": "2023-02-14T22:43:40.675Z"
   },
   {
    "duration": 0,
    "start_time": "2023-02-14T22:43:40.676Z"
   },
   {
    "duration": 1346,
    "start_time": "2023-02-14T22:49:50.697Z"
   },
   {
    "duration": 39,
    "start_time": "2023-02-14T22:49:52.045Z"
   },
   {
    "duration": 16,
    "start_time": "2023-02-14T22:49:52.086Z"
   },
   {
    "duration": 5,
    "start_time": "2023-02-14T22:49:52.104Z"
   },
   {
    "duration": 42,
    "start_time": "2023-02-14T22:49:52.110Z"
   },
   {
    "duration": 13,
    "start_time": "2023-02-14T22:49:52.153Z"
   },
   {
    "duration": 20,
    "start_time": "2023-02-14T22:49:52.168Z"
   },
   {
    "duration": 17,
    "start_time": "2023-02-14T22:49:52.190Z"
   },
   {
    "duration": 5,
    "start_time": "2023-02-14T22:49:52.208Z"
   },
   {
    "duration": 10,
    "start_time": "2023-02-14T22:49:52.215Z"
   },
   {
    "duration": 212,
    "start_time": "2023-02-14T22:49:52.226Z"
   },
   {
    "duration": 20,
    "start_time": "2023-02-14T22:49:52.439Z"
   },
   {
    "duration": 19,
    "start_time": "2023-02-14T22:49:52.460Z"
   },
   {
    "duration": 1014,
    "start_time": "2023-02-14T22:49:52.480Z"
   },
   {
    "duration": 14,
    "start_time": "2023-02-14T22:49:53.496Z"
   },
   {
    "duration": 15,
    "start_time": "2023-02-14T22:49:53.511Z"
   },
   {
    "duration": 40,
    "start_time": "2023-02-14T22:49:53.527Z"
   },
   {
    "duration": 18,
    "start_time": "2023-02-14T22:49:53.569Z"
   },
   {
    "duration": 13,
    "start_time": "2023-02-14T22:49:53.589Z"
   },
   {
    "duration": 25,
    "start_time": "2023-02-14T22:49:53.604Z"
   },
   {
    "duration": 17,
    "start_time": "2023-02-14T22:49:53.630Z"
   },
   {
    "duration": 41,
    "start_time": "2023-02-14T22:49:53.648Z"
   },
   {
    "duration": 22,
    "start_time": "2023-02-14T22:49:53.690Z"
   },
   {
    "duration": 8,
    "start_time": "2023-02-14T22:49:53.714Z"
   },
   {
    "duration": 11,
    "start_time": "2023-02-14T22:49:53.723Z"
   },
   {
    "duration": 123,
    "start_time": "2023-02-14T22:49:53.735Z"
   },
   {
    "duration": 0,
    "start_time": "2023-02-14T22:49:53.860Z"
   },
   {
    "duration": 0,
    "start_time": "2023-02-14T22:49:53.861Z"
   },
   {
    "duration": 0,
    "start_time": "2023-02-14T22:49:53.861Z"
   },
   {
    "duration": 0,
    "start_time": "2023-02-14T22:49:53.863Z"
   },
   {
    "duration": 0,
    "start_time": "2023-02-14T22:49:53.864Z"
   },
   {
    "duration": 0,
    "start_time": "2023-02-14T22:49:53.865Z"
   },
   {
    "duration": 0,
    "start_time": "2023-02-14T22:49:53.866Z"
   },
   {
    "duration": 0,
    "start_time": "2023-02-14T22:49:53.867Z"
   },
   {
    "duration": 0,
    "start_time": "2023-02-14T22:49:53.868Z"
   },
   {
    "duration": 0,
    "start_time": "2023-02-14T22:49:53.868Z"
   },
   {
    "duration": 0,
    "start_time": "2023-02-14T22:49:53.869Z"
   },
   {
    "duration": 0,
    "start_time": "2023-02-14T22:49:53.870Z"
   },
   {
    "duration": 0,
    "start_time": "2023-02-14T22:49:53.871Z"
   },
   {
    "duration": 0,
    "start_time": "2023-02-14T22:49:53.872Z"
   },
   {
    "duration": 0,
    "start_time": "2023-02-14T22:49:53.873Z"
   },
   {
    "duration": 0,
    "start_time": "2023-02-14T22:49:53.874Z"
   },
   {
    "duration": 0,
    "start_time": "2023-02-14T22:49:53.874Z"
   },
   {
    "duration": 0,
    "start_time": "2023-02-14T22:49:53.875Z"
   },
   {
    "duration": 1414,
    "start_time": "2023-02-14T22:59:49.941Z"
   },
   {
    "duration": 37,
    "start_time": "2023-02-14T22:59:51.357Z"
   },
   {
    "duration": 17,
    "start_time": "2023-02-14T22:59:51.395Z"
   },
   {
    "duration": 7,
    "start_time": "2023-02-14T22:59:51.414Z"
   },
   {
    "duration": 43,
    "start_time": "2023-02-14T22:59:51.423Z"
   },
   {
    "duration": 12,
    "start_time": "2023-02-14T22:59:51.468Z"
   },
   {
    "duration": 22,
    "start_time": "2023-02-14T22:59:51.481Z"
   },
   {
    "duration": 28,
    "start_time": "2023-02-14T22:59:51.504Z"
   },
   {
    "duration": 4,
    "start_time": "2023-02-14T22:59:51.534Z"
   },
   {
    "duration": 27,
    "start_time": "2023-02-14T22:59:51.541Z"
   },
   {
    "duration": 202,
    "start_time": "2023-02-14T22:59:51.569Z"
   },
   {
    "duration": 11,
    "start_time": "2023-02-14T22:59:51.773Z"
   },
   {
    "duration": 18,
    "start_time": "2023-02-14T22:59:51.786Z"
   },
   {
    "duration": 1041,
    "start_time": "2023-02-14T22:59:51.805Z"
   },
   {
    "duration": 13,
    "start_time": "2023-02-14T22:59:52.847Z"
   },
   {
    "duration": 9,
    "start_time": "2023-02-14T22:59:52.862Z"
   },
   {
    "duration": 12,
    "start_time": "2023-02-14T22:59:52.873Z"
   },
   {
    "duration": 11,
    "start_time": "2023-02-14T22:59:52.886Z"
   },
   {
    "duration": 6,
    "start_time": "2023-02-14T22:59:52.898Z"
   },
   {
    "duration": 14,
    "start_time": "2023-02-14T22:59:52.905Z"
   },
   {
    "duration": 5,
    "start_time": "2023-02-14T22:59:52.920Z"
   },
   {
    "duration": 11,
    "start_time": "2023-02-14T22:59:52.926Z"
   },
   {
    "duration": 17,
    "start_time": "2023-02-14T22:59:52.939Z"
   },
   {
    "duration": 5,
    "start_time": "2023-02-14T22:59:52.957Z"
   },
   {
    "duration": 7,
    "start_time": "2023-02-14T22:59:52.963Z"
   },
   {
    "duration": 126,
    "start_time": "2023-02-14T22:59:52.971Z"
   },
   {
    "duration": 0,
    "start_time": "2023-02-14T22:59:53.100Z"
   },
   {
    "duration": 0,
    "start_time": "2023-02-14T22:59:53.100Z"
   },
   {
    "duration": 0,
    "start_time": "2023-02-14T22:59:53.102Z"
   },
   {
    "duration": 0,
    "start_time": "2023-02-14T22:59:53.103Z"
   },
   {
    "duration": 0,
    "start_time": "2023-02-14T22:59:53.104Z"
   },
   {
    "duration": 0,
    "start_time": "2023-02-14T22:59:53.105Z"
   },
   {
    "duration": 0,
    "start_time": "2023-02-14T22:59:53.107Z"
   },
   {
    "duration": 0,
    "start_time": "2023-02-14T22:59:53.108Z"
   },
   {
    "duration": 0,
    "start_time": "2023-02-14T22:59:53.109Z"
   },
   {
    "duration": 0,
    "start_time": "2023-02-14T22:59:53.109Z"
   },
   {
    "duration": 0,
    "start_time": "2023-02-14T22:59:53.110Z"
   },
   {
    "duration": 0,
    "start_time": "2023-02-14T22:59:53.111Z"
   },
   {
    "duration": 0,
    "start_time": "2023-02-14T22:59:53.112Z"
   },
   {
    "duration": 0,
    "start_time": "2023-02-14T22:59:53.113Z"
   },
   {
    "duration": 0,
    "start_time": "2023-02-14T22:59:53.114Z"
   },
   {
    "duration": 0,
    "start_time": "2023-02-14T22:59:53.115Z"
   },
   {
    "duration": 0,
    "start_time": "2023-02-14T22:59:53.116Z"
   },
   {
    "duration": 0,
    "start_time": "2023-02-14T22:59:53.117Z"
   },
   {
    "duration": 0,
    "start_time": "2023-02-14T22:59:53.118Z"
   },
   {
    "duration": 0,
    "start_time": "2023-02-14T22:59:53.154Z"
   },
   {
    "duration": 14,
    "start_time": "2023-02-14T23:01:46.537Z"
   },
   {
    "duration": 21,
    "start_time": "2023-02-14T23:01:49.221Z"
   },
   {
    "duration": 9,
    "start_time": "2023-02-14T23:02:14.462Z"
   },
   {
    "duration": 23,
    "start_time": "2023-02-14T23:03:59.919Z"
   },
   {
    "duration": 12,
    "start_time": "2023-02-14T23:04:04.293Z"
   },
   {
    "duration": 20,
    "start_time": "2023-02-14T23:31:13.081Z"
   },
   {
    "duration": 14,
    "start_time": "2023-02-14T23:31:15.895Z"
   },
   {
    "duration": 24,
    "start_time": "2023-02-14T23:31:26.244Z"
   },
   {
    "duration": 24,
    "start_time": "2023-02-14T23:32:53.597Z"
   },
   {
    "duration": 9,
    "start_time": "2023-02-14T23:32:57.543Z"
   },
   {
    "duration": 4,
    "start_time": "2023-02-14T23:33:19.376Z"
   },
   {
    "duration": 18,
    "start_time": "2023-02-14T23:36:51.418Z"
   },
   {
    "duration": 10,
    "start_time": "2023-02-14T23:40:44.831Z"
   },
   {
    "duration": 11,
    "start_time": "2023-02-14T23:41:47.338Z"
   },
   {
    "duration": 1449,
    "start_time": "2023-02-14T23:42:04.921Z"
   },
   {
    "duration": 38,
    "start_time": "2023-02-14T23:42:06.372Z"
   },
   {
    "duration": 18,
    "start_time": "2023-02-14T23:42:06.412Z"
   },
   {
    "duration": 6,
    "start_time": "2023-02-14T23:42:06.432Z"
   },
   {
    "duration": 44,
    "start_time": "2023-02-14T23:42:06.439Z"
   },
   {
    "duration": 13,
    "start_time": "2023-02-14T23:42:06.485Z"
   },
   {
    "duration": 10,
    "start_time": "2023-02-14T23:42:06.499Z"
   },
   {
    "duration": 20,
    "start_time": "2023-02-14T23:42:06.511Z"
   },
   {
    "duration": 24,
    "start_time": "2023-02-14T23:42:06.533Z"
   },
   {
    "duration": 10,
    "start_time": "2023-02-14T23:42:06.560Z"
   },
   {
    "duration": 200,
    "start_time": "2023-02-14T23:42:06.572Z"
   },
   {
    "duration": 11,
    "start_time": "2023-02-14T23:42:06.773Z"
   },
   {
    "duration": 18,
    "start_time": "2023-02-14T23:42:06.786Z"
   },
   {
    "duration": 1040,
    "start_time": "2023-02-14T23:42:06.806Z"
   },
   {
    "duration": 12,
    "start_time": "2023-02-14T23:42:07.848Z"
   },
   {
    "duration": 33,
    "start_time": "2023-02-14T23:42:07.862Z"
   },
   {
    "duration": 49,
    "start_time": "2023-02-14T23:42:07.897Z"
   },
   {
    "duration": 36,
    "start_time": "2023-02-14T23:42:07.948Z"
   },
   {
    "duration": 38,
    "start_time": "2023-02-14T23:42:07.985Z"
   },
   {
    "duration": 43,
    "start_time": "2023-02-14T23:42:08.025Z"
   },
   {
    "duration": 37,
    "start_time": "2023-02-14T23:42:08.070Z"
   },
   {
    "duration": 48,
    "start_time": "2023-02-14T23:42:08.109Z"
   },
   {
    "duration": 33,
    "start_time": "2023-02-14T23:42:08.159Z"
   },
   {
    "duration": 12,
    "start_time": "2023-02-14T23:42:08.194Z"
   },
   {
    "duration": 10,
    "start_time": "2023-02-14T23:42:08.207Z"
   },
   {
    "duration": 25,
    "start_time": "2023-02-14T23:42:08.219Z"
   },
   {
    "duration": 129,
    "start_time": "2023-02-14T23:42:08.245Z"
   },
   {
    "duration": 0,
    "start_time": "2023-02-14T23:42:08.375Z"
   },
   {
    "duration": 0,
    "start_time": "2023-02-14T23:42:08.377Z"
   },
   {
    "duration": 0,
    "start_time": "2023-02-14T23:42:08.378Z"
   },
   {
    "duration": 0,
    "start_time": "2023-02-14T23:42:08.379Z"
   },
   {
    "duration": 0,
    "start_time": "2023-02-14T23:42:08.380Z"
   },
   {
    "duration": 0,
    "start_time": "2023-02-14T23:42:08.381Z"
   },
   {
    "duration": 0,
    "start_time": "2023-02-14T23:42:08.382Z"
   },
   {
    "duration": 0,
    "start_time": "2023-02-14T23:42:08.383Z"
   },
   {
    "duration": 0,
    "start_time": "2023-02-14T23:42:08.384Z"
   },
   {
    "duration": 0,
    "start_time": "2023-02-14T23:42:08.386Z"
   },
   {
    "duration": 0,
    "start_time": "2023-02-14T23:42:08.386Z"
   },
   {
    "duration": 0,
    "start_time": "2023-02-14T23:42:08.387Z"
   },
   {
    "duration": 0,
    "start_time": "2023-02-14T23:42:08.389Z"
   },
   {
    "duration": 0,
    "start_time": "2023-02-14T23:42:08.390Z"
   },
   {
    "duration": 0,
    "start_time": "2023-02-14T23:42:08.391Z"
   },
   {
    "duration": 0,
    "start_time": "2023-02-14T23:42:08.392Z"
   },
   {
    "duration": 0,
    "start_time": "2023-02-14T23:42:08.393Z"
   },
   {
    "duration": 0,
    "start_time": "2023-02-14T23:42:08.394Z"
   },
   {
    "duration": 25,
    "start_time": "2023-02-14T23:45:23.541Z"
   },
   {
    "duration": 6,
    "start_time": "2023-02-14T23:45:42.754Z"
   },
   {
    "duration": 1436,
    "start_time": "2023-02-14T23:46:48.752Z"
   },
   {
    "duration": 36,
    "start_time": "2023-02-14T23:46:50.189Z"
   },
   {
    "duration": 16,
    "start_time": "2023-02-14T23:46:50.226Z"
   },
   {
    "duration": 16,
    "start_time": "2023-02-14T23:46:50.243Z"
   },
   {
    "duration": 48,
    "start_time": "2023-02-14T23:46:50.261Z"
   },
   {
    "duration": 11,
    "start_time": "2023-02-14T23:46:50.311Z"
   },
   {
    "duration": 8,
    "start_time": "2023-02-14T23:46:50.324Z"
   },
   {
    "duration": 29,
    "start_time": "2023-02-14T23:46:50.334Z"
   },
   {
    "duration": 5,
    "start_time": "2023-02-14T23:46:50.364Z"
   },
   {
    "duration": 21,
    "start_time": "2023-02-14T23:46:50.370Z"
   },
   {
    "duration": 181,
    "start_time": "2023-02-14T23:46:50.393Z"
   },
   {
    "duration": 11,
    "start_time": "2023-02-14T23:46:50.576Z"
   },
   {
    "duration": 17,
    "start_time": "2023-02-14T23:46:50.589Z"
   },
   {
    "duration": 1037,
    "start_time": "2023-02-14T23:46:50.609Z"
   },
   {
    "duration": 13,
    "start_time": "2023-02-14T23:46:51.648Z"
   },
   {
    "duration": 11,
    "start_time": "2023-02-14T23:46:51.662Z"
   },
   {
    "duration": 8,
    "start_time": "2023-02-14T23:46:51.675Z"
   },
   {
    "duration": 10,
    "start_time": "2023-02-14T23:46:51.684Z"
   },
   {
    "duration": 7,
    "start_time": "2023-02-14T23:46:51.695Z"
   },
   {
    "duration": 17,
    "start_time": "2023-02-14T23:46:51.703Z"
   },
   {
    "duration": 8,
    "start_time": "2023-02-14T23:46:51.722Z"
   },
   {
    "duration": 10,
    "start_time": "2023-02-14T23:46:51.731Z"
   },
   {
    "duration": 24,
    "start_time": "2023-02-14T23:46:51.742Z"
   },
   {
    "duration": 5,
    "start_time": "2023-02-14T23:46:51.768Z"
   },
   {
    "duration": 5,
    "start_time": "2023-02-14T23:46:51.774Z"
   },
   {
    "duration": 22,
    "start_time": "2023-02-14T23:46:51.781Z"
   },
   {
    "duration": 23,
    "start_time": "2023-02-14T23:46:51.804Z"
   },
   {
    "duration": 4,
    "start_time": "2023-02-14T23:46:51.829Z"
   },
   {
    "duration": 107,
    "start_time": "2023-02-14T23:46:51.853Z"
   },
   {
    "duration": 0,
    "start_time": "2023-02-14T23:46:51.962Z"
   },
   {
    "duration": 0,
    "start_time": "2023-02-14T23:46:51.963Z"
   },
   {
    "duration": 0,
    "start_time": "2023-02-14T23:46:51.964Z"
   },
   {
    "duration": 0,
    "start_time": "2023-02-14T23:46:51.965Z"
   },
   {
    "duration": 0,
    "start_time": "2023-02-14T23:46:51.966Z"
   },
   {
    "duration": 0,
    "start_time": "2023-02-14T23:46:51.967Z"
   },
   {
    "duration": 0,
    "start_time": "2023-02-14T23:46:51.968Z"
   },
   {
    "duration": 0,
    "start_time": "2023-02-14T23:46:51.969Z"
   },
   {
    "duration": 0,
    "start_time": "2023-02-14T23:46:51.970Z"
   },
   {
    "duration": 0,
    "start_time": "2023-02-14T23:46:51.971Z"
   },
   {
    "duration": 0,
    "start_time": "2023-02-14T23:46:51.972Z"
   },
   {
    "duration": 0,
    "start_time": "2023-02-14T23:46:51.973Z"
   },
   {
    "duration": 0,
    "start_time": "2023-02-14T23:46:51.973Z"
   },
   {
    "duration": 0,
    "start_time": "2023-02-14T23:46:51.974Z"
   },
   {
    "duration": 0,
    "start_time": "2023-02-14T23:46:51.975Z"
   },
   {
    "duration": 0,
    "start_time": "2023-02-14T23:46:51.976Z"
   },
   {
    "duration": 0,
    "start_time": "2023-02-14T23:46:51.977Z"
   },
   {
    "duration": 11,
    "start_time": "2023-02-14T23:47:01.341Z"
   },
   {
    "duration": 1357,
    "start_time": "2023-02-14T23:47:21.197Z"
   },
   {
    "duration": 36,
    "start_time": "2023-02-14T23:47:22.556Z"
   },
   {
    "duration": 16,
    "start_time": "2023-02-14T23:47:22.597Z"
   },
   {
    "duration": 5,
    "start_time": "2023-02-14T23:47:22.614Z"
   },
   {
    "duration": 46,
    "start_time": "2023-02-14T23:47:22.620Z"
   },
   {
    "duration": 11,
    "start_time": "2023-02-14T23:47:22.667Z"
   },
   {
    "duration": 6,
    "start_time": "2023-02-14T23:47:22.680Z"
   },
   {
    "duration": 17,
    "start_time": "2023-02-14T23:47:22.688Z"
   },
   {
    "duration": 4,
    "start_time": "2023-02-14T23:47:22.707Z"
   },
   {
    "duration": 18,
    "start_time": "2023-02-14T23:47:22.712Z"
   },
   {
    "duration": 203,
    "start_time": "2023-02-14T23:47:22.731Z"
   },
   {
    "duration": 18,
    "start_time": "2023-02-14T23:47:22.936Z"
   },
   {
    "duration": 17,
    "start_time": "2023-02-14T23:47:22.955Z"
   },
   {
    "duration": 996,
    "start_time": "2023-02-14T23:47:22.974Z"
   },
   {
    "duration": 13,
    "start_time": "2023-02-14T23:47:23.971Z"
   },
   {
    "duration": 21,
    "start_time": "2023-02-14T23:47:23.986Z"
   },
   {
    "duration": 38,
    "start_time": "2023-02-14T23:47:24.009Z"
   },
   {
    "duration": 28,
    "start_time": "2023-02-14T23:47:24.049Z"
   },
   {
    "duration": 30,
    "start_time": "2023-02-14T23:47:24.078Z"
   },
   {
    "duration": 57,
    "start_time": "2023-02-14T23:47:24.110Z"
   },
   {
    "duration": 18,
    "start_time": "2023-02-14T23:47:24.169Z"
   },
   {
    "duration": 38,
    "start_time": "2023-02-14T23:47:24.188Z"
   },
   {
    "duration": 27,
    "start_time": "2023-02-14T23:47:24.227Z"
   },
   {
    "duration": 27,
    "start_time": "2023-02-14T23:47:24.256Z"
   },
   {
    "duration": 36,
    "start_time": "2023-02-14T23:47:24.285Z"
   },
   {
    "duration": 47,
    "start_time": "2023-02-14T23:47:24.323Z"
   },
   {
    "duration": 30,
    "start_time": "2023-02-14T23:47:24.373Z"
   },
   {
    "duration": 45,
    "start_time": "2023-02-14T23:47:24.404Z"
   },
   {
    "duration": 4,
    "start_time": "2023-02-14T23:47:24.451Z"
   },
   {
    "duration": 136,
    "start_time": "2023-02-14T23:47:24.457Z"
   },
   {
    "duration": 0,
    "start_time": "2023-02-14T23:47:24.594Z"
   },
   {
    "duration": 0,
    "start_time": "2023-02-14T23:47:24.595Z"
   },
   {
    "duration": 0,
    "start_time": "2023-02-14T23:47:24.596Z"
   },
   {
    "duration": 0,
    "start_time": "2023-02-14T23:47:24.597Z"
   },
   {
    "duration": 0,
    "start_time": "2023-02-14T23:47:24.598Z"
   },
   {
    "duration": 0,
    "start_time": "2023-02-14T23:47:24.599Z"
   },
   {
    "duration": 0,
    "start_time": "2023-02-14T23:47:24.600Z"
   },
   {
    "duration": 0,
    "start_time": "2023-02-14T23:47:24.601Z"
   },
   {
    "duration": 0,
    "start_time": "2023-02-14T23:47:24.602Z"
   },
   {
    "duration": 0,
    "start_time": "2023-02-14T23:47:24.603Z"
   },
   {
    "duration": 0,
    "start_time": "2023-02-14T23:47:24.604Z"
   },
   {
    "duration": 0,
    "start_time": "2023-02-14T23:47:24.605Z"
   },
   {
    "duration": 0,
    "start_time": "2023-02-14T23:47:24.606Z"
   },
   {
    "duration": 0,
    "start_time": "2023-02-14T23:47:24.607Z"
   },
   {
    "duration": 0,
    "start_time": "2023-02-14T23:47:24.607Z"
   },
   {
    "duration": 0,
    "start_time": "2023-02-14T23:47:24.609Z"
   },
   {
    "duration": 0,
    "start_time": "2023-02-14T23:47:24.610Z"
   },
   {
    "duration": 8761,
    "start_time": "2023-02-14T23:52:32.629Z"
   },
   {
    "duration": 1185,
    "start_time": "2023-02-14T23:52:41.392Z"
   },
   {
    "duration": 37,
    "start_time": "2023-02-14T23:52:42.579Z"
   },
   {
    "duration": 17,
    "start_time": "2023-02-14T23:52:42.618Z"
   },
   {
    "duration": 5,
    "start_time": "2023-02-14T23:52:42.637Z"
   },
   {
    "duration": 44,
    "start_time": "2023-02-14T23:52:42.643Z"
   },
   {
    "duration": 12,
    "start_time": "2023-02-14T23:52:42.688Z"
   },
   {
    "duration": 7,
    "start_time": "2023-02-14T23:52:42.701Z"
   },
   {
    "duration": 16,
    "start_time": "2023-02-14T23:52:42.709Z"
   },
   {
    "duration": 29,
    "start_time": "2023-02-14T23:52:42.727Z"
   },
   {
    "duration": 8,
    "start_time": "2023-02-14T23:52:42.757Z"
   },
   {
    "duration": 193,
    "start_time": "2023-02-14T23:52:42.767Z"
   },
   {
    "duration": 10,
    "start_time": "2023-02-14T23:52:42.962Z"
   },
   {
    "duration": 17,
    "start_time": "2023-02-14T23:52:42.975Z"
   },
   {
    "duration": 968,
    "start_time": "2023-02-14T23:52:42.994Z"
   },
   {
    "duration": 14,
    "start_time": "2023-02-14T23:52:43.963Z"
   },
   {
    "duration": 7,
    "start_time": "2023-02-14T23:52:43.978Z"
   },
   {
    "duration": 6,
    "start_time": "2023-02-14T23:52:43.987Z"
   },
   {
    "duration": 6,
    "start_time": "2023-02-14T23:52:43.995Z"
   },
   {
    "duration": 6,
    "start_time": "2023-02-14T23:52:44.002Z"
   },
   {
    "duration": 14,
    "start_time": "2023-02-14T23:52:44.009Z"
   },
   {
    "duration": 4,
    "start_time": "2023-02-14T23:52:44.024Z"
   },
   {
    "duration": 7,
    "start_time": "2023-02-14T23:52:44.029Z"
   },
   {
    "duration": 19,
    "start_time": "2023-02-14T23:52:44.037Z"
   },
   {
    "duration": 4,
    "start_time": "2023-02-14T23:52:44.058Z"
   },
   {
    "duration": 91,
    "start_time": "2023-02-14T23:52:44.064Z"
   },
   {
    "duration": 26,
    "start_time": "2023-02-14T23:52:44.157Z"
   },
   {
    "duration": 17,
    "start_time": "2023-02-14T23:52:44.185Z"
   },
   {
    "duration": 77,
    "start_time": "2023-02-14T23:52:44.204Z"
   },
   {
    "duration": 31,
    "start_time": "2023-02-14T23:52:44.283Z"
   },
   {
    "duration": 119,
    "start_time": "2023-02-14T23:52:44.316Z"
   },
   {
    "duration": 0,
    "start_time": "2023-02-14T23:52:44.437Z"
   },
   {
    "duration": 0,
    "start_time": "2023-02-14T23:52:44.438Z"
   },
   {
    "duration": 0,
    "start_time": "2023-02-14T23:52:44.439Z"
   },
   {
    "duration": 0,
    "start_time": "2023-02-14T23:52:44.440Z"
   },
   {
    "duration": 0,
    "start_time": "2023-02-14T23:52:44.441Z"
   },
   {
    "duration": 0,
    "start_time": "2023-02-14T23:52:44.453Z"
   },
   {
    "duration": 0,
    "start_time": "2023-02-14T23:52:44.454Z"
   },
   {
    "duration": 0,
    "start_time": "2023-02-14T23:52:44.455Z"
   },
   {
    "duration": 0,
    "start_time": "2023-02-14T23:52:44.456Z"
   },
   {
    "duration": 0,
    "start_time": "2023-02-14T23:52:44.457Z"
   },
   {
    "duration": 0,
    "start_time": "2023-02-14T23:52:44.458Z"
   },
   {
    "duration": 0,
    "start_time": "2023-02-14T23:52:44.459Z"
   },
   {
    "duration": 0,
    "start_time": "2023-02-14T23:52:44.460Z"
   },
   {
    "duration": 0,
    "start_time": "2023-02-14T23:52:44.461Z"
   },
   {
    "duration": 0,
    "start_time": "2023-02-14T23:52:44.462Z"
   },
   {
    "duration": 0,
    "start_time": "2023-02-14T23:52:44.463Z"
   },
   {
    "duration": 0,
    "start_time": "2023-02-14T23:52:44.465Z"
   },
   {
    "duration": 2125,
    "start_time": "2023-02-15T00:06:37.167Z"
   },
   {
    "duration": 1197,
    "start_time": "2023-02-15T00:06:39.294Z"
   },
   {
    "duration": 37,
    "start_time": "2023-02-15T00:06:40.493Z"
   },
   {
    "duration": 17,
    "start_time": "2023-02-15T00:06:40.531Z"
   },
   {
    "duration": 4,
    "start_time": "2023-02-15T00:06:40.549Z"
   },
   {
    "duration": 41,
    "start_time": "2023-02-15T00:06:40.554Z"
   },
   {
    "duration": 12,
    "start_time": "2023-02-15T00:06:40.596Z"
   },
   {
    "duration": 6,
    "start_time": "2023-02-15T00:06:40.610Z"
   },
   {
    "duration": 38,
    "start_time": "2023-02-15T00:06:40.618Z"
   },
   {
    "duration": 4,
    "start_time": "2023-02-15T00:06:40.659Z"
   },
   {
    "duration": 8,
    "start_time": "2023-02-15T00:06:40.664Z"
   },
   {
    "duration": 198,
    "start_time": "2023-02-15T00:06:40.674Z"
   },
   {
    "duration": 11,
    "start_time": "2023-02-15T00:06:40.874Z"
   },
   {
    "duration": 18,
    "start_time": "2023-02-15T00:06:40.887Z"
   },
   {
    "duration": 979,
    "start_time": "2023-02-15T00:06:40.907Z"
   },
   {
    "duration": 12,
    "start_time": "2023-02-15T00:06:41.888Z"
   },
   {
    "duration": 10,
    "start_time": "2023-02-15T00:06:41.902Z"
   },
   {
    "duration": 8,
    "start_time": "2023-02-15T00:06:41.913Z"
   },
   {
    "duration": 8,
    "start_time": "2023-02-15T00:06:41.922Z"
   },
   {
    "duration": 3,
    "start_time": "2023-02-15T00:06:41.932Z"
   },
   {
    "duration": 18,
    "start_time": "2023-02-15T00:06:41.936Z"
   },
   {
    "duration": 5,
    "start_time": "2023-02-15T00:06:41.955Z"
   },
   {
    "duration": 8,
    "start_time": "2023-02-15T00:06:41.961Z"
   },
   {
    "duration": 8,
    "start_time": "2023-02-15T00:06:41.971Z"
   },
   {
    "duration": 5,
    "start_time": "2023-02-15T00:06:41.980Z"
   },
   {
    "duration": 80,
    "start_time": "2023-02-15T00:06:41.986Z"
   },
   {
    "duration": 29,
    "start_time": "2023-02-15T00:06:42.068Z"
   },
   {
    "duration": 15,
    "start_time": "2023-02-15T00:06:42.101Z"
   },
   {
    "duration": 117,
    "start_time": "2023-02-15T00:06:42.117Z"
   },
   {
    "duration": 0,
    "start_time": "2023-02-15T00:06:42.236Z"
   },
   {
    "duration": 0,
    "start_time": "2023-02-15T00:06:42.237Z"
   },
   {
    "duration": 0,
    "start_time": "2023-02-15T00:06:42.238Z"
   },
   {
    "duration": 0,
    "start_time": "2023-02-15T00:06:42.239Z"
   },
   {
    "duration": 0,
    "start_time": "2023-02-15T00:06:42.240Z"
   },
   {
    "duration": 0,
    "start_time": "2023-02-15T00:06:42.241Z"
   },
   {
    "duration": 0,
    "start_time": "2023-02-15T00:06:42.253Z"
   },
   {
    "duration": 0,
    "start_time": "2023-02-15T00:06:42.254Z"
   },
   {
    "duration": 0,
    "start_time": "2023-02-15T00:06:42.255Z"
   },
   {
    "duration": 0,
    "start_time": "2023-02-15T00:06:42.256Z"
   },
   {
    "duration": 0,
    "start_time": "2023-02-15T00:06:42.257Z"
   },
   {
    "duration": 0,
    "start_time": "2023-02-15T00:06:42.258Z"
   },
   {
    "duration": 0,
    "start_time": "2023-02-15T00:06:42.259Z"
   },
   {
    "duration": 0,
    "start_time": "2023-02-15T00:06:42.260Z"
   },
   {
    "duration": 0,
    "start_time": "2023-02-15T00:06:42.261Z"
   },
   {
    "duration": 0,
    "start_time": "2023-02-15T00:06:42.262Z"
   },
   {
    "duration": 0,
    "start_time": "2023-02-15T00:06:42.263Z"
   },
   {
    "duration": 0,
    "start_time": "2023-02-15T00:06:42.264Z"
   },
   {
    "duration": 0,
    "start_time": "2023-02-15T00:06:42.264Z"
   },
   {
    "duration": 5749,
    "start_time": "2023-02-15T00:08:37.898Z"
   },
   {
    "duration": 1252,
    "start_time": "2023-02-15T00:08:43.650Z"
   },
   {
    "duration": 37,
    "start_time": "2023-02-15T00:08:44.904Z"
   },
   {
    "duration": 16,
    "start_time": "2023-02-15T00:08:44.942Z"
   },
   {
    "duration": 6,
    "start_time": "2023-02-15T00:08:44.960Z"
   },
   {
    "duration": 47,
    "start_time": "2023-02-15T00:08:44.968Z"
   },
   {
    "duration": 14,
    "start_time": "2023-02-15T00:08:45.017Z"
   },
   {
    "duration": 25,
    "start_time": "2023-02-15T00:08:45.033Z"
   },
   {
    "duration": 19,
    "start_time": "2023-02-15T00:08:45.060Z"
   },
   {
    "duration": 4,
    "start_time": "2023-02-15T00:08:45.082Z"
   },
   {
    "duration": 13,
    "start_time": "2023-02-15T00:08:45.088Z"
   },
   {
    "duration": 206,
    "start_time": "2023-02-15T00:08:45.104Z"
   },
   {
    "duration": 11,
    "start_time": "2023-02-15T00:08:45.312Z"
   },
   {
    "duration": 30,
    "start_time": "2023-02-15T00:08:45.324Z"
   },
   {
    "duration": 958,
    "start_time": "2023-02-15T00:08:45.356Z"
   },
   {
    "duration": 15,
    "start_time": "2023-02-15T00:08:46.317Z"
   },
   {
    "duration": 8,
    "start_time": "2023-02-15T00:08:46.334Z"
   },
   {
    "duration": 10,
    "start_time": "2023-02-15T00:08:46.344Z"
   },
   {
    "duration": 10,
    "start_time": "2023-02-15T00:08:46.355Z"
   },
   {
    "duration": 6,
    "start_time": "2023-02-15T00:08:46.366Z"
   },
   {
    "duration": 15,
    "start_time": "2023-02-15T00:08:46.374Z"
   },
   {
    "duration": 4,
    "start_time": "2023-02-15T00:08:46.391Z"
   },
   {
    "duration": 10,
    "start_time": "2023-02-15T00:08:46.397Z"
   },
   {
    "duration": 10,
    "start_time": "2023-02-15T00:08:46.409Z"
   },
   {
    "duration": 5,
    "start_time": "2023-02-15T00:08:46.421Z"
   },
   {
    "duration": 103,
    "start_time": "2023-02-15T00:08:46.428Z"
   },
   {
    "duration": 36,
    "start_time": "2023-02-15T00:08:46.532Z"
   },
   {
    "duration": 17,
    "start_time": "2023-02-15T00:08:46.572Z"
   },
   {
    "duration": 125,
    "start_time": "2023-02-15T00:08:46.590Z"
   },
   {
    "duration": 0,
    "start_time": "2023-02-15T00:08:46.716Z"
   },
   {
    "duration": 0,
    "start_time": "2023-02-15T00:08:46.718Z"
   },
   {
    "duration": 0,
    "start_time": "2023-02-15T00:08:46.719Z"
   },
   {
    "duration": 0,
    "start_time": "2023-02-15T00:08:46.720Z"
   },
   {
    "duration": 0,
    "start_time": "2023-02-15T00:08:46.721Z"
   },
   {
    "duration": 0,
    "start_time": "2023-02-15T00:08:46.722Z"
   },
   {
    "duration": 0,
    "start_time": "2023-02-15T00:08:46.723Z"
   },
   {
    "duration": 0,
    "start_time": "2023-02-15T00:08:46.724Z"
   },
   {
    "duration": 0,
    "start_time": "2023-02-15T00:08:46.725Z"
   },
   {
    "duration": 0,
    "start_time": "2023-02-15T00:08:46.726Z"
   },
   {
    "duration": 0,
    "start_time": "2023-02-15T00:08:46.727Z"
   },
   {
    "duration": 0,
    "start_time": "2023-02-15T00:08:46.753Z"
   },
   {
    "duration": 0,
    "start_time": "2023-02-15T00:08:46.754Z"
   },
   {
    "duration": 0,
    "start_time": "2023-02-15T00:08:46.755Z"
   },
   {
    "duration": 0,
    "start_time": "2023-02-15T00:08:46.756Z"
   },
   {
    "duration": 0,
    "start_time": "2023-02-15T00:08:46.757Z"
   },
   {
    "duration": 0,
    "start_time": "2023-02-15T00:08:46.758Z"
   },
   {
    "duration": 0,
    "start_time": "2023-02-15T00:08:46.759Z"
   },
   {
    "duration": 0,
    "start_time": "2023-02-15T00:08:46.760Z"
   },
   {
    "duration": 2143,
    "start_time": "2023-02-15T00:09:16.827Z"
   },
   {
    "duration": 1241,
    "start_time": "2023-02-15T00:09:18.972Z"
   },
   {
    "duration": 36,
    "start_time": "2023-02-15T00:09:20.214Z"
   },
   {
    "duration": 16,
    "start_time": "2023-02-15T00:09:20.252Z"
   },
   {
    "duration": 29,
    "start_time": "2023-02-15T00:09:20.270Z"
   },
   {
    "duration": 42,
    "start_time": "2023-02-15T00:09:20.301Z"
   },
   {
    "duration": 13,
    "start_time": "2023-02-15T00:09:20.345Z"
   },
   {
    "duration": 24,
    "start_time": "2023-02-15T00:09:20.360Z"
   },
   {
    "duration": 31,
    "start_time": "2023-02-15T00:09:20.386Z"
   },
   {
    "duration": 4,
    "start_time": "2023-02-15T00:09:20.421Z"
   },
   {
    "duration": 14,
    "start_time": "2023-02-15T00:09:20.427Z"
   },
   {
    "duration": 188,
    "start_time": "2023-02-15T00:09:20.443Z"
   },
   {
    "duration": 24,
    "start_time": "2023-02-15T00:09:20.633Z"
   },
   {
    "duration": 18,
    "start_time": "2023-02-15T00:09:20.659Z"
   },
   {
    "duration": 953,
    "start_time": "2023-02-15T00:09:20.678Z"
   },
   {
    "duration": 15,
    "start_time": "2023-02-15T00:09:21.632Z"
   },
   {
    "duration": 8,
    "start_time": "2023-02-15T00:09:21.649Z"
   },
   {
    "duration": 11,
    "start_time": "2023-02-15T00:09:21.659Z"
   },
   {
    "duration": 8,
    "start_time": "2023-02-15T00:09:21.672Z"
   },
   {
    "duration": 7,
    "start_time": "2023-02-15T00:09:21.681Z"
   },
   {
    "duration": 13,
    "start_time": "2023-02-15T00:09:21.689Z"
   },
   {
    "duration": 4,
    "start_time": "2023-02-15T00:09:21.704Z"
   },
   {
    "duration": 9,
    "start_time": "2023-02-15T00:09:21.709Z"
   },
   {
    "duration": 7,
    "start_time": "2023-02-15T00:09:21.720Z"
   },
   {
    "duration": 24,
    "start_time": "2023-02-15T00:09:21.729Z"
   },
   {
    "duration": 76,
    "start_time": "2023-02-15T00:09:21.755Z"
   },
   {
    "duration": 29,
    "start_time": "2023-02-15T00:09:21.833Z"
   },
   {
    "duration": 16,
    "start_time": "2023-02-15T00:09:21.865Z"
   },
   {
    "duration": 117,
    "start_time": "2023-02-15T00:09:21.882Z"
   },
   {
    "duration": 0,
    "start_time": "2023-02-15T00:09:22.001Z"
   },
   {
    "duration": 0,
    "start_time": "2023-02-15T00:09:22.002Z"
   },
   {
    "duration": 0,
    "start_time": "2023-02-15T00:09:22.003Z"
   },
   {
    "duration": 0,
    "start_time": "2023-02-15T00:09:22.004Z"
   },
   {
    "duration": 0,
    "start_time": "2023-02-15T00:09:22.005Z"
   },
   {
    "duration": 1,
    "start_time": "2023-02-15T00:09:22.005Z"
   },
   {
    "duration": 0,
    "start_time": "2023-02-15T00:09:22.006Z"
   },
   {
    "duration": 0,
    "start_time": "2023-02-15T00:09:22.007Z"
   },
   {
    "duration": 0,
    "start_time": "2023-02-15T00:09:22.008Z"
   },
   {
    "duration": 0,
    "start_time": "2023-02-15T00:09:22.009Z"
   },
   {
    "duration": 0,
    "start_time": "2023-02-15T00:09:22.010Z"
   },
   {
    "duration": 0,
    "start_time": "2023-02-15T00:09:22.011Z"
   },
   {
    "duration": 0,
    "start_time": "2023-02-15T00:09:22.012Z"
   },
   {
    "duration": 0,
    "start_time": "2023-02-15T00:09:22.013Z"
   },
   {
    "duration": 0,
    "start_time": "2023-02-15T00:09:22.014Z"
   },
   {
    "duration": 0,
    "start_time": "2023-02-15T00:09:22.015Z"
   },
   {
    "duration": 0,
    "start_time": "2023-02-15T00:09:22.016Z"
   },
   {
    "duration": 0,
    "start_time": "2023-02-15T00:09:22.017Z"
   },
   {
    "duration": 0,
    "start_time": "2023-02-15T00:09:22.017Z"
   },
   {
    "duration": 2148,
    "start_time": "2023-02-15T00:11:29.325Z"
   },
   {
    "duration": 1235,
    "start_time": "2023-02-15T00:11:31.475Z"
   },
   {
    "duration": 36,
    "start_time": "2023-02-15T00:11:32.711Z"
   },
   {
    "duration": 15,
    "start_time": "2023-02-15T00:11:32.749Z"
   },
   {
    "duration": 4,
    "start_time": "2023-02-15T00:11:32.765Z"
   },
   {
    "duration": 41,
    "start_time": "2023-02-15T00:11:32.771Z"
   },
   {
    "duration": 13,
    "start_time": "2023-02-15T00:11:32.813Z"
   },
   {
    "duration": 32,
    "start_time": "2023-02-15T00:11:32.827Z"
   },
   {
    "duration": 20,
    "start_time": "2023-02-15T00:11:32.861Z"
   },
   {
    "duration": 5,
    "start_time": "2023-02-15T00:11:32.884Z"
   },
   {
    "duration": 11,
    "start_time": "2023-02-15T00:11:32.890Z"
   },
   {
    "duration": 222,
    "start_time": "2023-02-15T00:11:32.902Z"
   },
   {
    "duration": 12,
    "start_time": "2023-02-15T00:11:33.126Z"
   },
   {
    "duration": 33,
    "start_time": "2023-02-15T00:11:33.139Z"
   },
   {
    "duration": 949,
    "start_time": "2023-02-15T00:11:33.173Z"
   },
   {
    "duration": 13,
    "start_time": "2023-02-15T00:11:34.124Z"
   },
   {
    "duration": 8,
    "start_time": "2023-02-15T00:11:34.138Z"
   },
   {
    "duration": 9,
    "start_time": "2023-02-15T00:11:34.148Z"
   },
   {
    "duration": 8,
    "start_time": "2023-02-15T00:11:34.158Z"
   },
   {
    "duration": 4,
    "start_time": "2023-02-15T00:11:34.167Z"
   },
   {
    "duration": 12,
    "start_time": "2023-02-15T00:11:34.172Z"
   },
   {
    "duration": 4,
    "start_time": "2023-02-15T00:11:34.186Z"
   },
   {
    "duration": 7,
    "start_time": "2023-02-15T00:11:34.192Z"
   },
   {
    "duration": 8,
    "start_time": "2023-02-15T00:11:34.200Z"
   },
   {
    "duration": 8,
    "start_time": "2023-02-15T00:11:34.209Z"
   },
   {
    "duration": 89,
    "start_time": "2023-02-15T00:11:34.218Z"
   },
   {
    "duration": 30,
    "start_time": "2023-02-15T00:11:34.309Z"
   },
   {
    "duration": 21,
    "start_time": "2023-02-15T00:11:34.342Z"
   },
   {
    "duration": 121,
    "start_time": "2023-02-15T00:11:34.364Z"
   },
   {
    "duration": 0,
    "start_time": "2023-02-15T00:11:34.487Z"
   },
   {
    "duration": 0,
    "start_time": "2023-02-15T00:11:34.488Z"
   },
   {
    "duration": 0,
    "start_time": "2023-02-15T00:11:34.489Z"
   },
   {
    "duration": 0,
    "start_time": "2023-02-15T00:11:34.490Z"
   },
   {
    "duration": 0,
    "start_time": "2023-02-15T00:11:34.491Z"
   },
   {
    "duration": 0,
    "start_time": "2023-02-15T00:11:34.493Z"
   },
   {
    "duration": 0,
    "start_time": "2023-02-15T00:11:34.494Z"
   },
   {
    "duration": 0,
    "start_time": "2023-02-15T00:11:34.495Z"
   },
   {
    "duration": 0,
    "start_time": "2023-02-15T00:11:34.496Z"
   },
   {
    "duration": 0,
    "start_time": "2023-02-15T00:11:34.497Z"
   },
   {
    "duration": 0,
    "start_time": "2023-02-15T00:11:34.499Z"
   },
   {
    "duration": 0,
    "start_time": "2023-02-15T00:11:34.500Z"
   },
   {
    "duration": 0,
    "start_time": "2023-02-15T00:11:34.501Z"
   },
   {
    "duration": 0,
    "start_time": "2023-02-15T00:11:34.502Z"
   },
   {
    "duration": 0,
    "start_time": "2023-02-15T00:11:34.504Z"
   },
   {
    "duration": 0,
    "start_time": "2023-02-15T00:11:34.505Z"
   },
   {
    "duration": 0,
    "start_time": "2023-02-15T00:11:34.506Z"
   },
   {
    "duration": 0,
    "start_time": "2023-02-15T00:11:34.507Z"
   },
   {
    "duration": 0,
    "start_time": "2023-02-15T00:11:34.508Z"
   },
   {
    "duration": 24,
    "start_time": "2023-02-15T00:12:30.509Z"
   },
   {
    "duration": 11,
    "start_time": "2023-02-15T00:12:51.109Z"
   },
   {
    "duration": 13,
    "start_time": "2023-02-15T00:14:02.207Z"
   },
   {
    "duration": 11,
    "start_time": "2023-02-15T00:14:23.352Z"
   },
   {
    "duration": 10,
    "start_time": "2023-02-15T00:15:02.518Z"
   },
   {
    "duration": 1501,
    "start_time": "2023-02-15T00:17:11.433Z"
   },
   {
    "duration": 1283,
    "start_time": "2023-02-15T00:17:12.936Z"
   },
   {
    "duration": 36,
    "start_time": "2023-02-15T00:17:14.221Z"
   },
   {
    "duration": 16,
    "start_time": "2023-02-15T00:17:14.259Z"
   },
   {
    "duration": 4,
    "start_time": "2023-02-15T00:17:14.277Z"
   },
   {
    "duration": 40,
    "start_time": "2023-02-15T00:17:14.283Z"
   },
   {
    "duration": 33,
    "start_time": "2023-02-15T00:17:14.325Z"
   },
   {
    "duration": 6,
    "start_time": "2023-02-15T00:17:14.360Z"
   },
   {
    "duration": 16,
    "start_time": "2023-02-15T00:17:14.368Z"
   },
   {
    "duration": 5,
    "start_time": "2023-02-15T00:17:14.386Z"
   },
   {
    "duration": 9,
    "start_time": "2023-02-15T00:17:14.392Z"
   },
   {
    "duration": 208,
    "start_time": "2023-02-15T00:17:14.402Z"
   },
   {
    "duration": 11,
    "start_time": "2023-02-15T00:17:14.611Z"
   },
   {
    "duration": 31,
    "start_time": "2023-02-15T00:17:14.623Z"
   },
   {
    "duration": 946,
    "start_time": "2023-02-15T00:17:14.656Z"
   },
   {
    "duration": 12,
    "start_time": "2023-02-15T00:17:15.604Z"
   },
   {
    "duration": 16,
    "start_time": "2023-02-15T00:17:15.618Z"
   },
   {
    "duration": 8,
    "start_time": "2023-02-15T00:17:15.635Z"
   },
   {
    "duration": 7,
    "start_time": "2023-02-15T00:17:15.644Z"
   },
   {
    "duration": 6,
    "start_time": "2023-02-15T00:17:15.653Z"
   },
   {
    "duration": 13,
    "start_time": "2023-02-15T00:17:15.661Z"
   },
   {
    "duration": 6,
    "start_time": "2023-02-15T00:17:15.676Z"
   },
   {
    "duration": 9,
    "start_time": "2023-02-15T00:17:15.683Z"
   },
   {
    "duration": 9,
    "start_time": "2023-02-15T00:17:15.693Z"
   },
   {
    "duration": 6,
    "start_time": "2023-02-15T00:17:15.704Z"
   },
   {
    "duration": 82,
    "start_time": "2023-02-15T00:17:15.711Z"
   },
   {
    "duration": 27,
    "start_time": "2023-02-15T00:17:15.794Z"
   },
   {
    "duration": 29,
    "start_time": "2023-02-15T00:17:15.825Z"
   },
   {
    "duration": 126,
    "start_time": "2023-02-15T00:17:15.856Z"
   },
   {
    "duration": 0,
    "start_time": "2023-02-15T00:17:15.984Z"
   },
   {
    "duration": 0,
    "start_time": "2023-02-15T00:17:15.985Z"
   },
   {
    "duration": 0,
    "start_time": "2023-02-15T00:17:15.986Z"
   },
   {
    "duration": 0,
    "start_time": "2023-02-15T00:17:15.987Z"
   },
   {
    "duration": 0,
    "start_time": "2023-02-15T00:17:15.988Z"
   },
   {
    "duration": 0,
    "start_time": "2023-02-15T00:17:15.989Z"
   },
   {
    "duration": 0,
    "start_time": "2023-02-15T00:17:15.990Z"
   },
   {
    "duration": 0,
    "start_time": "2023-02-15T00:17:15.991Z"
   },
   {
    "duration": 0,
    "start_time": "2023-02-15T00:17:15.992Z"
   },
   {
    "duration": 0,
    "start_time": "2023-02-15T00:17:15.993Z"
   },
   {
    "duration": 0,
    "start_time": "2023-02-15T00:17:15.994Z"
   },
   {
    "duration": 0,
    "start_time": "2023-02-15T00:17:15.995Z"
   },
   {
    "duration": 0,
    "start_time": "2023-02-15T00:17:15.996Z"
   },
   {
    "duration": 0,
    "start_time": "2023-02-15T00:17:15.997Z"
   },
   {
    "duration": 0,
    "start_time": "2023-02-15T00:17:15.998Z"
   },
   {
    "duration": 0,
    "start_time": "2023-02-15T00:17:15.999Z"
   },
   {
    "duration": 0,
    "start_time": "2023-02-15T00:17:15.999Z"
   },
   {
    "duration": 0,
    "start_time": "2023-02-15T00:17:16.000Z"
   },
   {
    "duration": 0,
    "start_time": "2023-02-15T00:17:16.001Z"
   },
   {
    "duration": 18,
    "start_time": "2023-02-15T00:17:53.653Z"
   },
   {
    "duration": 24,
    "start_time": "2023-02-15T00:19:30.561Z"
   },
   {
    "duration": 11,
    "start_time": "2023-02-15T00:21:00.201Z"
   },
   {
    "duration": 1518,
    "start_time": "2023-02-15T00:24:45.063Z"
   },
   {
    "duration": 1234,
    "start_time": "2023-02-15T00:24:46.583Z"
   },
   {
    "duration": 37,
    "start_time": "2023-02-15T00:24:47.818Z"
   },
   {
    "duration": 16,
    "start_time": "2023-02-15T00:24:47.857Z"
   },
   {
    "duration": 4,
    "start_time": "2023-02-15T00:24:47.875Z"
   },
   {
    "duration": 40,
    "start_time": "2023-02-15T00:24:47.881Z"
   },
   {
    "duration": 11,
    "start_time": "2023-02-15T00:24:47.922Z"
   },
   {
    "duration": 7,
    "start_time": "2023-02-15T00:24:47.953Z"
   },
   {
    "duration": 17,
    "start_time": "2023-02-15T00:24:47.962Z"
   },
   {
    "duration": 4,
    "start_time": "2023-02-15T00:24:47.981Z"
   },
   {
    "duration": 8,
    "start_time": "2023-02-15T00:24:47.986Z"
   },
   {
    "duration": 212,
    "start_time": "2023-02-15T00:24:47.995Z"
   },
   {
    "duration": 11,
    "start_time": "2023-02-15T00:24:48.209Z"
   },
   {
    "duration": 34,
    "start_time": "2023-02-15T00:24:48.221Z"
   },
   {
    "duration": 907,
    "start_time": "2023-02-15T00:24:48.257Z"
   },
   {
    "duration": 12,
    "start_time": "2023-02-15T00:24:49.166Z"
   },
   {
    "duration": 14,
    "start_time": "2023-02-15T00:24:49.180Z"
   },
   {
    "duration": 9,
    "start_time": "2023-02-15T00:24:49.195Z"
   },
   {
    "duration": 8,
    "start_time": "2023-02-15T00:24:49.206Z"
   },
   {
    "duration": 5,
    "start_time": "2023-02-15T00:24:49.216Z"
   },
   {
    "duration": 12,
    "start_time": "2023-02-15T00:24:49.222Z"
   },
   {
    "duration": 4,
    "start_time": "2023-02-15T00:24:49.236Z"
   },
   {
    "duration": 12,
    "start_time": "2023-02-15T00:24:49.241Z"
   },
   {
    "duration": 5,
    "start_time": "2023-02-15T00:24:49.254Z"
   },
   {
    "duration": 6,
    "start_time": "2023-02-15T00:24:49.261Z"
   },
   {
    "duration": 90,
    "start_time": "2023-02-15T00:24:49.268Z"
   },
   {
    "duration": 23,
    "start_time": "2023-02-15T00:24:49.360Z"
   },
   {
    "duration": 17,
    "start_time": "2023-02-15T00:24:49.386Z"
   },
   {
    "duration": 154,
    "start_time": "2023-02-15T00:24:49.404Z"
   },
   {
    "duration": 0,
    "start_time": "2023-02-15T00:24:49.560Z"
   },
   {
    "duration": 0,
    "start_time": "2023-02-15T00:24:49.561Z"
   },
   {
    "duration": 0,
    "start_time": "2023-02-15T00:24:49.562Z"
   },
   {
    "duration": 0,
    "start_time": "2023-02-15T00:24:49.563Z"
   },
   {
    "duration": 0,
    "start_time": "2023-02-15T00:24:49.564Z"
   },
   {
    "duration": 0,
    "start_time": "2023-02-15T00:24:49.565Z"
   },
   {
    "duration": 0,
    "start_time": "2023-02-15T00:24:49.566Z"
   },
   {
    "duration": 0,
    "start_time": "2023-02-15T00:24:49.567Z"
   },
   {
    "duration": 0,
    "start_time": "2023-02-15T00:24:49.568Z"
   },
   {
    "duration": 0,
    "start_time": "2023-02-15T00:24:49.569Z"
   },
   {
    "duration": 0,
    "start_time": "2023-02-15T00:24:49.570Z"
   },
   {
    "duration": 0,
    "start_time": "2023-02-15T00:24:49.571Z"
   },
   {
    "duration": 0,
    "start_time": "2023-02-15T00:24:49.572Z"
   },
   {
    "duration": 0,
    "start_time": "2023-02-15T00:24:49.573Z"
   },
   {
    "duration": 0,
    "start_time": "2023-02-15T00:24:49.574Z"
   },
   {
    "duration": 0,
    "start_time": "2023-02-15T00:24:49.575Z"
   },
   {
    "duration": 0,
    "start_time": "2023-02-15T00:24:49.576Z"
   },
   {
    "duration": 0,
    "start_time": "2023-02-15T00:24:49.577Z"
   },
   {
    "duration": 0,
    "start_time": "2023-02-15T00:24:49.578Z"
   },
   {
    "duration": 5107,
    "start_time": "2023-02-15T00:27:14.584Z"
   },
   {
    "duration": 1197,
    "start_time": "2023-02-15T00:27:19.693Z"
   },
   {
    "duration": 36,
    "start_time": "2023-02-15T00:27:20.892Z"
   },
   {
    "duration": 15,
    "start_time": "2023-02-15T00:27:20.930Z"
   },
   {
    "duration": 5,
    "start_time": "2023-02-15T00:27:20.947Z"
   },
   {
    "duration": 39,
    "start_time": "2023-02-15T00:27:20.953Z"
   },
   {
    "duration": 11,
    "start_time": "2023-02-15T00:27:20.993Z"
   },
   {
    "duration": 8,
    "start_time": "2023-02-15T00:27:21.006Z"
   },
   {
    "duration": 41,
    "start_time": "2023-02-15T00:27:21.016Z"
   },
   {
    "duration": 6,
    "start_time": "2023-02-15T00:27:21.059Z"
   },
   {
    "duration": 8,
    "start_time": "2023-02-15T00:27:21.067Z"
   },
   {
    "duration": 206,
    "start_time": "2023-02-15T00:27:21.077Z"
   },
   {
    "duration": 11,
    "start_time": "2023-02-15T00:27:21.285Z"
   },
   {
    "duration": 19,
    "start_time": "2023-02-15T00:27:21.300Z"
   },
   {
    "duration": 922,
    "start_time": "2023-02-15T00:27:21.320Z"
   },
   {
    "duration": 11,
    "start_time": "2023-02-15T00:27:22.244Z"
   },
   {
    "duration": 9,
    "start_time": "2023-02-15T00:27:22.257Z"
   },
   {
    "duration": 15,
    "start_time": "2023-02-15T00:27:22.267Z"
   },
   {
    "duration": 17,
    "start_time": "2023-02-15T00:27:22.284Z"
   },
   {
    "duration": 13,
    "start_time": "2023-02-15T00:27:22.303Z"
   },
   {
    "duration": 18,
    "start_time": "2023-02-15T00:27:22.317Z"
   },
   {
    "duration": 6,
    "start_time": "2023-02-15T00:27:22.336Z"
   },
   {
    "duration": 9,
    "start_time": "2023-02-15T00:27:22.343Z"
   },
   {
    "duration": 11,
    "start_time": "2023-02-15T00:27:22.353Z"
   },
   {
    "duration": 6,
    "start_time": "2023-02-15T00:27:22.365Z"
   },
   {
    "duration": 73,
    "start_time": "2023-02-15T00:27:22.373Z"
   },
   {
    "duration": 27,
    "start_time": "2023-02-15T00:27:22.453Z"
   },
   {
    "duration": 23,
    "start_time": "2023-02-15T00:27:22.482Z"
   },
   {
    "duration": 136,
    "start_time": "2023-02-15T00:27:22.507Z"
   },
   {
    "duration": 0,
    "start_time": "2023-02-15T00:27:22.645Z"
   },
   {
    "duration": 0,
    "start_time": "2023-02-15T00:27:22.646Z"
   },
   {
    "duration": 0,
    "start_time": "2023-02-15T00:27:22.647Z"
   },
   {
    "duration": 0,
    "start_time": "2023-02-15T00:27:22.648Z"
   },
   {
    "duration": 0,
    "start_time": "2023-02-15T00:27:22.649Z"
   },
   {
    "duration": 0,
    "start_time": "2023-02-15T00:27:22.653Z"
   },
   {
    "duration": 0,
    "start_time": "2023-02-15T00:27:22.654Z"
   },
   {
    "duration": 0,
    "start_time": "2023-02-15T00:27:22.655Z"
   },
   {
    "duration": 0,
    "start_time": "2023-02-15T00:27:22.656Z"
   },
   {
    "duration": 0,
    "start_time": "2023-02-15T00:27:22.657Z"
   },
   {
    "duration": 0,
    "start_time": "2023-02-15T00:27:22.658Z"
   },
   {
    "duration": 0,
    "start_time": "2023-02-15T00:27:22.659Z"
   },
   {
    "duration": 0,
    "start_time": "2023-02-15T00:27:22.660Z"
   },
   {
    "duration": 0,
    "start_time": "2023-02-15T00:27:22.661Z"
   },
   {
    "duration": 0,
    "start_time": "2023-02-15T00:27:22.662Z"
   },
   {
    "duration": 0,
    "start_time": "2023-02-15T00:27:22.664Z"
   },
   {
    "duration": 0,
    "start_time": "2023-02-15T00:27:22.665Z"
   },
   {
    "duration": 0,
    "start_time": "2023-02-15T00:27:22.666Z"
   },
   {
    "duration": 0,
    "start_time": "2023-02-15T00:27:22.667Z"
   },
   {
    "duration": 9,
    "start_time": "2023-02-15T00:27:34.982Z"
   },
   {
    "duration": 10,
    "start_time": "2023-02-15T00:28:27.790Z"
   },
   {
    "duration": 11,
    "start_time": "2023-02-15T00:28:30.983Z"
   },
   {
    "duration": 2094,
    "start_time": "2023-02-15T00:28:48.980Z"
   },
   {
    "duration": 1199,
    "start_time": "2023-02-15T00:28:51.076Z"
   },
   {
    "duration": 37,
    "start_time": "2023-02-15T00:28:52.276Z"
   },
   {
    "duration": 16,
    "start_time": "2023-02-15T00:28:52.315Z"
   },
   {
    "duration": 15,
    "start_time": "2023-02-15T00:28:52.332Z"
   },
   {
    "duration": 55,
    "start_time": "2023-02-15T00:28:52.349Z"
   },
   {
    "duration": 11,
    "start_time": "2023-02-15T00:28:52.405Z"
   },
   {
    "duration": 6,
    "start_time": "2023-02-15T00:28:52.418Z"
   },
   {
    "duration": 23,
    "start_time": "2023-02-15T00:28:52.425Z"
   },
   {
    "duration": 4,
    "start_time": "2023-02-15T00:28:52.450Z"
   },
   {
    "duration": 8,
    "start_time": "2023-02-15T00:28:52.455Z"
   },
   {
    "duration": 184,
    "start_time": "2023-02-15T00:28:52.465Z"
   },
   {
    "duration": 11,
    "start_time": "2023-02-15T00:28:52.652Z"
   },
   {
    "duration": 18,
    "start_time": "2023-02-15T00:28:52.664Z"
   },
   {
    "duration": 955,
    "start_time": "2023-02-15T00:28:52.683Z"
   },
   {
    "duration": 13,
    "start_time": "2023-02-15T00:28:53.640Z"
   },
   {
    "duration": 10,
    "start_time": "2023-02-15T00:28:53.655Z"
   },
   {
    "duration": 8,
    "start_time": "2023-02-15T00:28:53.666Z"
   },
   {
    "duration": 7,
    "start_time": "2023-02-15T00:28:53.676Z"
   },
   {
    "duration": 3,
    "start_time": "2023-02-15T00:28:53.685Z"
   },
   {
    "duration": 13,
    "start_time": "2023-02-15T00:28:53.690Z"
   },
   {
    "duration": 3,
    "start_time": "2023-02-15T00:28:53.705Z"
   },
   {
    "duration": 8,
    "start_time": "2023-02-15T00:28:53.710Z"
   },
   {
    "duration": 36,
    "start_time": "2023-02-15T00:28:53.720Z"
   },
   {
    "duration": 7,
    "start_time": "2023-02-15T00:28:53.758Z"
   },
   {
    "duration": 76,
    "start_time": "2023-02-15T00:28:53.767Z"
   },
   {
    "duration": 23,
    "start_time": "2023-02-15T00:28:53.853Z"
   },
   {
    "duration": 17,
    "start_time": "2023-02-15T00:28:53.879Z"
   },
   {
    "duration": 51,
    "start_time": "2023-02-15T00:28:53.898Z"
   },
   {
    "duration": 24,
    "start_time": "2023-02-15T00:28:53.950Z"
   },
   {
    "duration": 112,
    "start_time": "2023-02-15T00:28:53.976Z"
   },
   {
    "duration": 0,
    "start_time": "2023-02-15T00:28:54.090Z"
   },
   {
    "duration": 0,
    "start_time": "2023-02-15T00:28:54.091Z"
   },
   {
    "duration": 0,
    "start_time": "2023-02-15T00:28:54.092Z"
   },
   {
    "duration": 0,
    "start_time": "2023-02-15T00:28:54.093Z"
   },
   {
    "duration": 0,
    "start_time": "2023-02-15T00:28:54.094Z"
   },
   {
    "duration": 0,
    "start_time": "2023-02-15T00:28:54.095Z"
   },
   {
    "duration": 0,
    "start_time": "2023-02-15T00:28:54.096Z"
   },
   {
    "duration": 0,
    "start_time": "2023-02-15T00:28:54.097Z"
   },
   {
    "duration": 0,
    "start_time": "2023-02-15T00:28:54.098Z"
   },
   {
    "duration": 0,
    "start_time": "2023-02-15T00:28:54.099Z"
   },
   {
    "duration": 0,
    "start_time": "2023-02-15T00:28:54.100Z"
   },
   {
    "duration": 0,
    "start_time": "2023-02-15T00:28:54.100Z"
   },
   {
    "duration": 0,
    "start_time": "2023-02-15T00:28:54.101Z"
   },
   {
    "duration": 0,
    "start_time": "2023-02-15T00:28:54.102Z"
   },
   {
    "duration": 0,
    "start_time": "2023-02-15T00:28:54.103Z"
   },
   {
    "duration": 0,
    "start_time": "2023-02-15T00:28:54.104Z"
   },
   {
    "duration": 0,
    "start_time": "2023-02-15T00:28:54.105Z"
   },
   {
    "duration": 2087,
    "start_time": "2023-02-15T00:34:21.797Z"
   },
   {
    "duration": 1187,
    "start_time": "2023-02-15T00:34:23.886Z"
   },
   {
    "duration": 35,
    "start_time": "2023-02-15T00:34:25.075Z"
   },
   {
    "duration": 16,
    "start_time": "2023-02-15T00:34:25.113Z"
   },
   {
    "duration": 5,
    "start_time": "2023-02-15T00:34:25.131Z"
   },
   {
    "duration": 43,
    "start_time": "2023-02-15T00:34:25.138Z"
   },
   {
    "duration": 14,
    "start_time": "2023-02-15T00:34:25.183Z"
   },
   {
    "duration": 8,
    "start_time": "2023-02-15T00:34:25.199Z"
   },
   {
    "duration": 23,
    "start_time": "2023-02-15T00:34:25.208Z"
   },
   {
    "duration": 5,
    "start_time": "2023-02-15T00:34:25.255Z"
   },
   {
    "duration": 10,
    "start_time": "2023-02-15T00:34:25.262Z"
   },
   {
    "duration": 217,
    "start_time": "2023-02-15T00:34:25.274Z"
   },
   {
    "duration": 11,
    "start_time": "2023-02-15T00:34:25.493Z"
   },
   {
    "duration": 18,
    "start_time": "2023-02-15T00:34:25.506Z"
   },
   {
    "duration": 981,
    "start_time": "2023-02-15T00:34:25.525Z"
   },
   {
    "duration": 14,
    "start_time": "2023-02-15T00:34:26.508Z"
   },
   {
    "duration": 57,
    "start_time": "2023-02-15T00:34:26.524Z"
   },
   {
    "duration": 61,
    "start_time": "2023-02-15T00:34:26.583Z"
   },
   {
    "duration": 47,
    "start_time": "2023-02-15T00:34:26.646Z"
   },
   {
    "duration": 35,
    "start_time": "2023-02-15T00:34:26.695Z"
   },
   {
    "duration": 51,
    "start_time": "2023-02-15T00:34:26.732Z"
   },
   {
    "duration": 64,
    "start_time": "2023-02-15T00:34:26.784Z"
   },
   {
    "duration": 97,
    "start_time": "2023-02-15T00:34:26.850Z"
   },
   {
    "duration": 65,
    "start_time": "2023-02-15T00:34:26.949Z"
   },
   {
    "duration": 80,
    "start_time": "2023-02-15T00:34:27.016Z"
   },
   {
    "duration": 80,
    "start_time": "2023-02-15T00:34:27.097Z"
   },
   {
    "duration": 69,
    "start_time": "2023-02-15T00:34:27.179Z"
   },
   {
    "duration": 34,
    "start_time": "2023-02-15T00:34:27.252Z"
   },
   {
    "duration": 89,
    "start_time": "2023-02-15T00:34:27.288Z"
   },
   {
    "duration": 60,
    "start_time": "2023-02-15T00:34:27.380Z"
   },
   {
    "duration": 46,
    "start_time": "2023-02-15T00:34:27.442Z"
   },
   {
    "duration": 175,
    "start_time": "2023-02-15T00:34:27.490Z"
   },
   {
    "duration": 0,
    "start_time": "2023-02-15T00:34:27.666Z"
   },
   {
    "duration": 0,
    "start_time": "2023-02-15T00:34:27.668Z"
   },
   {
    "duration": 0,
    "start_time": "2023-02-15T00:34:27.669Z"
   },
   {
    "duration": 0,
    "start_time": "2023-02-15T00:34:27.670Z"
   },
   {
    "duration": 0,
    "start_time": "2023-02-15T00:34:27.671Z"
   },
   {
    "duration": 0,
    "start_time": "2023-02-15T00:34:27.673Z"
   },
   {
    "duration": 0,
    "start_time": "2023-02-15T00:34:27.674Z"
   },
   {
    "duration": 0,
    "start_time": "2023-02-15T00:34:27.674Z"
   },
   {
    "duration": 0,
    "start_time": "2023-02-15T00:34:27.675Z"
   },
   {
    "duration": 0,
    "start_time": "2023-02-15T00:34:27.676Z"
   },
   {
    "duration": 0,
    "start_time": "2023-02-15T00:34:27.678Z"
   },
   {
    "duration": 0,
    "start_time": "2023-02-15T00:34:27.679Z"
   },
   {
    "duration": 0,
    "start_time": "2023-02-15T00:34:27.680Z"
   },
   {
    "duration": 0,
    "start_time": "2023-02-15T00:34:27.681Z"
   },
   {
    "duration": 0,
    "start_time": "2023-02-15T00:34:27.683Z"
   },
   {
    "duration": 0,
    "start_time": "2023-02-15T00:34:27.683Z"
   },
   {
    "duration": 0,
    "start_time": "2023-02-15T00:34:27.684Z"
   },
   {
    "duration": 30,
    "start_time": "2023-02-15T00:40:43.964Z"
   },
   {
    "duration": 2147,
    "start_time": "2023-02-15T00:42:05.983Z"
   },
   {
    "duration": 1286,
    "start_time": "2023-02-15T00:42:08.133Z"
   },
   {
    "duration": 39,
    "start_time": "2023-02-15T00:42:09.420Z"
   },
   {
    "duration": 18,
    "start_time": "2023-02-15T00:42:09.461Z"
   },
   {
    "duration": 5,
    "start_time": "2023-02-15T00:42:09.481Z"
   },
   {
    "duration": 66,
    "start_time": "2023-02-15T00:42:09.488Z"
   },
   {
    "duration": 13,
    "start_time": "2023-02-15T00:42:09.556Z"
   },
   {
    "duration": 30,
    "start_time": "2023-02-15T00:42:09.571Z"
   },
   {
    "duration": 21,
    "start_time": "2023-02-15T00:42:09.602Z"
   },
   {
    "duration": 5,
    "start_time": "2023-02-15T00:42:09.625Z"
   },
   {
    "duration": 12,
    "start_time": "2023-02-15T00:42:09.631Z"
   },
   {
    "duration": 215,
    "start_time": "2023-02-15T00:42:09.645Z"
   },
   {
    "duration": 11,
    "start_time": "2023-02-15T00:42:09.862Z"
   },
   {
    "duration": 22,
    "start_time": "2023-02-15T00:42:09.875Z"
   },
   {
    "duration": 983,
    "start_time": "2023-02-15T00:42:09.899Z"
   },
   {
    "duration": 13,
    "start_time": "2023-02-15T00:42:10.884Z"
   },
   {
    "duration": 8,
    "start_time": "2023-02-15T00:42:10.899Z"
   },
   {
    "duration": 7,
    "start_time": "2023-02-15T00:42:10.909Z"
   },
   {
    "duration": 9,
    "start_time": "2023-02-15T00:42:10.918Z"
   },
   {
    "duration": 8,
    "start_time": "2023-02-15T00:42:10.929Z"
   },
   {
    "duration": 22,
    "start_time": "2023-02-15T00:42:10.939Z"
   },
   {
    "duration": 13,
    "start_time": "2023-02-15T00:42:10.963Z"
   },
   {
    "duration": 9,
    "start_time": "2023-02-15T00:42:10.977Z"
   },
   {
    "duration": 8,
    "start_time": "2023-02-15T00:42:10.988Z"
   },
   {
    "duration": 9,
    "start_time": "2023-02-15T00:42:10.997Z"
   },
   {
    "duration": 93,
    "start_time": "2023-02-15T00:42:11.008Z"
   },
   {
    "duration": 30,
    "start_time": "2023-02-15T00:42:11.104Z"
   },
   {
    "duration": 31,
    "start_time": "2023-02-15T00:42:11.138Z"
   },
   {
    "duration": 5,
    "start_time": "2023-02-15T00:42:11.171Z"
   },
   {
    "duration": 32,
    "start_time": "2023-02-15T00:42:11.178Z"
   },
   {
    "duration": 18,
    "start_time": "2023-02-15T00:42:11.212Z"
   },
   {
    "duration": 137,
    "start_time": "2023-02-15T00:42:11.232Z"
   },
   {
    "duration": 0,
    "start_time": "2023-02-15T00:42:11.371Z"
   },
   {
    "duration": 0,
    "start_time": "2023-02-15T00:42:11.372Z"
   },
   {
    "duration": 0,
    "start_time": "2023-02-15T00:42:11.373Z"
   },
   {
    "duration": 0,
    "start_time": "2023-02-15T00:42:11.374Z"
   },
   {
    "duration": 0,
    "start_time": "2023-02-15T00:42:11.375Z"
   },
   {
    "duration": 0,
    "start_time": "2023-02-15T00:42:11.376Z"
   },
   {
    "duration": 0,
    "start_time": "2023-02-15T00:42:11.377Z"
   },
   {
    "duration": 0,
    "start_time": "2023-02-15T00:42:11.378Z"
   },
   {
    "duration": 0,
    "start_time": "2023-02-15T00:42:11.379Z"
   },
   {
    "duration": 0,
    "start_time": "2023-02-15T00:42:11.380Z"
   },
   {
    "duration": 0,
    "start_time": "2023-02-15T00:42:11.381Z"
   },
   {
    "duration": 0,
    "start_time": "2023-02-15T00:42:11.382Z"
   },
   {
    "duration": 0,
    "start_time": "2023-02-15T00:42:11.383Z"
   },
   {
    "duration": 0,
    "start_time": "2023-02-15T00:42:11.385Z"
   },
   {
    "duration": 0,
    "start_time": "2023-02-15T00:42:11.386Z"
   },
   {
    "duration": 0,
    "start_time": "2023-02-15T00:42:11.386Z"
   },
   {
    "duration": 0,
    "start_time": "2023-02-15T00:42:11.388Z"
   },
   {
    "duration": 27,
    "start_time": "2023-02-15T00:43:11.640Z"
   },
   {
    "duration": 2101,
    "start_time": "2023-02-15T00:44:15.772Z"
   },
   {
    "duration": 1181,
    "start_time": "2023-02-15T00:44:17.876Z"
   },
   {
    "duration": 36,
    "start_time": "2023-02-15T00:44:19.059Z"
   },
   {
    "duration": 15,
    "start_time": "2023-02-15T00:44:19.097Z"
   },
   {
    "duration": 6,
    "start_time": "2023-02-15T00:44:19.114Z"
   },
   {
    "duration": 62,
    "start_time": "2023-02-15T00:44:19.121Z"
   },
   {
    "duration": 13,
    "start_time": "2023-02-15T00:44:19.185Z"
   },
   {
    "duration": 7,
    "start_time": "2023-02-15T00:44:19.200Z"
   },
   {
    "duration": 17,
    "start_time": "2023-02-15T00:44:19.209Z"
   },
   {
    "duration": 5,
    "start_time": "2023-02-15T00:44:19.254Z"
   },
   {
    "duration": 7,
    "start_time": "2023-02-15T00:44:19.261Z"
   },
   {
    "duration": 205,
    "start_time": "2023-02-15T00:44:19.270Z"
   },
   {
    "duration": 13,
    "start_time": "2023-02-15T00:44:19.477Z"
   },
   {
    "duration": 24,
    "start_time": "2023-02-15T00:44:19.492Z"
   },
   {
    "duration": 996,
    "start_time": "2023-02-15T00:44:19.518Z"
   },
   {
    "duration": 13,
    "start_time": "2023-02-15T00:44:20.516Z"
   },
   {
    "duration": 16,
    "start_time": "2023-02-15T00:44:20.530Z"
   },
   {
    "duration": 8,
    "start_time": "2023-02-15T00:44:20.547Z"
   },
   {
    "duration": 7,
    "start_time": "2023-02-15T00:44:20.557Z"
   },
   {
    "duration": 7,
    "start_time": "2023-02-15T00:44:20.566Z"
   },
   {
    "duration": 15,
    "start_time": "2023-02-15T00:44:20.575Z"
   },
   {
    "duration": 4,
    "start_time": "2023-02-15T00:44:20.592Z"
   },
   {
    "duration": 9,
    "start_time": "2023-02-15T00:44:20.597Z"
   },
   {
    "duration": 8,
    "start_time": "2023-02-15T00:44:20.607Z"
   },
   {
    "duration": 5,
    "start_time": "2023-02-15T00:44:20.616Z"
   },
   {
    "duration": 82,
    "start_time": "2023-02-15T00:44:20.622Z"
   },
   {
    "duration": 25,
    "start_time": "2023-02-15T00:44:20.706Z"
   },
   {
    "duration": 20,
    "start_time": "2023-02-15T00:44:20.734Z"
   },
   {
    "duration": 2,
    "start_time": "2023-02-15T00:44:20.755Z"
   },
   {
    "duration": 25,
    "start_time": "2023-02-15T00:44:20.759Z"
   },
   {
    "duration": 26,
    "start_time": "2023-02-15T00:44:20.786Z"
   },
   {
    "duration": 124,
    "start_time": "2023-02-15T00:44:20.813Z"
   },
   {
    "duration": 0,
    "start_time": "2023-02-15T00:44:20.938Z"
   },
   {
    "duration": 0,
    "start_time": "2023-02-15T00:44:20.939Z"
   },
   {
    "duration": 0,
    "start_time": "2023-02-15T00:44:20.940Z"
   },
   {
    "duration": 0,
    "start_time": "2023-02-15T00:44:20.953Z"
   },
   {
    "duration": 0,
    "start_time": "2023-02-15T00:44:20.954Z"
   },
   {
    "duration": 0,
    "start_time": "2023-02-15T00:44:20.955Z"
   },
   {
    "duration": 0,
    "start_time": "2023-02-15T00:44:20.955Z"
   },
   {
    "duration": 0,
    "start_time": "2023-02-15T00:44:20.956Z"
   },
   {
    "duration": 0,
    "start_time": "2023-02-15T00:44:20.957Z"
   },
   {
    "duration": 0,
    "start_time": "2023-02-15T00:44:20.958Z"
   },
   {
    "duration": 0,
    "start_time": "2023-02-15T00:44:20.959Z"
   },
   {
    "duration": 0,
    "start_time": "2023-02-15T00:44:20.960Z"
   },
   {
    "duration": 0,
    "start_time": "2023-02-15T00:44:20.961Z"
   },
   {
    "duration": 0,
    "start_time": "2023-02-15T00:44:20.962Z"
   },
   {
    "duration": 0,
    "start_time": "2023-02-15T00:44:20.963Z"
   },
   {
    "duration": 0,
    "start_time": "2023-02-15T00:44:20.963Z"
   },
   {
    "duration": 0,
    "start_time": "2023-02-15T00:44:20.964Z"
   },
   {
    "duration": 2113,
    "start_time": "2023-02-15T00:46:32.502Z"
   },
   {
    "duration": 1179,
    "start_time": "2023-02-15T00:46:34.617Z"
   },
   {
    "duration": 37,
    "start_time": "2023-02-15T00:46:35.798Z"
   },
   {
    "duration": 17,
    "start_time": "2023-02-15T00:46:35.837Z"
   },
   {
    "duration": 6,
    "start_time": "2023-02-15T00:46:35.855Z"
   },
   {
    "duration": 41,
    "start_time": "2023-02-15T00:46:35.863Z"
   },
   {
    "duration": 13,
    "start_time": "2023-02-15T00:46:35.906Z"
   },
   {
    "duration": 11,
    "start_time": "2023-02-15T00:46:35.920Z"
   },
   {
    "duration": 34,
    "start_time": "2023-02-15T00:46:35.932Z"
   },
   {
    "duration": 4,
    "start_time": "2023-02-15T00:46:35.969Z"
   },
   {
    "duration": 20,
    "start_time": "2023-02-15T00:46:35.974Z"
   },
   {
    "duration": 196,
    "start_time": "2023-02-15T00:46:35.996Z"
   },
   {
    "duration": 11,
    "start_time": "2023-02-15T00:46:36.194Z"
   },
   {
    "duration": 17,
    "start_time": "2023-02-15T00:46:36.207Z"
   },
   {
    "duration": 916,
    "start_time": "2023-02-15T00:46:36.226Z"
   },
   {
    "duration": 13,
    "start_time": "2023-02-15T00:46:37.144Z"
   },
   {
    "duration": 9,
    "start_time": "2023-02-15T00:46:37.158Z"
   },
   {
    "duration": 8,
    "start_time": "2023-02-15T00:46:37.168Z"
   },
   {
    "duration": 7,
    "start_time": "2023-02-15T00:46:37.178Z"
   },
   {
    "duration": 4,
    "start_time": "2023-02-15T00:46:37.186Z"
   },
   {
    "duration": 11,
    "start_time": "2023-02-15T00:46:37.192Z"
   },
   {
    "duration": 3,
    "start_time": "2023-02-15T00:46:37.205Z"
   },
   {
    "duration": 7,
    "start_time": "2023-02-15T00:46:37.210Z"
   },
   {
    "duration": 37,
    "start_time": "2023-02-15T00:46:37.219Z"
   },
   {
    "duration": 5,
    "start_time": "2023-02-15T00:46:37.258Z"
   },
   {
    "duration": 98,
    "start_time": "2023-02-15T00:46:37.264Z"
   },
   {
    "duration": 24,
    "start_time": "2023-02-15T00:46:37.364Z"
   },
   {
    "duration": 16,
    "start_time": "2023-02-15T00:46:37.391Z"
   },
   {
    "duration": 35,
    "start_time": "2023-02-15T00:46:37.409Z"
   },
   {
    "duration": 37,
    "start_time": "2023-02-15T00:46:37.446Z"
   },
   {
    "duration": 51,
    "start_time": "2023-02-15T00:46:37.484Z"
   },
   {
    "duration": 53,
    "start_time": "2023-02-15T00:46:37.537Z"
   },
   {
    "duration": 11530,
    "start_time": "2023-02-15T00:46:37.591Z"
   },
   {
    "duration": 585072,
    "start_time": "2023-02-15T00:46:49.123Z"
   },
   {
    "duration": 40857,
    "start_time": "2023-02-15T00:56:34.196Z"
   },
   {
    "duration": 294256,
    "start_time": "2023-02-15T00:57:15.055Z"
   },
   {
    "duration": 3,
    "start_time": "2023-02-15T01:02:09.313Z"
   },
   {
    "duration": 24,
    "start_time": "2023-02-15T01:02:09.318Z"
   },
   {
    "duration": 70757,
    "start_time": "2023-02-15T01:02:09.344Z"
   },
   {
    "duration": 4,
    "start_time": "2023-02-15T01:03:20.103Z"
   },
   {
    "duration": 22,
    "start_time": "2023-02-15T01:03:20.109Z"
   },
   {
    "duration": 32534,
    "start_time": "2023-02-15T01:03:20.133Z"
   },
   {
    "duration": 126,
    "start_time": "2023-02-15T01:03:52.669Z"
   },
   {
    "duration": 126,
    "start_time": "2023-02-15T01:03:52.796Z"
   },
   {
    "duration": 118,
    "start_time": "2023-02-15T01:03:52.923Z"
   },
   {
    "duration": 0,
    "start_time": "2023-02-15T01:03:53.043Z"
   },
   {
    "duration": 0,
    "start_time": "2023-02-15T01:03:53.044Z"
   },
   {
    "duration": 0,
    "start_time": "2023-02-15T01:03:53.053Z"
   },
   {
    "duration": 0,
    "start_time": "2023-02-15T01:03:53.055Z"
   },
   {
    "duration": 2211,
    "start_time": "2023-02-15T01:07:48.380Z"
   },
   {
    "duration": 1207,
    "start_time": "2023-02-15T01:07:50.593Z"
   },
   {
    "duration": 37,
    "start_time": "2023-02-15T01:07:51.802Z"
   },
   {
    "duration": 15,
    "start_time": "2023-02-15T01:07:51.842Z"
   },
   {
    "duration": 4,
    "start_time": "2023-02-15T01:07:51.859Z"
   },
   {
    "duration": 45,
    "start_time": "2023-02-15T01:07:51.865Z"
   },
   {
    "duration": 11,
    "start_time": "2023-02-15T01:07:51.911Z"
   },
   {
    "duration": 10,
    "start_time": "2023-02-15T01:07:51.924Z"
   },
   {
    "duration": 29,
    "start_time": "2023-02-15T01:07:51.936Z"
   },
   {
    "duration": 4,
    "start_time": "2023-02-15T01:07:51.967Z"
   },
   {
    "duration": 17,
    "start_time": "2023-02-15T01:07:51.972Z"
   },
   {
    "duration": 206,
    "start_time": "2023-02-15T01:07:51.991Z"
   },
   {
    "duration": 11,
    "start_time": "2023-02-15T01:07:52.198Z"
   },
   {
    "duration": 18,
    "start_time": "2023-02-15T01:07:52.211Z"
   },
   {
    "duration": 952,
    "start_time": "2023-02-15T01:07:52.230Z"
   },
   {
    "duration": 13,
    "start_time": "2023-02-15T01:07:53.184Z"
   },
   {
    "duration": 14,
    "start_time": "2023-02-15T01:07:53.199Z"
   },
   {
    "duration": 11,
    "start_time": "2023-02-15T01:07:53.215Z"
   },
   {
    "duration": 19,
    "start_time": "2023-02-15T01:07:53.227Z"
   },
   {
    "duration": 5,
    "start_time": "2023-02-15T01:07:53.247Z"
   },
   {
    "duration": 16,
    "start_time": "2023-02-15T01:07:53.253Z"
   },
   {
    "duration": 9,
    "start_time": "2023-02-15T01:07:53.270Z"
   },
   {
    "duration": 9,
    "start_time": "2023-02-15T01:07:53.281Z"
   },
   {
    "duration": 8,
    "start_time": "2023-02-15T01:07:53.291Z"
   },
   {
    "duration": 10,
    "start_time": "2023-02-15T01:07:53.301Z"
   },
   {
    "duration": 79,
    "start_time": "2023-02-15T01:07:53.313Z"
   },
   {
    "duration": 46,
    "start_time": "2023-02-15T01:07:53.393Z"
   },
   {
    "duration": 34,
    "start_time": "2023-02-15T01:07:53.443Z"
   },
   {
    "duration": 25,
    "start_time": "2023-02-15T01:07:53.479Z"
   },
   {
    "duration": 11,
    "start_time": "2023-02-15T01:07:53.505Z"
   },
   {
    "duration": 15,
    "start_time": "2023-02-15T01:07:53.518Z"
   },
   {
    "duration": 8,
    "start_time": "2023-02-15T01:07:53.535Z"
   },
   {
    "duration": 11369,
    "start_time": "2023-02-15T01:07:53.544Z"
   },
   {
    "duration": 578945,
    "start_time": "2023-02-15T01:08:04.914Z"
   },
   {
    "duration": 50098,
    "start_time": "2023-02-15T01:17:43.861Z"
   },
   {
    "duration": 572018,
    "start_time": "2023-02-15T01:18:33.961Z"
   },
   {
    "duration": 5,
    "start_time": "2023-02-15T01:28:05.981Z"
   },
   {
    "duration": 13,
    "start_time": "2023-02-15T01:28:05.988Z"
   },
   {
    "duration": 785944,
    "start_time": "2023-02-15T01:28:06.003Z"
   },
   {
    "duration": 4,
    "start_time": "2023-02-15T01:41:11.952Z"
   },
   {
    "duration": 23,
    "start_time": "2023-02-15T01:41:11.958Z"
   },
   {
    "duration": 52,
    "start_time": "2023-02-15T01:41:11.983Z"
   },
   {
    "duration": 0,
    "start_time": "2023-02-15T01:41:12.037Z"
   },
   {
    "duration": 0,
    "start_time": "2023-02-15T01:41:12.038Z"
   },
   {
    "duration": 0,
    "start_time": "2023-02-15T01:41:12.039Z"
   },
   {
    "duration": 0,
    "start_time": "2023-02-15T01:41:12.040Z"
   },
   {
    "duration": 0,
    "start_time": "2023-02-15T01:41:12.041Z"
   },
   {
    "duration": 0,
    "start_time": "2023-02-15T01:41:12.042Z"
   },
   {
    "duration": 0,
    "start_time": "2023-02-15T01:41:12.043Z"
   },
   {
    "duration": 45,
    "start_time": "2023-02-15T01:59:28.472Z"
   },
   {
    "duration": 333968,
    "start_time": "2023-02-15T01:59:37.449Z"
   },
   {
    "duration": 333753,
    "start_time": "2023-02-15T02:06:16.368Z"
   },
   {
    "duration": 11,
    "start_time": "2023-02-15T02:16:45.067Z"
   },
   {
    "duration": 2089,
    "start_time": "2023-02-15T02:20:06.111Z"
   },
   {
    "duration": 1184,
    "start_time": "2023-02-15T02:20:08.202Z"
   },
   {
    "duration": 38,
    "start_time": "2023-02-15T02:20:09.388Z"
   },
   {
    "duration": 16,
    "start_time": "2023-02-15T02:20:09.427Z"
   },
   {
    "duration": 5,
    "start_time": "2023-02-15T02:20:09.444Z"
   },
   {
    "duration": 40,
    "start_time": "2023-02-15T02:20:09.453Z"
   },
   {
    "duration": 13,
    "start_time": "2023-02-15T02:20:09.495Z"
   },
   {
    "duration": 7,
    "start_time": "2023-02-15T02:20:09.509Z"
   },
   {
    "duration": 38,
    "start_time": "2023-02-15T02:20:09.518Z"
   },
   {
    "duration": 5,
    "start_time": "2023-02-15T02:20:09.558Z"
   },
   {
    "duration": 9,
    "start_time": "2023-02-15T02:20:09.564Z"
   },
   {
    "duration": 219,
    "start_time": "2023-02-15T02:20:09.574Z"
   },
   {
    "duration": 12,
    "start_time": "2023-02-15T02:20:09.794Z"
   },
   {
    "duration": 22,
    "start_time": "2023-02-15T02:20:09.808Z"
   },
   {
    "duration": 950,
    "start_time": "2023-02-15T02:20:09.832Z"
   },
   {
    "duration": 14,
    "start_time": "2023-02-15T02:20:10.784Z"
   },
   {
    "duration": 8,
    "start_time": "2023-02-15T02:20:10.800Z"
   },
   {
    "duration": 10,
    "start_time": "2023-02-15T02:20:10.809Z"
   },
   {
    "duration": 7,
    "start_time": "2023-02-15T02:20:10.820Z"
   },
   {
    "duration": 16,
    "start_time": "2023-02-15T02:20:10.829Z"
   },
   {
    "duration": 12,
    "start_time": "2023-02-15T02:20:10.847Z"
   },
   {
    "duration": 4,
    "start_time": "2023-02-15T02:20:10.861Z"
   },
   {
    "duration": 20,
    "start_time": "2023-02-15T02:20:10.866Z"
   },
   {
    "duration": 13,
    "start_time": "2023-02-15T02:20:10.887Z"
   },
   {
    "duration": 7,
    "start_time": "2023-02-15T02:20:10.901Z"
   },
   {
    "duration": 77,
    "start_time": "2023-02-15T02:20:10.909Z"
   },
   {
    "duration": 25,
    "start_time": "2023-02-15T02:20:10.987Z"
   },
   {
    "duration": 17,
    "start_time": "2023-02-15T02:20:11.016Z"
   },
   {
    "duration": 20,
    "start_time": "2023-02-15T02:20:11.053Z"
   },
   {
    "duration": 12,
    "start_time": "2023-02-15T02:20:11.074Z"
   },
   {
    "duration": 4,
    "start_time": "2023-02-15T02:20:11.088Z"
   },
   {
    "duration": 6,
    "start_time": "2023-02-15T02:20:11.094Z"
   },
   {
    "duration": 11510,
    "start_time": "2023-02-15T02:20:11.102Z"
   },
   {
    "duration": 583384,
    "start_time": "2023-02-15T02:20:22.614Z"
   },
   {
    "duration": 44954,
    "start_time": "2023-02-15T02:30:06.000Z"
   },
   {
    "duration": 573430,
    "start_time": "2023-02-15T02:30:50.955Z"
   },
   {
    "duration": 4,
    "start_time": "2023-02-15T02:40:24.386Z"
   },
   {
    "duration": 16,
    "start_time": "2023-02-15T02:40:24.391Z"
   },
   {
    "duration": 325,
    "start_time": "2023-02-15T02:40:24.409Z"
   },
   {
    "duration": 3,
    "start_time": "2023-02-15T02:40:24.736Z"
   },
   {
    "duration": 14,
    "start_time": "2023-02-15T02:40:24.741Z"
   },
   {
    "duration": 187,
    "start_time": "2023-02-15T02:40:24.756Z"
   },
   {
    "duration": 11,
    "start_time": "2023-02-15T02:40:24.944Z"
   },
   {
    "duration": 0,
    "start_time": "2023-02-15T02:40:24.956Z"
   },
   {
    "duration": 0,
    "start_time": "2023-02-15T02:40:24.957Z"
   },
   {
    "duration": 0,
    "start_time": "2023-02-15T02:40:24.958Z"
   },
   {
    "duration": 0,
    "start_time": "2023-02-15T02:40:24.959Z"
   },
   {
    "duration": 1,
    "start_time": "2023-02-15T02:40:24.959Z"
   },
   {
    "duration": 0,
    "start_time": "2023-02-15T02:40:24.960Z"
   },
   {
    "duration": 209,
    "start_time": "2023-02-15T02:41:46.844Z"
   },
   {
    "duration": 792399,
    "start_time": "2023-02-15T02:42:09.216Z"
   },
   {
    "duration": 333659,
    "start_time": "2023-02-15T02:56:48.889Z"
   },
   {
    "duration": 233,
    "start_time": "2023-02-15T03:05:12.636Z"
   },
   {
    "duration": 200,
    "start_time": "2023-02-15T03:05:15.820Z"
   },
   {
    "duration": 11,
    "start_time": "2023-02-15T03:06:19.123Z"
   },
   {
    "duration": 17,
    "start_time": "2023-02-15T03:06:39.496Z"
   },
   {
    "duration": 16,
    "start_time": "2023-02-15T03:07:57.097Z"
   },
   {
    "duration": 11,
    "start_time": "2023-02-15T03:08:03.472Z"
   },
   {
    "duration": 6,
    "start_time": "2023-02-15T03:08:19.117Z"
   },
   {
    "duration": 5,
    "start_time": "2023-02-15T03:08:22.477Z"
   },
   {
    "duration": 110,
    "start_time": "2023-02-15T03:08:32.506Z"
   },
   {
    "duration": 218,
    "start_time": "2023-02-15T03:09:03.422Z"
   },
   {
    "duration": 123,
    "start_time": "2023-02-15T03:09:56.267Z"
   },
   {
    "duration": 208,
    "start_time": "2023-02-15T03:10:44.074Z"
   },
   {
    "duration": 243,
    "start_time": "2023-02-15T03:11:54.460Z"
   },
   {
    "duration": 17,
    "start_time": "2023-02-15T03:15:14.817Z"
   },
   {
    "duration": 5,
    "start_time": "2023-02-15T03:15:24.045Z"
   },
   {
    "duration": 192,
    "start_time": "2023-02-15T03:15:29.783Z"
   },
   {
    "duration": 221,
    "start_time": "2023-02-15T03:15:33.187Z"
   },
   {
    "duration": 238,
    "start_time": "2023-02-15T03:15:37.383Z"
   },
   {
    "duration": 2179,
    "start_time": "2023-02-15T10:01:34.438Z"
   },
   {
    "duration": 1242,
    "start_time": "2023-02-15T10:01:36.619Z"
   },
   {
    "duration": 37,
    "start_time": "2023-02-15T10:01:37.862Z"
   },
   {
    "duration": 22,
    "start_time": "2023-02-15T10:01:37.901Z"
   },
   {
    "duration": 6,
    "start_time": "2023-02-15T10:01:37.924Z"
   },
   {
    "duration": 66,
    "start_time": "2023-02-15T10:01:37.932Z"
   },
   {
    "duration": 15,
    "start_time": "2023-02-15T10:01:38.000Z"
   },
   {
    "duration": 9,
    "start_time": "2023-02-15T10:01:38.016Z"
   },
   {
    "duration": 18,
    "start_time": "2023-02-15T10:01:38.027Z"
   },
   {
    "duration": 5,
    "start_time": "2023-02-15T10:01:38.048Z"
   },
   {
    "duration": 10,
    "start_time": "2023-02-15T10:01:38.054Z"
   },
   {
    "duration": 192,
    "start_time": "2023-02-15T10:01:38.094Z"
   },
   {
    "duration": 10,
    "start_time": "2023-02-15T10:01:38.288Z"
   },
   {
    "duration": 17,
    "start_time": "2023-02-15T10:01:38.300Z"
   },
   {
    "duration": 998,
    "start_time": "2023-02-15T10:01:38.319Z"
   },
   {
    "duration": 13,
    "start_time": "2023-02-15T10:01:39.319Z"
   },
   {
    "duration": 12,
    "start_time": "2023-02-15T10:01:39.334Z"
   },
   {
    "duration": 16,
    "start_time": "2023-02-15T10:01:39.348Z"
   },
   {
    "duration": 8,
    "start_time": "2023-02-15T10:01:39.366Z"
   },
   {
    "duration": 5,
    "start_time": "2023-02-15T10:01:39.375Z"
   },
   {
    "duration": 17,
    "start_time": "2023-02-15T10:01:39.382Z"
   },
   {
    "duration": 5,
    "start_time": "2023-02-15T10:01:39.401Z"
   },
   {
    "duration": 10,
    "start_time": "2023-02-15T10:01:39.408Z"
   },
   {
    "duration": 7,
    "start_time": "2023-02-15T10:01:39.419Z"
   },
   {
    "duration": 6,
    "start_time": "2023-02-15T10:01:39.428Z"
   },
   {
    "duration": 87,
    "start_time": "2023-02-15T10:01:39.436Z"
   },
   {
    "duration": 26,
    "start_time": "2023-02-15T10:01:39.525Z"
   },
   {
    "duration": 16,
    "start_time": "2023-02-15T10:01:39.555Z"
   },
   {
    "duration": 35,
    "start_time": "2023-02-15T10:01:39.573Z"
   },
   {
    "duration": 11,
    "start_time": "2023-02-15T10:01:39.610Z"
   },
   {
    "duration": 5,
    "start_time": "2023-02-15T10:01:39.622Z"
   },
   {
    "duration": 8,
    "start_time": "2023-02-15T10:01:39.628Z"
   },
   {
    "duration": 11492,
    "start_time": "2023-02-15T10:01:39.638Z"
   },
   {
    "duration": 585691,
    "start_time": "2023-02-15T10:01:51.132Z"
   },
   {
    "duration": 47973,
    "start_time": "2023-02-15T10:11:36.825Z"
   },
   {
    "duration": 577647,
    "start_time": "2023-02-15T10:12:24.800Z"
   },
   {
    "duration": 4,
    "start_time": "2023-02-15T10:22:02.449Z"
   },
   {
    "duration": 16,
    "start_time": "2023-02-15T10:22:02.454Z"
   },
   {
    "duration": 791587,
    "start_time": "2023-02-15T10:22:02.472Z"
   },
   {
    "duration": 5,
    "start_time": "2023-02-15T10:35:14.061Z"
   },
   {
    "duration": 26,
    "start_time": "2023-02-15T10:35:14.068Z"
   },
   {
    "duration": 330673,
    "start_time": "2023-02-15T10:35:14.096Z"
   },
   {
    "duration": 180,
    "start_time": "2023-02-15T10:40:44.770Z"
   },
   {
    "duration": 221,
    "start_time": "2023-02-15T10:40:44.952Z"
   },
   {
    "duration": 4,
    "start_time": "2023-02-15T10:40:45.175Z"
   },
   {
    "duration": 82,
    "start_time": "2023-02-15T10:40:45.181Z"
   },
   {
    "duration": 182,
    "start_time": "2023-02-15T10:40:45.265Z"
   },
   {
    "duration": 267,
    "start_time": "2023-02-15T10:40:45.448Z"
   },
   {
    "duration": 74,
    "start_time": "2023-02-15T11:06:30.857Z"
   },
   {
    "duration": 83,
    "start_time": "2023-02-15T11:07:08.818Z"
   },
   {
    "duration": 7375,
    "start_time": "2023-02-15T12:19:00.052Z"
   },
   {
    "duration": 1400,
    "start_time": "2023-02-15T12:19:07.429Z"
   },
   {
    "duration": 185,
    "start_time": "2023-02-15T12:19:08.831Z"
   },
   {
    "duration": 20,
    "start_time": "2023-02-15T12:19:09.018Z"
   },
   {
    "duration": 6,
    "start_time": "2023-02-15T12:19:09.040Z"
   },
   {
    "duration": 45,
    "start_time": "2023-02-15T12:19:09.048Z"
   },
   {
    "duration": 11,
    "start_time": "2023-02-15T12:19:09.095Z"
   },
   {
    "duration": 6,
    "start_time": "2023-02-15T12:19:09.108Z"
   },
   {
    "duration": 22,
    "start_time": "2023-02-15T12:19:09.115Z"
   },
   {
    "duration": 4,
    "start_time": "2023-02-15T12:19:09.140Z"
   },
   {
    "duration": 33,
    "start_time": "2023-02-15T12:19:09.145Z"
   },
   {
    "duration": 206,
    "start_time": "2023-02-15T12:19:09.179Z"
   },
   {
    "duration": 14,
    "start_time": "2023-02-15T12:19:09.387Z"
   },
   {
    "duration": 19,
    "start_time": "2023-02-15T12:19:09.402Z"
   },
   {
    "duration": 1066,
    "start_time": "2023-02-15T12:19:09.422Z"
   },
   {
    "duration": 13,
    "start_time": "2023-02-15T12:19:10.490Z"
   },
   {
    "duration": 8,
    "start_time": "2023-02-15T12:19:10.505Z"
   },
   {
    "duration": 8,
    "start_time": "2023-02-15T12:19:10.515Z"
   },
   {
    "duration": 7,
    "start_time": "2023-02-15T12:19:10.525Z"
   },
   {
    "duration": 3,
    "start_time": "2023-02-15T12:19:10.534Z"
   },
   {
    "duration": 13,
    "start_time": "2023-02-15T12:19:10.539Z"
   },
   {
    "duration": 16,
    "start_time": "2023-02-15T12:19:10.554Z"
   },
   {
    "duration": 16,
    "start_time": "2023-02-15T12:19:10.571Z"
   },
   {
    "duration": 7,
    "start_time": "2023-02-15T12:19:10.589Z"
   },
   {
    "duration": 5,
    "start_time": "2023-02-15T12:19:10.598Z"
   },
   {
    "duration": 72,
    "start_time": "2023-02-15T12:19:10.605Z"
   },
   {
    "duration": 37,
    "start_time": "2023-02-15T12:19:10.678Z"
   },
   {
    "duration": 19,
    "start_time": "2023-02-15T12:19:10.718Z"
   },
   {
    "duration": 44,
    "start_time": "2023-02-15T12:19:10.738Z"
   },
   {
    "duration": 12,
    "start_time": "2023-02-15T12:19:10.784Z"
   },
   {
    "duration": 5,
    "start_time": "2023-02-15T12:19:10.798Z"
   },
   {
    "duration": 8,
    "start_time": "2023-02-15T12:19:10.805Z"
   },
   {
    "duration": 12465,
    "start_time": "2023-02-15T12:19:10.814Z"
   },
   {
    "duration": 638291,
    "start_time": "2023-02-15T12:19:23.284Z"
   },
   {
    "duration": 44894,
    "start_time": "2023-02-15T12:30:01.578Z"
   },
   {
    "duration": 643069,
    "start_time": "2023-02-15T12:30:46.480Z"
   },
   {
    "duration": 4,
    "start_time": "2023-02-15T12:41:29.551Z"
   },
   {
    "duration": 21,
    "start_time": "2023-02-15T12:41:29.571Z"
   },
   {
    "duration": 893084,
    "start_time": "2023-02-15T12:41:29.593Z"
   },
   {
    "duration": 8,
    "start_time": "2023-02-15T12:56:22.679Z"
   },
   {
    "duration": 16,
    "start_time": "2023-02-15T12:56:22.691Z"
   },
   {
    "duration": 385443,
    "start_time": "2023-02-15T12:56:22.709Z"
   },
   {
    "duration": 185,
    "start_time": "2023-02-15T13:02:48.153Z"
   },
   {
    "duration": 190,
    "start_time": "2023-02-15T13:02:48.339Z"
   },
   {
    "duration": 6,
    "start_time": "2023-02-15T13:02:48.531Z"
   },
   {
    "duration": 67,
    "start_time": "2023-02-15T13:02:48.539Z"
   },
   {
    "duration": 189,
    "start_time": "2023-02-15T13:02:48.608Z"
   },
   {
    "duration": 270,
    "start_time": "2023-02-15T13:02:48.799Z"
   },
   {
    "duration": 7121,
    "start_time": "2023-02-16T11:47:48.278Z"
   },
   {
    "duration": 1277,
    "start_time": "2023-02-16T11:47:55.402Z"
   },
   {
    "duration": 80,
    "start_time": "2023-02-16T11:47:56.681Z"
   },
   {
    "duration": 18,
    "start_time": "2023-02-16T11:47:56.763Z"
   },
   {
    "duration": 5,
    "start_time": "2023-02-16T11:47:56.783Z"
   },
   {
    "duration": 47,
    "start_time": "2023-02-16T11:47:56.790Z"
   },
   {
    "duration": 16,
    "start_time": "2023-02-16T11:47:56.839Z"
   },
   {
    "duration": 9,
    "start_time": "2023-02-16T11:47:56.857Z"
   },
   {
    "duration": 39,
    "start_time": "2023-02-16T11:47:56.868Z"
   },
   {
    "duration": 5,
    "start_time": "2023-02-16T11:47:56.910Z"
   },
   {
    "duration": 17,
    "start_time": "2023-02-16T11:47:56.917Z"
   },
   {
    "duration": 230,
    "start_time": "2023-02-16T11:47:56.936Z"
   },
   {
    "duration": 12,
    "start_time": "2023-02-16T11:47:57.168Z"
   },
   {
    "duration": 39,
    "start_time": "2023-02-16T11:47:57.182Z"
   },
   {
    "duration": 1046,
    "start_time": "2023-02-16T11:47:57.223Z"
   },
   {
    "duration": 14,
    "start_time": "2023-02-16T11:47:58.270Z"
   },
   {
    "duration": 13,
    "start_time": "2023-02-16T11:47:58.286Z"
   },
   {
    "duration": 10,
    "start_time": "2023-02-16T11:47:58.300Z"
   },
   {
    "duration": 7,
    "start_time": "2023-02-16T11:47:58.312Z"
   },
   {
    "duration": 3,
    "start_time": "2023-02-16T11:47:58.321Z"
   },
   {
    "duration": 13,
    "start_time": "2023-02-16T11:47:58.326Z"
   },
   {
    "duration": 6,
    "start_time": "2023-02-16T11:47:58.340Z"
   },
   {
    "duration": 9,
    "start_time": "2023-02-16T11:47:58.348Z"
   },
   {
    "duration": 8,
    "start_time": "2023-02-16T11:47:58.358Z"
   },
   {
    "duration": 36,
    "start_time": "2023-02-16T11:47:58.367Z"
   },
   {
    "duration": 77,
    "start_time": "2023-02-16T11:47:58.405Z"
   },
   {
    "duration": 42,
    "start_time": "2023-02-16T11:47:58.484Z"
   },
   {
    "duration": 18,
    "start_time": "2023-02-16T11:47:58.529Z"
   },
   {
    "duration": 18,
    "start_time": "2023-02-16T11:47:58.548Z"
   },
   {
    "duration": 11,
    "start_time": "2023-02-16T11:47:58.568Z"
   },
   {
    "duration": 2,
    "start_time": "2023-02-16T11:47:58.604Z"
   },
   {
    "duration": 8,
    "start_time": "2023-02-16T11:47:58.607Z"
   },
   {
    "duration": 12346,
    "start_time": "2023-02-16T11:47:58.617Z"
   },
   {
    "duration": 649271,
    "start_time": "2023-02-16T11:48:10.965Z"
   },
   {
    "duration": 85671,
    "start_time": "2023-02-16T11:59:00.238Z"
   },
   {
    "duration": 679377,
    "start_time": "2023-02-16T12:00:25.911Z"
   },
   {
    "duration": 18,
    "start_time": "2023-02-16T12:11:45.290Z"
   },
   {
    "duration": 13,
    "start_time": "2023-02-16T12:11:45.311Z"
   },
   {
    "duration": 927804,
    "start_time": "2023-02-16T12:11:45.326Z"
   },
   {
    "duration": 5,
    "start_time": "2023-02-16T12:27:13.132Z"
   },
   {
    "duration": 13,
    "start_time": "2023-02-16T12:27:13.139Z"
   },
   {
    "duration": 388102,
    "start_time": "2023-02-16T12:27:13.154Z"
   },
   {
    "duration": 190,
    "start_time": "2023-02-16T12:33:41.257Z"
   },
   {
    "duration": 192,
    "start_time": "2023-02-16T12:33:41.449Z"
   },
   {
    "duration": 5,
    "start_time": "2023-02-16T12:33:41.642Z"
   },
   {
    "duration": 76,
    "start_time": "2023-02-16T12:33:41.649Z"
   },
   {
    "duration": 187,
    "start_time": "2023-02-16T12:33:41.727Z"
   },
   {
    "duration": 371,
    "start_time": "2023-02-16T12:33:41.916Z"
   }
  ],
  "kernelspec": {
   "display_name": "Python 3 (ipykernel)",
   "language": "python",
   "name": "python3"
  },
  "language_info": {
   "codemirror_mode": {
    "name": "ipython",
    "version": 3
   },
   "file_extension": ".py",
   "mimetype": "text/x-python",
   "name": "python",
   "nbconvert_exporter": "python",
   "pygments_lexer": "ipython3",
   "version": "3.9.5"
  },
  "toc": {
   "base_numbering": 1,
   "nav_menu": {},
   "number_sections": true,
   "sideBar": true,
   "skip_h1_title": true,
   "title_cell": "Содержание",
   "title_sidebar": "Contents",
   "toc_cell": true,
   "toc_position": {},
   "toc_section_display": true,
   "toc_window_display": false
  }
 },
 "nbformat": 4,
 "nbformat_minor": 2
}
